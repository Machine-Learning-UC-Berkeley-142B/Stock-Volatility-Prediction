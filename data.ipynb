{
 "cells": [
  {
   "cell_type": "markdown",
   "metadata": {},
   "source": [
    "# Retrieving Data"
   ]
  },
  {
   "cell_type": "code",
   "execution_count": 1,
   "metadata": {},
   "outputs": [],
   "source": [
    "# Install required packages in the folllowing few cells"
   ]
  },
  {
   "cell_type": "code",
   "execution_count": 2,
   "metadata": {},
   "outputs": [],
   "source": [
    "%%capture\n",
    " # capture hides output\n",
    "!pip install yfinance pandas numpy scikit-learn ta pandas_ta xgboost"
   ]
  },
  {
   "cell_type": "code",
   "execution_count": 3,
   "metadata": {},
   "outputs": [],
   "source": [
    "%%capture\n",
    "# hidden output\n",
    "!pip install alpha_vantage"
   ]
  },
  {
   "cell_type": "code",
   "execution_count": 4,
   "metadata": {},
   "outputs": [],
   "source": [
    "%%capture\n",
    "# hidden output, !pip install is required to run just on a machine\n",
    "!pip install requests pandas_datareader\n"
   ]
  },
  {
   "cell_type": "markdown",
   "metadata": {},
   "source": [
    "#### IMPORTS"
   ]
  },
  {
   "cell_type": "code",
   "execution_count": 10,
   "metadata": {},
   "outputs": [],
   "source": [
    "import numpy as np\n",
    "import pandas as pd\n",
    "from alpha_vantage.timeseries import TimeSeries\n",
    "import matplotlib.pyplot as plt\n",
    "from datetime import date\n",
    "from datetime import datetime\n",
    "from datetime import time\n",
    "from datetime import timedelta\n",
    "from pandas.tseries.offsets import BDay\n",
    "import matplotlib.lines as mlines\n",
    "from dotenv import load_dotenv\n",
    "import os\n",
    "import matplotlib.patches as patches\n",
    "import seaborn as sns\n",
    "import warnings\n",
    "import requests\n",
    "import json\n",
    "import pandas_ta as ta\n",
    "from ta import trend, volatility, momentum, volume\n",
    "import yfinance as yf\n",
    "import time\n",
    "\n",
    "from numpy import array\n",
    "from importlib import reload # to reload modules if we made changes to them without restarting kernel\n"
   ]
  },
  {
   "cell_type": "markdown",
   "metadata": {},
   "source": [
    "# Source Data"
   ]
  },
  {
   "cell_type": "code",
   "execution_count": 6,
   "metadata": {},
   "outputs": [
    {
     "name": "stdout",
     "output_type": "stream",
     "text": [
      "Fetching sector for MSFT\n",
      "Fetching sector for AAPL\n",
      "Fetching sector for NVDA\n",
      "Fetching sector for AMZN\n",
      "Fetching sector for GOOGL\n",
      "Fetching sector for META\n",
      "Fetching sector for GOOG\n",
      "Fetching sector for BRK.B\n",
      "Fetching sector for AVGO\n",
      "Fetching sector for LLY\n",
      "Fetching sector for JPM\n",
      "Fetching sector for XOM\n",
      "Fetching sector for TSLA\n",
      "Fetching sector for UNH\n",
      "Fetching sector for V\n",
      "Fetching sector for MA\n",
      "Fetching sector for PG\n",
      "Fetching sector for JNJ\n",
      "Fetching sector for HD\n",
      "Fetching sector for MRK\n",
      "Fetching sector for COST\n",
      "Fetching sector for CVX\n",
      "Fetching sector for ABBV\n",
      "Fetching sector for CRM\n",
      "Fetching sector for BAC\n",
      "Fetching sector for WMT\n",
      "Fetching sector for AMD\n",
      "Fetching sector for NFLX\n",
      "Fetching sector for PEP\n",
      "Fetching sector for KO\n",
      "Fetching sector for TMO\n",
      "Fetching sector for ADBE\n",
      "Fetching sector for WFC\n",
      "Fetching sector for LIN\n",
      "Fetching sector for DIS\n",
      "Fetching sector for MCD\n",
      "Fetching sector for CSCO\n",
      "Fetching sector for ACN\n",
      "Fetching sector for ORCL\n",
      "Fetching sector for ABT\n",
      "Fetching sector for QCOM\n",
      "Fetching sector for INTU\n",
      "Fetching sector for GE\n",
      "Fetching sector for CAT\n",
      "Fetching sector for AMAT\n",
      "Fetching sector for VZ\n",
      "Fetching sector for DHR\n",
      "Fetching sector for TXN\n",
      "Fetching sector for COP\n",
      "Fetching sector for IBM\n",
      "Fetching sector for CMCSA\n",
      "Fetching sector for NOW\n",
      "Fetching sector for UNP\n",
      "Fetching sector for PM\n",
      "Fetching sector for AMGN\n",
      "Fetching sector for PFE\n",
      "Fetching sector for UBER\n",
      "Fetching sector for GS\n",
      "Fetching sector for NEE\n",
      "Fetching sector for INTC\n",
      "Fetching sector for AXP\n",
      "Fetching sector for RTX\n",
      "Fetching sector for SPGI\n",
      "Fetching sector for LOW\n",
      "Fetching sector for ISRG\n",
      "Fetching sector for ETN\n",
      "Fetching sector for HON\n",
      "Fetching sector for MU\n",
      "Fetching sector for ELV\n",
      "Fetching sector for BKNG\n",
      "Fetching sector for PGR\n",
      "Fetching sector for LRCX\n",
      "Fetching sector for T\n",
      "Fetching sector for C\n",
      "Fetching sector for MS\n",
      "Fetching sector for NKE\n",
      "Fetching sector for SYK\n",
      "Fetching sector for SCHW\n",
      "Fetching sector for TJX\n",
      "Fetching sector for BSX\n",
      "Fetching sector for UPS\n",
      "Fetching sector for BLK\n",
      "Fetching sector for MDT\n",
      "Fetching sector for CI\n",
      "Fetching sector for DE\n",
      "Fetching sector for VRTX\n",
      "Fetching sector for ADI\n",
      "Fetching sector for SBUX\n",
      "Fetching sector for ADP\n",
      "Fetching sector for CB\n",
      "Fetching sector for LMT\n",
      "Fetching sector for MMC\n",
      "Fetching sector for PLD\n",
      "Fetching sector for KLAC\n",
      "Fetching sector for BA\n",
      "Fetching sector for MDLZ\n",
      "Fetching sector for FI\n",
      "Fetching sector for REGN\n",
      "Fetching sector for PANW\n",
      "Fetching sector for BMY\n",
      "Fetching sector for BX\n",
      "Fetching sector for CMG\n",
      "Fetching sector for TMUS\n",
      "Fetching sector for CVS\n",
      "Fetching sector for SNPS\n",
      "Fetching sector for GILD\n",
      "Fetching sector for AMT\n",
      "Fetching sector for SO\n",
      "Fetching sector for EOG\n",
      "Fetching sector for WM\n",
      "Fetching sector for CDNS\n",
      "Fetching sector for MO\n",
      "Fetching sector for TGT\n",
      "Fetching sector for CME\n",
      "Fetching sector for ICE\n",
      "Fetching sector for DUK\n",
      "Fetching sector for CL\n",
      "Fetching sector for MPC\n",
      "Fetching sector for ZTS\n",
      "Fetching sector for FCX\n",
      "Fetching sector for SHW\n",
      "Fetching sector for APH\n",
      "Fetching sector for MCK\n",
      "Fetching sector for ABNB\n",
      "Fetching sector for PH\n",
      "Fetching sector for PYPL\n",
      "Fetching sector for SLB\n",
      "Fetching sector for TDG\n",
      "Fetching sector for TT\n",
      "Fetching sector for EQIX\n",
      "Fetching sector for NOC\n",
      "Fetching sector for ITW\n",
      "Fetching sector for BDX\n",
      "Fetching sector for CSX\n",
      "Fetching sector for ANET\n",
      "Fetching sector for PSX\n",
      "Fetching sector for GD\n",
      "Fetching sector for USB\n",
      "Fetching sector for PXD\n",
      "Fetching sector for EMR\n",
      "Fetching sector for NXPI\n",
      "Fetching sector for PNC\n",
      "Fetching sector for ORLY\n",
      "Fetching sector for FDX\n",
      "Fetching sector for HCA\n",
      "Fetching sector for CEG\n",
      "Fetching sector for MAR\n",
      "Fetching sector for MCO\n",
      "Fetching sector for PCAR\n",
      "Fetching sector for CTAS\n",
      "Fetching sector for MSI\n",
      "Fetching sector for AON\n",
      "Fetching sector for VLO\n",
      "Fetching sector for ECL\n",
      "Fetching sector for ROP\n",
      "Fetching sector for COF\n",
      "Fetching sector for NSC\n",
      "Fetching sector for GM\n",
      "Fetching sector for APD\n",
      "Fetching sector for EW\n",
      "Fetching sector for AIG\n",
      "Fetching sector for WELL\n",
      "Fetching sector for HLT\n",
      "Fetching sector for AZO\n",
      "Fetching sector for TFC\n",
      "Fetching sector for MMM\n",
      "Fetching sector for CARR\n",
      "Fetching sector for MCHP\n",
      "Fetching sector for AJG\n",
      "Fetching sector for F\n",
      "Fetching sector for NEM\n",
      "Fetching sector for TRV\n",
      "Fetching sector for CPRT\n",
      "Fetching sector for DXCM\n",
      "Fetching sector for WMB\n",
      "Fetching sector for OKE\n",
      "Fetching sector for URI\n",
      "Fetching sector for ADSK\n",
      "Fetching sector for SPG\n",
      "Fetching sector for KMB\n",
      "Fetching sector for ROST\n",
      "Fetching sector for HES\n",
      "Fetching sector for SRE\n",
      "Fetching sector for AEP\n",
      "Fetching sector for OXY\n",
      "Fetching sector for O\n",
      "Fetching sector for ALL\n",
      "Fetching sector for AFL\n",
      "Fetching sector for JCI\n",
      "Fetching sector for DHI\n",
      "Fetching sector for TEL\n",
      "Fetching sector for BK\n",
      "Fetching sector for DLR\n",
      "Fetching sector for MET\n",
      "Fetching sector for SMCI\n",
      "Fetching sector for NUE\n",
      "Fetching sector for IQV\n",
      "Fetching sector for D\n",
      "Fetching sector for STZ\n",
      "Fetching sector for LULU\n",
      "Fetching sector for GEV\n",
      "Fetching sector for IDXX\n",
      "Fetching sector for AMP\n",
      "Fetching sector for FIS\n",
      "Fetching sector for GWW\n",
      "Fetching sector for AME\n",
      "Fetching sector for FTNT\n",
      "Fetching sector for PSA\n",
      "Fetching sector for LHX\n",
      "Fetching sector for CCI\n",
      "Fetching sector for A\n",
      "Fetching sector for GIS\n",
      "Fetching sector for DOW\n",
      "Fetching sector for COR\n",
      "Fetching sector for PRU\n",
      "Fetching sector for YUM\n",
      "Fetching sector for CMI\n",
      "Fetching sector for CNC\n",
      "Fetching sector for MNST\n",
      "Fetching sector for RSG\n",
      "Fetching sector for FAST\n",
      "Fetching sector for SYY\n",
      "Fetching sector for CTVA\n",
      "Fetching sector for LEN\n",
      "Fetching sector for PAYX\n",
      "Fetching sector for PWR\n",
      "Fetching sector for IR\n",
      "Fetching sector for MSCI\n",
      "Fetching sector for CSGP\n",
      "Fetching sector for OTIS\n",
      "Fetching sector for HUM\n",
      "Fetching sector for MLM\n",
      "Fetching sector for FANG\n",
      "Fetching sector for EXC\n",
      "Fetching sector for GEHC\n",
      "Fetching sector for PCG\n",
      "Fetching sector for KR\n",
      "Fetching sector for MRNA\n",
      "Fetching sector for KMI\n",
      "Fetching sector for KDP\n",
      "Fetching sector for IT\n",
      "Fetching sector for VMC\n",
      "Fetching sector for HAL\n",
      "Fetching sector for EL\n",
      "Fetching sector for DVN\n",
      "Fetching sector for PEG\n",
      "Fetching sector for ACGL\n",
      "Fetching sector for CTSH\n",
      "Fetching sector for RCL\n",
      "Fetching sector for BKR\n",
      "Fetching sector for ODFL\n",
      "Fetching sector for KVUE\n",
      "Fetching sector for CDW\n",
      "Fetching sector for GPN\n",
      "Fetching sector for MPWR\n",
      "Fetching sector for ROK\n",
      "Fetching sector for DAL\n",
      "Fetching sector for ED\n",
      "Fetching sector for VRSK\n",
      "Fetching sector for ADM\n",
      "Fetching sector for RMD\n",
      "Fetching sector for DFS\n",
      "Fetching sector for DD\n",
      "Fetching sector for XYL\n",
      "Fetching sector for EA\n",
      "Fetching sector for DG\n",
      "Fetching sector for PPG\n",
      "Fetching sector for KHC\n",
      "Fetching sector for BIIB\n",
      "Fetching sector for XEL\n",
      "Fetching sector for TSCO\n",
      "Fetching sector for WAB\n",
      "Fetching sector for VICI\n",
      "Fetching sector for ON\n",
      "Fetching sector for ANSS\n",
      "Fetching sector for HIG\n",
      "Fetching sector for EXR\n",
      "Fetching sector for HSY\n",
      "Fetching sector for FICO\n",
      "Fetching sector for EFX\n",
      "Fetching sector for EBAY\n",
      "Fetching sector for AVB\n",
      "Fetching sector for EIX\n",
      "Fetching sector for MTD\n",
      "Fetching sector for FTV\n",
      "Fetching sector for WST\n",
      "Fetching sector for KEYS\n",
      "Fetching sector for CHD\n",
      "Fetching sector for HWM\n",
      "Fetching sector for CBRE\n",
      "Fetching sector for LYB\n",
      "Fetching sector for WTW\n",
      "Fetching sector for TRGP\n",
      "Fetching sector for WEC\n",
      "Fetching sector for TROW\n",
      "Fetching sector for CAH\n",
      "Fetching sector for DLTR\n",
      "Fetching sector for DOV\n",
      "Fetching sector for FITB\n",
      "Fetching sector for CHTR\n",
      "Fetching sector for ZBH\n",
      "Fetching sector for PHM\n",
      "Fetching sector for NVR\n",
      "Fetching sector for MTB\n",
      "Fetching sector for HPQ\n",
      "Fetching sector for GLW\n",
      "Fetching sector for AWK\n",
      "Fetching sector for BLDR\n",
      "Fetching sector for RJF\n",
      "Fetching sector for WDC\n",
      "Fetching sector for TTWO\n",
      "Fetching sector for BR\n",
      "Fetching sector for NDAQ\n",
      "Fetching sector for WY\n",
      "Fetching sector for STT\n",
      "Fetching sector for IRM\n",
      "Fetching sector for DTE\n",
      "Fetching sector for ETR\n",
      "Fetching sector for GPC\n",
      "Fetching sector for EQR\n",
      "Fetching sector for ALGN\n",
      "Fetching sector for HPE\n",
      "Fetching sector for GRMN\n",
      "Fetching sector for CPAY\n",
      "Fetching sector for BALL\n",
      "Fetching sector for HUBB\n",
      "Fetching sector for AXON\n",
      "Fetching sector for IFF\n",
      "Fetching sector for PTC\n",
      "Fetching sector for DECK\n",
      "Fetching sector for CTRA\n",
      "Fetching sector for SBAC\n",
      "Fetching sector for NTAP\n",
      "Fetching sector for ES\n",
      "Fetching sector for VLTO\n",
      "Fetching sector for STLD\n",
      "Fetching sector for BAX\n",
      "Fetching sector for APTV\n",
      "Fetching sector for STE\n",
      "Fetching sector for INVH\n",
      "Fetching sector for ULTA\n",
      "Fetching sector for MOH\n",
      "Fetching sector for PPL\n",
      "Fetching sector for FE\n",
      "Fetching sector for HBAN\n",
      "Fetching sector for ILMN\n",
      "Fetching sector for TYL\n",
      "Fetching sector for BRO\n",
      "Fetching sector for FSLR\n",
      "Fetching sector for AEE\n",
      "Fetching sector for MKC\n",
      "Fetching sector for OMC\n",
      "Fetching sector for CBOE\n",
      "Fetching sector for DRI\n",
      "Fetching sector for SYF\n",
      "Fetching sector for WAT\n",
      "Fetching sector for J\n",
      "Fetching sector for RF\n",
      "Fetching sector for CNP\n",
      "Fetching sector for CLX\n",
      "Fetching sector for ARE\n",
      "Fetching sector for EXPE\n",
      "Fetching sector for WBD\n",
      "Fetching sector for HOLX\n",
      "Fetching sector for LDOS\n",
      "Fetching sector for AVY\n",
      "Fetching sector for VTR\n",
      "Fetching sector for TDY\n",
      "Fetching sector for COO\n",
      "Fetching sector for TER\n",
      "Fetching sector for CINF\n",
      "Fetching sector for DPZ\n",
      "Fetching sector for ATO\n",
      "Fetching sector for CMS\n",
      "Fetching sector for PFG\n",
      "Fetching sector for TSN\n",
      "Fetching sector for UAL\n",
      "Fetching sector for NTRS\n",
      "Fetching sector for TXT\n",
      "Fetching sector for LH\n",
      "Fetching sector for LVS\n",
      "Fetching sector for EQT\n",
      "Fetching sector for SWKS\n",
      "Fetching sector for STX\n",
      "Fetching sector for IEX\n",
      "Fetching sector for EXPD\n",
      "Fetching sector for NRG\n",
      "Fetching sector for CFG\n",
      "Fetching sector for MRO\n",
      "Fetching sector for LUV\n",
      "Fetching sector for FDS\n",
      "Fetching sector for ESS\n",
      "Fetching sector for EG\n",
      "Fetching sector for MAS\n",
      "Fetching sector for WRB\n",
      "Fetching sector for VRSN\n",
      "Fetching sector for PKG\n",
      "Fetching sector for CE\n",
      "Fetching sector for AKAM\n",
      "Fetching sector for CF\n",
      "Fetching sector for ENPH\n",
      "Fetching sector for ZBRA\n",
      "Fetching sector for K\n",
      "Fetching sector for CCL\n",
      "Fetching sector for JBL\n",
      "Fetching sector for MAA\n",
      "Fetching sector for TRMB\n",
      "Fetching sector for DGX\n",
      "Fetching sector for BG\n",
      "Fetching sector for CAG\n",
      "Fetching sector for BBY\n",
      "Fetching sector for POOL\n",
      "Fetching sector for SNA\n",
      "Fetching sector for NDSN\n",
      "Fetching sector for VTRS\n",
      "Fetching sector for L\n",
      "Fetching sector for SWK\n",
      "Fetching sector for KEY\n",
      "Fetching sector for ALB\n",
      "Fetching sector for EPAM\n",
      "Fetching sector for HST\n",
      "Fetching sector for DOC\n",
      "Fetching sector for JBHT\n",
      "Fetching sector for PNR\n",
      "Fetching sector for AMCR\n",
      "Fetching sector for LYV\n",
      "Fetching sector for WBA\n",
      "Fetching sector for ROL\n",
      "Fetching sector for RVTY\n",
      "Fetching sector for LNT\n",
      "Fetching sector for KIM\n",
      "Fetching sector for IPG\n",
      "Fetching sector for LW\n",
      "Fetching sector for JKHY\n",
      "Fetching sector for WRK\n",
      "Fetching sector for EVRG\n",
      "Fetching sector for IP\n",
      "Fetching sector for LKQ\n",
      "Fetching sector for CRL\n",
      "Fetching sector for SJM\n",
      "Fetching sector for GEN\n",
      "Fetching sector for TAP\n",
      "Fetching sector for PODD\n",
      "Fetching sector for AES\n",
      "Fetching sector for UDR\n",
      "Fetching sector for QRVO\n",
      "Fetching sector for EMN\n",
      "Fetching sector for MGM\n",
      "Fetching sector for NI\n",
      "Fetching sector for JNPR\n",
      "Fetching sector for KMX\n",
      "Fetching sector for HII\n",
      "Fetching sector for ALLE\n",
      "Fetching sector for FFIV\n",
      "Fetching sector for CPT\n",
      "Fetching sector for BBWI\n",
      "Fetching sector for HRL\n",
      "Fetching sector for AOS\n",
      "Fetching sector for UHS\n",
      "Fetching sector for TECH\n",
      "Fetching sector for CTLT\n",
      "Fetching sector for APA\n",
      "Fetching sector for MOS\n",
      "Fetching sector for TFX\n",
      "Fetching sector for INCY\n",
      "Fetching sector for REG\n",
      "Fetching sector for HSIC\n",
      "Fetching sector for DAY\n",
      "Fetching sector for NWSA\n",
      "Fetching sector for PAYC\n",
      "Fetching sector for WYNN\n",
      "Fetching sector for TPR\n",
      "Fetching sector for AIZ\n",
      "Fetching sector for AAL\n",
      "Fetching sector for SOLV\n",
      "Fetching sector for CPB\n",
      "Fetching sector for BF.B\n",
      "Fetching sector for MTCH\n",
      "Fetching sector for BXP\n",
      "Fetching sector for GNRC\n",
      "Fetching sector for PNW\n",
      "Fetching sector for HAS\n",
      "Fetching sector for CHRW\n",
      "Fetching sector for ETSY\n",
      "Fetching sector for NCLH\n",
      "Fetching sector for BWA\n",
      "Fetching sector for CZR\n",
      "Fetching sector for FOXA\n",
      "Fetching sector for MKTX\n",
      "Fetching sector for FRT\n",
      "Fetching sector for FMC\n",
      "Fetching sector for RHI\n",
      "Fetching sector for DVA\n",
      "Fetching sector for BEN\n",
      "Fetching sector for CMA\n",
      "Fetching sector for IVZ\n",
      "Fetching sector for RL\n",
      "Fetching sector for GL\n",
      "Fetching sector for MHK\n",
      "Fetching sector for BIO\n",
      "Fetching sector for PARA\n",
      "Fetching sector for FOX\n",
      "Fetching sector for NWS\n"
     ]
    }
   ],
   "source": [
    "# Define the function to get the sector for each stock\n",
    "def get_sector(ticker):\n",
    "    try:\n",
    "        stock_info = yf.Ticker(ticker).info\n",
    "        return stock_info.get('sector', 'N/A')  # Returns 'N/A' if sector information is not available\n",
    "    except Exception as e:\n",
    "        print(f\"Could not fetch sector for {ticker}: {e}\")\n",
    "        return 'N/A'\n",
    "    \n",
    "\n",
    "# get ticker symbols\n",
    "tickers = pd.read_csv('data/tickers.csv')\n",
    "tickers = tickers['Symbol'].tolist()\n",
    "\n",
    "sectors = []\n",
    "\n",
    "# Loop through each ticker and fetch the sector\n",
    "for ticker in tickers:\n",
    "    print(f\"Fetching sector for {ticker}\")\n",
    "    sector = get_sector(ticker)\n",
    "    sectors.append(sector)\n",
    "   # time.sleep(0.5)  # Delay to avoid hitting API rate limits"
   ]
  },
  {
   "cell_type": "code",
   "execution_count": 7,
   "metadata": {},
   "outputs": [
    {
     "data": {
      "text/plain": [
       "{'Basic Materials',\n",
       " 'Communication Services',\n",
       " 'Consumer Cyclical',\n",
       " 'Consumer Defensive',\n",
       " 'Energy',\n",
       " 'Financial Services',\n",
       " 'Healthcare',\n",
       " 'Industrials',\n",
       " 'N/A',\n",
       " 'Real Estate',\n",
       " 'Technology',\n",
       " 'Utilities'}"
      ]
     },
     "execution_count": 7,
     "metadata": {},
     "output_type": "execute_result"
    }
   ],
   "source": [
    "set(sectors)\n"
   ]
  },
  {
   "cell_type": "code",
   "execution_count": 8,
   "metadata": {},
   "outputs": [
    {
     "name": "stdout",
     "output_type": "stream",
     "text": [
      "   #                Company Symbol Portfolio%                  Sector\n",
      "0  1         Microsoft Corp   MSFT      7.05%              Technology\n",
      "1  2             Apple Inc.   AAPL      5.74%              Technology\n",
      "2  3            Nvidia Corp   NVDA      5.06%              Technology\n",
      "3  4         Amazon.com Inc   AMZN      3.83%       Consumer Cyclical\n",
      "4  5  Alphabet Inc. Class A  GOOGL      2.37%  Communication Services\n"
     ]
    }
   ],
   "source": [
    "# get tickers\n",
    "tickers = pd.read_csv('data/tickers.csv')\n",
    "\n",
    "tickers['Sector'] = sectors\n",
    "\n",
    "# Check the result\n",
    "print(tickers.head())\n",
    "\n",
    "# Save the result to a CSV file\n",
    "tickers.to_csv('data/tickers.csv', index=False)"
   ]
  },
  {
   "cell_type": "code",
   "execution_count": 15,
   "metadata": {},
   "outputs": [],
   "source": [
    "tickers = pd.read_csv('data/tickers.csv')[0:300]\n",
    "#get ticker symbols\n",
    "ticker_symbols = tickers['Symbol'].tolist()"
   ]
  },
  {
   "cell_type": "code",
   "execution_count": 16,
   "metadata": {},
   "outputs": [
    {
     "data": {
      "text/html": [
       "<div>\n",
       "<style scoped>\n",
       "    .dataframe tbody tr th:only-of-type {\n",
       "        vertical-align: middle;\n",
       "    }\n",
       "\n",
       "    .dataframe tbody tr th {\n",
       "        vertical-align: top;\n",
       "    }\n",
       "\n",
       "    .dataframe thead th {\n",
       "        text-align: right;\n",
       "    }\n",
       "</style>\n",
       "<table border=\"1\" class=\"dataframe\">\n",
       "  <thead>\n",
       "    <tr style=\"text-align: right;\">\n",
       "      <th></th>\n",
       "      <th>#</th>\n",
       "      <th>Company</th>\n",
       "      <th>Symbol</th>\n",
       "      <th>Portfolio%</th>\n",
       "      <th>Sector</th>\n",
       "    </tr>\n",
       "  </thead>\n",
       "  <tbody>\n",
       "    <tr>\n",
       "      <th>0</th>\n",
       "      <td>1</td>\n",
       "      <td>Microsoft Corp</td>\n",
       "      <td>MSFT</td>\n",
       "      <td>7.05%</td>\n",
       "      <td>Technology</td>\n",
       "    </tr>\n",
       "    <tr>\n",
       "      <th>1</th>\n",
       "      <td>2</td>\n",
       "      <td>Apple Inc.</td>\n",
       "      <td>AAPL</td>\n",
       "      <td>5.74%</td>\n",
       "      <td>Technology</td>\n",
       "    </tr>\n",
       "    <tr>\n",
       "      <th>2</th>\n",
       "      <td>3</td>\n",
       "      <td>Nvidia Corp</td>\n",
       "      <td>NVDA</td>\n",
       "      <td>5.06%</td>\n",
       "      <td>Technology</td>\n",
       "    </tr>\n",
       "    <tr>\n",
       "      <th>3</th>\n",
       "      <td>4</td>\n",
       "      <td>Amazon.com Inc</td>\n",
       "      <td>AMZN</td>\n",
       "      <td>3.83%</td>\n",
       "      <td>Consumer Cyclical</td>\n",
       "    </tr>\n",
       "    <tr>\n",
       "      <th>4</th>\n",
       "      <td>5</td>\n",
       "      <td>Alphabet Inc. Class A</td>\n",
       "      <td>GOOGL</td>\n",
       "      <td>2.37%</td>\n",
       "      <td>Communication Services</td>\n",
       "    </tr>\n",
       "    <tr>\n",
       "      <th>...</th>\n",
       "      <td>...</td>\n",
       "      <td>...</td>\n",
       "      <td>...</td>\n",
       "      <td>...</td>\n",
       "      <td>...</td>\n",
       "    </tr>\n",
       "    <tr>\n",
       "      <th>295</th>\n",
       "      <td>296</td>\n",
       "      <td>Cardinal Health, Inc.</td>\n",
       "      <td>CAH</td>\n",
       "      <td>0.06%</td>\n",
       "      <td>Healthcare</td>\n",
       "    </tr>\n",
       "    <tr>\n",
       "      <th>296</th>\n",
       "      <td>297</td>\n",
       "      <td>Dollar Tree Inc.</td>\n",
       "      <td>DLTR</td>\n",
       "      <td>0.06%</td>\n",
       "      <td>Consumer Defensive</td>\n",
       "    </tr>\n",
       "    <tr>\n",
       "      <th>297</th>\n",
       "      <td>298</td>\n",
       "      <td>Dover Corporation</td>\n",
       "      <td>DOV</td>\n",
       "      <td>0.06%</td>\n",
       "      <td>Industrials</td>\n",
       "    </tr>\n",
       "    <tr>\n",
       "      <th>298</th>\n",
       "      <td>299</td>\n",
       "      <td>Fifth Third Bancorp</td>\n",
       "      <td>FITB</td>\n",
       "      <td>0.06%</td>\n",
       "      <td>Financial Services</td>\n",
       "    </tr>\n",
       "    <tr>\n",
       "      <th>299</th>\n",
       "      <td>300</td>\n",
       "      <td>Charter Comm Inc Del Cl a</td>\n",
       "      <td>CHTR</td>\n",
       "      <td>0.06%</td>\n",
       "      <td>Communication Services</td>\n",
       "    </tr>\n",
       "  </tbody>\n",
       "</table>\n",
       "<p>300 rows × 5 columns</p>\n",
       "</div>"
      ],
      "text/plain": [
       "       #                    Company Symbol Portfolio%                  Sector\n",
       "0      1             Microsoft Corp   MSFT      7.05%              Technology\n",
       "1      2                 Apple Inc.   AAPL      5.74%              Technology\n",
       "2      3                Nvidia Corp   NVDA      5.06%              Technology\n",
       "3      4             Amazon.com Inc   AMZN      3.83%       Consumer Cyclical\n",
       "4      5      Alphabet Inc. Class A  GOOGL      2.37%  Communication Services\n",
       "..   ...                        ...    ...        ...                     ...\n",
       "295  296      Cardinal Health, Inc.    CAH      0.06%              Healthcare\n",
       "296  297           Dollar Tree Inc.   DLTR      0.06%      Consumer Defensive\n",
       "297  298          Dover Corporation    DOV      0.06%             Industrials\n",
       "298  299        Fifth Third Bancorp   FITB      0.06%      Financial Services\n",
       "299  300  Charter Comm Inc Del Cl a   CHTR      0.06%  Communication Services\n",
       "\n",
       "[300 rows x 5 columns]"
      ]
     },
     "execution_count": 16,
     "metadata": {},
     "output_type": "execute_result"
    }
   ],
   "source": [
    "tickers"
   ]
  },
  {
   "cell_type": "code",
   "execution_count": 11,
   "metadata": {},
   "outputs": [
    {
     "data": {
      "text/plain": [
       "['MSFT',\n",
       " 'AAPL',\n",
       " 'NVDA',\n",
       " 'AMZN',\n",
       " 'GOOGL',\n",
       " 'META',\n",
       " 'GOOG',\n",
       " 'BRK.B',\n",
       " 'AVGO',\n",
       " 'LLY',\n",
       " 'JPM',\n",
       " 'XOM',\n",
       " 'TSLA',\n",
       " 'UNH',\n",
       " 'V',\n",
       " 'MA',\n",
       " 'PG',\n",
       " 'JNJ',\n",
       " 'HD',\n",
       " 'MRK',\n",
       " 'COST',\n",
       " 'CVX',\n",
       " 'ABBV',\n",
       " 'CRM',\n",
       " 'BAC',\n",
       " 'WMT',\n",
       " 'AMD',\n",
       " 'NFLX',\n",
       " 'PEP',\n",
       " 'KO',\n",
       " 'TMO',\n",
       " 'ADBE',\n",
       " 'WFC',\n",
       " 'LIN',\n",
       " 'DIS',\n",
       " 'MCD',\n",
       " 'CSCO',\n",
       " 'ACN',\n",
       " 'ORCL',\n",
       " 'ABT',\n",
       " 'QCOM',\n",
       " 'INTU',\n",
       " 'GE',\n",
       " 'CAT',\n",
       " 'AMAT',\n",
       " 'VZ',\n",
       " 'DHR',\n",
       " 'TXN',\n",
       " 'COP',\n",
       " 'IBM',\n",
       " 'CMCSA',\n",
       " 'NOW',\n",
       " 'UNP',\n",
       " 'PM',\n",
       " 'AMGN',\n",
       " 'PFE',\n",
       " 'UBER',\n",
       " 'GS',\n",
       " 'NEE',\n",
       " 'INTC',\n",
       " 'AXP',\n",
       " 'RTX',\n",
       " 'SPGI',\n",
       " 'LOW',\n",
       " 'ISRG',\n",
       " 'ETN',\n",
       " 'HON',\n",
       " 'MU',\n",
       " 'ELV',\n",
       " 'BKNG',\n",
       " 'PGR',\n",
       " 'LRCX',\n",
       " 'T',\n",
       " 'C',\n",
       " 'MS',\n",
       " 'NKE',\n",
       " 'SYK',\n",
       " 'SCHW',\n",
       " 'TJX',\n",
       " 'BSX',\n",
       " 'UPS',\n",
       " 'BLK',\n",
       " 'MDT',\n",
       " 'CI',\n",
       " 'DE',\n",
       " 'VRTX',\n",
       " 'ADI',\n",
       " 'SBUX',\n",
       " 'ADP',\n",
       " 'CB',\n",
       " 'LMT',\n",
       " 'MMC',\n",
       " 'PLD',\n",
       " 'KLAC',\n",
       " 'BA',\n",
       " 'MDLZ',\n",
       " 'FI',\n",
       " 'REGN',\n",
       " 'PANW',\n",
       " 'BMY',\n",
       " 'BX',\n",
       " 'CMG',\n",
       " 'TMUS',\n",
       " 'CVS',\n",
       " 'SNPS',\n",
       " 'GILD',\n",
       " 'AMT',\n",
       " 'SO',\n",
       " 'EOG',\n",
       " 'WM',\n",
       " 'CDNS',\n",
       " 'MO',\n",
       " 'TGT',\n",
       " 'CME',\n",
       " 'ICE',\n",
       " 'DUK',\n",
       " 'CL',\n",
       " 'MPC',\n",
       " 'ZTS',\n",
       " 'FCX',\n",
       " 'SHW',\n",
       " 'APH',\n",
       " 'MCK',\n",
       " 'ABNB',\n",
       " 'PH',\n",
       " 'PYPL',\n",
       " 'SLB',\n",
       " 'TDG',\n",
       " 'TT',\n",
       " 'EQIX',\n",
       " 'NOC',\n",
       " 'ITW',\n",
       " 'BDX',\n",
       " 'CSX',\n",
       " 'ANET',\n",
       " 'PSX',\n",
       " 'GD',\n",
       " 'USB',\n",
       " 'PXD',\n",
       " 'EMR',\n",
       " 'NXPI',\n",
       " 'PNC',\n",
       " 'ORLY',\n",
       " 'FDX',\n",
       " 'HCA',\n",
       " 'CEG',\n",
       " 'MAR',\n",
       " 'MCO',\n",
       " 'PCAR',\n",
       " 'CTAS',\n",
       " 'MSI',\n",
       " 'AON',\n",
       " 'VLO',\n",
       " 'ECL',\n",
       " 'ROP',\n",
       " 'COF',\n",
       " 'NSC',\n",
       " 'GM',\n",
       " 'APD',\n",
       " 'EW',\n",
       " 'AIG',\n",
       " 'WELL',\n",
       " 'HLT',\n",
       " 'AZO',\n",
       " 'TFC',\n",
       " 'MMM',\n",
       " 'CARR',\n",
       " 'MCHP',\n",
       " 'AJG',\n",
       " 'F',\n",
       " 'NEM',\n",
       " 'TRV',\n",
       " 'CPRT',\n",
       " 'DXCM',\n",
       " 'WMB',\n",
       " 'OKE',\n",
       " 'URI',\n",
       " 'ADSK',\n",
       " 'SPG',\n",
       " 'KMB',\n",
       " 'ROST',\n",
       " 'HES',\n",
       " 'SRE',\n",
       " 'AEP',\n",
       " 'OXY',\n",
       " 'O',\n",
       " 'ALL',\n",
       " 'AFL',\n",
       " 'JCI',\n",
       " 'DHI',\n",
       " 'TEL',\n",
       " 'BK',\n",
       " 'DLR',\n",
       " 'MET',\n",
       " 'SMCI',\n",
       " 'NUE',\n",
       " 'IQV',\n",
       " 'D',\n",
       " 'STZ',\n",
       " 'LULU',\n",
       " 'GEV',\n",
       " 'IDXX',\n",
       " 'AMP',\n",
       " 'FIS',\n",
       " 'GWW',\n",
       " 'AME',\n",
       " 'FTNT',\n",
       " 'PSA',\n",
       " 'LHX',\n",
       " 'CCI',\n",
       " 'A',\n",
       " 'GIS',\n",
       " 'DOW',\n",
       " 'COR',\n",
       " 'PRU',\n",
       " 'YUM',\n",
       " 'CMI',\n",
       " 'CNC',\n",
       " 'MNST',\n",
       " 'RSG',\n",
       " 'FAST',\n",
       " 'SYY',\n",
       " 'CTVA',\n",
       " 'LEN',\n",
       " 'PAYX',\n",
       " 'PWR',\n",
       " 'IR',\n",
       " 'MSCI',\n",
       " 'CSGP',\n",
       " 'OTIS',\n",
       " 'HUM',\n",
       " 'MLM',\n",
       " 'FANG',\n",
       " 'EXC',\n",
       " 'GEHC',\n",
       " 'PCG',\n",
       " 'KR',\n",
       " 'MRNA',\n",
       " 'KMI',\n",
       " 'KDP',\n",
       " 'IT',\n",
       " 'VMC',\n",
       " 'HAL',\n",
       " 'EL',\n",
       " 'DVN',\n",
       " 'PEG',\n",
       " 'ACGL',\n",
       " 'CTSH',\n",
       " 'RCL',\n",
       " 'BKR',\n",
       " 'ODFL',\n",
       " 'KVUE',\n",
       " 'CDW',\n",
       " 'GPN',\n",
       " 'MPWR',\n",
       " 'ROK',\n",
       " 'DAL',\n",
       " 'ED',\n",
       " 'VRSK',\n",
       " 'ADM',\n",
       " 'RMD',\n",
       " 'DFS',\n",
       " 'DD',\n",
       " 'XYL',\n",
       " 'EA',\n",
       " 'DG',\n",
       " 'PPG',\n",
       " 'KHC',\n",
       " 'BIIB',\n",
       " 'XEL',\n",
       " 'TSCO',\n",
       " 'WAB',\n",
       " 'VICI',\n",
       " 'ON',\n",
       " 'ANSS',\n",
       " 'HIG',\n",
       " 'EXR',\n",
       " 'HSY',\n",
       " 'FICO',\n",
       " 'EFX',\n",
       " 'EBAY',\n",
       " 'AVB',\n",
       " 'EIX',\n",
       " 'MTD',\n",
       " 'FTV',\n",
       " 'WST',\n",
       " 'KEYS',\n",
       " 'CHD',\n",
       " 'HWM',\n",
       " 'CBRE',\n",
       " 'LYB',\n",
       " 'WTW',\n",
       " 'TRGP',\n",
       " 'WEC',\n",
       " 'TROW',\n",
       " 'CAH',\n",
       " 'DLTR',\n",
       " 'DOV',\n",
       " 'FITB',\n",
       " 'CHTR',\n",
       " 'ZBH',\n",
       " 'PHM',\n",
       " 'NVR',\n",
       " 'MTB',\n",
       " 'HPQ',\n",
       " 'GLW',\n",
       " 'AWK',\n",
       " 'BLDR',\n",
       " 'RJF',\n",
       " 'WDC',\n",
       " 'TTWO',\n",
       " 'BR',\n",
       " 'NDAQ',\n",
       " 'WY',\n",
       " 'STT',\n",
       " 'IRM',\n",
       " 'DTE',\n",
       " 'ETR',\n",
       " 'GPC',\n",
       " 'EQR',\n",
       " 'ALGN',\n",
       " 'HPE',\n",
       " 'GRMN',\n",
       " 'CPAY',\n",
       " 'BALL',\n",
       " 'HUBB',\n",
       " 'AXON',\n",
       " 'IFF',\n",
       " 'PTC',\n",
       " 'DECK',\n",
       " 'CTRA',\n",
       " 'SBAC',\n",
       " 'NTAP',\n",
       " 'ES',\n",
       " 'VLTO',\n",
       " 'STLD',\n",
       " 'BAX',\n",
       " 'APTV',\n",
       " 'STE',\n",
       " 'INVH',\n",
       " 'ULTA',\n",
       " 'MOH',\n",
       " 'PPL',\n",
       " 'FE',\n",
       " 'HBAN',\n",
       " 'ILMN',\n",
       " 'TYL',\n",
       " 'BRO',\n",
       " 'FSLR',\n",
       " 'AEE',\n",
       " 'MKC',\n",
       " 'OMC',\n",
       " 'CBOE',\n",
       " 'DRI',\n",
       " 'SYF',\n",
       " 'WAT',\n",
       " 'J',\n",
       " 'RF',\n",
       " 'CNP',\n",
       " 'CLX',\n",
       " 'ARE',\n",
       " 'EXPE',\n",
       " 'WBD',\n",
       " 'HOLX',\n",
       " 'LDOS',\n",
       " 'AVY',\n",
       " 'VTR',\n",
       " 'TDY',\n",
       " 'COO',\n",
       " 'TER',\n",
       " 'CINF',\n",
       " 'DPZ',\n",
       " 'ATO',\n",
       " 'CMS',\n",
       " 'PFG',\n",
       " 'TSN',\n",
       " 'UAL',\n",
       " 'NTRS',\n",
       " 'TXT',\n",
       " 'LH',\n",
       " 'LVS',\n",
       " 'EQT',\n",
       " 'SWKS',\n",
       " 'STX',\n",
       " 'IEX',\n",
       " 'EXPD',\n",
       " 'NRG',\n",
       " 'CFG',\n",
       " 'MRO',\n",
       " 'LUV',\n",
       " 'FDS',\n",
       " 'ESS',\n",
       " 'EG',\n",
       " 'MAS',\n",
       " 'WRB',\n",
       " 'VRSN',\n",
       " 'PKG',\n",
       " 'CE',\n",
       " 'AKAM',\n",
       " 'CF',\n",
       " 'ENPH',\n",
       " 'ZBRA',\n",
       " 'K',\n",
       " 'CCL',\n",
       " 'JBL',\n",
       " 'MAA',\n",
       " 'TRMB',\n",
       " 'DGX',\n",
       " 'BG',\n",
       " 'CAG',\n",
       " 'BBY',\n",
       " 'POOL',\n",
       " 'SNA',\n",
       " 'NDSN',\n",
       " 'VTRS',\n",
       " 'L',\n",
       " 'SWK',\n",
       " 'KEY',\n",
       " 'ALB',\n",
       " 'EPAM',\n",
       " 'HST',\n",
       " 'DOC',\n",
       " 'JBHT',\n",
       " 'PNR',\n",
       " 'AMCR',\n",
       " 'LYV',\n",
       " 'WBA',\n",
       " 'ROL',\n",
       " 'RVTY',\n",
       " 'LNT',\n",
       " 'KIM',\n",
       " 'IPG',\n",
       " 'LW',\n",
       " 'JKHY',\n",
       " 'WRK',\n",
       " 'EVRG',\n",
       " 'IP',\n",
       " 'LKQ',\n",
       " 'CRL',\n",
       " 'SJM',\n",
       " 'GEN',\n",
       " 'TAP',\n",
       " 'PODD',\n",
       " 'AES',\n",
       " 'UDR',\n",
       " 'QRVO',\n",
       " 'EMN',\n",
       " 'MGM',\n",
       " 'NI',\n",
       " 'JNPR',\n",
       " 'KMX',\n",
       " 'HII',\n",
       " 'ALLE',\n",
       " 'FFIV',\n",
       " 'CPT',\n",
       " 'BBWI',\n",
       " 'HRL',\n",
       " 'AOS',\n",
       " 'UHS',\n",
       " 'TECH',\n",
       " 'CTLT',\n",
       " 'APA',\n",
       " 'MOS',\n",
       " 'TFX',\n",
       " 'INCY',\n",
       " 'REG',\n",
       " 'HSIC',\n",
       " 'DAY',\n",
       " 'NWSA',\n",
       " 'PAYC',\n",
       " 'WYNN',\n",
       " 'TPR',\n",
       " 'AIZ',\n",
       " 'AAL',\n",
       " 'SOLV',\n",
       " 'CPB',\n",
       " 'BF.B',\n",
       " 'MTCH',\n",
       " 'BXP',\n",
       " 'GNRC',\n",
       " 'PNW',\n",
       " 'HAS',\n",
       " 'CHRW',\n",
       " 'ETSY',\n",
       " 'NCLH',\n",
       " 'BWA',\n",
       " 'CZR',\n",
       " 'FOXA',\n",
       " 'MKTX',\n",
       " 'FRT',\n",
       " 'FMC',\n",
       " 'RHI',\n",
       " 'DVA',\n",
       " 'BEN',\n",
       " 'CMA',\n",
       " 'IVZ',\n",
       " 'RL',\n",
       " 'GL',\n",
       " 'MHK',\n",
       " 'BIO',\n",
       " 'PARA',\n",
       " 'FOX',\n",
       " 'NWS']"
      ]
     },
     "execution_count": 11,
     "metadata": {},
     "output_type": "execute_result"
    }
   ],
   "source": [
    "ticker_symbols"
   ]
  },
  {
   "cell_type": "code",
   "execution_count": 19,
   "metadata": {},
   "outputs": [
    {
     "name": "stderr",
     "output_type": "stream",
     "text": [
      "[*********************100%%**********************]  1 of 1 completed"
     ]
    },
    {
     "name": "stdout",
     "output_type": "stream",
     "text": [
      "Downloading data for MSFT\n",
      "Downloading data for AAPL\n"
     ]
    },
    {
     "name": "stderr",
     "output_type": "stream",
     "text": [
      "\n",
      "[*********************100%%**********************]  1 of 1 completed\n",
      "[*********************100%%**********************]  1 of 1 completed\n"
     ]
    },
    {
     "name": "stdout",
     "output_type": "stream",
     "text": [
      "Downloading data for NVDA\n",
      "Downloading data for AMZN\n"
     ]
    },
    {
     "name": "stderr",
     "output_type": "stream",
     "text": [
      "[*********************100%%**********************]  1 of 1 completed\n",
      "[*********************100%%**********************]  1 of 1 completed\n"
     ]
    },
    {
     "name": "stdout",
     "output_type": "stream",
     "text": [
      "Downloading data for GOOGL\n",
      "Downloading data for META\n"
     ]
    },
    {
     "name": "stderr",
     "output_type": "stream",
     "text": [
      "[*********************100%%**********************]  1 of 1 completed\n",
      "[*********************100%%**********************]  1 of 1 completed\n"
     ]
    },
    {
     "name": "stdout",
     "output_type": "stream",
     "text": [
      "Downloading data for GOOG\n",
      "Downloading data for BRK.B\n"
     ]
    },
    {
     "name": "stderr",
     "output_type": "stream",
     "text": [
      "[*********************100%%**********************]  1 of 1 completed\n",
      "\n",
      "1 Failed download:\n",
      "['BRK.B']: Exception('%ticker%: No timezone found, symbol may be delisted')\n",
      "[*********************100%%**********************]  1 of 1 completed\n"
     ]
    },
    {
     "name": "stdout",
     "output_type": "stream",
     "text": [
      "Downloading data for AVGO\n",
      "Downloading data for LLY\n"
     ]
    },
    {
     "name": "stderr",
     "output_type": "stream",
     "text": [
      "[*********************100%%**********************]  1 of 1 completed\n",
      "[*********************100%%**********************]  1 of 1 completed\n"
     ]
    },
    {
     "name": "stdout",
     "output_type": "stream",
     "text": [
      "Downloading data for JPM\n",
      "Downloading data for XOM\n"
     ]
    },
    {
     "name": "stderr",
     "output_type": "stream",
     "text": [
      "[*********************100%%**********************]  1 of 1 completed\n",
      "[*********************100%%**********************]  1 of 1 completed\n"
     ]
    },
    {
     "name": "stdout",
     "output_type": "stream",
     "text": [
      "Downloading data for TSLA\n",
      "Downloading data for UNH\n"
     ]
    },
    {
     "name": "stderr",
     "output_type": "stream",
     "text": [
      "[*********************100%%**********************]  1 of 1 completed\n",
      "[*********************100%%**********************]  1 of 1 completed\n"
     ]
    },
    {
     "name": "stdout",
     "output_type": "stream",
     "text": [
      "Downloading data for V\n",
      "Downloading data for MA\n"
     ]
    },
    {
     "name": "stderr",
     "output_type": "stream",
     "text": [
      "[*********************100%%**********************]  1 of 1 completed\n",
      "[*********************100%%**********************]  1 of 1 completed\n"
     ]
    },
    {
     "name": "stdout",
     "output_type": "stream",
     "text": [
      "Downloading data for PG\n",
      "Downloading data for JNJ\n"
     ]
    },
    {
     "name": "stderr",
     "output_type": "stream",
     "text": [
      "[*********************100%%**********************]  1 of 1 completed\n",
      "[*********************100%%**********************]  1 of 1 completed\n"
     ]
    },
    {
     "name": "stdout",
     "output_type": "stream",
     "text": [
      "Downloading data for HD\n",
      "Downloading data for MRK\n"
     ]
    },
    {
     "name": "stderr",
     "output_type": "stream",
     "text": [
      "[*********************100%%**********************]  1 of 1 completed\n",
      "[*********************100%%**********************]  1 of 1 completed\n"
     ]
    },
    {
     "name": "stdout",
     "output_type": "stream",
     "text": [
      "Downloading data for COST\n",
      "Downloading data for CVX\n"
     ]
    },
    {
     "name": "stderr",
     "output_type": "stream",
     "text": [
      "[*********************100%%**********************]  1 of 1 completed\n",
      "[*********************100%%**********************]  1 of 1 completed\n"
     ]
    },
    {
     "name": "stdout",
     "output_type": "stream",
     "text": [
      "Downloading data for ABBV\n",
      "Downloading data for CRM\n"
     ]
    },
    {
     "name": "stderr",
     "output_type": "stream",
     "text": [
      "[*********************100%%**********************]  1 of 1 completed\n",
      "[*********************100%%**********************]  1 of 1 completed\n"
     ]
    },
    {
     "name": "stdout",
     "output_type": "stream",
     "text": [
      "Downloading data for BAC\n",
      "Downloading data for WMT\n"
     ]
    },
    {
     "name": "stderr",
     "output_type": "stream",
     "text": [
      "[*********************100%%**********************]  1 of 1 completed\n",
      "[*********************100%%**********************]  1 of 1 completed\n"
     ]
    },
    {
     "name": "stdout",
     "output_type": "stream",
     "text": [
      "Downloading data for AMD\n",
      "Downloading data for NFLX\n"
     ]
    },
    {
     "name": "stderr",
     "output_type": "stream",
     "text": [
      "[*********************100%%**********************]  1 of 1 completed\n",
      "[*********************100%%**********************]  1 of 1 completed\n"
     ]
    },
    {
     "name": "stdout",
     "output_type": "stream",
     "text": [
      "Downloading data for PEP\n",
      "Downloading data for KO\n"
     ]
    },
    {
     "name": "stderr",
     "output_type": "stream",
     "text": [
      "[*********************100%%**********************]  1 of 1 completed\n",
      "[*********************100%%**********************]  1 of 1 completed\n"
     ]
    },
    {
     "name": "stdout",
     "output_type": "stream",
     "text": [
      "Downloading data for TMO\n",
      "Downloading data for ADBE\n"
     ]
    },
    {
     "name": "stderr",
     "output_type": "stream",
     "text": [
      "[*********************100%%**********************]  1 of 1 completed\n",
      "[*********************100%%**********************]  1 of 1 completed\n"
     ]
    },
    {
     "name": "stdout",
     "output_type": "stream",
     "text": [
      "Downloading data for WFC\n",
      "Downloading data for LIN\n"
     ]
    },
    {
     "name": "stderr",
     "output_type": "stream",
     "text": [
      "[*********************100%%**********************]  1 of 1 completed\n",
      "[*********************100%%**********************]  1 of 1 completed\n"
     ]
    },
    {
     "name": "stdout",
     "output_type": "stream",
     "text": [
      "Downloading data for DIS\n",
      "Downloading data for MCD\n"
     ]
    },
    {
     "name": "stderr",
     "output_type": "stream",
     "text": [
      "[*********************100%%**********************]  1 of 1 completed\n",
      "[*********************100%%**********************]  1 of 1 completed\n"
     ]
    },
    {
     "name": "stdout",
     "output_type": "stream",
     "text": [
      "Downloading data for CSCO\n",
      "Downloading data for ACN\n"
     ]
    },
    {
     "name": "stderr",
     "output_type": "stream",
     "text": [
      "[*********************100%%**********************]  1 of 1 completed\n",
      "[*********************100%%**********************]  1 of 1 completed\n"
     ]
    },
    {
     "name": "stdout",
     "output_type": "stream",
     "text": [
      "Downloading data for ORCL\n",
      "Downloading data for ABT\n"
     ]
    },
    {
     "name": "stderr",
     "output_type": "stream",
     "text": [
      "[*********************100%%**********************]  1 of 1 completed\n",
      "[*********************100%%**********************]  1 of 1 completed\n"
     ]
    },
    {
     "name": "stdout",
     "output_type": "stream",
     "text": [
      "Downloading data for QCOM\n",
      "Downloading data for INTU\n"
     ]
    },
    {
     "name": "stderr",
     "output_type": "stream",
     "text": [
      "[*********************100%%**********************]  1 of 1 completed\n",
      "[*********************100%%**********************]  1 of 1 completed\n"
     ]
    },
    {
     "name": "stdout",
     "output_type": "stream",
     "text": [
      "Downloading data for GE\n",
      "Downloading data for CAT\n"
     ]
    },
    {
     "name": "stderr",
     "output_type": "stream",
     "text": [
      "[*********************100%%**********************]  1 of 1 completed\n",
      "[*********************100%%**********************]  1 of 1 completed\n"
     ]
    },
    {
     "name": "stdout",
     "output_type": "stream",
     "text": [
      "Downloading data for AMAT\n",
      "Downloading data for VZ\n"
     ]
    },
    {
     "name": "stderr",
     "output_type": "stream",
     "text": [
      "[*********************100%%**********************]  1 of 1 completed\n",
      "[*********************100%%**********************]  1 of 1 completed\n"
     ]
    },
    {
     "name": "stdout",
     "output_type": "stream",
     "text": [
      "Downloading data for DHR\n",
      "Downloading data for TXN\n"
     ]
    },
    {
     "name": "stderr",
     "output_type": "stream",
     "text": [
      "[*********************100%%**********************]  1 of 1 completed\n",
      "[*********************100%%**********************]  1 of 1 completed\n"
     ]
    },
    {
     "name": "stdout",
     "output_type": "stream",
     "text": [
      "Downloading data for COP\n",
      "Downloading data for IBM\n"
     ]
    },
    {
     "name": "stderr",
     "output_type": "stream",
     "text": [
      "[*********************100%%**********************]  1 of 1 completed\n"
     ]
    },
    {
     "name": "stdout",
     "output_type": "stream",
     "text": [
      "Downloading data for CMCSA\n"
     ]
    },
    {
     "name": "stderr",
     "output_type": "stream",
     "text": [
      "[*********************100%%**********************]  1 of 1 completed\n",
      "[*********************100%%**********************]  1 of 1 completed\n"
     ]
    },
    {
     "name": "stdout",
     "output_type": "stream",
     "text": [
      "Downloading data for NOW\n",
      "Downloading data for UNP\n"
     ]
    },
    {
     "name": "stderr",
     "output_type": "stream",
     "text": [
      "[*********************100%%**********************]  1 of 1 completed\n",
      "[*********************100%%**********************]  1 of 1 completed\n"
     ]
    },
    {
     "name": "stdout",
     "output_type": "stream",
     "text": [
      "Downloading data for PM\n",
      "Downloading data for AMGN\n"
     ]
    },
    {
     "name": "stderr",
     "output_type": "stream",
     "text": [
      "[*********************100%%**********************]  1 of 1 completed\n",
      "[*********************100%%**********************]  1 of 1 completed\n"
     ]
    },
    {
     "name": "stdout",
     "output_type": "stream",
     "text": [
      "Downloading data for PFE\n",
      "Downloading data for UBER\n"
     ]
    },
    {
     "name": "stderr",
     "output_type": "stream",
     "text": [
      "[*********************100%%**********************]  1 of 1 completed\n",
      "[*********************100%%**********************]  1 of 1 completed\n"
     ]
    },
    {
     "name": "stdout",
     "output_type": "stream",
     "text": [
      "Downloading data for GS\n",
      "Downloading data for NEE\n"
     ]
    },
    {
     "name": "stderr",
     "output_type": "stream",
     "text": [
      "[*********************100%%**********************]  1 of 1 completed\n"
     ]
    },
    {
     "name": "stdout",
     "output_type": "stream",
     "text": [
      "Downloading data for INTC\n"
     ]
    },
    {
     "name": "stderr",
     "output_type": "stream",
     "text": [
      "[*********************100%%**********************]  1 of 1 completed\n",
      "[*********************100%%**********************]  1 of 1 completed\n"
     ]
    },
    {
     "name": "stdout",
     "output_type": "stream",
     "text": [
      "Downloading data for AXP\n",
      "Downloading data for RTX\n"
     ]
    },
    {
     "name": "stderr",
     "output_type": "stream",
     "text": [
      "[*********************100%%**********************]  1 of 1 completed\n",
      "[*********************100%%**********************]  1 of 1 completed\n"
     ]
    },
    {
     "name": "stdout",
     "output_type": "stream",
     "text": [
      "Downloading data for SPGI\n",
      "Downloading data for LOW\n"
     ]
    },
    {
     "name": "stderr",
     "output_type": "stream",
     "text": [
      "[*********************100%%**********************]  1 of 1 completed\n",
      "[*********************100%%**********************]  1 of 1 completed\n"
     ]
    },
    {
     "name": "stdout",
     "output_type": "stream",
     "text": [
      "Downloading data for ISRG\n",
      "Downloading data for ETN\n"
     ]
    },
    {
     "name": "stderr",
     "output_type": "stream",
     "text": [
      "[*********************100%%**********************]  1 of 1 completed\n"
     ]
    },
    {
     "name": "stdout",
     "output_type": "stream",
     "text": [
      "Downloading data for HON\n"
     ]
    },
    {
     "name": "stderr",
     "output_type": "stream",
     "text": [
      "[*********************100%%**********************]  1 of 1 completed\n",
      "[*********************100%%**********************]  1 of 1 completed\n"
     ]
    },
    {
     "name": "stdout",
     "output_type": "stream",
     "text": [
      "Downloading data for MU\n",
      "Downloading data for ELV\n"
     ]
    },
    {
     "name": "stderr",
     "output_type": "stream",
     "text": [
      "[*********************100%%**********************]  1 of 1 completed\n",
      "[*********************100%%**********************]  1 of 1 completed\n"
     ]
    },
    {
     "name": "stdout",
     "output_type": "stream",
     "text": [
      "Downloading data for BKNG\n",
      "Downloading data for PGR\n"
     ]
    },
    {
     "name": "stderr",
     "output_type": "stream",
     "text": [
      "[*********************100%%**********************]  1 of 1 completed\n",
      "[*********************100%%**********************]  1 of 1 completed\n"
     ]
    },
    {
     "name": "stdout",
     "output_type": "stream",
     "text": [
      "Downloading data for LRCX\n",
      "Downloading data for T\n"
     ]
    },
    {
     "name": "stderr",
     "output_type": "stream",
     "text": [
      "[*********************100%%**********************]  1 of 1 completed\n",
      "[*********************100%%**********************]  1 of 1 completed\n"
     ]
    },
    {
     "name": "stdout",
     "output_type": "stream",
     "text": [
      "Downloading data for C\n",
      "Downloading data for MS\n"
     ]
    },
    {
     "name": "stderr",
     "output_type": "stream",
     "text": [
      "[*********************100%%**********************]  1 of 1 completed\n",
      "[*********************100%%**********************]  1 of 1 completed\n"
     ]
    },
    {
     "name": "stdout",
     "output_type": "stream",
     "text": [
      "Downloading data for NKE\n",
      "Downloading data for SYK\n"
     ]
    },
    {
     "name": "stderr",
     "output_type": "stream",
     "text": [
      "[*********************100%%**********************]  1 of 1 completed\n",
      "[*********************100%%**********************]  1 of 1 completed\n"
     ]
    },
    {
     "name": "stdout",
     "output_type": "stream",
     "text": [
      "Downloading data for SCHW\n",
      "Downloading data for TJX\n"
     ]
    },
    {
     "name": "stderr",
     "output_type": "stream",
     "text": [
      "[*********************100%%**********************]  1 of 1 completed\n",
      "[*********************100%%**********************]  1 of 1 completed\n"
     ]
    },
    {
     "name": "stdout",
     "output_type": "stream",
     "text": [
      "Downloading data for BSX\n",
      "Downloading data for UPS\n"
     ]
    },
    {
     "name": "stderr",
     "output_type": "stream",
     "text": [
      "[*********************100%%**********************]  1 of 1 completed\n",
      "[*********************100%%**********************]  1 of 1 completed\n"
     ]
    },
    {
     "name": "stdout",
     "output_type": "stream",
     "text": [
      "Downloading data for BLK\n",
      "Downloading data for MDT\n"
     ]
    },
    {
     "name": "stderr",
     "output_type": "stream",
     "text": [
      "[*********************100%%**********************]  1 of 1 completed\n",
      "[*********************100%%**********************]  1 of 1 completed\n"
     ]
    },
    {
     "name": "stdout",
     "output_type": "stream",
     "text": [
      "Downloading data for CI\n",
      "Downloading data for DE\n"
     ]
    },
    {
     "name": "stderr",
     "output_type": "stream",
     "text": [
      "[*********************100%%**********************]  1 of 1 completed\n",
      "[*********************100%%**********************]  1 of 1 completed\n"
     ]
    },
    {
     "name": "stdout",
     "output_type": "stream",
     "text": [
      "Downloading data for VRTX\n",
      "Downloading data for ADI\n"
     ]
    },
    {
     "name": "stderr",
     "output_type": "stream",
     "text": [
      "[*********************100%%**********************]  1 of 1 completed\n",
      "[*********************100%%**********************]  1 of 1 completed\n"
     ]
    },
    {
     "name": "stdout",
     "output_type": "stream",
     "text": [
      "Downloading data for SBUX\n",
      "Downloading data for ADP\n"
     ]
    },
    {
     "name": "stderr",
     "output_type": "stream",
     "text": [
      "[*********************100%%**********************]  1 of 1 completed\n",
      "[*********************100%%**********************]  1 of 1 completed\n"
     ]
    },
    {
     "name": "stdout",
     "output_type": "stream",
     "text": [
      "Downloading data for CB\n",
      "Downloading data for LMT\n"
     ]
    },
    {
     "name": "stderr",
     "output_type": "stream",
     "text": [
      "[*********************100%%**********************]  1 of 1 completed\n",
      "[*********************100%%**********************]  1 of 1 completed\n"
     ]
    },
    {
     "name": "stdout",
     "output_type": "stream",
     "text": [
      "Downloading data for MMC\n",
      "Downloading data for PLD\n"
     ]
    },
    {
     "name": "stderr",
     "output_type": "stream",
     "text": [
      "[*********************100%%**********************]  1 of 1 completed\n",
      "[*********************100%%**********************]  1 of 1 completed\n"
     ]
    },
    {
     "name": "stdout",
     "output_type": "stream",
     "text": [
      "Downloading data for KLAC\n",
      "Downloading data for BA\n"
     ]
    },
    {
     "name": "stderr",
     "output_type": "stream",
     "text": [
      "[*********************100%%**********************]  1 of 1 completed\n",
      "[*********************100%%**********************]  1 of 1 completed\n"
     ]
    },
    {
     "name": "stdout",
     "output_type": "stream",
     "text": [
      "Downloading data for MDLZ\n",
      "Downloading data for FI\n"
     ]
    },
    {
     "name": "stderr",
     "output_type": "stream",
     "text": [
      "[*********************100%%**********************]  1 of 1 completed\n",
      "[*********************100%%**********************]  1 of 1 completed\n",
      "[*********************100%%**********************]  1 of 1 completed\n"
     ]
    },
    {
     "name": "stdout",
     "output_type": "stream",
     "text": [
      "Downloading data for REGN\n",
      "Downloading data for PANW\n",
      "Downloading data for BMY\n"
     ]
    },
    {
     "name": "stderr",
     "output_type": "stream",
     "text": [
      "[*********************100%%**********************]  1 of 1 completed\n",
      "[*********************100%%**********************]  1 of 1 completed"
     ]
    },
    {
     "name": "stdout",
     "output_type": "stream",
     "text": [
      "Downloading data for BX\n",
      "Downloading data for CMG\n"
     ]
    },
    {
     "name": "stderr",
     "output_type": "stream",
     "text": [
      "\n",
      "[*********************100%%**********************]  1 of 1 completed\n",
      "[*********************100%%**********************]  1 of 1 completed\n"
     ]
    },
    {
     "name": "stdout",
     "output_type": "stream",
     "text": [
      "Downloading data for TMUS\n",
      "Downloading data for CVS\n"
     ]
    },
    {
     "name": "stderr",
     "output_type": "stream",
     "text": [
      "[*********************100%%**********************]  1 of 1 completed\n",
      "[*********************100%%**********************]  1 of 1 completed\n"
     ]
    },
    {
     "name": "stdout",
     "output_type": "stream",
     "text": [
      "Downloading data for SNPS\n",
      "Downloading data for GILD\n"
     ]
    },
    {
     "name": "stderr",
     "output_type": "stream",
     "text": [
      "[*********************100%%**********************]  1 of 1 completed\n",
      "[*********************100%%**********************]  1 of 1 completed\n"
     ]
    },
    {
     "name": "stdout",
     "output_type": "stream",
     "text": [
      "Downloading data for AMT\n",
      "Downloading data for SO\n"
     ]
    },
    {
     "name": "stderr",
     "output_type": "stream",
     "text": [
      "[*********************100%%**********************]  1 of 1 completed\n",
      "[*********************100%%**********************]  1 of 1 completed\n"
     ]
    },
    {
     "name": "stdout",
     "output_type": "stream",
     "text": [
      "Downloading data for EOG\n",
      "Downloading data for WM\n"
     ]
    },
    {
     "name": "stderr",
     "output_type": "stream",
     "text": [
      "[*********************100%%**********************]  1 of 1 completed\n",
      "[*********************100%%**********************]  1 of 1 completed\n"
     ]
    },
    {
     "name": "stdout",
     "output_type": "stream",
     "text": [
      "Downloading data for CDNS\n",
      "Downloading data for MO\n"
     ]
    },
    {
     "name": "stderr",
     "output_type": "stream",
     "text": [
      "[*********************100%%**********************]  1 of 1 completed\n",
      "[*********************100%%**********************]  1 of 1 completed\n"
     ]
    },
    {
     "name": "stdout",
     "output_type": "stream",
     "text": [
      "Downloading data for TGT\n",
      "Downloading data for CME\n"
     ]
    },
    {
     "name": "stderr",
     "output_type": "stream",
     "text": [
      "[*********************100%%**********************]  1 of 1 completed\n",
      "[*********************100%%**********************]  1 of 1 completed\n"
     ]
    },
    {
     "name": "stdout",
     "output_type": "stream",
     "text": [
      "Downloading data for ICE\n",
      "Downloading data for DUK\n"
     ]
    },
    {
     "name": "stderr",
     "output_type": "stream",
     "text": [
      "[*********************100%%**********************]  1 of 1 completed\n",
      "[*********************100%%**********************]  1 of 1 completed\n"
     ]
    },
    {
     "name": "stdout",
     "output_type": "stream",
     "text": [
      "Downloading data for CL\n",
      "Downloading data for MPC\n"
     ]
    },
    {
     "name": "stderr",
     "output_type": "stream",
     "text": [
      "[*********************100%%**********************]  1 of 1 completed\n",
      "[*********************100%%**********************]  1 of 1 completed\n"
     ]
    },
    {
     "name": "stdout",
     "output_type": "stream",
     "text": [
      "Downloading data for ZTS\n",
      "Downloading data for FCX\n"
     ]
    },
    {
     "name": "stderr",
     "output_type": "stream",
     "text": [
      "[*********************100%%**********************]  1 of 1 completed\n"
     ]
    },
    {
     "name": "stdout",
     "output_type": "stream",
     "text": [
      "Downloading data for SHW\n"
     ]
    },
    {
     "name": "stderr",
     "output_type": "stream",
     "text": [
      "[*********************100%%**********************]  1 of 1 completed\n",
      "[*********************100%%**********************]  1 of 1 completed\n"
     ]
    },
    {
     "name": "stdout",
     "output_type": "stream",
     "text": [
      "Downloading data for APH\n",
      "Downloading data for MCK\n"
     ]
    },
    {
     "name": "stderr",
     "output_type": "stream",
     "text": [
      "[*********************100%%**********************]  1 of 1 completed\n",
      "[*********************100%%**********************]  1 of 1 completed\n"
     ]
    },
    {
     "name": "stdout",
     "output_type": "stream",
     "text": [
      "Downloading data for ABNB\n",
      "Downloading data for PH\n"
     ]
    },
    {
     "name": "stderr",
     "output_type": "stream",
     "text": [
      "[*********************100%%**********************]  1 of 1 completed\n",
      "[*********************100%%**********************]  1 of 1 completed\n"
     ]
    },
    {
     "name": "stdout",
     "output_type": "stream",
     "text": [
      "Downloading data for PYPL\n",
      "Downloading data for SLB\n"
     ]
    },
    {
     "name": "stderr",
     "output_type": "stream",
     "text": [
      "[*********************100%%**********************]  1 of 1 completed\n",
      "[*********************100%%**********************]  1 of 1 completed\n"
     ]
    },
    {
     "name": "stdout",
     "output_type": "stream",
     "text": [
      "Downloading data for TDG\n",
      "Downloading data for TT\n"
     ]
    },
    {
     "name": "stderr",
     "output_type": "stream",
     "text": [
      "[*********************100%%**********************]  1 of 1 completed\n",
      "[*********************100%%**********************]  1 of 1 completed\n"
     ]
    },
    {
     "name": "stdout",
     "output_type": "stream",
     "text": [
      "Downloading data for EQIX\n",
      "Downloading data for NOC\n"
     ]
    },
    {
     "name": "stderr",
     "output_type": "stream",
     "text": [
      "[*********************100%%**********************]  1 of 1 completed\n",
      "[*********************100%%**********************]  1 of 1 completed\n"
     ]
    },
    {
     "name": "stdout",
     "output_type": "stream",
     "text": [
      "Downloading data for ITW\n",
      "Downloading data for BDX\n"
     ]
    },
    {
     "name": "stderr",
     "output_type": "stream",
     "text": [
      "[*********************100%%**********************]  1 of 1 completed\n",
      "[*********************100%%**********************]  1 of 1 completed\n"
     ]
    },
    {
     "name": "stdout",
     "output_type": "stream",
     "text": [
      "Downloading data for CSX\n",
      "Downloading data for ANET\n"
     ]
    },
    {
     "name": "stderr",
     "output_type": "stream",
     "text": [
      "[*********************100%%**********************]  1 of 1 completed\n",
      "[*********************100%%**********************]  1 of 1 completed\n"
     ]
    },
    {
     "name": "stdout",
     "output_type": "stream",
     "text": [
      "Downloading data for PSX\n",
      "Downloading data for GD\n"
     ]
    },
    {
     "name": "stderr",
     "output_type": "stream",
     "text": [
      "[*********************100%%**********************]  1 of 1 completed\n",
      "[*********************100%%**********************]  1 of 1 completed\n"
     ]
    },
    {
     "name": "stdout",
     "output_type": "stream",
     "text": [
      "Downloading data for USB\n",
      "Downloading data for PXD\n"
     ]
    },
    {
     "name": "stderr",
     "output_type": "stream",
     "text": [
      "[*********************100%%**********************]  1 of 1 completed\n"
     ]
    },
    {
     "name": "stdout",
     "output_type": "stream",
     "text": [
      "Downloading data for EMR\n"
     ]
    },
    {
     "name": "stderr",
     "output_type": "stream",
     "text": [
      "[*********************100%%**********************]  1 of 1 completed\n",
      "[*********************100%%**********************]  1 of 1 completed\n"
     ]
    },
    {
     "name": "stdout",
     "output_type": "stream",
     "text": [
      "Downloading data for NXPI\n",
      "Downloading data for PNC\n"
     ]
    },
    {
     "name": "stderr",
     "output_type": "stream",
     "text": [
      "[*********************100%%**********************]  1 of 1 completed\n",
      "[*********************100%%**********************]  1 of 1 completed\n"
     ]
    },
    {
     "name": "stdout",
     "output_type": "stream",
     "text": [
      "Downloading data for ORLY\n",
      "Downloading data for FDX\n"
     ]
    },
    {
     "name": "stderr",
     "output_type": "stream",
     "text": [
      "[*********************100%%**********************]  1 of 1 completed\n",
      "[*********************100%%**********************]  1 of 1 completed\n"
     ]
    },
    {
     "name": "stdout",
     "output_type": "stream",
     "text": [
      "Downloading data for HCA\n",
      "Downloading data for CEG\n"
     ]
    },
    {
     "name": "stderr",
     "output_type": "stream",
     "text": [
      "[*********************100%%**********************]  1 of 1 completed\n"
     ]
    },
    {
     "name": "stdout",
     "output_type": "stream",
     "text": [
      "Downloading data for MAR\n"
     ]
    },
    {
     "name": "stderr",
     "output_type": "stream",
     "text": [
      "[*********************100%%**********************]  1 of 1 completed\n",
      "[*********************100%%**********************]  1 of 1 completed\n"
     ]
    },
    {
     "name": "stdout",
     "output_type": "stream",
     "text": [
      "Downloading data for MCO\n",
      "Downloading data for PCAR\n"
     ]
    },
    {
     "name": "stderr",
     "output_type": "stream",
     "text": [
      "[*********************100%%**********************]  1 of 1 completed\n",
      "[*********************100%%**********************]  1 of 1 completed\n"
     ]
    },
    {
     "name": "stdout",
     "output_type": "stream",
     "text": [
      "Downloading data for CTAS\n",
      "Downloading data for MSI\n"
     ]
    },
    {
     "name": "stderr",
     "output_type": "stream",
     "text": [
      "[*********************100%%**********************]  1 of 1 completed\n",
      "[*********************100%%**********************]  1 of 1 completed\n"
     ]
    },
    {
     "name": "stdout",
     "output_type": "stream",
     "text": [
      "Downloading data for AON\n",
      "Downloading data for VLO\n"
     ]
    },
    {
     "name": "stderr",
     "output_type": "stream",
     "text": [
      "[*********************100%%**********************]  1 of 1 completed\n",
      "[*********************100%%**********************]  1 of 1 completed\n"
     ]
    },
    {
     "name": "stdout",
     "output_type": "stream",
     "text": [
      "Downloading data for ECL\n",
      "Downloading data for ROP\n"
     ]
    },
    {
     "name": "stderr",
     "output_type": "stream",
     "text": [
      "[*********************100%%**********************]  1 of 1 completed\n",
      "[*********************100%%**********************]  1 of 1 completed\n"
     ]
    },
    {
     "name": "stdout",
     "output_type": "stream",
     "text": [
      "Downloading data for COF\n",
      "Downloading data for NSC\n"
     ]
    },
    {
     "name": "stderr",
     "output_type": "stream",
     "text": [
      "[*********************100%%**********************]  1 of 1 completed\n",
      "[*********************100%%**********************]  1 of 1 completed\n"
     ]
    },
    {
     "name": "stdout",
     "output_type": "stream",
     "text": [
      "Downloading data for GM\n",
      "Downloading data for APD\n"
     ]
    },
    {
     "name": "stderr",
     "output_type": "stream",
     "text": [
      "[*********************100%%**********************]  1 of 1 completed\n",
      "[*********************100%%**********************]  1 of 1 completed\n"
     ]
    },
    {
     "name": "stdout",
     "output_type": "stream",
     "text": [
      "Downloading data for EW\n",
      "Downloading data for AIG\n"
     ]
    },
    {
     "name": "stderr",
     "output_type": "stream",
     "text": [
      "[*********************100%%**********************]  1 of 1 completed\n",
      "[*********************100%%**********************]  1 of 1 completed\n"
     ]
    },
    {
     "name": "stdout",
     "output_type": "stream",
     "text": [
      "Downloading data for WELL\n",
      "Downloading data for HLT\n"
     ]
    },
    {
     "name": "stderr",
     "output_type": "stream",
     "text": [
      "[*********************100%%**********************]  1 of 1 completed\n",
      "[*********************100%%**********************]  1 of 1 completed\n"
     ]
    },
    {
     "name": "stdout",
     "output_type": "stream",
     "text": [
      "Downloading data for AZO\n",
      "Downloading data for TFC\n"
     ]
    },
    {
     "name": "stderr",
     "output_type": "stream",
     "text": [
      "[*********************100%%**********************]  1 of 1 completed\n",
      "[*********************100%%**********************]  1 of 1 completed\n"
     ]
    },
    {
     "name": "stdout",
     "output_type": "stream",
     "text": [
      "Downloading data for MMM\n",
      "Downloading data for CARR\n"
     ]
    },
    {
     "name": "stderr",
     "output_type": "stream",
     "text": [
      "[*********************100%%**********************]  1 of 1 completed\n",
      "[*********************100%%**********************]  1 of 1 completed\n"
     ]
    },
    {
     "name": "stdout",
     "output_type": "stream",
     "text": [
      "Downloading data for MCHP\n",
      "Downloading data for AJG\n"
     ]
    },
    {
     "name": "stderr",
     "output_type": "stream",
     "text": [
      "[*********************100%%**********************]  1 of 1 completed\n",
      "[*********************100%%**********************]  1 of 1 completed\n"
     ]
    },
    {
     "name": "stdout",
     "output_type": "stream",
     "text": [
      "Downloading data for F\n",
      "Downloading data for NEM\n"
     ]
    },
    {
     "name": "stderr",
     "output_type": "stream",
     "text": [
      "[*********************100%%**********************]  1 of 1 completed\n",
      "[*********************100%%**********************]  1 of 1 completed\n"
     ]
    },
    {
     "name": "stdout",
     "output_type": "stream",
     "text": [
      "Downloading data for TRV\n",
      "Downloading data for CPRT\n"
     ]
    },
    {
     "name": "stderr",
     "output_type": "stream",
     "text": [
      "[*********************100%%**********************]  1 of 1 completed\n",
      "[*********************100%%**********************]  1 of 1 completed\n"
     ]
    },
    {
     "name": "stdout",
     "output_type": "stream",
     "text": [
      "Downloading data for DXCM\n",
      "Downloading data for WMB\n"
     ]
    },
    {
     "name": "stderr",
     "output_type": "stream",
     "text": [
      "[*********************100%%**********************]  1 of 1 completed\n",
      "[*********************100%%**********************]  1 of 1 completed\n"
     ]
    },
    {
     "name": "stdout",
     "output_type": "stream",
     "text": [
      "Downloading data for OKE\n",
      "Downloading data for URI\n"
     ]
    },
    {
     "name": "stderr",
     "output_type": "stream",
     "text": [
      "[*********************100%%**********************]  1 of 1 completed\n",
      "[*********************100%%**********************]  1 of 1 completed\n"
     ]
    },
    {
     "name": "stdout",
     "output_type": "stream",
     "text": [
      "Downloading data for ADSK\n",
      "Downloading data for SPG\n"
     ]
    },
    {
     "name": "stderr",
     "output_type": "stream",
     "text": [
      "[*********************100%%**********************]  1 of 1 completed\n",
      "[*********************100%%**********************]  1 of 1 completed\n"
     ]
    },
    {
     "name": "stdout",
     "output_type": "stream",
     "text": [
      "Downloading data for KMB\n",
      "Downloading data for ROST\n"
     ]
    },
    {
     "name": "stderr",
     "output_type": "stream",
     "text": [
      "[*********************100%%**********************]  1 of 1 completed\n",
      "[*********************100%%**********************]  1 of 1 completed\n"
     ]
    },
    {
     "name": "stdout",
     "output_type": "stream",
     "text": [
      "Downloading data for HES\n",
      "Downloading data for SRE\n"
     ]
    },
    {
     "name": "stderr",
     "output_type": "stream",
     "text": [
      "[*********************100%%**********************]  1 of 1 completed\n",
      "[*********************100%%**********************]  1 of 1 completed\n"
     ]
    },
    {
     "name": "stdout",
     "output_type": "stream",
     "text": [
      "Downloading data for AEP\n",
      "Downloading data for OXY\n"
     ]
    },
    {
     "name": "stderr",
     "output_type": "stream",
     "text": [
      "[*********************100%%**********************]  1 of 1 completed\n",
      "[*********************100%%**********************]  1 of 1 completed\n"
     ]
    },
    {
     "name": "stdout",
     "output_type": "stream",
     "text": [
      "Downloading data for O\n",
      "Downloading data for ALL\n"
     ]
    },
    {
     "name": "stderr",
     "output_type": "stream",
     "text": [
      "[*********************100%%**********************]  1 of 1 completed\n",
      "[*********************100%%**********************]  1 of 1 completed\n"
     ]
    },
    {
     "name": "stdout",
     "output_type": "stream",
     "text": [
      "Downloading data for AFL\n",
      "Downloading data for JCI\n"
     ]
    },
    {
     "name": "stderr",
     "output_type": "stream",
     "text": [
      "[*********************100%%**********************]  1 of 1 completed\n",
      "[*********************100%%**********************]  1 of 1 completed\n"
     ]
    },
    {
     "name": "stdout",
     "output_type": "stream",
     "text": [
      "Downloading data for DHI\n",
      "Downloading data for TEL\n"
     ]
    },
    {
     "name": "stderr",
     "output_type": "stream",
     "text": [
      "[*********************100%%**********************]  1 of 1 completed\n",
      "[*********************100%%**********************]  1 of 1 completed\n"
     ]
    },
    {
     "name": "stdout",
     "output_type": "stream",
     "text": [
      "Downloading data for BK\n",
      "Downloading data for DLR\n"
     ]
    },
    {
     "name": "stderr",
     "output_type": "stream",
     "text": [
      "[*********************100%%**********************]  1 of 1 completed\n",
      "[*********************100%%**********************]  1 of 1 completed\n"
     ]
    },
    {
     "name": "stdout",
     "output_type": "stream",
     "text": [
      "Downloading data for MET\n",
      "Downloading data for SMCI\n"
     ]
    },
    {
     "name": "stderr",
     "output_type": "stream",
     "text": [
      "[*********************100%%**********************]  1 of 1 completed\n",
      "[*********************100%%**********************]  1 of 1 completed\n"
     ]
    },
    {
     "name": "stdout",
     "output_type": "stream",
     "text": [
      "Downloading data for NUE\n",
      "Downloading data for IQV\n"
     ]
    },
    {
     "name": "stderr",
     "output_type": "stream",
     "text": [
      "[*********************100%%**********************]  1 of 1 completed\n",
      "[*********************100%%**********************]  1 of 1 completed\n"
     ]
    },
    {
     "name": "stdout",
     "output_type": "stream",
     "text": [
      "Downloading data for D\n",
      "Downloading data for STZ\n"
     ]
    },
    {
     "name": "stderr",
     "output_type": "stream",
     "text": [
      "[*********************100%%**********************]  1 of 1 completed\n",
      "[*********************100%%**********************]  1 of 1 completed\n"
     ]
    },
    {
     "name": "stdout",
     "output_type": "stream",
     "text": [
      "Downloading data for LULU\n",
      "Downloading data for GEV\n"
     ]
    },
    {
     "name": "stderr",
     "output_type": "stream",
     "text": [
      "[*********************100%%**********************]  1 of 1 completed\n",
      "\n",
      "1 Failed download:\n",
      "['GEV']: Exception(\"%ticker%: Data doesn't exist for startDate = 1104555600, endDate = 1704085200\")\n",
      "[*********************100%%**********************]  1 of 1 completed\n"
     ]
    },
    {
     "name": "stdout",
     "output_type": "stream",
     "text": [
      "Downloading data for IDXX\n",
      "Downloading data for AMP\n"
     ]
    },
    {
     "name": "stderr",
     "output_type": "stream",
     "text": [
      "[*********************100%%**********************]  1 of 1 completed\n",
      "[*********************100%%**********************]  1 of 1 completed\n"
     ]
    },
    {
     "name": "stdout",
     "output_type": "stream",
     "text": [
      "Downloading data for FIS\n",
      "Downloading data for GWW\n"
     ]
    },
    {
     "name": "stderr",
     "output_type": "stream",
     "text": [
      "[*********************100%%**********************]  1 of 1 completed\n",
      "[*********************100%%**********************]  1 of 1 completed\n"
     ]
    },
    {
     "name": "stdout",
     "output_type": "stream",
     "text": [
      "Downloading data for AME\n",
      "Downloading data for FTNT\n"
     ]
    },
    {
     "name": "stderr",
     "output_type": "stream",
     "text": [
      "[*********************100%%**********************]  1 of 1 completed\n",
      "[*********************100%%**********************]  1 of 1 completed\n"
     ]
    },
    {
     "name": "stdout",
     "output_type": "stream",
     "text": [
      "Downloading data for PSA\n",
      "Downloading data for LHX\n"
     ]
    },
    {
     "name": "stderr",
     "output_type": "stream",
     "text": [
      "[*********************100%%**********************]  1 of 1 completed\n",
      "[*********************100%%**********************]  1 of 1 completed\n"
     ]
    },
    {
     "name": "stdout",
     "output_type": "stream",
     "text": [
      "Downloading data for CCI\n",
      "Downloading data for A\n"
     ]
    },
    {
     "name": "stderr",
     "output_type": "stream",
     "text": [
      "[*********************100%%**********************]  1 of 1 completed\n",
      "[*********************100%%**********************]  1 of 1 completed\n"
     ]
    },
    {
     "name": "stdout",
     "output_type": "stream",
     "text": [
      "Downloading data for GIS\n",
      "Downloading data for DOW\n"
     ]
    },
    {
     "name": "stderr",
     "output_type": "stream",
     "text": [
      "[*********************100%%**********************]  1 of 1 completed\n",
      "[*********************100%%**********************]  1 of 1 completed\n"
     ]
    },
    {
     "name": "stdout",
     "output_type": "stream",
     "text": [
      "Downloading data for COR\n",
      "Downloading data for PRU\n"
     ]
    },
    {
     "name": "stderr",
     "output_type": "stream",
     "text": [
      "[*********************100%%**********************]  1 of 1 completed\n",
      "[*********************100%%**********************]  1 of 1 completed\n"
     ]
    },
    {
     "name": "stdout",
     "output_type": "stream",
     "text": [
      "Downloading data for YUM\n",
      "Downloading data for CMI\n"
     ]
    },
    {
     "name": "stderr",
     "output_type": "stream",
     "text": [
      "[*********************100%%**********************]  1 of 1 completed\n",
      "[*********************100%%**********************]  1 of 1 completed\n"
     ]
    },
    {
     "name": "stdout",
     "output_type": "stream",
     "text": [
      "Downloading data for CNC\n",
      "Downloading data for MNST\n"
     ]
    },
    {
     "name": "stderr",
     "output_type": "stream",
     "text": [
      "[*********************100%%**********************]  1 of 1 completed\n",
      "[*********************100%%**********************]  1 of 1 completed\n"
     ]
    },
    {
     "name": "stdout",
     "output_type": "stream",
     "text": [
      "Downloading data for RSG\n",
      "Downloading data for FAST\n"
     ]
    },
    {
     "name": "stderr",
     "output_type": "stream",
     "text": [
      "[*********************100%%**********************]  1 of 1 completed\n",
      "[*********************100%%**********************]  1 of 1 completed\n"
     ]
    },
    {
     "name": "stdout",
     "output_type": "stream",
     "text": [
      "Downloading data for SYY\n",
      "Downloading data for CTVA\n"
     ]
    },
    {
     "name": "stderr",
     "output_type": "stream",
     "text": [
      "[*********************100%%**********************]  1 of 1 completed\n",
      "[*********************100%%**********************]  1 of 1 completed\n"
     ]
    },
    {
     "name": "stdout",
     "output_type": "stream",
     "text": [
      "Downloading data for LEN\n",
      "Downloading data for PAYX\n"
     ]
    },
    {
     "name": "stderr",
     "output_type": "stream",
     "text": [
      "[*********************100%%**********************]  1 of 1 completed\n",
      "[*********************100%%**********************]  1 of 1 completed\n"
     ]
    },
    {
     "name": "stdout",
     "output_type": "stream",
     "text": [
      "Downloading data for PWR\n",
      "Downloading data for IR\n"
     ]
    },
    {
     "name": "stderr",
     "output_type": "stream",
     "text": [
      "[*********************100%%**********************]  1 of 1 completed\n",
      "[*********************100%%**********************]  1 of 1 completed\n"
     ]
    },
    {
     "name": "stdout",
     "output_type": "stream",
     "text": [
      "Downloading data for MSCI\n",
      "Downloading data for CSGP\n"
     ]
    },
    {
     "name": "stderr",
     "output_type": "stream",
     "text": [
      "[*********************100%%**********************]  1 of 1 completed\n",
      "[*********************100%%**********************]  1 of 1 completed\n"
     ]
    },
    {
     "name": "stdout",
     "output_type": "stream",
     "text": [
      "Downloading data for OTIS\n",
      "Downloading data for HUM\n"
     ]
    },
    {
     "name": "stderr",
     "output_type": "stream",
     "text": [
      "[*********************100%%**********************]  1 of 1 completed\n",
      "[*********************100%%**********************]  1 of 1 completed\n"
     ]
    },
    {
     "name": "stdout",
     "output_type": "stream",
     "text": [
      "Downloading data for MLM\n",
      "Downloading data for FANG\n"
     ]
    },
    {
     "name": "stderr",
     "output_type": "stream",
     "text": [
      "[*********************100%%**********************]  1 of 1 completed\n",
      "[*********************100%%**********************]  1 of 1 completed\n"
     ]
    },
    {
     "name": "stdout",
     "output_type": "stream",
     "text": [
      "Downloading data for EXC\n",
      "Downloading data for GEHC\n"
     ]
    },
    {
     "name": "stderr",
     "output_type": "stream",
     "text": [
      "[*********************100%%**********************]  1 of 1 completed\n",
      "[*********************100%%**********************]  1 of 1 completed\n"
     ]
    },
    {
     "name": "stdout",
     "output_type": "stream",
     "text": [
      "Downloading data for PCG\n",
      "Downloading data for KR\n"
     ]
    },
    {
     "name": "stderr",
     "output_type": "stream",
     "text": [
      "[*********************100%%**********************]  1 of 1 completed\n",
      "[*********************100%%**********************]  1 of 1 completed\n"
     ]
    },
    {
     "name": "stdout",
     "output_type": "stream",
     "text": [
      "Downloading data for MRNA\n",
      "Downloading data for KMI\n"
     ]
    },
    {
     "name": "stderr",
     "output_type": "stream",
     "text": [
      "[*********************100%%**********************]  1 of 1 completed\n",
      "[*********************100%%**********************]  1 of 1 completed\n"
     ]
    },
    {
     "name": "stdout",
     "output_type": "stream",
     "text": [
      "Downloading data for KDP\n",
      "Downloading data for IT\n"
     ]
    },
    {
     "name": "stderr",
     "output_type": "stream",
     "text": [
      "[*********************100%%**********************]  1 of 1 completed\n",
      "[*********************100%%**********************]  1 of 1 completed\n"
     ]
    },
    {
     "name": "stdout",
     "output_type": "stream",
     "text": [
      "Downloading data for VMC\n",
      "Downloading data for HAL\n"
     ]
    },
    {
     "name": "stderr",
     "output_type": "stream",
     "text": [
      "[*********************100%%**********************]  1 of 1 completed\n",
      "[*********************100%%**********************]  1 of 1 completed\n"
     ]
    },
    {
     "name": "stdout",
     "output_type": "stream",
     "text": [
      "Downloading data for EL\n",
      "Downloading data for DVN\n"
     ]
    },
    {
     "name": "stderr",
     "output_type": "stream",
     "text": [
      "[*********************100%%**********************]  1 of 1 completed\n",
      "[*********************100%%**********************]  1 of 1 completed\n"
     ]
    },
    {
     "name": "stdout",
     "output_type": "stream",
     "text": [
      "Downloading data for PEG\n",
      "Downloading data for ACGL\n"
     ]
    },
    {
     "name": "stderr",
     "output_type": "stream",
     "text": [
      "[*********************100%%**********************]  1 of 1 completed\n",
      "[*********************100%%**********************]  1 of 1 completed\n"
     ]
    },
    {
     "name": "stdout",
     "output_type": "stream",
     "text": [
      "Downloading data for CTSH\n",
      "Downloading data for RCL\n"
     ]
    },
    {
     "name": "stderr",
     "output_type": "stream",
     "text": [
      "[*********************100%%**********************]  1 of 1 completed\n",
      "[*********************100%%**********************]  1 of 1 completed\n"
     ]
    },
    {
     "name": "stdout",
     "output_type": "stream",
     "text": [
      "Downloading data for BKR\n",
      "Downloading data for ODFL\n"
     ]
    },
    {
     "name": "stderr",
     "output_type": "stream",
     "text": [
      "[*********************100%%**********************]  1 of 1 completed\n",
      "[*********************100%%**********************]  1 of 1 completed\n",
      "[*********************100%%**********************]  1 of 1 completed\n"
     ]
    },
    {
     "name": "stdout",
     "output_type": "stream",
     "text": [
      "Downloading data for KVUE\n",
      "Downloading data for CDW\n",
      "Downloading data for GPN\n"
     ]
    },
    {
     "name": "stderr",
     "output_type": "stream",
     "text": [
      "[*********************100%%**********************]  1 of 1 completed\n",
      "[*********************100%%**********************]  1 of 1 completed\n"
     ]
    },
    {
     "name": "stdout",
     "output_type": "stream",
     "text": [
      "Downloading data for MPWR\n",
      "Downloading data for ROK\n"
     ]
    },
    {
     "name": "stderr",
     "output_type": "stream",
     "text": [
      "[*********************100%%**********************]  1 of 1 completed\n",
      "[*********************100%%**********************]  1 of 1 completed\n"
     ]
    },
    {
     "name": "stdout",
     "output_type": "stream",
     "text": [
      "Downloading data for DAL\n",
      "Downloading data for ED\n"
     ]
    },
    {
     "name": "stderr",
     "output_type": "stream",
     "text": [
      "[*********************100%%**********************]  1 of 1 completed\n",
      "[*********************100%%**********************]  1 of 1 completed\n"
     ]
    },
    {
     "name": "stdout",
     "output_type": "stream",
     "text": [
      "Downloading data for VRSK\n",
      "Downloading data for ADM\n"
     ]
    },
    {
     "name": "stderr",
     "output_type": "stream",
     "text": [
      "[*********************100%%**********************]  1 of 1 completed\n",
      "[*********************100%%**********************]  1 of 1 completed\n"
     ]
    },
    {
     "name": "stdout",
     "output_type": "stream",
     "text": [
      "Downloading data for RMD\n",
      "Downloading data for DFS\n"
     ]
    },
    {
     "name": "stderr",
     "output_type": "stream",
     "text": [
      "[*********************100%%**********************]  1 of 1 completed\n"
     ]
    },
    {
     "name": "stdout",
     "output_type": "stream",
     "text": [
      "Downloading data for DD\n"
     ]
    },
    {
     "name": "stderr",
     "output_type": "stream",
     "text": [
      "[*********************100%%**********************]  1 of 1 completed\n",
      "[*********************100%%**********************]  1 of 1 completed\n"
     ]
    },
    {
     "name": "stdout",
     "output_type": "stream",
     "text": [
      "Downloading data for XYL\n",
      "Downloading data for EA\n"
     ]
    },
    {
     "name": "stderr",
     "output_type": "stream",
     "text": [
      "[*********************100%%**********************]  1 of 1 completed\n",
      "[*********************100%%**********************]  1 of 1 completed\n"
     ]
    },
    {
     "name": "stdout",
     "output_type": "stream",
     "text": [
      "Downloading data for DG\n",
      "Downloading data for PPG\n"
     ]
    },
    {
     "name": "stderr",
     "output_type": "stream",
     "text": [
      "[*********************100%%**********************]  1 of 1 completed\n",
      "[*********************100%%**********************]  1 of 1 completed\n"
     ]
    },
    {
     "name": "stdout",
     "output_type": "stream",
     "text": [
      "Downloading data for KHC\n",
      "Downloading data for BIIB\n"
     ]
    },
    {
     "name": "stderr",
     "output_type": "stream",
     "text": [
      "[*********************100%%**********************]  1 of 1 completed\n",
      "[*********************100%%**********************]  1 of 1 completed\n"
     ]
    },
    {
     "name": "stdout",
     "output_type": "stream",
     "text": [
      "Downloading data for XEL\n",
      "Downloading data for TSCO\n"
     ]
    },
    {
     "name": "stderr",
     "output_type": "stream",
     "text": [
      "[*********************100%%**********************]  1 of 1 completed\n",
      "[*********************100%%**********************]  1 of 1 completed\n"
     ]
    },
    {
     "name": "stdout",
     "output_type": "stream",
     "text": [
      "Downloading data for WAB\n",
      "Downloading data for VICI\n"
     ]
    },
    {
     "name": "stderr",
     "output_type": "stream",
     "text": [
      "[*********************100%%**********************]  1 of 1 completed\n",
      "[*********************100%%**********************]  1 of 1 completed\n",
      "[*********************100%%**********************]  1 of 1 completed\n"
     ]
    },
    {
     "name": "stdout",
     "output_type": "stream",
     "text": [
      "Downloading data for ON\n",
      "Downloading data for ANSS\n",
      "Downloading data for HIG\n"
     ]
    },
    {
     "name": "stderr",
     "output_type": "stream",
     "text": [
      "[*********************100%%**********************]  1 of 1 completed\n",
      "[*********************100%%**********************]  1 of 1 completed\n"
     ]
    },
    {
     "name": "stdout",
     "output_type": "stream",
     "text": [
      "Downloading data for EXR\n",
      "Downloading data for HSY\n"
     ]
    },
    {
     "name": "stderr",
     "output_type": "stream",
     "text": [
      "[*********************100%%**********************]  1 of 1 completed\n",
      "[*********************100%%**********************]  1 of 1 completed\n"
     ]
    },
    {
     "name": "stdout",
     "output_type": "stream",
     "text": [
      "Downloading data for FICO\n",
      "Downloading data for EFX\n"
     ]
    },
    {
     "name": "stderr",
     "output_type": "stream",
     "text": [
      "[*********************100%%**********************]  1 of 1 completed\n",
      "[*********************100%%**********************]  1 of 1 completed\n"
     ]
    },
    {
     "name": "stdout",
     "output_type": "stream",
     "text": [
      "Downloading data for EBAY\n",
      "Downloading data for AVB\n"
     ]
    },
    {
     "name": "stderr",
     "output_type": "stream",
     "text": [
      "[*********************100%%**********************]  1 of 1 completed\n",
      "[*********************100%%**********************]  1 of 1 completed\n"
     ]
    },
    {
     "name": "stdout",
     "output_type": "stream",
     "text": [
      "Downloading data for EIX\n",
      "Downloading data for MTD\n"
     ]
    },
    {
     "name": "stderr",
     "output_type": "stream",
     "text": [
      "[*********************100%%**********************]  1 of 1 completed\n",
      "[*********************100%%**********************]  1 of 1 completed\n"
     ]
    },
    {
     "name": "stdout",
     "output_type": "stream",
     "text": [
      "Downloading data for FTV\n",
      "Downloading data for WST\n"
     ]
    },
    {
     "name": "stderr",
     "output_type": "stream",
     "text": [
      "[*********************100%%**********************]  1 of 1 completed\n",
      "[*********************100%%**********************]  1 of 1 completed\n"
     ]
    },
    {
     "name": "stdout",
     "output_type": "stream",
     "text": [
      "Downloading data for KEYS\n",
      "Downloading data for CHD\n"
     ]
    },
    {
     "name": "stderr",
     "output_type": "stream",
     "text": [
      "[*********************100%%**********************]  1 of 1 completed\n",
      "[*********************100%%**********************]  1 of 1 completed\n"
     ]
    },
    {
     "name": "stdout",
     "output_type": "stream",
     "text": [
      "Downloading data for HWM\n",
      "Downloading data for CBRE\n"
     ]
    },
    {
     "name": "stderr",
     "output_type": "stream",
     "text": [
      "[*********************100%%**********************]  1 of 1 completed\n",
      "[*********************100%%**********************]  1 of 1 completed\n"
     ]
    },
    {
     "name": "stdout",
     "output_type": "stream",
     "text": [
      "Downloading data for LYB\n",
      "Downloading data for WTW\n"
     ]
    },
    {
     "name": "stderr",
     "output_type": "stream",
     "text": [
      "[*********************100%%**********************]  1 of 1 completed\n",
      "[*********************100%%**********************]  1 of 1 completed\n"
     ]
    },
    {
     "name": "stdout",
     "output_type": "stream",
     "text": [
      "Downloading data for TRGP\n",
      "Downloading data for WEC\n"
     ]
    },
    {
     "name": "stderr",
     "output_type": "stream",
     "text": [
      "[*********************100%%**********************]  1 of 1 completed\n",
      "[*********************100%%**********************]  1 of 1 completed\n"
     ]
    },
    {
     "name": "stdout",
     "output_type": "stream",
     "text": [
      "Downloading data for TROW\n",
      "Downloading data for CAH\n"
     ]
    },
    {
     "name": "stderr",
     "output_type": "stream",
     "text": [
      "[*********************100%%**********************]  1 of 1 completed\n",
      "[*********************100%%**********************]  1 of 1 completed\n"
     ]
    },
    {
     "name": "stdout",
     "output_type": "stream",
     "text": [
      "Downloading data for DLTR\n",
      "Downloading data for DOV\n"
     ]
    },
    {
     "name": "stderr",
     "output_type": "stream",
     "text": [
      "[*********************100%%**********************]  1 of 1 completed\n",
      "[*********************100%%**********************]  1 of 1 completed\n"
     ]
    },
    {
     "name": "stdout",
     "output_type": "stream",
     "text": [
      "Downloading data for FITB\n",
      "Downloading data for CHTR\n"
     ]
    },
    {
     "name": "stderr",
     "output_type": "stream",
     "text": [
      "[*********************100%%**********************]  1 of 1 completed\n"
     ]
    },
    {
     "name": "stdout",
     "output_type": "stream",
     "text": [
      "All data downloaded and saved.\n"
     ]
    }
   ],
   "source": [
    "# Split tickers into batches of 100 for we don't hit the API rate limit\n",
    "ticker_batches = [ticker_symbols[i:i + 100] for i in range(0, len(ticker_symbols), 100)]\n",
    "\n",
    "# Start and end dates\n",
    "start_date = '2005-01-01'\n",
    "end_date = '2024-01-01'\n",
    "\n",
    "# Create an empty DataFrame to store all data\n",
    "all_data = pd.DataFrame()\n",
    "\n",
    "# Loop through each batch of tickers and fetch the historical data\n",
    "for batch in ticker_batches:\n",
    "    for ticker in batch:\n",
    "        print(f\"Downloading data for {ticker}\")\n",
    "        data = yf.download(ticker, start=start_date, end=end_date, interval=\"1wk\")\n",
    "        data.dropna(inplace=True)  # Clean data by dropping NAs\n",
    "        data['Ticker'] = ticker  # Add a column to identify the stock\n",
    "        #data['Sector'] = get_sector(ticker) # Add a column to identify the sector\n",
    "        all_data = pd.concat([all_data, data], axis=0)\n",
    "    \n",
    "    # Save to CSV after each batch is processed\n",
    "    #all_data.to_csv('data/historical_stock_data_partial.csv')\n",
    "\n",
    "    time.sleep(10)  # sleep tim to avoid hitting API rate limits\n",
    "\n",
    "# Save the final result to a CSV file\n",
    "all_data.to_csv('data/historical_stock_data_final.csv')\n",
    "\n",
    "print(\"All data downloaded and saved.\")\n"
   ]
  },
  {
   "cell_type": "markdown",
   "metadata": {},
   "source": [
    "# FEATURE ENGINEERING\n",
    "\n",
    "\n",
    "### TECHNICAL INDICATORS:\n",
    "\n",
    "* MACD (Moving Average Convergence Divergence)\n",
    "* RSI (Relative Strength Index)\n",
    "* Bollinger Bands High (the low is commented out)\n",
    "* ADX (Average Directional Index)\n",
    "* ATR (Average True Range)\n",
    "* CCI (Commodity Channel Index)\n",
    "* MFI (Money Flow Index)\n",
    "* Stochastic Oscillator\n",
    "* Keltner Channel\n",
    "* VWAP (Volume Weighted Average Price)\n",
    "* EOM (Ease Of Movement)\n",
    "* VPT (Volume Price Trend)"
   ]
  },
  {
   "cell_type": "code",
   "execution_count": 20,
   "metadata": {},
   "outputs": [],
   "source": [
    "# 1. Load data\n",
    "data_yf = pd.read_csv('data/historical_stock_data_final.csv')"
   ]
  },
  {
   "cell_type": "code",
   "execution_count": 21,
   "metadata": {},
   "outputs": [
    {
     "data": {
      "text/html": [
       "<div>\n",
       "<style scoped>\n",
       "    .dataframe tbody tr th:only-of-type {\n",
       "        vertical-align: middle;\n",
       "    }\n",
       "\n",
       "    .dataframe tbody tr th {\n",
       "        vertical-align: top;\n",
       "    }\n",
       "\n",
       "    .dataframe thead th {\n",
       "        text-align: right;\n",
       "    }\n",
       "</style>\n",
       "<table border=\"1\" class=\"dataframe\">\n",
       "  <thead>\n",
       "    <tr style=\"text-align: right;\">\n",
       "      <th></th>\n",
       "      <th>Date</th>\n",
       "      <th>Open</th>\n",
       "      <th>High</th>\n",
       "      <th>Low</th>\n",
       "      <th>Close</th>\n",
       "      <th>Adj Close</th>\n",
       "      <th>Volume</th>\n",
       "      <th>Ticker</th>\n",
       "    </tr>\n",
       "  </thead>\n",
       "  <tbody>\n",
       "    <tr>\n",
       "      <th>0</th>\n",
       "      <td>2005-01-01</td>\n",
       "      <td>26.799999</td>\n",
       "      <td>27.100000</td>\n",
       "      <td>26.620001</td>\n",
       "      <td>26.670000</td>\n",
       "      <td>18.611700</td>\n",
       "      <td>392522300.0</td>\n",
       "      <td>MSFT</td>\n",
       "    </tr>\n",
       "    <tr>\n",
       "      <th>1</th>\n",
       "      <td>2005-01-08</td>\n",
       "      <td>26.600000</td>\n",
       "      <td>26.860001</td>\n",
       "      <td>26.040001</td>\n",
       "      <td>26.120001</td>\n",
       "      <td>18.227880</td>\n",
       "      <td>390071600.0</td>\n",
       "      <td>MSFT</td>\n",
       "    </tr>\n",
       "    <tr>\n",
       "      <th>2</th>\n",
       "      <td>2005-01-15</td>\n",
       "      <td>26.030001</td>\n",
       "      <td>26.350000</td>\n",
       "      <td>25.639999</td>\n",
       "      <td>25.650000</td>\n",
       "      <td>17.899891</td>\n",
       "      <td>262141600.0</td>\n",
       "      <td>MSFT</td>\n",
       "    </tr>\n",
       "    <tr>\n",
       "      <th>3</th>\n",
       "      <td>2005-01-22</td>\n",
       "      <td>25.760000</td>\n",
       "      <td>26.650000</td>\n",
       "      <td>25.639999</td>\n",
       "      <td>26.180000</td>\n",
       "      <td>18.269747</td>\n",
       "      <td>405236700.0</td>\n",
       "      <td>MSFT</td>\n",
       "    </tr>\n",
       "    <tr>\n",
       "      <th>4</th>\n",
       "      <td>2005-01-29</td>\n",
       "      <td>26.350000</td>\n",
       "      <td>26.520000</td>\n",
       "      <td>26.100000</td>\n",
       "      <td>26.320000</td>\n",
       "      <td>18.367451</td>\n",
       "      <td>332545200.0</td>\n",
       "      <td>MSFT</td>\n",
       "    </tr>\n",
       "    <tr>\n",
       "      <th>...</th>\n",
       "      <td>...</td>\n",
       "      <td>...</td>\n",
       "      <td>...</td>\n",
       "      <td>...</td>\n",
       "      <td>...</td>\n",
       "      <td>...</td>\n",
       "      <td>...</td>\n",
       "      <td>...</td>\n",
       "    </tr>\n",
       "    <tr>\n",
       "      <th>272515</th>\n",
       "      <td>2023-11-27</td>\n",
       "      <td>404.010010</td>\n",
       "      <td>405.029999</td>\n",
       "      <td>392.950012</td>\n",
       "      <td>401.869995</td>\n",
       "      <td>401.869995</td>\n",
       "      <td>4697800.0</td>\n",
       "      <td>CHTR</td>\n",
       "    </tr>\n",
       "    <tr>\n",
       "      <th>272516</th>\n",
       "      <td>2023-12-04</td>\n",
       "      <td>400.649994</td>\n",
       "      <td>407.769989</td>\n",
       "      <td>358.480011</td>\n",
       "      <td>367.549988</td>\n",
       "      <td>367.549988</td>\n",
       "      <td>7812600.0</td>\n",
       "      <td>CHTR</td>\n",
       "    </tr>\n",
       "    <tr>\n",
       "      <th>272517</th>\n",
       "      <td>2023-12-11</td>\n",
       "      <td>372.589996</td>\n",
       "      <td>395.019989</td>\n",
       "      <td>364.399994</td>\n",
       "      <td>379.929993</td>\n",
       "      <td>379.929993</td>\n",
       "      <td>6791000.0</td>\n",
       "      <td>CHTR</td>\n",
       "    </tr>\n",
       "    <tr>\n",
       "      <th>272518</th>\n",
       "      <td>2023-12-18</td>\n",
       "      <td>381.579987</td>\n",
       "      <td>391.279999</td>\n",
       "      <td>378.529999</td>\n",
       "      <td>382.089996</td>\n",
       "      <td>382.089996</td>\n",
       "      <td>3555900.0</td>\n",
       "      <td>CHTR</td>\n",
       "    </tr>\n",
       "    <tr>\n",
       "      <th>272519</th>\n",
       "      <td>2023-12-25</td>\n",
       "      <td>381.559998</td>\n",
       "      <td>400.070007</td>\n",
       "      <td>379.440002</td>\n",
       "      <td>388.679993</td>\n",
       "      <td>388.679993</td>\n",
       "      <td>2342100.0</td>\n",
       "      <td>CHTR</td>\n",
       "    </tr>\n",
       "  </tbody>\n",
       "</table>\n",
       "<p>272520 rows × 8 columns</p>\n",
       "</div>"
      ],
      "text/plain": [
       "              Date        Open        High         Low       Close  \\\n",
       "0       2005-01-01   26.799999   27.100000   26.620001   26.670000   \n",
       "1       2005-01-08   26.600000   26.860001   26.040001   26.120001   \n",
       "2       2005-01-15   26.030001   26.350000   25.639999   25.650000   \n",
       "3       2005-01-22   25.760000   26.650000   25.639999   26.180000   \n",
       "4       2005-01-29   26.350000   26.520000   26.100000   26.320000   \n",
       "...            ...         ...         ...         ...         ...   \n",
       "272515  2023-11-27  404.010010  405.029999  392.950012  401.869995   \n",
       "272516  2023-12-04  400.649994  407.769989  358.480011  367.549988   \n",
       "272517  2023-12-11  372.589996  395.019989  364.399994  379.929993   \n",
       "272518  2023-12-18  381.579987  391.279999  378.529999  382.089996   \n",
       "272519  2023-12-25  381.559998  400.070007  379.440002  388.679993   \n",
       "\n",
       "         Adj Close       Volume Ticker  \n",
       "0        18.611700  392522300.0   MSFT  \n",
       "1        18.227880  390071600.0   MSFT  \n",
       "2        17.899891  262141600.0   MSFT  \n",
       "3        18.269747  405236700.0   MSFT  \n",
       "4        18.367451  332545200.0   MSFT  \n",
       "...            ...          ...    ...  \n",
       "272515  401.869995    4697800.0   CHTR  \n",
       "272516  367.549988    7812600.0   CHTR  \n",
       "272517  379.929993    6791000.0   CHTR  \n",
       "272518  382.089996    3555900.0   CHTR  \n",
       "272519  388.679993    2342100.0   CHTR  \n",
       "\n",
       "[272520 rows x 8 columns]"
      ]
     },
     "execution_count": 21,
     "metadata": {},
     "output_type": "execute_result"
    }
   ],
   "source": [
    "data_yf"
   ]
  },
  {
   "cell_type": "code",
   "execution_count": 22,
   "metadata": {},
   "outputs": [],
   "source": [
    "# 2. Clean data_yf: DROP NAs\n",
    "data_yf.dropna(inplace=True)\n",
    "\n",
    "# 3. Add technical indicators\n",
    "\n",
    "data_yf['macd'] = trend.MACD(data_yf['Close']).macd()\n",
    "data_yf['macd_signal'] = trend.MACD(data_yf['Close']).macd_signal()\n",
    "data_yf['rsi'] = momentum.RSIIndicator(data_yf['Close']).rsi()\n",
    "data_yf['bb_high'] = volatility.BollingerBands(data_yf['Close']).bollinger_hband()\n",
    "#data_yf['bb_low'] = volatility.BollingerBands(data_yf['Close']).bollinger_lband()\n",
    "data_yf['adx'] = trend.ADXIndicator(data_yf['High'], data_yf['Low'], data_yf['Close']).adx()\n",
    "data_yf['atr'] = volatility.AverageTrueRange(data_yf['High'], data_yf['Low'], data_yf['Close']).average_true_range()\n",
    "data_yf['cci'] = trend.CCIIndicator(data_yf['High'], data_yf['Low'], data_yf['Close']).cci()\n",
    "data_yf['mfi'] = volume.MFIIndicator(data_yf['High'], data_yf['Low'], data_yf['Close'], data_yf['Volume']).money_flow_index()\n",
    "data_yf['so'] = momentum.StochasticOscillator(data_yf['High'], data_yf['Low'], data_yf['Close']).stoch()\n",
    "# Calculate additional indicators\n",
    "data_yf['kc'] = volatility.KeltnerChannel(data_yf['High'], data_yf['Low'], data_yf['Close']).keltner_channel_mband()\n",
    "data_yf['vwap'] = volume.VolumeWeightedAveragePrice(data_yf['High'], data_yf['Low'], data_yf['Close'], data_yf['Volume']).volume_weighted_average_price()\n",
    "data_yf['eom'] = volume.EaseOfMovementIndicator(data_yf['High'], data_yf['Low'], data_yf['Close'], data_yf['Volume']).ease_of_movement()\n",
    "data_yf['vpt'] = volume.VolumePriceTrendIndicator(data_yf['Close'], data_yf['Volume']).volume_price_trend()\n",
    "\n",
    "\n",
    "# Momentum Indicators\n",
    "data_yf.ta.rsi(append=True)\n",
    "data_yf.ta.mfi(append=True)\n",
    "data_yf.ta.roc(append=True)\n",
    "data_yf.ta.willr(append=True)\n",
    "\n",
    "# Volume Indicators\n",
    "data_yf.ta.obv(append=True)\n",
    "\n",
    "\n",
    "# Volatility Indicators\n",
    "# pandas_ta doesn't seem to have NATR equivalent, but ATR is available\n",
    "\n",
    "# Average True Range (ATR)\n",
    "# ATR is a technical analysis indicator that measures market volatility by decomposing the entire range of an asset price for that period.\n",
    "# It is commonly used to understand the volatility of a stock, commodity, forex, or crypto over a given period.\n",
    "# The ATR is particularly useful in systems that need to place actual numerical values to the volatility or potential price change of an asset, often used to adjust trading systems and stop-loss orders.\n",
    "\n",
    "# Calculate ATR and add it to the DataFrame\n",
    "data_yf['atr'] = data_yf.ta.atr()\n",
    "\n",
    "# 4. Create Buy/Sell signals based on the technical indicators\n",
    "\n",
    "# Either use the indicator values directly or create signals based on the indicator values\n",
    "# depending on the strategy, we can create signals for each indicator!!\n",
    "# these signals are used to create a trading strategy and are very subjective; they might not even be useful\n",
    "# we can get rid of them.\n",
    "\n",
    "# SIGNALS for each indicator\n",
    "# Calculate the Force Index (FI)\n",
    "# data_yf['fi'] = (data_yf['Close'].diff()) * data_yf['Volume']\n",
    "\n",
    "# # Create a Buy/Sell/Hold Signal for FI\n",
    "# data_yf['fi_buy_signal'] = np.where(data_yf['fi'] > 0, 1, 0)  # Buy if FI is positive\n",
    "# data_yf['fi_sell_signal'] = np.where(data_yf['fi'] < 0, 1, 0)  # Sell if FI is negative\n",
    "\n",
    "# # MACD signal\n",
    "# data_yf['macd_buy_signal'] = np.where(data_yf['macd'] > 0, 1, 0)\n",
    "# data_yf['macd_sell_signal'] = np.where(data_yf['macd'] < 0, 1, 0)\n",
    "\n",
    "# # RSI signal\n",
    "# data_yf['rsi_buy_signal'] = np.where(data_yf['rsi'] < 30, 1, 0)\n",
    "# data_yf['rsi_sell_signal'] = np.where(data_yf['rsi'] > 70, 1, 0)\n",
    "\n",
    "# # Stochastic Oscillator signal\n",
    "# data_yf['so_buy_signal'] = np.where(data_yf['so'] < 20, 1, 0)\n",
    "# data_yf['so_sell_signal'] = np.where(data_yf['so'] > 80, 1, 0)\n",
    "\n",
    "# # CCI signal\n",
    "# data_yf['cci_buy_signal'] = np.where(data_yf['cci'] < -100, 1, 0)\n",
    "# data_yf['cci_sell_signal'] = np.where(data_yf['cci'] > 100, 1, 0)\n",
    "\n",
    "# # MFI signal\n",
    "# data_yf['mfi_buy_signal'] = np.where(data_yf['mfi'] < 20, 1, 0)\n",
    "# data_yf['mfi_sell_signal'] = np.where(data_yf['mfi'] > 80, 1, 0)\n",
    "\n",
    "# # WILLR signal\n",
    "# data_yf['WILLR_buy_signal'] = np.where(data_yf['WILLR_14'] < -80, 1, 0)\n",
    "# data_yf['WILLR_sell_signal'] = np.where(data_yf['WILLR_14'] > -20, 1, 0)\n",
    "\n",
    "\n",
    "# Other indicators such as ATR, EOM, VWAP, etc., may not have clear buy/sell interpretations.\n",
    "# Depending on strategy: might want to create signals for these as well.\n",
    "\n",
    "# If suing signals, drop the original indicator columns\n",
    "# if not using signals, keep the original indicator columns\n",
    "\n",
    "# Drop the original technical indicator columns, keeping only the signal columns\n",
    "# indicator_cols_to_drop = [\n",
    "#     'macd', 'macd_signal', 'rsi', 'bb_high', 'adx', 'atr', 'cci', 'mfi', 'so', 'kc', 'fi', 'vwap', 'eom', 'vpt',\n",
    "#     'WILLR_14', 'OBV' # pandas_ta indicators\n",
    "# ]\n",
    "# data_yf.drop(columns=indicator_cols_to_drop, inplace=True)"
   ]
  },
  {
   "cell_type": "code",
   "execution_count": 23,
   "metadata": {},
   "outputs": [
    {
     "data": {
      "text/plain": [
       "Index(['Date', 'Open', 'High', 'Low', 'Close', 'Adj Close', 'Volume', 'Ticker',\n",
       "       'macd', 'macd_signal', 'rsi', 'bb_high', 'adx', 'atr', 'cci', 'mfi',\n",
       "       'so', 'kc', 'vwap', 'eom', 'vpt', 'RSI_14', 'MFI_14', 'ROC_10',\n",
       "       'WILLR_14', 'OBV'],\n",
       "      dtype='object')"
      ]
     },
     "execution_count": 23,
     "metadata": {},
     "output_type": "execute_result"
    }
   ],
   "source": [
    "data_yf.columns\n"
   ]
  },
  {
   "cell_type": "code",
   "execution_count": 24,
   "metadata": {},
   "outputs": [
    {
     "data": {
      "text/plain": [
       "(272520, 26)"
      ]
     },
     "execution_count": 24,
     "metadata": {},
     "output_type": "execute_result"
    }
   ],
   "source": [
    "data_yf.shape"
   ]
  },
  {
   "cell_type": "markdown",
   "metadata": {},
   "source": [
    "#### MOVING AVERAGES"
   ]
  },
  {
   "cell_type": "code",
   "execution_count": 25,
   "metadata": {},
   "outputs": [],
   "source": [
    "# Create lagged features for each indicator for the previous 5 days\n",
    "indicator_cols = [col for col in data_yf.columns if col not in ['win', 'gain_loss_pct', 'Open', 'High', 'Low', 'Close', 'Volume','Adj Close']]\n",
    "\n",
    "for col in indicator_cols:\n",
    "    for i in range(1, 6):\n",
    "        data_yf[f'{col}_lag_{i}'] = data_yf[col].shift(i)\n",
    "\n",
    "# Remove rows with NaN values after shifting\n",
    "data_yf.dropna(inplace=True)\n"
   ]
  },
  {
   "cell_type": "code",
   "execution_count": 26,
   "metadata": {},
   "outputs": [],
   "source": [
    "# 4. Calculate gain/loss percentage and assign -1, 0, 1\n",
    "data_yf['gain_loss_pct'] = (data_yf['Close'] - data_yf['Open']) / data_yf['Open']\n",
    "data_yf['win'] = np.where(data_yf['gain_loss_pct'] > 0.005, 1, \n",
    "                          np.where(data_yf['gain_loss_pct'] < -0.0025, -1, 0)) # 1 if 0.5% gain, -1 if 0.25% loss, 0 otherwise\n",
    "\n",
    "\n",
    "# Drop OHLCV columns\n",
    "#data_yf.drop(columns=['Open', 'High', 'Low', 'Close', 'Volume', 'Adj Close'], inplace=True)\n"
   ]
  },
  {
   "cell_type": "code",
   "execution_count": 27,
   "metadata": {},
   "outputs": [
    {
     "data": {
      "text/plain": [
       "((272482, 128),\n",
       " Index(['Date', 'Open', 'High', 'Low', 'Close', 'Adj Close', 'Volume', 'Ticker',\n",
       "        'macd', 'macd_signal',\n",
       "        ...\n",
       "        'WILLR_14_lag_3', 'WILLR_14_lag_4', 'WILLR_14_lag_5', 'OBV_lag_1',\n",
       "        'OBV_lag_2', 'OBV_lag_3', 'OBV_lag_4', 'OBV_lag_5', 'gain_loss_pct',\n",
       "        'win'],\n",
       "       dtype='object', length=128),\n",
       "                 Open           High            Low          Close  \\\n",
       " count  272482.000000  272482.000000  272482.000000  272482.000000   \n",
       " mean       94.572516      97.236772      92.013563      94.801635   \n",
       " std       149.400937     153.746156     145.428462     149.873351   \n",
       " min         0.353125       0.388021       0.337188       0.352708   \n",
       " 25%        31.650000      32.596589      30.715703      31.700001   \n",
       " 50%        55.930000      57.410000      54.410000      56.020000   \n",
       " 75%       101.550003     104.339996      98.959999     101.858322   \n",
       " max      3527.469971    3580.620117    3525.290039    3547.219971   \n",
       " \n",
       "            Adj Close        Volume           macd    macd_signal  \\\n",
       " count  272482.000000  2.724820e+05  272482.000000  272482.000000   \n",
       " mean       84.940790  4.631898e+07       0.009589       0.009519   \n",
       " std       147.311803  1.904499e+08      15.000317      14.051484   \n",
       " min         0.352708  0.000000e+00    -808.575473    -703.447956   \n",
       " 25%        23.741711  7.139725e+06      -0.756859      -0.696004   \n",
       " 50%        44.740082  1.479535e+07       0.549734       0.544371   \n",
       " 75%        89.892715  3.361628e+07       2.152640       2.064874   \n",
       " max      3538.165771  1.119210e+10     360.351296     298.749868   \n",
       " \n",
       "                  rsi        bb_high  ...  WILLR_14_lag_3  WILLR_14_lag_4  \\\n",
       " count  272482.000000  272482.000000  ...   272482.000000   272482.000000   \n",
       " mean       52.946327     109.468394  ...      -41.427245      -41.427010   \n",
       " std        13.032401     176.998165  ...       30.102460       30.102323   \n",
       " min         7.931571       0.739377  ...     -100.000000     -100.000000   \n",
       " 25%        44.891924      36.260681  ...      -66.893703      -66.893422   \n",
       " 50%        53.781581      63.541454  ...      -36.236216      -36.235270   \n",
       " 75%        62.023478     116.548427  ...      -14.065093      -14.065093   \n",
       " max        99.547771    5071.502297  ...        0.000000        0.000000   \n",
       " \n",
       "        WILLR_14_lag_5     OBV_lag_1     OBV_lag_2     OBV_lag_3     OBV_lag_4  \\\n",
       " count   272482.000000  2.724820e+05  2.724820e+05  2.724820e+05  2.724820e+05   \n",
       " mean       -41.426881  6.332387e+11  6.332359e+11  6.332332e+11  6.332305e+11   \n",
       " std         30.102305  9.810666e+10  9.811397e+10  9.812127e+10  9.812857e+10   \n",
       " min       -100.000000 -7.008984e+09 -7.008984e+09 -7.008984e+09 -7.008984e+09   \n",
       " 25%        -66.893422  5.889303e+11  5.889298e+11  5.889297e+11  5.889287e+11   \n",
       " 50%        -36.234453  6.514601e+11  6.514598e+11  6.514593e+11  6.514587e+11   \n",
       " 75%        -14.065093  7.082409e+11  7.082407e+11  7.082406e+11  7.082404e+11   \n",
       " max          0.000000  7.449714e+11  7.449714e+11  7.449714e+11  7.449714e+11   \n",
       " \n",
       "           OBV_lag_5  gain_loss_pct            win  \n",
       " count  2.724820e+05  272482.000000  272482.000000  \n",
       " mean   6.332277e+11       0.002974       0.041720  \n",
       " std    9.813587e+10       0.043953       0.945426  \n",
       " min   -7.008984e+09      -0.803421      -1.000000  \n",
       " 25%    5.889282e+11      -0.017786      -1.000000  \n",
       " 50%    6.514585e+11       0.002753       0.000000  \n",
       " 75%    7.082401e+11       0.023072       1.000000  \n",
       " max    7.449714e+11       1.149367       1.000000  \n",
       " \n",
       " [8 rows x 116 columns])"
      ]
     },
     "execution_count": 27,
     "metadata": {},
     "output_type": "execute_result"
    }
   ],
   "source": [
    "data_yf.shape, data_yf.columns, data_yf.describe()"
   ]
  },
  {
   "cell_type": "code",
   "execution_count": 28,
   "metadata": {},
   "outputs": [],
   "source": [
    "# create csv with features data\n",
    "data_yf.to_csv('data/all_stock_data.csv', index=False)"
   ]
  },
  {
   "cell_type": "code",
   "execution_count": 29,
   "metadata": {},
   "outputs": [],
   "source": [
    "data_yf = pd.read_csv('data/all_stock_data.csv')"
   ]
  },
  {
   "cell_type": "code",
   "execution_count": 30,
   "metadata": {},
   "outputs": [],
   "source": [
    "from sklearn.preprocessing import StandardScaler\n",
    "\n",
    "float_columns = data_yf.select_dtypes(include=['float64']).columns\n",
    "\n",
    "# Initialize the StandardScaler\n",
    "scaler = StandardScaler()\n",
    "\n",
    "# Standardize only the float columns\n",
    "data_yf[float_columns] = scaler.fit_transform(data_yf[float_columns])"
   ]
  },
  {
   "cell_type": "code",
   "execution_count": 31,
   "metadata": {},
   "outputs": [
    {
     "data": {
      "text/plain": [
       "Date             0\n",
       "Open             0\n",
       "High             0\n",
       "Low              0\n",
       "Close            0\n",
       "                ..\n",
       "OBV_lag_3        0\n",
       "OBV_lag_4        0\n",
       "OBV_lag_5        0\n",
       "gain_loss_pct    0\n",
       "win              0\n",
       "Length: 128, dtype: int64"
      ]
     },
     "execution_count": 31,
     "metadata": {},
     "output_type": "execute_result"
    }
   ],
   "source": [
    "data_yf.isna().sum()"
   ]
  },
  {
   "cell_type": "code",
   "execution_count": 32,
   "metadata": {},
   "outputs": [],
   "source": [
    "# create csv with features data\n",
    "data_yf.to_csv('data/all_stock_data.csv', index=False)"
   ]
  }
 ],
 "metadata": {
  "kernelspec": {
   "display_name": "Python 3",
   "language": "python",
   "name": "python3"
  },
  "language_info": {
   "codemirror_mode": {
    "name": "ipython",
    "version": 3
   },
   "file_extension": ".py",
   "mimetype": "text/x-python",
   "name": "python",
   "nbconvert_exporter": "python",
   "pygments_lexer": "ipython3",
   "version": "3.11.4"
  }
 },
 "nbformat": 4,
 "nbformat_minor": 2
}
