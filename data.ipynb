{
 "cells": [
  {
   "cell_type": "markdown",
   "metadata": {},
   "source": [
    "# Retrieving Data"
   ]
  },
  {
   "cell_type": "code",
   "execution_count": 1,
   "metadata": {},
   "outputs": [],
   "source": [
    "# Install required packages in the folllowing few cells"
   ]
  },
  {
   "cell_type": "code",
   "execution_count": 2,
   "metadata": {},
   "outputs": [],
   "source": [
    "%%capture\n",
    " # capture hides output\n",
    "!pip install yfinance pandas numpy scikit-learn ta pandas_ta xgboost"
   ]
  },
  {
   "cell_type": "code",
   "execution_count": 3,
   "metadata": {},
   "outputs": [],
   "source": [
    "%%capture\n",
    "# hidden output\n",
    "!pip install alpha_vantage"
   ]
  },
  {
   "cell_type": "code",
   "execution_count": 4,
   "metadata": {},
   "outputs": [],
   "source": [
    "%%capture\n",
    "# hidden output, !pip install is required to run just on a machine\n",
    "!pip install requests pandas_datareader\n"
   ]
  },
  {
   "cell_type": "markdown",
   "metadata": {},
   "source": [
    "#### IMPORTS"
   ]
  },
  {
   "cell_type": "code",
   "execution_count": 10,
   "metadata": {},
   "outputs": [],
   "source": [
    "import numpy as np\n",
    "import pandas as pd\n",
    "from alpha_vantage.timeseries import TimeSeries\n",
    "import matplotlib.pyplot as plt\n",
    "from datetime import date\n",
    "from datetime import datetime\n",
    "from datetime import time\n",
    "from datetime import timedelta\n",
    "from pandas.tseries.offsets import BDay\n",
    "import matplotlib.lines as mlines\n",
    "from dotenv import load_dotenv\n",
    "import os\n",
    "import matplotlib.patches as patches\n",
    "import seaborn as sns\n",
    "import warnings\n",
    "import requests\n",
    "import json\n",
    "import pandas_ta as ta\n",
    "from ta import trend, volatility, momentum, volume\n",
    "import yfinance as yf\n",
    "import time\n",
    "\n",
    "from numpy import array\n",
    "from importlib import reload # to reload modules if we made changes to them without restarting kernel\n"
   ]
  },
  {
   "cell_type": "markdown",
   "metadata": {},
   "source": [
    "# Source Data"
   ]
  },
  {
   "cell_type": "code",
   "execution_count": 6,
   "metadata": {},
   "outputs": [
    {
     "name": "stdout",
     "output_type": "stream",
     "text": [
      "Fetching sector for MSFT\n",
      "Fetching sector for AAPL\n",
      "Fetching sector for NVDA\n",
      "Fetching sector for AMZN\n",
      "Fetching sector for GOOGL\n",
      "Fetching sector for META\n",
      "Fetching sector for GOOG\n",
      "Fetching sector for BRK.B\n",
      "Fetching sector for AVGO\n",
      "Fetching sector for LLY\n",
      "Fetching sector for JPM\n",
      "Fetching sector for XOM\n",
      "Fetching sector for TSLA\n",
      "Fetching sector for UNH\n",
      "Fetching sector for V\n",
      "Fetching sector for MA\n",
      "Fetching sector for PG\n",
      "Fetching sector for JNJ\n",
      "Fetching sector for HD\n",
      "Fetching sector for MRK\n",
      "Fetching sector for COST\n",
      "Fetching sector for CVX\n",
      "Fetching sector for ABBV\n",
      "Fetching sector for CRM\n",
      "Fetching sector for BAC\n",
      "Fetching sector for WMT\n",
      "Fetching sector for AMD\n",
      "Fetching sector for NFLX\n",
      "Fetching sector for PEP\n",
      "Fetching sector for KO\n",
      "Fetching sector for TMO\n",
      "Fetching sector for ADBE\n",
      "Fetching sector for WFC\n",
      "Fetching sector for LIN\n",
      "Fetching sector for DIS\n",
      "Fetching sector for MCD\n",
      "Fetching sector for CSCO\n",
      "Fetching sector for ACN\n",
      "Fetching sector for ORCL\n",
      "Fetching sector for ABT\n",
      "Fetching sector for QCOM\n",
      "Fetching sector for INTU\n",
      "Fetching sector for GE\n",
      "Fetching sector for CAT\n",
      "Fetching sector for AMAT\n",
      "Fetching sector for VZ\n",
      "Fetching sector for DHR\n",
      "Fetching sector for TXN\n",
      "Fetching sector for COP\n",
      "Fetching sector for IBM\n",
      "Fetching sector for CMCSA\n",
      "Fetching sector for NOW\n",
      "Fetching sector for UNP\n",
      "Fetching sector for PM\n",
      "Fetching sector for AMGN\n",
      "Fetching sector for PFE\n",
      "Fetching sector for UBER\n",
      "Fetching sector for GS\n",
      "Fetching sector for NEE\n",
      "Fetching sector for INTC\n",
      "Fetching sector for AXP\n",
      "Fetching sector for RTX\n",
      "Fetching sector for SPGI\n",
      "Fetching sector for LOW\n",
      "Fetching sector for ISRG\n",
      "Fetching sector for ETN\n",
      "Fetching sector for HON\n",
      "Fetching sector for MU\n",
      "Fetching sector for ELV\n",
      "Fetching sector for BKNG\n",
      "Fetching sector for PGR\n",
      "Fetching sector for LRCX\n",
      "Fetching sector for T\n",
      "Fetching sector for C\n",
      "Fetching sector for MS\n",
      "Fetching sector for NKE\n",
      "Fetching sector for SYK\n",
      "Fetching sector for SCHW\n",
      "Fetching sector for TJX\n",
      "Fetching sector for BSX\n",
      "Fetching sector for UPS\n",
      "Fetching sector for BLK\n",
      "Fetching sector for MDT\n",
      "Fetching sector for CI\n",
      "Fetching sector for DE\n",
      "Fetching sector for VRTX\n",
      "Fetching sector for ADI\n",
      "Fetching sector for SBUX\n",
      "Fetching sector for ADP\n",
      "Fetching sector for CB\n",
      "Fetching sector for LMT\n",
      "Fetching sector for MMC\n",
      "Fetching sector for PLD\n",
      "Fetching sector for KLAC\n",
      "Fetching sector for BA\n",
      "Fetching sector for MDLZ\n",
      "Fetching sector for FI\n",
      "Fetching sector for REGN\n",
      "Fetching sector for PANW\n",
      "Fetching sector for BMY\n",
      "Fetching sector for BX\n",
      "Fetching sector for CMG\n",
      "Fetching sector for TMUS\n",
      "Fetching sector for CVS\n",
      "Fetching sector for SNPS\n",
      "Fetching sector for GILD\n",
      "Fetching sector for AMT\n",
      "Fetching sector for SO\n",
      "Fetching sector for EOG\n",
      "Fetching sector for WM\n",
      "Fetching sector for CDNS\n",
      "Fetching sector for MO\n",
      "Fetching sector for TGT\n",
      "Fetching sector for CME\n",
      "Fetching sector for ICE\n",
      "Fetching sector for DUK\n",
      "Fetching sector for CL\n",
      "Fetching sector for MPC\n",
      "Fetching sector for ZTS\n",
      "Fetching sector for FCX\n",
      "Fetching sector for SHW\n",
      "Fetching sector for APH\n",
      "Fetching sector for MCK\n",
      "Fetching sector for ABNB\n",
      "Fetching sector for PH\n",
      "Fetching sector for PYPL\n",
      "Fetching sector for SLB\n",
      "Fetching sector for TDG\n",
      "Fetching sector for TT\n",
      "Fetching sector for EQIX\n",
      "Fetching sector for NOC\n",
      "Fetching sector for ITW\n",
      "Fetching sector for BDX\n",
      "Fetching sector for CSX\n",
      "Fetching sector for ANET\n",
      "Fetching sector for PSX\n",
      "Fetching sector for GD\n",
      "Fetching sector for USB\n",
      "Fetching sector for PXD\n",
      "Fetching sector for EMR\n",
      "Fetching sector for NXPI\n",
      "Fetching sector for PNC\n",
      "Fetching sector for ORLY\n",
      "Fetching sector for FDX\n",
      "Fetching sector for HCA\n",
      "Fetching sector for CEG\n",
      "Fetching sector for MAR\n",
      "Fetching sector for MCO\n",
      "Fetching sector for PCAR\n",
      "Fetching sector for CTAS\n",
      "Fetching sector for MSI\n",
      "Fetching sector for AON\n",
      "Fetching sector for VLO\n",
      "Fetching sector for ECL\n",
      "Fetching sector for ROP\n",
      "Fetching sector for COF\n",
      "Fetching sector for NSC\n",
      "Fetching sector for GM\n",
      "Fetching sector for APD\n",
      "Fetching sector for EW\n",
      "Fetching sector for AIG\n",
      "Fetching sector for WELL\n",
      "Fetching sector for HLT\n",
      "Fetching sector for AZO\n",
      "Fetching sector for TFC\n",
      "Fetching sector for MMM\n",
      "Fetching sector for CARR\n",
      "Fetching sector for MCHP\n",
      "Fetching sector for AJG\n",
      "Fetching sector for F\n",
      "Fetching sector for NEM\n",
      "Fetching sector for TRV\n",
      "Fetching sector for CPRT\n",
      "Fetching sector for DXCM\n",
      "Fetching sector for WMB\n",
      "Fetching sector for OKE\n",
      "Fetching sector for URI\n",
      "Fetching sector for ADSK\n",
      "Fetching sector for SPG\n",
      "Fetching sector for KMB\n",
      "Fetching sector for ROST\n",
      "Fetching sector for HES\n",
      "Fetching sector for SRE\n",
      "Fetching sector for AEP\n",
      "Fetching sector for OXY\n",
      "Fetching sector for O\n",
      "Fetching sector for ALL\n",
      "Fetching sector for AFL\n",
      "Fetching sector for JCI\n",
      "Fetching sector for DHI\n",
      "Fetching sector for TEL\n",
      "Fetching sector for BK\n",
      "Fetching sector for DLR\n",
      "Fetching sector for MET\n",
      "Fetching sector for SMCI\n",
      "Fetching sector for NUE\n",
      "Fetching sector for IQV\n",
      "Fetching sector for D\n",
      "Fetching sector for STZ\n",
      "Fetching sector for LULU\n",
      "Fetching sector for GEV\n",
      "Fetching sector for IDXX\n",
      "Fetching sector for AMP\n",
      "Fetching sector for FIS\n",
      "Fetching sector for GWW\n",
      "Fetching sector for AME\n",
      "Fetching sector for FTNT\n",
      "Fetching sector for PSA\n",
      "Fetching sector for LHX\n",
      "Fetching sector for CCI\n",
      "Fetching sector for A\n",
      "Fetching sector for GIS\n",
      "Fetching sector for DOW\n",
      "Fetching sector for COR\n",
      "Fetching sector for PRU\n",
      "Fetching sector for YUM\n",
      "Fetching sector for CMI\n",
      "Fetching sector for CNC\n",
      "Fetching sector for MNST\n",
      "Fetching sector for RSG\n",
      "Fetching sector for FAST\n",
      "Fetching sector for SYY\n",
      "Fetching sector for CTVA\n",
      "Fetching sector for LEN\n",
      "Fetching sector for PAYX\n",
      "Fetching sector for PWR\n",
      "Fetching sector for IR\n",
      "Fetching sector for MSCI\n",
      "Fetching sector for CSGP\n",
      "Fetching sector for OTIS\n",
      "Fetching sector for HUM\n",
      "Fetching sector for MLM\n",
      "Fetching sector for FANG\n",
      "Fetching sector for EXC\n",
      "Fetching sector for GEHC\n",
      "Fetching sector for PCG\n",
      "Fetching sector for KR\n",
      "Fetching sector for MRNA\n",
      "Fetching sector for KMI\n",
      "Fetching sector for KDP\n",
      "Fetching sector for IT\n",
      "Fetching sector for VMC\n",
      "Fetching sector for HAL\n",
      "Fetching sector for EL\n",
      "Fetching sector for DVN\n",
      "Fetching sector for PEG\n",
      "Fetching sector for ACGL\n",
      "Fetching sector for CTSH\n",
      "Fetching sector for RCL\n",
      "Fetching sector for BKR\n",
      "Fetching sector for ODFL\n",
      "Fetching sector for KVUE\n",
      "Fetching sector for CDW\n",
      "Fetching sector for GPN\n",
      "Fetching sector for MPWR\n",
      "Fetching sector for ROK\n",
      "Fetching sector for DAL\n",
      "Fetching sector for ED\n",
      "Fetching sector for VRSK\n",
      "Fetching sector for ADM\n",
      "Fetching sector for RMD\n",
      "Fetching sector for DFS\n",
      "Fetching sector for DD\n",
      "Fetching sector for XYL\n",
      "Fetching sector for EA\n",
      "Fetching sector for DG\n",
      "Fetching sector for PPG\n",
      "Fetching sector for KHC\n",
      "Fetching sector for BIIB\n",
      "Fetching sector for XEL\n",
      "Fetching sector for TSCO\n",
      "Fetching sector for WAB\n",
      "Fetching sector for VICI\n",
      "Fetching sector for ON\n",
      "Fetching sector for ANSS\n",
      "Fetching sector for HIG\n",
      "Fetching sector for EXR\n",
      "Fetching sector for HSY\n",
      "Fetching sector for FICO\n",
      "Fetching sector for EFX\n",
      "Fetching sector for EBAY\n",
      "Fetching sector for AVB\n",
      "Fetching sector for EIX\n",
      "Fetching sector for MTD\n",
      "Fetching sector for FTV\n",
      "Fetching sector for WST\n",
      "Fetching sector for KEYS\n",
      "Fetching sector for CHD\n",
      "Fetching sector for HWM\n",
      "Fetching sector for CBRE\n",
      "Fetching sector for LYB\n",
      "Fetching sector for WTW\n",
      "Fetching sector for TRGP\n",
      "Fetching sector for WEC\n",
      "Fetching sector for TROW\n",
      "Fetching sector for CAH\n",
      "Fetching sector for DLTR\n",
      "Fetching sector for DOV\n",
      "Fetching sector for FITB\n",
      "Fetching sector for CHTR\n",
      "Fetching sector for ZBH\n",
      "Fetching sector for PHM\n",
      "Fetching sector for NVR\n",
      "Fetching sector for MTB\n",
      "Fetching sector for HPQ\n",
      "Fetching sector for GLW\n",
      "Fetching sector for AWK\n",
      "Fetching sector for BLDR\n",
      "Fetching sector for RJF\n",
      "Fetching sector for WDC\n",
      "Fetching sector for TTWO\n",
      "Fetching sector for BR\n",
      "Fetching sector for NDAQ\n",
      "Fetching sector for WY\n",
      "Fetching sector for STT\n",
      "Fetching sector for IRM\n",
      "Fetching sector for DTE\n",
      "Fetching sector for ETR\n",
      "Fetching sector for GPC\n",
      "Fetching sector for EQR\n",
      "Fetching sector for ALGN\n",
      "Fetching sector for HPE\n",
      "Fetching sector for GRMN\n",
      "Fetching sector for CPAY\n",
      "Fetching sector for BALL\n",
      "Fetching sector for HUBB\n",
      "Fetching sector for AXON\n",
      "Fetching sector for IFF\n",
      "Fetching sector for PTC\n",
      "Fetching sector for DECK\n",
      "Fetching sector for CTRA\n",
      "Fetching sector for SBAC\n",
      "Fetching sector for NTAP\n",
      "Fetching sector for ES\n",
      "Fetching sector for VLTO\n",
      "Fetching sector for STLD\n",
      "Fetching sector for BAX\n",
      "Fetching sector for APTV\n",
      "Fetching sector for STE\n",
      "Fetching sector for INVH\n",
      "Fetching sector for ULTA\n",
      "Fetching sector for MOH\n",
      "Fetching sector for PPL\n",
      "Fetching sector for FE\n",
      "Fetching sector for HBAN\n",
      "Fetching sector for ILMN\n",
      "Fetching sector for TYL\n",
      "Fetching sector for BRO\n",
      "Fetching sector for FSLR\n",
      "Fetching sector for AEE\n",
      "Fetching sector for MKC\n",
      "Fetching sector for OMC\n",
      "Fetching sector for CBOE\n",
      "Fetching sector for DRI\n",
      "Fetching sector for SYF\n",
      "Fetching sector for WAT\n",
      "Fetching sector for J\n",
      "Fetching sector for RF\n",
      "Fetching sector for CNP\n",
      "Fetching sector for CLX\n",
      "Fetching sector for ARE\n",
      "Fetching sector for EXPE\n",
      "Fetching sector for WBD\n",
      "Fetching sector for HOLX\n",
      "Fetching sector for LDOS\n",
      "Fetching sector for AVY\n",
      "Fetching sector for VTR\n",
      "Fetching sector for TDY\n",
      "Fetching sector for COO\n",
      "Fetching sector for TER\n",
      "Fetching sector for CINF\n",
      "Fetching sector for DPZ\n",
      "Fetching sector for ATO\n",
      "Fetching sector for CMS\n",
      "Fetching sector for PFG\n",
      "Fetching sector for TSN\n",
      "Fetching sector for UAL\n",
      "Fetching sector for NTRS\n",
      "Fetching sector for TXT\n",
      "Fetching sector for LH\n",
      "Fetching sector for LVS\n",
      "Fetching sector for EQT\n",
      "Fetching sector for SWKS\n",
      "Fetching sector for STX\n",
      "Fetching sector for IEX\n",
      "Fetching sector for EXPD\n",
      "Fetching sector for NRG\n",
      "Fetching sector for CFG\n",
      "Fetching sector for MRO\n",
      "Fetching sector for LUV\n",
      "Fetching sector for FDS\n",
      "Fetching sector for ESS\n",
      "Fetching sector for EG\n",
      "Fetching sector for MAS\n",
      "Fetching sector for WRB\n",
      "Fetching sector for VRSN\n",
      "Fetching sector for PKG\n",
      "Fetching sector for CE\n",
      "Fetching sector for AKAM\n",
      "Fetching sector for CF\n",
      "Fetching sector for ENPH\n",
      "Fetching sector for ZBRA\n",
      "Fetching sector for K\n",
      "Fetching sector for CCL\n",
      "Fetching sector for JBL\n",
      "Fetching sector for MAA\n",
      "Fetching sector for TRMB\n",
      "Fetching sector for DGX\n",
      "Fetching sector for BG\n",
      "Fetching sector for CAG\n",
      "Fetching sector for BBY\n",
      "Fetching sector for POOL\n",
      "Fetching sector for SNA\n",
      "Fetching sector for NDSN\n",
      "Fetching sector for VTRS\n",
      "Fetching sector for L\n",
      "Fetching sector for SWK\n",
      "Fetching sector for KEY\n",
      "Fetching sector for ALB\n",
      "Fetching sector for EPAM\n",
      "Fetching sector for HST\n",
      "Fetching sector for DOC\n",
      "Fetching sector for JBHT\n",
      "Fetching sector for PNR\n",
      "Fetching sector for AMCR\n",
      "Fetching sector for LYV\n",
      "Fetching sector for WBA\n",
      "Fetching sector for ROL\n",
      "Fetching sector for RVTY\n",
      "Fetching sector for LNT\n",
      "Fetching sector for KIM\n",
      "Fetching sector for IPG\n",
      "Fetching sector for LW\n",
      "Fetching sector for JKHY\n",
      "Fetching sector for WRK\n",
      "Fetching sector for EVRG\n",
      "Fetching sector for IP\n",
      "Fetching sector for LKQ\n",
      "Fetching sector for CRL\n",
      "Fetching sector for SJM\n",
      "Fetching sector for GEN\n",
      "Fetching sector for TAP\n",
      "Fetching sector for PODD\n",
      "Fetching sector for AES\n",
      "Fetching sector for UDR\n",
      "Fetching sector for QRVO\n",
      "Fetching sector for EMN\n",
      "Fetching sector for MGM\n",
      "Fetching sector for NI\n",
      "Fetching sector for JNPR\n",
      "Fetching sector for KMX\n",
      "Fetching sector for HII\n",
      "Fetching sector for ALLE\n",
      "Fetching sector for FFIV\n",
      "Fetching sector for CPT\n",
      "Fetching sector for BBWI\n",
      "Fetching sector for HRL\n",
      "Fetching sector for AOS\n",
      "Fetching sector for UHS\n",
      "Fetching sector for TECH\n",
      "Fetching sector for CTLT\n",
      "Fetching sector for APA\n",
      "Fetching sector for MOS\n",
      "Fetching sector for TFX\n",
      "Fetching sector for INCY\n",
      "Fetching sector for REG\n",
      "Fetching sector for HSIC\n",
      "Fetching sector for DAY\n",
      "Fetching sector for NWSA\n",
      "Fetching sector for PAYC\n",
      "Fetching sector for WYNN\n",
      "Fetching sector for TPR\n",
      "Fetching sector for AIZ\n",
      "Fetching sector for AAL\n",
      "Fetching sector for SOLV\n",
      "Fetching sector for CPB\n",
      "Fetching sector for BF.B\n",
      "Fetching sector for MTCH\n",
      "Fetching sector for BXP\n",
      "Fetching sector for GNRC\n",
      "Fetching sector for PNW\n",
      "Fetching sector for HAS\n",
      "Fetching sector for CHRW\n",
      "Fetching sector for ETSY\n",
      "Fetching sector for NCLH\n",
      "Fetching sector for BWA\n",
      "Fetching sector for CZR\n",
      "Fetching sector for FOXA\n",
      "Fetching sector for MKTX\n",
      "Fetching sector for FRT\n",
      "Fetching sector for FMC\n",
      "Fetching sector for RHI\n",
      "Fetching sector for DVA\n",
      "Fetching sector for BEN\n",
      "Fetching sector for CMA\n",
      "Fetching sector for IVZ\n",
      "Fetching sector for RL\n",
      "Fetching sector for GL\n",
      "Fetching sector for MHK\n",
      "Fetching sector for BIO\n",
      "Fetching sector for PARA\n",
      "Fetching sector for FOX\n",
      "Fetching sector for NWS\n"
     ]
    }
   ],
   "source": [
    "# Define the function to get the sector for each stock\n",
    "def get_sector(ticker):\n",
    "    try:\n",
    "        stock_info = yf.Ticker(ticker).info\n",
    "        return stock_info.get('sector', 'N/A')  # Returns 'N/A' if sector information is not available\n",
    "    except Exception as e:\n",
    "        print(f\"Could not fetch sector for {ticker}: {e}\")\n",
    "        return 'N/A'\n",
    "    \n",
    "\n",
    "# get ticker symbols\n",
    "tickers = pd.read_csv('data/tickers.csv')\n",
    "tickers = tickers['Symbol'].tolist()\n",
    "\n",
    "sectors = []\n",
    "\n",
    "# Loop through each ticker and fetch the sector\n",
    "for ticker in tickers:\n",
    "    print(f\"Fetching sector for {ticker}\")\n",
    "    sector = get_sector(ticker)\n",
    "    sectors.append(sector)\n",
    "   # time.sleep(0.5)  # Delay to avoid hitting API rate limits"
   ]
  },
  {
   "cell_type": "code",
   "execution_count": 7,
   "metadata": {},
   "outputs": [
    {
     "data": {
      "text/plain": [
       "{'Basic Materials',\n",
       " 'Communication Services',\n",
       " 'Consumer Cyclical',\n",
       " 'Consumer Defensive',\n",
       " 'Energy',\n",
       " 'Financial Services',\n",
       " 'Healthcare',\n",
       " 'Industrials',\n",
       " 'N/A',\n",
       " 'Real Estate',\n",
       " 'Technology',\n",
       " 'Utilities'}"
      ]
     },
     "execution_count": 7,
     "metadata": {},
     "output_type": "execute_result"
    }
   ],
   "source": [
    "set(sectors)\n"
   ]
  },
  {
   "cell_type": "code",
   "execution_count": 8,
   "metadata": {},
   "outputs": [
    {
     "name": "stdout",
     "output_type": "stream",
     "text": [
      "   #                Company Symbol Portfolio%                  Sector\n",
      "0  1         Microsoft Corp   MSFT      7.05%              Technology\n",
      "1  2             Apple Inc.   AAPL      5.74%              Technology\n",
      "2  3            Nvidia Corp   NVDA      5.06%              Technology\n",
      "3  4         Amazon.com Inc   AMZN      3.83%       Consumer Cyclical\n",
      "4  5  Alphabet Inc. Class A  GOOGL      2.37%  Communication Services\n"
     ]
    }
   ],
   "source": [
    "# get tickers\n",
    "tickers = pd.read_csv('data/tickers.csv')\n",
    "\n",
    "tickers['Sector'] = sectors\n",
    "\n",
    "# Check the result\n",
    "print(tickers.head())\n",
    "\n",
    "# Save the result to a CSV file\n",
    "tickers.to_csv('data/tickers.csv', index=False)"
   ]
  },
  {
   "cell_type": "code",
   "execution_count": 33,
   "metadata": {},
   "outputs": [],
   "source": [
    "tickers = pd.read_csv('data/tickers.csv')\n",
    "#get ticker symbols\n",
    "ticker_symbols = tickers['Symbol'].tolist()"
   ]
  },
  {
   "cell_type": "code",
   "execution_count": 34,
   "metadata": {},
   "outputs": [
    {
     "data": {
      "text/html": [
       "<div>\n",
       "<style scoped>\n",
       "    .dataframe tbody tr th:only-of-type {\n",
       "        vertical-align: middle;\n",
       "    }\n",
       "\n",
       "    .dataframe tbody tr th {\n",
       "        vertical-align: top;\n",
       "    }\n",
       "\n",
       "    .dataframe thead th {\n",
       "        text-align: right;\n",
       "    }\n",
       "</style>\n",
       "<table border=\"1\" class=\"dataframe\">\n",
       "  <thead>\n",
       "    <tr style=\"text-align: right;\">\n",
       "      <th></th>\n",
       "      <th>#</th>\n",
       "      <th>Company</th>\n",
       "      <th>Symbol</th>\n",
       "      <th>Portfolio%</th>\n",
       "      <th>Sector</th>\n",
       "    </tr>\n",
       "  </thead>\n",
       "  <tbody>\n",
       "    <tr>\n",
       "      <th>0</th>\n",
       "      <td>1</td>\n",
       "      <td>Microsoft Corp</td>\n",
       "      <td>MSFT</td>\n",
       "      <td>7.05%</td>\n",
       "      <td>Technology</td>\n",
       "    </tr>\n",
       "    <tr>\n",
       "      <th>1</th>\n",
       "      <td>2</td>\n",
       "      <td>Apple Inc.</td>\n",
       "      <td>AAPL</td>\n",
       "      <td>5.74%</td>\n",
       "      <td>Technology</td>\n",
       "    </tr>\n",
       "    <tr>\n",
       "      <th>2</th>\n",
       "      <td>3</td>\n",
       "      <td>Nvidia Corp</td>\n",
       "      <td>NVDA</td>\n",
       "      <td>5.06%</td>\n",
       "      <td>Technology</td>\n",
       "    </tr>\n",
       "    <tr>\n",
       "      <th>3</th>\n",
       "      <td>4</td>\n",
       "      <td>Amazon.com Inc</td>\n",
       "      <td>AMZN</td>\n",
       "      <td>3.83%</td>\n",
       "      <td>Consumer Cyclical</td>\n",
       "    </tr>\n",
       "    <tr>\n",
       "      <th>4</th>\n",
       "      <td>5</td>\n",
       "      <td>Alphabet Inc. Class A</td>\n",
       "      <td>GOOGL</td>\n",
       "      <td>2.37%</td>\n",
       "      <td>Communication Services</td>\n",
       "    </tr>\n",
       "    <tr>\n",
       "      <th>...</th>\n",
       "      <td>...</td>\n",
       "      <td>...</td>\n",
       "      <td>...</td>\n",
       "      <td>...</td>\n",
       "      <td>...</td>\n",
       "    </tr>\n",
       "    <tr>\n",
       "      <th>498</th>\n",
       "      <td>499</td>\n",
       "      <td>Mohawk Industries, Inc.</td>\n",
       "      <td>MHK</td>\n",
       "      <td>0.01%</td>\n",
       "      <td>Consumer Cyclical</td>\n",
       "    </tr>\n",
       "    <tr>\n",
       "      <th>499</th>\n",
       "      <td>500</td>\n",
       "      <td>Bio-Rad Laboratories, Inc.Class A</td>\n",
       "      <td>BIO</td>\n",
       "      <td>0.01%</td>\n",
       "      <td>Healthcare</td>\n",
       "    </tr>\n",
       "    <tr>\n",
       "      <th>500</th>\n",
       "      <td>501</td>\n",
       "      <td>Paramount Global Class B</td>\n",
       "      <td>PARA</td>\n",
       "      <td>0.01%</td>\n",
       "      <td>Communication Services</td>\n",
       "    </tr>\n",
       "    <tr>\n",
       "      <th>501</th>\n",
       "      <td>502</td>\n",
       "      <td>Fox Corporation Class B</td>\n",
       "      <td>FOX</td>\n",
       "      <td>0.01%</td>\n",
       "      <td>Communication Services</td>\n",
       "    </tr>\n",
       "    <tr>\n",
       "      <th>502</th>\n",
       "      <td>503</td>\n",
       "      <td>News Corporation Class B</td>\n",
       "      <td>NWS</td>\n",
       "      <td>0.01%</td>\n",
       "      <td>Communication Services</td>\n",
       "    </tr>\n",
       "  </tbody>\n",
       "</table>\n",
       "<p>503 rows × 5 columns</p>\n",
       "</div>"
      ],
      "text/plain": [
       "       #                            Company Symbol Portfolio%  \\\n",
       "0      1                     Microsoft Corp   MSFT      7.05%   \n",
       "1      2                         Apple Inc.   AAPL      5.74%   \n",
       "2      3                        Nvidia Corp   NVDA      5.06%   \n",
       "3      4                     Amazon.com Inc   AMZN      3.83%   \n",
       "4      5              Alphabet Inc. Class A  GOOGL      2.37%   \n",
       "..   ...                                ...    ...        ...   \n",
       "498  499            Mohawk Industries, Inc.    MHK      0.01%   \n",
       "499  500  Bio-Rad Laboratories, Inc.Class A    BIO      0.01%   \n",
       "500  501           Paramount Global Class B   PARA      0.01%   \n",
       "501  502            Fox Corporation Class B    FOX      0.01%   \n",
       "502  503           News Corporation Class B    NWS      0.01%   \n",
       "\n",
       "                     Sector  \n",
       "0                Technology  \n",
       "1                Technology  \n",
       "2                Technology  \n",
       "3         Consumer Cyclical  \n",
       "4    Communication Services  \n",
       "..                      ...  \n",
       "498       Consumer Cyclical  \n",
       "499              Healthcare  \n",
       "500  Communication Services  \n",
       "501  Communication Services  \n",
       "502  Communication Services  \n",
       "\n",
       "[503 rows x 5 columns]"
      ]
     },
     "execution_count": 34,
     "metadata": {},
     "output_type": "execute_result"
    }
   ],
   "source": [
    "tickers"
   ]
  },
  {
   "cell_type": "code",
   "execution_count": 35,
   "metadata": {},
   "outputs": [
    {
     "data": {
      "text/plain": [
       "['MSFT',\n",
       " 'AAPL',\n",
       " 'NVDA',\n",
       " 'AMZN',\n",
       " 'GOOGL',\n",
       " 'META',\n",
       " 'GOOG',\n",
       " 'BRK.B',\n",
       " 'AVGO',\n",
       " 'LLY',\n",
       " 'JPM',\n",
       " 'XOM',\n",
       " 'TSLA',\n",
       " 'UNH',\n",
       " 'V',\n",
       " 'MA',\n",
       " 'PG',\n",
       " 'JNJ',\n",
       " 'HD',\n",
       " 'MRK',\n",
       " 'COST',\n",
       " 'CVX',\n",
       " 'ABBV',\n",
       " 'CRM',\n",
       " 'BAC',\n",
       " 'WMT',\n",
       " 'AMD',\n",
       " 'NFLX',\n",
       " 'PEP',\n",
       " 'KO',\n",
       " 'TMO',\n",
       " 'ADBE',\n",
       " 'WFC',\n",
       " 'LIN',\n",
       " 'DIS',\n",
       " 'MCD',\n",
       " 'CSCO',\n",
       " 'ACN',\n",
       " 'ORCL',\n",
       " 'ABT',\n",
       " 'QCOM',\n",
       " 'INTU',\n",
       " 'GE',\n",
       " 'CAT',\n",
       " 'AMAT',\n",
       " 'VZ',\n",
       " 'DHR',\n",
       " 'TXN',\n",
       " 'COP',\n",
       " 'IBM',\n",
       " 'CMCSA',\n",
       " 'NOW',\n",
       " 'UNP',\n",
       " 'PM',\n",
       " 'AMGN',\n",
       " 'PFE',\n",
       " 'UBER',\n",
       " 'GS',\n",
       " 'NEE',\n",
       " 'INTC',\n",
       " 'AXP',\n",
       " 'RTX',\n",
       " 'SPGI',\n",
       " 'LOW',\n",
       " 'ISRG',\n",
       " 'ETN',\n",
       " 'HON',\n",
       " 'MU',\n",
       " 'ELV',\n",
       " 'BKNG',\n",
       " 'PGR',\n",
       " 'LRCX',\n",
       " 'T',\n",
       " 'C',\n",
       " 'MS',\n",
       " 'NKE',\n",
       " 'SYK',\n",
       " 'SCHW',\n",
       " 'TJX',\n",
       " 'BSX',\n",
       " 'UPS',\n",
       " 'BLK',\n",
       " 'MDT',\n",
       " 'CI',\n",
       " 'DE',\n",
       " 'VRTX',\n",
       " 'ADI',\n",
       " 'SBUX',\n",
       " 'ADP',\n",
       " 'CB',\n",
       " 'LMT',\n",
       " 'MMC',\n",
       " 'PLD',\n",
       " 'KLAC',\n",
       " 'BA',\n",
       " 'MDLZ',\n",
       " 'FI',\n",
       " 'REGN',\n",
       " 'PANW',\n",
       " 'BMY',\n",
       " 'BX',\n",
       " 'CMG',\n",
       " 'TMUS',\n",
       " 'CVS',\n",
       " 'SNPS',\n",
       " 'GILD',\n",
       " 'AMT',\n",
       " 'SO',\n",
       " 'EOG',\n",
       " 'WM',\n",
       " 'CDNS',\n",
       " 'MO',\n",
       " 'TGT',\n",
       " 'CME',\n",
       " 'ICE',\n",
       " 'DUK',\n",
       " 'CL',\n",
       " 'MPC',\n",
       " 'ZTS',\n",
       " 'FCX',\n",
       " 'SHW',\n",
       " 'APH',\n",
       " 'MCK',\n",
       " 'ABNB',\n",
       " 'PH',\n",
       " 'PYPL',\n",
       " 'SLB',\n",
       " 'TDG',\n",
       " 'TT',\n",
       " 'EQIX',\n",
       " 'NOC',\n",
       " 'ITW',\n",
       " 'BDX',\n",
       " 'CSX',\n",
       " 'ANET',\n",
       " 'PSX',\n",
       " 'GD',\n",
       " 'USB',\n",
       " 'PXD',\n",
       " 'EMR',\n",
       " 'NXPI',\n",
       " 'PNC',\n",
       " 'ORLY',\n",
       " 'FDX',\n",
       " 'HCA',\n",
       " 'CEG',\n",
       " 'MAR',\n",
       " 'MCO',\n",
       " 'PCAR',\n",
       " 'CTAS',\n",
       " 'MSI',\n",
       " 'AON',\n",
       " 'VLO',\n",
       " 'ECL',\n",
       " 'ROP',\n",
       " 'COF',\n",
       " 'NSC',\n",
       " 'GM',\n",
       " 'APD',\n",
       " 'EW',\n",
       " 'AIG',\n",
       " 'WELL',\n",
       " 'HLT',\n",
       " 'AZO',\n",
       " 'TFC',\n",
       " 'MMM',\n",
       " 'CARR',\n",
       " 'MCHP',\n",
       " 'AJG',\n",
       " 'F',\n",
       " 'NEM',\n",
       " 'TRV',\n",
       " 'CPRT',\n",
       " 'DXCM',\n",
       " 'WMB',\n",
       " 'OKE',\n",
       " 'URI',\n",
       " 'ADSK',\n",
       " 'SPG',\n",
       " 'KMB',\n",
       " 'ROST',\n",
       " 'HES',\n",
       " 'SRE',\n",
       " 'AEP',\n",
       " 'OXY',\n",
       " 'O',\n",
       " 'ALL',\n",
       " 'AFL',\n",
       " 'JCI',\n",
       " 'DHI',\n",
       " 'TEL',\n",
       " 'BK',\n",
       " 'DLR',\n",
       " 'MET',\n",
       " 'SMCI',\n",
       " 'NUE',\n",
       " 'IQV',\n",
       " 'D',\n",
       " 'STZ',\n",
       " 'LULU',\n",
       " 'GEV',\n",
       " 'IDXX',\n",
       " 'AMP',\n",
       " 'FIS',\n",
       " 'GWW',\n",
       " 'AME',\n",
       " 'FTNT',\n",
       " 'PSA',\n",
       " 'LHX',\n",
       " 'CCI',\n",
       " 'A',\n",
       " 'GIS',\n",
       " 'DOW',\n",
       " 'COR',\n",
       " 'PRU',\n",
       " 'YUM',\n",
       " 'CMI',\n",
       " 'CNC',\n",
       " 'MNST',\n",
       " 'RSG',\n",
       " 'FAST',\n",
       " 'SYY',\n",
       " 'CTVA',\n",
       " 'LEN',\n",
       " 'PAYX',\n",
       " 'PWR',\n",
       " 'IR',\n",
       " 'MSCI',\n",
       " 'CSGP',\n",
       " 'OTIS',\n",
       " 'HUM',\n",
       " 'MLM',\n",
       " 'FANG',\n",
       " 'EXC',\n",
       " 'GEHC',\n",
       " 'PCG',\n",
       " 'KR',\n",
       " 'MRNA',\n",
       " 'KMI',\n",
       " 'KDP',\n",
       " 'IT',\n",
       " 'VMC',\n",
       " 'HAL',\n",
       " 'EL',\n",
       " 'DVN',\n",
       " 'PEG',\n",
       " 'ACGL',\n",
       " 'CTSH',\n",
       " 'RCL',\n",
       " 'BKR',\n",
       " 'ODFL',\n",
       " 'KVUE',\n",
       " 'CDW',\n",
       " 'GPN',\n",
       " 'MPWR',\n",
       " 'ROK',\n",
       " 'DAL',\n",
       " 'ED',\n",
       " 'VRSK',\n",
       " 'ADM',\n",
       " 'RMD',\n",
       " 'DFS',\n",
       " 'DD',\n",
       " 'XYL',\n",
       " 'EA',\n",
       " 'DG',\n",
       " 'PPG',\n",
       " 'KHC',\n",
       " 'BIIB',\n",
       " 'XEL',\n",
       " 'TSCO',\n",
       " 'WAB',\n",
       " 'VICI',\n",
       " 'ON',\n",
       " 'ANSS',\n",
       " 'HIG',\n",
       " 'EXR',\n",
       " 'HSY',\n",
       " 'FICO',\n",
       " 'EFX',\n",
       " 'EBAY',\n",
       " 'AVB',\n",
       " 'EIX',\n",
       " 'MTD',\n",
       " 'FTV',\n",
       " 'WST',\n",
       " 'KEYS',\n",
       " 'CHD',\n",
       " 'HWM',\n",
       " 'CBRE',\n",
       " 'LYB',\n",
       " 'WTW',\n",
       " 'TRGP',\n",
       " 'WEC',\n",
       " 'TROW',\n",
       " 'CAH',\n",
       " 'DLTR',\n",
       " 'DOV',\n",
       " 'FITB',\n",
       " 'CHTR',\n",
       " 'ZBH',\n",
       " 'PHM',\n",
       " 'NVR',\n",
       " 'MTB',\n",
       " 'HPQ',\n",
       " 'GLW',\n",
       " 'AWK',\n",
       " 'BLDR',\n",
       " 'RJF',\n",
       " 'WDC',\n",
       " 'TTWO',\n",
       " 'BR',\n",
       " 'NDAQ',\n",
       " 'WY',\n",
       " 'STT',\n",
       " 'IRM',\n",
       " 'DTE',\n",
       " 'ETR',\n",
       " 'GPC',\n",
       " 'EQR',\n",
       " 'ALGN',\n",
       " 'HPE',\n",
       " 'GRMN',\n",
       " 'CPAY',\n",
       " 'BALL',\n",
       " 'HUBB',\n",
       " 'AXON',\n",
       " 'IFF',\n",
       " 'PTC',\n",
       " 'DECK',\n",
       " 'CTRA',\n",
       " 'SBAC',\n",
       " 'NTAP',\n",
       " 'ES',\n",
       " 'VLTO',\n",
       " 'STLD',\n",
       " 'BAX',\n",
       " 'APTV',\n",
       " 'STE',\n",
       " 'INVH',\n",
       " 'ULTA',\n",
       " 'MOH',\n",
       " 'PPL',\n",
       " 'FE',\n",
       " 'HBAN',\n",
       " 'ILMN',\n",
       " 'TYL',\n",
       " 'BRO',\n",
       " 'FSLR',\n",
       " 'AEE',\n",
       " 'MKC',\n",
       " 'OMC',\n",
       " 'CBOE',\n",
       " 'DRI',\n",
       " 'SYF',\n",
       " 'WAT',\n",
       " 'J',\n",
       " 'RF',\n",
       " 'CNP',\n",
       " 'CLX',\n",
       " 'ARE',\n",
       " 'EXPE',\n",
       " 'WBD',\n",
       " 'HOLX',\n",
       " 'LDOS',\n",
       " 'AVY',\n",
       " 'VTR',\n",
       " 'TDY',\n",
       " 'COO',\n",
       " 'TER',\n",
       " 'CINF',\n",
       " 'DPZ',\n",
       " 'ATO',\n",
       " 'CMS',\n",
       " 'PFG',\n",
       " 'TSN',\n",
       " 'UAL',\n",
       " 'NTRS',\n",
       " 'TXT',\n",
       " 'LH',\n",
       " 'LVS',\n",
       " 'EQT',\n",
       " 'SWKS',\n",
       " 'STX',\n",
       " 'IEX',\n",
       " 'EXPD',\n",
       " 'NRG',\n",
       " 'CFG',\n",
       " 'MRO',\n",
       " 'LUV',\n",
       " 'FDS',\n",
       " 'ESS',\n",
       " 'EG',\n",
       " 'MAS',\n",
       " 'WRB',\n",
       " 'VRSN',\n",
       " 'PKG',\n",
       " 'CE',\n",
       " 'AKAM',\n",
       " 'CF',\n",
       " 'ENPH',\n",
       " 'ZBRA',\n",
       " 'K',\n",
       " 'CCL',\n",
       " 'JBL',\n",
       " 'MAA',\n",
       " 'TRMB',\n",
       " 'DGX',\n",
       " 'BG',\n",
       " 'CAG',\n",
       " 'BBY',\n",
       " 'POOL',\n",
       " 'SNA',\n",
       " 'NDSN',\n",
       " 'VTRS',\n",
       " 'L',\n",
       " 'SWK',\n",
       " 'KEY',\n",
       " 'ALB',\n",
       " 'EPAM',\n",
       " 'HST',\n",
       " 'DOC',\n",
       " 'JBHT',\n",
       " 'PNR',\n",
       " 'AMCR',\n",
       " 'LYV',\n",
       " 'WBA',\n",
       " 'ROL',\n",
       " 'RVTY',\n",
       " 'LNT',\n",
       " 'KIM',\n",
       " 'IPG',\n",
       " 'LW',\n",
       " 'JKHY',\n",
       " 'WRK',\n",
       " 'EVRG',\n",
       " 'IP',\n",
       " 'LKQ',\n",
       " 'CRL',\n",
       " 'SJM',\n",
       " 'GEN',\n",
       " 'TAP',\n",
       " 'PODD',\n",
       " 'AES',\n",
       " 'UDR',\n",
       " 'QRVO',\n",
       " 'EMN',\n",
       " 'MGM',\n",
       " 'NI',\n",
       " 'JNPR',\n",
       " 'KMX',\n",
       " 'HII',\n",
       " 'ALLE',\n",
       " 'FFIV',\n",
       " 'CPT',\n",
       " 'BBWI',\n",
       " 'HRL',\n",
       " 'AOS',\n",
       " 'UHS',\n",
       " 'TECH',\n",
       " 'CTLT',\n",
       " 'APA',\n",
       " 'MOS',\n",
       " 'TFX',\n",
       " 'INCY',\n",
       " 'REG',\n",
       " 'HSIC',\n",
       " 'DAY',\n",
       " 'NWSA',\n",
       " 'PAYC',\n",
       " 'WYNN',\n",
       " 'TPR',\n",
       " 'AIZ',\n",
       " 'AAL',\n",
       " 'SOLV',\n",
       " 'CPB',\n",
       " 'BF.B',\n",
       " 'MTCH',\n",
       " 'BXP',\n",
       " 'GNRC',\n",
       " 'PNW',\n",
       " 'HAS',\n",
       " 'CHRW',\n",
       " 'ETSY',\n",
       " 'NCLH',\n",
       " 'BWA',\n",
       " 'CZR',\n",
       " 'FOXA',\n",
       " 'MKTX',\n",
       " 'FRT',\n",
       " 'FMC',\n",
       " 'RHI',\n",
       " 'DVA',\n",
       " 'BEN',\n",
       " 'CMA',\n",
       " 'IVZ',\n",
       " 'RL',\n",
       " 'GL',\n",
       " 'MHK',\n",
       " 'BIO',\n",
       " 'PARA',\n",
       " 'FOX',\n",
       " 'NWS']"
      ]
     },
     "execution_count": 35,
     "metadata": {},
     "output_type": "execute_result"
    }
   ],
   "source": [
    "ticker_symbols"
   ]
  },
  {
   "cell_type": "code",
   "execution_count": 36,
   "metadata": {},
   "outputs": [
    {
     "name": "stdout",
     "output_type": "stream",
     "text": [
      "Downloading data for MSFT\n"
     ]
    },
    {
     "name": "stderr",
     "output_type": "stream",
     "text": [
      "[*********************100%%**********************]  1 of 1 completed\n"
     ]
    },
    {
     "name": "stdout",
     "output_type": "stream",
     "text": [
      "Downloading data for AAPL\n"
     ]
    },
    {
     "name": "stderr",
     "output_type": "stream",
     "text": [
      "[*********************100%%**********************]  1 of 1 completed\n"
     ]
    },
    {
     "name": "stdout",
     "output_type": "stream",
     "text": [
      "Downloading data for NVDA\n"
     ]
    },
    {
     "name": "stderr",
     "output_type": "stream",
     "text": [
      "[*********************100%%**********************]  1 of 1 completed\n",
      "[*********************100%%**********************]  1 of 1 completed\n"
     ]
    },
    {
     "name": "stdout",
     "output_type": "stream",
     "text": [
      "Downloading data for AMZN\n",
      "Downloading data for GOOGL\n"
     ]
    },
    {
     "name": "stderr",
     "output_type": "stream",
     "text": [
      "[*********************100%%**********************]  1 of 1 completed\n",
      "[*********************100%%**********************]  1 of 1 completed\n"
     ]
    },
    {
     "name": "stdout",
     "output_type": "stream",
     "text": [
      "Downloading data for META\n",
      "Downloading data for GOOG\n"
     ]
    },
    {
     "name": "stderr",
     "output_type": "stream",
     "text": [
      "[*********************100%%**********************]  1 of 1 completed\n"
     ]
    },
    {
     "name": "stdout",
     "output_type": "stream",
     "text": [
      "Downloading data for BRK.B\n"
     ]
    },
    {
     "name": "stderr",
     "output_type": "stream",
     "text": [
      "[*********************100%%**********************]  1 of 1 completed\n",
      "\n",
      "1 Failed download:\n",
      "['BRK.B']: Exception('%ticker%: No timezone found, symbol may be delisted')\n"
     ]
    },
    {
     "name": "stdout",
     "output_type": "stream",
     "text": [
      "Downloading data for AVGO\n"
     ]
    },
    {
     "name": "stderr",
     "output_type": "stream",
     "text": [
      "[*********************100%%**********************]  1 of 1 completed\n"
     ]
    },
    {
     "name": "stdout",
     "output_type": "stream",
     "text": [
      "Downloading data for LLY\n"
     ]
    },
    {
     "name": "stderr",
     "output_type": "stream",
     "text": [
      "[*********************100%%**********************]  1 of 1 completed\n"
     ]
    },
    {
     "name": "stdout",
     "output_type": "stream",
     "text": [
      "Downloading data for JPM\n"
     ]
    },
    {
     "name": "stderr",
     "output_type": "stream",
     "text": [
      "[*********************100%%**********************]  1 of 1 completed\n"
     ]
    },
    {
     "name": "stdout",
     "output_type": "stream",
     "text": [
      "Downloading data for XOM\n"
     ]
    },
    {
     "name": "stderr",
     "output_type": "stream",
     "text": [
      "[*********************100%%**********************]  1 of 1 completed\n",
      "[*********************100%%**********************]  1 of 1 completed\n"
     ]
    },
    {
     "name": "stdout",
     "output_type": "stream",
     "text": [
      "Downloading data for TSLA\n",
      "Downloading data for UNH\n"
     ]
    },
    {
     "name": "stderr",
     "output_type": "stream",
     "text": [
      "[*********************100%%**********************]  1 of 1 completed\n",
      "[*********************100%%**********************]  1 of 1 completed\n"
     ]
    },
    {
     "name": "stdout",
     "output_type": "stream",
     "text": [
      "Downloading data for V\n",
      "Downloading data for MA\n"
     ]
    },
    {
     "name": "stderr",
     "output_type": "stream",
     "text": [
      "[*********************100%%**********************]  1 of 1 completed\n",
      "[*********************100%%**********************]  1 of 1 completed"
     ]
    },
    {
     "name": "stdout",
     "output_type": "stream",
     "text": [
      "Downloading data for PG\n"
     ]
    },
    {
     "name": "stderr",
     "output_type": "stream",
     "text": [
      "\n"
     ]
    },
    {
     "name": "stdout",
     "output_type": "stream",
     "text": [
      "Downloading data for JNJ\n"
     ]
    },
    {
     "name": "stderr",
     "output_type": "stream",
     "text": [
      "[*********************100%%**********************]  1 of 1 completed\n",
      "[*********************100%%**********************]  1 of 1 completed\n"
     ]
    },
    {
     "name": "stdout",
     "output_type": "stream",
     "text": [
      "Downloading data for HD\n",
      "Downloading data for MRK\n"
     ]
    },
    {
     "name": "stderr",
     "output_type": "stream",
     "text": [
      "[*********************100%%**********************]  1 of 1 completed\n",
      "[*********************100%%**********************]  1 of 1 completed\n"
     ]
    },
    {
     "name": "stdout",
     "output_type": "stream",
     "text": [
      "Downloading data for COST\n",
      "Downloading data for CVX\n"
     ]
    },
    {
     "name": "stderr",
     "output_type": "stream",
     "text": [
      "[*********************100%%**********************]  1 of 1 completed\n",
      "[*********************100%%**********************]  1 of 1 completed\n"
     ]
    },
    {
     "name": "stdout",
     "output_type": "stream",
     "text": [
      "Downloading data for ABBV\n",
      "Downloading data for CRM\n"
     ]
    },
    {
     "name": "stderr",
     "output_type": "stream",
     "text": [
      "[*********************100%%**********************]  1 of 1 completed\n",
      "[*********************100%%**********************]  1 of 1 completed\n"
     ]
    },
    {
     "name": "stdout",
     "output_type": "stream",
     "text": [
      "Downloading data for BAC\n",
      "Downloading data for WMT\n"
     ]
    },
    {
     "name": "stderr",
     "output_type": "stream",
     "text": [
      "[*********************100%%**********************]  1 of 1 completed\n",
      "[*********************100%%**********************]  1 of 1 completed\n"
     ]
    },
    {
     "name": "stdout",
     "output_type": "stream",
     "text": [
      "Downloading data for AMD\n",
      "Downloading data for NFLX\n"
     ]
    },
    {
     "name": "stderr",
     "output_type": "stream",
     "text": [
      "[*********************100%%**********************]  1 of 1 completed\n",
      "[*********************100%%**********************]  1 of 1 completed\n"
     ]
    },
    {
     "name": "stdout",
     "output_type": "stream",
     "text": [
      "Downloading data for PEP\n",
      "Downloading data for KO\n"
     ]
    },
    {
     "name": "stderr",
     "output_type": "stream",
     "text": [
      "[*********************100%%**********************]  1 of 1 completed\n",
      "[*********************100%%**********************]  1 of 1 completed\n"
     ]
    },
    {
     "name": "stdout",
     "output_type": "stream",
     "text": [
      "Downloading data for TMO\n",
      "Downloading data for ADBE\n"
     ]
    },
    {
     "name": "stderr",
     "output_type": "stream",
     "text": [
      "[*********************100%%**********************]  1 of 1 completed\n",
      "[*********************100%%**********************]  1 of 1 completed\n"
     ]
    },
    {
     "name": "stdout",
     "output_type": "stream",
     "text": [
      "Downloading data for WFC\n",
      "Downloading data for LIN\n"
     ]
    },
    {
     "name": "stderr",
     "output_type": "stream",
     "text": [
      "[*********************100%%**********************]  1 of 1 completed\n",
      "[*********************100%%**********************]  1 of 1 completed\n"
     ]
    },
    {
     "name": "stdout",
     "output_type": "stream",
     "text": [
      "Downloading data for DIS\n",
      "Downloading data for MCD\n"
     ]
    },
    {
     "name": "stderr",
     "output_type": "stream",
     "text": [
      "[*********************100%%**********************]  1 of 1 completed\n",
      "[*********************100%%**********************]  1 of 1 completed\n"
     ]
    },
    {
     "name": "stdout",
     "output_type": "stream",
     "text": [
      "Downloading data for CSCO\n",
      "Downloading data for ACN\n"
     ]
    },
    {
     "name": "stderr",
     "output_type": "stream",
     "text": [
      "[*********************100%%**********************]  1 of 1 completed\n",
      "[*********************100%%**********************]  1 of 1 completed\n"
     ]
    },
    {
     "name": "stdout",
     "output_type": "stream",
     "text": [
      "Downloading data for ORCL\n",
      "Downloading data for ABT\n"
     ]
    },
    {
     "name": "stderr",
     "output_type": "stream",
     "text": [
      "[*********************100%%**********************]  1 of 1 completed\n",
      "[*********************100%%**********************]  1 of 1 completed\n"
     ]
    },
    {
     "name": "stdout",
     "output_type": "stream",
     "text": [
      "Downloading data for QCOM\n",
      "Downloading data for INTU\n"
     ]
    },
    {
     "name": "stderr",
     "output_type": "stream",
     "text": [
      "[*********************100%%**********************]  1 of 1 completed\n"
     ]
    },
    {
     "name": "stdout",
     "output_type": "stream",
     "text": [
      "Downloading data for GE\n"
     ]
    },
    {
     "name": "stderr",
     "output_type": "stream",
     "text": [
      "[*********************100%%**********************]  1 of 1 completed\n"
     ]
    },
    {
     "name": "stdout",
     "output_type": "stream",
     "text": [
      "Downloading data for CAT\n"
     ]
    },
    {
     "name": "stderr",
     "output_type": "stream",
     "text": [
      "[*********************100%%**********************]  1 of 1 completed\n",
      "[*********************100%%**********************]  1 of 1 completed\n"
     ]
    },
    {
     "name": "stdout",
     "output_type": "stream",
     "text": [
      "Downloading data for AMAT\n",
      "Downloading data for VZ\n"
     ]
    },
    {
     "name": "stderr",
     "output_type": "stream",
     "text": [
      "[*********************100%%**********************]  1 of 1 completed\n",
      "[*********************100%%**********************]  1 of 1 completed\n"
     ]
    },
    {
     "name": "stdout",
     "output_type": "stream",
     "text": [
      "Downloading data for DHR\n",
      "Downloading data for TXN\n"
     ]
    },
    {
     "name": "stderr",
     "output_type": "stream",
     "text": [
      "[*********************100%%**********************]  1 of 1 completed\n"
     ]
    },
    {
     "name": "stdout",
     "output_type": "stream",
     "text": [
      "Downloading data for COP\n"
     ]
    },
    {
     "name": "stderr",
     "output_type": "stream",
     "text": [
      "[*********************100%%**********************]  1 of 1 completed\n"
     ]
    },
    {
     "name": "stdout",
     "output_type": "stream",
     "text": [
      "Downloading data for IBM\n"
     ]
    },
    {
     "name": "stderr",
     "output_type": "stream",
     "text": [
      "[*********************100%%**********************]  1 of 1 completed\n",
      "[*********************100%%**********************]  1 of 1 completed\n"
     ]
    },
    {
     "name": "stdout",
     "output_type": "stream",
     "text": [
      "Downloading data for CMCSA\n",
      "Downloading data for NOW\n"
     ]
    },
    {
     "name": "stderr",
     "output_type": "stream",
     "text": [
      "[*********************100%%**********************]  1 of 1 completed\n",
      "[*********************100%%**********************]  1 of 1 completed\n"
     ]
    },
    {
     "name": "stdout",
     "output_type": "stream",
     "text": [
      "Downloading data for UNP\n",
      "Downloading data for PM\n"
     ]
    },
    {
     "name": "stderr",
     "output_type": "stream",
     "text": [
      "[*********************100%%**********************]  1 of 1 completed\n",
      "[*********************100%%**********************]  1 of 1 completed\n"
     ]
    },
    {
     "name": "stdout",
     "output_type": "stream",
     "text": [
      "Downloading data for AMGN\n",
      "Downloading data for PFE\n"
     ]
    },
    {
     "name": "stderr",
     "output_type": "stream",
     "text": [
      "[*********************100%%**********************]  1 of 1 completed\n",
      "[*********************100%%**********************]  1 of 1 completed\n"
     ]
    },
    {
     "name": "stdout",
     "output_type": "stream",
     "text": [
      "Downloading data for UBER\n",
      "Downloading data for GS\n"
     ]
    },
    {
     "name": "stderr",
     "output_type": "stream",
     "text": [
      "[*********************100%%**********************]  1 of 1 completed\n",
      "[*********************100%%**********************]  1 of 1 completed\n"
     ]
    },
    {
     "name": "stdout",
     "output_type": "stream",
     "text": [
      "Downloading data for NEE\n",
      "Downloading data for INTC\n"
     ]
    },
    {
     "name": "stderr",
     "output_type": "stream",
     "text": [
      "[*********************100%%**********************]  1 of 1 completed\n"
     ]
    },
    {
     "name": "stdout",
     "output_type": "stream",
     "text": [
      "Downloading data for AXP\n"
     ]
    },
    {
     "name": "stderr",
     "output_type": "stream",
     "text": [
      "[*********************100%%**********************]  1 of 1 completed\n"
     ]
    },
    {
     "name": "stdout",
     "output_type": "stream",
     "text": [
      "Downloading data for RTX\n"
     ]
    },
    {
     "name": "stderr",
     "output_type": "stream",
     "text": [
      "[*********************100%%**********************]  1 of 1 completed\n",
      "[*********************100%%**********************]  1 of 1 completed\n"
     ]
    },
    {
     "name": "stdout",
     "output_type": "stream",
     "text": [
      "Downloading data for SPGI\n",
      "Downloading data for LOW\n"
     ]
    },
    {
     "name": "stderr",
     "output_type": "stream",
     "text": [
      "[*********************100%%**********************]  1 of 1 completed\n",
      "[*********************100%%**********************]  1 of 1 completed\n"
     ]
    },
    {
     "name": "stdout",
     "output_type": "stream",
     "text": [
      "Downloading data for ISRG\n",
      "Downloading data for ETN\n"
     ]
    },
    {
     "name": "stderr",
     "output_type": "stream",
     "text": [
      "[*********************100%%**********************]  1 of 1 completed\n"
     ]
    },
    {
     "name": "stdout",
     "output_type": "stream",
     "text": [
      "Downloading data for HON\n"
     ]
    },
    {
     "name": "stderr",
     "output_type": "stream",
     "text": [
      "[*********************100%%**********************]  1 of 1 completed\n",
      "[*********************100%%**********************]  1 of 1 completed\n"
     ]
    },
    {
     "name": "stdout",
     "output_type": "stream",
     "text": [
      "Downloading data for MU\n",
      "Downloading data for ELV\n"
     ]
    },
    {
     "name": "stderr",
     "output_type": "stream",
     "text": [
      "[*********************100%%**********************]  1 of 1 completed\n",
      "[*********************100%%**********************]  1 of 1 completed\n"
     ]
    },
    {
     "name": "stdout",
     "output_type": "stream",
     "text": [
      "Downloading data for BKNG\n",
      "Downloading data for PGR\n"
     ]
    },
    {
     "name": "stderr",
     "output_type": "stream",
     "text": [
      "[*********************100%%**********************]  1 of 1 completed\n",
      "[*********************100%%**********************]  1 of 1 completed\n"
     ]
    },
    {
     "name": "stdout",
     "output_type": "stream",
     "text": [
      "Downloading data for LRCX\n",
      "Downloading data for T\n"
     ]
    },
    {
     "name": "stderr",
     "output_type": "stream",
     "text": [
      "[*********************100%%**********************]  1 of 1 completed\n",
      "[*********************100%%**********************]  1 of 1 completed"
     ]
    },
    {
     "name": "stdout",
     "output_type": "stream",
     "text": [
      "Downloading data for C\n"
     ]
    },
    {
     "name": "stderr",
     "output_type": "stream",
     "text": [
      "\n"
     ]
    },
    {
     "name": "stdout",
     "output_type": "stream",
     "text": [
      "Downloading data for MS\n"
     ]
    },
    {
     "name": "stderr",
     "output_type": "stream",
     "text": [
      "[*********************100%%**********************]  1 of 1 completed\n"
     ]
    },
    {
     "name": "stdout",
     "output_type": "stream",
     "text": [
      "Downloading data for NKE\n"
     ]
    },
    {
     "name": "stderr",
     "output_type": "stream",
     "text": [
      "[*********************100%%**********************]  1 of 1 completed\n"
     ]
    },
    {
     "name": "stdout",
     "output_type": "stream",
     "text": [
      "Downloading data for SYK\n"
     ]
    },
    {
     "name": "stderr",
     "output_type": "stream",
     "text": [
      "[*********************100%%**********************]  1 of 1 completed\n",
      "[*********************100%%**********************]  1 of 1 completed\n"
     ]
    },
    {
     "name": "stdout",
     "output_type": "stream",
     "text": [
      "Downloading data for SCHW\n",
      "Downloading data for TJX\n"
     ]
    },
    {
     "name": "stderr",
     "output_type": "stream",
     "text": [
      "[*********************100%%**********************]  1 of 1 completed\n",
      "[*********************100%%**********************]  1 of 1 completed\n"
     ]
    },
    {
     "name": "stdout",
     "output_type": "stream",
     "text": [
      "Downloading data for BSX\n",
      "Downloading data for UPS\n"
     ]
    },
    {
     "name": "stderr",
     "output_type": "stream",
     "text": [
      "[*********************100%%**********************]  1 of 1 completed\n",
      "[*********************100%%**********************]  1 of 1 completed\n"
     ]
    },
    {
     "name": "stdout",
     "output_type": "stream",
     "text": [
      "Downloading data for BLK\n",
      "Downloading data for MDT\n"
     ]
    },
    {
     "name": "stderr",
     "output_type": "stream",
     "text": [
      "[*********************100%%**********************]  1 of 1 completed\n",
      "[*********************100%%**********************]  1 of 1 completed\n"
     ]
    },
    {
     "name": "stdout",
     "output_type": "stream",
     "text": [
      "Downloading data for CI\n",
      "Downloading data for DE\n"
     ]
    },
    {
     "name": "stderr",
     "output_type": "stream",
     "text": [
      "[*********************100%%**********************]  1 of 1 completed\n",
      "[*********************100%%**********************]  1 of 1 completed\n"
     ]
    },
    {
     "name": "stdout",
     "output_type": "stream",
     "text": [
      "Downloading data for VRTX\n",
      "Downloading data for ADI\n"
     ]
    },
    {
     "name": "stderr",
     "output_type": "stream",
     "text": [
      "[*********************100%%**********************]  1 of 1 completed\n"
     ]
    },
    {
     "name": "stdout",
     "output_type": "stream",
     "text": [
      "Downloading data for SBUX\n"
     ]
    },
    {
     "name": "stderr",
     "output_type": "stream",
     "text": [
      "[*********************100%%**********************]  1 of 1 completed\n",
      "[*********************100%%**********************]  1 of 1 completed\n"
     ]
    },
    {
     "name": "stdout",
     "output_type": "stream",
     "text": [
      "Downloading data for ADP\n",
      "Downloading data for CB\n"
     ]
    },
    {
     "name": "stderr",
     "output_type": "stream",
     "text": [
      "[*********************100%%**********************]  1 of 1 completed\n",
      "[*********************100%%**********************]  1 of 1 completed\n"
     ]
    },
    {
     "name": "stdout",
     "output_type": "stream",
     "text": [
      "Downloading data for LMT\n",
      "Downloading data for MMC\n"
     ]
    },
    {
     "name": "stderr",
     "output_type": "stream",
     "text": [
      "[*********************100%%**********************]  1 of 1 completed\n",
      "[*********************100%%**********************]  1 of 1 completed\n"
     ]
    },
    {
     "name": "stdout",
     "output_type": "stream",
     "text": [
      "Downloading data for PLD\n",
      "Downloading data for KLAC\n"
     ]
    },
    {
     "name": "stderr",
     "output_type": "stream",
     "text": [
      "[*********************100%%**********************]  1 of 1 completed\n"
     ]
    },
    {
     "name": "stdout",
     "output_type": "stream",
     "text": [
      "Downloading data for BA\n"
     ]
    },
    {
     "name": "stderr",
     "output_type": "stream",
     "text": [
      "[*********************100%%**********************]  1 of 1 completed\n",
      "[*********************100%%**********************]  1 of 1 completed\n"
     ]
    },
    {
     "name": "stdout",
     "output_type": "stream",
     "text": [
      "Downloading data for MDLZ\n",
      "Downloading data for FI\n"
     ]
    },
    {
     "name": "stderr",
     "output_type": "stream",
     "text": [
      "[*********************100%%**********************]  1 of 1 completed\n",
      "[*********************100%%**********************]  1 of 1 completed\n"
     ]
    },
    {
     "name": "stdout",
     "output_type": "stream",
     "text": [
      "Downloading data for REGN\n",
      "Downloading data for PANW\n"
     ]
    },
    {
     "name": "stderr",
     "output_type": "stream",
     "text": [
      "[*********************100%%**********************]  1 of 1 completed\n",
      "[*********************100%%**********************]  1 of 1 completed\n"
     ]
    },
    {
     "name": "stdout",
     "output_type": "stream",
     "text": [
      "Downloading data for BMY\n"
     ]
    },
    {
     "name": "stderr",
     "output_type": "stream",
     "text": [
      "[*********************100%%**********************]  1 of 1 completed"
     ]
    },
    {
     "name": "stdout",
     "output_type": "stream",
     "text": [
      "Downloading data for BX\n"
     ]
    },
    {
     "name": "stderr",
     "output_type": "stream",
     "text": [
      "\n",
      "[*********************100%%**********************]  1 of 1 completed\n"
     ]
    },
    {
     "name": "stdout",
     "output_type": "stream",
     "text": [
      "Downloading data for CMG\n",
      "Downloading data for TMUS\n"
     ]
    },
    {
     "name": "stderr",
     "output_type": "stream",
     "text": [
      "[*********************100%%**********************]  1 of 1 completed\n",
      "[*********************100%%**********************]  1 of 1 completed\n"
     ]
    },
    {
     "name": "stdout",
     "output_type": "stream",
     "text": [
      "Downloading data for CVS\n",
      "Downloading data for SNPS\n"
     ]
    },
    {
     "name": "stderr",
     "output_type": "stream",
     "text": [
      "[*********************100%%**********************]  1 of 1 completed\n",
      "[*********************100%%**********************]  1 of 1 completed\n"
     ]
    },
    {
     "name": "stdout",
     "output_type": "stream",
     "text": [
      "Downloading data for GILD\n",
      "Downloading data for AMT\n"
     ]
    },
    {
     "name": "stderr",
     "output_type": "stream",
     "text": [
      "[*********************100%%**********************]  1 of 1 completed\n",
      "[*********************100%%**********************]  1 of 1 completed\n"
     ]
    },
    {
     "name": "stdout",
     "output_type": "stream",
     "text": [
      "Downloading data for SO\n",
      "Downloading data for EOG\n"
     ]
    },
    {
     "name": "stderr",
     "output_type": "stream",
     "text": [
      "[*********************100%%**********************]  1 of 1 completed\n"
     ]
    },
    {
     "name": "stdout",
     "output_type": "stream",
     "text": [
      "Downloading data for WM\n"
     ]
    },
    {
     "name": "stderr",
     "output_type": "stream",
     "text": [
      "[*********************100%%**********************]  1 of 1 completed\n",
      "[*********************100%%**********************]  1 of 1 completed\n"
     ]
    },
    {
     "name": "stdout",
     "output_type": "stream",
     "text": [
      "Downloading data for CDNS\n",
      "Downloading data for MO\n"
     ]
    },
    {
     "name": "stderr",
     "output_type": "stream",
     "text": [
      "[*********************100%%**********************]  1 of 1 completed\n"
     ]
    },
    {
     "name": "stdout",
     "output_type": "stream",
     "text": [
      "Downloading data for TGT\n"
     ]
    },
    {
     "name": "stderr",
     "output_type": "stream",
     "text": [
      "[*********************100%%**********************]  1 of 1 completed\n",
      "[*********************100%%**********************]  1 of 1 completed\n"
     ]
    },
    {
     "name": "stdout",
     "output_type": "stream",
     "text": [
      "Downloading data for CME\n",
      "Downloading data for ICE\n"
     ]
    },
    {
     "name": "stderr",
     "output_type": "stream",
     "text": [
      "[*********************100%%**********************]  1 of 1 completed\n"
     ]
    },
    {
     "name": "stdout",
     "output_type": "stream",
     "text": [
      "Downloading data for DUK\n"
     ]
    },
    {
     "name": "stderr",
     "output_type": "stream",
     "text": [
      "[*********************100%%**********************]  1 of 1 completed\n"
     ]
    },
    {
     "name": "stdout",
     "output_type": "stream",
     "text": [
      "Downloading data for CL\n"
     ]
    },
    {
     "name": "stderr",
     "output_type": "stream",
     "text": [
      "[*********************100%%**********************]  1 of 1 completed\n",
      "[*********************100%%**********************]  1 of 1 completed\n"
     ]
    },
    {
     "name": "stdout",
     "output_type": "stream",
     "text": [
      "Downloading data for MPC\n",
      "Downloading data for ZTS\n"
     ]
    },
    {
     "name": "stderr",
     "output_type": "stream",
     "text": [
      "[*********************100%%**********************]  1 of 1 completed\n",
      "[*********************100%%**********************]  1 of 1 completed\n"
     ]
    },
    {
     "name": "stdout",
     "output_type": "stream",
     "text": [
      "Downloading data for FCX\n",
      "Downloading data for SHW\n"
     ]
    },
    {
     "name": "stderr",
     "output_type": "stream",
     "text": [
      "[*********************100%%**********************]  1 of 1 completed\n"
     ]
    },
    {
     "name": "stdout",
     "output_type": "stream",
     "text": [
      "Downloading data for APH\n"
     ]
    },
    {
     "name": "stderr",
     "output_type": "stream",
     "text": [
      "[*********************100%%**********************]  1 of 1 completed\n",
      "[*********************100%%**********************]  1 of 1 completed\n"
     ]
    },
    {
     "name": "stdout",
     "output_type": "stream",
     "text": [
      "Downloading data for MCK\n",
      "Downloading data for ABNB\n"
     ]
    },
    {
     "name": "stderr",
     "output_type": "stream",
     "text": [
      "[*********************100%%**********************]  1 of 1 completed\n",
      "[*********************100%%**********************]  1 of 1 completed\n"
     ]
    },
    {
     "name": "stdout",
     "output_type": "stream",
     "text": [
      "Downloading data for PH\n",
      "Downloading data for PYPL\n"
     ]
    },
    {
     "name": "stderr",
     "output_type": "stream",
     "text": [
      "[*********************100%%**********************]  1 of 1 completed\n",
      "[*********************100%%**********************]  1 of 1 completed\n"
     ]
    },
    {
     "name": "stdout",
     "output_type": "stream",
     "text": [
      "Downloading data for SLB\n",
      "Downloading data for TDG\n"
     ]
    },
    {
     "name": "stderr",
     "output_type": "stream",
     "text": [
      "[*********************100%%**********************]  1 of 1 completed\n"
     ]
    },
    {
     "name": "stdout",
     "output_type": "stream",
     "text": [
      "Downloading data for TT\n"
     ]
    },
    {
     "name": "stderr",
     "output_type": "stream",
     "text": [
      "[*********************100%%**********************]  1 of 1 completed\n",
      "[*********************100%%**********************]  1 of 1 completed\n"
     ]
    },
    {
     "name": "stdout",
     "output_type": "stream",
     "text": [
      "Downloading data for EQIX\n",
      "Downloading data for NOC\n"
     ]
    },
    {
     "name": "stderr",
     "output_type": "stream",
     "text": [
      "[*********************100%%**********************]  1 of 1 completed\n",
      "[*********************100%%**********************]  1 of 1 completed\n"
     ]
    },
    {
     "name": "stdout",
     "output_type": "stream",
     "text": [
      "Downloading data for ITW\n",
      "Downloading data for BDX\n"
     ]
    },
    {
     "name": "stderr",
     "output_type": "stream",
     "text": [
      "[*********************100%%**********************]  1 of 1 completed\n",
      "[*********************100%%**********************]  1 of 1 completed\n"
     ]
    },
    {
     "name": "stdout",
     "output_type": "stream",
     "text": [
      "Downloading data for CSX\n",
      "Downloading data for ANET\n"
     ]
    },
    {
     "name": "stderr",
     "output_type": "stream",
     "text": [
      "[*********************100%%**********************]  1 of 1 completed\n",
      "[*********************100%%**********************]  1 of 1 completed\n"
     ]
    },
    {
     "name": "stdout",
     "output_type": "stream",
     "text": [
      "Downloading data for PSX\n",
      "Downloading data for GD\n"
     ]
    },
    {
     "name": "stderr",
     "output_type": "stream",
     "text": [
      "[*********************100%%**********************]  1 of 1 completed\n"
     ]
    },
    {
     "name": "stdout",
     "output_type": "stream",
     "text": [
      "Downloading data for USB\n"
     ]
    },
    {
     "name": "stderr",
     "output_type": "stream",
     "text": [
      "[*********************100%%**********************]  1 of 1 completed\n",
      "[*********************100%%**********************]  1 of 1 completed\n"
     ]
    },
    {
     "name": "stdout",
     "output_type": "stream",
     "text": [
      "Downloading data for PXD\n",
      "Downloading data for EMR\n"
     ]
    },
    {
     "name": "stderr",
     "output_type": "stream",
     "text": [
      "[*********************100%%**********************]  1 of 1 completed\n",
      "[*********************100%%**********************]  1 of 1 completed\n"
     ]
    },
    {
     "name": "stdout",
     "output_type": "stream",
     "text": [
      "Downloading data for NXPI\n",
      "Downloading data for PNC\n"
     ]
    },
    {
     "name": "stderr",
     "output_type": "stream",
     "text": [
      "[*********************100%%**********************]  1 of 1 completed\n",
      "[*********************100%%**********************]  1 of 1 completed\n"
     ]
    },
    {
     "name": "stdout",
     "output_type": "stream",
     "text": [
      "Downloading data for ORLY\n",
      "Downloading data for FDX\n"
     ]
    },
    {
     "name": "stderr",
     "output_type": "stream",
     "text": [
      "[*********************100%%**********************]  1 of 1 completed\n",
      "[*********************100%%**********************]  1 of 1 completed\n"
     ]
    },
    {
     "name": "stdout",
     "output_type": "stream",
     "text": [
      "Downloading data for HCA\n",
      "Downloading data for CEG\n"
     ]
    },
    {
     "name": "stderr",
     "output_type": "stream",
     "text": [
      "[*********************100%%**********************]  1 of 1 completed\n",
      "[*********************100%%**********************]  1 of 1 completed\n"
     ]
    },
    {
     "name": "stdout",
     "output_type": "stream",
     "text": [
      "Downloading data for MAR\n",
      "Downloading data for MCO\n"
     ]
    },
    {
     "name": "stderr",
     "output_type": "stream",
     "text": [
      "[*********************100%%**********************]  1 of 1 completed\n",
      "[*********************100%%**********************]  1 of 1 completed\n"
     ]
    },
    {
     "name": "stdout",
     "output_type": "stream",
     "text": [
      "Downloading data for PCAR\n",
      "Downloading data for CTAS\n"
     ]
    },
    {
     "name": "stderr",
     "output_type": "stream",
     "text": [
      "[*********************100%%**********************]  1 of 1 completed\n"
     ]
    },
    {
     "name": "stdout",
     "output_type": "stream",
     "text": [
      "Downloading data for MSI\n"
     ]
    },
    {
     "name": "stderr",
     "output_type": "stream",
     "text": [
      "[*********************100%%**********************]  1 of 1 completed\n"
     ]
    },
    {
     "name": "stdout",
     "output_type": "stream",
     "text": [
      "Downloading data for AON\n"
     ]
    },
    {
     "name": "stderr",
     "output_type": "stream",
     "text": [
      "[*********************100%%**********************]  1 of 1 completed\n",
      "[*********************100%%**********************]  1 of 1 completed\n"
     ]
    },
    {
     "name": "stdout",
     "output_type": "stream",
     "text": [
      "Downloading data for VLO\n",
      "Downloading data for ECL\n"
     ]
    },
    {
     "name": "stderr",
     "output_type": "stream",
     "text": [
      "[*********************100%%**********************]  1 of 1 completed\n",
      "[*********************100%%**********************]  1 of 1 completed\n"
     ]
    },
    {
     "name": "stdout",
     "output_type": "stream",
     "text": [
      "Downloading data for ROP\n",
      "Downloading data for COF\n"
     ]
    },
    {
     "name": "stderr",
     "output_type": "stream",
     "text": [
      "[*********************100%%**********************]  1 of 1 completed\n"
     ]
    },
    {
     "name": "stdout",
     "output_type": "stream",
     "text": [
      "Downloading data for NSC\n"
     ]
    },
    {
     "name": "stderr",
     "output_type": "stream",
     "text": [
      "[*********************100%%**********************]  1 of 1 completed\n",
      "[*********************100%%**********************]  1 of 1 completed\n"
     ]
    },
    {
     "name": "stdout",
     "output_type": "stream",
     "text": [
      "Downloading data for GM\n",
      "Downloading data for APD\n"
     ]
    },
    {
     "name": "stderr",
     "output_type": "stream",
     "text": [
      "[*********************100%%**********************]  1 of 1 completed\n",
      "[*********************100%%**********************]  1 of 1 completed\n"
     ]
    },
    {
     "name": "stdout",
     "output_type": "stream",
     "text": [
      "Downloading data for EW\n",
      "Downloading data for AIG\n"
     ]
    },
    {
     "name": "stderr",
     "output_type": "stream",
     "text": [
      "[*********************100%%**********************]  1 of 1 completed\n",
      "[*********************100%%**********************]  1 of 1 completed\n"
     ]
    },
    {
     "name": "stdout",
     "output_type": "stream",
     "text": [
      "Downloading data for WELL\n",
      "Downloading data for HLT\n"
     ]
    },
    {
     "name": "stderr",
     "output_type": "stream",
     "text": [
      "[*********************100%%**********************]  1 of 1 completed\n",
      "[*********************100%%**********************]  1 of 1 completed\n"
     ]
    },
    {
     "name": "stdout",
     "output_type": "stream",
     "text": [
      "Downloading data for AZO\n",
      "Downloading data for TFC\n"
     ]
    },
    {
     "name": "stderr",
     "output_type": "stream",
     "text": [
      "[*********************100%%**********************]  1 of 1 completed\n"
     ]
    },
    {
     "name": "stdout",
     "output_type": "stream",
     "text": [
      "Downloading data for MMM\n"
     ]
    },
    {
     "name": "stderr",
     "output_type": "stream",
     "text": [
      "[*********************100%%**********************]  1 of 1 completed\n",
      "[*********************100%%**********************]  1 of 1 completed\n"
     ]
    },
    {
     "name": "stdout",
     "output_type": "stream",
     "text": [
      "Downloading data for CARR\n",
      "Downloading data for MCHP\n"
     ]
    },
    {
     "name": "stderr",
     "output_type": "stream",
     "text": [
      "[*********************100%%**********************]  1 of 1 completed\n",
      "[*********************100%%**********************]  1 of 1 completed\n"
     ]
    },
    {
     "name": "stdout",
     "output_type": "stream",
     "text": [
      "Downloading data for AJG\n",
      "Downloading data for F\n"
     ]
    },
    {
     "name": "stderr",
     "output_type": "stream",
     "text": [
      "[*********************100%%**********************]  1 of 1 completed\n",
      "[*********************100%%**********************]  1 of 1 completed\n"
     ]
    },
    {
     "name": "stdout",
     "output_type": "stream",
     "text": [
      "Downloading data for NEM\n",
      "Downloading data for TRV\n"
     ]
    },
    {
     "name": "stderr",
     "output_type": "stream",
     "text": [
      "[*********************100%%**********************]  1 of 1 completed\n",
      "[*********************100%%**********************]  1 of 1 completed\n"
     ]
    },
    {
     "name": "stdout",
     "output_type": "stream",
     "text": [
      "Downloading data for CPRT\n",
      "Downloading data for DXCM\n"
     ]
    },
    {
     "name": "stderr",
     "output_type": "stream",
     "text": [
      "[*********************100%%**********************]  1 of 1 completed\n",
      "[*********************100%%**********************]  1 of 1 completed"
     ]
    },
    {
     "name": "stdout",
     "output_type": "stream",
     "text": [
      "Downloading data for WMB\n"
     ]
    },
    {
     "name": "stderr",
     "output_type": "stream",
     "text": [
      "\n"
     ]
    },
    {
     "name": "stdout",
     "output_type": "stream",
     "text": [
      "Downloading data for OKE\n"
     ]
    },
    {
     "name": "stderr",
     "output_type": "stream",
     "text": [
      "[*********************100%%**********************]  1 of 1 completed\n",
      "[*********************100%%**********************]  1 of 1 completed\n"
     ]
    },
    {
     "name": "stdout",
     "output_type": "stream",
     "text": [
      "Downloading data for URI\n",
      "Downloading data for ADSK\n"
     ]
    },
    {
     "name": "stderr",
     "output_type": "stream",
     "text": [
      "[*********************100%%**********************]  1 of 1 completed\n"
     ]
    },
    {
     "name": "stdout",
     "output_type": "stream",
     "text": [
      "Downloading data for SPG\n"
     ]
    },
    {
     "name": "stderr",
     "output_type": "stream",
     "text": [
      "[*********************100%%**********************]  1 of 1 completed\n"
     ]
    },
    {
     "name": "stdout",
     "output_type": "stream",
     "text": [
      "Downloading data for KMB\n"
     ]
    },
    {
     "name": "stderr",
     "output_type": "stream",
     "text": [
      "[*********************100%%**********************]  1 of 1 completed\n"
     ]
    },
    {
     "name": "stdout",
     "output_type": "stream",
     "text": [
      "Downloading data for ROST\n"
     ]
    },
    {
     "name": "stderr",
     "output_type": "stream",
     "text": [
      "[*********************100%%**********************]  1 of 1 completed\n",
      "[*********************100%%**********************]  1 of 1 completed\n"
     ]
    },
    {
     "name": "stdout",
     "output_type": "stream",
     "text": [
      "Downloading data for HES\n",
      "Downloading data for SRE\n"
     ]
    },
    {
     "name": "stderr",
     "output_type": "stream",
     "text": [
      "[*********************100%%**********************]  1 of 1 completed\n",
      "[*********************100%%**********************]  1 of 1 completed\n"
     ]
    },
    {
     "name": "stdout",
     "output_type": "stream",
     "text": [
      "Downloading data for AEP\n",
      "Downloading data for OXY\n"
     ]
    },
    {
     "name": "stderr",
     "output_type": "stream",
     "text": [
      "[*********************100%%**********************]  1 of 1 completed\n"
     ]
    },
    {
     "name": "stdout",
     "output_type": "stream",
     "text": [
      "Downloading data for O\n"
     ]
    },
    {
     "name": "stderr",
     "output_type": "stream",
     "text": [
      "[*********************100%%**********************]  1 of 1 completed\n"
     ]
    },
    {
     "name": "stdout",
     "output_type": "stream",
     "text": [
      "Downloading data for ALL\n"
     ]
    },
    {
     "name": "stderr",
     "output_type": "stream",
     "text": [
      "[*********************100%%**********************]  1 of 1 completed\n"
     ]
    },
    {
     "name": "stdout",
     "output_type": "stream",
     "text": [
      "Downloading data for AFL\n"
     ]
    },
    {
     "name": "stderr",
     "output_type": "stream",
     "text": [
      "[*********************100%%**********************]  1 of 1 completed\n"
     ]
    },
    {
     "name": "stdout",
     "output_type": "stream",
     "text": [
      "Downloading data for JCI\n"
     ]
    },
    {
     "name": "stderr",
     "output_type": "stream",
     "text": [
      "[*********************100%%**********************]  1 of 1 completed\n"
     ]
    },
    {
     "name": "stdout",
     "output_type": "stream",
     "text": [
      "Downloading data for DHI\n"
     ]
    },
    {
     "name": "stderr",
     "output_type": "stream",
     "text": [
      "[*********************100%%**********************]  1 of 1 completed\n",
      "[*********************100%%**********************]  1 of 1 completed\n"
     ]
    },
    {
     "name": "stdout",
     "output_type": "stream",
     "text": [
      "Downloading data for TEL\n",
      "Downloading data for BK\n"
     ]
    },
    {
     "name": "stderr",
     "output_type": "stream",
     "text": [
      "[*********************100%%**********************]  1 of 1 completed\n",
      "[*********************100%%**********************]  1 of 1 completed\n"
     ]
    },
    {
     "name": "stdout",
     "output_type": "stream",
     "text": [
      "Downloading data for DLR\n",
      "Downloading data for MET\n"
     ]
    },
    {
     "name": "stderr",
     "output_type": "stream",
     "text": [
      "[*********************100%%**********************]  1 of 1 completed\n",
      "[*********************100%%**********************]  1 of 1 completed\n"
     ]
    },
    {
     "name": "stdout",
     "output_type": "stream",
     "text": [
      "Downloading data for SMCI\n",
      "Downloading data for NUE\n"
     ]
    },
    {
     "name": "stderr",
     "output_type": "stream",
     "text": [
      "[*********************100%%**********************]  1 of 1 completed\n",
      "[*********************100%%**********************]  1 of 1 completed\n"
     ]
    },
    {
     "name": "stdout",
     "output_type": "stream",
     "text": [
      "Downloading data for IQV\n",
      "Downloading data for D\n"
     ]
    },
    {
     "name": "stderr",
     "output_type": "stream",
     "text": [
      "[*********************100%%**********************]  1 of 1 completed\n",
      "[*********************100%%**********************]  1 of 1 completed\n"
     ]
    },
    {
     "name": "stdout",
     "output_type": "stream",
     "text": [
      "Downloading data for STZ\n",
      "Downloading data for LULU\n"
     ]
    },
    {
     "name": "stderr",
     "output_type": "stream",
     "text": [
      "[*********************100%%**********************]  1 of 1 completed\n"
     ]
    },
    {
     "name": "stdout",
     "output_type": "stream",
     "text": [
      "Downloading data for GEV\n"
     ]
    },
    {
     "name": "stderr",
     "output_type": "stream",
     "text": [
      "[*********************100%%**********************]  1 of 1 completed\n",
      "\n",
      "1 Failed download:\n",
      "['GEV']: Exception(\"%ticker%: Data doesn't exist for startDate = 1104555600, endDate = 1704085200\")\n"
     ]
    },
    {
     "name": "stdout",
     "output_type": "stream",
     "text": [
      "Downloading data for IDXX\n"
     ]
    },
    {
     "name": "stderr",
     "output_type": "stream",
     "text": [
      "[*********************100%%**********************]  1 of 1 completed\n",
      "[*********************100%%**********************]  1 of 1 completed\n"
     ]
    },
    {
     "name": "stdout",
     "output_type": "stream",
     "text": [
      "Downloading data for AMP\n",
      "Downloading data for FIS\n"
     ]
    },
    {
     "name": "stderr",
     "output_type": "stream",
     "text": [
      "[*********************100%%**********************]  1 of 1 completed\n",
      "[*********************100%%**********************]  1 of 1 completed\n"
     ]
    },
    {
     "name": "stdout",
     "output_type": "stream",
     "text": [
      "Downloading data for GWW\n",
      "Downloading data for AME\n"
     ]
    },
    {
     "name": "stderr",
     "output_type": "stream",
     "text": [
      "[*********************100%%**********************]  1 of 1 completed\n",
      "[*********************100%%**********************]  1 of 1 completed\n"
     ]
    },
    {
     "name": "stdout",
     "output_type": "stream",
     "text": [
      "Downloading data for FTNT\n",
      "Downloading data for PSA\n"
     ]
    },
    {
     "name": "stderr",
     "output_type": "stream",
     "text": [
      "[*********************100%%**********************]  1 of 1 completed\n"
     ]
    },
    {
     "name": "stdout",
     "output_type": "stream",
     "text": [
      "Downloading data for LHX\n"
     ]
    },
    {
     "name": "stderr",
     "output_type": "stream",
     "text": [
      "[*********************100%%**********************]  1 of 1 completed\n",
      "[*********************100%%**********************]  1 of 1 completed\n"
     ]
    },
    {
     "name": "stdout",
     "output_type": "stream",
     "text": [
      "Downloading data for CCI\n",
      "Downloading data for A\n"
     ]
    },
    {
     "name": "stderr",
     "output_type": "stream",
     "text": [
      "[*********************100%%**********************]  1 of 1 completed\n",
      "[*********************100%%**********************]  1 of 1 completed\n"
     ]
    },
    {
     "name": "stdout",
     "output_type": "stream",
     "text": [
      "Downloading data for GIS\n",
      "Downloading data for DOW\n"
     ]
    },
    {
     "name": "stderr",
     "output_type": "stream",
     "text": [
      "[*********************100%%**********************]  1 of 1 completed\n",
      "[*********************100%%**********************]  1 of 1 completed\n"
     ]
    },
    {
     "name": "stdout",
     "output_type": "stream",
     "text": [
      "Downloading data for COR\n",
      "Downloading data for PRU\n"
     ]
    },
    {
     "name": "stderr",
     "output_type": "stream",
     "text": [
      "[*********************100%%**********************]  1 of 1 completed\n",
      "[*********************100%%**********************]  1 of 1 completed\n"
     ]
    },
    {
     "name": "stdout",
     "output_type": "stream",
     "text": [
      "Downloading data for YUM\n",
      "Downloading data for CMI\n"
     ]
    },
    {
     "name": "stderr",
     "output_type": "stream",
     "text": [
      "[*********************100%%**********************]  1 of 1 completed\n",
      "[*********************100%%**********************]  1 of 1 completed\n"
     ]
    },
    {
     "name": "stdout",
     "output_type": "stream",
     "text": [
      "Downloading data for CNC\n",
      "Downloading data for MNST\n"
     ]
    },
    {
     "name": "stderr",
     "output_type": "stream",
     "text": [
      "[*********************100%%**********************]  1 of 1 completed\n",
      "[*********************100%%**********************]  1 of 1 completed\n"
     ]
    },
    {
     "name": "stdout",
     "output_type": "stream",
     "text": [
      "Downloading data for RSG\n",
      "Downloading data for FAST\n"
     ]
    },
    {
     "name": "stderr",
     "output_type": "stream",
     "text": [
      "[*********************100%%**********************]  1 of 1 completed\n",
      "[*********************100%%**********************]  1 of 1 completed\n"
     ]
    },
    {
     "name": "stdout",
     "output_type": "stream",
     "text": [
      "Downloading data for SYY\n",
      "Downloading data for CTVA\n"
     ]
    },
    {
     "name": "stderr",
     "output_type": "stream",
     "text": [
      "[*********************100%%**********************]  1 of 1 completed\n",
      "[*********************100%%**********************]  1 of 1 completed\n"
     ]
    },
    {
     "name": "stdout",
     "output_type": "stream",
     "text": [
      "Downloading data for LEN\n",
      "Downloading data for PAYX\n"
     ]
    },
    {
     "name": "stderr",
     "output_type": "stream",
     "text": [
      "[*********************100%%**********************]  1 of 1 completed\n",
      "[*********************100%%**********************]  1 of 1 completed\n"
     ]
    },
    {
     "name": "stdout",
     "output_type": "stream",
     "text": [
      "Downloading data for PWR\n",
      "Downloading data for IR\n"
     ]
    },
    {
     "name": "stderr",
     "output_type": "stream",
     "text": [
      "[*********************100%%**********************]  1 of 1 completed\n",
      "[*********************100%%**********************]  1 of 1 completed\n"
     ]
    },
    {
     "name": "stdout",
     "output_type": "stream",
     "text": [
      "Downloading data for MSCI\n",
      "Downloading data for CSGP\n"
     ]
    },
    {
     "name": "stderr",
     "output_type": "stream",
     "text": [
      "[*********************100%%**********************]  1 of 1 completed\n",
      "[*********************100%%**********************]  1 of 1 completed\n"
     ]
    },
    {
     "name": "stdout",
     "output_type": "stream",
     "text": [
      "Downloading data for OTIS\n",
      "Downloading data for HUM\n"
     ]
    },
    {
     "name": "stderr",
     "output_type": "stream",
     "text": [
      "[*********************100%%**********************]  1 of 1 completed\n",
      "[*********************100%%**********************]  1 of 1 completed\n"
     ]
    },
    {
     "name": "stdout",
     "output_type": "stream",
     "text": [
      "Downloading data for MLM\n",
      "Downloading data for FANG\n"
     ]
    },
    {
     "name": "stderr",
     "output_type": "stream",
     "text": [
      "[*********************100%%**********************]  1 of 1 completed\n"
     ]
    },
    {
     "name": "stdout",
     "output_type": "stream",
     "text": [
      "Downloading data for EXC\n"
     ]
    },
    {
     "name": "stderr",
     "output_type": "stream",
     "text": [
      "[*********************100%%**********************]  1 of 1 completed\n",
      "[*********************100%%**********************]  1 of 1 completed\n"
     ]
    },
    {
     "name": "stdout",
     "output_type": "stream",
     "text": [
      "Downloading data for GEHC\n",
      "Downloading data for PCG\n"
     ]
    },
    {
     "name": "stderr",
     "output_type": "stream",
     "text": [
      "[*********************100%%**********************]  1 of 1 completed\n"
     ]
    },
    {
     "name": "stdout",
     "output_type": "stream",
     "text": [
      "Downloading data for KR\n"
     ]
    },
    {
     "name": "stderr",
     "output_type": "stream",
     "text": [
      "[*********************100%%**********************]  1 of 1 completed\n",
      "[*********************100%%**********************]  1 of 1 completed\n"
     ]
    },
    {
     "name": "stdout",
     "output_type": "stream",
     "text": [
      "Downloading data for MRNA\n",
      "Downloading data for KMI\n"
     ]
    },
    {
     "name": "stderr",
     "output_type": "stream",
     "text": [
      "[*********************100%%**********************]  1 of 1 completed\n",
      "[*********************100%%**********************]  1 of 1 completed\n"
     ]
    },
    {
     "name": "stdout",
     "output_type": "stream",
     "text": [
      "Downloading data for KDP\n",
      "Downloading data for IT\n"
     ]
    },
    {
     "name": "stderr",
     "output_type": "stream",
     "text": [
      "[*********************100%%**********************]  1 of 1 completed\n",
      "[*********************100%%**********************]  1 of 1 completed\n"
     ]
    },
    {
     "name": "stdout",
     "output_type": "stream",
     "text": [
      "Downloading data for VMC\n",
      "Downloading data for HAL\n"
     ]
    },
    {
     "name": "stderr",
     "output_type": "stream",
     "text": [
      "[*********************100%%**********************]  1 of 1 completed\n",
      "[*********************100%%**********************]  1 of 1 completed\n"
     ]
    },
    {
     "name": "stdout",
     "output_type": "stream",
     "text": [
      "Downloading data for EL\n",
      "Downloading data for DVN\n"
     ]
    },
    {
     "name": "stderr",
     "output_type": "stream",
     "text": [
      "[*********************100%%**********************]  1 of 1 completed\n",
      "[*********************100%%**********************]  1 of 1 completed\n"
     ]
    },
    {
     "name": "stdout",
     "output_type": "stream",
     "text": [
      "Downloading data for PEG\n"
     ]
    },
    {
     "name": "stderr",
     "output_type": "stream",
     "text": [
      "[*********************100%%**********************]  1 of 1 completed\n"
     ]
    },
    {
     "name": "stdout",
     "output_type": "stream",
     "text": [
      "Downloading data for ACGL\n",
      "Downloading data for CTSH\n"
     ]
    },
    {
     "name": "stderr",
     "output_type": "stream",
     "text": [
      "[*********************100%%**********************]  1 of 1 completed\n",
      "[*********************100%%**********************]  1 of 1 completed\n"
     ]
    },
    {
     "name": "stdout",
     "output_type": "stream",
     "text": [
      "Downloading data for RCL\n",
      "Downloading data for BKR\n"
     ]
    },
    {
     "name": "stderr",
     "output_type": "stream",
     "text": [
      "[*********************100%%**********************]  1 of 1 completed\n",
      "[*********************100%%**********************]  1 of 1 completed\n"
     ]
    },
    {
     "name": "stdout",
     "output_type": "stream",
     "text": [
      "Downloading data for ODFL\n",
      "Downloading data for KVUE\n"
     ]
    },
    {
     "name": "stderr",
     "output_type": "stream",
     "text": [
      "[*********************100%%**********************]  1 of 1 completed\n",
      "[*********************100%%**********************]  1 of 1 completed\n"
     ]
    },
    {
     "name": "stdout",
     "output_type": "stream",
     "text": [
      "Downloading data for CDW\n",
      "Downloading data for GPN\n"
     ]
    },
    {
     "name": "stderr",
     "output_type": "stream",
     "text": [
      "[*********************100%%**********************]  1 of 1 completed\n",
      "[*********************100%%**********************]  1 of 1 completed\n"
     ]
    },
    {
     "name": "stdout",
     "output_type": "stream",
     "text": [
      "Downloading data for MPWR\n",
      "Downloading data for ROK\n"
     ]
    },
    {
     "name": "stderr",
     "output_type": "stream",
     "text": [
      "[*********************100%%**********************]  1 of 1 completed\n",
      "[*********************100%%**********************]  1 of 1 completed\n"
     ]
    },
    {
     "name": "stdout",
     "output_type": "stream",
     "text": [
      "Downloading data for DAL\n",
      "Downloading data for ED\n"
     ]
    },
    {
     "name": "stderr",
     "output_type": "stream",
     "text": [
      "[*********************100%%**********************]  1 of 1 completed\n",
      "[*********************100%%**********************]  1 of 1 completed\n"
     ]
    },
    {
     "name": "stdout",
     "output_type": "stream",
     "text": [
      "Downloading data for VRSK\n",
      "Downloading data for ADM\n"
     ]
    },
    {
     "name": "stderr",
     "output_type": "stream",
     "text": [
      "[*********************100%%**********************]  1 of 1 completed\n"
     ]
    },
    {
     "name": "stdout",
     "output_type": "stream",
     "text": [
      "Downloading data for RMD\n"
     ]
    },
    {
     "name": "stderr",
     "output_type": "stream",
     "text": [
      "[*********************100%%**********************]  1 of 1 completed\n"
     ]
    },
    {
     "name": "stdout",
     "output_type": "stream",
     "text": [
      "Downloading data for DFS\n"
     ]
    },
    {
     "name": "stderr",
     "output_type": "stream",
     "text": [
      "[*********************100%%**********************]  1 of 1 completed\n"
     ]
    },
    {
     "name": "stdout",
     "output_type": "stream",
     "text": [
      "Downloading data for DD\n"
     ]
    },
    {
     "name": "stderr",
     "output_type": "stream",
     "text": [
      "[*********************100%%**********************]  1 of 1 completed\n",
      "[*********************100%%**********************]  1 of 1 completed\n"
     ]
    },
    {
     "name": "stdout",
     "output_type": "stream",
     "text": [
      "Downloading data for XYL\n",
      "Downloading data for EA\n"
     ]
    },
    {
     "name": "stderr",
     "output_type": "stream",
     "text": [
      "[*********************100%%**********************]  1 of 1 completed\n",
      "[*********************100%%**********************]  1 of 1 completed\n"
     ]
    },
    {
     "name": "stdout",
     "output_type": "stream",
     "text": [
      "Downloading data for DG\n",
      "Downloading data for PPG\n"
     ]
    },
    {
     "name": "stderr",
     "output_type": "stream",
     "text": [
      "[*********************100%%**********************]  1 of 1 completed\n",
      "[*********************100%%**********************]  1 of 1 completed\n"
     ]
    },
    {
     "name": "stdout",
     "output_type": "stream",
     "text": [
      "Downloading data for KHC\n",
      "Downloading data for BIIB\n"
     ]
    },
    {
     "name": "stderr",
     "output_type": "stream",
     "text": [
      "[*********************100%%**********************]  1 of 1 completed\n"
     ]
    },
    {
     "name": "stdout",
     "output_type": "stream",
     "text": [
      "Downloading data for XEL\n"
     ]
    },
    {
     "name": "stderr",
     "output_type": "stream",
     "text": [
      "[*********************100%%**********************]  1 of 1 completed\n",
      "[*********************100%%**********************]  1 of 1 completed\n"
     ]
    },
    {
     "name": "stdout",
     "output_type": "stream",
     "text": [
      "Downloading data for TSCO\n",
      "Downloading data for WAB\n"
     ]
    },
    {
     "name": "stderr",
     "output_type": "stream",
     "text": [
      "[*********************100%%**********************]  1 of 1 completed\n",
      "[*********************100%%**********************]  1 of 1 completed\n"
     ]
    },
    {
     "name": "stdout",
     "output_type": "stream",
     "text": [
      "Downloading data for VICI\n",
      "Downloading data for ON\n"
     ]
    },
    {
     "name": "stderr",
     "output_type": "stream",
     "text": [
      "[*********************100%%**********************]  1 of 1 completed\n",
      "[*********************100%%**********************]  1 of 1 completed\n"
     ]
    },
    {
     "name": "stdout",
     "output_type": "stream",
     "text": [
      "Downloading data for ANSS\n",
      "Downloading data for HIG\n"
     ]
    },
    {
     "name": "stderr",
     "output_type": "stream",
     "text": [
      "[*********************100%%**********************]  1 of 1 completed\n"
     ]
    },
    {
     "name": "stdout",
     "output_type": "stream",
     "text": [
      "Downloading data for EXR\n"
     ]
    },
    {
     "name": "stderr",
     "output_type": "stream",
     "text": [
      "[*********************100%%**********************]  1 of 1 completed\n",
      "[*********************100%%**********************]  1 of 1 completed\n"
     ]
    },
    {
     "name": "stdout",
     "output_type": "stream",
     "text": [
      "Downloading data for HSY\n",
      "Downloading data for FICO\n"
     ]
    },
    {
     "name": "stderr",
     "output_type": "stream",
     "text": [
      "[*********************100%%**********************]  1 of 1 completed\n"
     ]
    },
    {
     "name": "stdout",
     "output_type": "stream",
     "text": [
      "Downloading data for EFX\n"
     ]
    },
    {
     "name": "stderr",
     "output_type": "stream",
     "text": [
      "[*********************100%%**********************]  1 of 1 completed\n",
      "[*********************100%%**********************]  1 of 1 completed\n"
     ]
    },
    {
     "name": "stdout",
     "output_type": "stream",
     "text": [
      "Downloading data for EBAY\n",
      "Downloading data for AVB\n"
     ]
    },
    {
     "name": "stderr",
     "output_type": "stream",
     "text": [
      "[*********************100%%**********************]  1 of 1 completed\n"
     ]
    },
    {
     "name": "stdout",
     "output_type": "stream",
     "text": [
      "Downloading data for EIX\n"
     ]
    },
    {
     "name": "stderr",
     "output_type": "stream",
     "text": [
      "[*********************100%%**********************]  1 of 1 completed\n",
      "[*********************100%%**********************]  1 of 1 completed\n"
     ]
    },
    {
     "name": "stdout",
     "output_type": "stream",
     "text": [
      "Downloading data for MTD\n",
      "Downloading data for FTV\n"
     ]
    },
    {
     "name": "stderr",
     "output_type": "stream",
     "text": [
      "[*********************100%%**********************]  1 of 1 completed\n"
     ]
    },
    {
     "name": "stdout",
     "output_type": "stream",
     "text": [
      "Downloading data for WST\n"
     ]
    },
    {
     "name": "stderr",
     "output_type": "stream",
     "text": [
      "[*********************100%%**********************]  1 of 1 completed\n",
      "[*********************100%%**********************]  1 of 1 completed\n"
     ]
    },
    {
     "name": "stdout",
     "output_type": "stream",
     "text": [
      "Downloading data for KEYS\n",
      "Downloading data for CHD\n"
     ]
    },
    {
     "name": "stderr",
     "output_type": "stream",
     "text": [
      "[*********************100%%**********************]  1 of 1 completed\n",
      "[*********************100%%**********************]  1 of 1 completed\n"
     ]
    },
    {
     "name": "stdout",
     "output_type": "stream",
     "text": [
      "Downloading data for HWM\n",
      "Downloading data for CBRE\n"
     ]
    },
    {
     "name": "stderr",
     "output_type": "stream",
     "text": [
      "[*********************100%%**********************]  1 of 1 completed\n",
      "[*********************100%%**********************]  1 of 1 completed"
     ]
    },
    {
     "name": "stdout",
     "output_type": "stream",
     "text": [
      "Downloading data for LYB\n",
      "Downloading data for WTW\n"
     ]
    },
    {
     "name": "stderr",
     "output_type": "stream",
     "text": [
      "\n",
      "[*********************100%%**********************]  1 of 1 completed\n",
      "[*********************100%%**********************]  1 of 1 completed\n"
     ]
    },
    {
     "name": "stdout",
     "output_type": "stream",
     "text": [
      "Downloading data for TRGP\n",
      "Downloading data for WEC\n"
     ]
    },
    {
     "name": "stderr",
     "output_type": "stream",
     "text": [
      "[*********************100%%**********************]  1 of 1 completed\n",
      "[*********************100%%**********************]  1 of 1 completed\n"
     ]
    },
    {
     "name": "stdout",
     "output_type": "stream",
     "text": [
      "Downloading data for TROW\n",
      "Downloading data for CAH\n"
     ]
    },
    {
     "name": "stderr",
     "output_type": "stream",
     "text": [
      "[*********************100%%**********************]  1 of 1 completed\n",
      "[*********************100%%**********************]  1 of 1 completed\n"
     ]
    },
    {
     "name": "stdout",
     "output_type": "stream",
     "text": [
      "Downloading data for DLTR\n",
      "Downloading data for DOV\n"
     ]
    },
    {
     "name": "stderr",
     "output_type": "stream",
     "text": [
      "[*********************100%%**********************]  1 of 1 completed\n"
     ]
    },
    {
     "name": "stdout",
     "output_type": "stream",
     "text": [
      "Downloading data for FITB\n"
     ]
    },
    {
     "name": "stderr",
     "output_type": "stream",
     "text": [
      "[*********************100%%**********************]  1 of 1 completed\n",
      "[*********************100%%**********************]  1 of 1 completed\n"
     ]
    },
    {
     "name": "stdout",
     "output_type": "stream",
     "text": [
      "Downloading data for CHTR\n"
     ]
    },
    {
     "name": "stderr",
     "output_type": "stream",
     "text": [
      "[*********************100%%**********************]  1 of 1 completed"
     ]
    },
    {
     "name": "stdout",
     "output_type": "stream",
     "text": [
      "Downloading data for ZBH\n",
      "Downloading data for PHM\n"
     ]
    },
    {
     "name": "stderr",
     "output_type": "stream",
     "text": [
      "\n",
      "[*********************100%%**********************]  1 of 1 completed\n",
      "[*********************100%%**********************]  1 of 1 completed\n"
     ]
    },
    {
     "name": "stdout",
     "output_type": "stream",
     "text": [
      "Downloading data for NVR\n",
      "Downloading data for MTB\n"
     ]
    },
    {
     "name": "stderr",
     "output_type": "stream",
     "text": [
      "[*********************100%%**********************]  1 of 1 completed\n"
     ]
    },
    {
     "name": "stdout",
     "output_type": "stream",
     "text": [
      "Downloading data for HPQ\n"
     ]
    },
    {
     "name": "stderr",
     "output_type": "stream",
     "text": [
      "[*********************100%%**********************]  1 of 1 completed\n"
     ]
    },
    {
     "name": "stdout",
     "output_type": "stream",
     "text": [
      "Downloading data for GLW\n"
     ]
    },
    {
     "name": "stderr",
     "output_type": "stream",
     "text": [
      "[*********************100%%**********************]  1 of 1 completed\n",
      "[*********************100%%**********************]  1 of 1 completed\n"
     ]
    },
    {
     "name": "stdout",
     "output_type": "stream",
     "text": [
      "Downloading data for AWK\n",
      "Downloading data for BLDR\n"
     ]
    },
    {
     "name": "stderr",
     "output_type": "stream",
     "text": [
      "[*********************100%%**********************]  1 of 1 completed\n",
      "[*********************100%%**********************]  1 of 1 completed"
     ]
    },
    {
     "name": "stdout",
     "output_type": "stream",
     "text": [
      "Downloading data for RJF\n"
     ]
    },
    {
     "name": "stderr",
     "output_type": "stream",
     "text": [
      "\n"
     ]
    },
    {
     "name": "stdout",
     "output_type": "stream",
     "text": [
      "Downloading data for WDC\n"
     ]
    },
    {
     "name": "stderr",
     "output_type": "stream",
     "text": [
      "[*********************100%%**********************]  1 of 1 completed\n",
      "[*********************100%%**********************]  1 of 1 completed\n"
     ]
    },
    {
     "name": "stdout",
     "output_type": "stream",
     "text": [
      "Downloading data for TTWO\n",
      "Downloading data for BR\n"
     ]
    },
    {
     "name": "stderr",
     "output_type": "stream",
     "text": [
      "[*********************100%%**********************]  1 of 1 completed\n",
      "[*********************100%%**********************]  1 of 1 completed\n"
     ]
    },
    {
     "name": "stdout",
     "output_type": "stream",
     "text": [
      "Downloading data for NDAQ\n",
      "Downloading data for WY\n"
     ]
    },
    {
     "name": "stderr",
     "output_type": "stream",
     "text": [
      "[*********************100%%**********************]  1 of 1 completed\n",
      "[*********************100%%**********************]  1 of 1 completed\n"
     ]
    },
    {
     "name": "stdout",
     "output_type": "stream",
     "text": [
      "Downloading data for STT\n",
      "Downloading data for IRM\n"
     ]
    },
    {
     "name": "stderr",
     "output_type": "stream",
     "text": [
      "[*********************100%%**********************]  1 of 1 completed\n"
     ]
    },
    {
     "name": "stdout",
     "output_type": "stream",
     "text": [
      "Downloading data for DTE\n"
     ]
    },
    {
     "name": "stderr",
     "output_type": "stream",
     "text": [
      "[*********************100%%**********************]  1 of 1 completed\n"
     ]
    },
    {
     "name": "stdout",
     "output_type": "stream",
     "text": [
      "Downloading data for ETR\n"
     ]
    },
    {
     "name": "stderr",
     "output_type": "stream",
     "text": [
      "[*********************100%%**********************]  1 of 1 completed\n"
     ]
    },
    {
     "name": "stdout",
     "output_type": "stream",
     "text": [
      "Downloading data for GPC\n"
     ]
    },
    {
     "name": "stderr",
     "output_type": "stream",
     "text": [
      "[*********************100%%**********************]  1 of 1 completed\n",
      "[*********************100%%**********************]  1 of 1 completed\n"
     ]
    },
    {
     "name": "stdout",
     "output_type": "stream",
     "text": [
      "Downloading data for EQR\n",
      "Downloading data for ALGN\n"
     ]
    },
    {
     "name": "stderr",
     "output_type": "stream",
     "text": [
      "[*********************100%%**********************]  1 of 1 completed\n",
      "[*********************100%%**********************]  1 of 1 completed\n"
     ]
    },
    {
     "name": "stdout",
     "output_type": "stream",
     "text": [
      "Downloading data for HPE\n",
      "Downloading data for GRMN\n"
     ]
    },
    {
     "name": "stderr",
     "output_type": "stream",
     "text": [
      "[*********************100%%**********************]  1 of 1 completed\n",
      "[*********************100%%**********************]  1 of 1 completed\n"
     ]
    },
    {
     "name": "stdout",
     "output_type": "stream",
     "text": [
      "Downloading data for CPAY\n",
      "Downloading data for BALL\n"
     ]
    },
    {
     "name": "stderr",
     "output_type": "stream",
     "text": [
      "[*********************100%%**********************]  1 of 1 completed\n"
     ]
    },
    {
     "name": "stdout",
     "output_type": "stream",
     "text": [
      "Downloading data for HUBB\n"
     ]
    },
    {
     "name": "stderr",
     "output_type": "stream",
     "text": [
      "[*********************100%%**********************]  1 of 1 completed\n"
     ]
    },
    {
     "name": "stdout",
     "output_type": "stream",
     "text": [
      "Downloading data for AXON\n"
     ]
    },
    {
     "name": "stderr",
     "output_type": "stream",
     "text": [
      "[*********************100%%**********************]  1 of 1 completed\n"
     ]
    },
    {
     "name": "stdout",
     "output_type": "stream",
     "text": [
      "Downloading data for IFF\n"
     ]
    },
    {
     "name": "stderr",
     "output_type": "stream",
     "text": [
      "[*********************100%%**********************]  1 of 1 completed\n",
      "[*********************100%%**********************]  1 of 1 completed\n"
     ]
    },
    {
     "name": "stdout",
     "output_type": "stream",
     "text": [
      "Downloading data for PTC\n",
      "Downloading data for DECK\n"
     ]
    },
    {
     "name": "stderr",
     "output_type": "stream",
     "text": [
      "[*********************100%%**********************]  1 of 1 completed\n",
      "[*********************100%%**********************]  1 of 1 completed\n"
     ]
    },
    {
     "name": "stdout",
     "output_type": "stream",
     "text": [
      "Downloading data for CTRA\n",
      "Downloading data for SBAC\n"
     ]
    },
    {
     "name": "stderr",
     "output_type": "stream",
     "text": [
      "[*********************100%%**********************]  1 of 1 completed\n",
      "[*********************100%%**********************]  1 of 1 completed\n"
     ]
    },
    {
     "name": "stdout",
     "output_type": "stream",
     "text": [
      "Downloading data for NTAP\n",
      "Downloading data for ES\n"
     ]
    },
    {
     "name": "stderr",
     "output_type": "stream",
     "text": [
      "[*********************100%%**********************]  1 of 1 completed\n",
      "[*********************100%%**********************]  1 of 1 completed\n"
     ]
    },
    {
     "name": "stdout",
     "output_type": "stream",
     "text": [
      "Downloading data for VLTO\n",
      "Downloading data for STLD\n"
     ]
    },
    {
     "name": "stderr",
     "output_type": "stream",
     "text": [
      "[*********************100%%**********************]  1 of 1 completed\n"
     ]
    },
    {
     "name": "stdout",
     "output_type": "stream",
     "text": [
      "Downloading data for BAX\n"
     ]
    },
    {
     "name": "stderr",
     "output_type": "stream",
     "text": [
      "[*********************100%%**********************]  1 of 1 completed\n",
      "[*********************100%%**********************]  1 of 1 completed\n"
     ]
    },
    {
     "name": "stdout",
     "output_type": "stream",
     "text": [
      "Downloading data for APTV\n",
      "Downloading data for STE\n"
     ]
    },
    {
     "name": "stderr",
     "output_type": "stream",
     "text": [
      "[*********************100%%**********************]  1 of 1 completed\n",
      "[*********************100%%**********************]  1 of 1 completed\n"
     ]
    },
    {
     "name": "stdout",
     "output_type": "stream",
     "text": [
      "Downloading data for INVH\n",
      "Downloading data for ULTA\n"
     ]
    },
    {
     "name": "stderr",
     "output_type": "stream",
     "text": [
      "[*********************100%%**********************]  1 of 1 completed\n",
      "[*********************100%%**********************]  1 of 1 completed\n"
     ]
    },
    {
     "name": "stdout",
     "output_type": "stream",
     "text": [
      "Downloading data for MOH\n",
      "Downloading data for PPL\n"
     ]
    },
    {
     "name": "stderr",
     "output_type": "stream",
     "text": [
      "[*********************100%%**********************]  1 of 1 completed\n"
     ]
    },
    {
     "name": "stdout",
     "output_type": "stream",
     "text": [
      "Downloading data for FE\n"
     ]
    },
    {
     "name": "stderr",
     "output_type": "stream",
     "text": [
      "[*********************100%%**********************]  1 of 1 completed\n"
     ]
    },
    {
     "name": "stdout",
     "output_type": "stream",
     "text": [
      "Downloading data for HBAN\n"
     ]
    },
    {
     "name": "stderr",
     "output_type": "stream",
     "text": [
      "[*********************100%%**********************]  1 of 1 completed\n",
      "[*********************100%%**********************]  1 of 1 completed\n"
     ]
    },
    {
     "name": "stdout",
     "output_type": "stream",
     "text": [
      "Downloading data for ILMN\n",
      "Downloading data for TYL\n"
     ]
    },
    {
     "name": "stderr",
     "output_type": "stream",
     "text": [
      "[*********************100%%**********************]  1 of 1 completed\n"
     ]
    },
    {
     "name": "stdout",
     "output_type": "stream",
     "text": [
      "Downloading data for BRO\n"
     ]
    },
    {
     "name": "stderr",
     "output_type": "stream",
     "text": [
      "[*********************100%%**********************]  1 of 1 completed\n",
      "[*********************100%%**********************]  1 of 1 completed\n"
     ]
    },
    {
     "name": "stdout",
     "output_type": "stream",
     "text": [
      "Downloading data for FSLR\n",
      "Downloading data for AEE\n"
     ]
    },
    {
     "name": "stderr",
     "output_type": "stream",
     "text": [
      "[*********************100%%**********************]  1 of 1 completed\n"
     ]
    },
    {
     "name": "stdout",
     "output_type": "stream",
     "text": [
      "Downloading data for MKC\n"
     ]
    },
    {
     "name": "stderr",
     "output_type": "stream",
     "text": [
      "[*********************100%%**********************]  1 of 1 completed\n"
     ]
    },
    {
     "name": "stdout",
     "output_type": "stream",
     "text": [
      "Downloading data for OMC\n"
     ]
    },
    {
     "name": "stderr",
     "output_type": "stream",
     "text": [
      "[*********************100%%**********************]  1 of 1 completed\n",
      "[*********************100%%**********************]  1 of 1 completed\n"
     ]
    },
    {
     "name": "stdout",
     "output_type": "stream",
     "text": [
      "Downloading data for CBOE\n",
      "Downloading data for DRI\n"
     ]
    },
    {
     "name": "stderr",
     "output_type": "stream",
     "text": [
      "[*********************100%%**********************]  1 of 1 completed\n",
      "[*********************100%%**********************]  1 of 1 completed\n"
     ]
    },
    {
     "name": "stdout",
     "output_type": "stream",
     "text": [
      "Downloading data for SYF\n",
      "Downloading data for WAT\n"
     ]
    },
    {
     "name": "stderr",
     "output_type": "stream",
     "text": [
      "[*********************100%%**********************]  1 of 1 completed\n",
      "[*********************100%%**********************]  1 of 1 completed\n"
     ]
    },
    {
     "name": "stdout",
     "output_type": "stream",
     "text": [
      "Downloading data for J\n",
      "Downloading data for RF\n"
     ]
    },
    {
     "name": "stderr",
     "output_type": "stream",
     "text": [
      "[*********************100%%**********************]  1 of 1 completed\n"
     ]
    },
    {
     "name": "stdout",
     "output_type": "stream",
     "text": [
      "Downloading data for CNP\n"
     ]
    },
    {
     "name": "stderr",
     "output_type": "stream",
     "text": [
      "[*********************100%%**********************]  1 of 1 completed\n"
     ]
    },
    {
     "name": "stdout",
     "output_type": "stream",
     "text": [
      "Downloading data for CLX\n"
     ]
    },
    {
     "name": "stderr",
     "output_type": "stream",
     "text": [
      "[*********************100%%**********************]  1 of 1 completed\n",
      "[*********************100%%**********************]  1 of 1 completed\n"
     ]
    },
    {
     "name": "stdout",
     "output_type": "stream",
     "text": [
      "Downloading data for ARE\n",
      "Downloading data for EXPE\n"
     ]
    },
    {
     "name": "stderr",
     "output_type": "stream",
     "text": [
      "[*********************100%%**********************]  1 of 1 completed\n",
      "[*********************100%%**********************]  1 of 1 completed\n"
     ]
    },
    {
     "name": "stdout",
     "output_type": "stream",
     "text": [
      "Downloading data for WBD\n",
      "Downloading data for HOLX\n"
     ]
    },
    {
     "name": "stderr",
     "output_type": "stream",
     "text": [
      "[*********************100%%**********************]  1 of 1 completed\n",
      "[*********************100%%**********************]  1 of 1 completed\n"
     ]
    },
    {
     "name": "stdout",
     "output_type": "stream",
     "text": [
      "Downloading data for LDOS\n",
      "Downloading data for AVY\n"
     ]
    },
    {
     "name": "stderr",
     "output_type": "stream",
     "text": [
      "[*********************100%%**********************]  1 of 1 completed\n",
      "[*********************100%%**********************]  1 of 1 completed\n"
     ]
    },
    {
     "name": "stdout",
     "output_type": "stream",
     "text": [
      "Downloading data for VTR\n",
      "Downloading data for TDY\n"
     ]
    },
    {
     "name": "stderr",
     "output_type": "stream",
     "text": [
      "[*********************100%%**********************]  1 of 1 completed\n",
      "[*********************100%%**********************]  1 of 1 completed\n"
     ]
    },
    {
     "name": "stdout",
     "output_type": "stream",
     "text": [
      "Downloading data for COO\n",
      "Downloading data for TER\n"
     ]
    },
    {
     "name": "stderr",
     "output_type": "stream",
     "text": [
      "[*********************100%%**********************]  1 of 1 completed\n"
     ]
    },
    {
     "name": "stdout",
     "output_type": "stream",
     "text": [
      "Downloading data for CINF\n"
     ]
    },
    {
     "name": "stderr",
     "output_type": "stream",
     "text": [
      "[*********************100%%**********************]  1 of 1 completed\n",
      "[*********************100%%**********************]  1 of 1 completed"
     ]
    },
    {
     "name": "stdout",
     "output_type": "stream",
     "text": [
      "Downloading data for DPZ\n"
     ]
    },
    {
     "name": "stderr",
     "output_type": "stream",
     "text": [
      "\n",
      "[*********************100%%**********************]  1 of 1 completed\n"
     ]
    },
    {
     "name": "stdout",
     "output_type": "stream",
     "text": [
      "Downloading data for ATO\n",
      "Downloading data for CMS\n"
     ]
    },
    {
     "name": "stderr",
     "output_type": "stream",
     "text": [
      "[*********************100%%**********************]  1 of 1 completed\n",
      "[*********************100%%**********************]  1 of 1 completed\n"
     ]
    },
    {
     "name": "stdout",
     "output_type": "stream",
     "text": [
      "Downloading data for PFG\n",
      "Downloading data for TSN\n"
     ]
    },
    {
     "name": "stderr",
     "output_type": "stream",
     "text": [
      "[*********************100%%**********************]  1 of 1 completed\n",
      "[*********************100%%**********************]  1 of 1 completed\n"
     ]
    },
    {
     "name": "stdout",
     "output_type": "stream",
     "text": [
      "Downloading data for UAL\n",
      "Downloading data for NTRS\n"
     ]
    },
    {
     "name": "stderr",
     "output_type": "stream",
     "text": [
      "[*********************100%%**********************]  1 of 1 completed\n",
      "[*********************100%%**********************]  1 of 1 completed\n"
     ]
    },
    {
     "name": "stdout",
     "output_type": "stream",
     "text": [
      "Downloading data for TXT\n",
      "Downloading data for LH\n"
     ]
    },
    {
     "name": "stderr",
     "output_type": "stream",
     "text": [
      "[*********************100%%**********************]  1 of 1 completed\n",
      "[*********************100%%**********************]  1 of 1 completed\n"
     ]
    },
    {
     "name": "stdout",
     "output_type": "stream",
     "text": [
      "Downloading data for LVS\n",
      "Downloading data for EQT\n"
     ]
    },
    {
     "name": "stderr",
     "output_type": "stream",
     "text": [
      "[*********************100%%**********************]  1 of 1 completed\n",
      "[*********************100%%**********************]  1 of 1 completed\n"
     ]
    },
    {
     "name": "stdout",
     "output_type": "stream",
     "text": [
      "Downloading data for SWKS\n",
      "Downloading data for STX\n"
     ]
    },
    {
     "name": "stderr",
     "output_type": "stream",
     "text": [
      "[*********************100%%**********************]  1 of 1 completed\n",
      "[*********************100%%**********************]  1 of 1 completed\n"
     ]
    },
    {
     "name": "stdout",
     "output_type": "stream",
     "text": [
      "Downloading data for IEX\n",
      "Downloading data for EXPD\n"
     ]
    },
    {
     "name": "stderr",
     "output_type": "stream",
     "text": [
      "[*********************100%%**********************]  1 of 1 completed\n",
      "[*********************100%%**********************]  1 of 1 completed\n"
     ]
    },
    {
     "name": "stdout",
     "output_type": "stream",
     "text": [
      "Downloading data for NRG\n",
      "Downloading data for CFG\n"
     ]
    },
    {
     "name": "stderr",
     "output_type": "stream",
     "text": [
      "[*********************100%%**********************]  1 of 1 completed\n",
      "[*********************100%%**********************]  1 of 1 completed\n"
     ]
    },
    {
     "name": "stdout",
     "output_type": "stream",
     "text": [
      "Downloading data for MRO\n",
      "Downloading data for LUV\n"
     ]
    },
    {
     "name": "stderr",
     "output_type": "stream",
     "text": [
      "[*********************100%%**********************]  1 of 1 completed\n",
      "[*********************100%%**********************]  1 of 1 completed\n"
     ]
    },
    {
     "name": "stdout",
     "output_type": "stream",
     "text": [
      "Downloading data for FDS\n",
      "Downloading data for ESS\n"
     ]
    },
    {
     "name": "stderr",
     "output_type": "stream",
     "text": [
      "[*********************100%%**********************]  1 of 1 completed\n",
      "[*********************100%%**********************]  1 of 1 completed\n"
     ]
    },
    {
     "name": "stdout",
     "output_type": "stream",
     "text": [
      "Downloading data for EG\n",
      "Downloading data for MAS\n"
     ]
    },
    {
     "name": "stderr",
     "output_type": "stream",
     "text": [
      "[*********************100%%**********************]  1 of 1 completed\n",
      "[*********************100%%**********************]  1 of 1 completed\n"
     ]
    },
    {
     "name": "stdout",
     "output_type": "stream",
     "text": [
      "Downloading data for WRB\n",
      "Downloading data for VRSN\n"
     ]
    },
    {
     "name": "stderr",
     "output_type": "stream",
     "text": [
      "[*********************100%%**********************]  1 of 1 completed\n",
      "[*********************100%%**********************]  1 of 1 completed\n"
     ]
    },
    {
     "name": "stdout",
     "output_type": "stream",
     "text": [
      "Downloading data for PKG\n",
      "Downloading data for CE\n"
     ]
    },
    {
     "name": "stderr",
     "output_type": "stream",
     "text": [
      "[*********************100%%**********************]  1 of 1 completed\n",
      "[*********************100%%**********************]  1 of 1 completed\n"
     ]
    },
    {
     "name": "stdout",
     "output_type": "stream",
     "text": [
      "Downloading data for AKAM\n",
      "Downloading data for CF\n"
     ]
    },
    {
     "name": "stderr",
     "output_type": "stream",
     "text": [
      "[*********************100%%**********************]  1 of 1 completed\n",
      "[*********************100%%**********************]  1 of 1 completed"
     ]
    },
    {
     "name": "stdout",
     "output_type": "stream",
     "text": [
      "Downloading data for ENPH\n",
      "Downloading data for ZBRA\n"
     ]
    },
    {
     "name": "stderr",
     "output_type": "stream",
     "text": [
      "\n",
      "[*********************100%%**********************]  1 of 1 completed\n"
     ]
    },
    {
     "name": "stdout",
     "output_type": "stream",
     "text": [
      "Downloading data for K\n"
     ]
    },
    {
     "name": "stderr",
     "output_type": "stream",
     "text": [
      "[*********************100%%**********************]  1 of 1 completed\n",
      "[*********************100%%**********************]  1 of 1 completed\n"
     ]
    },
    {
     "name": "stdout",
     "output_type": "stream",
     "text": [
      "Downloading data for CCL\n",
      "Downloading data for JBL\n"
     ]
    },
    {
     "name": "stderr",
     "output_type": "stream",
     "text": [
      "[*********************100%%**********************]  1 of 1 completed\n",
      "[*********************100%%**********************]  1 of 1 completed\n"
     ]
    },
    {
     "name": "stdout",
     "output_type": "stream",
     "text": [
      "Downloading data for MAA\n",
      "Downloading data for TRMB\n"
     ]
    },
    {
     "name": "stderr",
     "output_type": "stream",
     "text": [
      "[*********************100%%**********************]  1 of 1 completed\n"
     ]
    },
    {
     "name": "stdout",
     "output_type": "stream",
     "text": [
      "Downloading data for DGX\n"
     ]
    },
    {
     "name": "stderr",
     "output_type": "stream",
     "text": [
      "[*********************100%%**********************]  1 of 1 completed\n",
      "[*********************100%%**********************]  1 of 1 completed\n"
     ]
    },
    {
     "name": "stdout",
     "output_type": "stream",
     "text": [
      "Downloading data for BG\n",
      "Downloading data for CAG\n"
     ]
    },
    {
     "name": "stderr",
     "output_type": "stream",
     "text": [
      "[*********************100%%**********************]  1 of 1 completed\n",
      "[*********************100%%**********************]  1 of 1 completed\n"
     ]
    },
    {
     "name": "stdout",
     "output_type": "stream",
     "text": [
      "Downloading data for BBY\n",
      "Downloading data for POOL\n"
     ]
    },
    {
     "name": "stderr",
     "output_type": "stream",
     "text": [
      "[*********************100%%**********************]  1 of 1 completed\n",
      "[*********************100%%**********************]  1 of 1 completed\n"
     ]
    },
    {
     "name": "stdout",
     "output_type": "stream",
     "text": [
      "Downloading data for SNA\n",
      "Downloading data for NDSN\n"
     ]
    },
    {
     "name": "stderr",
     "output_type": "stream",
     "text": [
      "[*********************100%%**********************]  1 of 1 completed\n",
      "[*********************100%%**********************]  1 of 1 completed\n"
     ]
    },
    {
     "name": "stdout",
     "output_type": "stream",
     "text": [
      "Downloading data for VTRS\n",
      "Downloading data for L\n"
     ]
    },
    {
     "name": "stderr",
     "output_type": "stream",
     "text": [
      "[*********************100%%**********************]  1 of 1 completed\n",
      "[*********************100%%**********************]  1 of 1 completed\n"
     ]
    },
    {
     "name": "stdout",
     "output_type": "stream",
     "text": [
      "Downloading data for SWK\n",
      "Downloading data for KEY\n"
     ]
    },
    {
     "name": "stderr",
     "output_type": "stream",
     "text": [
      "[*********************100%%**********************]  1 of 1 completed\n",
      "[*********************100%%**********************]  1 of 1 completed"
     ]
    },
    {
     "name": "stdout",
     "output_type": "stream",
     "text": [
      "Downloading data for ALB\n"
     ]
    },
    {
     "name": "stderr",
     "output_type": "stream",
     "text": [
      "\n",
      "[*********************100%%**********************]  1 of 1 completed\n"
     ]
    },
    {
     "name": "stdout",
     "output_type": "stream",
     "text": [
      "Downloading data for EPAM\n",
      "Downloading data for HST\n"
     ]
    },
    {
     "name": "stderr",
     "output_type": "stream",
     "text": [
      "[*********************100%%**********************]  1 of 1 completed\n",
      "[*********************100%%**********************]  1 of 1 completed\n"
     ]
    },
    {
     "name": "stdout",
     "output_type": "stream",
     "text": [
      "Downloading data for DOC\n",
      "Downloading data for JBHT\n"
     ]
    },
    {
     "name": "stderr",
     "output_type": "stream",
     "text": [
      "[*********************100%%**********************]  1 of 1 completed\n",
      "[*********************100%%**********************]  1 of 1 completed\n"
     ]
    },
    {
     "name": "stdout",
     "output_type": "stream",
     "text": [
      "Downloading data for PNR\n",
      "Downloading data for AMCR\n"
     ]
    },
    {
     "name": "stderr",
     "output_type": "stream",
     "text": [
      "[*********************100%%**********************]  1 of 1 completed\n",
      "[*********************100%%**********************]  1 of 1 completed\n"
     ]
    },
    {
     "name": "stdout",
     "output_type": "stream",
     "text": [
      "Downloading data for LYV\n",
      "Downloading data for WBA\n"
     ]
    },
    {
     "name": "stderr",
     "output_type": "stream",
     "text": [
      "[*********************100%%**********************]  1 of 1 completed\n",
      "[*********************100%%**********************]  1 of 1 completed"
     ]
    },
    {
     "name": "stdout",
     "output_type": "stream",
     "text": [
      "Downloading data for ROL\n",
      "Downloading data for RVTY\n"
     ]
    },
    {
     "name": "stderr",
     "output_type": "stream",
     "text": [
      "\n",
      "[*********************100%%**********************]  1 of 1 completed\n"
     ]
    },
    {
     "name": "stdout",
     "output_type": "stream",
     "text": [
      "Downloading data for LNT\n"
     ]
    },
    {
     "name": "stderr",
     "output_type": "stream",
     "text": [
      "[*********************100%%**********************]  1 of 1 completed\n"
     ]
    },
    {
     "name": "stdout",
     "output_type": "stream",
     "text": [
      "Downloading data for KIM\n"
     ]
    },
    {
     "name": "stderr",
     "output_type": "stream",
     "text": [
      "[*********************100%%**********************]  1 of 1 completed\n",
      "[*********************100%%**********************]  1 of 1 completed\n"
     ]
    },
    {
     "name": "stdout",
     "output_type": "stream",
     "text": [
      "Downloading data for IPG\n",
      "Downloading data for LW\n"
     ]
    },
    {
     "name": "stderr",
     "output_type": "stream",
     "text": [
      "[*********************100%%**********************]  1 of 1 completed\n",
      "[*********************100%%**********************]  1 of 1 completed\n"
     ]
    },
    {
     "name": "stdout",
     "output_type": "stream",
     "text": [
      "Downloading data for JKHY\n",
      "Downloading data for WRK\n"
     ]
    },
    {
     "name": "stderr",
     "output_type": "stream",
     "text": [
      "[*********************100%%**********************]  1 of 1 completed\n",
      "[*********************100%%**********************]  1 of 1 completed\n"
     ]
    },
    {
     "name": "stdout",
     "output_type": "stream",
     "text": [
      "Downloading data for EVRG\n",
      "Downloading data for IP\n"
     ]
    },
    {
     "name": "stderr",
     "output_type": "stream",
     "text": [
      "[*********************100%%**********************]  1 of 1 completed\n",
      "[*********************100%%**********************]  1 of 1 completed\n"
     ]
    },
    {
     "name": "stdout",
     "output_type": "stream",
     "text": [
      "Downloading data for LKQ\n",
      "Downloading data for CRL\n"
     ]
    },
    {
     "name": "stderr",
     "output_type": "stream",
     "text": [
      "[*********************100%%**********************]  1 of 1 completed\n",
      "[*********************100%%**********************]  1 of 1 completed\n"
     ]
    },
    {
     "name": "stdout",
     "output_type": "stream",
     "text": [
      "Downloading data for SJM\n",
      "Downloading data for GEN\n"
     ]
    },
    {
     "name": "stderr",
     "output_type": "stream",
     "text": [
      "[*********************100%%**********************]  1 of 1 completed\n"
     ]
    },
    {
     "name": "stdout",
     "output_type": "stream",
     "text": [
      "Downloading data for TAP\n"
     ]
    },
    {
     "name": "stderr",
     "output_type": "stream",
     "text": [
      "[*********************100%%**********************]  1 of 1 completed\n"
     ]
    },
    {
     "name": "stdout",
     "output_type": "stream",
     "text": [
      "Downloading data for PODD\n"
     ]
    },
    {
     "name": "stderr",
     "output_type": "stream",
     "text": [
      "[*********************100%%**********************]  1 of 1 completed\n",
      "[*********************100%%**********************]  1 of 1 completed\n"
     ]
    },
    {
     "name": "stdout",
     "output_type": "stream",
     "text": [
      "Downloading data for AES\n",
      "Downloading data for UDR\n"
     ]
    },
    {
     "name": "stderr",
     "output_type": "stream",
     "text": [
      "[*********************100%%**********************]  1 of 1 completed\n",
      "[*********************100%%**********************]  1 of 1 completed\n"
     ]
    },
    {
     "name": "stdout",
     "output_type": "stream",
     "text": [
      "Downloading data for QRVO\n",
      "Downloading data for EMN\n"
     ]
    },
    {
     "name": "stderr",
     "output_type": "stream",
     "text": [
      "[*********************100%%**********************]  1 of 1 completed\n",
      "[*********************100%%**********************]  1 of 1 completed\n"
     ]
    },
    {
     "name": "stdout",
     "output_type": "stream",
     "text": [
      "Downloading data for MGM\n",
      "Downloading data for NI\n"
     ]
    },
    {
     "name": "stderr",
     "output_type": "stream",
     "text": [
      "[*********************100%%**********************]  1 of 1 completed\n",
      "[*********************100%%**********************]  1 of 1 completed\n"
     ]
    },
    {
     "name": "stdout",
     "output_type": "stream",
     "text": [
      "Downloading data for JNPR\n",
      "Downloading data for KMX\n"
     ]
    },
    {
     "name": "stderr",
     "output_type": "stream",
     "text": [
      "[*********************100%%**********************]  1 of 1 completed\n",
      "[*********************100%%**********************]  1 of 1 completed\n"
     ]
    },
    {
     "name": "stdout",
     "output_type": "stream",
     "text": [
      "Downloading data for HII\n",
      "Downloading data for ALLE\n"
     ]
    },
    {
     "name": "stderr",
     "output_type": "stream",
     "text": [
      "[*********************100%%**********************]  1 of 1 completed\n",
      "[*********************100%%**********************]  1 of 1 completed\n"
     ]
    },
    {
     "name": "stdout",
     "output_type": "stream",
     "text": [
      "Downloading data for FFIV\n",
      "Downloading data for CPT\n"
     ]
    },
    {
     "name": "stderr",
     "output_type": "stream",
     "text": [
      "[*********************100%%**********************]  1 of 1 completed\n",
      "[*********************100%%**********************]  1 of 1 completed\n"
     ]
    },
    {
     "name": "stdout",
     "output_type": "stream",
     "text": [
      "Downloading data for BBWI\n",
      "Downloading data for HRL\n"
     ]
    },
    {
     "name": "stderr",
     "output_type": "stream",
     "text": [
      "[*********************100%%**********************]  1 of 1 completed\n"
     ]
    },
    {
     "name": "stdout",
     "output_type": "stream",
     "text": [
      "Downloading data for AOS\n"
     ]
    },
    {
     "name": "stderr",
     "output_type": "stream",
     "text": [
      "[*********************100%%**********************]  1 of 1 completed\n"
     ]
    },
    {
     "name": "stdout",
     "output_type": "stream",
     "text": [
      "Downloading data for UHS\n"
     ]
    },
    {
     "name": "stderr",
     "output_type": "stream",
     "text": [
      "[*********************100%%**********************]  1 of 1 completed\n",
      "[*********************100%%**********************]  1 of 1 completed\n"
     ]
    },
    {
     "name": "stdout",
     "output_type": "stream",
     "text": [
      "Downloading data for TECH\n",
      "Downloading data for CTLT\n"
     ]
    },
    {
     "name": "stderr",
     "output_type": "stream",
     "text": [
      "[*********************100%%**********************]  1 of 1 completed\n",
      "[*********************100%%**********************]  1 of 1 completed\n"
     ]
    },
    {
     "name": "stdout",
     "output_type": "stream",
     "text": [
      "Downloading data for APA\n",
      "Downloading data for MOS\n"
     ]
    },
    {
     "name": "stderr",
     "output_type": "stream",
     "text": [
      "[*********************100%%**********************]  1 of 1 completed\n"
     ]
    },
    {
     "name": "stdout",
     "output_type": "stream",
     "text": [
      "Downloading data for TFX\n"
     ]
    },
    {
     "name": "stderr",
     "output_type": "stream",
     "text": [
      "[*********************100%%**********************]  1 of 1 completed\n",
      "[*********************100%%**********************]  1 of 1 completed\n"
     ]
    },
    {
     "name": "stdout",
     "output_type": "stream",
     "text": [
      "Downloading data for INCY\n",
      "Downloading data for REG\n"
     ]
    },
    {
     "name": "stderr",
     "output_type": "stream",
     "text": [
      "[*********************100%%**********************]  1 of 1 completed\n",
      "[*********************100%%**********************]  1 of 1 completed\n"
     ]
    },
    {
     "name": "stdout",
     "output_type": "stream",
     "text": [
      "Downloading data for HSIC\n",
      "Downloading data for DAY\n"
     ]
    },
    {
     "name": "stderr",
     "output_type": "stream",
     "text": [
      "[*********************100%%**********************]  1 of 1 completed\n"
     ]
    },
    {
     "name": "stdout",
     "output_type": "stream",
     "text": [
      "Downloading data for NWSA\n"
     ]
    },
    {
     "name": "stderr",
     "output_type": "stream",
     "text": [
      "[*********************100%%**********************]  1 of 1 completed\n",
      "[*********************100%%**********************]  1 of 1 completed\n"
     ]
    },
    {
     "name": "stdout",
     "output_type": "stream",
     "text": [
      "Downloading data for PAYC\n",
      "Downloading data for WYNN\n"
     ]
    },
    {
     "name": "stderr",
     "output_type": "stream",
     "text": [
      "[*********************100%%**********************]  1 of 1 completed\n",
      "[*********************100%%**********************]  1 of 1 completed\n"
     ]
    },
    {
     "name": "stdout",
     "output_type": "stream",
     "text": [
      "Downloading data for TPR\n",
      "Downloading data for AIZ\n"
     ]
    },
    {
     "name": "stderr",
     "output_type": "stream",
     "text": [
      "[*********************100%%**********************]  1 of 1 completed\n"
     ]
    },
    {
     "name": "stdout",
     "output_type": "stream",
     "text": [
      "Downloading data for AAL\n"
     ]
    },
    {
     "name": "stderr",
     "output_type": "stream",
     "text": [
      "[*********************100%%**********************]  1 of 1 completed\n"
     ]
    },
    {
     "name": "stdout",
     "output_type": "stream",
     "text": [
      "Downloading data for SOLV\n"
     ]
    },
    {
     "name": "stderr",
     "output_type": "stream",
     "text": [
      "[*********************100%%**********************]  1 of 1 completed\n",
      "\n",
      "1 Failed download:\n",
      "['SOLV']: Exception(\"%ticker%: Data doesn't exist for startDate = 1104555600, endDate = 1704085200\")\n"
     ]
    },
    {
     "name": "stdout",
     "output_type": "stream",
     "text": [
      "Downloading data for CPB\n"
     ]
    },
    {
     "name": "stderr",
     "output_type": "stream",
     "text": [
      "[*********************100%%**********************]  1 of 1 completed\n",
      "[*********************100%%**********************]  1 of 1 completed\n",
      "\n",
      "1 Failed download:\n",
      "['BF.B']: Exception('%ticker%: No price data found, symbol may be delisted (1wk 2005-01-01 -> 2024-01-01)')\n"
     ]
    },
    {
     "name": "stdout",
     "output_type": "stream",
     "text": [
      "Downloading data for BF.B\n",
      "Downloading data for MTCH\n"
     ]
    },
    {
     "name": "stderr",
     "output_type": "stream",
     "text": [
      "[*********************100%%**********************]  1 of 1 completed\n",
      "[*********************100%%**********************]  1 of 1 completed\n"
     ]
    },
    {
     "name": "stdout",
     "output_type": "stream",
     "text": [
      "Downloading data for BXP\n"
     ]
    },
    {
     "name": "stderr",
     "output_type": "stream",
     "text": [
      "[*********************100%%**********************]  1 of 1 completed\n"
     ]
    },
    {
     "name": "stdout",
     "output_type": "stream",
     "text": [
      "Downloading data for GNRC\n",
      "Downloading data for PNW\n"
     ]
    },
    {
     "name": "stderr",
     "output_type": "stream",
     "text": [
      "[*********************100%%**********************]  1 of 1 completed\n"
     ]
    },
    {
     "name": "stdout",
     "output_type": "stream",
     "text": [
      "Downloading data for HAS\n"
     ]
    },
    {
     "name": "stderr",
     "output_type": "stream",
     "text": [
      "[*********************100%%**********************]  1 of 1 completed\n",
      "[*********************100%%**********************]  1 of 1 completed\n"
     ]
    },
    {
     "name": "stdout",
     "output_type": "stream",
     "text": [
      "Downloading data for CHRW\n",
      "Downloading data for ETSY\n"
     ]
    },
    {
     "name": "stderr",
     "output_type": "stream",
     "text": [
      "[*********************100%%**********************]  1 of 1 completed\n",
      "[*********************100%%**********************]  1 of 1 completed\n"
     ]
    },
    {
     "name": "stdout",
     "output_type": "stream",
     "text": [
      "Downloading data for NCLH\n",
      "Downloading data for BWA\n"
     ]
    },
    {
     "name": "stderr",
     "output_type": "stream",
     "text": [
      "[*********************100%%**********************]  1 of 1 completed\n",
      "[*********************100%%**********************]  1 of 1 completed\n"
     ]
    },
    {
     "name": "stdout",
     "output_type": "stream",
     "text": [
      "Downloading data for CZR\n",
      "Downloading data for FOXA\n"
     ]
    },
    {
     "name": "stderr",
     "output_type": "stream",
     "text": [
      "[*********************100%%**********************]  1 of 1 completed\n",
      "[*********************100%%**********************]  1 of 1 completed\n"
     ]
    },
    {
     "name": "stdout",
     "output_type": "stream",
     "text": [
      "Downloading data for MKTX\n",
      "Downloading data for FRT\n"
     ]
    },
    {
     "name": "stderr",
     "output_type": "stream",
     "text": [
      "[*********************100%%**********************]  1 of 1 completed\n"
     ]
    },
    {
     "name": "stdout",
     "output_type": "stream",
     "text": [
      "Downloading data for FMC\n"
     ]
    },
    {
     "name": "stderr",
     "output_type": "stream",
     "text": [
      "[*********************100%%**********************]  1 of 1 completed\n",
      "[*********************100%%**********************]  1 of 1 completed\n"
     ]
    },
    {
     "name": "stdout",
     "output_type": "stream",
     "text": [
      "Downloading data for RHI\n",
      "Downloading data for DVA\n"
     ]
    },
    {
     "name": "stderr",
     "output_type": "stream",
     "text": [
      "[*********************100%%**********************]  1 of 1 completed\n"
     ]
    },
    {
     "name": "stdout",
     "output_type": "stream",
     "text": [
      "Downloading data for BEN\n"
     ]
    },
    {
     "name": "stderr",
     "output_type": "stream",
     "text": [
      "[*********************100%%**********************]  1 of 1 completed\n",
      "[*********************100%%**********************]  1 of 1 completed\n"
     ]
    },
    {
     "name": "stdout",
     "output_type": "stream",
     "text": [
      "Downloading data for CMA\n",
      "Downloading data for IVZ\n"
     ]
    },
    {
     "name": "stderr",
     "output_type": "stream",
     "text": [
      "[*********************100%%**********************]  1 of 1 completed\n",
      "[*********************100%%**********************]  1 of 1 completed\n"
     ]
    },
    {
     "name": "stdout",
     "output_type": "stream",
     "text": [
      "Downloading data for RL\n",
      "Downloading data for GL\n"
     ]
    },
    {
     "name": "stderr",
     "output_type": "stream",
     "text": [
      "[*********************100%%**********************]  1 of 1 completed\n",
      "[*********************100%%**********************]  1 of 1 completed\n"
     ]
    },
    {
     "name": "stdout",
     "output_type": "stream",
     "text": [
      "Downloading data for MHK\n",
      "Downloading data for BIO\n"
     ]
    },
    {
     "name": "stderr",
     "output_type": "stream",
     "text": [
      "[*********************100%%**********************]  1 of 1 completed\n",
      "[*********************100%%**********************]  1 of 1 completed"
     ]
    },
    {
     "name": "stdout",
     "output_type": "stream",
     "text": [
      "Downloading data for PARA\n",
      "Downloading data for FOX\n"
     ]
    },
    {
     "name": "stderr",
     "output_type": "stream",
     "text": [
      "\n",
      "[*********************100%%**********************]  1 of 1 completed\n",
      "[*********************100%%**********************]  1 of 1 completed\n"
     ]
    },
    {
     "name": "stdout",
     "output_type": "stream",
     "text": [
      "Downloading data for NWS\n",
      "All data downloaded and saved.\n"
     ]
    }
   ],
   "source": [
    "# Split tickers into batches of 100 for we don't hit the API rate limit\n",
    "ticker_batches = [ticker_symbols[i:i + 100] for i in range(0, len(ticker_symbols), 100)]\n",
    "\n",
    "# Start and end dates\n",
    "start_date = '2005-01-01'\n",
    "end_date = '2024-01-01'\n",
    "\n",
    "# Create an empty DataFrame to store all data\n",
    "all_data = pd.DataFrame()\n",
    "\n",
    "# Loop through each batch of tickers and fetch the historical data\n",
    "for batch in ticker_batches:\n",
    "    for ticker in batch:\n",
    "        print(f\"Downloading data for {ticker}\")\n",
    "        data = yf.download(ticker, start=start_date, end=end_date, interval=\"1wk\")\n",
    "        data.dropna(inplace=True)  # Clean data by dropping NAs\n",
    "        data['Ticker'] = ticker  # Add a column to identify the stock\n",
    "        #data['Sector'] = get_sector(ticker) # Add a column to identify the sector\n",
    "        all_data = pd.concat([all_data, data], axis=0)\n",
    "    \n",
    "    # Save to CSV after each batch is processed\n",
    "    #all_data.to_csv('data/historical_stock_data_partial.csv')\n",
    "\n",
    "    time.sleep(10)  # sleep tim to avoid hitting API rate limits\n",
    "\n",
    "# Save the final result to a CSV file\n",
    "all_data.to_csv('data/historical_stock_data_final.csv')\n",
    "\n",
    "print(\"All data downloaded and saved.\")\n"
   ]
  },
  {
   "cell_type": "markdown",
   "metadata": {},
   "source": [
    "# FEATURE ENGINEERING\n",
    "\n",
    "\n",
    "### TECHNICAL INDICATORS:\n",
    "\n",
    "* MACD (Moving Average Convergence Divergence)\n",
    "* RSI (Relative Strength Index)\n",
    "* Bollinger Bands High (the low is commented out)\n",
    "* ADX (Average Directional Index)\n",
    "* ATR (Average True Range)\n",
    "* CCI (Commodity Channel Index)\n",
    "* MFI (Money Flow Index)\n",
    "* Stochastic Oscillator\n",
    "* Keltner Channel\n",
    "* VWAP (Volume Weighted Average Price)\n",
    "* EOM (Ease Of Movement)\n",
    "* VPT (Volume Price Trend)"
   ]
  },
  {
   "cell_type": "code",
   "execution_count": 37,
   "metadata": {},
   "outputs": [],
   "source": [
    "# 1. Load data\n",
    "data_yf = pd.read_csv('data/historical_stock_data_final.csv')"
   ]
  },
  {
   "cell_type": "code",
   "execution_count": 38,
   "metadata": {},
   "outputs": [
    {
     "data": {
      "text/html": [
       "<div>\n",
       "<style scoped>\n",
       "    .dataframe tbody tr th:only-of-type {\n",
       "        vertical-align: middle;\n",
       "    }\n",
       "\n",
       "    .dataframe tbody tr th {\n",
       "        vertical-align: top;\n",
       "    }\n",
       "\n",
       "    .dataframe thead th {\n",
       "        text-align: right;\n",
       "    }\n",
       "</style>\n",
       "<table border=\"1\" class=\"dataframe\">\n",
       "  <thead>\n",
       "    <tr style=\"text-align: right;\">\n",
       "      <th></th>\n",
       "      <th>Date</th>\n",
       "      <th>Open</th>\n",
       "      <th>High</th>\n",
       "      <th>Low</th>\n",
       "      <th>Close</th>\n",
       "      <th>Adj Close</th>\n",
       "      <th>Volume</th>\n",
       "      <th>Ticker</th>\n",
       "    </tr>\n",
       "  </thead>\n",
       "  <tbody>\n",
       "    <tr>\n",
       "      <th>0</th>\n",
       "      <td>2005-01-01</td>\n",
       "      <td>26.799999</td>\n",
       "      <td>27.100000</td>\n",
       "      <td>26.620001</td>\n",
       "      <td>26.670000</td>\n",
       "      <td>18.611694</td>\n",
       "      <td>392522300.0</td>\n",
       "      <td>MSFT</td>\n",
       "    </tr>\n",
       "    <tr>\n",
       "      <th>1</th>\n",
       "      <td>2005-01-08</td>\n",
       "      <td>26.600000</td>\n",
       "      <td>26.860001</td>\n",
       "      <td>26.040001</td>\n",
       "      <td>26.120001</td>\n",
       "      <td>18.227879</td>\n",
       "      <td>390071600.0</td>\n",
       "      <td>MSFT</td>\n",
       "    </tr>\n",
       "    <tr>\n",
       "      <th>2</th>\n",
       "      <td>2005-01-15</td>\n",
       "      <td>26.030001</td>\n",
       "      <td>26.350000</td>\n",
       "      <td>25.639999</td>\n",
       "      <td>25.650000</td>\n",
       "      <td>17.899891</td>\n",
       "      <td>262141600.0</td>\n",
       "      <td>MSFT</td>\n",
       "    </tr>\n",
       "    <tr>\n",
       "      <th>3</th>\n",
       "      <td>2005-01-22</td>\n",
       "      <td>25.760000</td>\n",
       "      <td>26.650000</td>\n",
       "      <td>25.639999</td>\n",
       "      <td>26.180000</td>\n",
       "      <td>18.269747</td>\n",
       "      <td>405236700.0</td>\n",
       "      <td>MSFT</td>\n",
       "    </tr>\n",
       "    <tr>\n",
       "      <th>4</th>\n",
       "      <td>2005-01-29</td>\n",
       "      <td>26.350000</td>\n",
       "      <td>26.520000</td>\n",
       "      <td>26.100000</td>\n",
       "      <td>26.320000</td>\n",
       "      <td>18.367455</td>\n",
       "      <td>332545200.0</td>\n",
       "      <td>MSFT</td>\n",
       "    </tr>\n",
       "    <tr>\n",
       "      <th>...</th>\n",
       "      <td>...</td>\n",
       "      <td>...</td>\n",
       "      <td>...</td>\n",
       "      <td>...</td>\n",
       "      <td>...</td>\n",
       "      <td>...</td>\n",
       "      <td>...</td>\n",
       "      <td>...</td>\n",
       "    </tr>\n",
       "    <tr>\n",
       "      <th>457157</th>\n",
       "      <td>2023-11-27</td>\n",
       "      <td>22.910000</td>\n",
       "      <td>23.530001</td>\n",
       "      <td>22.780001</td>\n",
       "      <td>23.150000</td>\n",
       "      <td>23.065542</td>\n",
       "      <td>5837000.0</td>\n",
       "      <td>NWS</td>\n",
       "    </tr>\n",
       "    <tr>\n",
       "      <th>457158</th>\n",
       "      <td>2023-12-04</td>\n",
       "      <td>23.059999</td>\n",
       "      <td>23.469999</td>\n",
       "      <td>22.209999</td>\n",
       "      <td>22.940001</td>\n",
       "      <td>22.856310</td>\n",
       "      <td>3872900.0</td>\n",
       "      <td>NWS</td>\n",
       "    </tr>\n",
       "    <tr>\n",
       "      <th>457159</th>\n",
       "      <td>2023-12-11</td>\n",
       "      <td>22.950001</td>\n",
       "      <td>24.600000</td>\n",
       "      <td>22.850000</td>\n",
       "      <td>24.530001</td>\n",
       "      <td>24.440508</td>\n",
       "      <td>6877000.0</td>\n",
       "      <td>NWS</td>\n",
       "    </tr>\n",
       "    <tr>\n",
       "      <th>457160</th>\n",
       "      <td>2023-12-18</td>\n",
       "      <td>24.570000</td>\n",
       "      <td>25.020000</td>\n",
       "      <td>24.320000</td>\n",
       "      <td>24.940001</td>\n",
       "      <td>24.849012</td>\n",
       "      <td>3202000.0</td>\n",
       "      <td>NWS</td>\n",
       "    </tr>\n",
       "    <tr>\n",
       "      <th>457161</th>\n",
       "      <td>2023-12-25</td>\n",
       "      <td>25.090000</td>\n",
       "      <td>26.000000</td>\n",
       "      <td>24.790001</td>\n",
       "      <td>25.719999</td>\n",
       "      <td>25.626165</td>\n",
       "      <td>2759400.0</td>\n",
       "      <td>NWS</td>\n",
       "    </tr>\n",
       "  </tbody>\n",
       "</table>\n",
       "<p>457162 rows × 8 columns</p>\n",
       "</div>"
      ],
      "text/plain": [
       "              Date       Open       High        Low      Close  Adj Close  \\\n",
       "0       2005-01-01  26.799999  27.100000  26.620001  26.670000  18.611694   \n",
       "1       2005-01-08  26.600000  26.860001  26.040001  26.120001  18.227879   \n",
       "2       2005-01-15  26.030001  26.350000  25.639999  25.650000  17.899891   \n",
       "3       2005-01-22  25.760000  26.650000  25.639999  26.180000  18.269747   \n",
       "4       2005-01-29  26.350000  26.520000  26.100000  26.320000  18.367455   \n",
       "...            ...        ...        ...        ...        ...        ...   \n",
       "457157  2023-11-27  22.910000  23.530001  22.780001  23.150000  23.065542   \n",
       "457158  2023-12-04  23.059999  23.469999  22.209999  22.940001  22.856310   \n",
       "457159  2023-12-11  22.950001  24.600000  22.850000  24.530001  24.440508   \n",
       "457160  2023-12-18  24.570000  25.020000  24.320000  24.940001  24.849012   \n",
       "457161  2023-12-25  25.090000  26.000000  24.790001  25.719999  25.626165   \n",
       "\n",
       "             Volume Ticker  \n",
       "0       392522300.0   MSFT  \n",
       "1       390071600.0   MSFT  \n",
       "2       262141600.0   MSFT  \n",
       "3       405236700.0   MSFT  \n",
       "4       332545200.0   MSFT  \n",
       "...             ...    ...  \n",
       "457157    5837000.0    NWS  \n",
       "457158    3872900.0    NWS  \n",
       "457159    6877000.0    NWS  \n",
       "457160    3202000.0    NWS  \n",
       "457161    2759400.0    NWS  \n",
       "\n",
       "[457162 rows x 8 columns]"
      ]
     },
     "execution_count": 38,
     "metadata": {},
     "output_type": "execute_result"
    }
   ],
   "source": [
    "data_yf"
   ]
  },
  {
   "cell_type": "code",
   "execution_count": 39,
   "metadata": {},
   "outputs": [],
   "source": [
    "# 2. Clean data_yf: DROP NAs\n",
    "data_yf.dropna(inplace=True)\n",
    "\n",
    "# 3. Add technical indicators\n",
    "\n",
    "data_yf['macd'] = trend.MACD(data_yf['Close']).macd()\n",
    "data_yf['macd_signal'] = trend.MACD(data_yf['Close']).macd_signal()\n",
    "data_yf['rsi'] = momentum.RSIIndicator(data_yf['Close']).rsi()\n",
    "data_yf['bb_high'] = volatility.BollingerBands(data_yf['Close']).bollinger_hband()\n",
    "#data_yf['bb_low'] = volatility.BollingerBands(data_yf['Close']).bollinger_lband()\n",
    "data_yf['adx'] = trend.ADXIndicator(data_yf['High'], data_yf['Low'], data_yf['Close']).adx()\n",
    "data_yf['atr'] = volatility.AverageTrueRange(data_yf['High'], data_yf['Low'], data_yf['Close']).average_true_range()\n",
    "data_yf['cci'] = trend.CCIIndicator(data_yf['High'], data_yf['Low'], data_yf['Close']).cci()\n",
    "data_yf['mfi'] = volume.MFIIndicator(data_yf['High'], data_yf['Low'], data_yf['Close'], data_yf['Volume']).money_flow_index()\n",
    "data_yf['so'] = momentum.StochasticOscillator(data_yf['High'], data_yf['Low'], data_yf['Close']).stoch()\n",
    "# Calculate additional indicators\n",
    "data_yf['kc'] = volatility.KeltnerChannel(data_yf['High'], data_yf['Low'], data_yf['Close']).keltner_channel_mband()\n",
    "data_yf['vwap'] = volume.VolumeWeightedAveragePrice(data_yf['High'], data_yf['Low'], data_yf['Close'], data_yf['Volume']).volume_weighted_average_price()\n",
    "data_yf['eom'] = volume.EaseOfMovementIndicator(data_yf['High'], data_yf['Low'], data_yf['Close'], data_yf['Volume']).ease_of_movement()\n",
    "data_yf['vpt'] = volume.VolumePriceTrendIndicator(data_yf['Close'], data_yf['Volume']).volume_price_trend()\n",
    "\n",
    "\n",
    "# Momentum Indicators\n",
    "data_yf.ta.rsi(append=True)\n",
    "data_yf.ta.mfi(append=True)\n",
    "data_yf.ta.roc(append=True)\n",
    "data_yf.ta.willr(append=True)\n",
    "\n",
    "# Volume Indicators\n",
    "data_yf.ta.obv(append=True)\n",
    "\n",
    "\n",
    "# Volatility Indicators\n",
    "# pandas_ta doesn't seem to have NATR equivalent, but ATR is available\n",
    "\n",
    "# Average True Range (ATR)\n",
    "# ATR is a technical analysis indicator that measures market volatility by decomposing the entire range of an asset price for that period.\n",
    "# It is commonly used to understand the volatility of a stock, commodity, forex, or crypto over a given period.\n",
    "# The ATR is particularly useful in systems that need to place actual numerical values to the volatility or potential price change of an asset, often used to adjust trading systems and stop-loss orders.\n",
    "\n",
    "# Calculate ATR and add it to the DataFrame\n",
    "data_yf['atr'] = data_yf.ta.atr()\n",
    "\n",
    "# 4. Create Buy/Sell signals based on the technical indicators\n",
    "\n",
    "# Either use the indicator values directly or create signals based on the indicator values\n",
    "# depending on the strategy, we can create signals for each indicator!!\n",
    "# these signals are used to create a trading strategy and are very subjective; they might not even be useful\n",
    "# we can get rid of them.\n",
    "\n",
    "# SIGNALS for each indicator\n",
    "# Calculate the Force Index (FI)\n",
    "# data_yf['fi'] = (data_yf['Close'].diff()) * data_yf['Volume']\n",
    "\n",
    "# # Create a Buy/Sell/Hold Signal for FI\n",
    "# data_yf['fi_buy_signal'] = np.where(data_yf['fi'] > 0, 1, 0)  # Buy if FI is positive\n",
    "# data_yf['fi_sell_signal'] = np.where(data_yf['fi'] < 0, 1, 0)  # Sell if FI is negative\n",
    "\n",
    "# # MACD signal\n",
    "# data_yf['macd_buy_signal'] = np.where(data_yf['macd'] > 0, 1, 0)\n",
    "# data_yf['macd_sell_signal'] = np.where(data_yf['macd'] < 0, 1, 0)\n",
    "\n",
    "# # RSI signal\n",
    "# data_yf['rsi_buy_signal'] = np.where(data_yf['rsi'] < 30, 1, 0)\n",
    "# data_yf['rsi_sell_signal'] = np.where(data_yf['rsi'] > 70, 1, 0)\n",
    "\n",
    "# # Stochastic Oscillator signal\n",
    "# data_yf['so_buy_signal'] = np.where(data_yf['so'] < 20, 1, 0)\n",
    "# data_yf['so_sell_signal'] = np.where(data_yf['so'] > 80, 1, 0)\n",
    "\n",
    "# # CCI signal\n",
    "# data_yf['cci_buy_signal'] = np.where(data_yf['cci'] < -100, 1, 0)\n",
    "# data_yf['cci_sell_signal'] = np.where(data_yf['cci'] > 100, 1, 0)\n",
    "\n",
    "# # MFI signal\n",
    "# data_yf['mfi_buy_signal'] = np.where(data_yf['mfi'] < 20, 1, 0)\n",
    "# data_yf['mfi_sell_signal'] = np.where(data_yf['mfi'] > 80, 1, 0)\n",
    "\n",
    "# # WILLR signal\n",
    "# data_yf['WILLR_buy_signal'] = np.where(data_yf['WILLR_14'] < -80, 1, 0)\n",
    "# data_yf['WILLR_sell_signal'] = np.where(data_yf['WILLR_14'] > -20, 1, 0)\n",
    "\n",
    "\n",
    "# Other indicators such as ATR, EOM, VWAP, etc., may not have clear buy/sell interpretations.\n",
    "# Depending on strategy: might want to create signals for these as well.\n",
    "\n",
    "# If suing signals, drop the original indicator columns\n",
    "# if not using signals, keep the original indicator columns\n",
    "\n",
    "# Drop the original technical indicator columns, keeping only the signal columns\n",
    "# indicator_cols_to_drop = [\n",
    "#     'macd', 'macd_signal', 'rsi', 'bb_high', 'adx', 'atr', 'cci', 'mfi', 'so', 'kc', 'fi', 'vwap', 'eom', 'vpt',\n",
    "#     'WILLR_14', 'OBV' # pandas_ta indicators\n",
    "# ]\n",
    "# data_yf.drop(columns=indicator_cols_to_drop, inplace=True)"
   ]
  },
  {
   "cell_type": "code",
   "execution_count": 40,
   "metadata": {},
   "outputs": [
    {
     "data": {
      "text/plain": [
       "Index(['Date', 'Open', 'High', 'Low', 'Close', 'Adj Close', 'Volume', 'Ticker',\n",
       "       'macd', 'macd_signal', 'rsi', 'bb_high', 'adx', 'atr', 'cci', 'mfi',\n",
       "       'so', 'kc', 'vwap', 'eom', 'vpt', 'RSI_14', 'MFI_14', 'ROC_10',\n",
       "       'WILLR_14', 'OBV'],\n",
       "      dtype='object')"
      ]
     },
     "execution_count": 40,
     "metadata": {},
     "output_type": "execute_result"
    }
   ],
   "source": [
    "data_yf.columns\n"
   ]
  },
  {
   "cell_type": "code",
   "execution_count": 41,
   "metadata": {},
   "outputs": [
    {
     "data": {
      "text/plain": [
       "(457162, 26)"
      ]
     },
     "execution_count": 41,
     "metadata": {},
     "output_type": "execute_result"
    }
   ],
   "source": [
    "data_yf.shape"
   ]
  },
  {
   "cell_type": "markdown",
   "metadata": {},
   "source": [
    "#### MOVING AVERAGES"
   ]
  },
  {
   "cell_type": "code",
   "execution_count": 42,
   "metadata": {},
   "outputs": [],
   "source": [
    "# Create lagged features for each indicator for the previous 5 days\n",
    "indicator_cols = [col for col in data_yf.columns if col not in ['win', 'gain_loss_pct', 'Open', 'High', 'Low', 'Close', 'Volume','Adj Close']]\n",
    "\n",
    "for col in indicator_cols:\n",
    "    for i in range(1, 6):\n",
    "        data_yf[f'{col}_lag_{i}'] = data_yf[col].shift(i)\n",
    "\n",
    "# Remove rows with NaN values after shifting\n",
    "data_yf.dropna(inplace=True)\n"
   ]
  },
  {
   "cell_type": "code",
   "execution_count": 57,
   "metadata": {},
   "outputs": [
    {
     "data": {
      "text/plain": [
       "Series([], Name: Date, dtype: datetime64[ns])"
      ]
     },
     "execution_count": 57,
     "metadata": {},
     "output_type": "execute_result"
    }
   ],
   "source": [
    "# 4. Calculate gain/loss percentage and assign -1, 0, 1\n",
    "data_yf['gain_loss_pct'] = (data_yf['Close'] - data_yf['Open']) / data_yf['Open']\n",
    "data_yf['win'] = np.where(data_yf['gain_loss_pct'] > 0.005, 1, \n",
    "                          np.where(data_yf['gain_loss_pct'] < -0.0025, -1, 0)) # 1 if 0.5% gain, -1 if 0.25% loss, 0 otherwise\n",
    "\n",
    "\n",
    "# Drop OHLCV columns\n",
    "#data_yf.drop(columns=['Open', 'High', 'Low', 'Close', 'Volume', 'Adj Close'], inplace=True)\n"
   ]
  },
  {
   "cell_type": "code",
   "execution_count": 59,
   "metadata": {},
   "outputs": [
    {
     "data": {
      "text/html": [
       "<div>\n",
       "<style scoped>\n",
       "    .dataframe tbody tr th:only-of-type {\n",
       "        vertical-align: middle;\n",
       "    }\n",
       "\n",
       "    .dataframe tbody tr th {\n",
       "        vertical-align: top;\n",
       "    }\n",
       "\n",
       "    .dataframe thead th {\n",
       "        text-align: right;\n",
       "    }\n",
       "</style>\n",
       "<table border=\"1\" class=\"dataframe\">\n",
       "  <thead>\n",
       "    <tr style=\"text-align: right;\">\n",
       "      <th></th>\n",
       "      <th>Date</th>\n",
       "      <th>Open</th>\n",
       "      <th>High</th>\n",
       "      <th>Low</th>\n",
       "      <th>Close</th>\n",
       "      <th>Adj Close</th>\n",
       "      <th>Volume</th>\n",
       "      <th>Ticker</th>\n",
       "      <th>macd</th>\n",
       "      <th>macd_signal</th>\n",
       "      <th>...</th>\n",
       "      <th>WILLR_14_lag_3</th>\n",
       "      <th>WILLR_14_lag_4</th>\n",
       "      <th>WILLR_14_lag_5</th>\n",
       "      <th>OBV_lag_1</th>\n",
       "      <th>OBV_lag_2</th>\n",
       "      <th>OBV_lag_3</th>\n",
       "      <th>OBV_lag_4</th>\n",
       "      <th>OBV_lag_5</th>\n",
       "      <th>gain_loss_pct</th>\n",
       "      <th>win</th>\n",
       "    </tr>\n",
       "  </thead>\n",
       "  <tbody>\n",
       "    <tr>\n",
       "      <th>0</th>\n",
       "      <td>2005-09-24</td>\n",
       "      <td>-0.356250</td>\n",
       "      <td>-0.356506</td>\n",
       "      <td>-0.352921</td>\n",
       "      <td>-0.354163</td>\n",
       "      <td>-0.350301</td>\n",
       "      <td>1.797672</td>\n",
       "      <td>MSFT</td>\n",
       "      <td>0.008850</td>\n",
       "      <td>0.012259</td>\n",
       "      <td>...</td>\n",
       "      <td>0.091587</td>\n",
       "      <td>0.515000</td>\n",
       "      <td>0.466893</td>\n",
       "      <td>-6.341130</td>\n",
       "      <td>-6.337866</td>\n",
       "      <td>-6.333899</td>\n",
       "      <td>-6.331941</td>\n",
       "      <td>-6.334380</td>\n",
       "      <td>0.222531</td>\n",
       "      <td>1</td>\n",
       "    </tr>\n",
       "    <tr>\n",
       "      <th>1</th>\n",
       "      <td>2005-10-01</td>\n",
       "      <td>-0.354439</td>\n",
       "      <td>-0.358036</td>\n",
       "      <td>-0.357066</td>\n",
       "      <td>-0.360798</td>\n",
       "      <td>-0.355011</td>\n",
       "      <td>2.555814</td>\n",
       "      <td>MSFT</td>\n",
       "      <td>0.000968</td>\n",
       "      <td>0.010014</td>\n",
       "      <td>...</td>\n",
       "      <td>-0.399178</td>\n",
       "      <td>0.091595</td>\n",
       "      <td>0.515008</td>\n",
       "      <td>-6.338408</td>\n",
       "      <td>-6.340845</td>\n",
       "      <td>-6.337582</td>\n",
       "      <td>-6.333615</td>\n",
       "      <td>-6.331657</td>\n",
       "      <td>-1.010570</td>\n",
       "      <td>-1</td>\n",
       "    </tr>\n",
       "    <tr>\n",
       "      <th>2</th>\n",
       "      <td>2005-10-08</td>\n",
       "      <td>-0.360515</td>\n",
       "      <td>-0.363706</td>\n",
       "      <td>-0.358688</td>\n",
       "      <td>-0.360333</td>\n",
       "      <td>-0.354680</td>\n",
       "      <td>1.934275</td>\n",
       "      <td>MSFT</td>\n",
       "      <td>-0.004834</td>\n",
       "      <td>0.006980</td>\n",
       "      <td>...</td>\n",
       "      <td>-1.169004</td>\n",
       "      <td>-0.399169</td>\n",
       "      <td>0.091604</td>\n",
       "      <td>-6.342151</td>\n",
       "      <td>-6.338123</td>\n",
       "      <td>-6.340561</td>\n",
       "      <td>-6.337298</td>\n",
       "      <td>-6.333330</td>\n",
       "      <td>-0.060744</td>\n",
       "      <td>0</td>\n",
       "    </tr>\n",
       "    <tr>\n",
       "      <th>3</th>\n",
       "      <td>2005-10-15</td>\n",
       "      <td>-0.360456</td>\n",
       "      <td>-0.361438</td>\n",
       "      <td>-0.357547</td>\n",
       "      <td>-0.359692</td>\n",
       "      <td>-0.354226</td>\n",
       "      <td>1.869081</td>\n",
       "      <td>MSFT</td>\n",
       "      <td>-0.008796</td>\n",
       "      <td>0.003707</td>\n",
       "      <td>...</td>\n",
       "      <td>-0.726354</td>\n",
       "      <td>-1.168994</td>\n",
       "      <td>-0.399160</td>\n",
       "      <td>-6.339245</td>\n",
       "      <td>-6.341866</td>\n",
       "      <td>-6.337839</td>\n",
       "      <td>-6.340276</td>\n",
       "      <td>-6.337014</td>\n",
       "      <td>0.027601</td>\n",
       "      <td>0</td>\n",
       "    </tr>\n",
       "    <tr>\n",
       "      <th>4</th>\n",
       "      <td>2005-10-22</td>\n",
       "      <td>-0.359230</td>\n",
       "      <td>-0.358773</td>\n",
       "      <td>-0.356105</td>\n",
       "      <td>-0.355327</td>\n",
       "      <td>-0.351127</td>\n",
       "      <td>1.925535</td>\n",
       "      <td>MSFT</td>\n",
       "      <td>-0.008194</td>\n",
       "      <td>0.001217</td>\n",
       "      <td>...</td>\n",
       "      <td>-1.823357</td>\n",
       "      <td>-0.726345</td>\n",
       "      <td>-1.168985</td>\n",
       "      <td>-6.336427</td>\n",
       "      <td>-6.338960</td>\n",
       "      <td>-6.341581</td>\n",
       "      <td>-6.337555</td>\n",
       "      <td>-6.339992</td>\n",
       "      <td>0.499896</td>\n",
       "      <td>1</td>\n",
       "    </tr>\n",
       "    <tr>\n",
       "      <th>...</th>\n",
       "      <td>...</td>\n",
       "      <td>...</td>\n",
       "      <td>...</td>\n",
       "      <td>...</td>\n",
       "      <td>...</td>\n",
       "      <td>...</td>\n",
       "      <td>...</td>\n",
       "      <td>...</td>\n",
       "      <td>...</td>\n",
       "      <td>...</td>\n",
       "      <td>...</td>\n",
       "      <td>...</td>\n",
       "      <td>...</td>\n",
       "      <td>...</td>\n",
       "      <td>...</td>\n",
       "      <td>...</td>\n",
       "      <td>...</td>\n",
       "      <td>...</td>\n",
       "      <td>...</td>\n",
       "      <td>...</td>\n",
       "      <td>...</td>\n",
       "    </tr>\n",
       "    <tr>\n",
       "      <th>457112</th>\n",
       "      <td>2023-11-27</td>\n",
       "      <td>-0.370797</td>\n",
       "      <td>-0.370509</td>\n",
       "      <td>-0.367519</td>\n",
       "      <td>-0.369180</td>\n",
       "      <td>-0.321303</td>\n",
       "      <td>-0.184138</td>\n",
       "      <td>NWS</td>\n",
       "      <td>0.051690</td>\n",
       "      <td>0.049107</td>\n",
       "      <td>...</td>\n",
       "      <td>-0.055799</td>\n",
       "      <td>0.917949</td>\n",
       "      <td>-0.528499</td>\n",
       "      <td>1.223573</td>\n",
       "      <td>1.223506</td>\n",
       "      <td>1.223414</td>\n",
       "      <td>1.223445</td>\n",
       "      <td>1.223362</td>\n",
       "      <td>0.167665</td>\n",
       "      <td>1</td>\n",
       "    </tr>\n",
       "    <tr>\n",
       "      <th>457113</th>\n",
       "      <td>2023-12-04</td>\n",
       "      <td>-0.369920</td>\n",
       "      <td>-0.370849</td>\n",
       "      <td>-0.370943</td>\n",
       "      <td>-0.370403</td>\n",
       "      <td>-0.322531</td>\n",
       "      <td>-0.197349</td>\n",
       "      <td>NWS</td>\n",
       "      <td>0.052851</td>\n",
       "      <td>0.050564</td>\n",
       "      <td>...</td>\n",
       "      <td>0.090857</td>\n",
       "      <td>-0.055791</td>\n",
       "      <td>0.917957</td>\n",
       "      <td>1.223626</td>\n",
       "      <td>1.223538</td>\n",
       "      <td>1.223471</td>\n",
       "      <td>1.223379</td>\n",
       "      <td>1.223410</td>\n",
       "      <td>-0.174205</td>\n",
       "      <td>-1</td>\n",
       "    </tr>\n",
       "    <tr>\n",
       "      <th>457114</th>\n",
       "      <td>2023-12-11</td>\n",
       "      <td>-0.370563</td>\n",
       "      <td>-0.364443</td>\n",
       "      <td>-0.367098</td>\n",
       "      <td>-0.361148</td>\n",
       "      <td>-0.313238</td>\n",
       "      <td>-0.177142</td>\n",
       "      <td>NWS</td>\n",
       "      <td>0.060802</td>\n",
       "      <td>0.053427</td>\n",
       "      <td>...</td>\n",
       "      <td>1.159358</td>\n",
       "      <td>0.090865</td>\n",
       "      <td>-0.055783</td>\n",
       "      <td>1.223591</td>\n",
       "      <td>1.223591</td>\n",
       "      <td>1.223503</td>\n",
       "      <td>1.223436</td>\n",
       "      <td>1.223344</td>\n",
       "      <td>1.440332</td>\n",
       "      <td>1</td>\n",
       "    </tr>\n",
       "    <tr>\n",
       "      <th>457115</th>\n",
       "      <td>2023-12-18</td>\n",
       "      <td>-0.361099</td>\n",
       "      <td>-0.362062</td>\n",
       "      <td>-0.358268</td>\n",
       "      <td>-0.358761</td>\n",
       "      <td>-0.310842</td>\n",
       "      <td>-0.201861</td>\n",
       "      <td>NWS</td>\n",
       "      <td>0.068309</td>\n",
       "      <td>0.057319</td>\n",
       "      <td>...</td>\n",
       "      <td>1.042936</td>\n",
       "      <td>1.159365</td>\n",
       "      <td>0.090873</td>\n",
       "      <td>1.223653</td>\n",
       "      <td>1.223556</td>\n",
       "      <td>1.223556</td>\n",
       "      <td>1.223468</td>\n",
       "      <td>1.223401</td>\n",
       "      <td>0.267598</td>\n",
       "      <td>1</td>\n",
       "    </tr>\n",
       "    <tr>\n",
       "      <th>457116</th>\n",
       "      <td>2023-12-25</td>\n",
       "      <td>-0.358061</td>\n",
       "      <td>-0.356506</td>\n",
       "      <td>-0.355444</td>\n",
       "      <td>-0.354221</td>\n",
       "      <td>-0.306284</td>\n",
       "      <td>-0.204838</td>\n",
       "      <td>NWS</td>\n",
       "      <td>0.077162</td>\n",
       "      <td>0.062322</td>\n",
       "      <td>...</td>\n",
       "      <td>0.845450</td>\n",
       "      <td>1.042942</td>\n",
       "      <td>1.159372</td>\n",
       "      <td>1.223682</td>\n",
       "      <td>1.223618</td>\n",
       "      <td>1.223521</td>\n",
       "      <td>1.223521</td>\n",
       "      <td>1.223433</td>\n",
       "      <td>0.486735</td>\n",
       "      <td>1</td>\n",
       "    </tr>\n",
       "  </tbody>\n",
       "</table>\n",
       "<p>457117 rows × 128 columns</p>\n",
       "</div>"
      ],
      "text/plain": [
       "              Date      Open      High       Low     Close  Adj Close  \\\n",
       "0       2005-09-24 -0.356250 -0.356506 -0.352921 -0.354163  -0.350301   \n",
       "1       2005-10-01 -0.354439 -0.358036 -0.357066 -0.360798  -0.355011   \n",
       "2       2005-10-08 -0.360515 -0.363706 -0.358688 -0.360333  -0.354680   \n",
       "3       2005-10-15 -0.360456 -0.361438 -0.357547 -0.359692  -0.354226   \n",
       "4       2005-10-22 -0.359230 -0.358773 -0.356105 -0.355327  -0.351127   \n",
       "...            ...       ...       ...       ...       ...        ...   \n",
       "457112  2023-11-27 -0.370797 -0.370509 -0.367519 -0.369180  -0.321303   \n",
       "457113  2023-12-04 -0.369920 -0.370849 -0.370943 -0.370403  -0.322531   \n",
       "457114  2023-12-11 -0.370563 -0.364443 -0.367098 -0.361148  -0.313238   \n",
       "457115  2023-12-18 -0.361099 -0.362062 -0.358268 -0.358761  -0.310842   \n",
       "457116  2023-12-25 -0.358061 -0.356506 -0.355444 -0.354221  -0.306284   \n",
       "\n",
       "          Volume Ticker      macd  macd_signal  ...  WILLR_14_lag_3  \\\n",
       "0       1.797672   MSFT  0.008850     0.012259  ...        0.091587   \n",
       "1       2.555814   MSFT  0.000968     0.010014  ...       -0.399178   \n",
       "2       1.934275   MSFT -0.004834     0.006980  ...       -1.169004   \n",
       "3       1.869081   MSFT -0.008796     0.003707  ...       -0.726354   \n",
       "4       1.925535   MSFT -0.008194     0.001217  ...       -1.823357   \n",
       "...          ...    ...       ...          ...  ...             ...   \n",
       "457112 -0.184138    NWS  0.051690     0.049107  ...       -0.055799   \n",
       "457113 -0.197349    NWS  0.052851     0.050564  ...        0.090857   \n",
       "457114 -0.177142    NWS  0.060802     0.053427  ...        1.159358   \n",
       "457115 -0.201861    NWS  0.068309     0.057319  ...        1.042936   \n",
       "457116 -0.204838    NWS  0.077162     0.062322  ...        0.845450   \n",
       "\n",
       "        WILLR_14_lag_4  WILLR_14_lag_5  OBV_lag_1  OBV_lag_2  OBV_lag_3  \\\n",
       "0             0.515000        0.466893  -6.341130  -6.337866  -6.333899   \n",
       "1             0.091595        0.515008  -6.338408  -6.340845  -6.337582   \n",
       "2            -0.399169        0.091604  -6.342151  -6.338123  -6.340561   \n",
       "3            -1.168994       -0.399160  -6.339245  -6.341866  -6.337839   \n",
       "4            -0.726345       -1.168985  -6.336427  -6.338960  -6.341581   \n",
       "...                ...             ...        ...        ...        ...   \n",
       "457112        0.917949       -0.528499   1.223573   1.223506   1.223414   \n",
       "457113       -0.055791        0.917957   1.223626   1.223538   1.223471   \n",
       "457114        0.090865       -0.055783   1.223591   1.223591   1.223503   \n",
       "457115        1.159365        0.090873   1.223653   1.223556   1.223556   \n",
       "457116        1.042942        1.159372   1.223682   1.223618   1.223521   \n",
       "\n",
       "        OBV_lag_4  OBV_lag_5  gain_loss_pct  win  \n",
       "0       -6.331941  -6.334380       0.222531    1  \n",
       "1       -6.333615  -6.331657      -1.010570   -1  \n",
       "2       -6.337298  -6.333330      -0.060744    0  \n",
       "3       -6.340276  -6.337014       0.027601    0  \n",
       "4       -6.337555  -6.339992       0.499896    1  \n",
       "...           ...        ...            ...  ...  \n",
       "457112   1.223445   1.223362       0.167665    1  \n",
       "457113   1.223379   1.223410      -0.174205   -1  \n",
       "457114   1.223436   1.223344       1.440332    1  \n",
       "457115   1.223468   1.223401       0.267598    1  \n",
       "457116   1.223521   1.223433       0.486735    1  \n",
       "\n",
       "[457117 rows x 128 columns]"
      ]
     },
     "execution_count": 59,
     "metadata": {},
     "output_type": "execute_result"
    }
   ],
   "source": [
    "data_yf"
   ]
  },
  {
   "cell_type": "code",
   "execution_count": 68,
   "metadata": {},
   "outputs": [
    {
     "data": {
      "text/html": [
       "<div>\n",
       "<style scoped>\n",
       "    .dataframe tbody tr th:only-of-type {\n",
       "        vertical-align: middle;\n",
       "    }\n",
       "\n",
       "    .dataframe tbody tr th {\n",
       "        vertical-align: top;\n",
       "    }\n",
       "\n",
       "    .dataframe thead th {\n",
       "        text-align: right;\n",
       "    }\n",
       "</style>\n",
       "<table border=\"1\" class=\"dataframe\">\n",
       "  <thead>\n",
       "    <tr style=\"text-align: right;\">\n",
       "      <th></th>\n",
       "      <th>Date</th>\n",
       "      <th>Open</th>\n",
       "      <th>High</th>\n",
       "      <th>Low</th>\n",
       "      <th>Close</th>\n",
       "      <th>Adj Close</th>\n",
       "      <th>Volume</th>\n",
       "      <th>Ticker</th>\n",
       "      <th>macd</th>\n",
       "      <th>macd_signal</th>\n",
       "      <th>...</th>\n",
       "      <th>WILLR_14_lag_3</th>\n",
       "      <th>WILLR_14_lag_4</th>\n",
       "      <th>WILLR_14_lag_5</th>\n",
       "      <th>OBV_lag_1</th>\n",
       "      <th>OBV_lag_2</th>\n",
       "      <th>OBV_lag_3</th>\n",
       "      <th>OBV_lag_4</th>\n",
       "      <th>OBV_lag_5</th>\n",
       "      <th>gain_loss_pct</th>\n",
       "      <th>win</th>\n",
       "    </tr>\n",
       "  </thead>\n",
       "  <tbody>\n",
       "    <tr>\n",
       "      <th>0</th>\n",
       "      <td>2005-09-24</td>\n",
       "      <td>-0.356250</td>\n",
       "      <td>-0.356506</td>\n",
       "      <td>-0.352921</td>\n",
       "      <td>-0.354163</td>\n",
       "      <td>-0.350301</td>\n",
       "      <td>1.797672</td>\n",
       "      <td>MSFT</td>\n",
       "      <td>0.008850</td>\n",
       "      <td>0.012259</td>\n",
       "      <td>...</td>\n",
       "      <td>0.091587</td>\n",
       "      <td>0.515000</td>\n",
       "      <td>0.466893</td>\n",
       "      <td>-6.341130</td>\n",
       "      <td>-6.337866</td>\n",
       "      <td>-6.333899</td>\n",
       "      <td>-6.331941</td>\n",
       "      <td>-6.334380</td>\n",
       "      <td>0.222531</td>\n",
       "      <td>1</td>\n",
       "    </tr>\n",
       "    <tr>\n",
       "      <th>1</th>\n",
       "      <td>2005-10-01</td>\n",
       "      <td>-0.354439</td>\n",
       "      <td>-0.358036</td>\n",
       "      <td>-0.357066</td>\n",
       "      <td>-0.360798</td>\n",
       "      <td>-0.355011</td>\n",
       "      <td>2.555814</td>\n",
       "      <td>MSFT</td>\n",
       "      <td>0.000968</td>\n",
       "      <td>0.010014</td>\n",
       "      <td>...</td>\n",
       "      <td>-0.399178</td>\n",
       "      <td>0.091595</td>\n",
       "      <td>0.515008</td>\n",
       "      <td>-6.338408</td>\n",
       "      <td>-6.340845</td>\n",
       "      <td>-6.337582</td>\n",
       "      <td>-6.333615</td>\n",
       "      <td>-6.331657</td>\n",
       "      <td>-1.010570</td>\n",
       "      <td>-1</td>\n",
       "    </tr>\n",
       "    <tr>\n",
       "      <th>2</th>\n",
       "      <td>2005-10-08</td>\n",
       "      <td>-0.360515</td>\n",
       "      <td>-0.363706</td>\n",
       "      <td>-0.358688</td>\n",
       "      <td>-0.360333</td>\n",
       "      <td>-0.354680</td>\n",
       "      <td>1.934275</td>\n",
       "      <td>MSFT</td>\n",
       "      <td>-0.004834</td>\n",
       "      <td>0.006980</td>\n",
       "      <td>...</td>\n",
       "      <td>-1.169004</td>\n",
       "      <td>-0.399169</td>\n",
       "      <td>0.091604</td>\n",
       "      <td>-6.342151</td>\n",
       "      <td>-6.338123</td>\n",
       "      <td>-6.340561</td>\n",
       "      <td>-6.337298</td>\n",
       "      <td>-6.333330</td>\n",
       "      <td>-0.060744</td>\n",
       "      <td>0</td>\n",
       "    </tr>\n",
       "    <tr>\n",
       "      <th>3</th>\n",
       "      <td>2005-10-15</td>\n",
       "      <td>-0.360456</td>\n",
       "      <td>-0.361438</td>\n",
       "      <td>-0.357547</td>\n",
       "      <td>-0.359692</td>\n",
       "      <td>-0.354226</td>\n",
       "      <td>1.869081</td>\n",
       "      <td>MSFT</td>\n",
       "      <td>-0.008796</td>\n",
       "      <td>0.003707</td>\n",
       "      <td>...</td>\n",
       "      <td>-0.726354</td>\n",
       "      <td>-1.168994</td>\n",
       "      <td>-0.399160</td>\n",
       "      <td>-6.339245</td>\n",
       "      <td>-6.341866</td>\n",
       "      <td>-6.337839</td>\n",
       "      <td>-6.340276</td>\n",
       "      <td>-6.337014</td>\n",
       "      <td>0.027601</td>\n",
       "      <td>0</td>\n",
       "    </tr>\n",
       "    <tr>\n",
       "      <th>4</th>\n",
       "      <td>2005-10-22</td>\n",
       "      <td>-0.359230</td>\n",
       "      <td>-0.358773</td>\n",
       "      <td>-0.356105</td>\n",
       "      <td>-0.355327</td>\n",
       "      <td>-0.351127</td>\n",
       "      <td>1.925535</td>\n",
       "      <td>MSFT</td>\n",
       "      <td>-0.008194</td>\n",
       "      <td>0.001217</td>\n",
       "      <td>...</td>\n",
       "      <td>-1.823357</td>\n",
       "      <td>-0.726345</td>\n",
       "      <td>-1.168985</td>\n",
       "      <td>-6.336427</td>\n",
       "      <td>-6.338960</td>\n",
       "      <td>-6.341581</td>\n",
       "      <td>-6.337555</td>\n",
       "      <td>-6.339992</td>\n",
       "      <td>0.499896</td>\n",
       "      <td>1</td>\n",
       "    </tr>\n",
       "    <tr>\n",
       "      <th>...</th>\n",
       "      <td>...</td>\n",
       "      <td>...</td>\n",
       "      <td>...</td>\n",
       "      <td>...</td>\n",
       "      <td>...</td>\n",
       "      <td>...</td>\n",
       "      <td>...</td>\n",
       "      <td>...</td>\n",
       "      <td>...</td>\n",
       "      <td>...</td>\n",
       "      <td>...</td>\n",
       "      <td>...</td>\n",
       "      <td>...</td>\n",
       "      <td>...</td>\n",
       "      <td>...</td>\n",
       "      <td>...</td>\n",
       "      <td>...</td>\n",
       "      <td>...</td>\n",
       "      <td>...</td>\n",
       "      <td>...</td>\n",
       "      <td>...</td>\n",
       "    </tr>\n",
       "    <tr>\n",
       "      <th>457112</th>\n",
       "      <td>2023-11-27</td>\n",
       "      <td>-0.370797</td>\n",
       "      <td>-0.370509</td>\n",
       "      <td>-0.367519</td>\n",
       "      <td>-0.369180</td>\n",
       "      <td>-0.321303</td>\n",
       "      <td>-0.184138</td>\n",
       "      <td>NWS</td>\n",
       "      <td>0.051690</td>\n",
       "      <td>0.049107</td>\n",
       "      <td>...</td>\n",
       "      <td>-0.055799</td>\n",
       "      <td>0.917949</td>\n",
       "      <td>-0.528499</td>\n",
       "      <td>1.223573</td>\n",
       "      <td>1.223506</td>\n",
       "      <td>1.223414</td>\n",
       "      <td>1.223445</td>\n",
       "      <td>1.223362</td>\n",
       "      <td>0.167665</td>\n",
       "      <td>1</td>\n",
       "    </tr>\n",
       "    <tr>\n",
       "      <th>457113</th>\n",
       "      <td>2023-12-04</td>\n",
       "      <td>-0.369920</td>\n",
       "      <td>-0.370849</td>\n",
       "      <td>-0.370943</td>\n",
       "      <td>-0.370403</td>\n",
       "      <td>-0.322531</td>\n",
       "      <td>-0.197349</td>\n",
       "      <td>NWS</td>\n",
       "      <td>0.052851</td>\n",
       "      <td>0.050564</td>\n",
       "      <td>...</td>\n",
       "      <td>0.090857</td>\n",
       "      <td>-0.055791</td>\n",
       "      <td>0.917957</td>\n",
       "      <td>1.223626</td>\n",
       "      <td>1.223538</td>\n",
       "      <td>1.223471</td>\n",
       "      <td>1.223379</td>\n",
       "      <td>1.223410</td>\n",
       "      <td>-0.174205</td>\n",
       "      <td>-1</td>\n",
       "    </tr>\n",
       "    <tr>\n",
       "      <th>457114</th>\n",
       "      <td>2023-12-11</td>\n",
       "      <td>-0.370563</td>\n",
       "      <td>-0.364443</td>\n",
       "      <td>-0.367098</td>\n",
       "      <td>-0.361148</td>\n",
       "      <td>-0.313238</td>\n",
       "      <td>-0.177142</td>\n",
       "      <td>NWS</td>\n",
       "      <td>0.060802</td>\n",
       "      <td>0.053427</td>\n",
       "      <td>...</td>\n",
       "      <td>1.159358</td>\n",
       "      <td>0.090865</td>\n",
       "      <td>-0.055783</td>\n",
       "      <td>1.223591</td>\n",
       "      <td>1.223591</td>\n",
       "      <td>1.223503</td>\n",
       "      <td>1.223436</td>\n",
       "      <td>1.223344</td>\n",
       "      <td>1.440332</td>\n",
       "      <td>1</td>\n",
       "    </tr>\n",
       "    <tr>\n",
       "      <th>457115</th>\n",
       "      <td>2023-12-18</td>\n",
       "      <td>-0.361099</td>\n",
       "      <td>-0.362062</td>\n",
       "      <td>-0.358268</td>\n",
       "      <td>-0.358761</td>\n",
       "      <td>-0.310842</td>\n",
       "      <td>-0.201861</td>\n",
       "      <td>NWS</td>\n",
       "      <td>0.068309</td>\n",
       "      <td>0.057319</td>\n",
       "      <td>...</td>\n",
       "      <td>1.042936</td>\n",
       "      <td>1.159365</td>\n",
       "      <td>0.090873</td>\n",
       "      <td>1.223653</td>\n",
       "      <td>1.223556</td>\n",
       "      <td>1.223556</td>\n",
       "      <td>1.223468</td>\n",
       "      <td>1.223401</td>\n",
       "      <td>0.267598</td>\n",
       "      <td>1</td>\n",
       "    </tr>\n",
       "    <tr>\n",
       "      <th>457116</th>\n",
       "      <td>2023-12-25</td>\n",
       "      <td>-0.358061</td>\n",
       "      <td>-0.356506</td>\n",
       "      <td>-0.355444</td>\n",
       "      <td>-0.354221</td>\n",
       "      <td>-0.306284</td>\n",
       "      <td>-0.204838</td>\n",
       "      <td>NWS</td>\n",
       "      <td>0.077162</td>\n",
       "      <td>0.062322</td>\n",
       "      <td>...</td>\n",
       "      <td>0.845450</td>\n",
       "      <td>1.042942</td>\n",
       "      <td>1.159372</td>\n",
       "      <td>1.223682</td>\n",
       "      <td>1.223618</td>\n",
       "      <td>1.223521</td>\n",
       "      <td>1.223521</td>\n",
       "      <td>1.223433</td>\n",
       "      <td>0.486735</td>\n",
       "      <td>1</td>\n",
       "    </tr>\n",
       "  </tbody>\n",
       "</table>\n",
       "<p>457117 rows × 128 columns</p>\n",
       "</div>"
      ],
      "text/plain": [
       "             Date      Open      High       Low     Close  Adj Close  \\\n",
       "0      2005-09-24 -0.356250 -0.356506 -0.352921 -0.354163  -0.350301   \n",
       "1      2005-10-01 -0.354439 -0.358036 -0.357066 -0.360798  -0.355011   \n",
       "2      2005-10-08 -0.360515 -0.363706 -0.358688 -0.360333  -0.354680   \n",
       "3      2005-10-15 -0.360456 -0.361438 -0.357547 -0.359692  -0.354226   \n",
       "4      2005-10-22 -0.359230 -0.358773 -0.356105 -0.355327  -0.351127   \n",
       "...           ...       ...       ...       ...       ...        ...   \n",
       "457112 2023-11-27 -0.370797 -0.370509 -0.367519 -0.369180  -0.321303   \n",
       "457113 2023-12-04 -0.369920 -0.370849 -0.370943 -0.370403  -0.322531   \n",
       "457114 2023-12-11 -0.370563 -0.364443 -0.367098 -0.361148  -0.313238   \n",
       "457115 2023-12-18 -0.361099 -0.362062 -0.358268 -0.358761  -0.310842   \n",
       "457116 2023-12-25 -0.358061 -0.356506 -0.355444 -0.354221  -0.306284   \n",
       "\n",
       "          Volume Ticker      macd  macd_signal  ...  WILLR_14_lag_3  \\\n",
       "0       1.797672   MSFT  0.008850     0.012259  ...        0.091587   \n",
       "1       2.555814   MSFT  0.000968     0.010014  ...       -0.399178   \n",
       "2       1.934275   MSFT -0.004834     0.006980  ...       -1.169004   \n",
       "3       1.869081   MSFT -0.008796     0.003707  ...       -0.726354   \n",
       "4       1.925535   MSFT -0.008194     0.001217  ...       -1.823357   \n",
       "...          ...    ...       ...          ...  ...             ...   \n",
       "457112 -0.184138    NWS  0.051690     0.049107  ...       -0.055799   \n",
       "457113 -0.197349    NWS  0.052851     0.050564  ...        0.090857   \n",
       "457114 -0.177142    NWS  0.060802     0.053427  ...        1.159358   \n",
       "457115 -0.201861    NWS  0.068309     0.057319  ...        1.042936   \n",
       "457116 -0.204838    NWS  0.077162     0.062322  ...        0.845450   \n",
       "\n",
       "        WILLR_14_lag_4  WILLR_14_lag_5  OBV_lag_1  OBV_lag_2  OBV_lag_3  \\\n",
       "0             0.515000        0.466893  -6.341130  -6.337866  -6.333899   \n",
       "1             0.091595        0.515008  -6.338408  -6.340845  -6.337582   \n",
       "2            -0.399169        0.091604  -6.342151  -6.338123  -6.340561   \n",
       "3            -1.168994       -0.399160  -6.339245  -6.341866  -6.337839   \n",
       "4            -0.726345       -1.168985  -6.336427  -6.338960  -6.341581   \n",
       "...                ...             ...        ...        ...        ...   \n",
       "457112        0.917949       -0.528499   1.223573   1.223506   1.223414   \n",
       "457113       -0.055791        0.917957   1.223626   1.223538   1.223471   \n",
       "457114        0.090865       -0.055783   1.223591   1.223591   1.223503   \n",
       "457115        1.159365        0.090873   1.223653   1.223556   1.223556   \n",
       "457116        1.042942        1.159372   1.223682   1.223618   1.223521   \n",
       "\n",
       "        OBV_lag_4  OBV_lag_5  gain_loss_pct  win  \n",
       "0       -6.331941  -6.334380       0.222531    1  \n",
       "1       -6.333615  -6.331657      -1.010570   -1  \n",
       "2       -6.337298  -6.333330      -0.060744    0  \n",
       "3       -6.340276  -6.337014       0.027601    0  \n",
       "4       -6.337555  -6.339992       0.499896    1  \n",
       "...           ...        ...            ...  ...  \n",
       "457112   1.223445   1.223362       0.167665    1  \n",
       "457113   1.223379   1.223410      -0.174205   -1  \n",
       "457114   1.223436   1.223344       1.440332    1  \n",
       "457115   1.223468   1.223401       0.267598    1  \n",
       "457116   1.223521   1.223433       0.486735    1  \n",
       "\n",
       "[457117 rows x 128 columns]"
      ]
     },
     "execution_count": 68,
     "metadata": {},
     "output_type": "execute_result"
    }
   ],
   "source": [
    "data_yf['Date'] = pd.to_datetime(data_yf['Date'])\n",
    "\n",
    "#data_yf.set_index('Date', inplace=True)\n",
    "data_yf\n"
   ]
  },
  {
   "cell_type": "code",
   "execution_count": 65,
   "metadata": {},
   "outputs": [],
   "source": [
    "\n",
    "data_save = data_yf.copy()\n",
    "\n"
   ]
  },
  {
   "cell_type": "code",
   "execution_count": 72,
   "metadata": {},
   "outputs": [],
   "source": [
    "data_yf = data_save.copy()"
   ]
  },
  {
   "cell_type": "code",
   "execution_count": 74,
   "metadata": {},
   "outputs": [],
   "source": [
    "data_yf.reset_index(inplace=True)"
   ]
  },
  {
   "cell_type": "code",
   "execution_count": 85,
   "metadata": {},
   "outputs": [
    {
     "data": {
      "text/plain": [
       "Ticker\n",
       "VLTO   2023-10-02\n",
       "KVUE   2023-05-01\n",
       "GEHC   2022-12-12\n",
       "CEG    2022-01-17\n",
       "ABNB   2020-12-07\n",
       "          ...    \n",
       "F      2005-01-01\n",
       "EXR    2005-01-01\n",
       "EXPD   2005-01-01\n",
       "EXC    2005-01-01\n",
       "ISRG   2005-01-01\n",
       "Name: Date, Length: 499, dtype: datetime64[ns]"
      ]
     },
     "execution_count": 85,
     "metadata": {},
     "output_type": "execute_result"
    }
   ],
   "source": [
    "\n",
    "# 5. Remove stocks that have not existed before 01/01/2005\n",
    "first_appearance_dates = data_yf.groupby('Ticker')['Date'].min().sort_values(ascending=False)\n",
    "first_appearance_dates\n",
    "\n"
   ]
  },
  {
   "cell_type": "code",
   "execution_count": 88,
   "metadata": {},
   "outputs": [
    {
     "data": {
      "text/html": [
       "<div>\n",
       "<style scoped>\n",
       "    .dataframe tbody tr th:only-of-type {\n",
       "        vertical-align: middle;\n",
       "    }\n",
       "\n",
       "    .dataframe tbody tr th {\n",
       "        vertical-align: top;\n",
       "    }\n",
       "\n",
       "    .dataframe thead th {\n",
       "        text-align: right;\n",
       "    }\n",
       "</style>\n",
       "<table border=\"1\" class=\"dataframe\">\n",
       "  <thead>\n",
       "    <tr style=\"text-align: right;\">\n",
       "      <th></th>\n",
       "      <th>Date</th>\n",
       "      <th>Open</th>\n",
       "      <th>High</th>\n",
       "      <th>Low</th>\n",
       "      <th>Close</th>\n",
       "      <th>Adj Close</th>\n",
       "      <th>Volume</th>\n",
       "      <th>Ticker</th>\n",
       "      <th>macd</th>\n",
       "      <th>macd_signal</th>\n",
       "      <th>...</th>\n",
       "      <th>WILLR_14_lag_3</th>\n",
       "      <th>WILLR_14_lag_4</th>\n",
       "      <th>WILLR_14_lag_5</th>\n",
       "      <th>OBV_lag_1</th>\n",
       "      <th>OBV_lag_2</th>\n",
       "      <th>OBV_lag_3</th>\n",
       "      <th>OBV_lag_4</th>\n",
       "      <th>OBV_lag_5</th>\n",
       "      <th>gain_loss_pct</th>\n",
       "      <th>win</th>\n",
       "    </tr>\n",
       "  </thead>\n",
       "  <tbody>\n",
       "    <tr>\n",
       "      <th>953</th>\n",
       "      <td>2005-01-01</td>\n",
       "      <td>-0.497876</td>\n",
       "      <td>-0.496862</td>\n",
       "      <td>-0.497650</td>\n",
       "      <td>-0.496733</td>\n",
       "      <td>-0.450456</td>\n",
       "      <td>36.113739</td>\n",
       "      <td>AAPL</td>\n",
       "      <td>-0.805879</td>\n",
       "      <td>0.583648</td>\n",
       "      <td>...</td>\n",
       "      <td>0.800159</td>\n",
       "      <td>0.954954</td>\n",
       "      <td>0.967344</td>\n",
       "      <td>-6.249355</td>\n",
       "      <td>-6.249623</td>\n",
       "      <td>-6.250280</td>\n",
       "      <td>-6.248141</td>\n",
       "      <td>-6.246777</td>\n",
       "      <td>1.443757</td>\n",
       "      <td>1</td>\n",
       "    </tr>\n",
       "    <tr>\n",
       "      <th>954</th>\n",
       "      <td>2005-01-08</td>\n",
       "      <td>-0.497349</td>\n",
       "      <td>-0.496377</td>\n",
       "      <td>-0.497575</td>\n",
       "      <td>-0.496634</td>\n",
       "      <td>-0.450371</td>\n",
       "      <td>75.058095</td>\n",
       "      <td>AAPL</td>\n",
       "      <td>-2.215210</td>\n",
       "      <td>-0.005819</td>\n",
       "      <td>...</td>\n",
       "      <td>0.970425</td>\n",
       "      <td>0.800166</td>\n",
       "      <td>0.954961</td>\n",
       "      <td>-6.298288</td>\n",
       "      <td>-6.249074</td>\n",
       "      <td>-6.249342</td>\n",
       "      <td>-6.250000</td>\n",
       "      <td>-6.247860</td>\n",
       "      <td>0.054783</td>\n",
       "      <td>1</td>\n",
       "    </tr>\n",
       "    <tr>\n",
       "      <th>955</th>\n",
       "      <td>2005-01-15</td>\n",
       "      <td>-0.497347</td>\n",
       "      <td>-0.496663</td>\n",
       "      <td>-0.497097</td>\n",
       "      <td>-0.496604</td>\n",
       "      <td>-0.450346</td>\n",
       "      <td>23.887793</td>\n",
       "      <td>AAPL</td>\n",
       "      <td>-3.294118</td>\n",
       "      <td>-0.707636</td>\n",
       "      <td>...</td>\n",
       "      <td>1.034995</td>\n",
       "      <td>0.970432</td>\n",
       "      <td>0.800173</td>\n",
       "      <td>-6.196910</td>\n",
       "      <td>-6.298005</td>\n",
       "      <td>-6.248793</td>\n",
       "      <td>-6.249062</td>\n",
       "      <td>-6.249719</td>\n",
       "      <td>0.139038</td>\n",
       "      <td>1</td>\n",
       "    </tr>\n",
       "    <tr>\n",
       "      <th>956</th>\n",
       "      <td>2005-01-22</td>\n",
       "      <td>-0.497229</td>\n",
       "      <td>-0.496422</td>\n",
       "      <td>-0.496797</td>\n",
       "      <td>-0.496242</td>\n",
       "      <td>-0.450036</td>\n",
       "      <td>25.660756</td>\n",
       "      <td>AAPL</td>\n",
       "      <td>-4.101576</td>\n",
       "      <td>-1.441405</td>\n",
       "      <td>...</td>\n",
       "      <td>-1.908937</td>\n",
       "      <td>1.035001</td>\n",
       "      <td>0.970439</td>\n",
       "      <td>-6.164441</td>\n",
       "      <td>-6.196632</td>\n",
       "      <td>-6.297723</td>\n",
       "      <td>-6.248513</td>\n",
       "      <td>-6.248781</td>\n",
       "      <td>0.860787</td>\n",
       "      <td>1</td>\n",
       "    </tr>\n",
       "    <tr>\n",
       "      <th>957</th>\n",
       "      <td>2005-01-29</td>\n",
       "      <td>-0.496854</td>\n",
       "      <td>-0.495821</td>\n",
       "      <td>-0.496372</td>\n",
       "      <td>-0.495736</td>\n",
       "      <td>-0.449605</td>\n",
       "      <td>31.220490</td>\n",
       "      <td>AAPL</td>\n",
       "      <td>-4.687041</td>\n",
       "      <td>-2.153361</td>\n",
       "      <td>...</td>\n",
       "      <td>-1.908791</td>\n",
       "      <td>-1.908927</td>\n",
       "      <td>1.035009</td>\n",
       "      <td>-6.129584</td>\n",
       "      <td>-6.164164</td>\n",
       "      <td>-6.196353</td>\n",
       "      <td>-6.297440</td>\n",
       "      <td>-6.248232</td>\n",
       "      <td>1.184667</td>\n",
       "      <td>1</td>\n",
       "    </tr>\n",
       "    <tr>\n",
       "      <th>...</th>\n",
       "      <td>...</td>\n",
       "      <td>...</td>\n",
       "      <td>...</td>\n",
       "      <td>...</td>\n",
       "      <td>...</td>\n",
       "      <td>...</td>\n",
       "      <td>...</td>\n",
       "      <td>...</td>\n",
       "      <td>...</td>\n",
       "      <td>...</td>\n",
       "      <td>...</td>\n",
       "      <td>...</td>\n",
       "      <td>...</td>\n",
       "      <td>...</td>\n",
       "      <td>...</td>\n",
       "      <td>...</td>\n",
       "      <td>...</td>\n",
       "      <td>...</td>\n",
       "      <td>...</td>\n",
       "      <td>...</td>\n",
       "      <td>...</td>\n",
       "    </tr>\n",
       "    <tr>\n",
       "      <th>455368</th>\n",
       "      <td>2023-11-25</td>\n",
       "      <td>1.300387</td>\n",
       "      <td>1.248745</td>\n",
       "      <td>1.299685</td>\n",
       "      <td>1.283046</td>\n",
       "      <td>1.344140</td>\n",
       "      <td>-0.214561</td>\n",
       "      <td>BIO</td>\n",
       "      <td>-1.762781</td>\n",
       "      <td>-1.712488</td>\n",
       "      <td>...</td>\n",
       "      <td>-0.939853</td>\n",
       "      <td>-1.357087</td>\n",
       "      <td>-1.820190</td>\n",
       "      <td>1.223875</td>\n",
       "      <td>1.223835</td>\n",
       "      <td>1.223817</td>\n",
       "      <td>1.223761</td>\n",
       "      <td>1.223713</td>\n",
       "      <td>-0.200466</td>\n",
       "      <td>-1</td>\n",
       "    </tr>\n",
       "    <tr>\n",
       "      <th>455369</th>\n",
       "      <td>2023-12-02</td>\n",
       "      <td>1.277312</td>\n",
       "      <td>1.280437</td>\n",
       "      <td>1.313742</td>\n",
       "      <td>1.266341</td>\n",
       "      <td>1.327306</td>\n",
       "      <td>-0.214341</td>\n",
       "      <td>BIO</td>\n",
       "      <td>-1.719633</td>\n",
       "      <td>-1.736968</td>\n",
       "      <td>...</td>\n",
       "      <td>-1.046805</td>\n",
       "      <td>-0.939844</td>\n",
       "      <td>-1.357077</td>\n",
       "      <td>1.223863</td>\n",
       "      <td>1.223840</td>\n",
       "      <td>1.223800</td>\n",
       "      <td>1.223782</td>\n",
       "      <td>1.223726</td>\n",
       "      <td>-0.125076</td>\n",
       "      <td>-1</td>\n",
       "    </tr>\n",
       "    <tr>\n",
       "      <th>455370</th>\n",
       "      <td>2023-12-09</td>\n",
       "      <td>1.278071</td>\n",
       "      <td>1.335034</td>\n",
       "      <td>1.255892</td>\n",
       "      <td>1.277924</td>\n",
       "      <td>1.338978</td>\n",
       "      <td>-0.208835</td>\n",
       "      <td>BIO</td>\n",
       "      <td>-1.656665</td>\n",
       "      <td>-1.743115</td>\n",
       "      <td>...</td>\n",
       "      <td>-0.776454</td>\n",
       "      <td>-1.046796</td>\n",
       "      <td>-0.939834</td>\n",
       "      <td>1.223851</td>\n",
       "      <td>1.223828</td>\n",
       "      <td>1.223805</td>\n",
       "      <td>1.223764</td>\n",
       "      <td>1.223747</td>\n",
       "      <td>0.007847</td>\n",
       "      <td>0</td>\n",
       "    </tr>\n",
       "    <tr>\n",
       "      <th>455371</th>\n",
       "      <td>2023-12-16</td>\n",
       "      <td>1.303308</td>\n",
       "      <td>1.336508</td>\n",
       "      <td>1.331884</td>\n",
       "      <td>1.363023</td>\n",
       "      <td>1.424733</td>\n",
       "      <td>-0.212919</td>\n",
       "      <td>BIO</td>\n",
       "      <td>-1.518174</td>\n",
       "      <td>-1.718477</td>\n",
       "      <td>...</td>\n",
       "      <td>-0.872208</td>\n",
       "      <td>-0.776445</td>\n",
       "      <td>-1.046787</td>\n",
       "      <td>1.223871</td>\n",
       "      <td>1.223816</td>\n",
       "      <td>1.223793</td>\n",
       "      <td>1.223770</td>\n",
       "      <td>1.223729</td>\n",
       "      <td>0.732549</td>\n",
       "      <td>1</td>\n",
       "    </tr>\n",
       "    <tr>\n",
       "      <th>455372</th>\n",
       "      <td>2023-12-23</td>\n",
       "      <td>1.370607</td>\n",
       "      <td>1.347733</td>\n",
       "      <td>1.401208</td>\n",
       "      <td>1.375538</td>\n",
       "      <td>1.437344</td>\n",
       "      <td>-0.220221</td>\n",
       "      <td>BIO</td>\n",
       "      <td>-1.382032</td>\n",
       "      <td>-1.669714</td>\n",
       "      <td>...</td>\n",
       "      <td>-0.850541</td>\n",
       "      <td>-0.872199</td>\n",
       "      <td>-0.776436</td>\n",
       "      <td>1.223885</td>\n",
       "      <td>1.223835</td>\n",
       "      <td>1.223781</td>\n",
       "      <td>1.223758</td>\n",
       "      <td>1.223734</td>\n",
       "      <td>0.067633</td>\n",
       "      <td>1</td>\n",
       "    </tr>\n",
       "  </tbody>\n",
       "</table>\n",
       "<p>393428 rows × 128 columns</p>\n",
       "</div>"
      ],
      "text/plain": [
       "             Date      Open      High       Low     Close  Adj Close  \\\n",
       "953    2005-01-01 -0.497876 -0.496862 -0.497650 -0.496733  -0.450456   \n",
       "954    2005-01-08 -0.497349 -0.496377 -0.497575 -0.496634  -0.450371   \n",
       "955    2005-01-15 -0.497347 -0.496663 -0.497097 -0.496604  -0.450346   \n",
       "956    2005-01-22 -0.497229 -0.496422 -0.496797 -0.496242  -0.450036   \n",
       "957    2005-01-29 -0.496854 -0.495821 -0.496372 -0.495736  -0.449605   \n",
       "...           ...       ...       ...       ...       ...        ...   \n",
       "455368 2023-11-25  1.300387  1.248745  1.299685  1.283046   1.344140   \n",
       "455369 2023-12-02  1.277312  1.280437  1.313742  1.266341   1.327306   \n",
       "455370 2023-12-09  1.278071  1.335034  1.255892  1.277924   1.338978   \n",
       "455371 2023-12-16  1.303308  1.336508  1.331884  1.363023   1.424733   \n",
       "455372 2023-12-23  1.370607  1.347733  1.401208  1.375538   1.437344   \n",
       "\n",
       "           Volume Ticker      macd  macd_signal  ...  WILLR_14_lag_3  \\\n",
       "953     36.113739   AAPL -0.805879     0.583648  ...        0.800159   \n",
       "954     75.058095   AAPL -2.215210    -0.005819  ...        0.970425   \n",
       "955     23.887793   AAPL -3.294118    -0.707636  ...        1.034995   \n",
       "956     25.660756   AAPL -4.101576    -1.441405  ...       -1.908937   \n",
       "957     31.220490   AAPL -4.687041    -2.153361  ...       -1.908791   \n",
       "...           ...    ...       ...          ...  ...             ...   \n",
       "455368  -0.214561    BIO -1.762781    -1.712488  ...       -0.939853   \n",
       "455369  -0.214341    BIO -1.719633    -1.736968  ...       -1.046805   \n",
       "455370  -0.208835    BIO -1.656665    -1.743115  ...       -0.776454   \n",
       "455371  -0.212919    BIO -1.518174    -1.718477  ...       -0.872208   \n",
       "455372  -0.220221    BIO -1.382032    -1.669714  ...       -0.850541   \n",
       "\n",
       "        WILLR_14_lag_4  WILLR_14_lag_5  OBV_lag_1  OBV_lag_2  OBV_lag_3  \\\n",
       "953           0.954954        0.967344  -6.249355  -6.249623  -6.250280   \n",
       "954           0.800166        0.954961  -6.298288  -6.249074  -6.249342   \n",
       "955           0.970432        0.800173  -6.196910  -6.298005  -6.248793   \n",
       "956           1.035001        0.970439  -6.164441  -6.196632  -6.297723   \n",
       "957          -1.908927        1.035009  -6.129584  -6.164164  -6.196353   \n",
       "...                ...             ...        ...        ...        ...   \n",
       "455368       -1.357087       -1.820190   1.223875   1.223835   1.223817   \n",
       "455369       -0.939844       -1.357077   1.223863   1.223840   1.223800   \n",
       "455370       -1.046796       -0.939834   1.223851   1.223828   1.223805   \n",
       "455371       -0.776445       -1.046787   1.223871   1.223816   1.223793   \n",
       "455372       -0.872199       -0.776436   1.223885   1.223835   1.223781   \n",
       "\n",
       "        OBV_lag_4  OBV_lag_5  gain_loss_pct  win  \n",
       "953     -6.248141  -6.246777       1.443757    1  \n",
       "954     -6.250000  -6.247860       0.054783    1  \n",
       "955     -6.249062  -6.249719       0.139038    1  \n",
       "956     -6.248513  -6.248781       0.860787    1  \n",
       "957     -6.297440  -6.248232       1.184667    1  \n",
       "...           ...        ...            ...  ...  \n",
       "455368   1.223761   1.223713      -0.200466   -1  \n",
       "455369   1.223782   1.223726      -0.125076   -1  \n",
       "455370   1.223764   1.223747       0.007847    0  \n",
       "455371   1.223770   1.223729       0.732549    1  \n",
       "455372   1.223758   1.223734       0.067633    1  \n",
       "\n",
       "[393428 rows x 128 columns]"
      ]
     },
     "execution_count": 88,
     "metadata": {},
     "output_type": "execute_result"
    }
   ],
   "source": [
    "#check when the stocks first appeared\n",
    "first_appearance_dates = pd.to_datetime(first_appearance_dates)\n",
    "\n",
    "#cutoff date 2005-01-01\n",
    "cutoff_date = pd.Timestamp('2005-01-01')\n",
    "\n",
    "#Only keeop stocks that have appeared on/before 2005-01-01\n",
    "valid_tickers = first_appearance_dates[first_appearance_dates <= cutoff_date].index\n",
    "\n",
    "data_yf = data_yf[data_yf['Ticker'].isin(valid_tickers)]\n",
    "\n",
    "data_yf"
   ]
  },
  {
   "cell_type": "code",
   "execution_count": 89,
   "metadata": {},
   "outputs": [
    {
     "data": {
      "text/plain": [
       "((393428, 128),\n",
       " Index(['Date', 'Open', 'High', 'Low', 'Close', 'Adj Close', 'Volume', 'Ticker',\n",
       "        'macd', 'macd_signal',\n",
       "        ...\n",
       "        'WILLR_14_lag_3', 'WILLR_14_lag_4', 'WILLR_14_lag_5', 'OBV_lag_1',\n",
       "        'OBV_lag_2', 'OBV_lag_3', 'OBV_lag_4', 'OBV_lag_5', 'gain_loss_pct',\n",
       "        'win'],\n",
       "       dtype='object', length=128),\n",
       "                 Open           High            Low          Close  \\\n",
       " count  393428.000000  393428.000000  393428.000000  393428.000000   \n",
       " mean       -0.002873      -0.003281      -0.002488      -0.002932   \n",
       " std         1.032518       1.032349       1.032678       1.032480   \n",
       " min        -0.502571      -0.501712      -0.502339      -0.501878   \n",
       " 25%        -0.338491      -0.337797      -0.338804      -0.338156   \n",
       " 50%        -0.208159      -0.208249      -0.207725      -0.207993   \n",
       " 75%         0.022478       0.021137       0.023969       0.022208   \n",
       " max        40.376776      39.607501      41.189242      40.244100   \n",
       " \n",
       "            Adj Close         Volume           macd    macd_signal  \\\n",
       " count  393428.000000  393428.000000  393428.000000  393428.000000   \n",
       " mean       -0.006183       0.005886      -0.000263      -0.000115   \n",
       " std         1.032090       1.059264       1.016812       1.016607   \n",
       " min        -0.454527      -0.223399     -98.810864     -92.044000   \n",
       " 25%        -0.331006      -0.188258      -0.047196      -0.046803   \n",
       " 50%        -0.220803      -0.148431       0.026848       0.028128   \n",
       " 75%         0.004657      -0.051850       0.111024       0.113367   \n",
       " max        40.605178      75.058095      21.714402      20.316741   \n",
       " \n",
       "                  rsi        bb_high  ...  WILLR_14_lag_3  WILLR_14_lag_4  \\\n",
       " count  393428.000000  393428.000000  ...   393428.000000   393428.000000   \n",
       " mean       -0.000798      -0.004977  ...       -0.000644       -0.000589   \n",
       " std         0.989467       1.030211  ...        0.998574        0.998575   \n",
       " min        -3.458820      -0.489491  ...       -1.909963       -1.909952   \n",
       " 25%        -0.630119      -0.331566  ...       -0.856157       -0.856092   \n",
       " 50%         0.052300      -0.209445  ...        0.153139        0.153217   \n",
       " 75%         0.688861       0.013520  ...        0.910042        0.910099   \n",
       " max         3.624402      48.980237  ...        1.400294        1.400300   \n",
       " \n",
       "        WILLR_14_lag_5      OBV_lag_1      OBV_lag_2      OBV_lag_3  \\\n",
       " count   393428.000000  393428.000000  393428.000000  393428.000000   \n",
       " mean        -0.000540      -0.005481      -0.005481      -0.005481   \n",
       " std          0.998550       0.963301       0.963306       0.963311   \n",
       " min         -1.909942      -6.298288      -6.298005      -6.297723   \n",
       " 25%         -0.855961      -0.657676      -0.657633      -0.657590   \n",
       " 50%          0.153319       0.234098       0.234100       0.234102   \n",
       " 75%          0.910093       0.725498       0.725482       0.725468   \n",
       " max          1.400307       1.224108       1.224073       1.224038   \n",
       " \n",
       "            OBV_lag_4      OBV_lag_5  gain_loss_pct            win  \n",
       " count  393428.000000  393428.000000  393428.000000  393428.000000  \n",
       " mean       -0.005480      -0.005480      -0.004147       0.034489  \n",
       " std         0.963317       0.963322       0.963443       0.946213  \n",
       " min        -6.297440      -6.297158     -13.082347      -1.000000  \n",
       " 25%        -0.657557      -0.657541      -0.457307      -1.000000  \n",
       " 50%         0.234104       0.234106      -0.005994       0.000000  \n",
       " 75%         0.725452       0.725438       0.438107       1.000000  \n",
       " max         1.224002       1.223967      25.155897       1.000000  \n",
       " \n",
       " [8 rows x 116 columns])"
      ]
     },
     "execution_count": 89,
     "metadata": {},
     "output_type": "execute_result"
    }
   ],
   "source": [
    "data_yf.shape, data_yf.columns, data_yf.describe()"
   ]
  },
  {
   "cell_type": "code",
   "execution_count": 92,
   "metadata": {},
   "outputs": [
    {
     "data": {
      "text/plain": [
       "397"
      ]
     },
     "execution_count": 92,
     "metadata": {},
     "output_type": "execute_result"
    }
   ],
   "source": [
    "len(data_yf['Ticker'].unique())"
   ]
  },
  {
   "cell_type": "code",
   "execution_count": 90,
   "metadata": {},
   "outputs": [],
   "source": [
    "# create csv with features data\n",
    "data_yf.to_csv('data/all_stock_data.csv', index=False)"
   ]
  },
  {
   "cell_type": "code",
   "execution_count": 46,
   "metadata": {},
   "outputs": [],
   "source": [
    "data_yf = pd.read_csv('data/all_stock_data.csv')"
   ]
  },
  {
   "cell_type": "code",
   "execution_count": 93,
   "metadata": {},
   "outputs": [],
   "source": [
    "from sklearn.preprocessing import StandardScaler\n",
    "\n",
    "float_columns = data_yf.select_dtypes(include=['float64']).columns\n",
    "\n",
    "# Initialize the StandardScaler\n",
    "scaler = StandardScaler()\n",
    "\n",
    "# Standardize only the float columns\n",
    "data_yf[float_columns] = scaler.fit_transform(data_yf[float_columns])"
   ]
  },
  {
   "cell_type": "code",
   "execution_count": 94,
   "metadata": {},
   "outputs": [
    {
     "data": {
      "text/plain": [
       "Date             0\n",
       "Open             0\n",
       "High             0\n",
       "Low              0\n",
       "Close            0\n",
       "                ..\n",
       "OBV_lag_3        0\n",
       "OBV_lag_4        0\n",
       "OBV_lag_5        0\n",
       "gain_loss_pct    0\n",
       "win              0\n",
       "Length: 128, dtype: int64"
      ]
     },
     "execution_count": 94,
     "metadata": {},
     "output_type": "execute_result"
    }
   ],
   "source": [
    "data_yf.isna().sum()"
   ]
  },
  {
   "cell_type": "code",
   "execution_count": 95,
   "metadata": {},
   "outputs": [],
   "source": [
    "# create csv with features data\n",
    "data_yf.to_csv('data/all_stock_data.csv', index=False)"
   ]
  }
 ],
 "metadata": {
  "kernelspec": {
   "display_name": "Python 3",
   "language": "python",
   "name": "python3"
  },
  "language_info": {
   "codemirror_mode": {
    "name": "ipython",
    "version": 3
   },
   "file_extension": ".py",
   "mimetype": "text/x-python",
   "name": "python",
   "nbconvert_exporter": "python",
   "pygments_lexer": "ipython3",
   "version": "3.11.4"
  }
 },
 "nbformat": 4,
 "nbformat_minor": 2
}
