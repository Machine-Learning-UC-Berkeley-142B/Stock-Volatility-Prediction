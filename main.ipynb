{
 "cells": [
  {
   "cell_type": "markdown",
   "metadata": {},
   "source": [
    "# BEFORE YOU START: READ THIS\n",
    "\n",
    "1. install required packages\n",
    "2. get your API key from alpha vantage\n",
    "3. run each cell through CHAT GPT or search in Google to see what eat term means\n",
    "4. right now, all i have done is download APPLE data and do feature engineering on it.\n",
    "\n",
    "# NEXT STEPS:\n",
    "5. Need to create functions to do the feature engineering on 100 stocks for example\n",
    "6. Need to create the model to identify 10 stocks to hold and identify buy/sell triggers\n",
    "7. Need to find NEWS API to include in the model."
   ]
  },
  {
   "cell_type": "code",
   "execution_count": 42,
   "metadata": {},
   "outputs": [],
   "source": [
    "# Install required packages in the folllowing few cells"
   ]
  },
  {
   "cell_type": "code",
   "execution_count": 43,
   "metadata": {},
   "outputs": [],
   "source": [
    "%%capture\n",
    " # capture hides output\n",
    "!pip install yfinance pandas numpy scikit-learn ta pandas_ta xgboost"
   ]
  },
  {
   "cell_type": "code",
   "execution_count": 44,
   "metadata": {},
   "outputs": [],
   "source": [
    "%%capture\n",
    "# hidden output\n",
    "!pip install alpha_vantage"
   ]
  },
  {
   "cell_type": "code",
   "execution_count": 45,
   "metadata": {},
   "outputs": [],
   "source": [
    "%%capture\n",
    "# hidden output, !pip install is required to run just on a machine\n",
    "!pip install requests pandas_datareader\n"
   ]
  },
  {
   "cell_type": "markdown",
   "metadata": {},
   "source": [
    "#### IMPORTS"
   ]
  },
  {
   "cell_type": "code",
   "execution_count": 46,
   "metadata": {},
   "outputs": [],
   "source": [
    "import numpy as np\n",
    "import pandas as pd\n",
    "from alpha_vantage.timeseries import TimeSeries\n",
    "import matplotlib.pyplot as plt\n",
    "from datetime import date\n",
    "from datetime import datetime\n",
    "from datetime import time\n",
    "from datetime import timedelta\n",
    "from pandas.tseries.offsets import BDay\n",
    "import matplotlib.lines as mlines\n",
    "from dotenv import load_dotenv\n",
    "import os\n",
    "import matplotlib.patches as patches\n",
    "import seaborn as sns\n",
    "import warnings\n",
    "import requests\n",
    "import json\n",
    "import pandas_ta as ta\n",
    "from ta import trend, volatility, momentum, volume\n",
    "\n",
    "\n",
    "from numpy import array\n",
    "from importlib import reload # to reload modules if we made changes to them without restarting kernel\n"
   ]
  },
  {
   "cell_type": "markdown",
   "metadata": {},
   "source": [
    "### ALPHA VANTAGE DATA"
   ]
  },
  {
   "cell_type": "markdown",
   "metadata": {},
   "source": [
    "#### AAPL TICKER\n"
   ]
  },
  {
   "cell_type": "code",
   "execution_count": 47,
   "metadata": {},
   "outputs": [
    {
     "name": "stdout",
     "output_type": "stream",
     "text": [
      "{\n",
      "    \"symbol\": \"AAPL\",\n",
      "    \"annualReports\": [\n",
      "        {\n",
      "            \"fiscalDateEnding\": \"2023-09-30\",\n",
      "            \"reportedCurrency\": \"USD\",\n",
      "            \"operatingCashflow\": \"110543000000\",\n",
      "            \"paymentsForOperatingActivities\": \"5703000000\",\n",
      "            \"proceedsFromOperatingActivities\": \"None\",\n",
      "            \"changeInOperatingLiabilities\": \"1142000000\",\n",
      "            \"changeInOperatingAssets\": \"7719000000\",\n",
      "            \"depreciationDepletionAndAmortization\": \"11519000000\",\n",
      "            \"capitalExpenditures\": \"10959000000\",\n",
      "            \"changeInReceivables\": \"417000000\",\n",
      "            \"changeInInventory\": \"1618000000\",\n",
      "            \"profitLoss\": \"96995000000\",\n",
      "            \"cashflowFromInvestment\": \"3705000000\",\n",
      "            \"cashflowFromFinancing\": \"-108488000000\",\n",
      "            \"proceedsFromRepaymentsOfShortTermDebt\": \"-7956000000\",\n",
      "            \"paymentsForRepurchaseOfCommonStock\": \"77550000000\",\n",
      "            \"paymentsForRepurchaseOfEquity\": \"77550000000\",\n",
      "            \"paymentsForRepurchaseOfPreferredStock\": \"None\",\n",
      "            \"dividendPayout\": \"15025000000\",\n",
      "            \"dividendPayoutCommonStock\": \"15025000000\",\n",
      "            \"dividendPayoutPreferredStock\": \"None\",\n",
      "            \"proceedsFromIssuanceOfCommonStock\": \"None\",\n",
      "            \"proceedsFromIssuanceOfLongTermDebtAndCapitalSecuritiesNet\": \"5228000000\",\n",
      "            \"proceedsFromIssuanceOfPreferredStock\": \"None\",\n",
      "            \"proceedsFromRepurchaseOfEquity\": \"-77550000000\",\n",
      "            \"proceedsFromSaleOfTreasuryStock\": \"None\",\n",
      "            \"changeInCashAndCashEquivalents\": \"5760000000\",\n",
      "            \"changeInExchangeRate\": \"None\",\n",
      "            \"netIncome\": \"96995000000\"\n",
      "        },\n",
      "        {\n",
      "            \"fiscalDateEnding\": \"2022-09-30\",\n",
      "            \"reportedCurrency\": \"USD\",\n",
      "            \"operatingCashflow\": \"122151000000\",\n",
      "            \"paymentsForOperatingActivities\": \"4665000000\",\n",
      "            \"proceedsFromOperatingActivities\": \"None\",\n",
      "            \"changeInOperatingLiabilities\": \"15558000000\",\n",
      "            \"changeInOperatingAssets\": \"14358000000\",\n",
      "            \"depreciationDepletionAndAmortization\": \"11104000000\",\n",
      "            \"capitalExpenditures\": \"10708000000\",\n",
      "            \"changeInReceivables\": \"9343000000\",\n",
      "            \"changeInInventory\": \"-1484000000\",\n",
      "            \"profitLoss\": \"99803000000\",\n",
      "            \"cashflowFromInvestment\": \"-22354000000\",\n",
      "            \"cashflowFromFinancing\": \"-110749000000\",\n",
      "            \"proceedsFromRepaymentsOfShortTermDebt\": \"7910000000\",\n",
      "            \"paymentsForRepurchaseOfCommonStock\": \"89402000000\",\n",
      "            \"paymentsForRepurchaseOfEquity\": \"89402000000\",\n",
      "            \"paymentsForRepurchaseOfPreferredStock\": \"None\",\n",
      "            \"dividendPayout\": \"14841000000\",\n",
      "            \"dividendPayoutCommonStock\": \"14841000000\",\n",
      "            \"dividendPayoutPreferredStock\": \"None\",\n",
      "            \"proceedsFromIssuanceOfCommonStock\": \"None\",\n",
      "            \"proceedsFromIssuanceOfLongTermDebtAndCapitalSecuritiesNet\": \"5465000000\",\n",
      "            \"proceedsFromIssuanceOfPreferredStock\": \"None\",\n",
      "            \"proceedsFromRepurchaseOfEquity\": \"-89402000000\",\n",
      "            \"proceedsFromSaleOfTreasuryStock\": \"None\",\n",
      "            \"changeInCashAndCashEquivalents\": \"-10952000000\",\n",
      "            \"changeInExchangeRate\": \"None\",\n",
      "            \"netIncome\": \"99803000000\"\n",
      "        },\n",
      "        {\n",
      "            \"fiscalDateEnding\": \"2021-09-30\",\n",
      "            \"reportedCurrency\": \"USD\",\n",
      "            \"operatingCashflow\": \"104038000000\",\n",
      "            \"paymentsForOperatingActivities\": \"4087000000\",\n",
      "            \"proceedsFromOperatingActivities\": \"None\",\n",
      "            \"changeInOperatingLiabilities\": \"19801000000\",\n",
      "            \"changeInOperatingAssets\": \"24712000000\",\n",
      "            \"depreciationDepletionAndAmortization\": \"11284000000\",\n",
      "            \"capitalExpenditures\": \"11085000000\",\n",
      "            \"changeInReceivables\": \"14028000000\",\n",
      "            \"changeInInventory\": \"2642000000\",\n",
      "            \"profitLoss\": \"94680000000\",\n",
      "            \"cashflowFromInvestment\": \"-14545000000\",\n",
      "            \"cashflowFromFinancing\": \"-93353000000\",\n",
      "            \"proceedsFromRepaymentsOfShortTermDebt\": \"2044000000\",\n",
      "            \"paymentsForRepurchaseOfCommonStock\": \"85971000000\",\n",
      "            \"paymentsForRepurchaseOfEquity\": \"85971000000\",\n",
      "            \"paymentsForRepurchaseOfPreferredStock\": \"None\",\n",
      "            \"dividendPayout\": \"14467000000\",\n",
      "            \"dividendPayoutCommonStock\": \"14467000000\",\n",
      "            \"dividendPayoutPreferredStock\": \"None\",\n",
      "            \"proceedsFromIssuanceOfCommonStock\": \"1105000000\",\n",
      "            \"proceedsFromIssuanceOfLongTermDebtAndCapitalSecuritiesNet\": \"20393000000\",\n",
      "            \"proceedsFromIssuanceOfPreferredStock\": \"None\",\n",
      "            \"proceedsFromRepurchaseOfEquity\": \"-84866000000\",\n",
      "            \"proceedsFromSaleOfTreasuryStock\": \"None\",\n",
      "            \"changeInCashAndCashEquivalents\": \"-3860000000\",\n",
      "            \"changeInExchangeRate\": \"None\",\n",
      "            \"netIncome\": \"94680000000\"\n",
      "        },\n",
      "        {\n",
      "            \"fiscalDateEnding\": \"2020-09-30\",\n",
      "            \"reportedCurrency\": \"USD\",\n",
      "            \"operatingCashflow\": \"80674000000\",\n",
      "            \"paymentsForOperatingActivities\": \"4502000000\",\n",
      "            \"proceedsFromOperatingActivities\": \"None\",\n",
      "            \"changeInOperatingLiabilities\": \"6935000000\",\n",
      "            \"changeInOperatingAssets\": \"1245000000\",\n",
      "            \"depreciationDepletionAndAmortization\": \"11056000000\",\n",
      "            \"capitalExpenditures\": \"7309000000\",\n",
      "            \"changeInReceivables\": \"-8470000000\",\n",
      "            \"changeInInventory\": \"127000000\",\n",
      "            \"profitLoss\": \"57411000000\",\n",
      "            \"cashflowFromInvestment\": \"-4289000000\",\n",
      "            \"cashflowFromFinancing\": \"-86820000000\",\n",
      "            \"proceedsFromRepaymentsOfShortTermDebt\": \"-1926000000\",\n",
      "            \"paymentsForRepurchaseOfCommonStock\": \"72358000000\",\n",
      "            \"paymentsForRepurchaseOfEquity\": \"72358000000\",\n",
      "            \"paymentsForRepurchaseOfPreferredStock\": \"None\",\n",
      "            \"dividendPayout\": \"14081000000\",\n",
      "            \"dividendPayoutCommonStock\": \"14081000000\",\n",
      "            \"dividendPayoutPreferredStock\": \"None\",\n",
      "            \"proceedsFromIssuanceOfCommonStock\": \"880000000\",\n",
      "            \"proceedsFromIssuanceOfLongTermDebtAndCapitalSecuritiesNet\": \"16091000000\",\n",
      "            \"proceedsFromIssuanceOfPreferredStock\": \"None\",\n",
      "            \"proceedsFromRepurchaseOfEquity\": \"-71478000000\",\n",
      "            \"proceedsFromSaleOfTreasuryStock\": \"None\",\n",
      "            \"changeInCashAndCashEquivalents\": \"-10435000000\",\n",
      "            \"changeInExchangeRate\": \"None\",\n",
      "            \"netIncome\": \"57411000000\"\n",
      "        },\n",
      "        {\n",
      "            \"fiscalDateEnding\": \"2019-09-30\",\n",
      "            \"reportedCurrency\": \"USD\",\n",
      "            \"operatingCashflow\": \"69391000000\",\n",
      "            \"paymentsForOperatingActivities\": \"3423000000\",\n",
      "            \"proceedsFromOperatingActivities\": \"None\",\n",
      "            \"changeInOperatingLiabilities\": \"-7248000000\",\n",
      "            \"changeInOperatingAssets\": \"-3760000000\",\n",
      "            \"depreciationDepletionAndAmortization\": \"12547000000\",\n",
      "            \"capitalExpenditures\": \"10495000000\",\n",
      "            \"changeInReceivables\": \"-3176000000\",\n",
      "            \"changeInInventory\": \"289000000\",\n",
      "            \"profitLoss\": \"55256000000\",\n",
      "            \"cashflowFromInvestment\": \"45896000000\",\n",
      "            \"cashflowFromFinancing\": \"-90976000000\",\n",
      "            \"proceedsFromRepaymentsOfShortTermDebt\": \"-11954000000\",\n",
      "            \"paymentsForRepurchaseOfCommonStock\": \"66897000000\",\n",
      "            \"paymentsForRepurchaseOfEquity\": \"66897000000\",\n",
      "            \"paymentsForRepurchaseOfPreferredStock\": \"None\",\n",
      "            \"dividendPayout\": \"14119000000\",\n",
      "            \"dividendPayoutCommonStock\": \"14119000000\",\n",
      "            \"dividendPayoutPreferredStock\": \"None\",\n",
      "            \"proceedsFromIssuanceOfCommonStock\": \"781000000\",\n",
      "            \"proceedsFromIssuanceOfLongTermDebtAndCapitalSecuritiesNet\": \"6963000000\",\n",
      "            \"proceedsFromIssuanceOfPreferredStock\": \"None\",\n",
      "            \"proceedsFromRepurchaseOfEquity\": \"-66116000000\",\n",
      "            \"proceedsFromSaleOfTreasuryStock\": \"None\",\n",
      "            \"changeInCashAndCashEquivalents\": \"24311000000\",\n",
      "            \"changeInExchangeRate\": \"None\",\n",
      "            \"netIncome\": \"55256000000\"\n",
      "        },\n",
      "        {\n",
      "            \"fiscalDateEnding\": \"2018-09-30\",\n",
      "            \"reportedCurrency\": \"USD\",\n",
      "            \"operatingCashflow\": \"77434000000\",\n",
      "            \"paymentsForOperatingActivities\": \"3022000000\",\n",
      "            \"proceedsFromOperatingActivities\": \"None\",\n",
      "            \"changeInOperatingLiabilities\": \"47665000000\",\n",
      "            \"changeInOperatingAssets\": \"12927000000\",\n",
      "            \"depreciationDepletionAndAmortization\": \"10903000000\",\n",
      "            \"capitalExpenditures\": \"13313000000\",\n",
      "            \"changeInReceivables\": \"13332000000\",\n",
      "            \"changeInInventory\": \"-828000000\",\n",
      "            \"profitLoss\": \"59531000000\",\n",
      "            \"cashflowFromInvestment\": \"16066000000\",\n",
      "            \"cashflowFromFinancing\": \"-87876000000\",\n",
      "            \"proceedsFromRepaymentsOfShortTermDebt\": \"-74000000\",\n",
      "            \"paymentsForRepurchaseOfCommonStock\": \"72738000000\",\n",
      "            \"paymentsForRepurchaseOfEquity\": \"72738000000\",\n",
      "            \"paymentsForRepurchaseOfPreferredStock\": \"None\",\n",
      "            \"dividendPayout\": \"13712000000\",\n",
      "            \"dividendPayoutCommonStock\": \"13712000000\",\n",
      "            \"dividendPayoutPreferredStock\": \"None\",\n",
      "            \"proceedsFromIssuanceOfCommonStock\": \"669000000\",\n",
      "            \"proceedsFromIssuanceOfLongTermDebtAndCapitalSecuritiesNet\": \"6969000000\",\n",
      "            \"proceedsFromIssuanceOfPreferredStock\": \"None\",\n",
      "            \"proceedsFromRepurchaseOfEquity\": \"-72069000000\",\n",
      "            \"proceedsFromSaleOfTreasuryStock\": \"None\",\n",
      "            \"changeInCashAndCashEquivalents\": \"5624000000\",\n",
      "            \"changeInExchangeRate\": \"None\",\n",
      "            \"netIncome\": \"59531000000\"\n",
      "        },\n",
      "        {\n",
      "            \"fiscalDateEnding\": \"2017-09-30\",\n",
      "            \"reportedCurrency\": \"USD\",\n",
      "            \"operatingCashflow\": \"64225000000\",\n",
      "            \"paymentsForOperatingActivities\": \"2092000000\",\n",
      "            \"proceedsFromOperatingActivities\": \"None\",\n",
      "            \"changeInOperatingLiabilities\": \"8838000000\",\n",
      "            \"changeInOperatingAssets\": \"14388000000\",\n",
      "            \"depreciationDepletionAndAmortization\": \"10157000000\",\n",
      "            \"capitalExpenditures\": \"12795000000\",\n",
      "            \"changeInReceivables\": \"6347000000\",\n",
      "            \"changeInInventory\": \"2723000000\",\n",
      "            \"profitLoss\": \"48351000000\",\n",
      "            \"cashflowFromInvestment\": \"-46446000000\",\n",
      "            \"cashflowFromFinancing\": \"-17974000000\",\n",
      "            \"proceedsFromRepaymentsOfShortTermDebt\": \"7704000000\",\n",
      "            \"paymentsForRepurchaseOfCommonStock\": \"32900000000\",\n",
      "            \"paymentsForRepurchaseOfEquity\": \"32900000000\",\n",
      "            \"paymentsForRepurchaseOfPreferredStock\": \"None\",\n",
      "            \"dividendPayout\": \"12769000000\",\n",
      "            \"dividendPayoutCommonStock\": \"12563000000\",\n",
      "            \"dividendPayoutPreferredStock\": \"None\",\n",
      "            \"proceedsFromIssuanceOfCommonStock\": \"555000000\",\n",
      "            \"proceedsFromIssuanceOfLongTermDebtAndCapitalSecuritiesNet\": \"28662000000\",\n",
      "            \"proceedsFromIssuanceOfPreferredStock\": \"None\",\n",
      "            \"proceedsFromRepurchaseOfEquity\": \"-32345000000\",\n",
      "            \"proceedsFromSaleOfTreasuryStock\": \"None\",\n",
      "            \"changeInCashAndCashEquivalents\": \"-195000000\",\n",
      "            \"changeInExchangeRate\": \"None\",\n",
      "            \"netIncome\": \"48351000000\"\n",
      "        },\n",
      "        {\n",
      "            \"fiscalDateEnding\": \"2016-09-30\",\n",
      "            \"reportedCurrency\": \"USD\",\n",
      "            \"operatingCashflow\": \"66231000000\",\n",
      "            \"paymentsForOperatingActivities\": \"1316000000\",\n",
      "            \"proceedsFromOperatingActivities\": \"None\",\n",
      "            \"changeInOperatingLiabilities\": \"-1867000000\",\n",
      "            \"changeInOperatingAssets\": \"-2351000000\",\n",
      "            \"depreciationDepletionAndAmortization\": \"10505000000\",\n",
      "            \"capitalExpenditures\": \"13548000000\",\n",
      "            \"changeInReceivables\": \"-1044000000\",\n",
      "            \"changeInInventory\": \"-217000000\",\n",
      "            \"profitLoss\": \"45687000000\",\n",
      "            \"cashflowFromInvestment\": \"-45977000000\",\n",
      "            \"cashflowFromFinancing\": \"-20890000000\",\n",
      "            \"proceedsFromRepaymentsOfShortTermDebt\": \"-794000000\",\n",
      "            \"paymentsForRepurchaseOfCommonStock\": \"29722000000\",\n",
      "            \"paymentsForRepurchaseOfEquity\": \"29722000000\",\n",
      "            \"paymentsForRepurchaseOfPreferredStock\": \"None\",\n",
      "            \"dividendPayout\": \"12150000000\",\n",
      "            \"dividendPayoutCommonStock\": \"11965000000\",\n",
      "            \"dividendPayoutPreferredStock\": \"None\",\n",
      "            \"proceedsFromIssuanceOfCommonStock\": \"495000000\",\n",
      "            \"proceedsFromIssuanceOfLongTermDebtAndCapitalSecuritiesNet\": \"24954000000\",\n",
      "            \"proceedsFromIssuanceOfPreferredStock\": \"None\",\n",
      "            \"proceedsFromRepurchaseOfEquity\": \"-29227000000\",\n",
      "            \"proceedsFromSaleOfTreasuryStock\": \"None\",\n",
      "            \"changeInCashAndCashEquivalents\": \"-636000000\",\n",
      "            \"changeInExchangeRate\": \"None\",\n",
      "            \"netIncome\": \"45687000000\"\n",
      "        },\n",
      "        {\n",
      "            \"fiscalDateEnding\": \"2015-09-30\",\n",
      "            \"reportedCurrency\": \"USD\",\n",
      "            \"operatingCashflow\": \"81266000000\",\n",
      "            \"paymentsForOperatingActivities\": \"514000000\",\n",
      "            \"proceedsFromOperatingActivities\": \"None\",\n",
      "            \"changeInOperatingLiabilities\": \"15188000000\",\n",
      "            \"changeInOperatingAssets\": \"-194000000\",\n",
      "            \"depreciationDepletionAndAmortization\": \"9200000000\",\n",
      "            \"capitalExpenditures\": \"11488000000\",\n",
      "            \"changeInReceivables\": \"-611000000\",\n",
      "            \"changeInInventory\": \"238000000\",\n",
      "            \"profitLoss\": \"53394000000\",\n",
      "            \"cashflowFromInvestment\": \"-56274000000\",\n",
      "            \"cashflowFromFinancing\": \"-17716000000\",\n",
      "            \"proceedsFromRepaymentsOfShortTermDebt\": \"4382000000\",\n",
      "            \"paymentsForRepurchaseOfCommonStock\": \"35253000000\",\n",
      "            \"paymentsForRepurchaseOfEquity\": \"35253000000\",\n",
      "            \"paymentsForRepurchaseOfPreferredStock\": \"None\",\n",
      "            \"dividendPayout\": \"11561000000\",\n",
      "            \"dividendPayoutCommonStock\": \"11561000000\",\n",
      "            \"dividendPayoutPreferredStock\": \"None\",\n",
      "            \"proceedsFromIssuanceOfCommonStock\": \"543000000\",\n",
      "            \"proceedsFromIssuanceOfLongTermDebtAndCapitalSecuritiesNet\": \"27114000000\",\n",
      "            \"proceedsFromIssuanceOfPreferredStock\": \"None\",\n",
      "            \"proceedsFromRepurchaseOfEquity\": \"-34710000000\",\n",
      "            \"proceedsFromSaleOfTreasuryStock\": \"None\",\n",
      "            \"changeInCashAndCashEquivalents\": \"7276000000\",\n",
      "            \"changeInExchangeRate\": \"None\",\n",
      "            \"netIncome\": \"53394000000\"\n",
      "        },\n",
      "        {\n",
      "            \"fiscalDateEnding\": \"2014-09-30\",\n",
      "            \"reportedCurrency\": \"USD\",\n",
      "            \"operatingCashflow\": \"109133000000\",\n",
      "            \"paymentsForOperatingActivities\": \"339000000\",\n",
      "            \"proceedsFromOperatingActivities\": \"None\",\n",
      "            \"changeInOperatingLiabilities\": \"13408000000\",\n",
      "            \"changeInOperatingAssets\": \"6361000000\",\n",
      "            \"depreciationDepletionAndAmortization\": \"1100000000\",\n",
      "            \"capitalExpenditures\": \"9571000000\",\n",
      "            \"changeInReceivables\": \"6452000000\",\n",
      "            \"changeInInventory\": \"76000000\",\n",
      "            \"profitLoss\": \"39510000000\",\n",
      "            \"cashflowFromInvestment\": \"-22579000000\",\n",
      "            \"cashflowFromFinancing\": \"-37549000000\",\n",
      "            \"proceedsFromRepaymentsOfShortTermDebt\": \"6306000000\",\n",
      "            \"paymentsForRepurchaseOfCommonStock\": \"45000000000\",\n",
      "            \"paymentsForRepurchaseOfEquity\": \"45000000000\",\n",
      "            \"paymentsForRepurchaseOfPreferredStock\": \"None\",\n",
      "            \"dividendPayout\": \"11031000000\",\n",
      "            \"dividendPayoutCommonStock\": \"11126000000\",\n",
      "            \"dividendPayoutPreferredStock\": \"None\",\n",
      "            \"proceedsFromIssuanceOfCommonStock\": \"730000000\",\n",
      "            \"proceedsFromIssuanceOfLongTermDebtAndCapitalSecuritiesNet\": \"11960000000\",\n",
      "            \"proceedsFromIssuanceOfPreferredStock\": \"None\",\n",
      "            \"proceedsFromRepurchaseOfEquity\": \"-44270000000\",\n",
      "            \"proceedsFromSaleOfTreasuryStock\": \"None\",\n",
      "            \"changeInCashAndCashEquivalents\": \"-415000000\",\n",
      "            \"changeInExchangeRate\": \"None\",\n",
      "            \"netIncome\": \"39510000000\"\n",
      "        },\n",
      "        {\n",
      "            \"fiscalDateEnding\": \"2013-09-30\",\n",
      "            \"reportedCurrency\": \"USD\",\n",
      "            \"operatingCashflow\": \"53666000000\",\n",
      "            \"paymentsForOperatingActivities\": \"0\",\n",
      "            \"proceedsFromOperatingActivities\": \"None\",\n",
      "            \"changeInOperatingLiabilities\": \"8320000000\",\n",
      "            \"changeInOperatingAssets\": \"1842000000\",\n",
      "            \"depreciationDepletionAndAmortization\": \"960000000\",\n",
      "            \"capitalExpenditures\": \"8165000000\",\n",
      "            \"changeInReceivables\": \"1949000000\",\n",
      "            \"changeInInventory\": \"973000000\",\n",
      "            \"profitLoss\": \"37037000000\",\n",
      "            \"cashflowFromInvestment\": \"-33774000000\",\n",
      "            \"cashflowFromFinancing\": \"-16379000000\",\n",
      "            \"proceedsFromRepaymentsOfShortTermDebt\": \"0\",\n",
      "            \"paymentsForRepurchaseOfCommonStock\": \"22860000000\",\n",
      "            \"paymentsForRepurchaseOfEquity\": \"22860000000\",\n",
      "            \"paymentsForRepurchaseOfPreferredStock\": \"None\",\n",
      "            \"dividendPayout\": \"10528000000\",\n",
      "            \"dividendPayoutCommonStock\": \"10564000000\",\n",
      "            \"dividendPayoutPreferredStock\": \"None\",\n",
      "            \"proceedsFromIssuanceOfCommonStock\": \"530000000\",\n",
      "            \"proceedsFromIssuanceOfLongTermDebtAndCapitalSecuritiesNet\": \"16896000000\",\n",
      "            \"proceedsFromIssuanceOfPreferredStock\": \"None\",\n",
      "            \"proceedsFromRepurchaseOfEquity\": \"-22330000000\",\n",
      "            \"proceedsFromSaleOfTreasuryStock\": \"None\",\n",
      "            \"changeInCashAndCashEquivalents\": \"3513000000\",\n",
      "            \"changeInExchangeRate\": \"None\",\n",
      "            \"netIncome\": \"37037000000\"\n",
      "        },\n",
      "        {\n",
      "            \"fiscalDateEnding\": \"2012-09-30\",\n",
      "            \"reportedCurrency\": \"USD\",\n",
      "            \"operatingCashflow\": \"50856000000\",\n",
      "            \"paymentsForOperatingActivities\": \"0\",\n",
      "            \"proceedsFromOperatingActivities\": \"None\",\n",
      "            \"changeInOperatingLiabilities\": \"9843000000\",\n",
      "            \"changeInOperatingAssets\": \"10142000000\",\n",
      "            \"depreciationDepletionAndAmortization\": \"605000000\",\n",
      "            \"capitalExpenditures\": \"8295000000\",\n",
      "            \"changeInReceivables\": \"6965000000\",\n",
      "            \"changeInInventory\": \"15000000\",\n",
      "            \"profitLoss\": \"41733000000\",\n",
      "            \"cashflowFromInvestment\": \"-48227000000\",\n",
      "            \"cashflowFromFinancing\": \"-1698000000\",\n",
      "            \"proceedsFromRepaymentsOfShortTermDebt\": \"0\",\n",
      "            \"paymentsForRepurchaseOfCommonStock\": \"0\",\n",
      "            \"paymentsForRepurchaseOfEquity\": \"0\",\n",
      "            \"paymentsForRepurchaseOfPreferredStock\": \"None\",\n",
      "            \"dividendPayout\": \"2488000000\",\n",
      "            \"dividendPayoutCommonStock\": \"2488000000\",\n",
      "            \"dividendPayoutPreferredStock\": \"None\",\n",
      "            \"proceedsFromIssuanceOfCommonStock\": \"665000000\",\n",
      "            \"proceedsFromIssuanceOfLongTermDebtAndCapitalSecuritiesNet\": \"0\",\n",
      "            \"proceedsFromIssuanceOfPreferredStock\": \"None\",\n",
      "            \"proceedsFromRepurchaseOfEquity\": \"665000000\",\n",
      "            \"proceedsFromSaleOfTreasuryStock\": \"None\",\n",
      "            \"changeInCashAndCashEquivalents\": \"931000000\",\n",
      "            \"changeInExchangeRate\": \"None\",\n",
      "            \"netIncome\": \"41733000000\"\n",
      "        },\n",
      "        {\n",
      "            \"fiscalDateEnding\": \"2011-09-30\",\n",
      "            \"reportedCurrency\": \"USD\",\n",
      "            \"operatingCashflow\": \"37529000000\",\n",
      "            \"paymentsForOperatingActivities\": \"None\",\n",
      "            \"proceedsFromOperatingActivities\": \"None\",\n",
      "            \"changeInOperatingLiabilities\": \"8664000000\",\n",
      "            \"changeInOperatingAssets\": \"2907000000\",\n",
      "            \"depreciationDepletionAndAmortization\": \"192000000\",\n",
      "            \"capitalExpenditures\": \"4260000000\",\n",
      "            \"changeInReceivables\": \"1791000000\",\n",
      "            \"changeInInventory\": \"-275000000\",\n",
      "            \"profitLoss\": \"25922000000\",\n",
      "            \"cashflowFromInvestment\": \"-40419000000\",\n",
      "            \"cashflowFromFinancing\": \"1444000000\",\n",
      "            \"proceedsFromRepaymentsOfShortTermDebt\": \"None\",\n",
      "            \"paymentsForRepurchaseOfCommonStock\": \"0\",\n",
      "            \"paymentsForRepurchaseOfEquity\": \"0\",\n",
      "            \"paymentsForRepurchaseOfPreferredStock\": \"None\",\n",
      "            \"dividendPayout\": \"None\",\n",
      "            \"dividendPayoutCommonStock\": \"None\",\n",
      "            \"dividendPayoutPreferredStock\": \"None\",\n",
      "            \"proceedsFromIssuanceOfCommonStock\": \"831000000\",\n",
      "            \"proceedsFromIssuanceOfLongTermDebtAndCapitalSecuritiesNet\": \"0\",\n",
      "            \"proceedsFromIssuanceOfPreferredStock\": \"None\",\n",
      "            \"proceedsFromRepurchaseOfEquity\": \"831000000\",\n",
      "            \"proceedsFromSaleOfTreasuryStock\": \"None\",\n",
      "            \"changeInCashAndCashEquivalents\": \"-1446000000\",\n",
      "            \"changeInExchangeRate\": \"None\",\n",
      "            \"netIncome\": \"25922000000\"\n",
      "        },\n",
      "        {\n",
      "            \"fiscalDateEnding\": \"2010-09-30\",\n",
      "            \"reportedCurrency\": \"USD\",\n",
      "            \"operatingCashflow\": \"18595000000\",\n",
      "            \"paymentsForOperatingActivities\": \"None\",\n",
      "            \"proceedsFromOperatingActivities\": \"None\",\n",
      "            \"changeInOperatingLiabilities\": \"8302000000\",\n",
      "            \"changeInOperatingAssets\": \"5576000000\",\n",
      "            \"depreciationDepletionAndAmortization\": \"69000000\",\n",
      "            \"capitalExpenditures\": \"2005000000\",\n",
      "            \"changeInReceivables\": \"4860000000\",\n",
      "            \"changeInInventory\": \"596000000\",\n",
      "            \"profitLoss\": \"14013000000\",\n",
      "            \"cashflowFromInvestment\": \"-13854000000\",\n",
      "            \"cashflowFromFinancing\": \"1257000000\",\n",
      "            \"proceedsFromRepaymentsOfShortTermDebt\": \"None\",\n",
      "            \"paymentsForRepurchaseOfCommonStock\": \"None\",\n",
      "            \"paymentsForRepurchaseOfEquity\": \"None\",\n",
      "            \"paymentsForRepurchaseOfPreferredStock\": \"None\",\n",
      "            \"dividendPayout\": \"None\",\n",
      "            \"dividendPayoutCommonStock\": \"None\",\n",
      "            \"dividendPayoutPreferredStock\": \"None\",\n",
      "            \"proceedsFromIssuanceOfCommonStock\": \"912000000\",\n",
      "            \"proceedsFromIssuanceOfLongTermDebtAndCapitalSecuritiesNet\": \"None\",\n",
      "            \"proceedsFromIssuanceOfPreferredStock\": \"None\",\n",
      "            \"proceedsFromRepurchaseOfEquity\": \"912000000\",\n",
      "            \"proceedsFromSaleOfTreasuryStock\": \"None\",\n",
      "            \"changeInCashAndCashEquivalents\": \"5998000000\",\n",
      "            \"changeInExchangeRate\": \"None\",\n",
      "            \"netIncome\": \"14013000000\"\n",
      "        },\n",
      "        {\n",
      "            \"fiscalDateEnding\": \"2009-09-30\",\n",
      "            \"reportedCurrency\": \"USD\",\n",
      "            \"operatingCashflow\": \"10159000000\",\n",
      "            \"paymentsForOperatingActivities\": \"None\",\n",
      "            \"proceedsFromOperatingActivities\": \"None\",\n",
      "            \"changeInOperatingLiabilities\": \"452000000\",\n",
      "            \"changeInOperatingAssets\": \"1787000000\",\n",
      "            \"depreciationDepletionAndAmortization\": \"703000000\",\n",
      "            \"capitalExpenditures\": \"1144000000\",\n",
      "            \"changeInReceivables\": \"939000000\",\n",
      "            \"changeInInventory\": \"-54000000\",\n",
      "            \"profitLoss\": \"8235000000\",\n",
      "            \"cashflowFromInvestment\": \"-17434000000\",\n",
      "            \"cashflowFromFinancing\": \"663000000\",\n",
      "            \"proceedsFromRepaymentsOfShortTermDebt\": \"None\",\n",
      "            \"paymentsForRepurchaseOfCommonStock\": \"None\",\n",
      "            \"paymentsForRepurchaseOfEquity\": \"None\",\n",
      "            \"paymentsForRepurchaseOfPreferredStock\": \"None\",\n",
      "            \"dividendPayout\": \"None\",\n",
      "            \"dividendPayoutCommonStock\": \"None\",\n",
      "            \"dividendPayoutPreferredStock\": \"None\",\n",
      "            \"proceedsFromIssuanceOfCommonStock\": \"475000000\",\n",
      "            \"proceedsFromIssuanceOfLongTermDebtAndCapitalSecuritiesNet\": \"None\",\n",
      "            \"proceedsFromIssuanceOfPreferredStock\": \"None\",\n",
      "            \"proceedsFromRepurchaseOfEquity\": \"475000000\",\n",
      "            \"proceedsFromSaleOfTreasuryStock\": \"None\",\n",
      "            \"changeInCashAndCashEquivalents\": \"-6612000000\",\n",
      "            \"changeInExchangeRate\": \"None\",\n",
      "            \"netIncome\": \"8235000000\"\n",
      "        }\n",
      "    ],\n",
      "    \"quarterlyReports\": [\n",
      "        {\n",
      "            \"fiscalDateEnding\": \"2023-12-31\",\n",
      "            \"reportedCurrency\": \"USD\",\n",
      "            \"operatingCashflow\": \"39895000000\",\n",
      "            \"paymentsForOperatingActivities\": \"None\",\n",
      "            \"proceedsFromOperatingActivities\": \"None\",\n",
      "            \"changeInOperatingLiabilities\": \"-8407000000\",\n",
      "            \"changeInOperatingAssets\": \"-9530000000\",\n",
      "            \"depreciationDepletionAndAmortization\": \"2848000000\",\n",
      "            \"capitalExpenditures\": \"2392000000\",\n",
      "            \"changeInReceivables\": \"-11124000000\",\n",
      "            \"changeInInventory\": \"137000000\",\n",
      "            \"profitLoss\": \"33916000000\",\n",
      "            \"cashflowFromInvestment\": \"1927000000\",\n",
      "            \"cashflowFromFinancing\": \"-30585000000\",\n",
      "            \"proceedsFromRepaymentsOfShortTermDebt\": \"-7968000000\",\n",
      "            \"paymentsForRepurchaseOfCommonStock\": \"20139000000\",\n",
      "            \"paymentsForRepurchaseOfEquity\": \"20139000000\",\n",
      "            \"paymentsForRepurchaseOfPreferredStock\": \"None\",\n",
      "            \"dividendPayout\": \"3825000000\",\n",
      "            \"dividendPayoutCommonStock\": \"3825000000\",\n",
      "            \"dividendPayoutPreferredStock\": \"None\",\n",
      "            \"proceedsFromIssuanceOfCommonStock\": \"None\",\n",
      "            \"proceedsFromIssuanceOfLongTermDebtAndCapitalSecuritiesNet\": \"0\",\n",
      "            \"proceedsFromIssuanceOfPreferredStock\": \"None\",\n",
      "            \"proceedsFromRepurchaseOfEquity\": \"-20139000000\",\n",
      "            \"proceedsFromSaleOfTreasuryStock\": \"None\",\n",
      "            \"changeInCashAndCashEquivalents\": \"None\",\n",
      "            \"changeInExchangeRate\": \"None\",\n",
      "            \"netIncome\": \"33916000000\"\n",
      "        },\n",
      "        {\n",
      "            \"fiscalDateEnding\": \"2023-09-30\",\n",
      "            \"reportedCurrency\": \"USD\",\n",
      "            \"operatingCashflow\": \"21598000000\",\n",
      "            \"paymentsForOperatingActivities\": \"3113000000\",\n",
      "            \"proceedsFromOperatingActivities\": \"None\",\n",
      "            \"changeInOperatingLiabilities\": \"14946000000\",\n",
      "            \"changeInOperatingAssets\": \"21006000000\",\n",
      "            \"depreciationDepletionAndAmortization\": \"2653000000\",\n",
      "            \"capitalExpenditures\": \"2163000000\",\n",
      "            \"changeInReceivables\": \"21137000000\",\n",
      "            \"changeInInventory\": \"-952000000\",\n",
      "            \"profitLoss\": \"22956000000\",\n",
      "            \"cashflowFromInvestment\": \"2394000000\",\n",
      "            \"cashflowFromFinancing\": \"-23153000000\",\n",
      "            \"proceedsFromRepaymentsOfShortTermDebt\": \"3986000000\",\n",
      "            \"paymentsForRepurchaseOfCommonStock\": \"21003000000\",\n",
      "            \"paymentsForRepurchaseOfEquity\": \"21003000000\",\n",
      "            \"paymentsForRepurchaseOfPreferredStock\": \"None\",\n",
      "            \"dividendPayout\": \"3758000000\",\n",
      "            \"dividendPayoutCommonStock\": \"3758000000\",\n",
      "            \"dividendPayoutPreferredStock\": \"None\",\n",
      "            \"proceedsFromIssuanceOfCommonStock\": \"0\",\n",
      "            \"proceedsFromIssuanceOfLongTermDebtAndCapitalSecuritiesNet\": \"0\",\n",
      "            \"proceedsFromIssuanceOfPreferredStock\": \"None\",\n",
      "            \"proceedsFromRepurchaseOfEquity\": \"-21003000000\",\n",
      "            \"proceedsFromSaleOfTreasuryStock\": \"None\",\n",
      "            \"changeInCashAndCashEquivalents\": \"839000000\",\n",
      "            \"changeInExchangeRate\": \"None\",\n",
      "            \"netIncome\": \"22956000000\"\n",
      "        },\n",
      "        {\n",
      "            \"fiscalDateEnding\": \"2023-06-30\",\n",
      "            \"reportedCurrency\": \"USD\",\n",
      "            \"operatingCashflow\": \"26380000000\",\n",
      "            \"paymentsForOperatingActivities\": \"None\",\n",
      "            \"proceedsFromOperatingActivities\": \"None\",\n",
      "            \"changeInOperatingLiabilities\": \"None\",\n",
      "            \"changeInOperatingAssets\": \"None\",\n",
      "            \"depreciationDepletionAndAmortization\": \"3052000000\",\n",
      "            \"capitalExpenditures\": \"2093000000\",\n",
      "            \"changeInReceivables\": \"-3661000000\",\n",
      "            \"changeInInventory\": \"22000000\",\n",
      "            \"profitLoss\": \"19881000000\",\n",
      "            \"cashflowFromInvestment\": \"437000000\",\n",
      "            \"cashflowFromFinancing\": \"-24048000000\",\n",
      "            \"proceedsFromRepaymentsOfShortTermDebt\": \"0\",\n",
      "            \"paymentsForRepurchaseOfCommonStock\": \"17478000000\",\n",
      "            \"paymentsForRepurchaseOfEquity\": \"0\",\n",
      "            \"paymentsForRepurchaseOfPreferredStock\": \"None\",\n",
      "            \"dividendPayout\": \"3849000000\",\n",
      "            \"dividendPayoutCommonStock\": \"3849000000\",\n",
      "            \"dividendPayoutPreferredStock\": \"None\",\n",
      "            \"proceedsFromIssuanceOfCommonStock\": \"0\",\n",
      "            \"proceedsFromIssuanceOfLongTermDebtAndCapitalSecuritiesNet\": \"0\",\n",
      "            \"proceedsFromIssuanceOfPreferredStock\": \"None\",\n",
      "            \"proceedsFromRepurchaseOfEquity\": \"0\",\n",
      "            \"proceedsFromSaleOfTreasuryStock\": \"None\",\n",
      "            \"changeInCashAndCashEquivalents\": \"2769000000\",\n",
      "            \"changeInExchangeRate\": \"None\",\n",
      "            \"netIncome\": \"19881000000\"\n",
      "        },\n",
      "        {\n",
      "            \"fiscalDateEnding\": \"2023-03-31\",\n",
      "            \"reportedCurrency\": \"USD\",\n",
      "            \"operatingCashflow\": \"28560000000\",\n",
      "            \"paymentsForOperatingActivities\": \"None\",\n",
      "            \"proceedsFromOperatingActivities\": \"None\",\n",
      "            \"changeInOperatingLiabilities\": \"None\",\n",
      "            \"changeInOperatingAssets\": \"None\",\n",
      "            \"depreciationDepletionAndAmortization\": \"2898000000\",\n",
      "            \"capitalExpenditures\": \"2916000000\",\n",
      "            \"changeInReceivables\": \"17786000000\",\n",
      "            \"changeInInventory\": \"-741000000\",\n",
      "            \"profitLoss\": \"24160000000\",\n",
      "            \"cashflowFromInvestment\": \"2319000000\",\n",
      "            \"cashflowFromFinancing\": \"-25724000000\",\n",
      "            \"proceedsFromRepaymentsOfShortTermDebt\": \"0\",\n",
      "            \"paymentsForRepurchaseOfCommonStock\": \"None\",\n",
      "            \"paymentsForRepurchaseOfEquity\": \"0\",\n",
      "            \"paymentsForRepurchaseOfPreferredStock\": \"None\",\n",
      "            \"dividendPayout\": \"3650000000\",\n",
      "            \"dividendPayoutCommonStock\": \"3650000000\",\n",
      "            \"dividendPayoutPreferredStock\": \"None\",\n",
      "            \"proceedsFromIssuanceOfCommonStock\": \"0\",\n",
      "            \"proceedsFromIssuanceOfLongTermDebtAndCapitalSecuritiesNet\": \"0\",\n",
      "            \"proceedsFromIssuanceOfPreferredStock\": \"None\",\n",
      "            \"proceedsFromRepurchaseOfEquity\": \"0\",\n",
      "            \"proceedsFromSaleOfTreasuryStock\": \"None\",\n",
      "            \"changeInCashAndCashEquivalents\": \"5155000000\",\n",
      "            \"changeInExchangeRate\": \"None\",\n",
      "            \"netIncome\": \"24160000000\"\n",
      "        },\n",
      "        {\n",
      "            \"fiscalDateEnding\": \"2022-12-31\",\n",
      "            \"reportedCurrency\": \"USD\",\n",
      "            \"operatingCashflow\": \"34005000000\",\n",
      "            \"paymentsForOperatingActivities\": \"703000000\",\n",
      "            \"proceedsFromOperatingActivities\": \"None\",\n",
      "            \"changeInOperatingLiabilities\": \"-2186000000\",\n",
      "            \"changeInOperatingAssets\": \"-689000000\",\n",
      "            \"depreciationDepletionAndAmortization\": \"2916000000\",\n",
      "            \"capitalExpenditures\": \"3787000000\",\n",
      "            \"changeInReceivables\": \"-6595000000\",\n",
      "            \"changeInInventory\": \"1807000000\",\n",
      "            \"profitLoss\": \"29998000000\",\n",
      "            \"cashflowFromInvestment\": \"-1445000000\",\n",
      "            \"cashflowFromFinancing\": \"-35563000000\",\n",
      "            \"proceedsFromRepaymentsOfShortTermDebt\": \"-16428000000\",\n",
      "            \"paymentsForRepurchaseOfCommonStock\": \"19475000000\",\n",
      "            \"paymentsForRepurchaseOfEquity\": \"19475000000\",\n",
      "            \"paymentsForRepurchaseOfPreferredStock\": \"None\",\n",
      "            \"dividendPayout\": \"3768000000\",\n",
      "            \"dividendPayoutCommonStock\": \"3768000000\",\n",
      "            \"dividendPayoutPreferredStock\": \"None\",\n",
      "            \"proceedsFromIssuanceOfCommonStock\": \"0\",\n",
      "            \"proceedsFromIssuanceOfLongTermDebtAndCapitalSecuritiesNet\": \"0\",\n",
      "            \"proceedsFromIssuanceOfPreferredStock\": \"None\",\n",
      "            \"proceedsFromRepurchaseOfEquity\": \"-19475000000\",\n",
      "            \"proceedsFromSaleOfTreasuryStock\": \"None\",\n",
      "            \"changeInCashAndCashEquivalents\": \"-3003000000\",\n",
      "            \"changeInExchangeRate\": \"None\",\n",
      "            \"netIncome\": \"29998000000\"\n",
      "        },\n",
      "        {\n",
      "            \"fiscalDateEnding\": \"2022-09-30\",\n",
      "            \"reportedCurrency\": \"USD\",\n",
      "            \"operatingCashflow\": \"24127000000\",\n",
      "            \"paymentsForOperatingActivities\": \"2755000000\",\n",
      "            \"proceedsFromOperatingActivities\": \"None\",\n",
      "            \"changeInOperatingLiabilities\": \"21420000000\",\n",
      "            \"changeInOperatingAssets\": \"21468000000\",\n",
      "            \"depreciationDepletionAndAmortization\": \"2865000000\",\n",
      "            \"capitalExpenditures\": \"3289000000\",\n",
      "            \"changeInReceivables\": \"18693000000\",\n",
      "            \"changeInInventory\": \"-435000000\",\n",
      "            \"profitLoss\": \"20721000000\",\n",
      "            \"cashflowFromInvestment\": \"-1217000000\",\n",
      "            \"cashflowFromFinancing\": \"-26794000000\",\n",
      "            \"proceedsFromRepaymentsOfShortTermDebt\": \"-2030000000\",\n",
      "            \"paymentsForRepurchaseOfCommonStock\": \"24428000000\",\n",
      "            \"paymentsForRepurchaseOfEquity\": \"24428000000\",\n",
      "            \"paymentsForRepurchaseOfPreferredStock\": \"None\",\n",
      "            \"dividendPayout\": \"3703000000\",\n",
      "            \"dividendPayoutCommonStock\": \"3703000000\",\n",
      "            \"dividendPayoutPreferredStock\": \"None\",\n",
      "            \"proceedsFromIssuanceOfCommonStock\": \"None\",\n",
      "            \"proceedsFromIssuanceOfLongTermDebtAndCapitalSecuritiesNet\": \"5465000000\",\n",
      "            \"proceedsFromIssuanceOfPreferredStock\": \"None\",\n",
      "            \"proceedsFromRepurchaseOfEquity\": \"-24428000000\",\n",
      "            \"proceedsFromSaleOfTreasuryStock\": \"None\",\n",
      "            \"changeInCashAndCashEquivalents\": \"-3884000000\",\n",
      "            \"changeInExchangeRate\": \"None\",\n",
      "            \"netIncome\": \"20721000000\"\n",
      "        },\n",
      "        {\n",
      "            \"fiscalDateEnding\": \"2022-06-30\",\n",
      "            \"reportedCurrency\": \"USD\",\n",
      "            \"operatingCashflow\": \"22892000000\",\n",
      "            \"paymentsForOperatingActivities\": \"504000000\",\n",
      "            \"proceedsFromOperatingActivities\": \"None\",\n",
      "            \"changeInOperatingLiabilities\": \"-6627000000\",\n",
      "            \"changeInOperatingAssets\": \"-3402000000\",\n",
      "            \"depreciationDepletionAndAmortization\": \"2805000000\",\n",
      "            \"capitalExpenditures\": \"2102000000\",\n",
      "            \"changeInReceivables\": \"-3165000000\",\n",
      "            \"changeInInventory\": \"16000000\",\n",
      "            \"profitLoss\": \"19442000000\",\n",
      "            \"cashflowFromInvestment\": \"4234000000\",\n",
      "            \"cashflowFromFinancing\": \"-27445000000\",\n",
      "            \"proceedsFromRepaymentsOfShortTermDebt\": \"7942000000\",\n",
      "            \"paymentsForRepurchaseOfCommonStock\": \"21865000000\",\n",
      "            \"paymentsForRepurchaseOfEquity\": \"21865000000\",\n",
      "            \"paymentsForRepurchaseOfPreferredStock\": \"None\",\n",
      "            \"dividendPayout\": \"3811000000\",\n",
      "            \"dividendPayoutCommonStock\": \"3811000000\",\n",
      "            \"dividendPayoutPreferredStock\": \"None\",\n",
      "            \"proceedsFromIssuanceOfCommonStock\": \"None\",\n",
      "            \"proceedsFromIssuanceOfLongTermDebtAndCapitalSecuritiesNet\": \"0\",\n",
      "            \"proceedsFromIssuanceOfPreferredStock\": \"None\",\n",
      "            \"proceedsFromRepurchaseOfEquity\": \"-21865000000\",\n",
      "            \"proceedsFromSaleOfTreasuryStock\": \"None\",\n",
      "            \"changeInCashAndCashEquivalents\": \"19442000000\",\n",
      "            \"changeInExchangeRate\": \"None\",\n",
      "            \"netIncome\": \"19442000000\"\n",
      "        },\n",
      "        {\n",
      "            \"fiscalDateEnding\": \"2022-03-31\",\n",
      "            \"reportedCurrency\": \"USD\",\n",
      "            \"operatingCashflow\": \"28166000000\",\n",
      "            \"paymentsForOperatingActivities\": \"875000000\",\n",
      "            \"proceedsFromOperatingActivities\": \"None\",\n",
      "            \"changeInOperatingLiabilities\": \"-23746000000\",\n",
      "            \"changeInOperatingAssets\": \"-21694000000\",\n",
      "            \"depreciationDepletionAndAmortization\": \"2737000000\",\n",
      "            \"capitalExpenditures\": \"2514000000\",\n",
      "            \"changeInReceivables\": \"-19931000000\",\n",
      "            \"changeInInventory\": \"-384000000\",\n",
      "            \"profitLoss\": \"25010000000\",\n",
      "            \"cashflowFromInvestment\": \"-9265000000\",\n",
      "            \"cashflowFromFinancing\": \"-28351000000\",\n",
      "            \"proceedsFromRepaymentsOfShortTermDebt\": \"3998000000\",\n",
      "            \"paymentsForRepurchaseOfCommonStock\": \"22631000000\",\n",
      "            \"paymentsForRepurchaseOfEquity\": \"22631000000\",\n",
      "            \"paymentsForRepurchaseOfPreferredStock\": \"None\",\n",
      "            \"dividendPayout\": \"3595000000\",\n",
      "            \"dividendPayoutCommonStock\": \"3595000000\",\n",
      "            \"dividendPayoutPreferredStock\": \"None\",\n",
      "            \"proceedsFromIssuanceOfCommonStock\": \"None\",\n",
      "            \"proceedsFromIssuanceOfLongTermDebtAndCapitalSecuritiesNet\": \"0\",\n",
      "            \"proceedsFromIssuanceOfPreferredStock\": \"None\",\n",
      "            \"proceedsFromRepurchaseOfEquity\": \"-22631000000\",\n",
      "            \"proceedsFromSaleOfTreasuryStock\": \"None\",\n",
      "            \"changeInCashAndCashEquivalents\": \"25010000000\",\n",
      "            \"changeInExchangeRate\": \"None\",\n",
      "            \"netIncome\": \"25010000000\"\n",
      "        },\n",
      "        {\n",
      "            \"fiscalDateEnding\": \"2021-12-31\",\n",
      "            \"reportedCurrency\": \"USD\",\n",
      "            \"operatingCashflow\": \"46966000000\",\n",
      "            \"paymentsForOperatingActivities\": \"531000000\",\n",
      "            \"proceedsFromOperatingActivities\": \"None\",\n",
      "            \"changeInOperatingLiabilities\": \"24511000000\",\n",
      "            \"changeInOperatingAssets\": \"17986000000\",\n",
      "            \"depreciationDepletionAndAmortization\": \"2697000000\",\n",
      "            \"capitalExpenditures\": \"2803000000\",\n",
      "            \"changeInReceivables\": \"13746000000\",\n",
      "            \"changeInInventory\": \"-681000000\",\n",
      "            \"profitLoss\": \"34630000000\",\n",
      "            \"cashflowFromInvestment\": \"-16106000000\",\n",
      "            \"cashflowFromFinancing\": \"-28159000000\",\n",
      "            \"proceedsFromRepaymentsOfShortTermDebt\": \"-2000000000\",\n",
      "            \"paymentsForRepurchaseOfCommonStock\": \"20478000000\",\n",
      "            \"paymentsForRepurchaseOfEquity\": \"20478000000\",\n",
      "            \"paymentsForRepurchaseOfPreferredStock\": \"None\",\n",
      "            \"dividendPayout\": \"3732000000\",\n",
      "            \"dividendPayoutCommonStock\": \"3732000000\",\n",
      "            \"dividendPayoutPreferredStock\": \"None\",\n",
      "            \"proceedsFromIssuanceOfCommonStock\": \"None\",\n",
      "            \"proceedsFromIssuanceOfLongTermDebtAndCapitalSecuritiesNet\": \"None\",\n",
      "            \"proceedsFromIssuanceOfPreferredStock\": \"None\",\n",
      "            \"proceedsFromRepurchaseOfEquity\": \"-20478000000\",\n",
      "            \"proceedsFromSaleOfTreasuryStock\": \"None\",\n",
      "            \"changeInCashAndCashEquivalents\": \"2701000000\",\n",
      "            \"changeInExchangeRate\": \"None\",\n",
      "            \"netIncome\": \"34630000000\"\n",
      "        },\n",
      "        {\n",
      "            \"fiscalDateEnding\": \"2021-09-30\",\n",
      "            \"reportedCurrency\": \"USD\",\n",
      "            \"operatingCashflow\": \"20200000000\",\n",
      "            \"paymentsForOperatingActivities\": \"2217000000\",\n",
      "            \"proceedsFromOperatingActivities\": \"None\",\n",
      "            \"changeInOperatingLiabilities\": \"19386000000\",\n",
      "            \"changeInOperatingAssets\": \"21176000000\",\n",
      "            \"depreciationDepletionAndAmortization\": \"2989000000\",\n",
      "            \"capitalExpenditures\": \"3223000000\",\n",
      "            \"changeInReceivables\": \"17604000000\",\n",
      "            \"changeInInventory\": \"1429000000\",\n",
      "            \"profitLoss\": \"20551000000\",\n",
      "            \"cashflowFromInvestment\": \"835000000\",\n",
      "            \"cashflowFromFinancing\": \"-20382000000\",\n",
      "            \"proceedsFromRepaymentsOfShortTermDebt\": \"-4000000000\",\n",
      "            \"paymentsForRepurchaseOfCommonStock\": \"19748000000\",\n",
      "            \"paymentsForRepurchaseOfEquity\": \"19748000000\",\n",
      "            \"paymentsForRepurchaseOfPreferredStock\": \"None\",\n",
      "            \"dividendPayout\": \"3640000000\",\n",
      "            \"dividendPayoutCommonStock\": \"3640000000\",\n",
      "            \"dividendPayoutPreferredStock\": \"None\",\n",
      "            \"proceedsFromIssuanceOfCommonStock\": \"544000000\",\n",
      "            \"proceedsFromIssuanceOfLongTermDebtAndCapitalSecuritiesNet\": \"6470000000\",\n",
      "            \"proceedsFromIssuanceOfPreferredStock\": \"None\",\n",
      "            \"proceedsFromRepurchaseOfEquity\": \"-19204000000\",\n",
      "            \"proceedsFromSaleOfTreasuryStock\": \"None\",\n",
      "            \"changeInCashAndCashEquivalents\": \"653000000\",\n",
      "            \"changeInExchangeRate\": \"None\",\n",
      "            \"netIncome\": \"20551000000\"\n",
      "        },\n",
      "        {\n",
      "            \"fiscalDateEnding\": \"2021-06-30\",\n",
      "            \"reportedCurrency\": \"USD\",\n",
      "            \"operatingCashflow\": \"21094000000\",\n",
      "            \"paymentsForOperatingActivities\": \"543000000\",\n",
      "            \"proceedsFromOperatingActivities\": \"None\",\n",
      "            \"changeInOperatingLiabilities\": \"-2275000000\",\n",
      "            \"changeInOperatingAssets\": \"2422000000\",\n",
      "            \"depreciationDepletionAndAmortization\": \"2832000000\",\n",
      "            \"capitalExpenditures\": \"2093000000\",\n",
      "            \"changeInReceivables\": \"869000000\",\n",
      "            \"changeInInventory\": \"-13000000\",\n",
      "            \"profitLoss\": \"21744000000\",\n",
      "            \"cashflowFromInvestment\": \"3572000000\",\n",
      "            \"cashflowFromFinancing\": \"-29396000000\",\n",
      "            \"proceedsFromRepaymentsOfShortTermDebt\": \"6000000000\",\n",
      "            \"paymentsForRepurchaseOfCommonStock\": \"22900000000\",\n",
      "            \"paymentsForRepurchaseOfEquity\": \"22900000000\",\n",
      "            \"paymentsForRepurchaseOfPreferredStock\": \"None\",\n",
      "            \"dividendPayout\": \"3767000000\",\n",
      "            \"dividendPayoutCommonStock\": \"3767000000\",\n",
      "            \"dividendPayoutPreferredStock\": \"None\",\n",
      "            \"proceedsFromIssuanceOfCommonStock\": \"0\",\n",
      "            \"proceedsFromIssuanceOfLongTermDebtAndCapitalSecuritiesNet\": \"0\",\n",
      "            \"proceedsFromIssuanceOfPreferredStock\": \"None\",\n",
      "            \"proceedsFromRepurchaseOfEquity\": \"-22900000000\",\n",
      "            \"proceedsFromSaleOfTreasuryStock\": \"None\",\n",
      "            \"changeInCashAndCashEquivalents\": \"21744000000\",\n",
      "            \"changeInExchangeRate\": \"None\",\n",
      "            \"netIncome\": \"21744000000\"\n",
      "        },\n",
      "        {\n",
      "            \"fiscalDateEnding\": \"2021-03-31\",\n",
      "            \"reportedCurrency\": \"USD\",\n",
      "            \"operatingCashflow\": \"23981000000\",\n",
      "            \"paymentsForOperatingActivities\": \"708000000\",\n",
      "            \"proceedsFromOperatingActivities\": \"None\",\n",
      "            \"changeInOperatingLiabilities\": \"-28280000000\",\n",
      "            \"changeInOperatingAssets\": \"-24501000000\",\n",
      "            \"depreciationDepletionAndAmortization\": \"2797000000\",\n",
      "            \"capitalExpenditures\": \"2269000000\",\n",
      "            \"changeInReceivables\": \"-25584000000\",\n",
      "            \"changeInInventory\": \"276000000\",\n",
      "            \"profitLoss\": \"23630000000\",\n",
      "            \"cashflowFromInvestment\": \"-10368000000\",\n",
      "            \"cashflowFromFinancing\": \"-11326000000\",\n",
      "            \"proceedsFromRepaymentsOfShortTermDebt\": \"0\",\n",
      "            \"paymentsForRepurchaseOfCommonStock\": \"18548000000\",\n",
      "            \"paymentsForRepurchaseOfEquity\": \"18548000000\",\n",
      "            \"paymentsForRepurchaseOfPreferredStock\": \"None\",\n",
      "            \"dividendPayout\": \"3447000000\",\n",
      "            \"dividendPayoutCommonStock\": \"3447000000\",\n",
      "            \"dividendPayoutPreferredStock\": \"None\",\n",
      "            \"proceedsFromIssuanceOfCommonStock\": \"561000000\",\n",
      "            \"proceedsFromIssuanceOfLongTermDebtAndCapitalSecuritiesNet\": \"13923000000\",\n",
      "            \"proceedsFromIssuanceOfPreferredStock\": \"None\",\n",
      "            \"proceedsFromRepurchaseOfEquity\": \"-17987000000\",\n",
      "            \"proceedsFromSaleOfTreasuryStock\": \"None\",\n",
      "            \"changeInCashAndCashEquivalents\": \"23630000000\",\n",
      "            \"changeInExchangeRate\": \"None\",\n",
      "            \"netIncome\": \"23630000000\"\n",
      "        },\n",
      "        {\n",
      "            \"fiscalDateEnding\": \"2020-12-31\",\n",
      "            \"reportedCurrency\": \"USD\",\n",
      "            \"operatingCashflow\": \"38763000000\",\n",
      "            \"paymentsForOperatingActivities\": \"619000000\",\n",
      "            \"proceedsFromOperatingActivities\": \"None\",\n",
      "            \"changeInOperatingLiabilities\": \"30970000000\",\n",
      "            \"changeInOperatingAssets\": \"25615000000\",\n",
      "            \"depreciationDepletionAndAmortization\": \"2666000000\",\n",
      "            \"capitalExpenditures\": \"3500000000\",\n",
      "            \"changeInReceivables\": \"21139000000\",\n",
      "            \"changeInInventory\": \"950000000\",\n",
      "            \"profitLoss\": \"28755000000\",\n",
      "            \"cashflowFromInvestment\": \"-8584000000\",\n",
      "            \"cashflowFromFinancing\": \"-32249000000\",\n",
      "            \"proceedsFromRepaymentsOfShortTermDebt\": \"44000000\",\n",
      "            \"paymentsForRepurchaseOfCommonStock\": \"24775000000\",\n",
      "            \"paymentsForRepurchaseOfEquity\": \"24775000000\",\n",
      "            \"paymentsForRepurchaseOfPreferredStock\": \"None\",\n",
      "            \"dividendPayout\": \"3613000000\",\n",
      "            \"dividendPayoutCommonStock\": \"3613000000\",\n",
      "            \"dividendPayoutPreferredStock\": \"None\",\n",
      "            \"proceedsFromIssuanceOfCommonStock\": \"0\",\n",
      "            \"proceedsFromIssuanceOfLongTermDebtAndCapitalSecuritiesNet\": \"0\",\n",
      "            \"proceedsFromIssuanceOfPreferredStock\": \"None\",\n",
      "            \"proceedsFromRepurchaseOfEquity\": \"-24775000000\",\n",
      "            \"proceedsFromSaleOfTreasuryStock\": \"None\",\n",
      "            \"changeInCashAndCashEquivalents\": \"-2070000000\",\n",
      "            \"changeInExchangeRate\": \"None\",\n",
      "            \"netIncome\": \"28755000000\"\n",
      "        },\n",
      "        {\n",
      "            \"fiscalDateEnding\": \"2020-09-30\",\n",
      "            \"reportedCurrency\": \"USD\",\n",
      "            \"operatingCashflow\": \"20576000000\",\n",
      "            \"paymentsForOperatingActivities\": \"1127000000\",\n",
      "            \"proceedsFromOperatingActivities\": \"None\",\n",
      "            \"changeInOperatingLiabilities\": \"12206000000\",\n",
      "            \"changeInOperatingAssets\": \"8329000000\",\n",
      "            \"depreciationDepletionAndAmortization\": \"2702000000\",\n",
      "            \"capitalExpenditures\": \"1784000000\",\n",
      "            \"changeInReceivables\": \"5364000000\",\n",
      "            \"changeInInventory\": \"137000000\",\n",
      "            \"profitLoss\": \"24689000000\",\n",
      "            \"cashflowFromInvestment\": \"5531000000\",\n",
      "            \"cashflowFromFinancing\": \"-21357000000\",\n",
      "            \"proceedsFromRepaymentsOfShortTermDebt\": \"-7153000000\",\n",
      "            \"paymentsForRepurchaseOfCommonStock\": \"17187000000\",\n",
      "            \"paymentsForRepurchaseOfEquity\": \"17187000000\",\n",
      "            \"paymentsForRepurchaseOfPreferredStock\": \"None\",\n",
      "            \"dividendPayout\": \"3511000000\",\n",
      "            \"dividendPayoutCommonStock\": \"3511000000\",\n",
      "            \"dividendPayoutPreferredStock\": \"None\",\n",
      "            \"proceedsFromIssuanceOfCommonStock\": \"450000000\",\n",
      "            \"proceedsFromIssuanceOfLongTermDebtAndCapitalSecuritiesNet\": \"5456000000\",\n",
      "            \"proceedsFromIssuanceOfPreferredStock\": \"None\",\n",
      "            \"proceedsFromRepurchaseOfEquity\": \"-16737000000\",\n",
      "            \"proceedsFromSaleOfTreasuryStock\": \"None\",\n",
      "            \"changeInCashAndCashEquivalents\": \"24689000000\",\n",
      "            \"changeInExchangeRate\": \"None\",\n",
      "            \"netIncome\": \"12673000000\"\n",
      "        },\n",
      "        {\n",
      "            \"fiscalDateEnding\": \"2020-06-30\",\n",
      "            \"reportedCurrency\": \"USD\",\n",
      "            \"operatingCashflow\": \"16271000000\",\n",
      "            \"paymentsForOperatingActivities\": \"388000000\",\n",
      "            \"proceedsFromOperatingActivities\": \"None\",\n",
      "            \"changeInOperatingLiabilities\": \"-474000000\",\n",
      "            \"changeInOperatingAssets\": \"-44000000\",\n",
      "            \"depreciationDepletionAndAmortization\": \"2752000000\",\n",
      "            \"capitalExpenditures\": \"1565000000\",\n",
      "            \"changeInReceivables\": \"1373000000\",\n",
      "            \"changeInInventory\": \"689000000\",\n",
      "            \"profitLoss\": \"11253000000\",\n",
      "            \"cashflowFromInvestment\": \"-5165000000\",\n",
      "            \"cashflowFromFinancing\": \"-19116000000\",\n",
      "            \"proceedsFromRepaymentsOfShortTermDebt\": \"-365000000\",\n",
      "            \"paymentsForRepurchaseOfCommonStock\": \"15891000000\",\n",
      "            \"paymentsForRepurchaseOfEquity\": \"15891000000\",\n",
      "            \"paymentsForRepurchaseOfPreferredStock\": \"None\",\n",
      "            \"dividendPayout\": \"3656000000\",\n",
      "            \"dividendPayoutCommonStock\": \"3656000000\",\n",
      "            \"dividendPayoutPreferredStock\": \"None\",\n",
      "            \"proceedsFromIssuanceOfCommonStock\": \"0\",\n",
      "            \"proceedsFromIssuanceOfLongTermDebtAndCapitalSecuritiesNet\": \"8425000000\",\n",
      "            \"proceedsFromIssuanceOfPreferredStock\": \"None\",\n",
      "            \"proceedsFromRepurchaseOfEquity\": \"-15891000000\",\n",
      "            \"proceedsFromSaleOfTreasuryStock\": \"None\",\n",
      "            \"changeInCashAndCashEquivalents\": \"10865000000\",\n",
      "            \"changeInExchangeRate\": \"None\",\n",
      "            \"netIncome\": \"11253000000\"\n",
      "        },\n",
      "        {\n",
      "            \"fiscalDateEnding\": \"2020-03-31\",\n",
      "            \"reportedCurrency\": \"USD\",\n",
      "            \"operatingCashflow\": \"13311000000\",\n",
      "            \"paymentsForOperatingActivities\": \"353000000\",\n",
      "            \"proceedsFromOperatingActivities\": \"None\",\n",
      "            \"changeInOperatingLiabilities\": \"-10207000000\",\n",
      "            \"changeInOperatingAssets\": \"-8205000000\",\n",
      "            \"depreciationDepletionAndAmortization\": \"2786000000\",\n",
      "            \"capitalExpenditures\": \"1853000000\",\n",
      "            \"changeInReceivables\": \"-9290000000\",\n",
      "            \"changeInInventory\": \"-727000000\",\n",
      "            \"profitLoss\": \"11249000000\",\n",
      "            \"cashflowFromInvestment\": \"9013000000\",\n",
      "            \"cashflowFromFinancing\": \"-20940000000\",\n",
      "            \"proceedsFromRepaymentsOfShortTermDebt\": \"7550000000\",\n",
      "            \"paymentsForRepurchaseOfCommonStock\": \"18574000000\",\n",
      "            \"paymentsForRepurchaseOfEquity\": \"18574000000\",\n",
      "            \"paymentsForRepurchaseOfPreferredStock\": \"None\",\n",
      "            \"dividendPayout\": \"3375000000\",\n",
      "            \"dividendPayoutCommonStock\": \"3375000000\",\n",
      "            \"dividendPayoutPreferredStock\": \"None\",\n",
      "            \"proceedsFromIssuanceOfCommonStock\": \"428000000\",\n",
      "            \"proceedsFromIssuanceOfLongTermDebtAndCapitalSecuritiesNet\": \"0\",\n",
      "            \"proceedsFromIssuanceOfPreferredStock\": \"None\",\n",
      "            \"proceedsFromRepurchaseOfEquity\": \"-18146000000\",\n",
      "            \"proceedsFromSaleOfTreasuryStock\": \"None\",\n",
      "            \"changeInCashAndCashEquivalents\": \"10896000000\",\n",
      "            \"changeInExchangeRate\": \"None\",\n",
      "            \"netIncome\": \"11249000000\"\n",
      "        },\n",
      "        {\n",
      "            \"fiscalDateEnding\": \"2019-12-31\",\n",
      "            \"reportedCurrency\": \"USD\",\n",
      "            \"operatingCashflow\": \"30516000000\",\n",
      "            \"paymentsForOperatingActivities\": \"1120000000\",\n",
      "            \"proceedsFromOperatingActivities\": \"None\",\n",
      "            \"changeInOperatingLiabilities\": \"5410000000\",\n",
      "            \"changeInOperatingAssets\": \"1165000000\",\n",
      "            \"depreciationDepletionAndAmortization\": \"2816000000\",\n",
      "            \"capitalExpenditures\": \"2107000000\",\n",
      "            \"changeInReceivables\": \"-5917000000\",\n",
      "            \"changeInInventory\": \"28000000\",\n",
      "            \"profitLoss\": \"22236000000\",\n",
      "            \"cashflowFromInvestment\": \"-13668000000\",\n",
      "            \"cashflowFromFinancing\": \"-25407000000\",\n",
      "            \"proceedsFromRepaymentsOfShortTermDebt\": \"-1958000000\",\n",
      "            \"paymentsForRepurchaseOfCommonStock\": \"20706000000\",\n",
      "            \"paymentsForRepurchaseOfEquity\": \"20706000000\",\n",
      "            \"paymentsForRepurchaseOfPreferredStock\": \"None\",\n",
      "            \"dividendPayout\": \"3539000000\",\n",
      "            \"dividendPayoutCommonStock\": \"3539000000\",\n",
      "            \"dividendPayoutPreferredStock\": \"None\",\n",
      "            \"proceedsFromIssuanceOfCommonStock\": \"2000000\",\n",
      "            \"proceedsFromIssuanceOfLongTermDebtAndCapitalSecuritiesNet\": \"2210000000\",\n",
      "            \"proceedsFromIssuanceOfPreferredStock\": \"None\",\n",
      "            \"proceedsFromRepurchaseOfEquity\": \"-20704000000\",\n",
      "            \"proceedsFromSaleOfTreasuryStock\": \"None\",\n",
      "            \"changeInCashAndCashEquivalents\": \"-8559000000\",\n",
      "            \"changeInExchangeRate\": \"None\",\n",
      "            \"netIncome\": \"22236000000\"\n",
      "        },\n",
      "        {\n",
      "            \"fiscalDateEnding\": \"2019-09-30\",\n",
      "            \"reportedCurrency\": \"USD\",\n",
      "            \"operatingCashflow\": \"19910000000\",\n",
      "            \"paymentsForOperatingActivities\": \"860000000\",\n",
      "            \"proceedsFromOperatingActivities\": \"None\",\n",
      "            \"changeInOperatingLiabilities\": \"22085000000\",\n",
      "            \"changeInOperatingAssets\": \"19925000000\",\n",
      "            \"depreciationDepletionAndAmortization\": \"3179000000\",\n",
      "            \"capitalExpenditures\": \"2777000000\",\n",
      "            \"changeInReceivables\": \"19320000000\",\n",
      "            \"changeInInventory\": \"785000000\",\n",
      "            \"profitLoss\": \"24313000000\",\n",
      "            \"cashflowFromInvestment\": \"-798000000\",\n",
      "            \"cashflowFromFinancing\": \"-21039000000\",\n",
      "            \"proceedsFromRepaymentsOfShortTermDebt\": \"-7902000000\",\n",
      "            \"paymentsForRepurchaseOfCommonStock\": \"17444000000\",\n",
      "            \"paymentsForRepurchaseOfEquity\": \"17444000000\",\n",
      "            \"paymentsForRepurchaseOfPreferredStock\": \"None\",\n",
      "            \"dividendPayout\": \"3479000000\",\n",
      "            \"dividendPayoutCommonStock\": \"3479000000\",\n",
      "            \"dividendPayoutPreferredStock\": \"None\",\n",
      "            \"proceedsFromIssuanceOfCommonStock\": \"390000000\",\n",
      "            \"proceedsFromIssuanceOfLongTermDebtAndCapitalSecuritiesNet\": \"6963000000\",\n",
      "            \"proceedsFromIssuanceOfPreferredStock\": \"None\",\n",
      "            \"proceedsFromRepurchaseOfEquity\": \"-17054000000\",\n",
      "            \"proceedsFromSaleOfTreasuryStock\": \"None\",\n",
      "            \"changeInCashAndCashEquivalents\": \"24313000000\",\n",
      "            \"changeInExchangeRate\": \"None\",\n",
      "            \"netIncome\": \"13686000000\"\n",
      "        },\n",
      "        {\n",
      "            \"fiscalDateEnding\": \"2019-06-30\",\n",
      "            \"reportedCurrency\": \"USD\",\n",
      "            \"operatingCashflow\": \"11636000000\",\n",
      "            \"paymentsForOperatingActivities\": \"801000000\",\n",
      "            \"proceedsFromOperatingActivities\": \"None\",\n",
      "            \"changeInOperatingLiabilities\": \"-5496000000\",\n",
      "            \"changeInOperatingAssets\": \"-2698000000\",\n",
      "            \"depreciationDepletionAndAmortization\": \"2933000000\",\n",
      "            \"capitalExpenditures\": \"2000000000\",\n",
      "            \"changeInReceivables\": \"214000000\",\n",
      "            \"changeInInventory\": \"-1502000000\",\n",
      "            \"profitLoss\": \"10044000000\",\n",
      "            \"cashflowFromInvestment\": \"27502000000\",\n",
      "            \"cashflowFromFinancing\": \"-26804000000\",\n",
      "            \"proceedsFromRepaymentsOfShortTermDebt\": \"-3980000000\",\n",
      "            \"paymentsForRepurchaseOfCommonStock\": \"16955000000\",\n",
      "            \"paymentsForRepurchaseOfEquity\": \"16955000000\",\n",
      "            \"paymentsForRepurchaseOfPreferredStock\": \"None\",\n",
      "            \"dividendPayout\": \"3629000000\",\n",
      "            \"dividendPayoutCommonStock\": \"3629000000\",\n",
      "            \"dividendPayoutPreferredStock\": \"None\",\n",
      "            \"proceedsFromIssuanceOfCommonStock\": \"1000000\",\n",
      "            \"proceedsFromIssuanceOfLongTermDebtAndCapitalSecuritiesNet\": \"0\",\n",
      "            \"proceedsFromIssuanceOfPreferredStock\": \"None\",\n",
      "            \"proceedsFromRepurchaseOfEquity\": \"-16954000000\",\n",
      "            \"proceedsFromSaleOfTreasuryStock\": \"None\",\n",
      "            \"changeInCashAndCashEquivalents\": \"10044000000\",\n",
      "            \"changeInExchangeRate\": \"None\",\n",
      "            \"netIncome\": \"10044000000\"\n",
      "        },\n",
      "        {\n",
      "            \"fiscalDateEnding\": \"2019-03-31\",\n",
      "            \"reportedCurrency\": \"USD\",\n",
      "            \"operatingCashflow\": \"11155000000\",\n",
      "            \"paymentsForOperatingActivities\": \"926000000\",\n",
      "            \"proceedsFromOperatingActivities\": \"None\",\n",
      "            \"changeInOperatingLiabilities\": \"-15536000000\",\n",
      "            \"changeInOperatingAssets\": \"-10914000000\",\n",
      "            \"depreciationDepletionAndAmortization\": \"3040000000\",\n",
      "            \"capitalExpenditures\": \"2363000000\",\n",
      "            \"changeInReceivables\": \"-10675000000\",\n",
      "            \"changeInInventory\": \"-70000000\",\n",
      "            \"profitLoss\": \"11561000000\",\n",
      "            \"cashflowFromInvestment\": \"13348000000\",\n",
      "            \"cashflowFromFinancing\": \"-29457000000\",\n",
      "            \"proceedsFromRepaymentsOfShortTermDebt\": \"-84000000\",\n",
      "            \"paymentsForRepurchaseOfCommonStock\": \"23702000000\",\n",
      "            \"paymentsForRepurchaseOfEquity\": \"23702000000\",\n",
      "            \"paymentsForRepurchaseOfPreferredStock\": \"None\",\n",
      "            \"dividendPayout\": \"3443000000\",\n",
      "            \"dividendPayoutCommonStock\": \"3443000000\",\n",
      "            \"dividendPayoutPreferredStock\": \"None\",\n",
      "            \"proceedsFromIssuanceOfCommonStock\": \"390000000\",\n",
      "            \"proceedsFromIssuanceOfLongTermDebtAndCapitalSecuritiesNet\": \"0\",\n",
      "            \"proceedsFromIssuanceOfPreferredStock\": \"None\",\n",
      "            \"proceedsFromRepurchaseOfEquity\": \"-23312000000\",\n",
      "            \"proceedsFromSaleOfTreasuryStock\": \"None\",\n",
      "            \"changeInCashAndCashEquivalents\": \"11561000000\",\n",
      "            \"changeInExchangeRate\": \"None\",\n",
      "            \"netIncome\": \"11561000000\"\n",
      "        },\n",
      "        {\n",
      "            \"fiscalDateEnding\": \"2018-12-31\",\n",
      "            \"reportedCurrency\": \"USD\",\n",
      "            \"operatingCashflow\": \"26690000000\",\n",
      "            \"paymentsForOperatingActivities\": \"836000000\",\n",
      "            \"proceedsFromOperatingActivities\": \"None\",\n",
      "            \"changeInOperatingLiabilities\": \"-8301000000\",\n",
      "            \"changeInOperatingAssets\": \"-10073000000\",\n",
      "            \"depreciationDepletionAndAmortization\": \"3395000000\",\n",
      "            \"capitalExpenditures\": \"3355000000\",\n",
      "            \"changeInReceivables\": \"-12035000000\",\n",
      "            \"changeInInventory\": \"1076000000\",\n",
      "            \"profitLoss\": \"19965000000\",\n",
      "            \"cashflowFromInvestment\": \"5844000000\",\n",
      "            \"cashflowFromFinancing\": \"-13676000000\",\n",
      "            \"proceedsFromRepaymentsOfShortTermDebt\": \"12000000\",\n",
      "            \"paymentsForRepurchaseOfCommonStock\": \"8796000000\",\n",
      "            \"paymentsForRepurchaseOfEquity\": \"8796000000\",\n",
      "            \"paymentsForRepurchaseOfPreferredStock\": \"None\",\n",
      "            \"dividendPayout\": \"3568000000\",\n",
      "            \"dividendPayoutCommonStock\": \"3568000000\",\n",
      "            \"dividendPayoutPreferredStock\": \"None\",\n",
      "            \"proceedsFromIssuanceOfCommonStock\": \"0\",\n",
      "            \"proceedsFromIssuanceOfLongTermDebtAndCapitalSecuritiesNet\": \"0\",\n",
      "            \"proceedsFromIssuanceOfPreferredStock\": \"None\",\n",
      "            \"proceedsFromRepurchaseOfEquity\": \"-8796000000\",\n",
      "            \"proceedsFromSaleOfTreasuryStock\": \"None\",\n",
      "            \"changeInCashAndCashEquivalents\": \"18858000000\",\n",
      "            \"changeInExchangeRate\": \"None\",\n",
      "            \"netIncome\": \"19965000000\"\n",
      "        },\n",
      "        {\n",
      "            \"fiscalDateEnding\": \"2018-09-30\",\n",
      "            \"reportedCurrency\": \"USD\",\n",
      "            \"operatingCashflow\": \"19523000000\",\n",
      "            \"paymentsForOperatingActivities\": \"902000000\",\n",
      "            \"proceedsFromOperatingActivities\": \"None\",\n",
      "            \"changeInOperatingLiabilities\": \"21898000000\",\n",
      "            \"changeInOperatingAssets\": \"21040000000\",\n",
      "            \"depreciationDepletionAndAmortization\": \"2754000000\",\n",
      "            \"capitalExpenditures\": \"3041000000\",\n",
      "            \"changeInReceivables\": \"22624000000\",\n",
      "            \"changeInInventory\": \"-1942000000\",\n",
      "            \"profitLoss\": \"24084000000\",\n",
      "            \"cashflowFromInvestment\": \"-3001000000\",\n",
      "            \"cashflowFromFinancing\": \"-22580000000\",\n",
      "            \"proceedsFromRepaymentsOfShortTermDebt\": \"-54000000\",\n",
      "            \"paymentsForRepurchaseOfCommonStock\": \"19104000000\",\n",
      "            \"paymentsForRepurchaseOfEquity\": \"19104000000\",\n",
      "            \"paymentsForRepurchaseOfPreferredStock\": \"None\",\n",
      "            \"dividendPayout\": \"3530000000\",\n",
      "            \"dividendPayoutCommonStock\": \"3530000000\",\n",
      "            \"dividendPayoutPreferredStock\": \"None\",\n",
      "            \"proceedsFromIssuanceOfCommonStock\": \"341000000\",\n",
      "            \"proceedsFromIssuanceOfLongTermDebtAndCapitalSecuritiesNet\": \"0\",\n",
      "            \"proceedsFromIssuanceOfPreferredStock\": \"None\",\n",
      "            \"proceedsFromRepurchaseOfEquity\": \"-18763000000\",\n",
      "            \"proceedsFromSaleOfTreasuryStock\": \"None\",\n",
      "            \"changeInCashAndCashEquivalents\": \"-6058000000\",\n",
      "            \"changeInExchangeRate\": \"None\",\n",
      "            \"netIncome\": \"14125000000\"\n",
      "        },\n",
      "        {\n",
      "            \"fiscalDateEnding\": \"2018-06-30\",\n",
      "            \"reportedCurrency\": \"USD\",\n",
      "            \"operatingCashflow\": \"14488000000\",\n",
      "            \"paymentsForOperatingActivities\": \"764000000\",\n",
      "            \"proceedsFromOperatingActivities\": \"None\",\n",
      "            \"changeInOperatingLiabilities\": \"-649000000\",\n",
      "            \"changeInOperatingAssets\": \"1265000000\",\n",
      "            \"depreciationDepletionAndAmortization\": \"2665000000\",\n",
      "            \"capitalExpenditures\": \"3267000000\",\n",
      "            \"changeInReceivables\": \"3946000000\",\n",
      "            \"changeInInventory\": \"-1693000000\",\n",
      "            \"profitLoss\": \"11519000000\",\n",
      "            \"cashflowFromInvestment\": \"3947000000\",\n",
      "            \"cashflowFromFinancing\": \"-31523000000\",\n",
      "            \"proceedsFromRepaymentsOfShortTermDebt\": \"-22000000\",\n",
      "            \"paymentsForRepurchaseOfCommonStock\": \"20783000000\",\n",
      "            \"paymentsForRepurchaseOfEquity\": \"20783000000\",\n",
      "            \"paymentsForRepurchaseOfPreferredStock\": \"None\",\n",
      "            \"dividendPayout\": \"3653000000\",\n",
      "            \"dividendPayoutCommonStock\": \"3653000000\",\n",
      "            \"dividendPayoutPreferredStock\": \"None\",\n",
      "            \"proceedsFromIssuanceOfCommonStock\": \"1000000\",\n",
      "            \"proceedsFromIssuanceOfLongTermDebtAndCapitalSecuritiesNet\": \"0\",\n",
      "            \"proceedsFromIssuanceOfPreferredStock\": \"None\",\n",
      "            \"proceedsFromRepurchaseOfEquity\": \"-20782000000\",\n",
      "            \"proceedsFromSaleOfTreasuryStock\": \"None\",\n",
      "            \"changeInCashAndCashEquivalents\": \"-13088000000\",\n",
      "            \"changeInExchangeRate\": \"None\",\n",
      "            \"netIncome\": \"11519000000\"\n",
      "        },\n",
      "        {\n",
      "            \"fiscalDateEnding\": \"2018-03-31\",\n",
      "            \"reportedCurrency\": \"USD\",\n",
      "            \"operatingCashflow\": \"15130000000\",\n",
      "            \"paymentsForOperatingActivities\": \"733000000\",\n",
      "            \"proceedsFromOperatingActivities\": \"None\",\n",
      "            \"changeInOperatingLiabilities\": \"-26512000000\",\n",
      "            \"changeInOperatingAssets\": \"-24371000000\",\n",
      "            \"depreciationDepletionAndAmortization\": \"2739000000\",\n",
      "            \"capitalExpenditures\": \"4041000000\",\n",
      "            \"changeInReceivables\": \"-28468000000\",\n",
      "            \"changeInInventory\": \"3241000000\",\n",
      "            \"profitLoss\": \"13822000000\",\n",
      "            \"cashflowFromInvestment\": \"28710000000\",\n",
      "            \"cashflowFromFinancing\": \"-26272000000\",\n",
      "            \"proceedsFromRepaymentsOfShortTermDebt\": \"-2000000\",\n",
      "            \"paymentsForRepurchaseOfCommonStock\": \"22756000000\",\n",
      "            \"paymentsForRepurchaseOfEquity\": \"22756000000\",\n",
      "            \"paymentsForRepurchaseOfPreferredStock\": \"None\",\n",
      "            \"dividendPayout\": \"3190000000\",\n",
      "            \"dividendPayoutCommonStock\": \"3190000000\",\n",
      "            \"dividendPayoutPreferredStock\": \"None\",\n",
      "            \"proceedsFromIssuanceOfCommonStock\": \"0\",\n",
      "            \"proceedsFromIssuanceOfLongTermDebtAndCapitalSecuritiesNet\": \"0\",\n",
      "            \"proceedsFromIssuanceOfPreferredStock\": \"None\",\n",
      "            \"proceedsFromRepurchaseOfEquity\": \"-22429000000\",\n",
      "            \"proceedsFromSaleOfTreasuryStock\": \"None\",\n",
      "            \"changeInCashAndCashEquivalents\": \"17568000000\",\n",
      "            \"changeInExchangeRate\": \"None\",\n",
      "            \"netIncome\": \"13822000000\"\n",
      "        },\n",
      "        {\n",
      "            \"fiscalDateEnding\": \"2017-12-31\",\n",
      "            \"reportedCurrency\": \"USD\",\n",
      "            \"operatingCashflow\": \"28293000000\",\n",
      "            \"paymentsForOperatingActivities\": \"623000000\",\n",
      "            \"proceedsFromOperatingActivities\": \"None\",\n",
      "            \"changeInOperatingLiabilities\": \"52928000000\",\n",
      "            \"changeInOperatingAssets\": \"14993000000\",\n",
      "            \"depreciationDepletionAndAmortization\": \"2745000000\",\n",
      "            \"capitalExpenditures\": \"2964000000\",\n",
      "            \"changeInReceivables\": \"15230000000\",\n",
      "            \"changeInInventory\": \"-434000000\",\n",
      "            \"profitLoss\": \"20065000000\",\n",
      "            \"cashflowFromInvestment\": \"-13590000000\",\n",
      "            \"cashflowFromFinancing\": \"-7501000000\",\n",
      "            \"proceedsFromRepaymentsOfShortTermDebt\": \"4000000\",\n",
      "            \"paymentsForRepurchaseOfCommonStock\": \"10095000000\",\n",
      "            \"paymentsForRepurchaseOfEquity\": \"10095000000\",\n",
      "            \"paymentsForRepurchaseOfPreferredStock\": \"None\",\n",
      "            \"dividendPayout\": \"3339000000\",\n",
      "            \"dividendPayoutCommonStock\": \"3232000000\",\n",
      "            \"dividendPayoutPreferredStock\": \"None\",\n",
      "            \"proceedsFromIssuanceOfCommonStock\": \"None\",\n",
      "            \"proceedsFromIssuanceOfLongTermDebtAndCapitalSecuritiesNet\": \"6969000000\",\n",
      "            \"proceedsFromIssuanceOfPreferredStock\": \"None\",\n",
      "            \"proceedsFromRepurchaseOfEquity\": \"-10095000000\",\n",
      "            \"proceedsFromSaleOfTreasuryStock\": \"None\",\n",
      "            \"changeInCashAndCashEquivalents\": \"7202000000\",\n",
      "            \"changeInExchangeRate\": \"None\",\n",
      "            \"netIncome\": \"20065000000\"\n",
      "        },\n",
      "        {\n",
      "            \"fiscalDateEnding\": \"2017-09-30\",\n",
      "            \"reportedCurrency\": \"USD\",\n",
      "            \"operatingCashflow\": \"15749000000\",\n",
      "            \"paymentsForOperatingActivities\": \"636000000\",\n",
      "            \"proceedsFromOperatingActivities\": \"None\",\n",
      "            \"changeInOperatingLiabilities\": \"16410000000\",\n",
      "            \"changeInOperatingAssets\": \"16838000000\",\n",
      "            \"depreciationDepletionAndAmortization\": \"2484000000\",\n",
      "            \"capitalExpenditures\": \"4209000000\",\n",
      "            \"changeInReceivables\": \"13040000000\",\n",
      "            \"changeInInventory\": \"1709000000\",\n",
      "            \"profitLoss\": \"19931000000\",\n",
      "            \"cashflowFromInvestment\": \"-9942000000\",\n",
      "            \"cashflowFromFinancing\": \"-4089000000\",\n",
      "            \"proceedsFromRepaymentsOfShortTermDebt\": \"-28000000\",\n",
      "            \"paymentsForRepurchaseOfCommonStock\": \"7795000000\",\n",
      "            \"paymentsForRepurchaseOfEquity\": \"7795000000\",\n",
      "            \"paymentsForRepurchaseOfPreferredStock\": \"None\",\n",
      "            \"dividendPayout\": \"3270000000\",\n",
      "            \"dividendPayoutCommonStock\": \"3252000000\",\n",
      "            \"dividendPayoutPreferredStock\": \"None\",\n",
      "            \"proceedsFromIssuanceOfCommonStock\": \"281000000\",\n",
      "            \"proceedsFromIssuanceOfLongTermDebtAndCapitalSecuritiesNet\": \"6937000000\",\n",
      "            \"proceedsFromIssuanceOfPreferredStock\": \"None\",\n",
      "            \"proceedsFromRepurchaseOfEquity\": \"-7514000000\",\n",
      "            \"proceedsFromSaleOfTreasuryStock\": \"None\",\n",
      "            \"changeInCashAndCashEquivalents\": \"1718000000\",\n",
      "            \"changeInExchangeRate\": \"None\",\n",
      "            \"netIncome\": \"10714000000\"\n",
      "        },\n",
      "        {\n",
      "            \"fiscalDateEnding\": \"2017-06-30\",\n",
      "            \"reportedCurrency\": \"USD\",\n",
      "            \"operatingCashflow\": \"8672000000\",\n",
      "            \"paymentsForOperatingActivities\": \"449000000\",\n",
      "            \"proceedsFromOperatingActivities\": \"None\",\n",
      "            \"changeInOperatingLiabilities\": \"-1030000000\",\n",
      "            \"changeInOperatingAssets\": \"4571000000\",\n",
      "            \"depreciationDepletionAndAmortization\": \"2354000000\",\n",
      "            \"capitalExpenditures\": \"2277000000\",\n",
      "            \"changeInReceivables\": \"2002000000\",\n",
      "            \"changeInInventory\": \"236000000\",\n",
      "            \"profitLoss\": \"17488000000\",\n",
      "            \"cashflowFromInvestment\": \"-3180000000\",\n",
      "            \"cashflowFromFinancing\": \"-2078000000\",\n",
      "            \"proceedsFromRepaymentsOfShortTermDebt\": \"3974000000\",\n",
      "            \"paymentsForRepurchaseOfCommonStock\": \"7093000000\",\n",
      "            \"paymentsForRepurchaseOfEquity\": \"7093000000\",\n",
      "            \"paymentsForRepurchaseOfPreferredStock\": \"None\",\n",
      "            \"dividendPayout\": \"3365000000\",\n",
      "            \"dividendPayoutCommonStock\": \"3281000000\",\n",
      "            \"dividendPayoutPreferredStock\": \"None\",\n",
      "            \"proceedsFromIssuanceOfCommonStock\": \"1000000\",\n",
      "            \"proceedsFromIssuanceOfLongTermDebtAndCapitalSecuritiesNet\": \"10750000000\",\n",
      "            \"proceedsFromIssuanceOfPreferredStock\": \"None\",\n",
      "            \"proceedsFromRepurchaseOfEquity\": \"-7092000000\",\n",
      "            \"proceedsFromSaleOfTreasuryStock\": \"None\",\n",
      "            \"changeInCashAndCashEquivalents\": \"3414000000\",\n",
      "            \"changeInExchangeRate\": \"None\",\n",
      "            \"netIncome\": \"8717000000\"\n",
      "        },\n",
      "        {\n",
      "            \"fiscalDateEnding\": \"2017-03-31\",\n",
      "            \"reportedCurrency\": \"USD\",\n",
      "            \"operatingCashflow\": \"12570000000\",\n",
      "            \"paymentsForOperatingActivities\": \"510000000\",\n",
      "            \"proceedsFromOperatingActivities\": \"None\",\n",
      "            \"changeInOperatingLiabilities\": \"-10990000000\",\n",
      "            \"changeInOperatingAssets\": \"-7725000000\",\n",
      "            \"depreciationDepletionAndAmortization\": \"2332000000\",\n",
      "            \"capitalExpenditures\": \"2889000000\",\n",
      "            \"changeInReceivables\": \"-7373000000\",\n",
      "            \"changeInInventory\": \"198000000\",\n",
      "            \"profitLoss\": \"20591000000\",\n",
      "            \"cashflowFromInvestment\": \"-14202000000\",\n",
      "            \"cashflowFromFinancing\": \"418000000\",\n",
      "            \"proceedsFromRepaymentsOfShortTermDebt\": \"-1012000000\",\n",
      "            \"paymentsForRepurchaseOfCommonStock\": \"7161000000\",\n",
      "            \"paymentsForRepurchaseOfEquity\": \"7161000000\",\n",
      "            \"paymentsForRepurchaseOfPreferredStock\": \"None\",\n",
      "            \"dividendPayout\": \"2988000000\",\n",
      "            \"dividendPayoutCommonStock\": \"2988000000\",\n",
      "            \"dividendPayoutPreferredStock\": \"None\",\n",
      "            \"proceedsFromIssuanceOfCommonStock\": \"273000000\",\n",
      "            \"proceedsFromIssuanceOfLongTermDebtAndCapitalSecuritiesNet\": \"10975000000\",\n",
      "            \"proceedsFromIssuanceOfPreferredStock\": \"None\",\n",
      "            \"proceedsFromRepurchaseOfEquity\": \"-6888000000\",\n",
      "            \"proceedsFromSaleOfTreasuryStock\": \"None\",\n",
      "            \"changeInCashAndCashEquivalents\": \"-1214000000\",\n",
      "            \"changeInExchangeRate\": \"None\",\n",
      "            \"netIncome\": \"11029000000\"\n",
      "        },\n",
      "        {\n",
      "            \"fiscalDateEnding\": \"2016-12-31\",\n",
      "            \"reportedCurrency\": \"USD\",\n",
      "            \"operatingCashflow\": \"27234000000\",\n",
      "            \"paymentsForOperatingActivities\": \"497000000\",\n",
      "            \"proceedsFromOperatingActivities\": \"None\",\n",
      "            \"changeInOperatingLiabilities\": \"4448000000\",\n",
      "            \"changeInOperatingAssets\": \"704000000\",\n",
      "            \"depreciationDepletionAndAmortization\": \"2987000000\",\n",
      "            \"capitalExpenditures\": \"3420000000\",\n",
      "            \"changeInReceivables\": \"-1322000000\",\n",
      "            \"changeInInventory\": \"580000000\",\n",
      "            \"profitLoss\": \"17891000000\",\n",
      "            \"cashflowFromInvestment\": \"-19122000000\",\n",
      "            \"cashflowFromFinancing\": \"-12225000000\",\n",
      "            \"proceedsFromRepaymentsOfShortTermDebt\": \"4770000000\",\n",
      "            \"paymentsForRepurchaseOfCommonStock\": \"10851000000\",\n",
      "            \"paymentsForRepurchaseOfEquity\": \"10851000000\",\n",
      "            \"paymentsForRepurchaseOfPreferredStock\": \"None\",\n",
      "            \"dividendPayout\": \"3130000000\",\n",
      "            \"dividendPayoutCommonStock\": \"3042000000\",\n",
      "            \"dividendPayoutPreferredStock\": \"None\",\n",
      "            \"proceedsFromIssuanceOfCommonStock\": \"0\",\n",
      "            \"proceedsFromIssuanceOfLongTermDebtAndCapitalSecuritiesNet\": \"0\",\n",
      "            \"proceedsFromIssuanceOfPreferredStock\": \"None\",\n",
      "            \"proceedsFromRepurchaseOfEquity\": \"-10851000000\",\n",
      "            \"proceedsFromSaleOfTreasuryStock\": \"None\",\n",
      "            \"changeInCashAndCashEquivalents\": \"-4113000000\",\n",
      "            \"changeInExchangeRate\": \"None\",\n",
      "            \"netIncome\": \"17891000000\"\n",
      "        },\n",
      "        {\n",
      "            \"fiscalDateEnding\": \"2016-09-30\",\n",
      "            \"reportedCurrency\": \"USD\",\n",
      "            \"operatingCashflow\": \"16533000000\",\n",
      "            \"paymentsForOperatingActivities\": \"424000000\",\n",
      "            \"proceedsFromOperatingActivities\": \"None\",\n",
      "            \"changeInOperatingLiabilities\": \"14398000000\",\n",
      "            \"changeInOperatingAssets\": \"10611000000\",\n",
      "            \"depreciationDepletionAndAmortization\": \"2548000000\",\n",
      "            \"capitalExpenditures\": \"4038000000\",\n",
      "            \"changeInReceivables\": \"10257000000\",\n",
      "            \"changeInInventory\": \"301000000\",\n",
      "            \"profitLoss\": \"17813000000\",\n",
      "            \"cashflowFromInvestment\": \"-7397000000\",\n",
      "            \"cashflowFromFinancing\": \"-6889000000\",\n",
      "            \"proceedsFromRepaymentsOfShortTermDebt\": \"-8778000000\",\n",
      "            \"paymentsForRepurchaseOfCommonStock\": \"6026000000\",\n",
      "            \"paymentsForRepurchaseOfEquity\": \"6026000000\",\n",
      "            \"paymentsForRepurchaseOfPreferredStock\": \"None\",\n",
      "            \"dividendPayout\": \"3071000000\",\n",
      "            \"dividendPayoutCommonStock\": \"3071000000\",\n",
      "            \"dividendPayoutPreferredStock\": \"None\",\n",
      "            \"proceedsFromIssuanceOfCommonStock\": \"248000000\",\n",
      "            \"proceedsFromIssuanceOfLongTermDebtAndCapitalSecuritiesNet\": \"6970000000\",\n",
      "            \"proceedsFromIssuanceOfPreferredStock\": \"None\",\n",
      "            \"proceedsFromRepurchaseOfEquity\": \"-5778000000\",\n",
      "            \"proceedsFromSaleOfTreasuryStock\": \"None\",\n",
      "            \"changeInCashAndCashEquivalents\": \"2247000000\",\n",
      "            \"changeInExchangeRate\": \"None\",\n",
      "            \"netIncome\": \"9014000000\"\n",
      "        },\n",
      "        {\n",
      "            \"fiscalDateEnding\": \"2016-06-30\",\n",
      "            \"reportedCurrency\": \"USD\",\n",
      "            \"operatingCashflow\": \"10634000000\",\n",
      "            \"paymentsForOperatingActivities\": \"327000000\",\n",
      "            \"proceedsFromOperatingActivities\": \"None\",\n",
      "            \"changeInOperatingLiabilities\": \"-4916000000\",\n",
      "            \"changeInOperatingAssets\": \"-7974000000\",\n",
      "            \"depreciationDepletionAndAmortization\": \"2526000000\",\n",
      "            \"capitalExpenditures\": \"2905000000\",\n",
      "            \"changeInReceivables\": \"-6681000000\",\n",
      "            \"changeInInventory\": \"-450000000\",\n",
      "            \"profitLoss\": \"7796000000\",\n",
      "            \"cashflowFromInvestment\": \"-4470000000\",\n",
      "            \"cashflowFromFinancing\": \"-9441000000\",\n",
      "            \"proceedsFromRepaymentsOfShortTermDebt\": \"8990000000\",\n",
      "            \"paymentsForRepurchaseOfCommonStock\": \"10166000000\",\n",
      "            \"paymentsForRepurchaseOfEquity\": \"10166000000\",\n",
      "            \"paymentsForRepurchaseOfPreferredStock\": \"None\",\n",
      "            \"dividendPayout\": \"3117000000\",\n",
      "            \"dividendPayoutCommonStock\": \"3117000000\",\n",
      "            \"dividendPayoutPreferredStock\": \"None\",\n",
      "            \"proceedsFromIssuanceOfCommonStock\": \"0\",\n",
      "            \"proceedsFromIssuanceOfLongTermDebtAndCapitalSecuritiesNet\": \"2400000000\",\n",
      "            \"proceedsFromIssuanceOfPreferredStock\": \"None\",\n",
      "            \"proceedsFromRepurchaseOfEquity\": \"-10166000000\",\n",
      "            \"proceedsFromSaleOfTreasuryStock\": \"None\",\n",
      "            \"changeInCashAndCashEquivalents\": \"-3277000000\",\n",
      "            \"changeInExchangeRate\": \"None\",\n",
      "            \"netIncome\": \"7796000000\"\n",
      "        },\n",
      "        {\n",
      "            \"fiscalDateEnding\": \"2016-03-31\",\n",
      "            \"reportedCurrency\": \"USD\",\n",
      "            \"operatingCashflow\": \"-9490000000\",\n",
      "            \"paymentsForOperatingActivities\": \"169000000\",\n",
      "            \"proceedsFromOperatingActivities\": \"None\",\n",
      "            \"changeInOperatingLiabilities\": \"-10100000000\",\n",
      "            \"changeInOperatingAssets\": \"-2087000000\",\n",
      "            \"depreciationDepletionAndAmortization\": \"2477000000\",\n",
      "            \"capitalExpenditures\": \"2599000000\",\n",
      "            \"changeInReceivables\": \"-724000000\",\n",
      "            \"changeInInventory\": \"-170000000\",\n",
      "            \"profitLoss\": \"10516000000\",\n",
      "            \"cashflowFromInvestment\": \"-13660000000\",\n",
      "            \"cashflowFromFinancing\": \"6884000000\",\n",
      "            \"proceedsFromRepaymentsOfShortTermDebt\": \"1474000000\",\n",
      "            \"paymentsForRepurchaseOfCommonStock\": \"6667000000\",\n",
      "            \"paymentsForRepurchaseOfEquity\": \"6667000000\",\n",
      "            \"paymentsForRepurchaseOfPreferredStock\": \"None\",\n",
      "            \"dividendPayout\": \"2879000000\",\n",
      "            \"dividendPayoutCommonStock\": \"2879000000\",\n",
      "            \"dividendPayoutPreferredStock\": \"None\",\n",
      "            \"proceedsFromIssuanceOfCommonStock\": \"246000000\",\n",
      "            \"proceedsFromIssuanceOfLongTermDebtAndCapitalSecuritiesNet\": \"15584000000\",\n",
      "            \"proceedsFromIssuanceOfPreferredStock\": \"None\",\n",
      "            \"proceedsFromRepurchaseOfEquity\": \"-6421000000\",\n",
      "            \"proceedsFromSaleOfTreasuryStock\": \"None\",\n",
      "            \"changeInCashAndCashEquivalents\": \"4825000000\",\n",
      "            \"changeInExchangeRate\": \"None\",\n",
      "            \"netIncome\": \"10516000000\"\n",
      "        },\n",
      "        {\n",
      "            \"fiscalDateEnding\": \"2015-12-31\",\n",
      "            \"reportedCurrency\": \"USD\",\n",
      "            \"operatingCashflow\": \"28548000000\",\n",
      "            \"paymentsForOperatingActivities\": \"396000000\",\n",
      "            \"proceedsFromOperatingActivities\": \"None\",\n",
      "            \"changeInOperatingLiabilities\": \"-1249000000\",\n",
      "            \"changeInOperatingAssets\": \"-2901000000\",\n",
      "            \"depreciationDepletionAndAmortization\": \"2954000000\",\n",
      "            \"capitalExpenditures\": \"4006000000\",\n",
      "            \"changeInReceivables\": \"-3896000000\",\n",
      "            \"changeInInventory\": \"102000000\",\n",
      "            \"profitLoss\": \"18361000000\",\n",
      "            \"cashflowFromInvestment\": \"-20450000000\",\n",
      "            \"cashflowFromFinancing\": \"-1681000000\",\n",
      "            \"proceedsFromRepaymentsOfShortTermDebt\": \"-2480000000\",\n",
      "            \"paymentsForRepurchaseOfCommonStock\": \"6863000000\",\n",
      "            \"paymentsForRepurchaseOfEquity\": \"6863000000\",\n",
      "            \"paymentsForRepurchaseOfPreferredStock\": \"None\",\n",
      "            \"dividendPayout\": \"2898000000\",\n",
      "            \"dividendPayoutCommonStock\": \"2898000000\",\n",
      "            \"dividendPayoutPreferredStock\": \"None\",\n",
      "            \"proceedsFromIssuanceOfCommonStock\": \"1000000\",\n",
      "            \"proceedsFromIssuanceOfLongTermDebtAndCapitalSecuritiesNet\": \"0\",\n",
      "            \"proceedsFromIssuanceOfPreferredStock\": \"None\",\n",
      "            \"proceedsFromRepurchaseOfEquity\": \"-6862000000\",\n",
      "            \"proceedsFromSaleOfTreasuryStock\": \"None\",\n",
      "            \"changeInCashAndCashEquivalents\": \"-4431000000\",\n",
      "            \"changeInExchangeRate\": \"None\",\n",
      "            \"netIncome\": \"18361000000\"\n",
      "        },\n",
      "        {\n",
      "            \"fiscalDateEnding\": \"2015-09-30\",\n",
      "            \"reportedCurrency\": \"USD\",\n",
      "            \"operatingCashflow\": \"-43358000000\",\n",
      "            \"paymentsForOperatingActivities\": \"87000000\",\n",
      "            \"proceedsFromOperatingActivities\": \"None\",\n",
      "            \"changeInOperatingLiabilities\": \"12963000000\",\n",
      "            \"changeInOperatingAssets\": \"9473000000\",\n",
      "            \"depreciationDepletionAndAmortization\": \"3119000000\",\n",
      "            \"capitalExpenditures\": \"3658000000\",\n",
      "            \"changeInReceivables\": \"6701000000\",\n",
      "            \"changeInInventory\": \"307000000\",\n",
      "            \"profitLoss\": \"20548000000\",\n",
      "            \"cashflowFromInvestment\": \"-1375000000\",\n",
      "            \"cashflowFromFinancing\": \"-6299000000\",\n",
      "            \"proceedsFromRepaymentsOfShortTermDebt\": \"7998000000\",\n",
      "            \"paymentsForRepurchaseOfCommonStock\": \"13253000000\",\n",
      "            \"paymentsForRepurchaseOfEquity\": \"13253000000\",\n",
      "            \"paymentsForRepurchaseOfPreferredStock\": \"None\",\n",
      "            \"dividendPayout\": \"2950000000\",\n",
      "            \"dividendPayoutCommonStock\": \"2964000000\",\n",
      "            \"dividendPayoutPreferredStock\": \"None\",\n",
      "            \"proceedsFromIssuanceOfCommonStock\": \"219000000\",\n",
      "            \"proceedsFromIssuanceOfLongTermDebtAndCapitalSecuritiesNet\": \"5802000000\",\n",
      "            \"proceedsFromIssuanceOfPreferredStock\": \"None\",\n",
      "            \"proceedsFromRepurchaseOfEquity\": \"-13034000000\",\n",
      "            \"proceedsFromSaleOfTreasuryStock\": \"None\",\n",
      "            \"changeInCashAndCashEquivalents\": \"5801000000\",\n",
      "            \"changeInExchangeRate\": \"None\",\n",
      "            \"netIncome\": \"11124000000\"\n",
      "        },\n",
      "        {\n",
      "            \"fiscalDateEnding\": \"2015-06-30\",\n",
      "            \"reportedCurrency\": \"USD\",\n",
      "            \"operatingCashflow\": \"10677000000\",\n",
      "            \"paymentsForOperatingActivities\": \"207000000\",\n",
      "            \"proceedsFromOperatingActivities\": \"None\",\n",
      "            \"changeInOperatingLiabilities\": \"981000000\",\n",
      "            \"changeInOperatingAssets\": \"1551000000\",\n",
      "            \"depreciationDepletionAndAmortization\": \"3084000000\",\n",
      "            \"capitalExpenditures\": \"2089000000\",\n",
      "            \"changeInReceivables\": \"1743000000\",\n",
      "            \"changeInInventory\": \"-354000000\",\n",
      "            \"profitLoss\": \"10677000000\",\n",
      "            \"cashflowFromInvestment\": \"-11403000000\",\n",
      "            \"cashflowFromFinancing\": \"-2997000000\",\n",
      "            \"proceedsFromRepaymentsOfShortTermDebt\": \"1400000000\",\n",
      "            \"paymentsForRepurchaseOfCommonStock\": \"10000000000\",\n",
      "            \"paymentsForRepurchaseOfEquity\": \"10000000000\",\n",
      "            \"paymentsForRepurchaseOfPreferredStock\": \"None\",\n",
      "            \"dividendPayout\": \"2997000000\",\n",
      "            \"dividendPayoutCommonStock\": \"3053000000\",\n",
      "            \"dividendPayoutPreferredStock\": \"None\",\n",
      "            \"proceedsFromIssuanceOfCommonStock\": \"15000000\",\n",
      "            \"proceedsFromIssuanceOfLongTermDebtAndCapitalSecuritiesNet\": \"9980000000\",\n",
      "            \"proceedsFromIssuanceOfPreferredStock\": \"None\",\n",
      "            \"proceedsFromRepurchaseOfEquity\": \"-9985000000\",\n",
      "            \"proceedsFromSaleOfTreasuryStock\": \"None\",\n",
      "            \"changeInCashAndCashEquivalents\": \"830000000\",\n",
      "            \"changeInExchangeRate\": \"None\",\n",
      "            \"netIncome\": \"10677000000\"\n",
      "        },\n",
      "        {\n",
      "            \"fiscalDateEnding\": \"2015-03-31\",\n",
      "            \"reportedCurrency\": \"USD\",\n",
      "            \"operatingCashflow\": \"13569000000\",\n",
      "            \"paymentsForOperatingActivities\": \"18000000\",\n",
      "            \"proceedsFromOperatingActivities\": \"None\",\n",
      "            \"changeInOperatingLiabilities\": \"-13371000000\",\n",
      "            \"changeInOperatingAssets\": \"-15795000000\",\n",
      "            \"depreciationDepletionAndAmortization\": \"2479000000\",\n",
      "            \"capitalExpenditures\": \"2476000000\",\n",
      "            \"changeInReceivables\": \"-11812000000\",\n",
      "            \"changeInInventory\": \"113000000\",\n",
      "            \"profitLoss\": \"13569000000\",\n",
      "            \"cashflowFromInvestment\": \"-22331000000\",\n",
      "            \"cashflowFromFinancing\": \"-2734000000\",\n",
      "            \"proceedsFromRepaymentsOfShortTermDebt\": \"-198000000\",\n",
      "            \"paymentsForRepurchaseOfCommonStock\": \"6970000000\",\n",
      "            \"paymentsForRepurchaseOfEquity\": \"6970000000\",\n",
      "            \"paymentsForRepurchaseOfPreferredStock\": \"None\",\n",
      "            \"dividendPayout\": \"2734000000\",\n",
      "            \"dividendPayoutCommonStock\": \"2743000000\",\n",
      "            \"dividendPayoutPreferredStock\": \"None\",\n",
      "            \"proceedsFromIssuanceOfCommonStock\": \"229000000\",\n",
      "            \"proceedsFromIssuanceOfLongTermDebtAndCapitalSecuritiesNet\": \"7847000000\",\n",
      "            \"proceedsFromIssuanceOfPreferredStock\": \"None\",\n",
      "            \"proceedsFromRepurchaseOfEquity\": \"-6741000000\",\n",
      "            \"proceedsFromSaleOfTreasuryStock\": \"None\",\n",
      "            \"changeInCashAndCashEquivalents\": \"-4989000000\",\n",
      "            \"changeInExchangeRate\": \"None\",\n",
      "            \"netIncome\": \"13569000000\"\n",
      "        },\n",
      "        {\n",
      "            \"fiscalDateEnding\": \"2014-12-31\",\n",
      "            \"reportedCurrency\": \"USD\",\n",
      "            \"operatingCashflow\": \"62672000000\",\n",
      "            \"paymentsForOperatingActivities\": \"202000000\",\n",
      "            \"proceedsFromOperatingActivities\": \"None\",\n",
      "            \"changeInOperatingLiabilities\": \"14615000000\",\n",
      "            \"changeInOperatingAssets\": \"4577000000\",\n",
      "            \"depreciationDepletionAndAmortization\": \"2575000000\",\n",
      "            \"capitalExpenditures\": \"3265000000\",\n",
      "            \"changeInReceivables\": \"2757000000\",\n",
      "            \"changeInInventory\": \"172000000\",\n",
      "            \"profitLoss\": \"18024000000\",\n",
      "            \"cashflowFromInvestment\": \"-21165000000\",\n",
      "            \"cashflowFromFinancing\": \"-6923000000\",\n",
      "            \"proceedsFromRepaymentsOfShortTermDebt\": \"-4818000000\",\n",
      "            \"paymentsForRepurchaseOfCommonStock\": \"5030000000\",\n",
      "            \"paymentsForRepurchaseOfEquity\": \"5030000000\",\n",
      "            \"paymentsForRepurchaseOfPreferredStock\": \"None\",\n",
      "            \"dividendPayout\": \"2750000000\",\n",
      "            \"dividendPayoutCommonStock\": \"2801000000\",\n",
      "            \"dividendPayoutPreferredStock\": \"None\",\n",
      "            \"proceedsFromIssuanceOfCommonStock\": \"80000000\",\n",
      "            \"proceedsFromIssuanceOfLongTermDebtAndCapitalSecuritiesNet\": \"3485000000\",\n",
      "            \"proceedsFromIssuanceOfPreferredStock\": \"None\",\n",
      "            \"proceedsFromRepurchaseOfEquity\": \"-4950000000\",\n",
      "            \"proceedsFromSaleOfTreasuryStock\": \"None\",\n",
      "            \"changeInCashAndCashEquivalents\": \"5634000000\",\n",
      "            \"changeInExchangeRate\": \"None\",\n",
      "            \"netIncome\": \"18024000000\"\n",
      "        },\n",
      "        {\n",
      "            \"fiscalDateEnding\": \"2014-09-30\",\n",
      "            \"reportedCurrency\": \"USD\",\n",
      "            \"operatingCashflow\": \"16009000000\",\n",
      "            \"paymentsForOperatingActivities\": \"17000000\",\n",
      "            \"proceedsFromOperatingActivities\": \"None\",\n",
      "            \"changeInOperatingLiabilities\": \"14121000000\",\n",
      "            \"changeInOperatingAssets\": \"11262000000\",\n",
      "            \"depreciationDepletionAndAmortization\": \"1969000000\",\n",
      "            \"capitalExpenditures\": \"3826000000\",\n",
      "            \"changeInReceivables\": \"10252000000\",\n",
      "            \"changeInInventory\": \"246000000\",\n",
      "            \"profitLoss\": \"16009000000\",\n",
      "            \"cashflowFromInvestment\": \"2997000000\",\n",
      "            \"cashflowFromFinancing\": \"-2807000000\",\n",
      "            \"proceedsFromRepaymentsOfShortTermDebt\": \"4296000000\",\n",
      "            \"paymentsForRepurchaseOfCommonStock\": \"17000000000\",\n",
      "            \"paymentsForRepurchaseOfEquity\": \"17000000000\",\n",
      "            \"paymentsForRepurchaseOfPreferredStock\": \"None\",\n",
      "            \"dividendPayout\": \"2807000000\",\n",
      "            \"dividendPayoutCommonStock\": \"2829000000\",\n",
      "            \"dividendPayoutPreferredStock\": \"None\",\n",
      "            \"proceedsFromIssuanceOfCommonStock\": \"295000000\",\n",
      "            \"proceedsFromIssuanceOfLongTermDebtAndCapitalSecuritiesNet\": \"0\",\n",
      "            \"proceedsFromIssuanceOfPreferredStock\": \"None\",\n",
      "            \"proceedsFromRepurchaseOfEquity\": \"-16705000000\",\n",
      "            \"proceedsFromSaleOfTreasuryStock\": \"None\",\n",
      "            \"changeInCashAndCashEquivalents\": \"867000000\",\n",
      "            \"changeInExchangeRate\": \"None\",\n",
      "            \"netIncome\": \"8467000000\"\n",
      "        },\n",
      "        {\n",
      "            \"fiscalDateEnding\": \"2014-06-30\",\n",
      "            \"reportedCurrency\": \"USD\",\n",
      "            \"operatingCashflow\": \"7748000000\",\n",
      "            \"paymentsForOperatingActivities\": \"161000000\",\n",
      "            \"proceedsFromOperatingActivities\": \"None\",\n",
      "            \"changeInOperatingLiabilities\": \"-1390000000\",\n",
      "            \"changeInOperatingAssets\": \"-132000000\",\n",
      "            \"depreciationDepletionAndAmortization\": \"1946000000\",\n",
      "            \"capitalExpenditures\": \"2378000000\",\n",
      "            \"changeInReceivables\": \"1020000000\",\n",
      "            \"changeInInventory\": \"-235000000\",\n",
      "            \"profitLoss\": \"7748000000\",\n",
      "            \"cashflowFromInvestment\": \"-22214000000\",\n",
      "            \"cashflowFromFinancing\": \"-2830000000\",\n",
      "            \"proceedsFromRepaymentsOfShortTermDebt\": \"2010000000\",\n",
      "            \"paymentsForRepurchaseOfCommonStock\": \"5000000000\",\n",
      "            \"paymentsForRepurchaseOfEquity\": \"5000000000\",\n",
      "            \"paymentsForRepurchaseOfPreferredStock\": \"None\",\n",
      "            \"dividendPayout\": \"2830000000\",\n",
      "            \"dividendPayoutCommonStock\": \"2867000000\",\n",
      "            \"dividendPayoutPreferredStock\": \"None\",\n",
      "            \"proceedsFromIssuanceOfCommonStock\": \"94000000\",\n",
      "            \"proceedsFromIssuanceOfLongTermDebtAndCapitalSecuritiesNet\": \"11960000000\",\n",
      "            \"proceedsFromIssuanceOfPreferredStock\": \"None\",\n",
      "            \"proceedsFromRepurchaseOfEquity\": \"-4906000000\",\n",
      "            \"proceedsFromSaleOfTreasuryStock\": \"None\",\n",
      "            \"changeInCashAndCashEquivalents\": \"-5972000000\",\n",
      "            \"changeInExchangeRate\": \"None\",\n",
      "            \"netIncome\": \"7748000000\"\n",
      "        },\n",
      "        {\n",
      "            \"fiscalDateEnding\": \"2014-03-31\",\n",
      "            \"reportedCurrency\": \"USD\",\n",
      "            \"operatingCashflow\": \"10919000000\",\n",
      "            \"paymentsForOperatingActivities\": \"0\",\n",
      "            \"proceedsFromOperatingActivities\": \"None\",\n",
      "            \"changeInOperatingLiabilities\": \"-10077000000\",\n",
      "            \"changeInOperatingAssets\": \"-10003000000\",\n",
      "            \"depreciationDepletionAndAmortization\": \"1887000000\",\n",
      "            \"capitalExpenditures\": \"1382000000\",\n",
      "            \"changeInReceivables\": \"-9377000000\",\n",
      "            \"changeInInventory\": \"-293000000\",\n",
      "            \"profitLoss\": \"10223000000\",\n",
      "            \"cashflowFromInvestment\": \"11741000000\",\n",
      "            \"cashflowFromFinancing\": \"-2655000000\",\n",
      "            \"proceedsFromRepaymentsOfShortTermDebt\": \"0\",\n",
      "            \"paymentsForRepurchaseOfCommonStock\": \"17971000000\",\n",
      "            \"paymentsForRepurchaseOfEquity\": \"17971000000\",\n",
      "            \"paymentsForRepurchaseOfPreferredStock\": \"None\",\n",
      "            \"dividendPayout\": \"2655000000\",\n",
      "            \"dividendPayoutCommonStock\": \"2661000000\",\n",
      "            \"dividendPayoutPreferredStock\": \"None\",\n",
      "            \"proceedsFromIssuanceOfCommonStock\": \"207000000\",\n",
      "            \"proceedsFromIssuanceOfLongTermDebtAndCapitalSecuritiesNet\": \"0\",\n",
      "            \"proceedsFromIssuanceOfPreferredStock\": \"None\",\n",
      "            \"proceedsFromRepurchaseOfEquity\": \"-17764000000\",\n",
      "            \"proceedsFromSaleOfTreasuryStock\": \"None\",\n",
      "            \"changeInCashAndCashEquivalents\": \"4872000000\",\n",
      "            \"changeInExchangeRate\": \"None\",\n",
      "            \"netIncome\": \"10223000000\"\n",
      "        },\n",
      "        {\n",
      "            \"fiscalDateEnding\": \"2013-12-31\",\n",
      "            \"reportedCurrency\": \"USD\",\n",
      "            \"operatingCashflow\": \"22670000000\",\n",
      "            \"paymentsForOperatingActivities\": \"161000000\",\n",
      "            \"proceedsFromOperatingActivities\": \"None\",\n",
      "            \"changeInOperatingLiabilities\": \"10754000000\",\n",
      "            \"changeInOperatingAssets\": \"5234000000\",\n",
      "            \"depreciationDepletionAndAmortization\": \"2144000000\",\n",
      "            \"capitalExpenditures\": \"1985000000\",\n",
      "            \"changeInReceivables\": \"4557000000\",\n",
      "            \"changeInInventory\": \"358000000\",\n",
      "            \"profitLoss\": \"13072000000\",\n",
      "            \"cashflowFromInvestment\": \"-15103000000\",\n",
      "            \"cashflowFromFinancing\": \"-7749000000\",\n",
      "            \"proceedsFromRepaymentsOfShortTermDebt\": \"0\",\n",
      "            \"paymentsForRepurchaseOfCommonStock\": \"5029000000\",\n",
      "            \"paymentsForRepurchaseOfEquity\": \"5029000000\",\n",
      "            \"paymentsForRepurchaseOfPreferredStock\": \"None\",\n",
      "            \"dividendPayout\": \"2739000000\",\n",
      "            \"dividendPayoutCommonStock\": \"2769000000\",\n",
      "            \"dividendPayoutPreferredStock\": \"None\",\n",
      "            \"proceedsFromIssuanceOfCommonStock\": \"134000000\",\n",
      "            \"proceedsFromIssuanceOfLongTermDebtAndCapitalSecuritiesNet\": \"0\",\n",
      "            \"proceedsFromIssuanceOfPreferredStock\": \"None\",\n",
      "            \"proceedsFromRepurchaseOfEquity\": \"-4895000000\",\n",
      "            \"proceedsFromSaleOfTreasuryStock\": \"None\",\n",
      "            \"changeInCashAndCashEquivalents\": \"-182000000\",\n",
      "            \"changeInExchangeRate\": \"None\",\n",
      "            \"netIncome\": \"13072000000\"\n",
      "        },\n",
      "        {\n",
      "            \"fiscalDateEnding\": \"2013-09-30\",\n",
      "            \"reportedCurrency\": \"USD\",\n",
      "            \"operatingCashflow\": \"9908000000\",\n",
      "            \"paymentsForOperatingActivities\": \"0\",\n",
      "            \"proceedsFromOperatingActivities\": \"None\",\n",
      "            \"changeInOperatingLiabilities\": \"8100000000\",\n",
      "            \"changeInOperatingAssets\": \"6659000000\",\n",
      "            \"depreciationDepletionAndAmortization\": \"1783000000\",\n",
      "            \"capitalExpenditures\": \"1955000000\",\n",
      "            \"changeInReceivables\": \"7188000000\",\n",
      "            \"changeInInventory\": \"67000000\",\n",
      "            \"profitLoss\": \"13871000000\",\n",
      "            \"cashflowFromInvestment\": \"611000000\",\n",
      "            \"cashflowFromFinancing\": \"-7508000000\",\n",
      "            \"proceedsFromRepaymentsOfShortTermDebt\": \"None\",\n",
      "            \"paymentsForRepurchaseOfCommonStock\": \"4910000000\",\n",
      "            \"paymentsForRepurchaseOfEquity\": \"4910000000\",\n",
      "            \"paymentsForRepurchaseOfPreferredStock\": \"None\",\n",
      "            \"dividendPayout\": \"2763000000\",\n",
      "            \"dividendPayoutCommonStock\": \"2769000000\",\n",
      "            \"dividendPayoutPreferredStock\": \"None\",\n",
      "            \"proceedsFromIssuanceOfCommonStock\": \"195000000\",\n",
      "            \"proceedsFromIssuanceOfLongTermDebtAndCapitalSecuritiesNet\": \"None\",\n",
      "            \"proceedsFromIssuanceOfPreferredStock\": \"None\",\n",
      "            \"proceedsFromRepurchaseOfEquity\": \"-4715000000\",\n",
      "            \"proceedsFromSaleOfTreasuryStock\": \"None\",\n",
      "            \"changeInCashAndCashEquivalents\": \"3011000000\",\n",
      "            \"changeInExchangeRate\": \"None\",\n",
      "            \"netIncome\": \"7512000000\"\n",
      "        },\n",
      "        {\n",
      "            \"fiscalDateEnding\": \"2013-06-30\",\n",
      "            \"reportedCurrency\": \"USD\",\n",
      "            \"operatingCashflow\": \"7828000000\",\n",
      "            \"paymentsForOperatingActivities\": \"0\",\n",
      "            \"proceedsFromOperatingActivities\": \"None\",\n",
      "            \"changeInOperatingLiabilities\": \"-557000000\",\n",
      "            \"changeInOperatingAssets\": \"1354000000\",\n",
      "            \"depreciationDepletionAndAmortization\": \"1694000000\",\n",
      "            \"capitalExpenditures\": \"1885000000\",\n",
      "            \"changeInReceivables\": \"117000000\",\n",
      "            \"changeInInventory\": \"452000000\",\n",
      "            \"profitLoss\": \"6900000000\",\n",
      "            \"cashflowFromInvestment\": \"-6507000000\",\n",
      "            \"cashflowFromFinancing\": \"-2126000000\",\n",
      "            \"proceedsFromRepaymentsOfShortTermDebt\": \"None\",\n",
      "            \"paymentsForRepurchaseOfCommonStock\": \"16000000000\",\n",
      "            \"paymentsForRepurchaseOfEquity\": \"16000000000\",\n",
      "            \"paymentsForRepurchaseOfPreferredStock\": \"None\",\n",
      "            \"dividendPayout\": \"2789000000\",\n",
      "            \"dividendPayoutCommonStock\": \"2811000000\",\n",
      "            \"dividendPayoutPreferredStock\": \"None\",\n",
      "            \"proceedsFromIssuanceOfCommonStock\": \"60000000\",\n",
      "            \"proceedsFromIssuanceOfLongTermDebtAndCapitalSecuritiesNet\": \"None\",\n",
      "            \"proceedsFromIssuanceOfPreferredStock\": \"None\",\n",
      "            \"proceedsFromRepurchaseOfEquity\": \"-15940000000\",\n",
      "            \"proceedsFromSaleOfTreasuryStock\": \"None\",\n",
      "            \"changeInCashAndCashEquivalents\": \"-805000000\",\n",
      "            \"changeInExchangeRate\": \"None\",\n",
      "            \"netIncome\": \"6900000000\"\n",
      "        },\n",
      "        {\n",
      "            \"fiscalDateEnding\": \"2013-03-31\",\n",
      "            \"reportedCurrency\": \"USD\",\n",
      "            \"operatingCashflow\": \"12504000000\",\n",
      "            \"paymentsForOperatingActivities\": \"0\",\n",
      "            \"proceedsFromOperatingActivities\": \"None\",\n",
      "            \"changeInOperatingLiabilities\": \"-9352000000\",\n",
      "            \"changeInOperatingAssets\": \"-9264000000\",\n",
      "            \"depreciationDepletionAndAmortization\": \"1692000000\",\n",
      "            \"capitalExpenditures\": \"2008000000\",\n",
      "            \"changeInReceivables\": \"-8198000000\",\n",
      "            \"changeInInventory\": \"-210000000\",\n",
      "            \"profitLoss\": \"9547000000\",\n",
      "            \"cashflowFromInvestment\": \"-14357000000\",\n",
      "            \"cashflowFromFinancing\": \"-2248000000\",\n",
      "            \"proceedsFromRepaymentsOfShortTermDebt\": \"None\",\n",
      "            \"paymentsForRepurchaseOfCommonStock\": \"0\",\n",
      "            \"paymentsForRepurchaseOfEquity\": \"0\",\n",
      "            \"paymentsForRepurchaseOfPreferredStock\": \"None\",\n",
      "            \"dividendPayout\": \"2490000000\",\n",
      "            \"dividendPayoutCommonStock\": \"2491000000\",\n",
      "            \"dividendPayoutPreferredStock\": \"None\",\n",
      "            \"proceedsFromIssuanceOfCommonStock\": \"199000000\",\n",
      "            \"proceedsFromIssuanceOfLongTermDebtAndCapitalSecuritiesNet\": \"None\",\n",
      "            \"proceedsFromIssuanceOfPreferredStock\": \"None\",\n",
      "            \"proceedsFromRepurchaseOfEquity\": \"199000000\",\n",
      "            \"proceedsFromSaleOfTreasuryStock\": \"None\",\n",
      "            \"changeInCashAndCashEquivalents\": \"-4101000000\",\n",
      "            \"changeInExchangeRate\": \"None\",\n",
      "            \"netIncome\": \"9547000000\"\n",
      "        },\n",
      "        {\n",
      "            \"fiscalDateEnding\": \"2012-12-31\",\n",
      "            \"reportedCurrency\": \"USD\",\n",
      "            \"operatingCashflow\": \"23426000000\",\n",
      "            \"paymentsForOperatingActivities\": \"0\",\n",
      "            \"proceedsFromOperatingActivities\": \"None\",\n",
      "            \"changeInOperatingLiabilities\": \"10129000000\",\n",
      "            \"changeInOperatingAssets\": \"3093000000\",\n",
      "            \"depreciationDepletionAndAmortization\": \"1588000000\",\n",
      "            \"capitalExpenditures\": \"2317000000\",\n",
      "            \"changeInReceivables\": \"2842000000\",\n",
      "            \"changeInInventory\": \"664000000\",\n",
      "            \"profitLoss\": \"13078000000\",\n",
      "            \"cashflowFromInvestment\": \"-13521000000\",\n",
      "            \"cashflowFromFinancing\": \"-4497000000\",\n",
      "            \"proceedsFromRepaymentsOfShortTermDebt\": \"None\",\n",
      "            \"paymentsForRepurchaseOfCommonStock\": \"1950000000\",\n",
      "            \"paymentsForRepurchaseOfEquity\": \"1950000000\",\n",
      "            \"paymentsForRepurchaseOfPreferredStock\": \"None\",\n",
      "            \"dividendPayout\": \"2486000000\",\n",
      "            \"dividendPayoutCommonStock\": \"2493000000\",\n",
      "            \"dividendPayoutPreferredStock\": \"None\",\n",
      "            \"proceedsFromIssuanceOfCommonStock\": \"76000000\",\n",
      "            \"proceedsFromIssuanceOfLongTermDebtAndCapitalSecuritiesNet\": \"None\",\n",
      "            \"proceedsFromIssuanceOfPreferredStock\": \"None\",\n",
      "            \"proceedsFromRepurchaseOfEquity\": \"-1874000000\",\n",
      "            \"proceedsFromSaleOfTreasuryStock\": \"None\",\n",
      "            \"changeInCashAndCashEquivalents\": \"5408000000\",\n",
      "            \"changeInExchangeRate\": \"None\",\n",
      "            \"netIncome\": \"13078000000\"\n",
      "        },\n",
      "        {\n",
      "            \"fiscalDateEnding\": \"2012-09-30\",\n",
      "            \"reportedCurrency\": \"USD\",\n",
      "            \"operatingCashflow\": \"9136000000\",\n",
      "            \"paymentsForOperatingActivities\": \"None\",\n",
      "            \"proceedsFromOperatingActivities\": \"None\",\n",
      "            \"changeInOperatingLiabilities\": \"3132000000\",\n",
      "            \"changeInOperatingAssets\": \"3987000000\",\n",
      "            \"depreciationDepletionAndAmortization\": \"981000000\",\n",
      "            \"capitalExpenditures\": \"3461000000\",\n",
      "            \"changeInReceivables\": \"4394000000\",\n",
      "            \"changeInInventory\": \"-331000000\",\n",
      "            \"profitLoss\": \"14401000000\",\n",
      "            \"cashflowFromInvestment\": \"-4313000000\",\n",
      "            \"cashflowFromFinancing\": \"-2022000000\",\n",
      "            \"proceedsFromRepaymentsOfShortTermDebt\": \"None\",\n",
      "            \"paymentsForRepurchaseOfCommonStock\": \"0\",\n",
      "            \"paymentsForRepurchaseOfEquity\": \"0\",\n",
      "            \"paymentsForRepurchaseOfPreferredStock\": \"None\",\n",
      "            \"dividendPayout\": \"2500000000\",\n",
      "            \"dividendPayoutCommonStock\": \"2488000000\",\n",
      "            \"dividendPayoutPreferredStock\": \"None\",\n",
      "            \"proceedsFromIssuanceOfCommonStock\": \"232000000\",\n",
      "            \"proceedsFromIssuanceOfLongTermDebtAndCapitalSecuritiesNet\": \"None\",\n",
      "            \"proceedsFromIssuanceOfPreferredStock\": \"None\",\n",
      "            \"proceedsFromRepurchaseOfEquity\": \"232000000\",\n",
      "            \"proceedsFromSaleOfTreasuryStock\": \"None\",\n",
      "            \"changeInCashAndCashEquivalents\": \"2801000000\",\n",
      "            \"changeInExchangeRate\": \"None\",\n",
      "            \"netIncome\": \"8223000000\"\n",
      "        },\n",
      "        {\n",
      "            \"fiscalDateEnding\": \"2012-06-30\",\n",
      "            \"reportedCurrency\": \"USD\",\n",
      "            \"operatingCashflow\": \"10189000000\",\n",
      "            \"paymentsForOperatingActivities\": \"None\",\n",
      "            \"proceedsFromOperatingActivities\": \"None\",\n",
      "            \"changeInOperatingLiabilities\": \"1208000000\",\n",
      "            \"changeInOperatingAssets\": \"2277000000\",\n",
      "            \"depreciationDepletionAndAmortization\": \"835000000\",\n",
      "            \"capitalExpenditures\": \"2056000000\",\n",
      "            \"changeInReceivables\": \"529000000\",\n",
      "            \"changeInInventory\": \"20000000\",\n",
      "            \"profitLoss\": \"8824000000\",\n",
      "            \"cashflowFromInvestment\": \"-12310000000\",\n",
      "            \"cashflowFromFinancing\": \"-55000000\",\n",
      "            \"proceedsFromRepaymentsOfShortTermDebt\": \"None\",\n",
      "            \"paymentsForRepurchaseOfCommonStock\": \"0\",\n",
      "            \"paymentsForRepurchaseOfEquity\": \"0\",\n",
      "            \"paymentsForRepurchaseOfPreferredStock\": \"None\",\n",
      "            \"dividendPayout\": \"0\",\n",
      "            \"dividendPayoutCommonStock\": \"None\",\n",
      "            \"dividendPayoutPreferredStock\": \"None\",\n",
      "            \"proceedsFromIssuanceOfCommonStock\": \"56000000\",\n",
      "            \"proceedsFromIssuanceOfLongTermDebtAndCapitalSecuritiesNet\": \"None\",\n",
      "            \"proceedsFromIssuanceOfPreferredStock\": \"None\",\n",
      "            \"proceedsFromRepurchaseOfEquity\": \"56000000\",\n",
      "            \"proceedsFromSaleOfTreasuryStock\": \"None\",\n",
      "            \"changeInCashAndCashEquivalents\": \"-2176000000\",\n",
      "            \"changeInExchangeRate\": \"None\",\n",
      "            \"netIncome\": \"8824000000\"\n",
      "        },\n",
      "        {\n",
      "            \"fiscalDateEnding\": \"2012-03-31\",\n",
      "            \"reportedCurrency\": \"USD\",\n",
      "            \"operatingCashflow\": \"13977000000\",\n",
      "            \"paymentsForOperatingActivities\": \"None\",\n",
      "            \"proceedsFromOperatingActivities\": \"None\",\n",
      "            \"changeInOperatingLiabilities\": \"-2579000000\",\n",
      "            \"changeInOperatingAssets\": \"-2311000000\",\n",
      "            \"depreciationDepletionAndAmortization\": \"740000000\",\n",
      "            \"capitalExpenditures\": \"1457000000\",\n",
      "            \"changeInReceivables\": \"-2725000000\",\n",
      "            \"changeInInventory\": \"-134000000\",\n",
      "            \"profitLoss\": \"11622000000\",\n",
      "            \"cashflowFromInvestment\": \"-14476000000\",\n",
      "            \"cashflowFromFinancing\": \"310000000\",\n",
      "            \"proceedsFromRepaymentsOfShortTermDebt\": \"None\",\n",
      "            \"paymentsForRepurchaseOfCommonStock\": \"0\",\n",
      "            \"paymentsForRepurchaseOfEquity\": \"0\",\n",
      "            \"paymentsForRepurchaseOfPreferredStock\": \"None\",\n",
      "            \"dividendPayout\": \"0\",\n",
      "            \"dividendPayoutCommonStock\": \"None\",\n",
      "            \"dividendPayoutPreferredStock\": \"None\",\n",
      "            \"proceedsFromIssuanceOfCommonStock\": \"286000000\",\n",
      "            \"proceedsFromIssuanceOfLongTermDebtAndCapitalSecuritiesNet\": \"None\",\n",
      "            \"proceedsFromIssuanceOfPreferredStock\": \"None\",\n",
      "            \"proceedsFromRepurchaseOfEquity\": \"286000000\",\n",
      "            \"proceedsFromSaleOfTreasuryStock\": \"None\",\n",
      "            \"changeInCashAndCashEquivalents\": \"-189000000\",\n",
      "            \"changeInExchangeRate\": \"None\",\n",
      "            \"netIncome\": \"11622000000\"\n",
      "        },\n",
      "        {\n",
      "            \"fiscalDateEnding\": \"2011-12-31\",\n",
      "            \"reportedCurrency\": \"USD\",\n",
      "            \"operatingCashflow\": \"17554000000\",\n",
      "            \"paymentsForOperatingActivities\": \"None\",\n",
      "            \"proceedsFromOperatingActivities\": \"None\",\n",
      "            \"changeInOperatingLiabilities\": \"8082000000\",\n",
      "            \"changeInOperatingAssets\": \"6189000000\",\n",
      "            \"depreciationDepletionAndAmortization\": \"721000000\",\n",
      "            \"capitalExpenditures\": \"1321000000\",\n",
      "            \"changeInReceivables\": \"4767000000\",\n",
      "            \"changeInInventory\": \"460000000\",\n",
      "            \"profitLoss\": \"13064000000\",\n",
      "            \"cashflowFromInvestment\": \"-17128000000\",\n",
      "            \"cashflowFromFinancing\": \"69000000\",\n",
      "            \"proceedsFromRepaymentsOfShortTermDebt\": \"None\",\n",
      "            \"paymentsForRepurchaseOfCommonStock\": \"0\",\n",
      "            \"paymentsForRepurchaseOfEquity\": \"0\",\n",
      "            \"paymentsForRepurchaseOfPreferredStock\": \"None\",\n",
      "            \"dividendPayout\": \"0\",\n",
      "            \"dividendPayoutCommonStock\": \"None\",\n",
      "            \"dividendPayoutPreferredStock\": \"None\",\n",
      "            \"proceedsFromIssuanceOfCommonStock\": \"91000000\",\n",
      "            \"proceedsFromIssuanceOfLongTermDebtAndCapitalSecuritiesNet\": \"None\",\n",
      "            \"proceedsFromIssuanceOfPreferredStock\": \"None\",\n",
      "            \"proceedsFromRepurchaseOfEquity\": \"91000000\",\n",
      "            \"proceedsFromSaleOfTreasuryStock\": \"None\",\n",
      "            \"changeInCashAndCashEquivalents\": \"495000000\",\n",
      "            \"changeInExchangeRate\": \"None\",\n",
      "            \"netIncome\": \"13064000000\"\n",
      "        },\n",
      "        {\n",
      "            \"fiscalDateEnding\": \"2011-09-30\",\n",
      "            \"reportedCurrency\": \"USD\",\n",
      "            \"operatingCashflow\": \"10429000000\",\n",
      "            \"paymentsForOperatingActivities\": \"None\",\n",
      "            \"proceedsFromOperatingActivities\": \"None\",\n",
      "            \"changeInOperatingLiabilities\": \"2300000000\",\n",
      "            \"changeInOperatingAssets\": \"-29000000\",\n",
      "            \"depreciationDepletionAndAmortization\": \"543000000\",\n",
      "            \"capitalExpenditures\": \"1645000000\",\n",
      "            \"changeInReceivables\": \"244000000\",\n",
      "            \"changeInInventory\": \"-113000000\",\n",
      "            \"profitLoss\": \"11380000000\",\n",
      "            \"cashflowFromInvestment\": \"-13136000000\",\n",
      "            \"cashflowFromFinancing\": \"431000000\",\n",
      "            \"proceedsFromRepaymentsOfShortTermDebt\": \"None\",\n",
      "            \"paymentsForRepurchaseOfCommonStock\": \"None\",\n",
      "            \"paymentsForRepurchaseOfEquity\": \"None\",\n",
      "            \"paymentsForRepurchaseOfPreferredStock\": \"None\",\n",
      "            \"dividendPayout\": \"None\",\n",
      "            \"dividendPayoutCommonStock\": \"None\",\n",
      "            \"dividendPayoutPreferredStock\": \"None\",\n",
      "            \"proceedsFromIssuanceOfCommonStock\": \"254000000\",\n",
      "            \"proceedsFromIssuanceOfLongTermDebtAndCapitalSecuritiesNet\": \"None\",\n",
      "            \"proceedsFromIssuanceOfPreferredStock\": \"None\",\n",
      "            \"proceedsFromRepurchaseOfEquity\": \"254000000\",\n",
      "            \"proceedsFromSaleOfTreasuryStock\": \"None\",\n",
      "            \"changeInCashAndCashEquivalents\": \"-2276000000\",\n",
      "            \"changeInExchangeRate\": \"None\",\n",
      "            \"netIncome\": \"6623000000\"\n",
      "        },\n",
      "        {\n",
      "            \"fiscalDateEnding\": \"2011-06-30\",\n",
      "            \"reportedCurrency\": \"USD\",\n",
      "            \"operatingCashflow\": \"11108000000\",\n",
      "            \"paymentsForOperatingActivities\": \"None\",\n",
      "            \"proceedsFromOperatingActivities\": \"None\",\n",
      "            \"changeInOperatingLiabilities\": \"2366000000\",\n",
      "            \"changeInOperatingAssets\": \"0\",\n",
      "            \"depreciationDepletionAndAmortization\": \"481000000\",\n",
      "            \"capitalExpenditures\": \"777000000\",\n",
      "            \"changeInReceivables\": \"376000000\",\n",
      "            \"changeInInventory\": \"-41000000\",\n",
      "            \"profitLoss\": \"7308000000\",\n",
      "            \"cashflowFromInvestment\": \"-15032000000\",\n",
      "            \"cashflowFromFinancing\": \"37000000\",\n",
      "            \"proceedsFromRepaymentsOfShortTermDebt\": \"None\",\n",
      "            \"paymentsForRepurchaseOfCommonStock\": \"None\",\n",
      "            \"paymentsForRepurchaseOfEquity\": \"None\",\n",
      "            \"paymentsForRepurchaseOfPreferredStock\": \"None\",\n",
      "            \"dividendPayout\": \"None\",\n",
      "            \"dividendPayoutCommonStock\": \"None\",\n",
      "            \"dividendPayoutPreferredStock\": \"None\",\n",
      "            \"proceedsFromIssuanceOfCommonStock\": \"83000000\",\n",
      "            \"proceedsFromIssuanceOfLongTermDebtAndCapitalSecuritiesNet\": \"None\",\n",
      "            \"proceedsFromIssuanceOfPreferredStock\": \"None\",\n",
      "            \"proceedsFromRepurchaseOfEquity\": \"83000000\",\n",
      "            \"proceedsFromSaleOfTreasuryStock\": \"None\",\n",
      "            \"changeInCashAndCashEquivalents\": \"-3887000000\",\n",
      "            \"changeInExchangeRate\": \"None\",\n",
      "            \"netIncome\": \"7308000000\"\n",
      "        },\n",
      "        {\n",
      "            \"fiscalDateEnding\": \"2011-03-31\",\n",
      "            \"reportedCurrency\": \"USD\",\n",
      "            \"operatingCashflow\": \"6219000000\",\n",
      "            \"paymentsForOperatingActivities\": \"None\",\n",
      "            \"proceedsFromOperatingActivities\": \"None\",\n",
      "            \"changeInOperatingLiabilities\": \"365000000\",\n",
      "            \"changeInOperatingAssets\": \"1594000000\",\n",
      "            \"depreciationDepletionAndAmortization\": \"434000000\",\n",
      "            \"capitalExpenditures\": \"624000000\",\n",
      "            \"changeInReceivables\": \"221000000\",\n",
      "            \"changeInInventory\": \"45000000\",\n",
      "            \"profitLoss\": \"5987000000\",\n",
      "            \"cashflowFromInvestment\": \"-1522000000\",\n",
      "            \"cashflowFromFinancing\": \"547000000\",\n",
      "            \"proceedsFromRepaymentsOfShortTermDebt\": \"None\",\n",
      "            \"paymentsForRepurchaseOfCommonStock\": \"None\",\n",
      "            \"paymentsForRepurchaseOfEquity\": \"None\",\n",
      "            \"paymentsForRepurchaseOfPreferredStock\": \"None\",\n",
      "            \"dividendPayout\": \"None\",\n",
      "            \"dividendPayoutCommonStock\": \"None\",\n",
      "            \"dividendPayoutPreferredStock\": \"None\",\n",
      "            \"proceedsFromIssuanceOfCommonStock\": \"286000000\",\n",
      "            \"proceedsFromIssuanceOfLongTermDebtAndCapitalSecuritiesNet\": \"None\",\n",
      "            \"proceedsFromIssuanceOfPreferredStock\": \"None\",\n",
      "            \"proceedsFromRepurchaseOfEquity\": \"286000000\",\n",
      "            \"proceedsFromSaleOfTreasuryStock\": \"None\",\n",
      "            \"changeInCashAndCashEquivalents\": \"5244000000\",\n",
      "            \"changeInExchangeRate\": \"None\",\n",
      "            \"netIncome\": \"5987000000\"\n",
      "        },\n",
      "        {\n",
      "            \"fiscalDateEnding\": \"2010-12-31\",\n",
      "            \"reportedCurrency\": \"USD\",\n",
      "            \"operatingCashflow\": \"9773000000\",\n",
      "            \"paymentsForOperatingActivities\": \"None\",\n",
      "            \"proceedsFromOperatingActivities\": \"None\",\n",
      "            \"changeInOperatingLiabilities\": \"3633000000\",\n",
      "            \"changeInOperatingAssets\": \"1342000000\",\n",
      "            \"depreciationDepletionAndAmortization\": \"356000000\",\n",
      "            \"capitalExpenditures\": \"1214000000\",\n",
      "            \"changeInReceivables\": \"950000000\",\n",
      "            \"changeInInventory\": \"-166000000\",\n",
      "            \"profitLoss\": \"6004000000\",\n",
      "            \"cashflowFromInvestment\": \"-10729000000\",\n",
      "            \"cashflowFromFinancing\": \"429000000\",\n",
      "            \"proceedsFromRepaymentsOfShortTermDebt\": \"None\",\n",
      "            \"paymentsForRepurchaseOfCommonStock\": \"None\",\n",
      "            \"paymentsForRepurchaseOfEquity\": \"None\",\n",
      "            \"paymentsForRepurchaseOfPreferredStock\": \"None\",\n",
      "            \"dividendPayout\": \"None\",\n",
      "            \"dividendPayoutCommonStock\": \"None\",\n",
      "            \"dividendPayoutPreferredStock\": \"None\",\n",
      "            \"proceedsFromIssuanceOfCommonStock\": \"208000000\",\n",
      "            \"proceedsFromIssuanceOfLongTermDebtAndCapitalSecuritiesNet\": \"None\",\n",
      "            \"proceedsFromIssuanceOfPreferredStock\": \"None\",\n",
      "            \"proceedsFromRepurchaseOfEquity\": \"208000000\",\n",
      "            \"proceedsFromSaleOfTreasuryStock\": \"None\",\n",
      "            \"changeInCashAndCashEquivalents\": \"-527000000\",\n",
      "            \"changeInExchangeRate\": \"None\",\n",
      "            \"netIncome\": \"6004000000\"\n",
      "        },\n",
      "        {\n",
      "            \"fiscalDateEnding\": \"2010-09-30\",\n",
      "            \"reportedCurrency\": \"USD\",\n",
      "            \"operatingCashflow\": \"5683000000\",\n",
      "            \"paymentsForOperatingActivities\": \"None\",\n",
      "            \"proceedsFromOperatingActivities\": \"None\",\n",
      "            \"changeInOperatingLiabilities\": \"4923000000\",\n",
      "            \"changeInOperatingAssets\": \"3683000000\",\n",
      "            \"depreciationDepletionAndAmortization\": \"329000000\",\n",
      "            \"capitalExpenditures\": \"760000000\",\n",
      "            \"changeInReceivables\": \"3525000000\",\n",
      "            \"changeInInventory\": \"109000000\",\n",
      "            \"profitLoss\": \"7512000000\",\n",
      "            \"cashflowFromInvestment\": \"-4383000000\",\n",
      "            \"cashflowFromFinancing\": \"256000000\",\n",
      "            \"proceedsFromRepaymentsOfShortTermDebt\": \"None\",\n",
      "            \"paymentsForRepurchaseOfCommonStock\": \"None\",\n",
      "            \"paymentsForRepurchaseOfEquity\": \"None\",\n",
      "            \"paymentsForRepurchaseOfPreferredStock\": \"None\",\n",
      "            \"dividendPayout\": \"None\",\n",
      "            \"dividendPayoutCommonStock\": \"None\",\n",
      "            \"dividendPayoutPreferredStock\": \"None\",\n",
      "            \"proceedsFromIssuanceOfCommonStock\": \"179000000\",\n",
      "            \"proceedsFromIssuanceOfLongTermDebtAndCapitalSecuritiesNet\": \"None\",\n",
      "            \"proceedsFromIssuanceOfPreferredStock\": \"None\",\n",
      "            \"proceedsFromRepurchaseOfEquity\": \"179000000\",\n",
      "            \"proceedsFromSaleOfTreasuryStock\": \"None\",\n",
      "            \"changeInCashAndCashEquivalents\": \"1556000000\",\n",
      "            \"changeInExchangeRate\": \"None\",\n",
      "            \"netIncome\": \"4308000000\"\n",
      "        },\n",
      "        {\n",
      "            \"fiscalDateEnding\": \"2010-06-30\",\n",
      "            \"reportedCurrency\": \"USD\",\n",
      "            \"operatingCashflow\": \"4801000000\",\n",
      "            \"paymentsForOperatingActivities\": \"None\",\n",
      "            \"proceedsFromOperatingActivities\": \"None\",\n",
      "            \"changeInOperatingLiabilities\": \"3107000000\",\n",
      "            \"changeInOperatingAssets\": \"2341000000\",\n",
      "            \"depreciationDepletionAndAmortization\": \"273000000\",\n",
      "            \"capitalExpenditures\": \"595000000\",\n",
      "            \"changeInReceivables\": \"1817000000\",\n",
      "            \"changeInInventory\": \"304000000\",\n",
      "            \"profitLoss\": \"3253000000\",\n",
      "            \"cashflowFromInvestment\": \"-5430000000\",\n",
      "            \"cashflowFromFinancing\": \"316000000\",\n",
      "            \"proceedsFromRepaymentsOfShortTermDebt\": \"None\",\n",
      "            \"paymentsForRepurchaseOfCommonStock\": \"None\",\n",
      "            \"paymentsForRepurchaseOfEquity\": \"None\",\n",
      "            \"paymentsForRepurchaseOfPreferredStock\": \"None\",\n",
      "            \"dividendPayout\": \"None\",\n",
      "            \"dividendPayoutCommonStock\": \"None\",\n",
      "            \"dividendPayoutPreferredStock\": \"None\",\n",
      "            \"proceedsFromIssuanceOfCommonStock\": \"199000000\",\n",
      "            \"proceedsFromIssuanceOfLongTermDebtAndCapitalSecuritiesNet\": \"None\",\n",
      "            \"proceedsFromIssuanceOfPreferredStock\": \"None\",\n",
      "            \"proceedsFromRepurchaseOfEquity\": \"199000000\",\n",
      "            \"proceedsFromSaleOfTreasuryStock\": \"None\",\n",
      "            \"changeInCashAndCashEquivalents\": \"-313000000\",\n",
      "            \"changeInExchangeRate\": \"None\",\n",
      "            \"netIncome\": \"3253000000\"\n",
      "        },\n",
      "        {\n",
      "            \"fiscalDateEnding\": \"2010-03-31\",\n",
      "            \"reportedCurrency\": \"USD\",\n",
      "            \"operatingCashflow\": \"2330000000\",\n",
      "            \"paymentsForOperatingActivities\": \"None\",\n",
      "            \"proceedsFromOperatingActivities\": \"None\",\n",
      "            \"changeInOperatingLiabilities\": \"-1606000000\",\n",
      "            \"changeInOperatingAssets\": \"-251000000\",\n",
      "            \"depreciationDepletionAndAmortization\": \"216000000\",\n",
      "            \"capitalExpenditures\": \"274000000\",\n",
      "            \"changeInReceivables\": \"-211000000\",\n",
      "            \"changeInInventory\": \"62000000\",\n",
      "            \"profitLoss\": \"3074000000\",\n",
      "            \"cashflowFromInvestment\": \"-83000000\",\n",
      "            \"cashflowFromFinancing\": \"162000000\",\n",
      "            \"proceedsFromRepaymentsOfShortTermDebt\": \"None\",\n",
      "            \"paymentsForRepurchaseOfCommonStock\": \"None\",\n",
      "            \"paymentsForRepurchaseOfEquity\": \"None\",\n",
      "            \"paymentsForRepurchaseOfPreferredStock\": \"None\",\n",
      "            \"dividendPayout\": \"None\",\n",
      "            \"dividendPayoutCommonStock\": \"None\",\n",
      "            \"dividendPayoutPreferredStock\": \"None\",\n",
      "            \"proceedsFromIssuanceOfCommonStock\": \"160000000\",\n",
      "            \"proceedsFromIssuanceOfLongTermDebtAndCapitalSecuritiesNet\": \"None\",\n",
      "            \"proceedsFromIssuanceOfPreferredStock\": \"None\",\n",
      "            \"proceedsFromRepurchaseOfEquity\": \"160000000\",\n",
      "            \"proceedsFromSaleOfTreasuryStock\": \"None\",\n",
      "            \"changeInCashAndCashEquivalents\": \"2409000000\",\n",
      "            \"changeInExchangeRate\": \"None\",\n",
      "            \"netIncome\": \"3074000000\"\n",
      "        },\n",
      "        {\n",
      "            \"fiscalDateEnding\": \"2009-12-31\",\n",
      "            \"reportedCurrency\": \"USD\",\n",
      "            \"operatingCashflow\": \"5781000000\",\n",
      "            \"paymentsForOperatingActivities\": \"None\",\n",
      "            \"proceedsFromOperatingActivities\": \"None\",\n",
      "            \"changeInOperatingLiabilities\": \"1878000000\",\n",
      "            \"changeInOperatingAssets\": \"-197000000\",\n",
      "            \"depreciationDepletionAndAmortization\": \"209000000\",\n",
      "            \"capitalExpenditures\": \"376000000\",\n",
      "            \"changeInReceivables\": \"-271000000\",\n",
      "            \"changeInInventory\": \"121000000\",\n",
      "            \"profitLoss\": \"3378000000\",\n",
      "            \"cashflowFromInvestment\": \"-3958000000\",\n",
      "            \"cashflowFromFinancing\": \"523000000\",\n",
      "            \"proceedsFromRepaymentsOfShortTermDebt\": \"None\",\n",
      "            \"paymentsForRepurchaseOfCommonStock\": \"None\",\n",
      "            \"paymentsForRepurchaseOfEquity\": \"None\",\n",
      "            \"paymentsForRepurchaseOfPreferredStock\": \"None\",\n",
      "            \"dividendPayout\": \"None\",\n",
      "            \"dividendPayoutCommonStock\": \"None\",\n",
      "            \"dividendPayoutPreferredStock\": \"None\",\n",
      "            \"proceedsFromIssuanceOfCommonStock\": \"374000000\",\n",
      "            \"proceedsFromIssuanceOfLongTermDebtAndCapitalSecuritiesNet\": \"None\",\n",
      "            \"proceedsFromIssuanceOfPreferredStock\": \"None\",\n",
      "            \"proceedsFromRepurchaseOfEquity\": \"374000000\",\n",
      "            \"proceedsFromSaleOfTreasuryStock\": \"None\",\n",
      "            \"changeInCashAndCashEquivalents\": \"2346000000\",\n",
      "            \"changeInExchangeRate\": \"None\",\n",
      "            \"netIncome\": \"3378000000\"\n",
      "        },\n",
      "        {\n",
      "            \"fiscalDateEnding\": \"2009-09-30\",\n",
      "            \"reportedCurrency\": \"USD\",\n",
      "            \"operatingCashflow\": \"3110000000\",\n",
      "            \"paymentsForOperatingActivities\": \"None\",\n",
      "            \"proceedsFromOperatingActivities\": \"None\",\n",
      "            \"changeInOperatingLiabilities\": \"None\",\n",
      "            \"changeInOperatingAssets\": \"None\",\n",
      "            \"depreciationDepletionAndAmortization\": \"197000000\",\n",
      "            \"capitalExpenditures\": \"459000000\",\n",
      "            \"changeInReceivables\": \"None\",\n",
      "            \"changeInInventory\": \"75000000\",\n",
      "            \"profitLoss\": \"5105000000\",\n",
      "            \"cashflowFromInvestment\": \"-3771000000\",\n",
      "            \"cashflowFromFinancing\": \"319000000\",\n",
      "            \"proceedsFromRepaymentsOfShortTermDebt\": \"None\",\n",
      "            \"paymentsForRepurchaseOfCommonStock\": \"None\",\n",
      "            \"paymentsForRepurchaseOfEquity\": \"None\",\n",
      "            \"paymentsForRepurchaseOfPreferredStock\": \"None\",\n",
      "            \"dividendPayout\": \"None\",\n",
      "            \"dividendPayoutCommonStock\": \"None\",\n",
      "            \"dividendPayoutPreferredStock\": \"None\",\n",
      "            \"proceedsFromIssuanceOfCommonStock\": \"187000000\",\n",
      "            \"proceedsFromIssuanceOfLongTermDebtAndCapitalSecuritiesNet\": \"None\",\n",
      "            \"proceedsFromIssuanceOfPreferredStock\": \"None\",\n",
      "            \"proceedsFromRepurchaseOfEquity\": \"187000000\",\n",
      "            \"proceedsFromSaleOfTreasuryStock\": \"None\",\n",
      "            \"changeInCashAndCashEquivalents\": \"-342000000\",\n",
      "            \"changeInExchangeRate\": \"None\",\n",
      "            \"netIncome\": \"2532000000\"\n",
      "        }\n",
      "    ]\n",
      "}\n"
     ]
    }
   ],
   "source": [
    "# get your API key from the .env file\n",
    "url = 'https://www.alphavantage.co/query?function=CASH_FLOW&symbol=AAPL&apikey='+os.getenv('AV_API_KEY')\n",
    "r = requests.get(url)\n",
    "data = r.json()\n",
    "\n",
    "print(json.dumps(data,indent=4))"
   ]
  },
  {
   "cell_type": "code",
   "execution_count": 48,
   "metadata": {},
   "outputs": [
    {
     "data": {
      "text/plain": [
       "[{'fiscalDateEnding': '2023-09-30',\n",
       "  'reportedCurrency': 'USD',\n",
       "  'operatingCashflow': '110543000000',\n",
       "  'paymentsForOperatingActivities': '5703000000',\n",
       "  'proceedsFromOperatingActivities': 'None',\n",
       "  'changeInOperatingLiabilities': '1142000000',\n",
       "  'changeInOperatingAssets': '7719000000',\n",
       "  'depreciationDepletionAndAmortization': '11519000000',\n",
       "  'capitalExpenditures': '10959000000',\n",
       "  'changeInReceivables': '417000000',\n",
       "  'changeInInventory': '1618000000',\n",
       "  'profitLoss': '96995000000',\n",
       "  'cashflowFromInvestment': '3705000000',\n",
       "  'cashflowFromFinancing': '-108488000000',\n",
       "  'proceedsFromRepaymentsOfShortTermDebt': '-7956000000',\n",
       "  'paymentsForRepurchaseOfCommonStock': '77550000000',\n",
       "  'paymentsForRepurchaseOfEquity': '77550000000',\n",
       "  'paymentsForRepurchaseOfPreferredStock': 'None',\n",
       "  'dividendPayout': '15025000000',\n",
       "  'dividendPayoutCommonStock': '15025000000',\n",
       "  'dividendPayoutPreferredStock': 'None',\n",
       "  'proceedsFromIssuanceOfCommonStock': 'None',\n",
       "  'proceedsFromIssuanceOfLongTermDebtAndCapitalSecuritiesNet': '5228000000',\n",
       "  'proceedsFromIssuanceOfPreferredStock': 'None',\n",
       "  'proceedsFromRepurchaseOfEquity': '-77550000000',\n",
       "  'proceedsFromSaleOfTreasuryStock': 'None',\n",
       "  'changeInCashAndCashEquivalents': '5760000000',\n",
       "  'changeInExchangeRate': 'None',\n",
       "  'netIncome': '96995000000'},\n",
       " {'fiscalDateEnding': '2022-09-30',\n",
       "  'reportedCurrency': 'USD',\n",
       "  'operatingCashflow': '122151000000',\n",
       "  'paymentsForOperatingActivities': '4665000000',\n",
       "  'proceedsFromOperatingActivities': 'None',\n",
       "  'changeInOperatingLiabilities': '15558000000',\n",
       "  'changeInOperatingAssets': '14358000000',\n",
       "  'depreciationDepletionAndAmortization': '11104000000',\n",
       "  'capitalExpenditures': '10708000000',\n",
       "  'changeInReceivables': '9343000000',\n",
       "  'changeInInventory': '-1484000000',\n",
       "  'profitLoss': '99803000000',\n",
       "  'cashflowFromInvestment': '-22354000000',\n",
       "  'cashflowFromFinancing': '-110749000000',\n",
       "  'proceedsFromRepaymentsOfShortTermDebt': '7910000000',\n",
       "  'paymentsForRepurchaseOfCommonStock': '89402000000',\n",
       "  'paymentsForRepurchaseOfEquity': '89402000000',\n",
       "  'paymentsForRepurchaseOfPreferredStock': 'None',\n",
       "  'dividendPayout': '14841000000',\n",
       "  'dividendPayoutCommonStock': '14841000000',\n",
       "  'dividendPayoutPreferredStock': 'None',\n",
       "  'proceedsFromIssuanceOfCommonStock': 'None',\n",
       "  'proceedsFromIssuanceOfLongTermDebtAndCapitalSecuritiesNet': '5465000000',\n",
       "  'proceedsFromIssuanceOfPreferredStock': 'None',\n",
       "  'proceedsFromRepurchaseOfEquity': '-89402000000',\n",
       "  'proceedsFromSaleOfTreasuryStock': 'None',\n",
       "  'changeInCashAndCashEquivalents': '-10952000000',\n",
       "  'changeInExchangeRate': 'None',\n",
       "  'netIncome': '99803000000'},\n",
       " {'fiscalDateEnding': '2021-09-30',\n",
       "  'reportedCurrency': 'USD',\n",
       "  'operatingCashflow': '104038000000',\n",
       "  'paymentsForOperatingActivities': '4087000000',\n",
       "  'proceedsFromOperatingActivities': 'None',\n",
       "  'changeInOperatingLiabilities': '19801000000',\n",
       "  'changeInOperatingAssets': '24712000000',\n",
       "  'depreciationDepletionAndAmortization': '11284000000',\n",
       "  'capitalExpenditures': '11085000000',\n",
       "  'changeInReceivables': '14028000000',\n",
       "  'changeInInventory': '2642000000',\n",
       "  'profitLoss': '94680000000',\n",
       "  'cashflowFromInvestment': '-14545000000',\n",
       "  'cashflowFromFinancing': '-93353000000',\n",
       "  'proceedsFromRepaymentsOfShortTermDebt': '2044000000',\n",
       "  'paymentsForRepurchaseOfCommonStock': '85971000000',\n",
       "  'paymentsForRepurchaseOfEquity': '85971000000',\n",
       "  'paymentsForRepurchaseOfPreferredStock': 'None',\n",
       "  'dividendPayout': '14467000000',\n",
       "  'dividendPayoutCommonStock': '14467000000',\n",
       "  'dividendPayoutPreferredStock': 'None',\n",
       "  'proceedsFromIssuanceOfCommonStock': '1105000000',\n",
       "  'proceedsFromIssuanceOfLongTermDebtAndCapitalSecuritiesNet': '20393000000',\n",
       "  'proceedsFromIssuanceOfPreferredStock': 'None',\n",
       "  'proceedsFromRepurchaseOfEquity': '-84866000000',\n",
       "  'proceedsFromSaleOfTreasuryStock': 'None',\n",
       "  'changeInCashAndCashEquivalents': '-3860000000',\n",
       "  'changeInExchangeRate': 'None',\n",
       "  'netIncome': '94680000000'},\n",
       " {'fiscalDateEnding': '2020-09-30',\n",
       "  'reportedCurrency': 'USD',\n",
       "  'operatingCashflow': '80674000000',\n",
       "  'paymentsForOperatingActivities': '4502000000',\n",
       "  'proceedsFromOperatingActivities': 'None',\n",
       "  'changeInOperatingLiabilities': '6935000000',\n",
       "  'changeInOperatingAssets': '1245000000',\n",
       "  'depreciationDepletionAndAmortization': '11056000000',\n",
       "  'capitalExpenditures': '7309000000',\n",
       "  'changeInReceivables': '-8470000000',\n",
       "  'changeInInventory': '127000000',\n",
       "  'profitLoss': '57411000000',\n",
       "  'cashflowFromInvestment': '-4289000000',\n",
       "  'cashflowFromFinancing': '-86820000000',\n",
       "  'proceedsFromRepaymentsOfShortTermDebt': '-1926000000',\n",
       "  'paymentsForRepurchaseOfCommonStock': '72358000000',\n",
       "  'paymentsForRepurchaseOfEquity': '72358000000',\n",
       "  'paymentsForRepurchaseOfPreferredStock': 'None',\n",
       "  'dividendPayout': '14081000000',\n",
       "  'dividendPayoutCommonStock': '14081000000',\n",
       "  'dividendPayoutPreferredStock': 'None',\n",
       "  'proceedsFromIssuanceOfCommonStock': '880000000',\n",
       "  'proceedsFromIssuanceOfLongTermDebtAndCapitalSecuritiesNet': '16091000000',\n",
       "  'proceedsFromIssuanceOfPreferredStock': 'None',\n",
       "  'proceedsFromRepurchaseOfEquity': '-71478000000',\n",
       "  'proceedsFromSaleOfTreasuryStock': 'None',\n",
       "  'changeInCashAndCashEquivalents': '-10435000000',\n",
       "  'changeInExchangeRate': 'None',\n",
       "  'netIncome': '57411000000'},\n",
       " {'fiscalDateEnding': '2019-09-30',\n",
       "  'reportedCurrency': 'USD',\n",
       "  'operatingCashflow': '69391000000',\n",
       "  'paymentsForOperatingActivities': '3423000000',\n",
       "  'proceedsFromOperatingActivities': 'None',\n",
       "  'changeInOperatingLiabilities': '-7248000000',\n",
       "  'changeInOperatingAssets': '-3760000000',\n",
       "  'depreciationDepletionAndAmortization': '12547000000',\n",
       "  'capitalExpenditures': '10495000000',\n",
       "  'changeInReceivables': '-3176000000',\n",
       "  'changeInInventory': '289000000',\n",
       "  'profitLoss': '55256000000',\n",
       "  'cashflowFromInvestment': '45896000000',\n",
       "  'cashflowFromFinancing': '-90976000000',\n",
       "  'proceedsFromRepaymentsOfShortTermDebt': '-11954000000',\n",
       "  'paymentsForRepurchaseOfCommonStock': '66897000000',\n",
       "  'paymentsForRepurchaseOfEquity': '66897000000',\n",
       "  'paymentsForRepurchaseOfPreferredStock': 'None',\n",
       "  'dividendPayout': '14119000000',\n",
       "  'dividendPayoutCommonStock': '14119000000',\n",
       "  'dividendPayoutPreferredStock': 'None',\n",
       "  'proceedsFromIssuanceOfCommonStock': '781000000',\n",
       "  'proceedsFromIssuanceOfLongTermDebtAndCapitalSecuritiesNet': '6963000000',\n",
       "  'proceedsFromIssuanceOfPreferredStock': 'None',\n",
       "  'proceedsFromRepurchaseOfEquity': '-66116000000',\n",
       "  'proceedsFromSaleOfTreasuryStock': 'None',\n",
       "  'changeInCashAndCashEquivalents': '24311000000',\n",
       "  'changeInExchangeRate': 'None',\n",
       "  'netIncome': '55256000000'},\n",
       " {'fiscalDateEnding': '2018-09-30',\n",
       "  'reportedCurrency': 'USD',\n",
       "  'operatingCashflow': '77434000000',\n",
       "  'paymentsForOperatingActivities': '3022000000',\n",
       "  'proceedsFromOperatingActivities': 'None',\n",
       "  'changeInOperatingLiabilities': '47665000000',\n",
       "  'changeInOperatingAssets': '12927000000',\n",
       "  'depreciationDepletionAndAmortization': '10903000000',\n",
       "  'capitalExpenditures': '13313000000',\n",
       "  'changeInReceivables': '13332000000',\n",
       "  'changeInInventory': '-828000000',\n",
       "  'profitLoss': '59531000000',\n",
       "  'cashflowFromInvestment': '16066000000',\n",
       "  'cashflowFromFinancing': '-87876000000',\n",
       "  'proceedsFromRepaymentsOfShortTermDebt': '-74000000',\n",
       "  'paymentsForRepurchaseOfCommonStock': '72738000000',\n",
       "  'paymentsForRepurchaseOfEquity': '72738000000',\n",
       "  'paymentsForRepurchaseOfPreferredStock': 'None',\n",
       "  'dividendPayout': '13712000000',\n",
       "  'dividendPayoutCommonStock': '13712000000',\n",
       "  'dividendPayoutPreferredStock': 'None',\n",
       "  'proceedsFromIssuanceOfCommonStock': '669000000',\n",
       "  'proceedsFromIssuanceOfLongTermDebtAndCapitalSecuritiesNet': '6969000000',\n",
       "  'proceedsFromIssuanceOfPreferredStock': 'None',\n",
       "  'proceedsFromRepurchaseOfEquity': '-72069000000',\n",
       "  'proceedsFromSaleOfTreasuryStock': 'None',\n",
       "  'changeInCashAndCashEquivalents': '5624000000',\n",
       "  'changeInExchangeRate': 'None',\n",
       "  'netIncome': '59531000000'},\n",
       " {'fiscalDateEnding': '2017-09-30',\n",
       "  'reportedCurrency': 'USD',\n",
       "  'operatingCashflow': '64225000000',\n",
       "  'paymentsForOperatingActivities': '2092000000',\n",
       "  'proceedsFromOperatingActivities': 'None',\n",
       "  'changeInOperatingLiabilities': '8838000000',\n",
       "  'changeInOperatingAssets': '14388000000',\n",
       "  'depreciationDepletionAndAmortization': '10157000000',\n",
       "  'capitalExpenditures': '12795000000',\n",
       "  'changeInReceivables': '6347000000',\n",
       "  'changeInInventory': '2723000000',\n",
       "  'profitLoss': '48351000000',\n",
       "  'cashflowFromInvestment': '-46446000000',\n",
       "  'cashflowFromFinancing': '-17974000000',\n",
       "  'proceedsFromRepaymentsOfShortTermDebt': '7704000000',\n",
       "  'paymentsForRepurchaseOfCommonStock': '32900000000',\n",
       "  'paymentsForRepurchaseOfEquity': '32900000000',\n",
       "  'paymentsForRepurchaseOfPreferredStock': 'None',\n",
       "  'dividendPayout': '12769000000',\n",
       "  'dividendPayoutCommonStock': '12563000000',\n",
       "  'dividendPayoutPreferredStock': 'None',\n",
       "  'proceedsFromIssuanceOfCommonStock': '555000000',\n",
       "  'proceedsFromIssuanceOfLongTermDebtAndCapitalSecuritiesNet': '28662000000',\n",
       "  'proceedsFromIssuanceOfPreferredStock': 'None',\n",
       "  'proceedsFromRepurchaseOfEquity': '-32345000000',\n",
       "  'proceedsFromSaleOfTreasuryStock': 'None',\n",
       "  'changeInCashAndCashEquivalents': '-195000000',\n",
       "  'changeInExchangeRate': 'None',\n",
       "  'netIncome': '48351000000'},\n",
       " {'fiscalDateEnding': '2016-09-30',\n",
       "  'reportedCurrency': 'USD',\n",
       "  'operatingCashflow': '66231000000',\n",
       "  'paymentsForOperatingActivities': '1316000000',\n",
       "  'proceedsFromOperatingActivities': 'None',\n",
       "  'changeInOperatingLiabilities': '-1867000000',\n",
       "  'changeInOperatingAssets': '-2351000000',\n",
       "  'depreciationDepletionAndAmortization': '10505000000',\n",
       "  'capitalExpenditures': '13548000000',\n",
       "  'changeInReceivables': '-1044000000',\n",
       "  'changeInInventory': '-217000000',\n",
       "  'profitLoss': '45687000000',\n",
       "  'cashflowFromInvestment': '-45977000000',\n",
       "  'cashflowFromFinancing': '-20890000000',\n",
       "  'proceedsFromRepaymentsOfShortTermDebt': '-794000000',\n",
       "  'paymentsForRepurchaseOfCommonStock': '29722000000',\n",
       "  'paymentsForRepurchaseOfEquity': '29722000000',\n",
       "  'paymentsForRepurchaseOfPreferredStock': 'None',\n",
       "  'dividendPayout': '12150000000',\n",
       "  'dividendPayoutCommonStock': '11965000000',\n",
       "  'dividendPayoutPreferredStock': 'None',\n",
       "  'proceedsFromIssuanceOfCommonStock': '495000000',\n",
       "  'proceedsFromIssuanceOfLongTermDebtAndCapitalSecuritiesNet': '24954000000',\n",
       "  'proceedsFromIssuanceOfPreferredStock': 'None',\n",
       "  'proceedsFromRepurchaseOfEquity': '-29227000000',\n",
       "  'proceedsFromSaleOfTreasuryStock': 'None',\n",
       "  'changeInCashAndCashEquivalents': '-636000000',\n",
       "  'changeInExchangeRate': 'None',\n",
       "  'netIncome': '45687000000'},\n",
       " {'fiscalDateEnding': '2015-09-30',\n",
       "  'reportedCurrency': 'USD',\n",
       "  'operatingCashflow': '81266000000',\n",
       "  'paymentsForOperatingActivities': '514000000',\n",
       "  'proceedsFromOperatingActivities': 'None',\n",
       "  'changeInOperatingLiabilities': '15188000000',\n",
       "  'changeInOperatingAssets': '-194000000',\n",
       "  'depreciationDepletionAndAmortization': '9200000000',\n",
       "  'capitalExpenditures': '11488000000',\n",
       "  'changeInReceivables': '-611000000',\n",
       "  'changeInInventory': '238000000',\n",
       "  'profitLoss': '53394000000',\n",
       "  'cashflowFromInvestment': '-56274000000',\n",
       "  'cashflowFromFinancing': '-17716000000',\n",
       "  'proceedsFromRepaymentsOfShortTermDebt': '4382000000',\n",
       "  'paymentsForRepurchaseOfCommonStock': '35253000000',\n",
       "  'paymentsForRepurchaseOfEquity': '35253000000',\n",
       "  'paymentsForRepurchaseOfPreferredStock': 'None',\n",
       "  'dividendPayout': '11561000000',\n",
       "  'dividendPayoutCommonStock': '11561000000',\n",
       "  'dividendPayoutPreferredStock': 'None',\n",
       "  'proceedsFromIssuanceOfCommonStock': '543000000',\n",
       "  'proceedsFromIssuanceOfLongTermDebtAndCapitalSecuritiesNet': '27114000000',\n",
       "  'proceedsFromIssuanceOfPreferredStock': 'None',\n",
       "  'proceedsFromRepurchaseOfEquity': '-34710000000',\n",
       "  'proceedsFromSaleOfTreasuryStock': 'None',\n",
       "  'changeInCashAndCashEquivalents': '7276000000',\n",
       "  'changeInExchangeRate': 'None',\n",
       "  'netIncome': '53394000000'},\n",
       " {'fiscalDateEnding': '2014-09-30',\n",
       "  'reportedCurrency': 'USD',\n",
       "  'operatingCashflow': '109133000000',\n",
       "  'paymentsForOperatingActivities': '339000000',\n",
       "  'proceedsFromOperatingActivities': 'None',\n",
       "  'changeInOperatingLiabilities': '13408000000',\n",
       "  'changeInOperatingAssets': '6361000000',\n",
       "  'depreciationDepletionAndAmortization': '1100000000',\n",
       "  'capitalExpenditures': '9571000000',\n",
       "  'changeInReceivables': '6452000000',\n",
       "  'changeInInventory': '76000000',\n",
       "  'profitLoss': '39510000000',\n",
       "  'cashflowFromInvestment': '-22579000000',\n",
       "  'cashflowFromFinancing': '-37549000000',\n",
       "  'proceedsFromRepaymentsOfShortTermDebt': '6306000000',\n",
       "  'paymentsForRepurchaseOfCommonStock': '45000000000',\n",
       "  'paymentsForRepurchaseOfEquity': '45000000000',\n",
       "  'paymentsForRepurchaseOfPreferredStock': 'None',\n",
       "  'dividendPayout': '11031000000',\n",
       "  'dividendPayoutCommonStock': '11126000000',\n",
       "  'dividendPayoutPreferredStock': 'None',\n",
       "  'proceedsFromIssuanceOfCommonStock': '730000000',\n",
       "  'proceedsFromIssuanceOfLongTermDebtAndCapitalSecuritiesNet': '11960000000',\n",
       "  'proceedsFromIssuanceOfPreferredStock': 'None',\n",
       "  'proceedsFromRepurchaseOfEquity': '-44270000000',\n",
       "  'proceedsFromSaleOfTreasuryStock': 'None',\n",
       "  'changeInCashAndCashEquivalents': '-415000000',\n",
       "  'changeInExchangeRate': 'None',\n",
       "  'netIncome': '39510000000'},\n",
       " {'fiscalDateEnding': '2013-09-30',\n",
       "  'reportedCurrency': 'USD',\n",
       "  'operatingCashflow': '53666000000',\n",
       "  'paymentsForOperatingActivities': '0',\n",
       "  'proceedsFromOperatingActivities': 'None',\n",
       "  'changeInOperatingLiabilities': '8320000000',\n",
       "  'changeInOperatingAssets': '1842000000',\n",
       "  'depreciationDepletionAndAmortization': '960000000',\n",
       "  'capitalExpenditures': '8165000000',\n",
       "  'changeInReceivables': '1949000000',\n",
       "  'changeInInventory': '973000000',\n",
       "  'profitLoss': '37037000000',\n",
       "  'cashflowFromInvestment': '-33774000000',\n",
       "  'cashflowFromFinancing': '-16379000000',\n",
       "  'proceedsFromRepaymentsOfShortTermDebt': '0',\n",
       "  'paymentsForRepurchaseOfCommonStock': '22860000000',\n",
       "  'paymentsForRepurchaseOfEquity': '22860000000',\n",
       "  'paymentsForRepurchaseOfPreferredStock': 'None',\n",
       "  'dividendPayout': '10528000000',\n",
       "  'dividendPayoutCommonStock': '10564000000',\n",
       "  'dividendPayoutPreferredStock': 'None',\n",
       "  'proceedsFromIssuanceOfCommonStock': '530000000',\n",
       "  'proceedsFromIssuanceOfLongTermDebtAndCapitalSecuritiesNet': '16896000000',\n",
       "  'proceedsFromIssuanceOfPreferredStock': 'None',\n",
       "  'proceedsFromRepurchaseOfEquity': '-22330000000',\n",
       "  'proceedsFromSaleOfTreasuryStock': 'None',\n",
       "  'changeInCashAndCashEquivalents': '3513000000',\n",
       "  'changeInExchangeRate': 'None',\n",
       "  'netIncome': '37037000000'},\n",
       " {'fiscalDateEnding': '2012-09-30',\n",
       "  'reportedCurrency': 'USD',\n",
       "  'operatingCashflow': '50856000000',\n",
       "  'paymentsForOperatingActivities': '0',\n",
       "  'proceedsFromOperatingActivities': 'None',\n",
       "  'changeInOperatingLiabilities': '9843000000',\n",
       "  'changeInOperatingAssets': '10142000000',\n",
       "  'depreciationDepletionAndAmortization': '605000000',\n",
       "  'capitalExpenditures': '8295000000',\n",
       "  'changeInReceivables': '6965000000',\n",
       "  'changeInInventory': '15000000',\n",
       "  'profitLoss': '41733000000',\n",
       "  'cashflowFromInvestment': '-48227000000',\n",
       "  'cashflowFromFinancing': '-1698000000',\n",
       "  'proceedsFromRepaymentsOfShortTermDebt': '0',\n",
       "  'paymentsForRepurchaseOfCommonStock': '0',\n",
       "  'paymentsForRepurchaseOfEquity': '0',\n",
       "  'paymentsForRepurchaseOfPreferredStock': 'None',\n",
       "  'dividendPayout': '2488000000',\n",
       "  'dividendPayoutCommonStock': '2488000000',\n",
       "  'dividendPayoutPreferredStock': 'None',\n",
       "  'proceedsFromIssuanceOfCommonStock': '665000000',\n",
       "  'proceedsFromIssuanceOfLongTermDebtAndCapitalSecuritiesNet': '0',\n",
       "  'proceedsFromIssuanceOfPreferredStock': 'None',\n",
       "  'proceedsFromRepurchaseOfEquity': '665000000',\n",
       "  'proceedsFromSaleOfTreasuryStock': 'None',\n",
       "  'changeInCashAndCashEquivalents': '931000000',\n",
       "  'changeInExchangeRate': 'None',\n",
       "  'netIncome': '41733000000'},\n",
       " {'fiscalDateEnding': '2011-09-30',\n",
       "  'reportedCurrency': 'USD',\n",
       "  'operatingCashflow': '37529000000',\n",
       "  'paymentsForOperatingActivities': 'None',\n",
       "  'proceedsFromOperatingActivities': 'None',\n",
       "  'changeInOperatingLiabilities': '8664000000',\n",
       "  'changeInOperatingAssets': '2907000000',\n",
       "  'depreciationDepletionAndAmortization': '192000000',\n",
       "  'capitalExpenditures': '4260000000',\n",
       "  'changeInReceivables': '1791000000',\n",
       "  'changeInInventory': '-275000000',\n",
       "  'profitLoss': '25922000000',\n",
       "  'cashflowFromInvestment': '-40419000000',\n",
       "  'cashflowFromFinancing': '1444000000',\n",
       "  'proceedsFromRepaymentsOfShortTermDebt': 'None',\n",
       "  'paymentsForRepurchaseOfCommonStock': '0',\n",
       "  'paymentsForRepurchaseOfEquity': '0',\n",
       "  'paymentsForRepurchaseOfPreferredStock': 'None',\n",
       "  'dividendPayout': 'None',\n",
       "  'dividendPayoutCommonStock': 'None',\n",
       "  'dividendPayoutPreferredStock': 'None',\n",
       "  'proceedsFromIssuanceOfCommonStock': '831000000',\n",
       "  'proceedsFromIssuanceOfLongTermDebtAndCapitalSecuritiesNet': '0',\n",
       "  'proceedsFromIssuanceOfPreferredStock': 'None',\n",
       "  'proceedsFromRepurchaseOfEquity': '831000000',\n",
       "  'proceedsFromSaleOfTreasuryStock': 'None',\n",
       "  'changeInCashAndCashEquivalents': '-1446000000',\n",
       "  'changeInExchangeRate': 'None',\n",
       "  'netIncome': '25922000000'},\n",
       " {'fiscalDateEnding': '2010-09-30',\n",
       "  'reportedCurrency': 'USD',\n",
       "  'operatingCashflow': '18595000000',\n",
       "  'paymentsForOperatingActivities': 'None',\n",
       "  'proceedsFromOperatingActivities': 'None',\n",
       "  'changeInOperatingLiabilities': '8302000000',\n",
       "  'changeInOperatingAssets': '5576000000',\n",
       "  'depreciationDepletionAndAmortization': '69000000',\n",
       "  'capitalExpenditures': '2005000000',\n",
       "  'changeInReceivables': '4860000000',\n",
       "  'changeInInventory': '596000000',\n",
       "  'profitLoss': '14013000000',\n",
       "  'cashflowFromInvestment': '-13854000000',\n",
       "  'cashflowFromFinancing': '1257000000',\n",
       "  'proceedsFromRepaymentsOfShortTermDebt': 'None',\n",
       "  'paymentsForRepurchaseOfCommonStock': 'None',\n",
       "  'paymentsForRepurchaseOfEquity': 'None',\n",
       "  'paymentsForRepurchaseOfPreferredStock': 'None',\n",
       "  'dividendPayout': 'None',\n",
       "  'dividendPayoutCommonStock': 'None',\n",
       "  'dividendPayoutPreferredStock': 'None',\n",
       "  'proceedsFromIssuanceOfCommonStock': '912000000',\n",
       "  'proceedsFromIssuanceOfLongTermDebtAndCapitalSecuritiesNet': 'None',\n",
       "  'proceedsFromIssuanceOfPreferredStock': 'None',\n",
       "  'proceedsFromRepurchaseOfEquity': '912000000',\n",
       "  'proceedsFromSaleOfTreasuryStock': 'None',\n",
       "  'changeInCashAndCashEquivalents': '5998000000',\n",
       "  'changeInExchangeRate': 'None',\n",
       "  'netIncome': '14013000000'},\n",
       " {'fiscalDateEnding': '2009-09-30',\n",
       "  'reportedCurrency': 'USD',\n",
       "  'operatingCashflow': '10159000000',\n",
       "  'paymentsForOperatingActivities': 'None',\n",
       "  'proceedsFromOperatingActivities': 'None',\n",
       "  'changeInOperatingLiabilities': '452000000',\n",
       "  'changeInOperatingAssets': '1787000000',\n",
       "  'depreciationDepletionAndAmortization': '703000000',\n",
       "  'capitalExpenditures': '1144000000',\n",
       "  'changeInReceivables': '939000000',\n",
       "  'changeInInventory': '-54000000',\n",
       "  'profitLoss': '8235000000',\n",
       "  'cashflowFromInvestment': '-17434000000',\n",
       "  'cashflowFromFinancing': '663000000',\n",
       "  'proceedsFromRepaymentsOfShortTermDebt': 'None',\n",
       "  'paymentsForRepurchaseOfCommonStock': 'None',\n",
       "  'paymentsForRepurchaseOfEquity': 'None',\n",
       "  'paymentsForRepurchaseOfPreferredStock': 'None',\n",
       "  'dividendPayout': 'None',\n",
       "  'dividendPayoutCommonStock': 'None',\n",
       "  'dividendPayoutPreferredStock': 'None',\n",
       "  'proceedsFromIssuanceOfCommonStock': '475000000',\n",
       "  'proceedsFromIssuanceOfLongTermDebtAndCapitalSecuritiesNet': 'None',\n",
       "  'proceedsFromIssuanceOfPreferredStock': 'None',\n",
       "  'proceedsFromRepurchaseOfEquity': '475000000',\n",
       "  'proceedsFromSaleOfTreasuryStock': 'None',\n",
       "  'changeInCashAndCashEquivalents': '-6612000000',\n",
       "  'changeInExchangeRate': 'None',\n",
       "  'netIncome': '8235000000'}]"
      ]
     },
     "execution_count": 48,
     "metadata": {},
     "output_type": "execute_result"
    }
   ],
   "source": [
    "#json file, we can extract detailed data we need for a company\n",
    "apple_annual_reports_json = data[\"annualReports\"]\n",
    "apple_quarterly_reports_json = data[\"quarterlyReports\"]\n",
    "\n",
    "apple_annual_reports_json"
   ]
  },
  {
   "cell_type": "code",
   "execution_count": 49,
   "metadata": {},
   "outputs": [
    {
     "data": {
      "text/html": [
       "<div>\n",
       "<style scoped>\n",
       "    .dataframe tbody tr th:only-of-type {\n",
       "        vertical-align: middle;\n",
       "    }\n",
       "\n",
       "    .dataframe tbody tr th {\n",
       "        vertical-align: top;\n",
       "    }\n",
       "\n",
       "    .dataframe thead th {\n",
       "        text-align: right;\n",
       "    }\n",
       "</style>\n",
       "<table border=\"1\" class=\"dataframe\">\n",
       "  <thead>\n",
       "    <tr style=\"text-align: right;\">\n",
       "      <th></th>\n",
       "      <th>fiscalDateEnding</th>\n",
       "      <th>reportedCurrency</th>\n",
       "      <th>operatingCashflow</th>\n",
       "      <th>paymentsForOperatingActivities</th>\n",
       "      <th>proceedsFromOperatingActivities</th>\n",
       "      <th>changeInOperatingLiabilities</th>\n",
       "      <th>changeInOperatingAssets</th>\n",
       "      <th>depreciationDepletionAndAmortization</th>\n",
       "      <th>capitalExpenditures</th>\n",
       "      <th>changeInReceivables</th>\n",
       "      <th>...</th>\n",
       "      <th>dividendPayoutCommonStock</th>\n",
       "      <th>dividendPayoutPreferredStock</th>\n",
       "      <th>proceedsFromIssuanceOfCommonStock</th>\n",
       "      <th>proceedsFromIssuanceOfLongTermDebtAndCapitalSecuritiesNet</th>\n",
       "      <th>proceedsFromIssuanceOfPreferredStock</th>\n",
       "      <th>proceedsFromRepurchaseOfEquity</th>\n",
       "      <th>proceedsFromSaleOfTreasuryStock</th>\n",
       "      <th>changeInCashAndCashEquivalents</th>\n",
       "      <th>changeInExchangeRate</th>\n",
       "      <th>netIncome</th>\n",
       "    </tr>\n",
       "  </thead>\n",
       "  <tbody>\n",
       "    <tr>\n",
       "      <th>0</th>\n",
       "      <td>2023-12-31</td>\n",
       "      <td>USD</td>\n",
       "      <td>39895000000</td>\n",
       "      <td>None</td>\n",
       "      <td>None</td>\n",
       "      <td>-8407000000</td>\n",
       "      <td>-9530000000</td>\n",
       "      <td>2848000000</td>\n",
       "      <td>2392000000</td>\n",
       "      <td>-11124000000</td>\n",
       "      <td>...</td>\n",
       "      <td>3825000000</td>\n",
       "      <td>None</td>\n",
       "      <td>None</td>\n",
       "      <td>0</td>\n",
       "      <td>None</td>\n",
       "      <td>-20139000000</td>\n",
       "      <td>None</td>\n",
       "      <td>None</td>\n",
       "      <td>None</td>\n",
       "      <td>33916000000</td>\n",
       "    </tr>\n",
       "    <tr>\n",
       "      <th>1</th>\n",
       "      <td>2023-09-30</td>\n",
       "      <td>USD</td>\n",
       "      <td>21598000000</td>\n",
       "      <td>3113000000</td>\n",
       "      <td>None</td>\n",
       "      <td>14946000000</td>\n",
       "      <td>21006000000</td>\n",
       "      <td>2653000000</td>\n",
       "      <td>2163000000</td>\n",
       "      <td>21137000000</td>\n",
       "      <td>...</td>\n",
       "      <td>3758000000</td>\n",
       "      <td>None</td>\n",
       "      <td>0</td>\n",
       "      <td>0</td>\n",
       "      <td>None</td>\n",
       "      <td>-21003000000</td>\n",
       "      <td>None</td>\n",
       "      <td>839000000</td>\n",
       "      <td>None</td>\n",
       "      <td>22956000000</td>\n",
       "    </tr>\n",
       "    <tr>\n",
       "      <th>2</th>\n",
       "      <td>2023-06-30</td>\n",
       "      <td>USD</td>\n",
       "      <td>26380000000</td>\n",
       "      <td>None</td>\n",
       "      <td>None</td>\n",
       "      <td>None</td>\n",
       "      <td>None</td>\n",
       "      <td>3052000000</td>\n",
       "      <td>2093000000</td>\n",
       "      <td>-3661000000</td>\n",
       "      <td>...</td>\n",
       "      <td>3849000000</td>\n",
       "      <td>None</td>\n",
       "      <td>0</td>\n",
       "      <td>0</td>\n",
       "      <td>None</td>\n",
       "      <td>0</td>\n",
       "      <td>None</td>\n",
       "      <td>2769000000</td>\n",
       "      <td>None</td>\n",
       "      <td>19881000000</td>\n",
       "    </tr>\n",
       "    <tr>\n",
       "      <th>3</th>\n",
       "      <td>2023-03-31</td>\n",
       "      <td>USD</td>\n",
       "      <td>28560000000</td>\n",
       "      <td>None</td>\n",
       "      <td>None</td>\n",
       "      <td>None</td>\n",
       "      <td>None</td>\n",
       "      <td>2898000000</td>\n",
       "      <td>2916000000</td>\n",
       "      <td>17786000000</td>\n",
       "      <td>...</td>\n",
       "      <td>3650000000</td>\n",
       "      <td>None</td>\n",
       "      <td>0</td>\n",
       "      <td>0</td>\n",
       "      <td>None</td>\n",
       "      <td>0</td>\n",
       "      <td>None</td>\n",
       "      <td>5155000000</td>\n",
       "      <td>None</td>\n",
       "      <td>24160000000</td>\n",
       "    </tr>\n",
       "    <tr>\n",
       "      <th>4</th>\n",
       "      <td>2022-12-31</td>\n",
       "      <td>USD</td>\n",
       "      <td>34005000000</td>\n",
       "      <td>703000000</td>\n",
       "      <td>None</td>\n",
       "      <td>-2186000000</td>\n",
       "      <td>-689000000</td>\n",
       "      <td>2916000000</td>\n",
       "      <td>3787000000</td>\n",
       "      <td>-6595000000</td>\n",
       "      <td>...</td>\n",
       "      <td>3768000000</td>\n",
       "      <td>None</td>\n",
       "      <td>0</td>\n",
       "      <td>0</td>\n",
       "      <td>None</td>\n",
       "      <td>-19475000000</td>\n",
       "      <td>None</td>\n",
       "      <td>-3003000000</td>\n",
       "      <td>None</td>\n",
       "      <td>29998000000</td>\n",
       "    </tr>\n",
       "    <tr>\n",
       "      <th>5</th>\n",
       "      <td>2022-09-30</td>\n",
       "      <td>USD</td>\n",
       "      <td>24127000000</td>\n",
       "      <td>2755000000</td>\n",
       "      <td>None</td>\n",
       "      <td>21420000000</td>\n",
       "      <td>21468000000</td>\n",
       "      <td>2865000000</td>\n",
       "      <td>3289000000</td>\n",
       "      <td>18693000000</td>\n",
       "      <td>...</td>\n",
       "      <td>3703000000</td>\n",
       "      <td>None</td>\n",
       "      <td>None</td>\n",
       "      <td>5465000000</td>\n",
       "      <td>None</td>\n",
       "      <td>-24428000000</td>\n",
       "      <td>None</td>\n",
       "      <td>-3884000000</td>\n",
       "      <td>None</td>\n",
       "      <td>20721000000</td>\n",
       "    </tr>\n",
       "    <tr>\n",
       "      <th>6</th>\n",
       "      <td>2022-06-30</td>\n",
       "      <td>USD</td>\n",
       "      <td>22892000000</td>\n",
       "      <td>504000000</td>\n",
       "      <td>None</td>\n",
       "      <td>-6627000000</td>\n",
       "      <td>-3402000000</td>\n",
       "      <td>2805000000</td>\n",
       "      <td>2102000000</td>\n",
       "      <td>-3165000000</td>\n",
       "      <td>...</td>\n",
       "      <td>3811000000</td>\n",
       "      <td>None</td>\n",
       "      <td>None</td>\n",
       "      <td>0</td>\n",
       "      <td>None</td>\n",
       "      <td>-21865000000</td>\n",
       "      <td>None</td>\n",
       "      <td>19442000000</td>\n",
       "      <td>None</td>\n",
       "      <td>19442000000</td>\n",
       "    </tr>\n",
       "    <tr>\n",
       "      <th>7</th>\n",
       "      <td>2022-03-31</td>\n",
       "      <td>USD</td>\n",
       "      <td>28166000000</td>\n",
       "      <td>875000000</td>\n",
       "      <td>None</td>\n",
       "      <td>-23746000000</td>\n",
       "      <td>-21694000000</td>\n",
       "      <td>2737000000</td>\n",
       "      <td>2514000000</td>\n",
       "      <td>-19931000000</td>\n",
       "      <td>...</td>\n",
       "      <td>3595000000</td>\n",
       "      <td>None</td>\n",
       "      <td>None</td>\n",
       "      <td>0</td>\n",
       "      <td>None</td>\n",
       "      <td>-22631000000</td>\n",
       "      <td>None</td>\n",
       "      <td>25010000000</td>\n",
       "      <td>None</td>\n",
       "      <td>25010000000</td>\n",
       "    </tr>\n",
       "    <tr>\n",
       "      <th>8</th>\n",
       "      <td>2021-12-31</td>\n",
       "      <td>USD</td>\n",
       "      <td>46966000000</td>\n",
       "      <td>531000000</td>\n",
       "      <td>None</td>\n",
       "      <td>24511000000</td>\n",
       "      <td>17986000000</td>\n",
       "      <td>2697000000</td>\n",
       "      <td>2803000000</td>\n",
       "      <td>13746000000</td>\n",
       "      <td>...</td>\n",
       "      <td>3732000000</td>\n",
       "      <td>None</td>\n",
       "      <td>None</td>\n",
       "      <td>None</td>\n",
       "      <td>None</td>\n",
       "      <td>-20478000000</td>\n",
       "      <td>None</td>\n",
       "      <td>2701000000</td>\n",
       "      <td>None</td>\n",
       "      <td>34630000000</td>\n",
       "    </tr>\n",
       "    <tr>\n",
       "      <th>9</th>\n",
       "      <td>2021-09-30</td>\n",
       "      <td>USD</td>\n",
       "      <td>20200000000</td>\n",
       "      <td>2217000000</td>\n",
       "      <td>None</td>\n",
       "      <td>19386000000</td>\n",
       "      <td>21176000000</td>\n",
       "      <td>2989000000</td>\n",
       "      <td>3223000000</td>\n",
       "      <td>17604000000</td>\n",
       "      <td>...</td>\n",
       "      <td>3640000000</td>\n",
       "      <td>None</td>\n",
       "      <td>544000000</td>\n",
       "      <td>6470000000</td>\n",
       "      <td>None</td>\n",
       "      <td>-19204000000</td>\n",
       "      <td>None</td>\n",
       "      <td>653000000</td>\n",
       "      <td>None</td>\n",
       "      <td>20551000000</td>\n",
       "    </tr>\n",
       "    <tr>\n",
       "      <th>10</th>\n",
       "      <td>2021-06-30</td>\n",
       "      <td>USD</td>\n",
       "      <td>21094000000</td>\n",
       "      <td>543000000</td>\n",
       "      <td>None</td>\n",
       "      <td>-2275000000</td>\n",
       "      <td>2422000000</td>\n",
       "      <td>2832000000</td>\n",
       "      <td>2093000000</td>\n",
       "      <td>869000000</td>\n",
       "      <td>...</td>\n",
       "      <td>3767000000</td>\n",
       "      <td>None</td>\n",
       "      <td>0</td>\n",
       "      <td>0</td>\n",
       "      <td>None</td>\n",
       "      <td>-22900000000</td>\n",
       "      <td>None</td>\n",
       "      <td>21744000000</td>\n",
       "      <td>None</td>\n",
       "      <td>21744000000</td>\n",
       "    </tr>\n",
       "    <tr>\n",
       "      <th>11</th>\n",
       "      <td>2021-03-31</td>\n",
       "      <td>USD</td>\n",
       "      <td>23981000000</td>\n",
       "      <td>708000000</td>\n",
       "      <td>None</td>\n",
       "      <td>-28280000000</td>\n",
       "      <td>-24501000000</td>\n",
       "      <td>2797000000</td>\n",
       "      <td>2269000000</td>\n",
       "      <td>-25584000000</td>\n",
       "      <td>...</td>\n",
       "      <td>3447000000</td>\n",
       "      <td>None</td>\n",
       "      <td>561000000</td>\n",
       "      <td>13923000000</td>\n",
       "      <td>None</td>\n",
       "      <td>-17987000000</td>\n",
       "      <td>None</td>\n",
       "      <td>23630000000</td>\n",
       "      <td>None</td>\n",
       "      <td>23630000000</td>\n",
       "    </tr>\n",
       "    <tr>\n",
       "      <th>12</th>\n",
       "      <td>2020-12-31</td>\n",
       "      <td>USD</td>\n",
       "      <td>38763000000</td>\n",
       "      <td>619000000</td>\n",
       "      <td>None</td>\n",
       "      <td>30970000000</td>\n",
       "      <td>25615000000</td>\n",
       "      <td>2666000000</td>\n",
       "      <td>3500000000</td>\n",
       "      <td>21139000000</td>\n",
       "      <td>...</td>\n",
       "      <td>3613000000</td>\n",
       "      <td>None</td>\n",
       "      <td>0</td>\n",
       "      <td>0</td>\n",
       "      <td>None</td>\n",
       "      <td>-24775000000</td>\n",
       "      <td>None</td>\n",
       "      <td>-2070000000</td>\n",
       "      <td>None</td>\n",
       "      <td>28755000000</td>\n",
       "    </tr>\n",
       "    <tr>\n",
       "      <th>13</th>\n",
       "      <td>2020-09-30</td>\n",
       "      <td>USD</td>\n",
       "      <td>20576000000</td>\n",
       "      <td>1127000000</td>\n",
       "      <td>None</td>\n",
       "      <td>12206000000</td>\n",
       "      <td>8329000000</td>\n",
       "      <td>2702000000</td>\n",
       "      <td>1784000000</td>\n",
       "      <td>5364000000</td>\n",
       "      <td>...</td>\n",
       "      <td>3511000000</td>\n",
       "      <td>None</td>\n",
       "      <td>450000000</td>\n",
       "      <td>5456000000</td>\n",
       "      <td>None</td>\n",
       "      <td>-16737000000</td>\n",
       "      <td>None</td>\n",
       "      <td>24689000000</td>\n",
       "      <td>None</td>\n",
       "      <td>12673000000</td>\n",
       "    </tr>\n",
       "    <tr>\n",
       "      <th>14</th>\n",
       "      <td>2020-06-30</td>\n",
       "      <td>USD</td>\n",
       "      <td>16271000000</td>\n",
       "      <td>388000000</td>\n",
       "      <td>None</td>\n",
       "      <td>-474000000</td>\n",
       "      <td>-44000000</td>\n",
       "      <td>2752000000</td>\n",
       "      <td>1565000000</td>\n",
       "      <td>1373000000</td>\n",
       "      <td>...</td>\n",
       "      <td>3656000000</td>\n",
       "      <td>None</td>\n",
       "      <td>0</td>\n",
       "      <td>8425000000</td>\n",
       "      <td>None</td>\n",
       "      <td>-15891000000</td>\n",
       "      <td>None</td>\n",
       "      <td>10865000000</td>\n",
       "      <td>None</td>\n",
       "      <td>11253000000</td>\n",
       "    </tr>\n",
       "    <tr>\n",
       "      <th>15</th>\n",
       "      <td>2020-03-31</td>\n",
       "      <td>USD</td>\n",
       "      <td>13311000000</td>\n",
       "      <td>353000000</td>\n",
       "      <td>None</td>\n",
       "      <td>-10207000000</td>\n",
       "      <td>-8205000000</td>\n",
       "      <td>2786000000</td>\n",
       "      <td>1853000000</td>\n",
       "      <td>-9290000000</td>\n",
       "      <td>...</td>\n",
       "      <td>3375000000</td>\n",
       "      <td>None</td>\n",
       "      <td>428000000</td>\n",
       "      <td>0</td>\n",
       "      <td>None</td>\n",
       "      <td>-18146000000</td>\n",
       "      <td>None</td>\n",
       "      <td>10896000000</td>\n",
       "      <td>None</td>\n",
       "      <td>11249000000</td>\n",
       "    </tr>\n",
       "    <tr>\n",
       "      <th>16</th>\n",
       "      <td>2019-12-31</td>\n",
       "      <td>USD</td>\n",
       "      <td>30516000000</td>\n",
       "      <td>1120000000</td>\n",
       "      <td>None</td>\n",
       "      <td>5410000000</td>\n",
       "      <td>1165000000</td>\n",
       "      <td>2816000000</td>\n",
       "      <td>2107000000</td>\n",
       "      <td>-5917000000</td>\n",
       "      <td>...</td>\n",
       "      <td>3539000000</td>\n",
       "      <td>None</td>\n",
       "      <td>2000000</td>\n",
       "      <td>2210000000</td>\n",
       "      <td>None</td>\n",
       "      <td>-20704000000</td>\n",
       "      <td>None</td>\n",
       "      <td>-8559000000</td>\n",
       "      <td>None</td>\n",
       "      <td>22236000000</td>\n",
       "    </tr>\n",
       "    <tr>\n",
       "      <th>17</th>\n",
       "      <td>2019-09-30</td>\n",
       "      <td>USD</td>\n",
       "      <td>19910000000</td>\n",
       "      <td>860000000</td>\n",
       "      <td>None</td>\n",
       "      <td>22085000000</td>\n",
       "      <td>19925000000</td>\n",
       "      <td>3179000000</td>\n",
       "      <td>2777000000</td>\n",
       "      <td>19320000000</td>\n",
       "      <td>...</td>\n",
       "      <td>3479000000</td>\n",
       "      <td>None</td>\n",
       "      <td>390000000</td>\n",
       "      <td>6963000000</td>\n",
       "      <td>None</td>\n",
       "      <td>-17054000000</td>\n",
       "      <td>None</td>\n",
       "      <td>24313000000</td>\n",
       "      <td>None</td>\n",
       "      <td>13686000000</td>\n",
       "    </tr>\n",
       "    <tr>\n",
       "      <th>18</th>\n",
       "      <td>2019-06-30</td>\n",
       "      <td>USD</td>\n",
       "      <td>11636000000</td>\n",
       "      <td>801000000</td>\n",
       "      <td>None</td>\n",
       "      <td>-5496000000</td>\n",
       "      <td>-2698000000</td>\n",
       "      <td>2933000000</td>\n",
       "      <td>2000000000</td>\n",
       "      <td>214000000</td>\n",
       "      <td>...</td>\n",
       "      <td>3629000000</td>\n",
       "      <td>None</td>\n",
       "      <td>1000000</td>\n",
       "      <td>0</td>\n",
       "      <td>None</td>\n",
       "      <td>-16954000000</td>\n",
       "      <td>None</td>\n",
       "      <td>10044000000</td>\n",
       "      <td>None</td>\n",
       "      <td>10044000000</td>\n",
       "    </tr>\n",
       "    <tr>\n",
       "      <th>19</th>\n",
       "      <td>2019-03-31</td>\n",
       "      <td>USD</td>\n",
       "      <td>11155000000</td>\n",
       "      <td>926000000</td>\n",
       "      <td>None</td>\n",
       "      <td>-15536000000</td>\n",
       "      <td>-10914000000</td>\n",
       "      <td>3040000000</td>\n",
       "      <td>2363000000</td>\n",
       "      <td>-10675000000</td>\n",
       "      <td>...</td>\n",
       "      <td>3443000000</td>\n",
       "      <td>None</td>\n",
       "      <td>390000000</td>\n",
       "      <td>0</td>\n",
       "      <td>None</td>\n",
       "      <td>-23312000000</td>\n",
       "      <td>None</td>\n",
       "      <td>11561000000</td>\n",
       "      <td>None</td>\n",
       "      <td>11561000000</td>\n",
       "    </tr>\n",
       "    <tr>\n",
       "      <th>20</th>\n",
       "      <td>2018-12-31</td>\n",
       "      <td>USD</td>\n",
       "      <td>26690000000</td>\n",
       "      <td>836000000</td>\n",
       "      <td>None</td>\n",
       "      <td>-8301000000</td>\n",
       "      <td>-10073000000</td>\n",
       "      <td>3395000000</td>\n",
       "      <td>3355000000</td>\n",
       "      <td>-12035000000</td>\n",
       "      <td>...</td>\n",
       "      <td>3568000000</td>\n",
       "      <td>None</td>\n",
       "      <td>0</td>\n",
       "      <td>0</td>\n",
       "      <td>None</td>\n",
       "      <td>-8796000000</td>\n",
       "      <td>None</td>\n",
       "      <td>18858000000</td>\n",
       "      <td>None</td>\n",
       "      <td>19965000000</td>\n",
       "    </tr>\n",
       "    <tr>\n",
       "      <th>21</th>\n",
       "      <td>2018-09-30</td>\n",
       "      <td>USD</td>\n",
       "      <td>19523000000</td>\n",
       "      <td>902000000</td>\n",
       "      <td>None</td>\n",
       "      <td>21898000000</td>\n",
       "      <td>21040000000</td>\n",
       "      <td>2754000000</td>\n",
       "      <td>3041000000</td>\n",
       "      <td>22624000000</td>\n",
       "      <td>...</td>\n",
       "      <td>3530000000</td>\n",
       "      <td>None</td>\n",
       "      <td>341000000</td>\n",
       "      <td>0</td>\n",
       "      <td>None</td>\n",
       "      <td>-18763000000</td>\n",
       "      <td>None</td>\n",
       "      <td>-6058000000</td>\n",
       "      <td>None</td>\n",
       "      <td>14125000000</td>\n",
       "    </tr>\n",
       "    <tr>\n",
       "      <th>22</th>\n",
       "      <td>2018-06-30</td>\n",
       "      <td>USD</td>\n",
       "      <td>14488000000</td>\n",
       "      <td>764000000</td>\n",
       "      <td>None</td>\n",
       "      <td>-649000000</td>\n",
       "      <td>1265000000</td>\n",
       "      <td>2665000000</td>\n",
       "      <td>3267000000</td>\n",
       "      <td>3946000000</td>\n",
       "      <td>...</td>\n",
       "      <td>3653000000</td>\n",
       "      <td>None</td>\n",
       "      <td>1000000</td>\n",
       "      <td>0</td>\n",
       "      <td>None</td>\n",
       "      <td>-20782000000</td>\n",
       "      <td>None</td>\n",
       "      <td>-13088000000</td>\n",
       "      <td>None</td>\n",
       "      <td>11519000000</td>\n",
       "    </tr>\n",
       "    <tr>\n",
       "      <th>23</th>\n",
       "      <td>2018-03-31</td>\n",
       "      <td>USD</td>\n",
       "      <td>15130000000</td>\n",
       "      <td>733000000</td>\n",
       "      <td>None</td>\n",
       "      <td>-26512000000</td>\n",
       "      <td>-24371000000</td>\n",
       "      <td>2739000000</td>\n",
       "      <td>4041000000</td>\n",
       "      <td>-28468000000</td>\n",
       "      <td>...</td>\n",
       "      <td>3190000000</td>\n",
       "      <td>None</td>\n",
       "      <td>0</td>\n",
       "      <td>0</td>\n",
       "      <td>None</td>\n",
       "      <td>-22429000000</td>\n",
       "      <td>None</td>\n",
       "      <td>17568000000</td>\n",
       "      <td>None</td>\n",
       "      <td>13822000000</td>\n",
       "    </tr>\n",
       "    <tr>\n",
       "      <th>24</th>\n",
       "      <td>2017-12-31</td>\n",
       "      <td>USD</td>\n",
       "      <td>28293000000</td>\n",
       "      <td>623000000</td>\n",
       "      <td>None</td>\n",
       "      <td>52928000000</td>\n",
       "      <td>14993000000</td>\n",
       "      <td>2745000000</td>\n",
       "      <td>2964000000</td>\n",
       "      <td>15230000000</td>\n",
       "      <td>...</td>\n",
       "      <td>3232000000</td>\n",
       "      <td>None</td>\n",
       "      <td>None</td>\n",
       "      <td>6969000000</td>\n",
       "      <td>None</td>\n",
       "      <td>-10095000000</td>\n",
       "      <td>None</td>\n",
       "      <td>7202000000</td>\n",
       "      <td>None</td>\n",
       "      <td>20065000000</td>\n",
       "    </tr>\n",
       "    <tr>\n",
       "      <th>25</th>\n",
       "      <td>2017-09-30</td>\n",
       "      <td>USD</td>\n",
       "      <td>15749000000</td>\n",
       "      <td>636000000</td>\n",
       "      <td>None</td>\n",
       "      <td>16410000000</td>\n",
       "      <td>16838000000</td>\n",
       "      <td>2484000000</td>\n",
       "      <td>4209000000</td>\n",
       "      <td>13040000000</td>\n",
       "      <td>...</td>\n",
       "      <td>3252000000</td>\n",
       "      <td>None</td>\n",
       "      <td>281000000</td>\n",
       "      <td>6937000000</td>\n",
       "      <td>None</td>\n",
       "      <td>-7514000000</td>\n",
       "      <td>None</td>\n",
       "      <td>1718000000</td>\n",
       "      <td>None</td>\n",
       "      <td>10714000000</td>\n",
       "    </tr>\n",
       "    <tr>\n",
       "      <th>26</th>\n",
       "      <td>2017-06-30</td>\n",
       "      <td>USD</td>\n",
       "      <td>8672000000</td>\n",
       "      <td>449000000</td>\n",
       "      <td>None</td>\n",
       "      <td>-1030000000</td>\n",
       "      <td>4571000000</td>\n",
       "      <td>2354000000</td>\n",
       "      <td>2277000000</td>\n",
       "      <td>2002000000</td>\n",
       "      <td>...</td>\n",
       "      <td>3281000000</td>\n",
       "      <td>None</td>\n",
       "      <td>1000000</td>\n",
       "      <td>10750000000</td>\n",
       "      <td>None</td>\n",
       "      <td>-7092000000</td>\n",
       "      <td>None</td>\n",
       "      <td>3414000000</td>\n",
       "      <td>None</td>\n",
       "      <td>8717000000</td>\n",
       "    </tr>\n",
       "    <tr>\n",
       "      <th>27</th>\n",
       "      <td>2017-03-31</td>\n",
       "      <td>USD</td>\n",
       "      <td>12570000000</td>\n",
       "      <td>510000000</td>\n",
       "      <td>None</td>\n",
       "      <td>-10990000000</td>\n",
       "      <td>-7725000000</td>\n",
       "      <td>2332000000</td>\n",
       "      <td>2889000000</td>\n",
       "      <td>-7373000000</td>\n",
       "      <td>...</td>\n",
       "      <td>2988000000</td>\n",
       "      <td>None</td>\n",
       "      <td>273000000</td>\n",
       "      <td>10975000000</td>\n",
       "      <td>None</td>\n",
       "      <td>-6888000000</td>\n",
       "      <td>None</td>\n",
       "      <td>-1214000000</td>\n",
       "      <td>None</td>\n",
       "      <td>11029000000</td>\n",
       "    </tr>\n",
       "    <tr>\n",
       "      <th>28</th>\n",
       "      <td>2016-12-31</td>\n",
       "      <td>USD</td>\n",
       "      <td>27234000000</td>\n",
       "      <td>497000000</td>\n",
       "      <td>None</td>\n",
       "      <td>4448000000</td>\n",
       "      <td>704000000</td>\n",
       "      <td>2987000000</td>\n",
       "      <td>3420000000</td>\n",
       "      <td>-1322000000</td>\n",
       "      <td>...</td>\n",
       "      <td>3042000000</td>\n",
       "      <td>None</td>\n",
       "      <td>0</td>\n",
       "      <td>0</td>\n",
       "      <td>None</td>\n",
       "      <td>-10851000000</td>\n",
       "      <td>None</td>\n",
       "      <td>-4113000000</td>\n",
       "      <td>None</td>\n",
       "      <td>17891000000</td>\n",
       "    </tr>\n",
       "    <tr>\n",
       "      <th>29</th>\n",
       "      <td>2016-09-30</td>\n",
       "      <td>USD</td>\n",
       "      <td>16533000000</td>\n",
       "      <td>424000000</td>\n",
       "      <td>None</td>\n",
       "      <td>14398000000</td>\n",
       "      <td>10611000000</td>\n",
       "      <td>2548000000</td>\n",
       "      <td>4038000000</td>\n",
       "      <td>10257000000</td>\n",
       "      <td>...</td>\n",
       "      <td>3071000000</td>\n",
       "      <td>None</td>\n",
       "      <td>248000000</td>\n",
       "      <td>6970000000</td>\n",
       "      <td>None</td>\n",
       "      <td>-5778000000</td>\n",
       "      <td>None</td>\n",
       "      <td>2247000000</td>\n",
       "      <td>None</td>\n",
       "      <td>9014000000</td>\n",
       "    </tr>\n",
       "    <tr>\n",
       "      <th>30</th>\n",
       "      <td>2016-06-30</td>\n",
       "      <td>USD</td>\n",
       "      <td>10634000000</td>\n",
       "      <td>327000000</td>\n",
       "      <td>None</td>\n",
       "      <td>-4916000000</td>\n",
       "      <td>-7974000000</td>\n",
       "      <td>2526000000</td>\n",
       "      <td>2905000000</td>\n",
       "      <td>-6681000000</td>\n",
       "      <td>...</td>\n",
       "      <td>3117000000</td>\n",
       "      <td>None</td>\n",
       "      <td>0</td>\n",
       "      <td>2400000000</td>\n",
       "      <td>None</td>\n",
       "      <td>-10166000000</td>\n",
       "      <td>None</td>\n",
       "      <td>-3277000000</td>\n",
       "      <td>None</td>\n",
       "      <td>7796000000</td>\n",
       "    </tr>\n",
       "    <tr>\n",
       "      <th>31</th>\n",
       "      <td>2016-03-31</td>\n",
       "      <td>USD</td>\n",
       "      <td>-9490000000</td>\n",
       "      <td>169000000</td>\n",
       "      <td>None</td>\n",
       "      <td>-10100000000</td>\n",
       "      <td>-2087000000</td>\n",
       "      <td>2477000000</td>\n",
       "      <td>2599000000</td>\n",
       "      <td>-724000000</td>\n",
       "      <td>...</td>\n",
       "      <td>2879000000</td>\n",
       "      <td>None</td>\n",
       "      <td>246000000</td>\n",
       "      <td>15584000000</td>\n",
       "      <td>None</td>\n",
       "      <td>-6421000000</td>\n",
       "      <td>None</td>\n",
       "      <td>4825000000</td>\n",
       "      <td>None</td>\n",
       "      <td>10516000000</td>\n",
       "    </tr>\n",
       "    <tr>\n",
       "      <th>32</th>\n",
       "      <td>2015-12-31</td>\n",
       "      <td>USD</td>\n",
       "      <td>28548000000</td>\n",
       "      <td>396000000</td>\n",
       "      <td>None</td>\n",
       "      <td>-1249000000</td>\n",
       "      <td>-2901000000</td>\n",
       "      <td>2954000000</td>\n",
       "      <td>4006000000</td>\n",
       "      <td>-3896000000</td>\n",
       "      <td>...</td>\n",
       "      <td>2898000000</td>\n",
       "      <td>None</td>\n",
       "      <td>1000000</td>\n",
       "      <td>0</td>\n",
       "      <td>None</td>\n",
       "      <td>-6862000000</td>\n",
       "      <td>None</td>\n",
       "      <td>-4431000000</td>\n",
       "      <td>None</td>\n",
       "      <td>18361000000</td>\n",
       "    </tr>\n",
       "    <tr>\n",
       "      <th>33</th>\n",
       "      <td>2015-09-30</td>\n",
       "      <td>USD</td>\n",
       "      <td>-43358000000</td>\n",
       "      <td>87000000</td>\n",
       "      <td>None</td>\n",
       "      <td>12963000000</td>\n",
       "      <td>9473000000</td>\n",
       "      <td>3119000000</td>\n",
       "      <td>3658000000</td>\n",
       "      <td>6701000000</td>\n",
       "      <td>...</td>\n",
       "      <td>2964000000</td>\n",
       "      <td>None</td>\n",
       "      <td>219000000</td>\n",
       "      <td>5802000000</td>\n",
       "      <td>None</td>\n",
       "      <td>-13034000000</td>\n",
       "      <td>None</td>\n",
       "      <td>5801000000</td>\n",
       "      <td>None</td>\n",
       "      <td>11124000000</td>\n",
       "    </tr>\n",
       "    <tr>\n",
       "      <th>34</th>\n",
       "      <td>2015-06-30</td>\n",
       "      <td>USD</td>\n",
       "      <td>10677000000</td>\n",
       "      <td>207000000</td>\n",
       "      <td>None</td>\n",
       "      <td>981000000</td>\n",
       "      <td>1551000000</td>\n",
       "      <td>3084000000</td>\n",
       "      <td>2089000000</td>\n",
       "      <td>1743000000</td>\n",
       "      <td>...</td>\n",
       "      <td>3053000000</td>\n",
       "      <td>None</td>\n",
       "      <td>15000000</td>\n",
       "      <td>9980000000</td>\n",
       "      <td>None</td>\n",
       "      <td>-9985000000</td>\n",
       "      <td>None</td>\n",
       "      <td>830000000</td>\n",
       "      <td>None</td>\n",
       "      <td>10677000000</td>\n",
       "    </tr>\n",
       "    <tr>\n",
       "      <th>35</th>\n",
       "      <td>2015-03-31</td>\n",
       "      <td>USD</td>\n",
       "      <td>13569000000</td>\n",
       "      <td>18000000</td>\n",
       "      <td>None</td>\n",
       "      <td>-13371000000</td>\n",
       "      <td>-15795000000</td>\n",
       "      <td>2479000000</td>\n",
       "      <td>2476000000</td>\n",
       "      <td>-11812000000</td>\n",
       "      <td>...</td>\n",
       "      <td>2743000000</td>\n",
       "      <td>None</td>\n",
       "      <td>229000000</td>\n",
       "      <td>7847000000</td>\n",
       "      <td>None</td>\n",
       "      <td>-6741000000</td>\n",
       "      <td>None</td>\n",
       "      <td>-4989000000</td>\n",
       "      <td>None</td>\n",
       "      <td>13569000000</td>\n",
       "    </tr>\n",
       "    <tr>\n",
       "      <th>36</th>\n",
       "      <td>2014-12-31</td>\n",
       "      <td>USD</td>\n",
       "      <td>62672000000</td>\n",
       "      <td>202000000</td>\n",
       "      <td>None</td>\n",
       "      <td>14615000000</td>\n",
       "      <td>4577000000</td>\n",
       "      <td>2575000000</td>\n",
       "      <td>3265000000</td>\n",
       "      <td>2757000000</td>\n",
       "      <td>...</td>\n",
       "      <td>2801000000</td>\n",
       "      <td>None</td>\n",
       "      <td>80000000</td>\n",
       "      <td>3485000000</td>\n",
       "      <td>None</td>\n",
       "      <td>-4950000000</td>\n",
       "      <td>None</td>\n",
       "      <td>5634000000</td>\n",
       "      <td>None</td>\n",
       "      <td>18024000000</td>\n",
       "    </tr>\n",
       "    <tr>\n",
       "      <th>37</th>\n",
       "      <td>2014-09-30</td>\n",
       "      <td>USD</td>\n",
       "      <td>16009000000</td>\n",
       "      <td>17000000</td>\n",
       "      <td>None</td>\n",
       "      <td>14121000000</td>\n",
       "      <td>11262000000</td>\n",
       "      <td>1969000000</td>\n",
       "      <td>3826000000</td>\n",
       "      <td>10252000000</td>\n",
       "      <td>...</td>\n",
       "      <td>2829000000</td>\n",
       "      <td>None</td>\n",
       "      <td>295000000</td>\n",
       "      <td>0</td>\n",
       "      <td>None</td>\n",
       "      <td>-16705000000</td>\n",
       "      <td>None</td>\n",
       "      <td>867000000</td>\n",
       "      <td>None</td>\n",
       "      <td>8467000000</td>\n",
       "    </tr>\n",
       "    <tr>\n",
       "      <th>38</th>\n",
       "      <td>2014-06-30</td>\n",
       "      <td>USD</td>\n",
       "      <td>7748000000</td>\n",
       "      <td>161000000</td>\n",
       "      <td>None</td>\n",
       "      <td>-1390000000</td>\n",
       "      <td>-132000000</td>\n",
       "      <td>1946000000</td>\n",
       "      <td>2378000000</td>\n",
       "      <td>1020000000</td>\n",
       "      <td>...</td>\n",
       "      <td>2867000000</td>\n",
       "      <td>None</td>\n",
       "      <td>94000000</td>\n",
       "      <td>11960000000</td>\n",
       "      <td>None</td>\n",
       "      <td>-4906000000</td>\n",
       "      <td>None</td>\n",
       "      <td>-5972000000</td>\n",
       "      <td>None</td>\n",
       "      <td>7748000000</td>\n",
       "    </tr>\n",
       "    <tr>\n",
       "      <th>39</th>\n",
       "      <td>2014-03-31</td>\n",
       "      <td>USD</td>\n",
       "      <td>10919000000</td>\n",
       "      <td>0</td>\n",
       "      <td>None</td>\n",
       "      <td>-10077000000</td>\n",
       "      <td>-10003000000</td>\n",
       "      <td>1887000000</td>\n",
       "      <td>1382000000</td>\n",
       "      <td>-9377000000</td>\n",
       "      <td>...</td>\n",
       "      <td>2661000000</td>\n",
       "      <td>None</td>\n",
       "      <td>207000000</td>\n",
       "      <td>0</td>\n",
       "      <td>None</td>\n",
       "      <td>-17764000000</td>\n",
       "      <td>None</td>\n",
       "      <td>4872000000</td>\n",
       "      <td>None</td>\n",
       "      <td>10223000000</td>\n",
       "    </tr>\n",
       "    <tr>\n",
       "      <th>40</th>\n",
       "      <td>2013-12-31</td>\n",
       "      <td>USD</td>\n",
       "      <td>22670000000</td>\n",
       "      <td>161000000</td>\n",
       "      <td>None</td>\n",
       "      <td>10754000000</td>\n",
       "      <td>5234000000</td>\n",
       "      <td>2144000000</td>\n",
       "      <td>1985000000</td>\n",
       "      <td>4557000000</td>\n",
       "      <td>...</td>\n",
       "      <td>2769000000</td>\n",
       "      <td>None</td>\n",
       "      <td>134000000</td>\n",
       "      <td>0</td>\n",
       "      <td>None</td>\n",
       "      <td>-4895000000</td>\n",
       "      <td>None</td>\n",
       "      <td>-182000000</td>\n",
       "      <td>None</td>\n",
       "      <td>13072000000</td>\n",
       "    </tr>\n",
       "    <tr>\n",
       "      <th>41</th>\n",
       "      <td>2013-09-30</td>\n",
       "      <td>USD</td>\n",
       "      <td>9908000000</td>\n",
       "      <td>0</td>\n",
       "      <td>None</td>\n",
       "      <td>8100000000</td>\n",
       "      <td>6659000000</td>\n",
       "      <td>1783000000</td>\n",
       "      <td>1955000000</td>\n",
       "      <td>7188000000</td>\n",
       "      <td>...</td>\n",
       "      <td>2769000000</td>\n",
       "      <td>None</td>\n",
       "      <td>195000000</td>\n",
       "      <td>None</td>\n",
       "      <td>None</td>\n",
       "      <td>-4715000000</td>\n",
       "      <td>None</td>\n",
       "      <td>3011000000</td>\n",
       "      <td>None</td>\n",
       "      <td>7512000000</td>\n",
       "    </tr>\n",
       "    <tr>\n",
       "      <th>42</th>\n",
       "      <td>2013-06-30</td>\n",
       "      <td>USD</td>\n",
       "      <td>7828000000</td>\n",
       "      <td>0</td>\n",
       "      <td>None</td>\n",
       "      <td>-557000000</td>\n",
       "      <td>1354000000</td>\n",
       "      <td>1694000000</td>\n",
       "      <td>1885000000</td>\n",
       "      <td>117000000</td>\n",
       "      <td>...</td>\n",
       "      <td>2811000000</td>\n",
       "      <td>None</td>\n",
       "      <td>60000000</td>\n",
       "      <td>None</td>\n",
       "      <td>None</td>\n",
       "      <td>-15940000000</td>\n",
       "      <td>None</td>\n",
       "      <td>-805000000</td>\n",
       "      <td>None</td>\n",
       "      <td>6900000000</td>\n",
       "    </tr>\n",
       "    <tr>\n",
       "      <th>43</th>\n",
       "      <td>2013-03-31</td>\n",
       "      <td>USD</td>\n",
       "      <td>12504000000</td>\n",
       "      <td>0</td>\n",
       "      <td>None</td>\n",
       "      <td>-9352000000</td>\n",
       "      <td>-9264000000</td>\n",
       "      <td>1692000000</td>\n",
       "      <td>2008000000</td>\n",
       "      <td>-8198000000</td>\n",
       "      <td>...</td>\n",
       "      <td>2491000000</td>\n",
       "      <td>None</td>\n",
       "      <td>199000000</td>\n",
       "      <td>None</td>\n",
       "      <td>None</td>\n",
       "      <td>199000000</td>\n",
       "      <td>None</td>\n",
       "      <td>-4101000000</td>\n",
       "      <td>None</td>\n",
       "      <td>9547000000</td>\n",
       "    </tr>\n",
       "    <tr>\n",
       "      <th>44</th>\n",
       "      <td>2012-12-31</td>\n",
       "      <td>USD</td>\n",
       "      <td>23426000000</td>\n",
       "      <td>0</td>\n",
       "      <td>None</td>\n",
       "      <td>10129000000</td>\n",
       "      <td>3093000000</td>\n",
       "      <td>1588000000</td>\n",
       "      <td>2317000000</td>\n",
       "      <td>2842000000</td>\n",
       "      <td>...</td>\n",
       "      <td>2493000000</td>\n",
       "      <td>None</td>\n",
       "      <td>76000000</td>\n",
       "      <td>None</td>\n",
       "      <td>None</td>\n",
       "      <td>-1874000000</td>\n",
       "      <td>None</td>\n",
       "      <td>5408000000</td>\n",
       "      <td>None</td>\n",
       "      <td>13078000000</td>\n",
       "    </tr>\n",
       "    <tr>\n",
       "      <th>45</th>\n",
       "      <td>2012-09-30</td>\n",
       "      <td>USD</td>\n",
       "      <td>9136000000</td>\n",
       "      <td>None</td>\n",
       "      <td>None</td>\n",
       "      <td>3132000000</td>\n",
       "      <td>3987000000</td>\n",
       "      <td>981000000</td>\n",
       "      <td>3461000000</td>\n",
       "      <td>4394000000</td>\n",
       "      <td>...</td>\n",
       "      <td>2488000000</td>\n",
       "      <td>None</td>\n",
       "      <td>232000000</td>\n",
       "      <td>None</td>\n",
       "      <td>None</td>\n",
       "      <td>232000000</td>\n",
       "      <td>None</td>\n",
       "      <td>2801000000</td>\n",
       "      <td>None</td>\n",
       "      <td>8223000000</td>\n",
       "    </tr>\n",
       "    <tr>\n",
       "      <th>46</th>\n",
       "      <td>2012-06-30</td>\n",
       "      <td>USD</td>\n",
       "      <td>10189000000</td>\n",
       "      <td>None</td>\n",
       "      <td>None</td>\n",
       "      <td>1208000000</td>\n",
       "      <td>2277000000</td>\n",
       "      <td>835000000</td>\n",
       "      <td>2056000000</td>\n",
       "      <td>529000000</td>\n",
       "      <td>...</td>\n",
       "      <td>None</td>\n",
       "      <td>None</td>\n",
       "      <td>56000000</td>\n",
       "      <td>None</td>\n",
       "      <td>None</td>\n",
       "      <td>56000000</td>\n",
       "      <td>None</td>\n",
       "      <td>-2176000000</td>\n",
       "      <td>None</td>\n",
       "      <td>8824000000</td>\n",
       "    </tr>\n",
       "    <tr>\n",
       "      <th>47</th>\n",
       "      <td>2012-03-31</td>\n",
       "      <td>USD</td>\n",
       "      <td>13977000000</td>\n",
       "      <td>None</td>\n",
       "      <td>None</td>\n",
       "      <td>-2579000000</td>\n",
       "      <td>-2311000000</td>\n",
       "      <td>740000000</td>\n",
       "      <td>1457000000</td>\n",
       "      <td>-2725000000</td>\n",
       "      <td>...</td>\n",
       "      <td>None</td>\n",
       "      <td>None</td>\n",
       "      <td>286000000</td>\n",
       "      <td>None</td>\n",
       "      <td>None</td>\n",
       "      <td>286000000</td>\n",
       "      <td>None</td>\n",
       "      <td>-189000000</td>\n",
       "      <td>None</td>\n",
       "      <td>11622000000</td>\n",
       "    </tr>\n",
       "    <tr>\n",
       "      <th>48</th>\n",
       "      <td>2011-12-31</td>\n",
       "      <td>USD</td>\n",
       "      <td>17554000000</td>\n",
       "      <td>None</td>\n",
       "      <td>None</td>\n",
       "      <td>8082000000</td>\n",
       "      <td>6189000000</td>\n",
       "      <td>721000000</td>\n",
       "      <td>1321000000</td>\n",
       "      <td>4767000000</td>\n",
       "      <td>...</td>\n",
       "      <td>None</td>\n",
       "      <td>None</td>\n",
       "      <td>91000000</td>\n",
       "      <td>None</td>\n",
       "      <td>None</td>\n",
       "      <td>91000000</td>\n",
       "      <td>None</td>\n",
       "      <td>495000000</td>\n",
       "      <td>None</td>\n",
       "      <td>13064000000</td>\n",
       "    </tr>\n",
       "    <tr>\n",
       "      <th>49</th>\n",
       "      <td>2011-09-30</td>\n",
       "      <td>USD</td>\n",
       "      <td>10429000000</td>\n",
       "      <td>None</td>\n",
       "      <td>None</td>\n",
       "      <td>2300000000</td>\n",
       "      <td>-29000000</td>\n",
       "      <td>543000000</td>\n",
       "      <td>1645000000</td>\n",
       "      <td>244000000</td>\n",
       "      <td>...</td>\n",
       "      <td>None</td>\n",
       "      <td>None</td>\n",
       "      <td>254000000</td>\n",
       "      <td>None</td>\n",
       "      <td>None</td>\n",
       "      <td>254000000</td>\n",
       "      <td>None</td>\n",
       "      <td>-2276000000</td>\n",
       "      <td>None</td>\n",
       "      <td>6623000000</td>\n",
       "    </tr>\n",
       "    <tr>\n",
       "      <th>50</th>\n",
       "      <td>2011-06-30</td>\n",
       "      <td>USD</td>\n",
       "      <td>11108000000</td>\n",
       "      <td>None</td>\n",
       "      <td>None</td>\n",
       "      <td>2366000000</td>\n",
       "      <td>0</td>\n",
       "      <td>481000000</td>\n",
       "      <td>777000000</td>\n",
       "      <td>376000000</td>\n",
       "      <td>...</td>\n",
       "      <td>None</td>\n",
       "      <td>None</td>\n",
       "      <td>83000000</td>\n",
       "      <td>None</td>\n",
       "      <td>None</td>\n",
       "      <td>83000000</td>\n",
       "      <td>None</td>\n",
       "      <td>-3887000000</td>\n",
       "      <td>None</td>\n",
       "      <td>7308000000</td>\n",
       "    </tr>\n",
       "    <tr>\n",
       "      <th>51</th>\n",
       "      <td>2011-03-31</td>\n",
       "      <td>USD</td>\n",
       "      <td>6219000000</td>\n",
       "      <td>None</td>\n",
       "      <td>None</td>\n",
       "      <td>365000000</td>\n",
       "      <td>1594000000</td>\n",
       "      <td>434000000</td>\n",
       "      <td>624000000</td>\n",
       "      <td>221000000</td>\n",
       "      <td>...</td>\n",
       "      <td>None</td>\n",
       "      <td>None</td>\n",
       "      <td>286000000</td>\n",
       "      <td>None</td>\n",
       "      <td>None</td>\n",
       "      <td>286000000</td>\n",
       "      <td>None</td>\n",
       "      <td>5244000000</td>\n",
       "      <td>None</td>\n",
       "      <td>5987000000</td>\n",
       "    </tr>\n",
       "    <tr>\n",
       "      <th>52</th>\n",
       "      <td>2010-12-31</td>\n",
       "      <td>USD</td>\n",
       "      <td>9773000000</td>\n",
       "      <td>None</td>\n",
       "      <td>None</td>\n",
       "      <td>3633000000</td>\n",
       "      <td>1342000000</td>\n",
       "      <td>356000000</td>\n",
       "      <td>1214000000</td>\n",
       "      <td>950000000</td>\n",
       "      <td>...</td>\n",
       "      <td>None</td>\n",
       "      <td>None</td>\n",
       "      <td>208000000</td>\n",
       "      <td>None</td>\n",
       "      <td>None</td>\n",
       "      <td>208000000</td>\n",
       "      <td>None</td>\n",
       "      <td>-527000000</td>\n",
       "      <td>None</td>\n",
       "      <td>6004000000</td>\n",
       "    </tr>\n",
       "    <tr>\n",
       "      <th>53</th>\n",
       "      <td>2010-09-30</td>\n",
       "      <td>USD</td>\n",
       "      <td>5683000000</td>\n",
       "      <td>None</td>\n",
       "      <td>None</td>\n",
       "      <td>4923000000</td>\n",
       "      <td>3683000000</td>\n",
       "      <td>329000000</td>\n",
       "      <td>760000000</td>\n",
       "      <td>3525000000</td>\n",
       "      <td>...</td>\n",
       "      <td>None</td>\n",
       "      <td>None</td>\n",
       "      <td>179000000</td>\n",
       "      <td>None</td>\n",
       "      <td>None</td>\n",
       "      <td>179000000</td>\n",
       "      <td>None</td>\n",
       "      <td>1556000000</td>\n",
       "      <td>None</td>\n",
       "      <td>4308000000</td>\n",
       "    </tr>\n",
       "    <tr>\n",
       "      <th>54</th>\n",
       "      <td>2010-06-30</td>\n",
       "      <td>USD</td>\n",
       "      <td>4801000000</td>\n",
       "      <td>None</td>\n",
       "      <td>None</td>\n",
       "      <td>3107000000</td>\n",
       "      <td>2341000000</td>\n",
       "      <td>273000000</td>\n",
       "      <td>595000000</td>\n",
       "      <td>1817000000</td>\n",
       "      <td>...</td>\n",
       "      <td>None</td>\n",
       "      <td>None</td>\n",
       "      <td>199000000</td>\n",
       "      <td>None</td>\n",
       "      <td>None</td>\n",
       "      <td>199000000</td>\n",
       "      <td>None</td>\n",
       "      <td>-313000000</td>\n",
       "      <td>None</td>\n",
       "      <td>3253000000</td>\n",
       "    </tr>\n",
       "    <tr>\n",
       "      <th>55</th>\n",
       "      <td>2010-03-31</td>\n",
       "      <td>USD</td>\n",
       "      <td>2330000000</td>\n",
       "      <td>None</td>\n",
       "      <td>None</td>\n",
       "      <td>-1606000000</td>\n",
       "      <td>-251000000</td>\n",
       "      <td>216000000</td>\n",
       "      <td>274000000</td>\n",
       "      <td>-211000000</td>\n",
       "      <td>...</td>\n",
       "      <td>None</td>\n",
       "      <td>None</td>\n",
       "      <td>160000000</td>\n",
       "      <td>None</td>\n",
       "      <td>None</td>\n",
       "      <td>160000000</td>\n",
       "      <td>None</td>\n",
       "      <td>2409000000</td>\n",
       "      <td>None</td>\n",
       "      <td>3074000000</td>\n",
       "    </tr>\n",
       "    <tr>\n",
       "      <th>56</th>\n",
       "      <td>2009-12-31</td>\n",
       "      <td>USD</td>\n",
       "      <td>5781000000</td>\n",
       "      <td>None</td>\n",
       "      <td>None</td>\n",
       "      <td>1878000000</td>\n",
       "      <td>-197000000</td>\n",
       "      <td>209000000</td>\n",
       "      <td>376000000</td>\n",
       "      <td>-271000000</td>\n",
       "      <td>...</td>\n",
       "      <td>None</td>\n",
       "      <td>None</td>\n",
       "      <td>374000000</td>\n",
       "      <td>None</td>\n",
       "      <td>None</td>\n",
       "      <td>374000000</td>\n",
       "      <td>None</td>\n",
       "      <td>2346000000</td>\n",
       "      <td>None</td>\n",
       "      <td>3378000000</td>\n",
       "    </tr>\n",
       "    <tr>\n",
       "      <th>57</th>\n",
       "      <td>2009-09-30</td>\n",
       "      <td>USD</td>\n",
       "      <td>3110000000</td>\n",
       "      <td>None</td>\n",
       "      <td>None</td>\n",
       "      <td>None</td>\n",
       "      <td>None</td>\n",
       "      <td>197000000</td>\n",
       "      <td>459000000</td>\n",
       "      <td>None</td>\n",
       "      <td>...</td>\n",
       "      <td>None</td>\n",
       "      <td>None</td>\n",
       "      <td>187000000</td>\n",
       "      <td>None</td>\n",
       "      <td>None</td>\n",
       "      <td>187000000</td>\n",
       "      <td>None</td>\n",
       "      <td>-342000000</td>\n",
       "      <td>None</td>\n",
       "      <td>2532000000</td>\n",
       "    </tr>\n",
       "  </tbody>\n",
       "</table>\n",
       "<p>58 rows × 29 columns</p>\n",
       "</div>"
      ],
      "text/plain": [
       "   fiscalDateEnding reportedCurrency operatingCashflow  \\\n",
       "0        2023-12-31              USD       39895000000   \n",
       "1        2023-09-30              USD       21598000000   \n",
       "2        2023-06-30              USD       26380000000   \n",
       "3        2023-03-31              USD       28560000000   \n",
       "4        2022-12-31              USD       34005000000   \n",
       "5        2022-09-30              USD       24127000000   \n",
       "6        2022-06-30              USD       22892000000   \n",
       "7        2022-03-31              USD       28166000000   \n",
       "8        2021-12-31              USD       46966000000   \n",
       "9        2021-09-30              USD       20200000000   \n",
       "10       2021-06-30              USD       21094000000   \n",
       "11       2021-03-31              USD       23981000000   \n",
       "12       2020-12-31              USD       38763000000   \n",
       "13       2020-09-30              USD       20576000000   \n",
       "14       2020-06-30              USD       16271000000   \n",
       "15       2020-03-31              USD       13311000000   \n",
       "16       2019-12-31              USD       30516000000   \n",
       "17       2019-09-30              USD       19910000000   \n",
       "18       2019-06-30              USD       11636000000   \n",
       "19       2019-03-31              USD       11155000000   \n",
       "20       2018-12-31              USD       26690000000   \n",
       "21       2018-09-30              USD       19523000000   \n",
       "22       2018-06-30              USD       14488000000   \n",
       "23       2018-03-31              USD       15130000000   \n",
       "24       2017-12-31              USD       28293000000   \n",
       "25       2017-09-30              USD       15749000000   \n",
       "26       2017-06-30              USD        8672000000   \n",
       "27       2017-03-31              USD       12570000000   \n",
       "28       2016-12-31              USD       27234000000   \n",
       "29       2016-09-30              USD       16533000000   \n",
       "30       2016-06-30              USD       10634000000   \n",
       "31       2016-03-31              USD       -9490000000   \n",
       "32       2015-12-31              USD       28548000000   \n",
       "33       2015-09-30              USD      -43358000000   \n",
       "34       2015-06-30              USD       10677000000   \n",
       "35       2015-03-31              USD       13569000000   \n",
       "36       2014-12-31              USD       62672000000   \n",
       "37       2014-09-30              USD       16009000000   \n",
       "38       2014-06-30              USD        7748000000   \n",
       "39       2014-03-31              USD       10919000000   \n",
       "40       2013-12-31              USD       22670000000   \n",
       "41       2013-09-30              USD        9908000000   \n",
       "42       2013-06-30              USD        7828000000   \n",
       "43       2013-03-31              USD       12504000000   \n",
       "44       2012-12-31              USD       23426000000   \n",
       "45       2012-09-30              USD        9136000000   \n",
       "46       2012-06-30              USD       10189000000   \n",
       "47       2012-03-31              USD       13977000000   \n",
       "48       2011-12-31              USD       17554000000   \n",
       "49       2011-09-30              USD       10429000000   \n",
       "50       2011-06-30              USD       11108000000   \n",
       "51       2011-03-31              USD        6219000000   \n",
       "52       2010-12-31              USD        9773000000   \n",
       "53       2010-09-30              USD        5683000000   \n",
       "54       2010-06-30              USD        4801000000   \n",
       "55       2010-03-31              USD        2330000000   \n",
       "56       2009-12-31              USD        5781000000   \n",
       "57       2009-09-30              USD        3110000000   \n",
       "\n",
       "   paymentsForOperatingActivities proceedsFromOperatingActivities  \\\n",
       "0                            None                            None   \n",
       "1                      3113000000                            None   \n",
       "2                            None                            None   \n",
       "3                            None                            None   \n",
       "4                       703000000                            None   \n",
       "5                      2755000000                            None   \n",
       "6                       504000000                            None   \n",
       "7                       875000000                            None   \n",
       "8                       531000000                            None   \n",
       "9                      2217000000                            None   \n",
       "10                      543000000                            None   \n",
       "11                      708000000                            None   \n",
       "12                      619000000                            None   \n",
       "13                     1127000000                            None   \n",
       "14                      388000000                            None   \n",
       "15                      353000000                            None   \n",
       "16                     1120000000                            None   \n",
       "17                      860000000                            None   \n",
       "18                      801000000                            None   \n",
       "19                      926000000                            None   \n",
       "20                      836000000                            None   \n",
       "21                      902000000                            None   \n",
       "22                      764000000                            None   \n",
       "23                      733000000                            None   \n",
       "24                      623000000                            None   \n",
       "25                      636000000                            None   \n",
       "26                      449000000                            None   \n",
       "27                      510000000                            None   \n",
       "28                      497000000                            None   \n",
       "29                      424000000                            None   \n",
       "30                      327000000                            None   \n",
       "31                      169000000                            None   \n",
       "32                      396000000                            None   \n",
       "33                       87000000                            None   \n",
       "34                      207000000                            None   \n",
       "35                       18000000                            None   \n",
       "36                      202000000                            None   \n",
       "37                       17000000                            None   \n",
       "38                      161000000                            None   \n",
       "39                              0                            None   \n",
       "40                      161000000                            None   \n",
       "41                              0                            None   \n",
       "42                              0                            None   \n",
       "43                              0                            None   \n",
       "44                              0                            None   \n",
       "45                           None                            None   \n",
       "46                           None                            None   \n",
       "47                           None                            None   \n",
       "48                           None                            None   \n",
       "49                           None                            None   \n",
       "50                           None                            None   \n",
       "51                           None                            None   \n",
       "52                           None                            None   \n",
       "53                           None                            None   \n",
       "54                           None                            None   \n",
       "55                           None                            None   \n",
       "56                           None                            None   \n",
       "57                           None                            None   \n",
       "\n",
       "   changeInOperatingLiabilities changeInOperatingAssets  \\\n",
       "0                   -8407000000             -9530000000   \n",
       "1                   14946000000             21006000000   \n",
       "2                          None                    None   \n",
       "3                          None                    None   \n",
       "4                   -2186000000              -689000000   \n",
       "5                   21420000000             21468000000   \n",
       "6                   -6627000000             -3402000000   \n",
       "7                  -23746000000            -21694000000   \n",
       "8                   24511000000             17986000000   \n",
       "9                   19386000000             21176000000   \n",
       "10                  -2275000000              2422000000   \n",
       "11                 -28280000000            -24501000000   \n",
       "12                  30970000000             25615000000   \n",
       "13                  12206000000              8329000000   \n",
       "14                   -474000000               -44000000   \n",
       "15                 -10207000000             -8205000000   \n",
       "16                   5410000000              1165000000   \n",
       "17                  22085000000             19925000000   \n",
       "18                  -5496000000             -2698000000   \n",
       "19                 -15536000000            -10914000000   \n",
       "20                  -8301000000            -10073000000   \n",
       "21                  21898000000             21040000000   \n",
       "22                   -649000000              1265000000   \n",
       "23                 -26512000000            -24371000000   \n",
       "24                  52928000000             14993000000   \n",
       "25                  16410000000             16838000000   \n",
       "26                  -1030000000              4571000000   \n",
       "27                 -10990000000             -7725000000   \n",
       "28                   4448000000               704000000   \n",
       "29                  14398000000             10611000000   \n",
       "30                  -4916000000             -7974000000   \n",
       "31                 -10100000000             -2087000000   \n",
       "32                  -1249000000             -2901000000   \n",
       "33                  12963000000              9473000000   \n",
       "34                    981000000              1551000000   \n",
       "35                 -13371000000            -15795000000   \n",
       "36                  14615000000              4577000000   \n",
       "37                  14121000000             11262000000   \n",
       "38                  -1390000000              -132000000   \n",
       "39                 -10077000000            -10003000000   \n",
       "40                  10754000000              5234000000   \n",
       "41                   8100000000              6659000000   \n",
       "42                   -557000000              1354000000   \n",
       "43                  -9352000000             -9264000000   \n",
       "44                  10129000000              3093000000   \n",
       "45                   3132000000              3987000000   \n",
       "46                   1208000000              2277000000   \n",
       "47                  -2579000000             -2311000000   \n",
       "48                   8082000000              6189000000   \n",
       "49                   2300000000               -29000000   \n",
       "50                   2366000000                       0   \n",
       "51                    365000000              1594000000   \n",
       "52                   3633000000              1342000000   \n",
       "53                   4923000000              3683000000   \n",
       "54                   3107000000              2341000000   \n",
       "55                  -1606000000              -251000000   \n",
       "56                   1878000000              -197000000   \n",
       "57                         None                    None   \n",
       "\n",
       "   depreciationDepletionAndAmortization capitalExpenditures  \\\n",
       "0                            2848000000          2392000000   \n",
       "1                            2653000000          2163000000   \n",
       "2                            3052000000          2093000000   \n",
       "3                            2898000000          2916000000   \n",
       "4                            2916000000          3787000000   \n",
       "5                            2865000000          3289000000   \n",
       "6                            2805000000          2102000000   \n",
       "7                            2737000000          2514000000   \n",
       "8                            2697000000          2803000000   \n",
       "9                            2989000000          3223000000   \n",
       "10                           2832000000          2093000000   \n",
       "11                           2797000000          2269000000   \n",
       "12                           2666000000          3500000000   \n",
       "13                           2702000000          1784000000   \n",
       "14                           2752000000          1565000000   \n",
       "15                           2786000000          1853000000   \n",
       "16                           2816000000          2107000000   \n",
       "17                           3179000000          2777000000   \n",
       "18                           2933000000          2000000000   \n",
       "19                           3040000000          2363000000   \n",
       "20                           3395000000          3355000000   \n",
       "21                           2754000000          3041000000   \n",
       "22                           2665000000          3267000000   \n",
       "23                           2739000000          4041000000   \n",
       "24                           2745000000          2964000000   \n",
       "25                           2484000000          4209000000   \n",
       "26                           2354000000          2277000000   \n",
       "27                           2332000000          2889000000   \n",
       "28                           2987000000          3420000000   \n",
       "29                           2548000000          4038000000   \n",
       "30                           2526000000          2905000000   \n",
       "31                           2477000000          2599000000   \n",
       "32                           2954000000          4006000000   \n",
       "33                           3119000000          3658000000   \n",
       "34                           3084000000          2089000000   \n",
       "35                           2479000000          2476000000   \n",
       "36                           2575000000          3265000000   \n",
       "37                           1969000000          3826000000   \n",
       "38                           1946000000          2378000000   \n",
       "39                           1887000000          1382000000   \n",
       "40                           2144000000          1985000000   \n",
       "41                           1783000000          1955000000   \n",
       "42                           1694000000          1885000000   \n",
       "43                           1692000000          2008000000   \n",
       "44                           1588000000          2317000000   \n",
       "45                            981000000          3461000000   \n",
       "46                            835000000          2056000000   \n",
       "47                            740000000          1457000000   \n",
       "48                            721000000          1321000000   \n",
       "49                            543000000          1645000000   \n",
       "50                            481000000           777000000   \n",
       "51                            434000000           624000000   \n",
       "52                            356000000          1214000000   \n",
       "53                            329000000           760000000   \n",
       "54                            273000000           595000000   \n",
       "55                            216000000           274000000   \n",
       "56                            209000000           376000000   \n",
       "57                            197000000           459000000   \n",
       "\n",
       "   changeInReceivables  ... dividendPayoutCommonStock  \\\n",
       "0         -11124000000  ...                3825000000   \n",
       "1          21137000000  ...                3758000000   \n",
       "2          -3661000000  ...                3849000000   \n",
       "3          17786000000  ...                3650000000   \n",
       "4          -6595000000  ...                3768000000   \n",
       "5          18693000000  ...                3703000000   \n",
       "6          -3165000000  ...                3811000000   \n",
       "7         -19931000000  ...                3595000000   \n",
       "8          13746000000  ...                3732000000   \n",
       "9          17604000000  ...                3640000000   \n",
       "10           869000000  ...                3767000000   \n",
       "11        -25584000000  ...                3447000000   \n",
       "12         21139000000  ...                3613000000   \n",
       "13          5364000000  ...                3511000000   \n",
       "14          1373000000  ...                3656000000   \n",
       "15         -9290000000  ...                3375000000   \n",
       "16         -5917000000  ...                3539000000   \n",
       "17         19320000000  ...                3479000000   \n",
       "18           214000000  ...                3629000000   \n",
       "19        -10675000000  ...                3443000000   \n",
       "20        -12035000000  ...                3568000000   \n",
       "21         22624000000  ...                3530000000   \n",
       "22          3946000000  ...                3653000000   \n",
       "23        -28468000000  ...                3190000000   \n",
       "24         15230000000  ...                3232000000   \n",
       "25         13040000000  ...                3252000000   \n",
       "26          2002000000  ...                3281000000   \n",
       "27         -7373000000  ...                2988000000   \n",
       "28         -1322000000  ...                3042000000   \n",
       "29         10257000000  ...                3071000000   \n",
       "30         -6681000000  ...                3117000000   \n",
       "31          -724000000  ...                2879000000   \n",
       "32         -3896000000  ...                2898000000   \n",
       "33          6701000000  ...                2964000000   \n",
       "34          1743000000  ...                3053000000   \n",
       "35        -11812000000  ...                2743000000   \n",
       "36          2757000000  ...                2801000000   \n",
       "37         10252000000  ...                2829000000   \n",
       "38          1020000000  ...                2867000000   \n",
       "39         -9377000000  ...                2661000000   \n",
       "40          4557000000  ...                2769000000   \n",
       "41          7188000000  ...                2769000000   \n",
       "42           117000000  ...                2811000000   \n",
       "43         -8198000000  ...                2491000000   \n",
       "44          2842000000  ...                2493000000   \n",
       "45          4394000000  ...                2488000000   \n",
       "46           529000000  ...                      None   \n",
       "47         -2725000000  ...                      None   \n",
       "48          4767000000  ...                      None   \n",
       "49           244000000  ...                      None   \n",
       "50           376000000  ...                      None   \n",
       "51           221000000  ...                      None   \n",
       "52           950000000  ...                      None   \n",
       "53          3525000000  ...                      None   \n",
       "54          1817000000  ...                      None   \n",
       "55          -211000000  ...                      None   \n",
       "56          -271000000  ...                      None   \n",
       "57                None  ...                      None   \n",
       "\n",
       "   dividendPayoutPreferredStock proceedsFromIssuanceOfCommonStock  \\\n",
       "0                          None                              None   \n",
       "1                          None                                 0   \n",
       "2                          None                                 0   \n",
       "3                          None                                 0   \n",
       "4                          None                                 0   \n",
       "5                          None                              None   \n",
       "6                          None                              None   \n",
       "7                          None                              None   \n",
       "8                          None                              None   \n",
       "9                          None                         544000000   \n",
       "10                         None                                 0   \n",
       "11                         None                         561000000   \n",
       "12                         None                                 0   \n",
       "13                         None                         450000000   \n",
       "14                         None                                 0   \n",
       "15                         None                         428000000   \n",
       "16                         None                           2000000   \n",
       "17                         None                         390000000   \n",
       "18                         None                           1000000   \n",
       "19                         None                         390000000   \n",
       "20                         None                                 0   \n",
       "21                         None                         341000000   \n",
       "22                         None                           1000000   \n",
       "23                         None                                 0   \n",
       "24                         None                              None   \n",
       "25                         None                         281000000   \n",
       "26                         None                           1000000   \n",
       "27                         None                         273000000   \n",
       "28                         None                                 0   \n",
       "29                         None                         248000000   \n",
       "30                         None                                 0   \n",
       "31                         None                         246000000   \n",
       "32                         None                           1000000   \n",
       "33                         None                         219000000   \n",
       "34                         None                          15000000   \n",
       "35                         None                         229000000   \n",
       "36                         None                          80000000   \n",
       "37                         None                         295000000   \n",
       "38                         None                          94000000   \n",
       "39                         None                         207000000   \n",
       "40                         None                         134000000   \n",
       "41                         None                         195000000   \n",
       "42                         None                          60000000   \n",
       "43                         None                         199000000   \n",
       "44                         None                          76000000   \n",
       "45                         None                         232000000   \n",
       "46                         None                          56000000   \n",
       "47                         None                         286000000   \n",
       "48                         None                          91000000   \n",
       "49                         None                         254000000   \n",
       "50                         None                          83000000   \n",
       "51                         None                         286000000   \n",
       "52                         None                         208000000   \n",
       "53                         None                         179000000   \n",
       "54                         None                         199000000   \n",
       "55                         None                         160000000   \n",
       "56                         None                         374000000   \n",
       "57                         None                         187000000   \n",
       "\n",
       "   proceedsFromIssuanceOfLongTermDebtAndCapitalSecuritiesNet  \\\n",
       "0                                                   0          \n",
       "1                                                   0          \n",
       "2                                                   0          \n",
       "3                                                   0          \n",
       "4                                                   0          \n",
       "5                                          5465000000          \n",
       "6                                                   0          \n",
       "7                                                   0          \n",
       "8                                                None          \n",
       "9                                          6470000000          \n",
       "10                                                  0          \n",
       "11                                        13923000000          \n",
       "12                                                  0          \n",
       "13                                         5456000000          \n",
       "14                                         8425000000          \n",
       "15                                                  0          \n",
       "16                                         2210000000          \n",
       "17                                         6963000000          \n",
       "18                                                  0          \n",
       "19                                                  0          \n",
       "20                                                  0          \n",
       "21                                                  0          \n",
       "22                                                  0          \n",
       "23                                                  0          \n",
       "24                                         6969000000          \n",
       "25                                         6937000000          \n",
       "26                                        10750000000          \n",
       "27                                        10975000000          \n",
       "28                                                  0          \n",
       "29                                         6970000000          \n",
       "30                                         2400000000          \n",
       "31                                        15584000000          \n",
       "32                                                  0          \n",
       "33                                         5802000000          \n",
       "34                                         9980000000          \n",
       "35                                         7847000000          \n",
       "36                                         3485000000          \n",
       "37                                                  0          \n",
       "38                                        11960000000          \n",
       "39                                                  0          \n",
       "40                                                  0          \n",
       "41                                               None          \n",
       "42                                               None          \n",
       "43                                               None          \n",
       "44                                               None          \n",
       "45                                               None          \n",
       "46                                               None          \n",
       "47                                               None          \n",
       "48                                               None          \n",
       "49                                               None          \n",
       "50                                               None          \n",
       "51                                               None          \n",
       "52                                               None          \n",
       "53                                               None          \n",
       "54                                               None          \n",
       "55                                               None          \n",
       "56                                               None          \n",
       "57                                               None          \n",
       "\n",
       "   proceedsFromIssuanceOfPreferredStock proceedsFromRepurchaseOfEquity  \\\n",
       "0                                  None                   -20139000000   \n",
       "1                                  None                   -21003000000   \n",
       "2                                  None                              0   \n",
       "3                                  None                              0   \n",
       "4                                  None                   -19475000000   \n",
       "5                                  None                   -24428000000   \n",
       "6                                  None                   -21865000000   \n",
       "7                                  None                   -22631000000   \n",
       "8                                  None                   -20478000000   \n",
       "9                                  None                   -19204000000   \n",
       "10                                 None                   -22900000000   \n",
       "11                                 None                   -17987000000   \n",
       "12                                 None                   -24775000000   \n",
       "13                                 None                   -16737000000   \n",
       "14                                 None                   -15891000000   \n",
       "15                                 None                   -18146000000   \n",
       "16                                 None                   -20704000000   \n",
       "17                                 None                   -17054000000   \n",
       "18                                 None                   -16954000000   \n",
       "19                                 None                   -23312000000   \n",
       "20                                 None                    -8796000000   \n",
       "21                                 None                   -18763000000   \n",
       "22                                 None                   -20782000000   \n",
       "23                                 None                   -22429000000   \n",
       "24                                 None                   -10095000000   \n",
       "25                                 None                    -7514000000   \n",
       "26                                 None                    -7092000000   \n",
       "27                                 None                    -6888000000   \n",
       "28                                 None                   -10851000000   \n",
       "29                                 None                    -5778000000   \n",
       "30                                 None                   -10166000000   \n",
       "31                                 None                    -6421000000   \n",
       "32                                 None                    -6862000000   \n",
       "33                                 None                   -13034000000   \n",
       "34                                 None                    -9985000000   \n",
       "35                                 None                    -6741000000   \n",
       "36                                 None                    -4950000000   \n",
       "37                                 None                   -16705000000   \n",
       "38                                 None                    -4906000000   \n",
       "39                                 None                   -17764000000   \n",
       "40                                 None                    -4895000000   \n",
       "41                                 None                    -4715000000   \n",
       "42                                 None                   -15940000000   \n",
       "43                                 None                      199000000   \n",
       "44                                 None                    -1874000000   \n",
       "45                                 None                      232000000   \n",
       "46                                 None                       56000000   \n",
       "47                                 None                      286000000   \n",
       "48                                 None                       91000000   \n",
       "49                                 None                      254000000   \n",
       "50                                 None                       83000000   \n",
       "51                                 None                      286000000   \n",
       "52                                 None                      208000000   \n",
       "53                                 None                      179000000   \n",
       "54                                 None                      199000000   \n",
       "55                                 None                      160000000   \n",
       "56                                 None                      374000000   \n",
       "57                                 None                      187000000   \n",
       "\n",
       "   proceedsFromSaleOfTreasuryStock changeInCashAndCashEquivalents  \\\n",
       "0                             None                           None   \n",
       "1                             None                      839000000   \n",
       "2                             None                     2769000000   \n",
       "3                             None                     5155000000   \n",
       "4                             None                    -3003000000   \n",
       "5                             None                    -3884000000   \n",
       "6                             None                    19442000000   \n",
       "7                             None                    25010000000   \n",
       "8                             None                     2701000000   \n",
       "9                             None                      653000000   \n",
       "10                            None                    21744000000   \n",
       "11                            None                    23630000000   \n",
       "12                            None                    -2070000000   \n",
       "13                            None                    24689000000   \n",
       "14                            None                    10865000000   \n",
       "15                            None                    10896000000   \n",
       "16                            None                    -8559000000   \n",
       "17                            None                    24313000000   \n",
       "18                            None                    10044000000   \n",
       "19                            None                    11561000000   \n",
       "20                            None                    18858000000   \n",
       "21                            None                    -6058000000   \n",
       "22                            None                   -13088000000   \n",
       "23                            None                    17568000000   \n",
       "24                            None                     7202000000   \n",
       "25                            None                     1718000000   \n",
       "26                            None                     3414000000   \n",
       "27                            None                    -1214000000   \n",
       "28                            None                    -4113000000   \n",
       "29                            None                     2247000000   \n",
       "30                            None                    -3277000000   \n",
       "31                            None                     4825000000   \n",
       "32                            None                    -4431000000   \n",
       "33                            None                     5801000000   \n",
       "34                            None                      830000000   \n",
       "35                            None                    -4989000000   \n",
       "36                            None                     5634000000   \n",
       "37                            None                      867000000   \n",
       "38                            None                    -5972000000   \n",
       "39                            None                     4872000000   \n",
       "40                            None                     -182000000   \n",
       "41                            None                     3011000000   \n",
       "42                            None                     -805000000   \n",
       "43                            None                    -4101000000   \n",
       "44                            None                     5408000000   \n",
       "45                            None                     2801000000   \n",
       "46                            None                    -2176000000   \n",
       "47                            None                     -189000000   \n",
       "48                            None                      495000000   \n",
       "49                            None                    -2276000000   \n",
       "50                            None                    -3887000000   \n",
       "51                            None                     5244000000   \n",
       "52                            None                     -527000000   \n",
       "53                            None                     1556000000   \n",
       "54                            None                     -313000000   \n",
       "55                            None                     2409000000   \n",
       "56                            None                     2346000000   \n",
       "57                            None                     -342000000   \n",
       "\n",
       "   changeInExchangeRate    netIncome  \n",
       "0                  None  33916000000  \n",
       "1                  None  22956000000  \n",
       "2                  None  19881000000  \n",
       "3                  None  24160000000  \n",
       "4                  None  29998000000  \n",
       "5                  None  20721000000  \n",
       "6                  None  19442000000  \n",
       "7                  None  25010000000  \n",
       "8                  None  34630000000  \n",
       "9                  None  20551000000  \n",
       "10                 None  21744000000  \n",
       "11                 None  23630000000  \n",
       "12                 None  28755000000  \n",
       "13                 None  12673000000  \n",
       "14                 None  11253000000  \n",
       "15                 None  11249000000  \n",
       "16                 None  22236000000  \n",
       "17                 None  13686000000  \n",
       "18                 None  10044000000  \n",
       "19                 None  11561000000  \n",
       "20                 None  19965000000  \n",
       "21                 None  14125000000  \n",
       "22                 None  11519000000  \n",
       "23                 None  13822000000  \n",
       "24                 None  20065000000  \n",
       "25                 None  10714000000  \n",
       "26                 None   8717000000  \n",
       "27                 None  11029000000  \n",
       "28                 None  17891000000  \n",
       "29                 None   9014000000  \n",
       "30                 None   7796000000  \n",
       "31                 None  10516000000  \n",
       "32                 None  18361000000  \n",
       "33                 None  11124000000  \n",
       "34                 None  10677000000  \n",
       "35                 None  13569000000  \n",
       "36                 None  18024000000  \n",
       "37                 None   8467000000  \n",
       "38                 None   7748000000  \n",
       "39                 None  10223000000  \n",
       "40                 None  13072000000  \n",
       "41                 None   7512000000  \n",
       "42                 None   6900000000  \n",
       "43                 None   9547000000  \n",
       "44                 None  13078000000  \n",
       "45                 None   8223000000  \n",
       "46                 None   8824000000  \n",
       "47                 None  11622000000  \n",
       "48                 None  13064000000  \n",
       "49                 None   6623000000  \n",
       "50                 None   7308000000  \n",
       "51                 None   5987000000  \n",
       "52                 None   6004000000  \n",
       "53                 None   4308000000  \n",
       "54                 None   3253000000  \n",
       "55                 None   3074000000  \n",
       "56                 None   3378000000  \n",
       "57                 None   2532000000  \n",
       "\n",
       "[58 rows x 29 columns]"
      ]
     },
     "execution_count": 49,
     "metadata": {},
     "output_type": "execute_result"
    }
   ],
   "source": [
    "#convert json to dataframe\n",
    "apple_annual_reports= pd.DataFrame(apple_annual_reports_json)\n",
    "apple_quarterly_reports = pd.DataFrame(apple_quarterly_reports_json)\n",
    "\n",
    "#APPL quarterly\n",
    "apple_quarterly_reports"
   ]
  },
  {
   "cell_type": "code",
   "execution_count": 50,
   "metadata": {},
   "outputs": [],
   "source": [
    "# Function to get stock data from Alpha Vantage\n",
    "\n",
    "def getalphastock(api_key, stockname='msft',timeint='1min'):\n",
    "\n",
    "    ts = TimeSeries(key=api_key, output_format='pandas')\n",
    "    data, meta_data = ts.get_intraday(symbol=stockname,interval=timeint,outputsize='full')\n",
    "    return data"
   ]
  },
  {
   "cell_type": "code",
   "execution_count": 51,
   "metadata": {},
   "outputs": [],
   "source": [
    "import yfinance as yf\n",
    "from pandas_datareader import data as pdr\n",
    "# Function to get stock data from Yahoo Finance\n",
    "\n",
    "def getyahooticks(tickersin=\"AAPL MSFT\", periodin = \"1d\", intervalin=\"5m\"):\n",
    "    yf.pdr_override()\n",
    "\n",
    "    data = pdr.get_data_yahoo(\n",
    "            # tickers list or string as well\n",
    "            tickers = tickersin,\n",
    "\n",
    "            # use \"period\" instead of start/end\n",
    "            # valid periods: 1d,5d,1mo,3mo,6mo,1y,2y,5y,10y,ytd,max\n",
    "            # (default is '1mo')\n",
    "            period = periodin,\n",
    "\n",
    "            # fetch data by interval (including intraday if period < 60 days)\n",
    "            # valid intervals: 1m,2m,5m,15m,30m,60m,90m,1h,1d,5d,1wk,1mo,3mo\n",
    "            # (optional, default is '1d')\n",
    "            interval = intervalin,\n",
    "\n",
    "            # group by ticker (to access via data['SPY'])\n",
    "            # (optional, default is 'column')\n",
    "            group_by = 'ticker',\n",
    "\n",
    "            # adjust all OHLC automatically\n",
    "            # (optional, default is False)\n",
    "            auto_adjust = True,\n",
    "\n",
    "            # download pre/post regular market hours data\n",
    "            # (optional, default is False)\n",
    "            prepost = True,\n",
    "\n",
    "            # use threads for mass downloading? (True/False/Integer)\n",
    "            # (optional, default is True)\n",
    "            threads = True,\n",
    "\n",
    "            # proxy URL scheme use use when downloading?\n",
    "            # (optional, default is None)\n",
    "            proxy = None\n",
    "        )\n",
    "    return data"
   ]
  },
  {
   "cell_type": "code",
   "execution_count": 62,
   "metadata": {},
   "outputs": [
    {
     "name": "stdout",
     "output_type": "stream",
     "text": [
      "                       Open    High     Low   Close  Volume\n",
      "date                                                       \n",
      "2024-04-26 19:59:00  169.63  169.70  169.61  169.66   261.0\n",
      "2024-04-26 19:58:00  169.61  169.64  169.60  169.63  1161.0\n",
      "2024-04-26 19:57:00  169.64  169.64  169.60  169.62   759.0\n",
      "2024-04-26 19:56:00  169.65  169.66  169.60  169.62   688.0\n",
      "2024-04-26 19:55:00  169.69  169.70  169.60  169.63   206.0\n",
      "...                     ...     ...     ...     ...     ...\n",
      "2024-04-01 04:04:00  171.86  171.86  171.79  171.83   580.0\n",
      "2024-04-01 04:03:00  171.79  171.86  171.74  171.83   354.0\n",
      "2024-04-01 04:02:00  171.70  171.79  171.56  171.79  1823.0\n",
      "2024-04-01 04:01:00  171.65  171.76  171.49  171.70  1159.0\n",
      "2024-04-01 04:00:00  172.02  172.02  171.40  171.52  3307.0\n",
      "\n",
      "[19139 rows x 5 columns]\n"
     ]
    }
   ],
   "source": [
    "\n",
    "# Access your API key from the environment variables\n",
    "api_key = os.getenv('AV_API_KEY')\n",
    "\n",
    "#Get Data\n",
    "ts = TimeSeries(key=api_key, output_format='pandas')\n",
    "\n",
    "stockname = 'AAPL'\n",
    "period = 5\n",
    "freqfix = '5min'\n",
    "datainter = '5m'\n",
    "\n",
    "#pick data source\n",
    "fromdata='alpha'\n",
    "\n",
    "if fromdata == 'alpha':\n",
    "    data = getalphastock(api_key,stockname,'5min')\n",
    "    stockpricefull = getalphastock(api_key,stockname)\n",
    "    stockpricefull.columns = ['Open','High','Low','Close','Volume']\n",
    "    stock = data.copy()\n",
    "    stock.columns = ['Open','High','Low','Close','Volume']\n",
    "    stockpricefull.head()\n",
    "\n",
    "elif fromdata=='yahoo':\n",
    "    stock = getyahooticks(tickersin=stockname, periodin = \"5d\", intervalin=datainter)\n",
    "    #stockpricefull = getyahooticks(tickersin=stockname, periodin = \"30d\", intervalin=\"5m\")\n",
    "    stockpricefull= stock.copy()\n",
    "    stock.index.name='date'\n",
    "    stockpricefull.index.name='date'\n",
    "    stock.index = stock.index.tz_localize(None)#.tz_convert(tz = None)\n",
    "    stockpricefull.index = stockpricefull.index.tz_localize(None)\n",
    "    #stockpricefull.index.to_datetime\n",
    "\n",
    "print(stockpricefull)"
   ]
  },
  {
   "cell_type": "markdown",
   "metadata": {},
   "source": [
    "# Source Data"
   ]
  },
  {
   "cell_type": "code",
   "execution_count": 81,
   "metadata": {},
   "outputs": [
    {
     "name": "stdout",
     "output_type": "stream",
     "text": [
      "Fetching sector for MSFT\n",
      "Fetching sector for AAPL\n",
      "Fetching sector for NVDA\n",
      "Fetching sector for AMZN\n",
      "Fetching sector for GOOGL\n",
      "Fetching sector for META\n",
      "Fetching sector for GOOG\n",
      "Fetching sector for BRK.B\n",
      "Fetching sector for AVGO\n",
      "Fetching sector for LLY\n",
      "Fetching sector for JPM\n",
      "Fetching sector for XOM\n",
      "Fetching sector for TSLA\n",
      "Fetching sector for UNH\n",
      "Fetching sector for V\n",
      "Fetching sector for MA\n",
      "Fetching sector for PG\n",
      "Fetching sector for JNJ\n",
      "Fetching sector for HD\n",
      "Fetching sector for MRK\n",
      "Fetching sector for COST\n",
      "Fetching sector for CVX\n",
      "Fetching sector for ABBV\n",
      "Fetching sector for CRM\n",
      "Fetching sector for BAC\n",
      "Fetching sector for WMT\n",
      "Fetching sector for AMD\n",
      "Fetching sector for NFLX\n",
      "Fetching sector for PEP\n",
      "Fetching sector for KO\n",
      "Fetching sector for TMO\n",
      "Fetching sector for ADBE\n",
      "Fetching sector for WFC\n",
      "Fetching sector for LIN\n",
      "Fetching sector for DIS\n",
      "Fetching sector for MCD\n",
      "Fetching sector for CSCO\n",
      "Fetching sector for ACN\n",
      "Fetching sector for ORCL\n",
      "Fetching sector for ABT\n",
      "Fetching sector for QCOM\n",
      "Fetching sector for INTU\n",
      "Fetching sector for GE\n",
      "Fetching sector for CAT\n",
      "Fetching sector for AMAT\n",
      "Fetching sector for VZ\n",
      "Fetching sector for DHR\n",
      "Fetching sector for TXN\n",
      "Fetching sector for COP\n",
      "Fetching sector for IBM\n",
      "Fetching sector for CMCSA\n",
      "Fetching sector for NOW\n",
      "Fetching sector for UNP\n",
      "Fetching sector for PM\n",
      "Fetching sector for AMGN\n",
      "Fetching sector for PFE\n",
      "Fetching sector for UBER\n",
      "Fetching sector for GS\n",
      "Fetching sector for NEE\n",
      "Fetching sector for INTC\n",
      "Fetching sector for AXP\n",
      "Fetching sector for RTX\n",
      "Fetching sector for SPGI\n",
      "Fetching sector for LOW\n",
      "Fetching sector for ISRG\n",
      "Fetching sector for ETN\n",
      "Fetching sector for HON\n",
      "Fetching sector for MU\n",
      "Fetching sector for ELV\n",
      "Fetching sector for BKNG\n",
      "Fetching sector for PGR\n",
      "Fetching sector for LRCX\n",
      "Fetching sector for T\n",
      "Fetching sector for C\n",
      "Fetching sector for MS\n",
      "Fetching sector for NKE\n",
      "Fetching sector for SYK\n",
      "Fetching sector for SCHW\n",
      "Fetching sector for TJX\n",
      "Fetching sector for BSX\n",
      "Fetching sector for UPS\n",
      "Fetching sector for BLK\n",
      "Fetching sector for MDT\n",
      "Fetching sector for CI\n",
      "Fetching sector for DE\n",
      "Fetching sector for VRTX\n",
      "Fetching sector for ADI\n",
      "Fetching sector for SBUX\n",
      "Fetching sector for ADP\n",
      "Fetching sector for CB\n",
      "Fetching sector for LMT\n",
      "Fetching sector for MMC\n",
      "Fetching sector for PLD\n",
      "Fetching sector for KLAC\n",
      "Fetching sector for BA\n",
      "Fetching sector for MDLZ\n",
      "Fetching sector for FI\n",
      "Fetching sector for REGN\n",
      "Fetching sector for PANW\n",
      "Fetching sector for BMY\n",
      "Fetching sector for BX\n",
      "Fetching sector for CMG\n",
      "Fetching sector for TMUS\n",
      "Fetching sector for CVS\n",
      "Fetching sector for SNPS\n",
      "Fetching sector for GILD\n",
      "Fetching sector for AMT\n",
      "Fetching sector for SO\n",
      "Fetching sector for EOG\n",
      "Fetching sector for WM\n",
      "Fetching sector for CDNS\n",
      "Fetching sector for MO\n",
      "Fetching sector for TGT\n",
      "Fetching sector for CME\n",
      "Fetching sector for ICE\n",
      "Fetching sector for DUK\n",
      "Fetching sector for CL\n",
      "Fetching sector for MPC\n",
      "Fetching sector for ZTS\n",
      "Fetching sector for FCX\n",
      "Fetching sector for SHW\n",
      "Fetching sector for APH\n",
      "Fetching sector for MCK\n",
      "Fetching sector for ABNB\n",
      "Fetching sector for PH\n",
      "Fetching sector for PYPL\n",
      "Fetching sector for SLB\n",
      "Fetching sector for TDG\n",
      "Fetching sector for TT\n",
      "Fetching sector for EQIX\n",
      "Fetching sector for NOC\n",
      "Fetching sector for ITW\n",
      "Fetching sector for BDX\n",
      "Fetching sector for CSX\n",
      "Fetching sector for ANET\n",
      "Fetching sector for PSX\n",
      "Fetching sector for GD\n",
      "Fetching sector for USB\n",
      "Fetching sector for PXD\n",
      "Fetching sector for EMR\n",
      "Fetching sector for NXPI\n",
      "Fetching sector for PNC\n",
      "Fetching sector for ORLY\n",
      "Fetching sector for FDX\n",
      "Fetching sector for HCA\n",
      "Fetching sector for CEG\n",
      "Fetching sector for MAR\n",
      "Fetching sector for MCO\n",
      "Fetching sector for PCAR\n",
      "Fetching sector for CTAS\n",
      "Fetching sector for MSI\n",
      "Fetching sector for AON\n",
      "Fetching sector for VLO\n",
      "Fetching sector for ECL\n",
      "Fetching sector for ROP\n",
      "Fetching sector for COF\n",
      "Fetching sector for NSC\n",
      "Fetching sector for GM\n",
      "Fetching sector for APD\n",
      "Fetching sector for EW\n",
      "Fetching sector for AIG\n",
      "Fetching sector for WELL\n",
      "Fetching sector for HLT\n",
      "Fetching sector for AZO\n",
      "Fetching sector for TFC\n",
      "Fetching sector for MMM\n",
      "Fetching sector for CARR\n",
      "Fetching sector for MCHP\n",
      "Fetching sector for AJG\n",
      "Fetching sector for F\n",
      "Fetching sector for NEM\n",
      "Fetching sector for TRV\n",
      "Fetching sector for CPRT\n",
      "Fetching sector for DXCM\n",
      "Fetching sector for WMB\n",
      "Fetching sector for OKE\n",
      "Fetching sector for URI\n",
      "Fetching sector for ADSK\n",
      "Fetching sector for SPG\n",
      "Fetching sector for KMB\n",
      "Fetching sector for ROST\n",
      "Fetching sector for HES\n",
      "Fetching sector for SRE\n",
      "Fetching sector for AEP\n",
      "Fetching sector for OXY\n",
      "Fetching sector for O\n",
      "Fetching sector for ALL\n",
      "Fetching sector for AFL\n",
      "Fetching sector for JCI\n",
      "Fetching sector for DHI\n",
      "Fetching sector for TEL\n",
      "Fetching sector for BK\n",
      "Fetching sector for DLR\n",
      "Fetching sector for MET\n",
      "Fetching sector for SMCI\n",
      "Fetching sector for NUE\n",
      "Fetching sector for IQV\n",
      "Fetching sector for D\n",
      "Fetching sector for STZ\n",
      "Fetching sector for LULU\n",
      "Fetching sector for GEV\n",
      "Fetching sector for IDXX\n",
      "Fetching sector for AMP\n",
      "Fetching sector for FIS\n",
      "Fetching sector for GWW\n",
      "Fetching sector for AME\n",
      "Fetching sector for FTNT\n",
      "Fetching sector for PSA\n",
      "Fetching sector for LHX\n",
      "Fetching sector for CCI\n",
      "Fetching sector for A\n",
      "Fetching sector for GIS\n",
      "Fetching sector for DOW\n",
      "Fetching sector for COR\n",
      "Fetching sector for PRU\n",
      "Fetching sector for YUM\n",
      "Fetching sector for CMI\n",
      "Fetching sector for CNC\n",
      "Fetching sector for MNST\n",
      "Fetching sector for RSG\n",
      "Fetching sector for FAST\n",
      "Fetching sector for SYY\n",
      "Fetching sector for CTVA\n",
      "Fetching sector for LEN\n",
      "Fetching sector for PAYX\n",
      "Fetching sector for PWR\n",
      "Fetching sector for IR\n",
      "Fetching sector for MSCI\n",
      "Fetching sector for CSGP\n",
      "Fetching sector for OTIS\n",
      "Fetching sector for HUM\n",
      "Fetching sector for MLM\n",
      "Fetching sector for FANG\n",
      "Fetching sector for EXC\n",
      "Fetching sector for GEHC\n",
      "Fetching sector for PCG\n",
      "Fetching sector for KR\n",
      "Fetching sector for MRNA\n",
      "Fetching sector for KMI\n",
      "Fetching sector for KDP\n",
      "Fetching sector for IT\n",
      "Fetching sector for VMC\n",
      "Fetching sector for HAL\n",
      "Fetching sector for EL\n",
      "Fetching sector for DVN\n",
      "Fetching sector for PEG\n",
      "Fetching sector for ACGL\n",
      "Fetching sector for CTSH\n",
      "Fetching sector for RCL\n",
      "Fetching sector for BKR\n",
      "Fetching sector for ODFL\n",
      "Fetching sector for KVUE\n",
      "Fetching sector for CDW\n",
      "Fetching sector for GPN\n",
      "Fetching sector for MPWR\n",
      "Fetching sector for ROK\n",
      "Fetching sector for DAL\n",
      "Fetching sector for ED\n",
      "Fetching sector for VRSK\n",
      "Fetching sector for ADM\n",
      "Fetching sector for RMD\n",
      "Fetching sector for DFS\n",
      "Fetching sector for DD\n",
      "Fetching sector for XYL\n",
      "Fetching sector for EA\n",
      "Fetching sector for DG\n",
      "Fetching sector for PPG\n",
      "Fetching sector for KHC\n",
      "Fetching sector for BIIB\n",
      "Fetching sector for XEL\n",
      "Fetching sector for TSCO\n",
      "Fetching sector for WAB\n",
      "Fetching sector for VICI\n",
      "Fetching sector for ON\n",
      "Fetching sector for ANSS\n",
      "Fetching sector for HIG\n",
      "Fetching sector for EXR\n",
      "Fetching sector for HSY\n",
      "Fetching sector for FICO\n",
      "Fetching sector for EFX\n",
      "Fetching sector for EBAY\n",
      "Fetching sector for AVB\n",
      "Fetching sector for EIX\n",
      "Fetching sector for MTD\n",
      "Fetching sector for FTV\n",
      "Fetching sector for WST\n",
      "Fetching sector for KEYS\n",
      "Fetching sector for CHD\n",
      "Fetching sector for HWM\n",
      "Fetching sector for CBRE\n",
      "Fetching sector for LYB\n",
      "Fetching sector for WTW\n",
      "Fetching sector for TRGP\n",
      "Fetching sector for WEC\n",
      "Fetching sector for TROW\n",
      "Fetching sector for CAH\n",
      "Fetching sector for DLTR\n",
      "Fetching sector for DOV\n",
      "Fetching sector for FITB\n",
      "Fetching sector for CHTR\n",
      "Fetching sector for ZBH\n",
      "Fetching sector for PHM\n",
      "Fetching sector for NVR\n",
      "Fetching sector for MTB\n",
      "Fetching sector for HPQ\n",
      "Fetching sector for GLW\n",
      "Fetching sector for AWK\n",
      "Fetching sector for BLDR\n",
      "Fetching sector for RJF\n",
      "Fetching sector for WDC\n",
      "Fetching sector for TTWO\n",
      "Fetching sector for BR\n",
      "Fetching sector for NDAQ\n",
      "Fetching sector for WY\n",
      "Fetching sector for STT\n",
      "Fetching sector for IRM\n",
      "Fetching sector for DTE\n",
      "Fetching sector for ETR\n",
      "Fetching sector for GPC\n",
      "Fetching sector for EQR\n",
      "Fetching sector for ALGN\n",
      "Fetching sector for HPE\n",
      "Fetching sector for GRMN\n",
      "Fetching sector for CPAY\n",
      "Fetching sector for BALL\n",
      "Fetching sector for HUBB\n",
      "Fetching sector for AXON\n",
      "Fetching sector for IFF\n",
      "Fetching sector for PTC\n",
      "Fetching sector for DECK\n",
      "Fetching sector for CTRA\n",
      "Fetching sector for SBAC\n",
      "Fetching sector for NTAP\n",
      "Fetching sector for ES\n",
      "Fetching sector for VLTO\n",
      "Fetching sector for STLD\n",
      "Fetching sector for BAX\n",
      "Fetching sector for APTV\n",
      "Fetching sector for STE\n",
      "Fetching sector for INVH\n",
      "Fetching sector for ULTA\n",
      "Fetching sector for MOH\n",
      "Fetching sector for PPL\n",
      "Fetching sector for FE\n",
      "Fetching sector for HBAN\n",
      "Fetching sector for ILMN\n",
      "Fetching sector for TYL\n",
      "Fetching sector for BRO\n",
      "Fetching sector for FSLR\n",
      "Fetching sector for AEE\n",
      "Fetching sector for MKC\n",
      "Fetching sector for OMC\n",
      "Fetching sector for CBOE\n",
      "Fetching sector for DRI\n",
      "Fetching sector for SYF\n",
      "Fetching sector for WAT\n",
      "Fetching sector for J\n",
      "Fetching sector for RF\n",
      "Fetching sector for CNP\n",
      "Fetching sector for CLX\n",
      "Fetching sector for ARE\n",
      "Fetching sector for EXPE\n",
      "Fetching sector for WBD\n",
      "Fetching sector for HOLX\n",
      "Fetching sector for LDOS\n",
      "Fetching sector for AVY\n",
      "Fetching sector for VTR\n",
      "Fetching sector for TDY\n",
      "Fetching sector for COO\n",
      "Fetching sector for TER\n",
      "Fetching sector for CINF\n",
      "Fetching sector for DPZ\n",
      "Fetching sector for ATO\n",
      "Fetching sector for CMS\n",
      "Fetching sector for PFG\n",
      "Fetching sector for TSN\n",
      "Fetching sector for UAL\n",
      "Fetching sector for NTRS\n",
      "Fetching sector for TXT\n",
      "Fetching sector for LH\n",
      "Fetching sector for LVS\n",
      "Fetching sector for EQT\n",
      "Fetching sector for SWKS\n",
      "Fetching sector for STX\n",
      "Fetching sector for IEX\n",
      "Fetching sector for EXPD\n",
      "Fetching sector for NRG\n",
      "Fetching sector for CFG\n",
      "Fetching sector for MRO\n",
      "Fetching sector for LUV\n",
      "Fetching sector for FDS\n",
      "Fetching sector for ESS\n",
      "Fetching sector for EG\n",
      "Fetching sector for MAS\n",
      "Fetching sector for WRB\n",
      "Fetching sector for VRSN\n",
      "Fetching sector for PKG\n",
      "Fetching sector for CE\n",
      "Fetching sector for AKAM\n",
      "Fetching sector for CF\n",
      "Fetching sector for ENPH\n",
      "Fetching sector for ZBRA\n",
      "Fetching sector for K\n",
      "Fetching sector for CCL\n",
      "Fetching sector for JBL\n",
      "Fetching sector for MAA\n",
      "Fetching sector for TRMB\n",
      "Fetching sector for DGX\n",
      "Fetching sector for BG\n",
      "Fetching sector for CAG\n",
      "Fetching sector for BBY\n",
      "Fetching sector for POOL\n",
      "Fetching sector for SNA\n",
      "Fetching sector for NDSN\n",
      "Fetching sector for VTRS\n",
      "Fetching sector for L\n",
      "Fetching sector for SWK\n",
      "Fetching sector for KEY\n",
      "Fetching sector for ALB\n",
      "Fetching sector for EPAM\n",
      "Fetching sector for HST\n",
      "Fetching sector for DOC\n",
      "Fetching sector for JBHT\n",
      "Fetching sector for PNR\n",
      "Fetching sector for AMCR\n",
      "Fetching sector for LYV\n",
      "Fetching sector for WBA\n",
      "Fetching sector for ROL\n",
      "Fetching sector for RVTY\n",
      "Fetching sector for LNT\n",
      "Fetching sector for KIM\n",
      "Fetching sector for IPG\n",
      "Fetching sector for LW\n",
      "Fetching sector for JKHY\n",
      "Fetching sector for WRK\n",
      "Fetching sector for EVRG\n",
      "Fetching sector for IP\n",
      "Fetching sector for LKQ\n",
      "Fetching sector for CRL\n",
      "Fetching sector for SJM\n",
      "Fetching sector for GEN\n",
      "Fetching sector for TAP\n",
      "Fetching sector for PODD\n",
      "Fetching sector for AES\n",
      "Fetching sector for UDR\n",
      "Fetching sector for QRVO\n",
      "Fetching sector for EMN\n",
      "Fetching sector for MGM\n",
      "Fetching sector for NI\n",
      "Fetching sector for JNPR\n",
      "Fetching sector for KMX\n",
      "Fetching sector for HII\n",
      "Fetching sector for ALLE\n",
      "Fetching sector for FFIV\n",
      "Fetching sector for CPT\n",
      "Fetching sector for BBWI\n",
      "Fetching sector for HRL\n",
      "Fetching sector for AOS\n",
      "Fetching sector for UHS\n",
      "Fetching sector for TECH\n",
      "Fetching sector for CTLT\n",
      "Fetching sector for APA\n",
      "Fetching sector for MOS\n",
      "Fetching sector for TFX\n",
      "Fetching sector for INCY\n",
      "Fetching sector for REG\n",
      "Fetching sector for HSIC\n",
      "Fetching sector for DAY\n",
      "Fetching sector for NWSA\n",
      "Fetching sector for PAYC\n",
      "Fetching sector for WYNN\n",
      "Fetching sector for TPR\n",
      "Fetching sector for AIZ\n",
      "Fetching sector for AAL\n",
      "Fetching sector for SOLV\n",
      "Fetching sector for CPB\n",
      "Fetching sector for BF.B\n",
      "Fetching sector for MTCH\n",
      "Fetching sector for BXP\n",
      "Fetching sector for GNRC\n",
      "Fetching sector for PNW\n",
      "Fetching sector for HAS\n",
      "Fetching sector for CHRW\n",
      "Fetching sector for ETSY\n",
      "Fetching sector for NCLH\n",
      "Fetching sector for BWA\n",
      "Fetching sector for CZR\n",
      "Fetching sector for FOXA\n",
      "Fetching sector for MKTX\n",
      "Fetching sector for FRT\n",
      "Fetching sector for FMC\n",
      "Fetching sector for RHI\n",
      "Fetching sector for DVA\n",
      "Fetching sector for BEN\n",
      "Fetching sector for CMA\n",
      "Fetching sector for IVZ\n",
      "Fetching sector for RL\n",
      "Fetching sector for GL\n",
      "Fetching sector for MHK\n",
      "Fetching sector for BIO\n",
      "Fetching sector for PARA\n",
      "Fetching sector for FOX\n",
      "Fetching sector for NWS\n"
     ]
    }
   ],
   "source": [
    "import yfinance as yf\n",
    "import pandas as pd\n",
    "import time\n",
    "\n",
    "# Define the function to get the sector for each stock\n",
    "def get_sector(ticker):\n",
    "    try:\n",
    "        stock_info = yf.Ticker(ticker).info\n",
    "        return stock_info.get('sector', 'N/A')  # Returns 'N/A' if sector information is not available\n",
    "    except Exception as e:\n",
    "        print(f\"Could not fetch sector for {ticker}: {e}\")\n",
    "        return 'N/A'\n",
    "    \n",
    "\n",
    "# get ticker symbols\n",
    "tickers = pd.read_csv('data/tickers.csv')\n",
    "tickers = tickers['Symbol'].tolist()\n",
    "\n",
    "sectors = []\n",
    "\n",
    "# Loop through each ticker and fetch the sector\n",
    "for ticker in tickers:\n",
    "    print(f\"Fetching sector for {ticker}\")\n",
    "    sector = get_sector(ticker)\n",
    "    sectors.append(sector)\n",
    "   # time.sleep(0.5)  # Delay to avoid hitting API rate limits\n"
   ]
  },
  {
   "cell_type": "code",
   "execution_count": 85,
   "metadata": {},
   "outputs": [
    {
     "data": {
      "text/plain": [
       "{'Basic Materials',\n",
       " 'Communication Services',\n",
       " 'Consumer Cyclical',\n",
       " 'Consumer Defensive',\n",
       " 'Energy',\n",
       " 'Financial Services',\n",
       " 'Healthcare',\n",
       " 'Industrials',\n",
       " 'N/A',\n",
       " 'Real Estate',\n",
       " 'Technology',\n",
       " 'Utilities'}"
      ]
     },
     "execution_count": 85,
     "metadata": {},
     "output_type": "execute_result"
    }
   ],
   "source": [
    "set(sectors)\n"
   ]
  },
  {
   "cell_type": "code",
   "execution_count": 87,
   "metadata": {},
   "outputs": [
    {
     "name": "stdout",
     "output_type": "stream",
     "text": [
      "   #                Company Symbol Portfolio%                  Sector\n",
      "0  1         Microsoft Corp   MSFT      7.05%              Technology\n",
      "1  2             Apple Inc.   AAPL      5.74%              Technology\n",
      "2  3            Nvidia Corp   NVDA      5.06%              Technology\n",
      "3  4         Amazon.com Inc   AMZN      3.83%       Consumer Cyclical\n",
      "4  5  Alphabet Inc. Class A  GOOGL      2.37%  Communication Services\n"
     ]
    }
   ],
   "source": [
    "# get tickers\n",
    "tickers = pd.read_csv('data/tickers.csv')\n",
    "\n",
    "tickers['Sector'] = sectors\n",
    "\n",
    "# Check the result\n",
    "print(tickers.head())\n",
    "\n",
    "# Save the result to a CSV file\n",
    "tickers.to_csv('data/tickers.csv', index=False)"
   ]
  },
  {
   "cell_type": "code",
   "execution_count": 89,
   "metadata": {},
   "outputs": [],
   "source": [
    "#get ticker symbols\n",
    "ticker_symbols = tickers['Symbol'].tolist()"
   ]
  },
  {
   "cell_type": "code",
   "execution_count": 90,
   "metadata": {},
   "outputs": [
    {
     "name": "stdout",
     "output_type": "stream",
     "text": [
      "Downloading data for MSFT\n"
     ]
    },
    {
     "name": "stderr",
     "output_type": "stream",
     "text": [
      "[*********************100%%**********************]  1 of 1 completed\n"
     ]
    },
    {
     "name": "stdout",
     "output_type": "stream",
     "text": [
      "Downloading data for AAPL\n"
     ]
    },
    {
     "name": "stderr",
     "output_type": "stream",
     "text": [
      "[*********************100%%**********************]  1 of 1 completed\n"
     ]
    },
    {
     "name": "stdout",
     "output_type": "stream",
     "text": [
      "Downloading data for NVDA\n"
     ]
    },
    {
     "name": "stderr",
     "output_type": "stream",
     "text": [
      "[*********************100%%**********************]  1 of 1 completed\n"
     ]
    },
    {
     "name": "stdout",
     "output_type": "stream",
     "text": [
      "Downloading data for AMZN\n"
     ]
    },
    {
     "name": "stderr",
     "output_type": "stream",
     "text": [
      "[*********************100%%**********************]  1 of 1 completed\n"
     ]
    },
    {
     "name": "stdout",
     "output_type": "stream",
     "text": [
      "Downloading data for GOOGL\n"
     ]
    },
    {
     "name": "stderr",
     "output_type": "stream",
     "text": [
      "[*********************100%%**********************]  1 of 1 completed\n"
     ]
    },
    {
     "name": "stdout",
     "output_type": "stream",
     "text": [
      "Downloading data for META\n"
     ]
    },
    {
     "name": "stderr",
     "output_type": "stream",
     "text": [
      "[*********************100%%**********************]  1 of 1 completed\n"
     ]
    },
    {
     "name": "stdout",
     "output_type": "stream",
     "text": [
      "Downloading data for GOOG\n"
     ]
    },
    {
     "name": "stderr",
     "output_type": "stream",
     "text": [
      "[*********************100%%**********************]  1 of 1 completed\n"
     ]
    },
    {
     "name": "stdout",
     "output_type": "stream",
     "text": [
      "Downloading data for BRK.B\n"
     ]
    },
    {
     "name": "stderr",
     "output_type": "stream",
     "text": [
      "[*********************100%%**********************]  1 of 1 completed\n",
      "\n",
      "1 Failed download:\n",
      "['BRK.B']: Exception('%ticker%: No timezone found, symbol may be delisted')\n"
     ]
    },
    {
     "name": "stdout",
     "output_type": "stream",
     "text": [
      "Downloading data for AVGO\n"
     ]
    },
    {
     "name": "stderr",
     "output_type": "stream",
     "text": [
      "[*********************100%%**********************]  1 of 1 completed\n"
     ]
    },
    {
     "name": "stdout",
     "output_type": "stream",
     "text": [
      "Downloading data for LLY\n"
     ]
    },
    {
     "name": "stderr",
     "output_type": "stream",
     "text": [
      "[*********************100%%**********************]  1 of 1 completed\n"
     ]
    },
    {
     "name": "stdout",
     "output_type": "stream",
     "text": [
      "Downloading data for JPM\n"
     ]
    },
    {
     "name": "stderr",
     "output_type": "stream",
     "text": [
      "[*********************100%%**********************]  1 of 1 completed\n"
     ]
    },
    {
     "name": "stdout",
     "output_type": "stream",
     "text": [
      "Downloading data for XOM\n"
     ]
    },
    {
     "name": "stderr",
     "output_type": "stream",
     "text": [
      "[*********************100%%**********************]  1 of 1 completed\n"
     ]
    },
    {
     "name": "stdout",
     "output_type": "stream",
     "text": [
      "Downloading data for TSLA\n"
     ]
    },
    {
     "name": "stderr",
     "output_type": "stream",
     "text": [
      "[*********************100%%**********************]  1 of 1 completed\n"
     ]
    },
    {
     "name": "stdout",
     "output_type": "stream",
     "text": [
      "Downloading data for UNH\n"
     ]
    },
    {
     "name": "stderr",
     "output_type": "stream",
     "text": [
      "[*********************100%%**********************]  1 of 1 completed\n"
     ]
    },
    {
     "name": "stdout",
     "output_type": "stream",
     "text": [
      "Downloading data for V\n"
     ]
    },
    {
     "name": "stderr",
     "output_type": "stream",
     "text": [
      "[*********************100%%**********************]  1 of 1 completed\n"
     ]
    },
    {
     "name": "stdout",
     "output_type": "stream",
     "text": [
      "Downloading data for MA\n"
     ]
    },
    {
     "name": "stderr",
     "output_type": "stream",
     "text": [
      "[*********************100%%**********************]  1 of 1 completed\n"
     ]
    },
    {
     "name": "stdout",
     "output_type": "stream",
     "text": [
      "Downloading data for PG\n"
     ]
    },
    {
     "name": "stderr",
     "output_type": "stream",
     "text": [
      "[*********************100%%**********************]  1 of 1 completed\n"
     ]
    },
    {
     "name": "stdout",
     "output_type": "stream",
     "text": [
      "Downloading data for JNJ\n"
     ]
    },
    {
     "name": "stderr",
     "output_type": "stream",
     "text": [
      "[*********************100%%**********************]  1 of 1 completed\n"
     ]
    },
    {
     "name": "stdout",
     "output_type": "stream",
     "text": [
      "Downloading data for HD\n"
     ]
    },
    {
     "name": "stderr",
     "output_type": "stream",
     "text": [
      "[*********************100%%**********************]  1 of 1 completed\n"
     ]
    },
    {
     "name": "stdout",
     "output_type": "stream",
     "text": [
      "Downloading data for MRK\n"
     ]
    },
    {
     "name": "stderr",
     "output_type": "stream",
     "text": [
      "[*********************100%%**********************]  1 of 1 completed\n"
     ]
    },
    {
     "name": "stdout",
     "output_type": "stream",
     "text": [
      "Downloading data for COST\n"
     ]
    },
    {
     "name": "stderr",
     "output_type": "stream",
     "text": [
      "[*********************100%%**********************]  1 of 1 completed\n"
     ]
    },
    {
     "name": "stdout",
     "output_type": "stream",
     "text": [
      "Downloading data for CVX\n"
     ]
    },
    {
     "name": "stderr",
     "output_type": "stream",
     "text": [
      "[*********************100%%**********************]  1 of 1 completed\n"
     ]
    },
    {
     "name": "stdout",
     "output_type": "stream",
     "text": [
      "Downloading data for ABBV\n"
     ]
    },
    {
     "name": "stderr",
     "output_type": "stream",
     "text": [
      "[*********************100%%**********************]  1 of 1 completed\n"
     ]
    },
    {
     "name": "stdout",
     "output_type": "stream",
     "text": [
      "Downloading data for CRM\n"
     ]
    },
    {
     "name": "stderr",
     "output_type": "stream",
     "text": [
      "[*********************100%%**********************]  1 of 1 completed\n"
     ]
    },
    {
     "name": "stdout",
     "output_type": "stream",
     "text": [
      "Downloading data for BAC\n"
     ]
    },
    {
     "name": "stderr",
     "output_type": "stream",
     "text": [
      "[*********************100%%**********************]  1 of 1 completed\n"
     ]
    },
    {
     "name": "stdout",
     "output_type": "stream",
     "text": [
      "Downloading data for WMT\n"
     ]
    },
    {
     "name": "stderr",
     "output_type": "stream",
     "text": [
      "[*********************100%%**********************]  1 of 1 completed\n"
     ]
    },
    {
     "name": "stdout",
     "output_type": "stream",
     "text": [
      "Downloading data for AMD\n"
     ]
    },
    {
     "name": "stderr",
     "output_type": "stream",
     "text": [
      "[*********************100%%**********************]  1 of 1 completed\n"
     ]
    },
    {
     "name": "stdout",
     "output_type": "stream",
     "text": [
      "Downloading data for NFLX\n"
     ]
    },
    {
     "name": "stderr",
     "output_type": "stream",
     "text": [
      "[*********************100%%**********************]  1 of 1 completed\n"
     ]
    },
    {
     "name": "stdout",
     "output_type": "stream",
     "text": [
      "Downloading data for PEP\n"
     ]
    },
    {
     "name": "stderr",
     "output_type": "stream",
     "text": [
      "[*********************100%%**********************]  1 of 1 completed\n"
     ]
    },
    {
     "name": "stdout",
     "output_type": "stream",
     "text": [
      "Downloading data for KO\n"
     ]
    },
    {
     "name": "stderr",
     "output_type": "stream",
     "text": [
      "[*********************100%%**********************]  1 of 1 completed\n"
     ]
    },
    {
     "name": "stdout",
     "output_type": "stream",
     "text": [
      "Downloading data for TMO\n"
     ]
    },
    {
     "name": "stderr",
     "output_type": "stream",
     "text": [
      "[*********************100%%**********************]  1 of 1 completed\n"
     ]
    },
    {
     "name": "stdout",
     "output_type": "stream",
     "text": [
      "Downloading data for ADBE\n"
     ]
    },
    {
     "name": "stderr",
     "output_type": "stream",
     "text": [
      "[*********************100%%**********************]  1 of 1 completed\n"
     ]
    },
    {
     "name": "stdout",
     "output_type": "stream",
     "text": [
      "Downloading data for WFC\n"
     ]
    },
    {
     "name": "stderr",
     "output_type": "stream",
     "text": [
      "[*********************100%%**********************]  1 of 1 completed\n"
     ]
    },
    {
     "name": "stdout",
     "output_type": "stream",
     "text": [
      "Downloading data for LIN\n"
     ]
    },
    {
     "name": "stderr",
     "output_type": "stream",
     "text": [
      "[*********************100%%**********************]  1 of 1 completed\n"
     ]
    },
    {
     "name": "stdout",
     "output_type": "stream",
     "text": [
      "Downloading data for DIS\n"
     ]
    },
    {
     "name": "stderr",
     "output_type": "stream",
     "text": [
      "[*********************100%%**********************]  1 of 1 completed\n"
     ]
    },
    {
     "name": "stdout",
     "output_type": "stream",
     "text": [
      "Downloading data for MCD\n"
     ]
    },
    {
     "name": "stderr",
     "output_type": "stream",
     "text": [
      "[*********************100%%**********************]  1 of 1 completed\n"
     ]
    },
    {
     "name": "stdout",
     "output_type": "stream",
     "text": [
      "Downloading data for CSCO\n"
     ]
    },
    {
     "name": "stderr",
     "output_type": "stream",
     "text": [
      "[*********************100%%**********************]  1 of 1 completed\n"
     ]
    },
    {
     "name": "stdout",
     "output_type": "stream",
     "text": [
      "Downloading data for ACN\n"
     ]
    },
    {
     "name": "stderr",
     "output_type": "stream",
     "text": [
      "[*********************100%%**********************]  1 of 1 completed\n"
     ]
    },
    {
     "name": "stdout",
     "output_type": "stream",
     "text": [
      "Downloading data for ORCL\n"
     ]
    },
    {
     "name": "stderr",
     "output_type": "stream",
     "text": [
      "[*********************100%%**********************]  1 of 1 completed\n"
     ]
    },
    {
     "name": "stdout",
     "output_type": "stream",
     "text": [
      "Downloading data for ABT\n"
     ]
    },
    {
     "name": "stderr",
     "output_type": "stream",
     "text": [
      "[*********************100%%**********************]  1 of 1 completed\n"
     ]
    },
    {
     "name": "stdout",
     "output_type": "stream",
     "text": [
      "Downloading data for QCOM\n"
     ]
    },
    {
     "name": "stderr",
     "output_type": "stream",
     "text": [
      "[*********************100%%**********************]  1 of 1 completed\n"
     ]
    },
    {
     "name": "stdout",
     "output_type": "stream",
     "text": [
      "Downloading data for INTU\n"
     ]
    },
    {
     "name": "stderr",
     "output_type": "stream",
     "text": [
      "[*********************100%%**********************]  1 of 1 completed\n"
     ]
    },
    {
     "name": "stdout",
     "output_type": "stream",
     "text": [
      "Downloading data for GE\n"
     ]
    },
    {
     "name": "stderr",
     "output_type": "stream",
     "text": [
      "[*********************100%%**********************]  1 of 1 completed\n"
     ]
    },
    {
     "name": "stdout",
     "output_type": "stream",
     "text": [
      "Downloading data for CAT\n"
     ]
    },
    {
     "name": "stderr",
     "output_type": "stream",
     "text": [
      "[*********************100%%**********************]  1 of 1 completed\n"
     ]
    },
    {
     "name": "stdout",
     "output_type": "stream",
     "text": [
      "Downloading data for AMAT\n"
     ]
    },
    {
     "name": "stderr",
     "output_type": "stream",
     "text": [
      "[*********************100%%**********************]  1 of 1 completed\n"
     ]
    },
    {
     "name": "stdout",
     "output_type": "stream",
     "text": [
      "Downloading data for VZ\n"
     ]
    },
    {
     "name": "stderr",
     "output_type": "stream",
     "text": [
      "[*********************100%%**********************]  1 of 1 completed\n"
     ]
    },
    {
     "name": "stdout",
     "output_type": "stream",
     "text": [
      "Downloading data for DHR\n"
     ]
    },
    {
     "name": "stderr",
     "output_type": "stream",
     "text": [
      "[*********************100%%**********************]  1 of 1 completed\n"
     ]
    },
    {
     "name": "stdout",
     "output_type": "stream",
     "text": [
      "Downloading data for TXN\n"
     ]
    },
    {
     "name": "stderr",
     "output_type": "stream",
     "text": [
      "[*********************100%%**********************]  1 of 1 completed\n"
     ]
    },
    {
     "name": "stdout",
     "output_type": "stream",
     "text": [
      "Downloading data for COP\n"
     ]
    },
    {
     "name": "stderr",
     "output_type": "stream",
     "text": [
      "[*********************100%%**********************]  1 of 1 completed\n"
     ]
    },
    {
     "name": "stdout",
     "output_type": "stream",
     "text": [
      "Downloading data for IBM\n"
     ]
    },
    {
     "name": "stderr",
     "output_type": "stream",
     "text": [
      "[*********************100%%**********************]  1 of 1 completed\n"
     ]
    },
    {
     "name": "stdout",
     "output_type": "stream",
     "text": [
      "Downloading data for CMCSA\n"
     ]
    },
    {
     "name": "stderr",
     "output_type": "stream",
     "text": [
      "[*********************100%%**********************]  1 of 1 completed\n"
     ]
    },
    {
     "name": "stdout",
     "output_type": "stream",
     "text": [
      "Downloading data for NOW\n"
     ]
    },
    {
     "name": "stderr",
     "output_type": "stream",
     "text": [
      "[*********************100%%**********************]  1 of 1 completed\n"
     ]
    },
    {
     "name": "stdout",
     "output_type": "stream",
     "text": [
      "Downloading data for UNP\n"
     ]
    },
    {
     "name": "stderr",
     "output_type": "stream",
     "text": [
      "[*********************100%%**********************]  1 of 1 completed\n"
     ]
    },
    {
     "name": "stdout",
     "output_type": "stream",
     "text": [
      "Downloading data for PM\n"
     ]
    },
    {
     "name": "stderr",
     "output_type": "stream",
     "text": [
      "[*********************100%%**********************]  1 of 1 completed\n"
     ]
    },
    {
     "name": "stdout",
     "output_type": "stream",
     "text": [
      "Downloading data for AMGN\n"
     ]
    },
    {
     "name": "stderr",
     "output_type": "stream",
     "text": [
      "[*********************100%%**********************]  1 of 1 completed\n"
     ]
    },
    {
     "name": "stdout",
     "output_type": "stream",
     "text": [
      "Downloading data for PFE\n"
     ]
    },
    {
     "name": "stderr",
     "output_type": "stream",
     "text": [
      "[*********************100%%**********************]  1 of 1 completed\n",
      "[*********************100%%**********************]  1 of 1 completed\n"
     ]
    },
    {
     "name": "stdout",
     "output_type": "stream",
     "text": [
      "Downloading data for UBER\n",
      "Downloading data for GS\n"
     ]
    },
    {
     "name": "stderr",
     "output_type": "stream",
     "text": [
      "[*********************100%%**********************]  1 of 1 completed\n"
     ]
    },
    {
     "name": "stdout",
     "output_type": "stream",
     "text": [
      "Downloading data for NEE\n"
     ]
    },
    {
     "name": "stderr",
     "output_type": "stream",
     "text": [
      "[*********************100%%**********************]  1 of 1 completed\n"
     ]
    },
    {
     "name": "stdout",
     "output_type": "stream",
     "text": [
      "Downloading data for INTC\n"
     ]
    },
    {
     "name": "stderr",
     "output_type": "stream",
     "text": [
      "[*********************100%%**********************]  1 of 1 completed\n"
     ]
    },
    {
     "name": "stdout",
     "output_type": "stream",
     "text": [
      "Downloading data for AXP\n"
     ]
    },
    {
     "name": "stderr",
     "output_type": "stream",
     "text": [
      "[*********************100%%**********************]  1 of 1 completed\n"
     ]
    },
    {
     "name": "stdout",
     "output_type": "stream",
     "text": [
      "Downloading data for RTX\n"
     ]
    },
    {
     "name": "stderr",
     "output_type": "stream",
     "text": [
      "[*********************100%%**********************]  1 of 1 completed\n"
     ]
    },
    {
     "name": "stdout",
     "output_type": "stream",
     "text": [
      "Downloading data for SPGI\n"
     ]
    },
    {
     "name": "stderr",
     "output_type": "stream",
     "text": [
      "[*********************100%%**********************]  1 of 1 completed\n"
     ]
    },
    {
     "name": "stdout",
     "output_type": "stream",
     "text": [
      "Downloading data for LOW\n"
     ]
    },
    {
     "name": "stderr",
     "output_type": "stream",
     "text": [
      "[*********************100%%**********************]  1 of 1 completed\n"
     ]
    },
    {
     "name": "stdout",
     "output_type": "stream",
     "text": [
      "Downloading data for ISRG\n"
     ]
    },
    {
     "name": "stderr",
     "output_type": "stream",
     "text": [
      "[*********************100%%**********************]  1 of 1 completed\n"
     ]
    },
    {
     "name": "stdout",
     "output_type": "stream",
     "text": [
      "Downloading data for ETN\n"
     ]
    },
    {
     "name": "stderr",
     "output_type": "stream",
     "text": [
      "[*********************100%%**********************]  1 of 1 completed\n"
     ]
    },
    {
     "name": "stdout",
     "output_type": "stream",
     "text": [
      "Downloading data for HON\n"
     ]
    },
    {
     "name": "stderr",
     "output_type": "stream",
     "text": [
      "[*********************100%%**********************]  1 of 1 completed\n"
     ]
    },
    {
     "name": "stdout",
     "output_type": "stream",
     "text": [
      "Downloading data for MU\n"
     ]
    },
    {
     "name": "stderr",
     "output_type": "stream",
     "text": [
      "[*********************100%%**********************]  1 of 1 completed\n"
     ]
    },
    {
     "name": "stdout",
     "output_type": "stream",
     "text": [
      "Downloading data for ELV\n"
     ]
    },
    {
     "name": "stderr",
     "output_type": "stream",
     "text": [
      "[*********************100%%**********************]  1 of 1 completed\n"
     ]
    },
    {
     "name": "stdout",
     "output_type": "stream",
     "text": [
      "Downloading data for BKNG\n"
     ]
    },
    {
     "name": "stderr",
     "output_type": "stream",
     "text": [
      "[*********************100%%**********************]  1 of 1 completed\n"
     ]
    },
    {
     "name": "stdout",
     "output_type": "stream",
     "text": [
      "Downloading data for PGR\n"
     ]
    },
    {
     "name": "stderr",
     "output_type": "stream",
     "text": [
      "[*********************100%%**********************]  1 of 1 completed\n"
     ]
    },
    {
     "name": "stdout",
     "output_type": "stream",
     "text": [
      "Downloading data for LRCX\n"
     ]
    },
    {
     "name": "stderr",
     "output_type": "stream",
     "text": [
      "[*********************100%%**********************]  1 of 1 completed\n"
     ]
    },
    {
     "name": "stdout",
     "output_type": "stream",
     "text": [
      "Downloading data for T\n"
     ]
    },
    {
     "name": "stderr",
     "output_type": "stream",
     "text": [
      "[*********************100%%**********************]  1 of 1 completed\n"
     ]
    },
    {
     "name": "stdout",
     "output_type": "stream",
     "text": [
      "Downloading data for C\n"
     ]
    },
    {
     "name": "stderr",
     "output_type": "stream",
     "text": [
      "[*********************100%%**********************]  1 of 1 completed\n"
     ]
    },
    {
     "name": "stdout",
     "output_type": "stream",
     "text": [
      "Downloading data for MS\n"
     ]
    },
    {
     "name": "stderr",
     "output_type": "stream",
     "text": [
      "[*********************100%%**********************]  1 of 1 completed\n"
     ]
    },
    {
     "name": "stdout",
     "output_type": "stream",
     "text": [
      "Downloading data for NKE\n"
     ]
    },
    {
     "name": "stderr",
     "output_type": "stream",
     "text": [
      "[*********************100%%**********************]  1 of 1 completed\n"
     ]
    },
    {
     "name": "stdout",
     "output_type": "stream",
     "text": [
      "Downloading data for SYK\n"
     ]
    },
    {
     "name": "stderr",
     "output_type": "stream",
     "text": [
      "[*********************100%%**********************]  1 of 1 completed\n"
     ]
    },
    {
     "name": "stdout",
     "output_type": "stream",
     "text": [
      "Downloading data for SCHW\n"
     ]
    },
    {
     "name": "stderr",
     "output_type": "stream",
     "text": [
      "[*********************100%%**********************]  1 of 1 completed\n"
     ]
    },
    {
     "name": "stdout",
     "output_type": "stream",
     "text": [
      "Downloading data for TJX\n"
     ]
    },
    {
     "name": "stderr",
     "output_type": "stream",
     "text": [
      "[*********************100%%**********************]  1 of 1 completed\n"
     ]
    },
    {
     "name": "stdout",
     "output_type": "stream",
     "text": [
      "Downloading data for BSX\n"
     ]
    },
    {
     "name": "stderr",
     "output_type": "stream",
     "text": [
      "[*********************100%%**********************]  1 of 1 completed\n"
     ]
    },
    {
     "name": "stdout",
     "output_type": "stream",
     "text": [
      "Downloading data for UPS\n"
     ]
    },
    {
     "name": "stderr",
     "output_type": "stream",
     "text": [
      "[*********************100%%**********************]  1 of 1 completed\n"
     ]
    },
    {
     "name": "stdout",
     "output_type": "stream",
     "text": [
      "Downloading data for BLK\n"
     ]
    },
    {
     "name": "stderr",
     "output_type": "stream",
     "text": [
      "[*********************100%%**********************]  1 of 1 completed\n"
     ]
    },
    {
     "name": "stdout",
     "output_type": "stream",
     "text": [
      "Downloading data for MDT\n"
     ]
    },
    {
     "name": "stderr",
     "output_type": "stream",
     "text": [
      "[*********************100%%**********************]  1 of 1 completed\n"
     ]
    },
    {
     "name": "stdout",
     "output_type": "stream",
     "text": [
      "Downloading data for CI\n"
     ]
    },
    {
     "name": "stderr",
     "output_type": "stream",
     "text": [
      "[*********************100%%**********************]  1 of 1 completed\n"
     ]
    },
    {
     "name": "stdout",
     "output_type": "stream",
     "text": [
      "Downloading data for DE\n"
     ]
    },
    {
     "name": "stderr",
     "output_type": "stream",
     "text": [
      "[*********************100%%**********************]  1 of 1 completed\n"
     ]
    },
    {
     "name": "stdout",
     "output_type": "stream",
     "text": [
      "Downloading data for VRTX\n"
     ]
    },
    {
     "name": "stderr",
     "output_type": "stream",
     "text": [
      "[*********************100%%**********************]  1 of 1 completed\n"
     ]
    },
    {
     "name": "stdout",
     "output_type": "stream",
     "text": [
      "Downloading data for ADI\n"
     ]
    },
    {
     "name": "stderr",
     "output_type": "stream",
     "text": [
      "[*********************100%%**********************]  1 of 1 completed\n"
     ]
    },
    {
     "name": "stdout",
     "output_type": "stream",
     "text": [
      "Downloading data for SBUX\n"
     ]
    },
    {
     "name": "stderr",
     "output_type": "stream",
     "text": [
      "[*********************100%%**********************]  1 of 1 completed\n"
     ]
    },
    {
     "name": "stdout",
     "output_type": "stream",
     "text": [
      "Downloading data for ADP\n"
     ]
    },
    {
     "name": "stderr",
     "output_type": "stream",
     "text": [
      "[*********************100%%**********************]  1 of 1 completed\n"
     ]
    },
    {
     "name": "stdout",
     "output_type": "stream",
     "text": [
      "Downloading data for CB\n"
     ]
    },
    {
     "name": "stderr",
     "output_type": "stream",
     "text": [
      "[*********************100%%**********************]  1 of 1 completed\n"
     ]
    },
    {
     "name": "stdout",
     "output_type": "stream",
     "text": [
      "Downloading data for LMT\n"
     ]
    },
    {
     "name": "stderr",
     "output_type": "stream",
     "text": [
      "[*********************100%%**********************]  1 of 1 completed\n"
     ]
    },
    {
     "name": "stdout",
     "output_type": "stream",
     "text": [
      "Downloading data for MMC\n"
     ]
    },
    {
     "name": "stderr",
     "output_type": "stream",
     "text": [
      "[*********************100%%**********************]  1 of 1 completed\n"
     ]
    },
    {
     "name": "stdout",
     "output_type": "stream",
     "text": [
      "Downloading data for PLD\n"
     ]
    },
    {
     "name": "stderr",
     "output_type": "stream",
     "text": [
      "[*********************100%%**********************]  1 of 1 completed\n"
     ]
    },
    {
     "name": "stdout",
     "output_type": "stream",
     "text": [
      "Downloading data for KLAC\n"
     ]
    },
    {
     "name": "stderr",
     "output_type": "stream",
     "text": [
      "[*********************100%%**********************]  1 of 1 completed\n"
     ]
    },
    {
     "name": "stdout",
     "output_type": "stream",
     "text": [
      "Downloading data for BA\n"
     ]
    },
    {
     "name": "stderr",
     "output_type": "stream",
     "text": [
      "[*********************100%%**********************]  1 of 1 completed\n"
     ]
    },
    {
     "name": "stdout",
     "output_type": "stream",
     "text": [
      "Downloading data for MDLZ\n"
     ]
    },
    {
     "name": "stderr",
     "output_type": "stream",
     "text": [
      "[*********************100%%**********************]  1 of 1 completed\n"
     ]
    },
    {
     "name": "stdout",
     "output_type": "stream",
     "text": [
      "Downloading data for FI\n"
     ]
    },
    {
     "name": "stderr",
     "output_type": "stream",
     "text": [
      "[*********************100%%**********************]  1 of 1 completed\n"
     ]
    },
    {
     "name": "stdout",
     "output_type": "stream",
     "text": [
      "Downloading data for REGN\n"
     ]
    },
    {
     "name": "stderr",
     "output_type": "stream",
     "text": [
      "[*********************100%%**********************]  1 of 1 completed\n",
      "[*********************100%%**********************]  1 of 1 completed\n"
     ]
    },
    {
     "name": "stdout",
     "output_type": "stream",
     "text": [
      "Downloading data for PANW\n",
      "Downloading data for BMY\n"
     ]
    },
    {
     "name": "stderr",
     "output_type": "stream",
     "text": [
      "[*********************100%%**********************]  1 of 1 completed\n"
     ]
    },
    {
     "name": "stdout",
     "output_type": "stream",
     "text": [
      "Downloading data for BX\n"
     ]
    },
    {
     "name": "stderr",
     "output_type": "stream",
     "text": [
      "[*********************100%%**********************]  1 of 1 completed\n",
      "[*********************100%%**********************]  1 of 1 completed"
     ]
    },
    {
     "name": "stdout",
     "output_type": "stream",
     "text": [
      "Downloading data for CMG\n",
      "Downloading data for TMUS\n"
     ]
    },
    {
     "name": "stderr",
     "output_type": "stream",
     "text": [
      "\n",
      "[*********************100%%**********************]  1 of 1 completed\n"
     ]
    },
    {
     "name": "stdout",
     "output_type": "stream",
     "text": [
      "Downloading data for CVS\n"
     ]
    },
    {
     "name": "stderr",
     "output_type": "stream",
     "text": [
      "[*********************100%%**********************]  1 of 1 completed\n"
     ]
    },
    {
     "name": "stdout",
     "output_type": "stream",
     "text": [
      "Downloading data for SNPS\n"
     ]
    },
    {
     "name": "stderr",
     "output_type": "stream",
     "text": [
      "[*********************100%%**********************]  1 of 1 completed\n"
     ]
    },
    {
     "name": "stdout",
     "output_type": "stream",
     "text": [
      "Downloading data for GILD\n"
     ]
    },
    {
     "name": "stderr",
     "output_type": "stream",
     "text": [
      "[*********************100%%**********************]  1 of 1 completed\n"
     ]
    },
    {
     "name": "stdout",
     "output_type": "stream",
     "text": [
      "Downloading data for AMT\n"
     ]
    },
    {
     "name": "stderr",
     "output_type": "stream",
     "text": [
      "[*********************100%%**********************]  1 of 1 completed\n"
     ]
    },
    {
     "name": "stdout",
     "output_type": "stream",
     "text": [
      "Downloading data for SO\n"
     ]
    },
    {
     "name": "stderr",
     "output_type": "stream",
     "text": [
      "[*********************100%%**********************]  1 of 1 completed\n"
     ]
    },
    {
     "name": "stdout",
     "output_type": "stream",
     "text": [
      "Downloading data for EOG\n"
     ]
    },
    {
     "name": "stderr",
     "output_type": "stream",
     "text": [
      "[*********************100%%**********************]  1 of 1 completed\n"
     ]
    },
    {
     "name": "stdout",
     "output_type": "stream",
     "text": [
      "Downloading data for WM\n"
     ]
    },
    {
     "name": "stderr",
     "output_type": "stream",
     "text": [
      "[*********************100%%**********************]  1 of 1 completed\n"
     ]
    },
    {
     "name": "stdout",
     "output_type": "stream",
     "text": [
      "Downloading data for CDNS\n"
     ]
    },
    {
     "name": "stderr",
     "output_type": "stream",
     "text": [
      "[*********************100%%**********************]  1 of 1 completed\n"
     ]
    },
    {
     "name": "stdout",
     "output_type": "stream",
     "text": [
      "Downloading data for MO\n"
     ]
    },
    {
     "name": "stderr",
     "output_type": "stream",
     "text": [
      "[*********************100%%**********************]  1 of 1 completed\n"
     ]
    },
    {
     "name": "stdout",
     "output_type": "stream",
     "text": [
      "Downloading data for TGT\n"
     ]
    },
    {
     "name": "stderr",
     "output_type": "stream",
     "text": [
      "[*********************100%%**********************]  1 of 1 completed\n"
     ]
    },
    {
     "name": "stdout",
     "output_type": "stream",
     "text": [
      "Downloading data for CME\n"
     ]
    },
    {
     "name": "stderr",
     "output_type": "stream",
     "text": [
      "[*********************100%%**********************]  1 of 1 completed\n"
     ]
    },
    {
     "name": "stdout",
     "output_type": "stream",
     "text": [
      "Downloading data for ICE\n"
     ]
    },
    {
     "name": "stderr",
     "output_type": "stream",
     "text": [
      "[*********************100%%**********************]  1 of 1 completed\n"
     ]
    },
    {
     "name": "stdout",
     "output_type": "stream",
     "text": [
      "Downloading data for DUK\n"
     ]
    },
    {
     "name": "stderr",
     "output_type": "stream",
     "text": [
      "[*********************100%%**********************]  1 of 1 completed\n"
     ]
    },
    {
     "name": "stdout",
     "output_type": "stream",
     "text": [
      "Downloading data for CL\n"
     ]
    },
    {
     "name": "stderr",
     "output_type": "stream",
     "text": [
      "[*********************100%%**********************]  1 of 1 completed\n"
     ]
    },
    {
     "name": "stdout",
     "output_type": "stream",
     "text": [
      "Downloading data for MPC\n"
     ]
    },
    {
     "name": "stderr",
     "output_type": "stream",
     "text": [
      "[*********************100%%**********************]  1 of 1 completed\n"
     ]
    },
    {
     "name": "stdout",
     "output_type": "stream",
     "text": [
      "Downloading data for ZTS\n"
     ]
    },
    {
     "name": "stderr",
     "output_type": "stream",
     "text": [
      "[*********************100%%**********************]  1 of 1 completed\n"
     ]
    },
    {
     "name": "stdout",
     "output_type": "stream",
     "text": [
      "Downloading data for FCX\n"
     ]
    },
    {
     "name": "stderr",
     "output_type": "stream",
     "text": [
      "[*********************100%%**********************]  1 of 1 completed\n"
     ]
    },
    {
     "name": "stdout",
     "output_type": "stream",
     "text": [
      "Downloading data for SHW\n"
     ]
    },
    {
     "name": "stderr",
     "output_type": "stream",
     "text": [
      "[*********************100%%**********************]  1 of 1 completed\n"
     ]
    },
    {
     "name": "stdout",
     "output_type": "stream",
     "text": [
      "Downloading data for APH\n"
     ]
    },
    {
     "name": "stderr",
     "output_type": "stream",
     "text": [
      "[*********************100%%**********************]  1 of 1 completed\n"
     ]
    },
    {
     "name": "stdout",
     "output_type": "stream",
     "text": [
      "Downloading data for MCK\n"
     ]
    },
    {
     "name": "stderr",
     "output_type": "stream",
     "text": [
      "[*********************100%%**********************]  1 of 1 completed\n",
      "[*********************100%%**********************]  1 of 1 completed\n"
     ]
    },
    {
     "name": "stdout",
     "output_type": "stream",
     "text": [
      "Downloading data for ABNB\n",
      "Downloading data for PH\n"
     ]
    },
    {
     "name": "stderr",
     "output_type": "stream",
     "text": [
      "[*********************100%%**********************]  1 of 1 completed\n",
      "[*********************100%%**********************]  1 of 1 completed\n"
     ]
    },
    {
     "name": "stdout",
     "output_type": "stream",
     "text": [
      "Downloading data for PYPL\n",
      "Downloading data for SLB\n"
     ]
    },
    {
     "name": "stderr",
     "output_type": "stream",
     "text": [
      "[*********************100%%**********************]  1 of 1 completed\n"
     ]
    },
    {
     "name": "stdout",
     "output_type": "stream",
     "text": [
      "Downloading data for TDG\n"
     ]
    },
    {
     "name": "stderr",
     "output_type": "stream",
     "text": [
      "[*********************100%%**********************]  1 of 1 completed\n"
     ]
    },
    {
     "name": "stdout",
     "output_type": "stream",
     "text": [
      "Downloading data for TT\n"
     ]
    },
    {
     "name": "stderr",
     "output_type": "stream",
     "text": [
      "[*********************100%%**********************]  1 of 1 completed\n"
     ]
    },
    {
     "name": "stdout",
     "output_type": "stream",
     "text": [
      "Downloading data for EQIX\n"
     ]
    },
    {
     "name": "stderr",
     "output_type": "stream",
     "text": [
      "[*********************100%%**********************]  1 of 1 completed\n"
     ]
    },
    {
     "name": "stdout",
     "output_type": "stream",
     "text": [
      "Downloading data for NOC\n"
     ]
    },
    {
     "name": "stderr",
     "output_type": "stream",
     "text": [
      "[*********************100%%**********************]  1 of 1 completed\n"
     ]
    },
    {
     "name": "stdout",
     "output_type": "stream",
     "text": [
      "Downloading data for ITW\n"
     ]
    },
    {
     "name": "stderr",
     "output_type": "stream",
     "text": [
      "[*********************100%%**********************]  1 of 1 completed\n"
     ]
    },
    {
     "name": "stdout",
     "output_type": "stream",
     "text": [
      "Downloading data for BDX\n"
     ]
    },
    {
     "name": "stderr",
     "output_type": "stream",
     "text": [
      "[*********************100%%**********************]  1 of 1 completed\n"
     ]
    },
    {
     "name": "stdout",
     "output_type": "stream",
     "text": [
      "Downloading data for CSX\n"
     ]
    },
    {
     "name": "stderr",
     "output_type": "stream",
     "text": [
      "[*********************100%%**********************]  1 of 1 completed\n",
      "[*********************100%%**********************]  1 of 1 completed\n"
     ]
    },
    {
     "name": "stdout",
     "output_type": "stream",
     "text": [
      "Downloading data for ANET\n",
      "Downloading data for PSX\n"
     ]
    },
    {
     "name": "stderr",
     "output_type": "stream",
     "text": [
      "[*********************100%%**********************]  1 of 1 completed\n"
     ]
    },
    {
     "name": "stdout",
     "output_type": "stream",
     "text": [
      "Downloading data for GD\n"
     ]
    },
    {
     "name": "stderr",
     "output_type": "stream",
     "text": [
      "[*********************100%%**********************]  1 of 1 completed\n"
     ]
    },
    {
     "name": "stdout",
     "output_type": "stream",
     "text": [
      "Downloading data for USB\n"
     ]
    },
    {
     "name": "stderr",
     "output_type": "stream",
     "text": [
      "[*********************100%%**********************]  1 of 1 completed\n"
     ]
    },
    {
     "name": "stdout",
     "output_type": "stream",
     "text": [
      "Downloading data for PXD\n"
     ]
    },
    {
     "name": "stderr",
     "output_type": "stream",
     "text": [
      "[*********************100%%**********************]  1 of 1 completed\n"
     ]
    },
    {
     "name": "stdout",
     "output_type": "stream",
     "text": [
      "Downloading data for EMR\n"
     ]
    },
    {
     "name": "stderr",
     "output_type": "stream",
     "text": [
      "[*********************100%%**********************]  1 of 1 completed\n"
     ]
    },
    {
     "name": "stdout",
     "output_type": "stream",
     "text": [
      "Downloading data for NXPI\n"
     ]
    },
    {
     "name": "stderr",
     "output_type": "stream",
     "text": [
      "[*********************100%%**********************]  1 of 1 completed\n"
     ]
    },
    {
     "name": "stdout",
     "output_type": "stream",
     "text": [
      "Downloading data for PNC\n"
     ]
    },
    {
     "name": "stderr",
     "output_type": "stream",
     "text": [
      "[*********************100%%**********************]  1 of 1 completed\n"
     ]
    },
    {
     "name": "stdout",
     "output_type": "stream",
     "text": [
      "Downloading data for ORLY\n"
     ]
    },
    {
     "name": "stderr",
     "output_type": "stream",
     "text": [
      "[*********************100%%**********************]  1 of 1 completed\n"
     ]
    },
    {
     "name": "stdout",
     "output_type": "stream",
     "text": [
      "Downloading data for FDX\n"
     ]
    },
    {
     "name": "stderr",
     "output_type": "stream",
     "text": [
      "[*********************100%%**********************]  1 of 1 completed\n",
      "[*********************100%%**********************]  1 of 1 completed"
     ]
    },
    {
     "name": "stdout",
     "output_type": "stream",
     "text": [
      "Downloading data for HCA\n"
     ]
    },
    {
     "name": "stderr",
     "output_type": "stream",
     "text": [
      "\n"
     ]
    },
    {
     "name": "stdout",
     "output_type": "stream",
     "text": [
      "Downloading data for CEG\n"
     ]
    },
    {
     "name": "stderr",
     "output_type": "stream",
     "text": [
      "[*********************100%%**********************]  1 of 1 completed\n"
     ]
    },
    {
     "name": "stdout",
     "output_type": "stream",
     "text": [
      "Downloading data for MAR\n"
     ]
    },
    {
     "name": "stderr",
     "output_type": "stream",
     "text": [
      "[*********************100%%**********************]  1 of 1 completed\n"
     ]
    },
    {
     "name": "stdout",
     "output_type": "stream",
     "text": [
      "Downloading data for MCO\n"
     ]
    },
    {
     "name": "stderr",
     "output_type": "stream",
     "text": [
      "[*********************100%%**********************]  1 of 1 completed\n"
     ]
    },
    {
     "name": "stdout",
     "output_type": "stream",
     "text": [
      "Downloading data for PCAR\n"
     ]
    },
    {
     "name": "stderr",
     "output_type": "stream",
     "text": [
      "[*********************100%%**********************]  1 of 1 completed\n"
     ]
    },
    {
     "name": "stdout",
     "output_type": "stream",
     "text": [
      "Downloading data for CTAS\n"
     ]
    },
    {
     "name": "stderr",
     "output_type": "stream",
     "text": [
      "[*********************100%%**********************]  1 of 1 completed\n"
     ]
    },
    {
     "name": "stdout",
     "output_type": "stream",
     "text": [
      "Downloading data for MSI\n"
     ]
    },
    {
     "name": "stderr",
     "output_type": "stream",
     "text": [
      "[*********************100%%**********************]  1 of 1 completed\n"
     ]
    },
    {
     "name": "stdout",
     "output_type": "stream",
     "text": [
      "Downloading data for AON\n"
     ]
    },
    {
     "name": "stderr",
     "output_type": "stream",
     "text": [
      "[*********************100%%**********************]  1 of 1 completed\n"
     ]
    },
    {
     "name": "stdout",
     "output_type": "stream",
     "text": [
      "Downloading data for VLO\n"
     ]
    },
    {
     "name": "stderr",
     "output_type": "stream",
     "text": [
      "[*********************100%%**********************]  1 of 1 completed\n"
     ]
    },
    {
     "name": "stdout",
     "output_type": "stream",
     "text": [
      "Downloading data for ECL\n"
     ]
    },
    {
     "name": "stderr",
     "output_type": "stream",
     "text": [
      "[*********************100%%**********************]  1 of 1 completed\n"
     ]
    },
    {
     "name": "stdout",
     "output_type": "stream",
     "text": [
      "Downloading data for ROP\n"
     ]
    },
    {
     "name": "stderr",
     "output_type": "stream",
     "text": [
      "[*********************100%%**********************]  1 of 1 completed\n"
     ]
    },
    {
     "name": "stdout",
     "output_type": "stream",
     "text": [
      "Downloading data for COF\n"
     ]
    },
    {
     "name": "stderr",
     "output_type": "stream",
     "text": [
      "[*********************100%%**********************]  1 of 1 completed\n"
     ]
    },
    {
     "name": "stdout",
     "output_type": "stream",
     "text": [
      "Downloading data for NSC\n"
     ]
    },
    {
     "name": "stderr",
     "output_type": "stream",
     "text": [
      "[*********************100%%**********************]  1 of 1 completed\n",
      "[*********************100%%**********************]  1 of 1 completed"
     ]
    },
    {
     "name": "stdout",
     "output_type": "stream",
     "text": [
      "Downloading data for GM\n"
     ]
    },
    {
     "name": "stderr",
     "output_type": "stream",
     "text": [
      "\n"
     ]
    },
    {
     "name": "stdout",
     "output_type": "stream",
     "text": [
      "Downloading data for APD\n"
     ]
    },
    {
     "name": "stderr",
     "output_type": "stream",
     "text": [
      "[*********************100%%**********************]  1 of 1 completed\n"
     ]
    },
    {
     "name": "stdout",
     "output_type": "stream",
     "text": [
      "Downloading data for EW\n"
     ]
    },
    {
     "name": "stderr",
     "output_type": "stream",
     "text": [
      "[*********************100%%**********************]  1 of 1 completed\n"
     ]
    },
    {
     "name": "stdout",
     "output_type": "stream",
     "text": [
      "Downloading data for AIG\n"
     ]
    },
    {
     "name": "stderr",
     "output_type": "stream",
     "text": [
      "[*********************100%%**********************]  1 of 1 completed\n"
     ]
    },
    {
     "name": "stdout",
     "output_type": "stream",
     "text": [
      "Downloading data for WELL\n"
     ]
    },
    {
     "name": "stderr",
     "output_type": "stream",
     "text": [
      "[*********************100%%**********************]  1 of 1 completed\n"
     ]
    },
    {
     "name": "stdout",
     "output_type": "stream",
     "text": [
      "Downloading data for HLT\n"
     ]
    },
    {
     "name": "stderr",
     "output_type": "stream",
     "text": [
      "[*********************100%%**********************]  1 of 1 completed\n"
     ]
    },
    {
     "name": "stdout",
     "output_type": "stream",
     "text": [
      "Downloading data for AZO\n"
     ]
    },
    {
     "name": "stderr",
     "output_type": "stream",
     "text": [
      "[*********************100%%**********************]  1 of 1 completed\n"
     ]
    },
    {
     "name": "stdout",
     "output_type": "stream",
     "text": [
      "Downloading data for TFC\n"
     ]
    },
    {
     "name": "stderr",
     "output_type": "stream",
     "text": [
      "[*********************100%%**********************]  1 of 1 completed\n"
     ]
    },
    {
     "name": "stdout",
     "output_type": "stream",
     "text": [
      "Downloading data for MMM\n"
     ]
    },
    {
     "name": "stderr",
     "output_type": "stream",
     "text": [
      "[*********************100%%**********************]  1 of 1 completed\n",
      "[*********************100%%**********************]  1 of 1 completed\n"
     ]
    },
    {
     "name": "stdout",
     "output_type": "stream",
     "text": [
      "Downloading data for CARR\n",
      "Downloading data for MCHP\n"
     ]
    },
    {
     "name": "stderr",
     "output_type": "stream",
     "text": [
      "[*********************100%%**********************]  1 of 1 completed\n"
     ]
    },
    {
     "name": "stdout",
     "output_type": "stream",
     "text": [
      "Downloading data for AJG\n"
     ]
    },
    {
     "name": "stderr",
     "output_type": "stream",
     "text": [
      "[*********************100%%**********************]  1 of 1 completed\n"
     ]
    },
    {
     "name": "stdout",
     "output_type": "stream",
     "text": [
      "Downloading data for F\n"
     ]
    },
    {
     "name": "stderr",
     "output_type": "stream",
     "text": [
      "[*********************100%%**********************]  1 of 1 completed\n"
     ]
    },
    {
     "name": "stdout",
     "output_type": "stream",
     "text": [
      "Downloading data for NEM\n"
     ]
    },
    {
     "name": "stderr",
     "output_type": "stream",
     "text": [
      "[*********************100%%**********************]  1 of 1 completed\n"
     ]
    },
    {
     "name": "stdout",
     "output_type": "stream",
     "text": [
      "Downloading data for TRV\n"
     ]
    },
    {
     "name": "stderr",
     "output_type": "stream",
     "text": [
      "[*********************100%%**********************]  1 of 1 completed\n"
     ]
    },
    {
     "name": "stdout",
     "output_type": "stream",
     "text": [
      "Downloading data for CPRT\n"
     ]
    },
    {
     "name": "stderr",
     "output_type": "stream",
     "text": [
      "[*********************100%%**********************]  1 of 1 completed\n"
     ]
    },
    {
     "name": "stdout",
     "output_type": "stream",
     "text": [
      "Downloading data for DXCM\n"
     ]
    },
    {
     "name": "stderr",
     "output_type": "stream",
     "text": [
      "[*********************100%%**********************]  1 of 1 completed\n"
     ]
    },
    {
     "name": "stdout",
     "output_type": "stream",
     "text": [
      "Downloading data for WMB\n"
     ]
    },
    {
     "name": "stderr",
     "output_type": "stream",
     "text": [
      "[*********************100%%**********************]  1 of 1 completed\n"
     ]
    },
    {
     "name": "stdout",
     "output_type": "stream",
     "text": [
      "Downloading data for OKE\n"
     ]
    },
    {
     "name": "stderr",
     "output_type": "stream",
     "text": [
      "[*********************100%%**********************]  1 of 1 completed\n"
     ]
    },
    {
     "name": "stdout",
     "output_type": "stream",
     "text": [
      "Downloading data for URI\n"
     ]
    },
    {
     "name": "stderr",
     "output_type": "stream",
     "text": [
      "[*********************100%%**********************]  1 of 1 completed\n"
     ]
    },
    {
     "name": "stdout",
     "output_type": "stream",
     "text": [
      "Downloading data for ADSK\n"
     ]
    },
    {
     "name": "stderr",
     "output_type": "stream",
     "text": [
      "[*********************100%%**********************]  1 of 1 completed\n"
     ]
    },
    {
     "name": "stdout",
     "output_type": "stream",
     "text": [
      "Downloading data for SPG\n"
     ]
    },
    {
     "name": "stderr",
     "output_type": "stream",
     "text": [
      "[*********************100%%**********************]  1 of 1 completed\n"
     ]
    },
    {
     "name": "stdout",
     "output_type": "stream",
     "text": [
      "Downloading data for KMB\n"
     ]
    },
    {
     "name": "stderr",
     "output_type": "stream",
     "text": [
      "[*********************100%%**********************]  1 of 1 completed\n"
     ]
    },
    {
     "name": "stdout",
     "output_type": "stream",
     "text": [
      "Downloading data for ROST\n"
     ]
    },
    {
     "name": "stderr",
     "output_type": "stream",
     "text": [
      "[*********************100%%**********************]  1 of 1 completed\n"
     ]
    },
    {
     "name": "stdout",
     "output_type": "stream",
     "text": [
      "Downloading data for HES\n"
     ]
    },
    {
     "name": "stderr",
     "output_type": "stream",
     "text": [
      "[*********************100%%**********************]  1 of 1 completed\n"
     ]
    },
    {
     "name": "stdout",
     "output_type": "stream",
     "text": [
      "Downloading data for SRE\n"
     ]
    },
    {
     "name": "stderr",
     "output_type": "stream",
     "text": [
      "[*********************100%%**********************]  1 of 1 completed\n"
     ]
    },
    {
     "name": "stdout",
     "output_type": "stream",
     "text": [
      "Downloading data for AEP\n"
     ]
    },
    {
     "name": "stderr",
     "output_type": "stream",
     "text": [
      "[*********************100%%**********************]  1 of 1 completed\n"
     ]
    },
    {
     "name": "stdout",
     "output_type": "stream",
     "text": [
      "Downloading data for OXY\n"
     ]
    },
    {
     "name": "stderr",
     "output_type": "stream",
     "text": [
      "[*********************100%%**********************]  1 of 1 completed\n"
     ]
    },
    {
     "name": "stdout",
     "output_type": "stream",
     "text": [
      "Downloading data for O\n"
     ]
    },
    {
     "name": "stderr",
     "output_type": "stream",
     "text": [
      "[*********************100%%**********************]  1 of 1 completed\n"
     ]
    },
    {
     "name": "stdout",
     "output_type": "stream",
     "text": [
      "Downloading data for ALL\n"
     ]
    },
    {
     "name": "stderr",
     "output_type": "stream",
     "text": [
      "[*********************100%%**********************]  1 of 1 completed\n"
     ]
    },
    {
     "name": "stdout",
     "output_type": "stream",
     "text": [
      "Downloading data for AFL\n"
     ]
    },
    {
     "name": "stderr",
     "output_type": "stream",
     "text": [
      "[*********************100%%**********************]  1 of 1 completed\n"
     ]
    },
    {
     "name": "stdout",
     "output_type": "stream",
     "text": [
      "Downloading data for JCI\n"
     ]
    },
    {
     "name": "stderr",
     "output_type": "stream",
     "text": [
      "[*********************100%%**********************]  1 of 1 completed\n"
     ]
    },
    {
     "name": "stdout",
     "output_type": "stream",
     "text": [
      "Downloading data for DHI\n"
     ]
    },
    {
     "name": "stderr",
     "output_type": "stream",
     "text": [
      "[*********************100%%**********************]  1 of 1 completed\n"
     ]
    },
    {
     "name": "stdout",
     "output_type": "stream",
     "text": [
      "Downloading data for TEL\n"
     ]
    },
    {
     "name": "stderr",
     "output_type": "stream",
     "text": [
      "[*********************100%%**********************]  1 of 1 completed\n"
     ]
    },
    {
     "name": "stdout",
     "output_type": "stream",
     "text": [
      "Downloading data for BK\n"
     ]
    },
    {
     "name": "stderr",
     "output_type": "stream",
     "text": [
      "[*********************100%%**********************]  1 of 1 completed\n"
     ]
    },
    {
     "name": "stdout",
     "output_type": "stream",
     "text": [
      "Downloading data for DLR\n"
     ]
    },
    {
     "name": "stderr",
     "output_type": "stream",
     "text": [
      "[*********************100%%**********************]  1 of 1 completed\n"
     ]
    },
    {
     "name": "stdout",
     "output_type": "stream",
     "text": [
      "Downloading data for MET\n"
     ]
    },
    {
     "name": "stderr",
     "output_type": "stream",
     "text": [
      "[*********************100%%**********************]  1 of 1 completed\n",
      "[*********************100%%**********************]  1 of 1 completed"
     ]
    },
    {
     "name": "stdout",
     "output_type": "stream",
     "text": [
      "Downloading data for SMCI\n"
     ]
    },
    {
     "name": "stderr",
     "output_type": "stream",
     "text": [
      "\n"
     ]
    },
    {
     "name": "stdout",
     "output_type": "stream",
     "text": [
      "Downloading data for NUE\n"
     ]
    },
    {
     "name": "stderr",
     "output_type": "stream",
     "text": [
      "[*********************100%%**********************]  1 of 1 completed\n"
     ]
    },
    {
     "name": "stdout",
     "output_type": "stream",
     "text": [
      "Downloading data for IQV\n"
     ]
    },
    {
     "name": "stderr",
     "output_type": "stream",
     "text": [
      "[*********************100%%**********************]  1 of 1 completed\n"
     ]
    },
    {
     "name": "stdout",
     "output_type": "stream",
     "text": [
      "Downloading data for D\n"
     ]
    },
    {
     "name": "stderr",
     "output_type": "stream",
     "text": [
      "[*********************100%%**********************]  1 of 1 completed\n"
     ]
    },
    {
     "name": "stdout",
     "output_type": "stream",
     "text": [
      "Downloading data for STZ\n"
     ]
    },
    {
     "name": "stderr",
     "output_type": "stream",
     "text": [
      "[*********************100%%**********************]  1 of 1 completed\n",
      "[*********************100%%**********************]  1 of 1 completed"
     ]
    },
    {
     "name": "stdout",
     "output_type": "stream",
     "text": [
      "Downloading data for LULU\n"
     ]
    },
    {
     "name": "stderr",
     "output_type": "stream",
     "text": [
      "\n"
     ]
    },
    {
     "name": "stdout",
     "output_type": "stream",
     "text": [
      "Downloading data for GEV\n"
     ]
    },
    {
     "name": "stderr",
     "output_type": "stream",
     "text": [
      "[*********************100%%**********************]  1 of 1 completed\n",
      "\n",
      "1 Failed download:\n",
      "['GEV']: Exception(\"%ticker%: Data doesn't exist for startDate = 946702800, endDate = 1711944000\")\n"
     ]
    },
    {
     "name": "stdout",
     "output_type": "stream",
     "text": [
      "Downloading data for IDXX\n"
     ]
    },
    {
     "name": "stderr",
     "output_type": "stream",
     "text": [
      "[*********************100%%**********************]  1 of 1 completed\n"
     ]
    },
    {
     "name": "stdout",
     "output_type": "stream",
     "text": [
      "Downloading data for AMP\n"
     ]
    },
    {
     "name": "stderr",
     "output_type": "stream",
     "text": [
      "[*********************100%%**********************]  1 of 1 completed\n"
     ]
    },
    {
     "name": "stdout",
     "output_type": "stream",
     "text": [
      "Downloading data for FIS\n"
     ]
    },
    {
     "name": "stderr",
     "output_type": "stream",
     "text": [
      "[*********************100%%**********************]  1 of 1 completed\n"
     ]
    },
    {
     "name": "stdout",
     "output_type": "stream",
     "text": [
      "Downloading data for GWW\n"
     ]
    },
    {
     "name": "stderr",
     "output_type": "stream",
     "text": [
      "[*********************100%%**********************]  1 of 1 completed\n"
     ]
    },
    {
     "name": "stdout",
     "output_type": "stream",
     "text": [
      "Downloading data for AME\n"
     ]
    },
    {
     "name": "stderr",
     "output_type": "stream",
     "text": [
      "[*********************100%%**********************]  1 of 1 completed\n",
      "[*********************100%%**********************]  1 of 1 completed"
     ]
    },
    {
     "name": "stdout",
     "output_type": "stream",
     "text": [
      "Downloading data for FTNT\n"
     ]
    },
    {
     "name": "stderr",
     "output_type": "stream",
     "text": [
      "\n"
     ]
    },
    {
     "name": "stdout",
     "output_type": "stream",
     "text": [
      "Downloading data for PSA\n"
     ]
    },
    {
     "name": "stderr",
     "output_type": "stream",
     "text": [
      "[*********************100%%**********************]  1 of 1 completed\n"
     ]
    },
    {
     "name": "stdout",
     "output_type": "stream",
     "text": [
      "Downloading data for LHX\n"
     ]
    },
    {
     "name": "stderr",
     "output_type": "stream",
     "text": [
      "[*********************100%%**********************]  1 of 1 completed\n"
     ]
    },
    {
     "name": "stdout",
     "output_type": "stream",
     "text": [
      "Downloading data for CCI\n"
     ]
    },
    {
     "name": "stderr",
     "output_type": "stream",
     "text": [
      "[*********************100%%**********************]  1 of 1 completed\n"
     ]
    },
    {
     "name": "stdout",
     "output_type": "stream",
     "text": [
      "Downloading data for A\n"
     ]
    },
    {
     "name": "stderr",
     "output_type": "stream",
     "text": [
      "[*********************100%%**********************]  1 of 1 completed\n"
     ]
    },
    {
     "name": "stdout",
     "output_type": "stream",
     "text": [
      "Downloading data for GIS\n"
     ]
    },
    {
     "name": "stderr",
     "output_type": "stream",
     "text": [
      "[*********************100%%**********************]  1 of 1 completed\n",
      "[*********************100%%**********************]  1 of 1 completed\n"
     ]
    },
    {
     "name": "stdout",
     "output_type": "stream",
     "text": [
      "Downloading data for DOW\n",
      "Downloading data for COR\n"
     ]
    },
    {
     "name": "stderr",
     "output_type": "stream",
     "text": [
      "[*********************100%%**********************]  1 of 1 completed\n"
     ]
    },
    {
     "name": "stdout",
     "output_type": "stream",
     "text": [
      "Downloading data for PRU\n"
     ]
    },
    {
     "name": "stderr",
     "output_type": "stream",
     "text": [
      "[*********************100%%**********************]  1 of 1 completed\n"
     ]
    },
    {
     "name": "stdout",
     "output_type": "stream",
     "text": [
      "Downloading data for YUM\n"
     ]
    },
    {
     "name": "stderr",
     "output_type": "stream",
     "text": [
      "[*********************100%%**********************]  1 of 1 completed\n"
     ]
    },
    {
     "name": "stdout",
     "output_type": "stream",
     "text": [
      "Downloading data for CMI\n"
     ]
    },
    {
     "name": "stderr",
     "output_type": "stream",
     "text": [
      "[*********************100%%**********************]  1 of 1 completed\n"
     ]
    },
    {
     "name": "stdout",
     "output_type": "stream",
     "text": [
      "Downloading data for CNC\n"
     ]
    },
    {
     "name": "stderr",
     "output_type": "stream",
     "text": [
      "[*********************100%%**********************]  1 of 1 completed\n"
     ]
    },
    {
     "name": "stdout",
     "output_type": "stream",
     "text": [
      "Downloading data for MNST\n"
     ]
    },
    {
     "name": "stderr",
     "output_type": "stream",
     "text": [
      "[*********************100%%**********************]  1 of 1 completed\n"
     ]
    },
    {
     "name": "stdout",
     "output_type": "stream",
     "text": [
      "Downloading data for RSG\n"
     ]
    },
    {
     "name": "stderr",
     "output_type": "stream",
     "text": [
      "[*********************100%%**********************]  1 of 1 completed\n"
     ]
    },
    {
     "name": "stdout",
     "output_type": "stream",
     "text": [
      "Downloading data for FAST\n"
     ]
    },
    {
     "name": "stderr",
     "output_type": "stream",
     "text": [
      "[*********************100%%**********************]  1 of 1 completed\n"
     ]
    },
    {
     "name": "stdout",
     "output_type": "stream",
     "text": [
      "Downloading data for SYY\n"
     ]
    },
    {
     "name": "stderr",
     "output_type": "stream",
     "text": [
      "[*********************100%%**********************]  1 of 1 completed\n",
      "[*********************100%%**********************]  1 of 1 completed"
     ]
    },
    {
     "name": "stdout",
     "output_type": "stream",
     "text": [
      "Downloading data for CTVA\n"
     ]
    },
    {
     "name": "stderr",
     "output_type": "stream",
     "text": [
      "\n"
     ]
    },
    {
     "name": "stdout",
     "output_type": "stream",
     "text": [
      "Downloading data for LEN\n"
     ]
    },
    {
     "name": "stderr",
     "output_type": "stream",
     "text": [
      "[*********************100%%**********************]  1 of 1 completed\n"
     ]
    },
    {
     "name": "stdout",
     "output_type": "stream",
     "text": [
      "Downloading data for PAYX\n"
     ]
    },
    {
     "name": "stderr",
     "output_type": "stream",
     "text": [
      "[*********************100%%**********************]  1 of 1 completed\n"
     ]
    },
    {
     "name": "stdout",
     "output_type": "stream",
     "text": [
      "Downloading data for PWR\n"
     ]
    },
    {
     "name": "stderr",
     "output_type": "stream",
     "text": [
      "[*********************100%%**********************]  1 of 1 completed\n",
      "[*********************100%%**********************]  1 of 1 completed\n"
     ]
    },
    {
     "name": "stdout",
     "output_type": "stream",
     "text": [
      "Downloading data for IR\n",
      "Downloading data for MSCI\n"
     ]
    },
    {
     "name": "stderr",
     "output_type": "stream",
     "text": [
      "[*********************100%%**********************]  1 of 1 completed\n"
     ]
    },
    {
     "name": "stdout",
     "output_type": "stream",
     "text": [
      "Downloading data for CSGP\n"
     ]
    },
    {
     "name": "stderr",
     "output_type": "stream",
     "text": [
      "[*********************100%%**********************]  1 of 1 completed\n",
      "[*********************100%%**********************]  1 of 1 completed\n"
     ]
    },
    {
     "name": "stdout",
     "output_type": "stream",
     "text": [
      "Downloading data for OTIS\n",
      "Downloading data for HUM\n"
     ]
    },
    {
     "name": "stderr",
     "output_type": "stream",
     "text": [
      "[*********************100%%**********************]  1 of 1 completed\n"
     ]
    },
    {
     "name": "stdout",
     "output_type": "stream",
     "text": [
      "Downloading data for MLM\n"
     ]
    },
    {
     "name": "stderr",
     "output_type": "stream",
     "text": [
      "[*********************100%%**********************]  1 of 1 completed\n"
     ]
    },
    {
     "name": "stdout",
     "output_type": "stream",
     "text": [
      "Downloading data for FANG\n"
     ]
    },
    {
     "name": "stderr",
     "output_type": "stream",
     "text": [
      "[*********************100%%**********************]  1 of 1 completed\n"
     ]
    },
    {
     "name": "stdout",
     "output_type": "stream",
     "text": [
      "Downloading data for EXC\n"
     ]
    },
    {
     "name": "stderr",
     "output_type": "stream",
     "text": [
      "[*********************100%%**********************]  1 of 1 completed\n",
      "[*********************100%%**********************]  1 of 1 completed\n"
     ]
    },
    {
     "name": "stdout",
     "output_type": "stream",
     "text": [
      "Downloading data for GEHC\n",
      "Downloading data for PCG\n"
     ]
    },
    {
     "name": "stderr",
     "output_type": "stream",
     "text": [
      "[*********************100%%**********************]  1 of 1 completed\n"
     ]
    },
    {
     "name": "stdout",
     "output_type": "stream",
     "text": [
      "Downloading data for KR\n"
     ]
    },
    {
     "name": "stderr",
     "output_type": "stream",
     "text": [
      "[*********************100%%**********************]  1 of 1 completed\n",
      "[*********************100%%**********************]  1 of 1 completed"
     ]
    },
    {
     "name": "stdout",
     "output_type": "stream",
     "text": [
      "Downloading data for MRNA\n",
      "Downloading data for KMI\n"
     ]
    },
    {
     "name": "stderr",
     "output_type": "stream",
     "text": [
      "\n",
      "[*********************100%%**********************]  1 of 1 completed\n"
     ]
    },
    {
     "name": "stdout",
     "output_type": "stream",
     "text": [
      "Downloading data for KDP\n"
     ]
    },
    {
     "name": "stderr",
     "output_type": "stream",
     "text": [
      "[*********************100%%**********************]  1 of 1 completed\n"
     ]
    },
    {
     "name": "stdout",
     "output_type": "stream",
     "text": [
      "Downloading data for IT\n"
     ]
    },
    {
     "name": "stderr",
     "output_type": "stream",
     "text": [
      "[*********************100%%**********************]  1 of 1 completed\n"
     ]
    },
    {
     "name": "stdout",
     "output_type": "stream",
     "text": [
      "Downloading data for VMC\n"
     ]
    },
    {
     "name": "stderr",
     "output_type": "stream",
     "text": [
      "[*********************100%%**********************]  1 of 1 completed\n"
     ]
    },
    {
     "name": "stdout",
     "output_type": "stream",
     "text": [
      "Downloading data for HAL\n"
     ]
    },
    {
     "name": "stderr",
     "output_type": "stream",
     "text": [
      "[*********************100%%**********************]  1 of 1 completed\n"
     ]
    },
    {
     "name": "stdout",
     "output_type": "stream",
     "text": [
      "Downloading data for EL\n"
     ]
    },
    {
     "name": "stderr",
     "output_type": "stream",
     "text": [
      "[*********************100%%**********************]  1 of 1 completed\n"
     ]
    },
    {
     "name": "stdout",
     "output_type": "stream",
     "text": [
      "Downloading data for DVN\n"
     ]
    },
    {
     "name": "stderr",
     "output_type": "stream",
     "text": [
      "[*********************100%%**********************]  1 of 1 completed\n"
     ]
    },
    {
     "name": "stdout",
     "output_type": "stream",
     "text": [
      "Downloading data for PEG\n"
     ]
    },
    {
     "name": "stderr",
     "output_type": "stream",
     "text": [
      "[*********************100%%**********************]  1 of 1 completed\n"
     ]
    },
    {
     "name": "stdout",
     "output_type": "stream",
     "text": [
      "Downloading data for ACGL\n"
     ]
    },
    {
     "name": "stderr",
     "output_type": "stream",
     "text": [
      "[*********************100%%**********************]  1 of 1 completed\n"
     ]
    },
    {
     "name": "stdout",
     "output_type": "stream",
     "text": [
      "Downloading data for CTSH\n"
     ]
    },
    {
     "name": "stderr",
     "output_type": "stream",
     "text": [
      "[*********************100%%**********************]  1 of 1 completed\n"
     ]
    },
    {
     "name": "stdout",
     "output_type": "stream",
     "text": [
      "Downloading data for RCL\n"
     ]
    },
    {
     "name": "stderr",
     "output_type": "stream",
     "text": [
      "[*********************100%%**********************]  1 of 1 completed\n"
     ]
    },
    {
     "name": "stdout",
     "output_type": "stream",
     "text": [
      "Downloading data for BKR\n"
     ]
    },
    {
     "name": "stderr",
     "output_type": "stream",
     "text": [
      "[*********************100%%**********************]  1 of 1 completed\n"
     ]
    },
    {
     "name": "stdout",
     "output_type": "stream",
     "text": [
      "Downloading data for ODFL\n"
     ]
    },
    {
     "name": "stderr",
     "output_type": "stream",
     "text": [
      "[*********************100%%**********************]  1 of 1 completed\n",
      "[*********************100%%**********************]  1 of 1 completed\n"
     ]
    },
    {
     "name": "stdout",
     "output_type": "stream",
     "text": [
      "Downloading data for KVUE\n",
      "Downloading data for CDW\n"
     ]
    },
    {
     "name": "stderr",
     "output_type": "stream",
     "text": [
      "[*********************100%%**********************]  1 of 1 completed\n"
     ]
    },
    {
     "name": "stdout",
     "output_type": "stream",
     "text": [
      "Downloading data for GPN\n"
     ]
    },
    {
     "name": "stderr",
     "output_type": "stream",
     "text": [
      "[*********************100%%**********************]  1 of 1 completed\n"
     ]
    },
    {
     "name": "stdout",
     "output_type": "stream",
     "text": [
      "Downloading data for MPWR\n"
     ]
    },
    {
     "name": "stderr",
     "output_type": "stream",
     "text": [
      "[*********************100%%**********************]  1 of 1 completed\n"
     ]
    },
    {
     "name": "stdout",
     "output_type": "stream",
     "text": [
      "Downloading data for ROK\n"
     ]
    },
    {
     "name": "stderr",
     "output_type": "stream",
     "text": [
      "[*********************100%%**********************]  1 of 1 completed\n"
     ]
    },
    {
     "name": "stdout",
     "output_type": "stream",
     "text": [
      "Downloading data for DAL\n"
     ]
    },
    {
     "name": "stderr",
     "output_type": "stream",
     "text": [
      "[*********************100%%**********************]  1 of 1 completed\n"
     ]
    },
    {
     "name": "stdout",
     "output_type": "stream",
     "text": [
      "Downloading data for ED\n"
     ]
    },
    {
     "name": "stderr",
     "output_type": "stream",
     "text": [
      "[*********************100%%**********************]  1 of 1 completed\n"
     ]
    },
    {
     "name": "stdout",
     "output_type": "stream",
     "text": [
      "Downloading data for VRSK\n"
     ]
    },
    {
     "name": "stderr",
     "output_type": "stream",
     "text": [
      "[*********************100%%**********************]  1 of 1 completed\n"
     ]
    },
    {
     "name": "stdout",
     "output_type": "stream",
     "text": [
      "Downloading data for ADM\n"
     ]
    },
    {
     "name": "stderr",
     "output_type": "stream",
     "text": [
      "[*********************100%%**********************]  1 of 1 completed\n"
     ]
    },
    {
     "name": "stdout",
     "output_type": "stream",
     "text": [
      "Downloading data for RMD\n"
     ]
    },
    {
     "name": "stderr",
     "output_type": "stream",
     "text": [
      "[*********************100%%**********************]  1 of 1 completed\n"
     ]
    },
    {
     "name": "stdout",
     "output_type": "stream",
     "text": [
      "Downloading data for DFS\n"
     ]
    },
    {
     "name": "stderr",
     "output_type": "stream",
     "text": [
      "[*********************100%%**********************]  1 of 1 completed\n"
     ]
    },
    {
     "name": "stdout",
     "output_type": "stream",
     "text": [
      "Downloading data for DD\n"
     ]
    },
    {
     "name": "stderr",
     "output_type": "stream",
     "text": [
      "[*********************100%%**********************]  1 of 1 completed\n"
     ]
    },
    {
     "name": "stdout",
     "output_type": "stream",
     "text": [
      "Downloading data for XYL\n"
     ]
    },
    {
     "name": "stderr",
     "output_type": "stream",
     "text": [
      "[*********************100%%**********************]  1 of 1 completed\n"
     ]
    },
    {
     "name": "stdout",
     "output_type": "stream",
     "text": [
      "Downloading data for EA\n"
     ]
    },
    {
     "name": "stderr",
     "output_type": "stream",
     "text": [
      "[*********************100%%**********************]  1 of 1 completed\n"
     ]
    },
    {
     "name": "stdout",
     "output_type": "stream",
     "text": [
      "Downloading data for DG\n"
     ]
    },
    {
     "name": "stderr",
     "output_type": "stream",
     "text": [
      "[*********************100%%**********************]  1 of 1 completed\n"
     ]
    },
    {
     "name": "stdout",
     "output_type": "stream",
     "text": [
      "Downloading data for PPG\n"
     ]
    },
    {
     "name": "stderr",
     "output_type": "stream",
     "text": [
      "[*********************100%%**********************]  1 of 1 completed\n"
     ]
    },
    {
     "name": "stdout",
     "output_type": "stream",
     "text": [
      "Downloading data for KHC\n"
     ]
    },
    {
     "name": "stderr",
     "output_type": "stream",
     "text": [
      "[*********************100%%**********************]  1 of 1 completed\n"
     ]
    },
    {
     "name": "stdout",
     "output_type": "stream",
     "text": [
      "Downloading data for BIIB\n"
     ]
    },
    {
     "name": "stderr",
     "output_type": "stream",
     "text": [
      "[*********************100%%**********************]  1 of 1 completed\n"
     ]
    },
    {
     "name": "stdout",
     "output_type": "stream",
     "text": [
      "Downloading data for XEL\n"
     ]
    },
    {
     "name": "stderr",
     "output_type": "stream",
     "text": [
      "[*********************100%%**********************]  1 of 1 completed\n"
     ]
    },
    {
     "name": "stdout",
     "output_type": "stream",
     "text": [
      "Downloading data for TSCO\n"
     ]
    },
    {
     "name": "stderr",
     "output_type": "stream",
     "text": [
      "[*********************100%%**********************]  1 of 1 completed\n"
     ]
    },
    {
     "name": "stdout",
     "output_type": "stream",
     "text": [
      "Downloading data for WAB\n"
     ]
    },
    {
     "name": "stderr",
     "output_type": "stream",
     "text": [
      "[*********************100%%**********************]  1 of 1 completed\n"
     ]
    },
    {
     "name": "stdout",
     "output_type": "stream",
     "text": [
      "Downloading data for VICI\n"
     ]
    },
    {
     "name": "stderr",
     "output_type": "stream",
     "text": [
      "[*********************100%%**********************]  1 of 1 completed\n"
     ]
    },
    {
     "name": "stdout",
     "output_type": "stream",
     "text": [
      "Downloading data for ON\n"
     ]
    },
    {
     "name": "stderr",
     "output_type": "stream",
     "text": [
      "[*********************100%%**********************]  1 of 1 completed\n"
     ]
    },
    {
     "name": "stdout",
     "output_type": "stream",
     "text": [
      "Downloading data for ANSS\n"
     ]
    },
    {
     "name": "stderr",
     "output_type": "stream",
     "text": [
      "[*********************100%%**********************]  1 of 1 completed\n"
     ]
    },
    {
     "name": "stdout",
     "output_type": "stream",
     "text": [
      "Downloading data for HIG\n"
     ]
    },
    {
     "name": "stderr",
     "output_type": "stream",
     "text": [
      "[*********************100%%**********************]  1 of 1 completed\n"
     ]
    },
    {
     "name": "stdout",
     "output_type": "stream",
     "text": [
      "Downloading data for EXR\n"
     ]
    },
    {
     "name": "stderr",
     "output_type": "stream",
     "text": [
      "[*********************100%%**********************]  1 of 1 completed\n"
     ]
    },
    {
     "name": "stdout",
     "output_type": "stream",
     "text": [
      "Downloading data for HSY\n"
     ]
    },
    {
     "name": "stderr",
     "output_type": "stream",
     "text": [
      "[*********************100%%**********************]  1 of 1 completed\n"
     ]
    },
    {
     "name": "stdout",
     "output_type": "stream",
     "text": [
      "Downloading data for FICO\n"
     ]
    },
    {
     "name": "stderr",
     "output_type": "stream",
     "text": [
      "[*********************100%%**********************]  1 of 1 completed\n"
     ]
    },
    {
     "name": "stdout",
     "output_type": "stream",
     "text": [
      "Downloading data for EFX\n"
     ]
    },
    {
     "name": "stderr",
     "output_type": "stream",
     "text": [
      "[*********************100%%**********************]  1 of 1 completed\n"
     ]
    },
    {
     "name": "stdout",
     "output_type": "stream",
     "text": [
      "Downloading data for EBAY\n"
     ]
    },
    {
     "name": "stderr",
     "output_type": "stream",
     "text": [
      "[*********************100%%**********************]  1 of 1 completed\n"
     ]
    },
    {
     "name": "stdout",
     "output_type": "stream",
     "text": [
      "Downloading data for AVB\n"
     ]
    },
    {
     "name": "stderr",
     "output_type": "stream",
     "text": [
      "[*********************100%%**********************]  1 of 1 completed\n"
     ]
    },
    {
     "name": "stdout",
     "output_type": "stream",
     "text": [
      "Downloading data for EIX\n"
     ]
    },
    {
     "name": "stderr",
     "output_type": "stream",
     "text": [
      "[*********************100%%**********************]  1 of 1 completed\n"
     ]
    },
    {
     "name": "stdout",
     "output_type": "stream",
     "text": [
      "Downloading data for MTD\n"
     ]
    },
    {
     "name": "stderr",
     "output_type": "stream",
     "text": [
      "[*********************100%%**********************]  1 of 1 completed\n"
     ]
    },
    {
     "name": "stdout",
     "output_type": "stream",
     "text": [
      "Downloading data for FTV\n"
     ]
    },
    {
     "name": "stderr",
     "output_type": "stream",
     "text": [
      "[*********************100%%**********************]  1 of 1 completed\n"
     ]
    },
    {
     "name": "stdout",
     "output_type": "stream",
     "text": [
      "Downloading data for WST\n"
     ]
    },
    {
     "name": "stderr",
     "output_type": "stream",
     "text": [
      "[*********************100%%**********************]  1 of 1 completed\n"
     ]
    },
    {
     "name": "stdout",
     "output_type": "stream",
     "text": [
      "Downloading data for KEYS\n"
     ]
    },
    {
     "name": "stderr",
     "output_type": "stream",
     "text": [
      "[*********************100%%**********************]  1 of 1 completed\n"
     ]
    },
    {
     "name": "stdout",
     "output_type": "stream",
     "text": [
      "Downloading data for CHD\n"
     ]
    },
    {
     "name": "stderr",
     "output_type": "stream",
     "text": [
      "[*********************100%%**********************]  1 of 1 completed\n"
     ]
    },
    {
     "name": "stdout",
     "output_type": "stream",
     "text": [
      "Downloading data for HWM\n"
     ]
    },
    {
     "name": "stderr",
     "output_type": "stream",
     "text": [
      "[*********************100%%**********************]  1 of 1 completed\n"
     ]
    },
    {
     "name": "stdout",
     "output_type": "stream",
     "text": [
      "Downloading data for CBRE\n"
     ]
    },
    {
     "name": "stderr",
     "output_type": "stream",
     "text": [
      "[*********************100%%**********************]  1 of 1 completed\n"
     ]
    },
    {
     "name": "stdout",
     "output_type": "stream",
     "text": [
      "Downloading data for LYB\n"
     ]
    },
    {
     "name": "stderr",
     "output_type": "stream",
     "text": [
      "[*********************100%%**********************]  1 of 1 completed\n"
     ]
    },
    {
     "name": "stdout",
     "output_type": "stream",
     "text": [
      "Downloading data for WTW\n"
     ]
    },
    {
     "name": "stderr",
     "output_type": "stream",
     "text": [
      "[*********************100%%**********************]  1 of 1 completed\n"
     ]
    },
    {
     "name": "stdout",
     "output_type": "stream",
     "text": [
      "Downloading data for TRGP\n"
     ]
    },
    {
     "name": "stderr",
     "output_type": "stream",
     "text": [
      "[*********************100%%**********************]  1 of 1 completed\n"
     ]
    },
    {
     "name": "stdout",
     "output_type": "stream",
     "text": [
      "Downloading data for WEC\n"
     ]
    },
    {
     "name": "stderr",
     "output_type": "stream",
     "text": [
      "[*********************100%%**********************]  1 of 1 completed\n"
     ]
    },
    {
     "name": "stdout",
     "output_type": "stream",
     "text": [
      "Downloading data for TROW\n"
     ]
    },
    {
     "name": "stderr",
     "output_type": "stream",
     "text": [
      "[*********************100%%**********************]  1 of 1 completed\n"
     ]
    },
    {
     "name": "stdout",
     "output_type": "stream",
     "text": [
      "Downloading data for CAH\n"
     ]
    },
    {
     "name": "stderr",
     "output_type": "stream",
     "text": [
      "[*********************100%%**********************]  1 of 1 completed\n"
     ]
    },
    {
     "name": "stdout",
     "output_type": "stream",
     "text": [
      "Downloading data for DLTR\n"
     ]
    },
    {
     "name": "stderr",
     "output_type": "stream",
     "text": [
      "[*********************100%%**********************]  1 of 1 completed\n"
     ]
    },
    {
     "name": "stdout",
     "output_type": "stream",
     "text": [
      "Downloading data for DOV\n"
     ]
    },
    {
     "name": "stderr",
     "output_type": "stream",
     "text": [
      "[*********************100%%**********************]  1 of 1 completed\n"
     ]
    },
    {
     "name": "stdout",
     "output_type": "stream",
     "text": [
      "Downloading data for FITB\n"
     ]
    },
    {
     "name": "stderr",
     "output_type": "stream",
     "text": [
      "[*********************100%%**********************]  1 of 1 completed\n"
     ]
    },
    {
     "name": "stdout",
     "output_type": "stream",
     "text": [
      "Downloading data for CHTR\n"
     ]
    },
    {
     "name": "stderr",
     "output_type": "stream",
     "text": [
      "[*********************100%%**********************]  1 of 1 completed\n"
     ]
    },
    {
     "name": "stdout",
     "output_type": "stream",
     "text": [
      "Downloading data for ZBH\n"
     ]
    },
    {
     "name": "stderr",
     "output_type": "stream",
     "text": [
      "[*********************100%%**********************]  1 of 1 completed\n"
     ]
    },
    {
     "name": "stdout",
     "output_type": "stream",
     "text": [
      "Downloading data for PHM\n"
     ]
    },
    {
     "name": "stderr",
     "output_type": "stream",
     "text": [
      "[*********************100%%**********************]  1 of 1 completed\n"
     ]
    },
    {
     "name": "stdout",
     "output_type": "stream",
     "text": [
      "Downloading data for NVR\n"
     ]
    },
    {
     "name": "stderr",
     "output_type": "stream",
     "text": [
      "[*********************100%%**********************]  1 of 1 completed\n"
     ]
    },
    {
     "name": "stdout",
     "output_type": "stream",
     "text": [
      "Downloading data for MTB\n"
     ]
    },
    {
     "name": "stderr",
     "output_type": "stream",
     "text": [
      "[*********************100%%**********************]  1 of 1 completed\n"
     ]
    },
    {
     "name": "stdout",
     "output_type": "stream",
     "text": [
      "Downloading data for HPQ\n"
     ]
    },
    {
     "name": "stderr",
     "output_type": "stream",
     "text": [
      "[*********************100%%**********************]  1 of 1 completed\n"
     ]
    },
    {
     "name": "stdout",
     "output_type": "stream",
     "text": [
      "Downloading data for GLW\n"
     ]
    },
    {
     "name": "stderr",
     "output_type": "stream",
     "text": [
      "[*********************100%%**********************]  1 of 1 completed\n"
     ]
    },
    {
     "name": "stdout",
     "output_type": "stream",
     "text": [
      "Downloading data for AWK\n"
     ]
    },
    {
     "name": "stderr",
     "output_type": "stream",
     "text": [
      "[*********************100%%**********************]  1 of 1 completed\n",
      "[*********************100%%**********************]  1 of 1 completed"
     ]
    },
    {
     "name": "stdout",
     "output_type": "stream",
     "text": [
      "Downloading data for BLDR\n"
     ]
    },
    {
     "name": "stderr",
     "output_type": "stream",
     "text": [
      "\n"
     ]
    },
    {
     "name": "stdout",
     "output_type": "stream",
     "text": [
      "Downloading data for RJF\n"
     ]
    },
    {
     "name": "stderr",
     "output_type": "stream",
     "text": [
      "[*********************100%%**********************]  1 of 1 completed\n"
     ]
    },
    {
     "name": "stdout",
     "output_type": "stream",
     "text": [
      "Downloading data for WDC\n"
     ]
    },
    {
     "name": "stderr",
     "output_type": "stream",
     "text": [
      "[*********************100%%**********************]  1 of 1 completed\n"
     ]
    },
    {
     "name": "stdout",
     "output_type": "stream",
     "text": [
      "Downloading data for TTWO\n"
     ]
    },
    {
     "name": "stderr",
     "output_type": "stream",
     "text": [
      "[*********************100%%**********************]  1 of 1 completed\n"
     ]
    },
    {
     "name": "stdout",
     "output_type": "stream",
     "text": [
      "Downloading data for BR\n"
     ]
    },
    {
     "name": "stderr",
     "output_type": "stream",
     "text": [
      "[*********************100%%**********************]  1 of 1 completed\n"
     ]
    },
    {
     "name": "stdout",
     "output_type": "stream",
     "text": [
      "Downloading data for NDAQ\n"
     ]
    },
    {
     "name": "stderr",
     "output_type": "stream",
     "text": [
      "[*********************100%%**********************]  1 of 1 completed\n"
     ]
    },
    {
     "name": "stdout",
     "output_type": "stream",
     "text": [
      "Downloading data for WY\n"
     ]
    },
    {
     "name": "stderr",
     "output_type": "stream",
     "text": [
      "[*********************100%%**********************]  1 of 1 completed\n"
     ]
    },
    {
     "name": "stdout",
     "output_type": "stream",
     "text": [
      "Downloading data for STT\n"
     ]
    },
    {
     "name": "stderr",
     "output_type": "stream",
     "text": [
      "[*********************100%%**********************]  1 of 1 completed\n"
     ]
    },
    {
     "name": "stdout",
     "output_type": "stream",
     "text": [
      "Downloading data for IRM\n"
     ]
    },
    {
     "name": "stderr",
     "output_type": "stream",
     "text": [
      "[*********************100%%**********************]  1 of 1 completed\n"
     ]
    },
    {
     "name": "stdout",
     "output_type": "stream",
     "text": [
      "Downloading data for DTE\n"
     ]
    },
    {
     "name": "stderr",
     "output_type": "stream",
     "text": [
      "[*********************100%%**********************]  1 of 1 completed\n"
     ]
    },
    {
     "name": "stdout",
     "output_type": "stream",
     "text": [
      "Downloading data for ETR\n"
     ]
    },
    {
     "name": "stderr",
     "output_type": "stream",
     "text": [
      "[*********************100%%**********************]  1 of 1 completed\n"
     ]
    },
    {
     "name": "stdout",
     "output_type": "stream",
     "text": [
      "Downloading data for GPC\n"
     ]
    },
    {
     "name": "stderr",
     "output_type": "stream",
     "text": [
      "[*********************100%%**********************]  1 of 1 completed\n"
     ]
    },
    {
     "name": "stdout",
     "output_type": "stream",
     "text": [
      "Downloading data for EQR\n"
     ]
    },
    {
     "name": "stderr",
     "output_type": "stream",
     "text": [
      "[*********************100%%**********************]  1 of 1 completed\n"
     ]
    },
    {
     "name": "stdout",
     "output_type": "stream",
     "text": [
      "Downloading data for ALGN\n"
     ]
    },
    {
     "name": "stderr",
     "output_type": "stream",
     "text": [
      "[*********************100%%**********************]  1 of 1 completed\n",
      "[*********************100%%**********************]  1 of 1 completed"
     ]
    },
    {
     "name": "stdout",
     "output_type": "stream",
     "text": [
      "Downloading data for HPE\n"
     ]
    },
    {
     "name": "stderr",
     "output_type": "stream",
     "text": [
      "\n"
     ]
    },
    {
     "name": "stdout",
     "output_type": "stream",
     "text": [
      "Downloading data for GRMN\n"
     ]
    },
    {
     "name": "stderr",
     "output_type": "stream",
     "text": [
      "[*********************100%%**********************]  1 of 1 completed\n",
      "[*********************100%%**********************]  1 of 1 completed"
     ]
    },
    {
     "name": "stdout",
     "output_type": "stream",
     "text": [
      "Downloading data for CPAY\n",
      "Downloading data for BALL\n"
     ]
    },
    {
     "name": "stderr",
     "output_type": "stream",
     "text": [
      "\n",
      "[*********************100%%**********************]  1 of 1 completed\n"
     ]
    },
    {
     "name": "stdout",
     "output_type": "stream",
     "text": [
      "Downloading data for HUBB\n"
     ]
    },
    {
     "name": "stderr",
     "output_type": "stream",
     "text": [
      "[*********************100%%**********************]  1 of 1 completed\n"
     ]
    },
    {
     "name": "stdout",
     "output_type": "stream",
     "text": [
      "Downloading data for AXON\n"
     ]
    },
    {
     "name": "stderr",
     "output_type": "stream",
     "text": [
      "[*********************100%%**********************]  1 of 1 completed\n"
     ]
    },
    {
     "name": "stdout",
     "output_type": "stream",
     "text": [
      "Downloading data for IFF\n"
     ]
    },
    {
     "name": "stderr",
     "output_type": "stream",
     "text": [
      "[*********************100%%**********************]  1 of 1 completed\n"
     ]
    },
    {
     "name": "stdout",
     "output_type": "stream",
     "text": [
      "Downloading data for PTC\n"
     ]
    },
    {
     "name": "stderr",
     "output_type": "stream",
     "text": [
      "[*********************100%%**********************]  1 of 1 completed\n"
     ]
    },
    {
     "name": "stdout",
     "output_type": "stream",
     "text": [
      "Downloading data for DECK\n"
     ]
    },
    {
     "name": "stderr",
     "output_type": "stream",
     "text": [
      "[*********************100%%**********************]  1 of 1 completed\n"
     ]
    },
    {
     "name": "stdout",
     "output_type": "stream",
     "text": [
      "Downloading data for CTRA\n"
     ]
    },
    {
     "name": "stderr",
     "output_type": "stream",
     "text": [
      "[*********************100%%**********************]  1 of 1 completed\n"
     ]
    },
    {
     "name": "stdout",
     "output_type": "stream",
     "text": [
      "Downloading data for SBAC\n"
     ]
    },
    {
     "name": "stderr",
     "output_type": "stream",
     "text": [
      "[*********************100%%**********************]  1 of 1 completed\n"
     ]
    },
    {
     "name": "stdout",
     "output_type": "stream",
     "text": [
      "Downloading data for NTAP\n"
     ]
    },
    {
     "name": "stderr",
     "output_type": "stream",
     "text": [
      "[*********************100%%**********************]  1 of 1 completed\n"
     ]
    },
    {
     "name": "stdout",
     "output_type": "stream",
     "text": [
      "Downloading data for ES\n"
     ]
    },
    {
     "name": "stderr",
     "output_type": "stream",
     "text": [
      "[*********************100%%**********************]  1 of 1 completed\n",
      "[*********************100%%**********************]  1 of 1 completed\n"
     ]
    },
    {
     "name": "stdout",
     "output_type": "stream",
     "text": [
      "Downloading data for VLTO\n",
      "Downloading data for STLD\n"
     ]
    },
    {
     "name": "stderr",
     "output_type": "stream",
     "text": [
      "[*********************100%%**********************]  1 of 1 completed\n"
     ]
    },
    {
     "name": "stdout",
     "output_type": "stream",
     "text": [
      "Downloading data for BAX\n"
     ]
    },
    {
     "name": "stderr",
     "output_type": "stream",
     "text": [
      "[*********************100%%**********************]  1 of 1 completed\n"
     ]
    },
    {
     "name": "stdout",
     "output_type": "stream",
     "text": [
      "Downloading data for APTV\n"
     ]
    },
    {
     "name": "stderr",
     "output_type": "stream",
     "text": [
      "[*********************100%%**********************]  1 of 1 completed\n"
     ]
    },
    {
     "name": "stdout",
     "output_type": "stream",
     "text": [
      "Downloading data for STE\n"
     ]
    },
    {
     "name": "stderr",
     "output_type": "stream",
     "text": [
      "[*********************100%%**********************]  1 of 1 completed\n",
      "[*********************100%%**********************]  1 of 1 completed"
     ]
    },
    {
     "name": "stdout",
     "output_type": "stream",
     "text": [
      "Downloading data for INVH\n"
     ]
    },
    {
     "name": "stderr",
     "output_type": "stream",
     "text": [
      "\n"
     ]
    },
    {
     "name": "stdout",
     "output_type": "stream",
     "text": [
      "Downloading data for ULTA\n"
     ]
    },
    {
     "name": "stderr",
     "output_type": "stream",
     "text": [
      "[*********************100%%**********************]  1 of 1 completed\n"
     ]
    },
    {
     "name": "stdout",
     "output_type": "stream",
     "text": [
      "Downloading data for MOH\n"
     ]
    },
    {
     "name": "stderr",
     "output_type": "stream",
     "text": [
      "[*********************100%%**********************]  1 of 1 completed\n"
     ]
    },
    {
     "name": "stdout",
     "output_type": "stream",
     "text": [
      "Downloading data for PPL\n"
     ]
    },
    {
     "name": "stderr",
     "output_type": "stream",
     "text": [
      "[*********************100%%**********************]  1 of 1 completed\n"
     ]
    },
    {
     "name": "stdout",
     "output_type": "stream",
     "text": [
      "Downloading data for FE\n"
     ]
    },
    {
     "name": "stderr",
     "output_type": "stream",
     "text": [
      "[*********************100%%**********************]  1 of 1 completed\n"
     ]
    },
    {
     "name": "stdout",
     "output_type": "stream",
     "text": [
      "Downloading data for HBAN\n"
     ]
    },
    {
     "name": "stderr",
     "output_type": "stream",
     "text": [
      "[*********************100%%**********************]  1 of 1 completed\n"
     ]
    },
    {
     "name": "stdout",
     "output_type": "stream",
     "text": [
      "Downloading data for ILMN\n"
     ]
    },
    {
     "name": "stderr",
     "output_type": "stream",
     "text": [
      "[*********************100%%**********************]  1 of 1 completed\n"
     ]
    },
    {
     "name": "stdout",
     "output_type": "stream",
     "text": [
      "Downloading data for TYL\n"
     ]
    },
    {
     "name": "stderr",
     "output_type": "stream",
     "text": [
      "[*********************100%%**********************]  1 of 1 completed\n"
     ]
    },
    {
     "name": "stdout",
     "output_type": "stream",
     "text": [
      "Downloading data for BRO\n"
     ]
    },
    {
     "name": "stderr",
     "output_type": "stream",
     "text": [
      "[*********************100%%**********************]  1 of 1 completed\n"
     ]
    },
    {
     "name": "stdout",
     "output_type": "stream",
     "text": [
      "Downloading data for FSLR\n"
     ]
    },
    {
     "name": "stderr",
     "output_type": "stream",
     "text": [
      "[*********************100%%**********************]  1 of 1 completed\n"
     ]
    },
    {
     "name": "stdout",
     "output_type": "stream",
     "text": [
      "Downloading data for AEE\n"
     ]
    },
    {
     "name": "stderr",
     "output_type": "stream",
     "text": [
      "[*********************100%%**********************]  1 of 1 completed\n"
     ]
    },
    {
     "name": "stdout",
     "output_type": "stream",
     "text": [
      "Downloading data for MKC\n"
     ]
    },
    {
     "name": "stderr",
     "output_type": "stream",
     "text": [
      "[*********************100%%**********************]  1 of 1 completed\n"
     ]
    },
    {
     "name": "stdout",
     "output_type": "stream",
     "text": [
      "Downloading data for OMC\n"
     ]
    },
    {
     "name": "stderr",
     "output_type": "stream",
     "text": [
      "[*********************100%%**********************]  1 of 1 completed\n"
     ]
    },
    {
     "name": "stdout",
     "output_type": "stream",
     "text": [
      "Downloading data for CBOE\n"
     ]
    },
    {
     "name": "stderr",
     "output_type": "stream",
     "text": [
      "[*********************100%%**********************]  1 of 1 completed\n"
     ]
    },
    {
     "name": "stdout",
     "output_type": "stream",
     "text": [
      "Downloading data for DRI\n"
     ]
    },
    {
     "name": "stderr",
     "output_type": "stream",
     "text": [
      "[*********************100%%**********************]  1 of 1 completed\n"
     ]
    },
    {
     "name": "stdout",
     "output_type": "stream",
     "text": [
      "Downloading data for SYF\n"
     ]
    },
    {
     "name": "stderr",
     "output_type": "stream",
     "text": [
      "[*********************100%%**********************]  1 of 1 completed\n"
     ]
    },
    {
     "name": "stdout",
     "output_type": "stream",
     "text": [
      "Downloading data for WAT\n"
     ]
    },
    {
     "name": "stderr",
     "output_type": "stream",
     "text": [
      "[*********************100%%**********************]  1 of 1 completed\n"
     ]
    },
    {
     "name": "stdout",
     "output_type": "stream",
     "text": [
      "Downloading data for J\n"
     ]
    },
    {
     "name": "stderr",
     "output_type": "stream",
     "text": [
      "[*********************100%%**********************]  1 of 1 completed\n"
     ]
    },
    {
     "name": "stdout",
     "output_type": "stream",
     "text": [
      "Downloading data for RF\n"
     ]
    },
    {
     "name": "stderr",
     "output_type": "stream",
     "text": [
      "[*********************100%%**********************]  1 of 1 completed\n"
     ]
    },
    {
     "name": "stdout",
     "output_type": "stream",
     "text": [
      "Downloading data for CNP\n"
     ]
    },
    {
     "name": "stderr",
     "output_type": "stream",
     "text": [
      "[*********************100%%**********************]  1 of 1 completed\n"
     ]
    },
    {
     "name": "stdout",
     "output_type": "stream",
     "text": [
      "Downloading data for CLX\n"
     ]
    },
    {
     "name": "stderr",
     "output_type": "stream",
     "text": [
      "[*********************100%%**********************]  1 of 1 completed\n"
     ]
    },
    {
     "name": "stdout",
     "output_type": "stream",
     "text": [
      "Downloading data for ARE\n"
     ]
    },
    {
     "name": "stderr",
     "output_type": "stream",
     "text": [
      "[*********************100%%**********************]  1 of 1 completed\n"
     ]
    },
    {
     "name": "stdout",
     "output_type": "stream",
     "text": [
      "Downloading data for EXPE\n"
     ]
    },
    {
     "name": "stderr",
     "output_type": "stream",
     "text": [
      "[*********************100%%**********************]  1 of 1 completed\n"
     ]
    },
    {
     "name": "stdout",
     "output_type": "stream",
     "text": [
      "Downloading data for WBD\n"
     ]
    },
    {
     "name": "stderr",
     "output_type": "stream",
     "text": [
      "[*********************100%%**********************]  1 of 1 completed\n"
     ]
    },
    {
     "name": "stdout",
     "output_type": "stream",
     "text": [
      "Downloading data for HOLX\n"
     ]
    },
    {
     "name": "stderr",
     "output_type": "stream",
     "text": [
      "[*********************100%%**********************]  1 of 1 completed\n"
     ]
    },
    {
     "name": "stdout",
     "output_type": "stream",
     "text": [
      "Downloading data for LDOS\n"
     ]
    },
    {
     "name": "stderr",
     "output_type": "stream",
     "text": [
      "[*********************100%%**********************]  1 of 1 completed\n"
     ]
    },
    {
     "name": "stdout",
     "output_type": "stream",
     "text": [
      "Downloading data for AVY\n"
     ]
    },
    {
     "name": "stderr",
     "output_type": "stream",
     "text": [
      "[*********************100%%**********************]  1 of 1 completed\n"
     ]
    },
    {
     "name": "stdout",
     "output_type": "stream",
     "text": [
      "Downloading data for VTR\n"
     ]
    },
    {
     "name": "stderr",
     "output_type": "stream",
     "text": [
      "[*********************100%%**********************]  1 of 1 completed\n"
     ]
    },
    {
     "name": "stdout",
     "output_type": "stream",
     "text": [
      "Downloading data for TDY\n"
     ]
    },
    {
     "name": "stderr",
     "output_type": "stream",
     "text": [
      "[*********************100%%**********************]  1 of 1 completed\n"
     ]
    },
    {
     "name": "stdout",
     "output_type": "stream",
     "text": [
      "Downloading data for COO\n"
     ]
    },
    {
     "name": "stderr",
     "output_type": "stream",
     "text": [
      "[*********************100%%**********************]  1 of 1 completed\n"
     ]
    },
    {
     "name": "stdout",
     "output_type": "stream",
     "text": [
      "Downloading data for TER\n"
     ]
    },
    {
     "name": "stderr",
     "output_type": "stream",
     "text": [
      "[*********************100%%**********************]  1 of 1 completed\n"
     ]
    },
    {
     "name": "stdout",
     "output_type": "stream",
     "text": [
      "Downloading data for CINF\n"
     ]
    },
    {
     "name": "stderr",
     "output_type": "stream",
     "text": [
      "[*********************100%%**********************]  1 of 1 completed\n"
     ]
    },
    {
     "name": "stdout",
     "output_type": "stream",
     "text": [
      "Downloading data for DPZ\n"
     ]
    },
    {
     "name": "stderr",
     "output_type": "stream",
     "text": [
      "[*********************100%%**********************]  1 of 1 completed\n"
     ]
    },
    {
     "name": "stdout",
     "output_type": "stream",
     "text": [
      "Downloading data for ATO\n"
     ]
    },
    {
     "name": "stderr",
     "output_type": "stream",
     "text": [
      "[*********************100%%**********************]  1 of 1 completed\n"
     ]
    },
    {
     "name": "stdout",
     "output_type": "stream",
     "text": [
      "Downloading data for CMS\n"
     ]
    },
    {
     "name": "stderr",
     "output_type": "stream",
     "text": [
      "[*********************100%%**********************]  1 of 1 completed\n"
     ]
    },
    {
     "name": "stdout",
     "output_type": "stream",
     "text": [
      "Downloading data for PFG\n"
     ]
    },
    {
     "name": "stderr",
     "output_type": "stream",
     "text": [
      "[*********************100%%**********************]  1 of 1 completed\n"
     ]
    },
    {
     "name": "stdout",
     "output_type": "stream",
     "text": [
      "Downloading data for TSN\n"
     ]
    },
    {
     "name": "stderr",
     "output_type": "stream",
     "text": [
      "[*********************100%%**********************]  1 of 1 completed\n"
     ]
    },
    {
     "name": "stdout",
     "output_type": "stream",
     "text": [
      "Downloading data for UAL\n"
     ]
    },
    {
     "name": "stderr",
     "output_type": "stream",
     "text": [
      "[*********************100%%**********************]  1 of 1 completed\n"
     ]
    },
    {
     "name": "stdout",
     "output_type": "stream",
     "text": [
      "Downloading data for NTRS\n"
     ]
    },
    {
     "name": "stderr",
     "output_type": "stream",
     "text": [
      "[*********************100%%**********************]  1 of 1 completed\n"
     ]
    },
    {
     "name": "stdout",
     "output_type": "stream",
     "text": [
      "Downloading data for TXT\n"
     ]
    },
    {
     "name": "stderr",
     "output_type": "stream",
     "text": [
      "[*********************100%%**********************]  1 of 1 completed\n"
     ]
    },
    {
     "name": "stdout",
     "output_type": "stream",
     "text": [
      "Downloading data for LH\n"
     ]
    },
    {
     "name": "stderr",
     "output_type": "stream",
     "text": [
      "[*********************100%%**********************]  1 of 1 completed\n"
     ]
    },
    {
     "name": "stdout",
     "output_type": "stream",
     "text": [
      "Downloading data for LVS\n"
     ]
    },
    {
     "name": "stderr",
     "output_type": "stream",
     "text": [
      "[*********************100%%**********************]  1 of 1 completed\n"
     ]
    },
    {
     "name": "stdout",
     "output_type": "stream",
     "text": [
      "Downloading data for EQT\n"
     ]
    },
    {
     "name": "stderr",
     "output_type": "stream",
     "text": [
      "[*********************100%%**********************]  1 of 1 completed\n"
     ]
    },
    {
     "name": "stdout",
     "output_type": "stream",
     "text": [
      "Downloading data for SWKS\n"
     ]
    },
    {
     "name": "stderr",
     "output_type": "stream",
     "text": [
      "[*********************100%%**********************]  1 of 1 completed\n"
     ]
    },
    {
     "name": "stdout",
     "output_type": "stream",
     "text": [
      "Downloading data for STX\n"
     ]
    },
    {
     "name": "stderr",
     "output_type": "stream",
     "text": [
      "[*********************100%%**********************]  1 of 1 completed\n"
     ]
    },
    {
     "name": "stdout",
     "output_type": "stream",
     "text": [
      "Downloading data for IEX\n"
     ]
    },
    {
     "name": "stderr",
     "output_type": "stream",
     "text": [
      "[*********************100%%**********************]  1 of 1 completed\n"
     ]
    },
    {
     "name": "stdout",
     "output_type": "stream",
     "text": [
      "Downloading data for EXPD\n"
     ]
    },
    {
     "name": "stderr",
     "output_type": "stream",
     "text": [
      "[*********************100%%**********************]  1 of 1 completed\n"
     ]
    },
    {
     "name": "stdout",
     "output_type": "stream",
     "text": [
      "Downloading data for NRG\n"
     ]
    },
    {
     "name": "stderr",
     "output_type": "stream",
     "text": [
      "[*********************100%%**********************]  1 of 1 completed\n"
     ]
    },
    {
     "name": "stdout",
     "output_type": "stream",
     "text": [
      "Downloading data for CFG\n"
     ]
    },
    {
     "name": "stderr",
     "output_type": "stream",
     "text": [
      "[*********************100%%**********************]  1 of 1 completed\n"
     ]
    },
    {
     "name": "stdout",
     "output_type": "stream",
     "text": [
      "Downloading data for MRO\n"
     ]
    },
    {
     "name": "stderr",
     "output_type": "stream",
     "text": [
      "[*********************100%%**********************]  1 of 1 completed\n"
     ]
    },
    {
     "name": "stdout",
     "output_type": "stream",
     "text": [
      "Downloading data for LUV\n"
     ]
    },
    {
     "name": "stderr",
     "output_type": "stream",
     "text": [
      "[*********************100%%**********************]  1 of 1 completed\n"
     ]
    },
    {
     "name": "stdout",
     "output_type": "stream",
     "text": [
      "Downloading data for FDS\n"
     ]
    },
    {
     "name": "stderr",
     "output_type": "stream",
     "text": [
      "[*********************100%%**********************]  1 of 1 completed\n"
     ]
    },
    {
     "name": "stdout",
     "output_type": "stream",
     "text": [
      "Downloading data for ESS\n"
     ]
    },
    {
     "name": "stderr",
     "output_type": "stream",
     "text": [
      "[*********************100%%**********************]  1 of 1 completed\n"
     ]
    },
    {
     "name": "stdout",
     "output_type": "stream",
     "text": [
      "Downloading data for EG\n"
     ]
    },
    {
     "name": "stderr",
     "output_type": "stream",
     "text": [
      "[*********************100%%**********************]  1 of 1 completed\n"
     ]
    },
    {
     "name": "stdout",
     "output_type": "stream",
     "text": [
      "Downloading data for MAS\n"
     ]
    },
    {
     "name": "stderr",
     "output_type": "stream",
     "text": [
      "[*********************100%%**********************]  1 of 1 completed\n"
     ]
    },
    {
     "name": "stdout",
     "output_type": "stream",
     "text": [
      "Downloading data for WRB\n"
     ]
    },
    {
     "name": "stderr",
     "output_type": "stream",
     "text": [
      "[*********************100%%**********************]  1 of 1 completed\n"
     ]
    },
    {
     "name": "stdout",
     "output_type": "stream",
     "text": [
      "Downloading data for VRSN\n"
     ]
    },
    {
     "name": "stderr",
     "output_type": "stream",
     "text": [
      "[*********************100%%**********************]  1 of 1 completed\n"
     ]
    },
    {
     "name": "stdout",
     "output_type": "stream",
     "text": [
      "Downloading data for PKG\n"
     ]
    },
    {
     "name": "stderr",
     "output_type": "stream",
     "text": [
      "[*********************100%%**********************]  1 of 1 completed\n"
     ]
    },
    {
     "name": "stdout",
     "output_type": "stream",
     "text": [
      "Downloading data for CE\n"
     ]
    },
    {
     "name": "stderr",
     "output_type": "stream",
     "text": [
      "[*********************100%%**********************]  1 of 1 completed\n",
      "[*********************100%%**********************]  1 of 1 completed"
     ]
    },
    {
     "name": "stdout",
     "output_type": "stream",
     "text": [
      "Downloading data for AKAM\n"
     ]
    },
    {
     "name": "stderr",
     "output_type": "stream",
     "text": [
      "\n"
     ]
    },
    {
     "name": "stdout",
     "output_type": "stream",
     "text": [
      "Downloading data for CF\n"
     ]
    },
    {
     "name": "stderr",
     "output_type": "stream",
     "text": [
      "[*********************100%%**********************]  1 of 1 completed\n"
     ]
    },
    {
     "name": "stdout",
     "output_type": "stream",
     "text": [
      "Downloading data for ENPH\n"
     ]
    },
    {
     "name": "stderr",
     "output_type": "stream",
     "text": [
      "[*********************100%%**********************]  1 of 1 completed\n"
     ]
    },
    {
     "name": "stdout",
     "output_type": "stream",
     "text": [
      "Downloading data for ZBRA\n"
     ]
    },
    {
     "name": "stderr",
     "output_type": "stream",
     "text": [
      "[*********************100%%**********************]  1 of 1 completed\n"
     ]
    },
    {
     "name": "stdout",
     "output_type": "stream",
     "text": [
      "Downloading data for K\n"
     ]
    },
    {
     "name": "stderr",
     "output_type": "stream",
     "text": [
      "[*********************100%%**********************]  1 of 1 completed\n"
     ]
    },
    {
     "name": "stdout",
     "output_type": "stream",
     "text": [
      "Downloading data for CCL\n"
     ]
    },
    {
     "name": "stderr",
     "output_type": "stream",
     "text": [
      "[*********************100%%**********************]  1 of 1 completed\n"
     ]
    },
    {
     "name": "stdout",
     "output_type": "stream",
     "text": [
      "Downloading data for JBL\n"
     ]
    },
    {
     "name": "stderr",
     "output_type": "stream",
     "text": [
      "[*********************100%%**********************]  1 of 1 completed\n"
     ]
    },
    {
     "name": "stdout",
     "output_type": "stream",
     "text": [
      "Downloading data for MAA\n"
     ]
    },
    {
     "name": "stderr",
     "output_type": "stream",
     "text": [
      "[*********************100%%**********************]  1 of 1 completed\n"
     ]
    },
    {
     "name": "stdout",
     "output_type": "stream",
     "text": [
      "Downloading data for TRMB\n"
     ]
    },
    {
     "name": "stderr",
     "output_type": "stream",
     "text": [
      "[*********************100%%**********************]  1 of 1 completed\n"
     ]
    },
    {
     "name": "stdout",
     "output_type": "stream",
     "text": [
      "Downloading data for DGX\n"
     ]
    },
    {
     "name": "stderr",
     "output_type": "stream",
     "text": [
      "[*********************100%%**********************]  1 of 1 completed\n"
     ]
    },
    {
     "name": "stdout",
     "output_type": "stream",
     "text": [
      "Downloading data for BG\n"
     ]
    },
    {
     "name": "stderr",
     "output_type": "stream",
     "text": [
      "[*********************100%%**********************]  1 of 1 completed\n"
     ]
    },
    {
     "name": "stdout",
     "output_type": "stream",
     "text": [
      "Downloading data for CAG\n"
     ]
    },
    {
     "name": "stderr",
     "output_type": "stream",
     "text": [
      "[*********************100%%**********************]  1 of 1 completed\n"
     ]
    },
    {
     "name": "stdout",
     "output_type": "stream",
     "text": [
      "Downloading data for BBY\n"
     ]
    },
    {
     "name": "stderr",
     "output_type": "stream",
     "text": [
      "[*********************100%%**********************]  1 of 1 completed\n"
     ]
    },
    {
     "name": "stdout",
     "output_type": "stream",
     "text": [
      "Downloading data for POOL\n"
     ]
    },
    {
     "name": "stderr",
     "output_type": "stream",
     "text": [
      "[*********************100%%**********************]  1 of 1 completed\n"
     ]
    },
    {
     "name": "stdout",
     "output_type": "stream",
     "text": [
      "Downloading data for SNA\n"
     ]
    },
    {
     "name": "stderr",
     "output_type": "stream",
     "text": [
      "[*********************100%%**********************]  1 of 1 completed\n"
     ]
    },
    {
     "name": "stdout",
     "output_type": "stream",
     "text": [
      "Downloading data for NDSN\n"
     ]
    },
    {
     "name": "stderr",
     "output_type": "stream",
     "text": [
      "[*********************100%%**********************]  1 of 1 completed\n"
     ]
    },
    {
     "name": "stdout",
     "output_type": "stream",
     "text": [
      "Downloading data for VTRS\n"
     ]
    },
    {
     "name": "stderr",
     "output_type": "stream",
     "text": [
      "[*********************100%%**********************]  1 of 1 completed\n"
     ]
    },
    {
     "name": "stdout",
     "output_type": "stream",
     "text": [
      "Downloading data for L\n"
     ]
    },
    {
     "name": "stderr",
     "output_type": "stream",
     "text": [
      "[*********************100%%**********************]  1 of 1 completed\n"
     ]
    },
    {
     "name": "stdout",
     "output_type": "stream",
     "text": [
      "Downloading data for SWK\n"
     ]
    },
    {
     "name": "stderr",
     "output_type": "stream",
     "text": [
      "[*********************100%%**********************]  1 of 1 completed\n"
     ]
    },
    {
     "name": "stdout",
     "output_type": "stream",
     "text": [
      "Downloading data for KEY\n"
     ]
    },
    {
     "name": "stderr",
     "output_type": "stream",
     "text": [
      "[*********************100%%**********************]  1 of 1 completed\n"
     ]
    },
    {
     "name": "stdout",
     "output_type": "stream",
     "text": [
      "Downloading data for ALB\n"
     ]
    },
    {
     "name": "stderr",
     "output_type": "stream",
     "text": [
      "[*********************100%%**********************]  1 of 1 completed\n"
     ]
    },
    {
     "name": "stdout",
     "output_type": "stream",
     "text": [
      "Downloading data for EPAM\n"
     ]
    },
    {
     "name": "stderr",
     "output_type": "stream",
     "text": [
      "[*********************100%%**********************]  1 of 1 completed\n"
     ]
    },
    {
     "name": "stdout",
     "output_type": "stream",
     "text": [
      "Downloading data for HST\n"
     ]
    },
    {
     "name": "stderr",
     "output_type": "stream",
     "text": [
      "[*********************100%%**********************]  1 of 1 completed\n"
     ]
    },
    {
     "name": "stdout",
     "output_type": "stream",
     "text": [
      "Downloading data for DOC\n"
     ]
    },
    {
     "name": "stderr",
     "output_type": "stream",
     "text": [
      "[*********************100%%**********************]  1 of 1 completed\n"
     ]
    },
    {
     "name": "stdout",
     "output_type": "stream",
     "text": [
      "Downloading data for JBHT\n"
     ]
    },
    {
     "name": "stderr",
     "output_type": "stream",
     "text": [
      "[*********************100%%**********************]  1 of 1 completed\n"
     ]
    },
    {
     "name": "stdout",
     "output_type": "stream",
     "text": [
      "Downloading data for PNR\n"
     ]
    },
    {
     "name": "stderr",
     "output_type": "stream",
     "text": [
      "[*********************100%%**********************]  1 of 1 completed\n"
     ]
    },
    {
     "name": "stdout",
     "output_type": "stream",
     "text": [
      "Downloading data for AMCR\n"
     ]
    },
    {
     "name": "stderr",
     "output_type": "stream",
     "text": [
      "[*********************100%%**********************]  1 of 1 completed\n",
      "[*********************100%%**********************]  1 of 1 completed"
     ]
    },
    {
     "name": "stdout",
     "output_type": "stream",
     "text": [
      "Downloading data for LYV\n"
     ]
    },
    {
     "name": "stderr",
     "output_type": "stream",
     "text": [
      "\n"
     ]
    },
    {
     "name": "stdout",
     "output_type": "stream",
     "text": [
      "Downloading data for WBA\n"
     ]
    },
    {
     "name": "stderr",
     "output_type": "stream",
     "text": [
      "[*********************100%%**********************]  1 of 1 completed\n"
     ]
    },
    {
     "name": "stdout",
     "output_type": "stream",
     "text": [
      "Downloading data for ROL\n"
     ]
    },
    {
     "name": "stderr",
     "output_type": "stream",
     "text": [
      "[*********************100%%**********************]  1 of 1 completed\n"
     ]
    },
    {
     "name": "stdout",
     "output_type": "stream",
     "text": [
      "Downloading data for RVTY\n"
     ]
    },
    {
     "name": "stderr",
     "output_type": "stream",
     "text": [
      "[*********************100%%**********************]  1 of 1 completed\n"
     ]
    },
    {
     "name": "stdout",
     "output_type": "stream",
     "text": [
      "Downloading data for LNT\n"
     ]
    },
    {
     "name": "stderr",
     "output_type": "stream",
     "text": [
      "[*********************100%%**********************]  1 of 1 completed\n"
     ]
    },
    {
     "name": "stdout",
     "output_type": "stream",
     "text": [
      "Downloading data for KIM\n"
     ]
    },
    {
     "name": "stderr",
     "output_type": "stream",
     "text": [
      "[*********************100%%**********************]  1 of 1 completed\n"
     ]
    },
    {
     "name": "stdout",
     "output_type": "stream",
     "text": [
      "Downloading data for IPG\n"
     ]
    },
    {
     "name": "stderr",
     "output_type": "stream",
     "text": [
      "[*********************100%%**********************]  1 of 1 completed\n"
     ]
    },
    {
     "name": "stdout",
     "output_type": "stream",
     "text": [
      "Downloading data for LW\n"
     ]
    },
    {
     "name": "stderr",
     "output_type": "stream",
     "text": [
      "[*********************100%%**********************]  1 of 1 completed\n"
     ]
    },
    {
     "name": "stdout",
     "output_type": "stream",
     "text": [
      "Downloading data for JKHY\n"
     ]
    },
    {
     "name": "stderr",
     "output_type": "stream",
     "text": [
      "[*********************100%%**********************]  1 of 1 completed\n",
      "[*********************100%%**********************]  1 of 1 completed"
     ]
    },
    {
     "name": "stdout",
     "output_type": "stream",
     "text": [
      "Downloading data for WRK\n"
     ]
    },
    {
     "name": "stderr",
     "output_type": "stream",
     "text": [
      "\n"
     ]
    },
    {
     "name": "stdout",
     "output_type": "stream",
     "text": [
      "Downloading data for EVRG\n"
     ]
    },
    {
     "name": "stderr",
     "output_type": "stream",
     "text": [
      "[*********************100%%**********************]  1 of 1 completed\n"
     ]
    },
    {
     "name": "stdout",
     "output_type": "stream",
     "text": [
      "Downloading data for IP\n"
     ]
    },
    {
     "name": "stderr",
     "output_type": "stream",
     "text": [
      "[*********************100%%**********************]  1 of 1 completed\n"
     ]
    },
    {
     "name": "stdout",
     "output_type": "stream",
     "text": [
      "Downloading data for LKQ\n"
     ]
    },
    {
     "name": "stderr",
     "output_type": "stream",
     "text": [
      "[*********************100%%**********************]  1 of 1 completed\n",
      "[*********************100%%**********************]  1 of 1 completed"
     ]
    },
    {
     "name": "stdout",
     "output_type": "stream",
     "text": [
      "Downloading data for CRL\n"
     ]
    },
    {
     "name": "stderr",
     "output_type": "stream",
     "text": [
      "\n"
     ]
    },
    {
     "name": "stdout",
     "output_type": "stream",
     "text": [
      "Downloading data for SJM\n"
     ]
    },
    {
     "name": "stderr",
     "output_type": "stream",
     "text": [
      "[*********************100%%**********************]  1 of 1 completed\n"
     ]
    },
    {
     "name": "stdout",
     "output_type": "stream",
     "text": [
      "Downloading data for GEN\n"
     ]
    },
    {
     "name": "stderr",
     "output_type": "stream",
     "text": [
      "[*********************100%%**********************]  1 of 1 completed\n"
     ]
    },
    {
     "name": "stdout",
     "output_type": "stream",
     "text": [
      "Downloading data for TAP\n"
     ]
    },
    {
     "name": "stderr",
     "output_type": "stream",
     "text": [
      "[*********************100%%**********************]  1 of 1 completed\n"
     ]
    },
    {
     "name": "stdout",
     "output_type": "stream",
     "text": [
      "Downloading data for PODD\n"
     ]
    },
    {
     "name": "stderr",
     "output_type": "stream",
     "text": [
      "[*********************100%%**********************]  1 of 1 completed\n"
     ]
    },
    {
     "name": "stdout",
     "output_type": "stream",
     "text": [
      "Downloading data for AES\n"
     ]
    },
    {
     "name": "stderr",
     "output_type": "stream",
     "text": [
      "[*********************100%%**********************]  1 of 1 completed\n"
     ]
    },
    {
     "name": "stdout",
     "output_type": "stream",
     "text": [
      "Downloading data for UDR\n"
     ]
    },
    {
     "name": "stderr",
     "output_type": "stream",
     "text": [
      "[*********************100%%**********************]  1 of 1 completed\n",
      "[*********************100%%**********************]  1 of 1 completed"
     ]
    },
    {
     "name": "stdout",
     "output_type": "stream",
     "text": [
      "Downloading data for QRVO\n"
     ]
    },
    {
     "name": "stderr",
     "output_type": "stream",
     "text": [
      "\n"
     ]
    },
    {
     "name": "stdout",
     "output_type": "stream",
     "text": [
      "Downloading data for EMN\n"
     ]
    },
    {
     "name": "stderr",
     "output_type": "stream",
     "text": [
      "[*********************100%%**********************]  1 of 1 completed\n"
     ]
    },
    {
     "name": "stdout",
     "output_type": "stream",
     "text": [
      "Downloading data for MGM\n"
     ]
    },
    {
     "name": "stderr",
     "output_type": "stream",
     "text": [
      "[*********************100%%**********************]  1 of 1 completed\n"
     ]
    },
    {
     "name": "stdout",
     "output_type": "stream",
     "text": [
      "Downloading data for NI\n"
     ]
    },
    {
     "name": "stderr",
     "output_type": "stream",
     "text": [
      "[*********************100%%**********************]  1 of 1 completed\n"
     ]
    },
    {
     "name": "stdout",
     "output_type": "stream",
     "text": [
      "Downloading data for JNPR\n"
     ]
    },
    {
     "name": "stderr",
     "output_type": "stream",
     "text": [
      "[*********************100%%**********************]  1 of 1 completed\n"
     ]
    },
    {
     "name": "stdout",
     "output_type": "stream",
     "text": [
      "Downloading data for KMX\n"
     ]
    },
    {
     "name": "stderr",
     "output_type": "stream",
     "text": [
      "[*********************100%%**********************]  1 of 1 completed\n"
     ]
    },
    {
     "name": "stdout",
     "output_type": "stream",
     "text": [
      "Downloading data for HII\n"
     ]
    },
    {
     "name": "stderr",
     "output_type": "stream",
     "text": [
      "[*********************100%%**********************]  1 of 1 completed\n"
     ]
    },
    {
     "name": "stdout",
     "output_type": "stream",
     "text": [
      "Downloading data for ALLE\n"
     ]
    },
    {
     "name": "stderr",
     "output_type": "stream",
     "text": [
      "[*********************100%%**********************]  1 of 1 completed\n"
     ]
    },
    {
     "name": "stdout",
     "output_type": "stream",
     "text": [
      "Downloading data for FFIV\n"
     ]
    },
    {
     "name": "stderr",
     "output_type": "stream",
     "text": [
      "[*********************100%%**********************]  1 of 1 completed\n"
     ]
    },
    {
     "name": "stdout",
     "output_type": "stream",
     "text": [
      "Downloading data for CPT\n"
     ]
    },
    {
     "name": "stderr",
     "output_type": "stream",
     "text": [
      "[*********************100%%**********************]  1 of 1 completed\n"
     ]
    },
    {
     "name": "stdout",
     "output_type": "stream",
     "text": [
      "Downloading data for BBWI\n"
     ]
    },
    {
     "name": "stderr",
     "output_type": "stream",
     "text": [
      "[*********************100%%**********************]  1 of 1 completed\n"
     ]
    },
    {
     "name": "stdout",
     "output_type": "stream",
     "text": [
      "Downloading data for HRL\n"
     ]
    },
    {
     "name": "stderr",
     "output_type": "stream",
     "text": [
      "[*********************100%%**********************]  1 of 1 completed\n"
     ]
    },
    {
     "name": "stdout",
     "output_type": "stream",
     "text": [
      "Downloading data for AOS\n"
     ]
    },
    {
     "name": "stderr",
     "output_type": "stream",
     "text": [
      "[*********************100%%**********************]  1 of 1 completed\n"
     ]
    },
    {
     "name": "stdout",
     "output_type": "stream",
     "text": [
      "Downloading data for UHS\n"
     ]
    },
    {
     "name": "stderr",
     "output_type": "stream",
     "text": [
      "[*********************100%%**********************]  1 of 1 completed\n"
     ]
    },
    {
     "name": "stdout",
     "output_type": "stream",
     "text": [
      "Downloading data for TECH\n"
     ]
    },
    {
     "name": "stderr",
     "output_type": "stream",
     "text": [
      "[*********************100%%**********************]  1 of 1 completed\n",
      "[*********************100%%**********************]  1 of 1 completed"
     ]
    },
    {
     "name": "stdout",
     "output_type": "stream",
     "text": [
      "Downloading data for CTLT\n"
     ]
    },
    {
     "name": "stderr",
     "output_type": "stream",
     "text": [
      "\n"
     ]
    },
    {
     "name": "stdout",
     "output_type": "stream",
     "text": [
      "Downloading data for APA\n"
     ]
    },
    {
     "name": "stderr",
     "output_type": "stream",
     "text": [
      "[*********************100%%**********************]  1 of 1 completed\n"
     ]
    },
    {
     "name": "stdout",
     "output_type": "stream",
     "text": [
      "Downloading data for MOS\n"
     ]
    },
    {
     "name": "stderr",
     "output_type": "stream",
     "text": [
      "[*********************100%%**********************]  1 of 1 completed\n"
     ]
    },
    {
     "name": "stdout",
     "output_type": "stream",
     "text": [
      "Downloading data for TFX\n"
     ]
    },
    {
     "name": "stderr",
     "output_type": "stream",
     "text": [
      "[*********************100%%**********************]  1 of 1 completed\n"
     ]
    },
    {
     "name": "stdout",
     "output_type": "stream",
     "text": [
      "Downloading data for INCY\n"
     ]
    },
    {
     "name": "stderr",
     "output_type": "stream",
     "text": [
      "[*********************100%%**********************]  1 of 1 completed\n"
     ]
    },
    {
     "name": "stdout",
     "output_type": "stream",
     "text": [
      "Downloading data for REG\n"
     ]
    },
    {
     "name": "stderr",
     "output_type": "stream",
     "text": [
      "[*********************100%%**********************]  1 of 1 completed\n"
     ]
    },
    {
     "name": "stdout",
     "output_type": "stream",
     "text": [
      "Downloading data for HSIC\n"
     ]
    },
    {
     "name": "stderr",
     "output_type": "stream",
     "text": [
      "[*********************100%%**********************]  1 of 1 completed\n",
      "[*********************100%%**********************]  1 of 1 completed"
     ]
    },
    {
     "name": "stdout",
     "output_type": "stream",
     "text": [
      "Downloading data for DAY\n"
     ]
    },
    {
     "name": "stderr",
     "output_type": "stream",
     "text": [
      "\n",
      "[*********************100%%**********************]  1 of 1 completed"
     ]
    },
    {
     "name": "stdout",
     "output_type": "stream",
     "text": [
      "Downloading data for NWSA\n"
     ]
    },
    {
     "name": "stderr",
     "output_type": "stream",
     "text": [
      "\n",
      "[*********************100%%**********************]  1 of 1 completed"
     ]
    },
    {
     "name": "stdout",
     "output_type": "stream",
     "text": [
      "Downloading data for PAYC\n"
     ]
    },
    {
     "name": "stderr",
     "output_type": "stream",
     "text": [
      "\n"
     ]
    },
    {
     "name": "stdout",
     "output_type": "stream",
     "text": [
      "Downloading data for WYNN\n"
     ]
    },
    {
     "name": "stderr",
     "output_type": "stream",
     "text": [
      "[*********************100%%**********************]  1 of 1 completed\n"
     ]
    },
    {
     "name": "stdout",
     "output_type": "stream",
     "text": [
      "Downloading data for TPR\n"
     ]
    },
    {
     "name": "stderr",
     "output_type": "stream",
     "text": [
      "[*********************100%%**********************]  1 of 1 completed\n"
     ]
    },
    {
     "name": "stdout",
     "output_type": "stream",
     "text": [
      "Downloading data for AIZ\n"
     ]
    },
    {
     "name": "stderr",
     "output_type": "stream",
     "text": [
      "[*********************100%%**********************]  1 of 1 completed\n"
     ]
    },
    {
     "name": "stdout",
     "output_type": "stream",
     "text": [
      "Downloading data for AAL\n"
     ]
    },
    {
     "name": "stderr",
     "output_type": "stream",
     "text": [
      "[*********************100%%**********************]  1 of 1 completed\n"
     ]
    },
    {
     "name": "stdout",
     "output_type": "stream",
     "text": [
      "Downloading data for SOLV\n"
     ]
    },
    {
     "name": "stderr",
     "output_type": "stream",
     "text": [
      "[*********************100%%**********************]  1 of 1 completed\n",
      "\n",
      "1 Failed download:\n",
      "['SOLV']: Exception(\"%ticker%: Data doesn't exist for startDate = 946702800, endDate = 1711944000\")\n"
     ]
    },
    {
     "name": "stdout",
     "output_type": "stream",
     "text": [
      "Downloading data for CPB\n"
     ]
    },
    {
     "name": "stderr",
     "output_type": "stream",
     "text": [
      "[*********************100%%**********************]  1 of 1 completed\n",
      "[*********************100%%**********************]  1 of 1 completed\n",
      "\n",
      "1 Failed download:\n",
      "['BF.B']: Exception('%ticker%: No price data found, symbol may be delisted (1d 2000-01-01 -> 2024-04-01)')\n"
     ]
    },
    {
     "name": "stdout",
     "output_type": "stream",
     "text": [
      "Downloading data for BF.B\n",
      "Downloading data for MTCH\n"
     ]
    },
    {
     "name": "stderr",
     "output_type": "stream",
     "text": [
      "[*********************100%%**********************]  1 of 1 completed\n"
     ]
    },
    {
     "name": "stdout",
     "output_type": "stream",
     "text": [
      "Downloading data for BXP\n"
     ]
    },
    {
     "name": "stderr",
     "output_type": "stream",
     "text": [
      "[*********************100%%**********************]  1 of 1 completed\n",
      "[*********************100%%**********************]  1 of 1 completed"
     ]
    },
    {
     "name": "stdout",
     "output_type": "stream",
     "text": [
      "Downloading data for GNRC\n"
     ]
    },
    {
     "name": "stderr",
     "output_type": "stream",
     "text": [
      "\n"
     ]
    },
    {
     "name": "stdout",
     "output_type": "stream",
     "text": [
      "Downloading data for PNW\n"
     ]
    },
    {
     "name": "stderr",
     "output_type": "stream",
     "text": [
      "[*********************100%%**********************]  1 of 1 completed\n"
     ]
    },
    {
     "name": "stdout",
     "output_type": "stream",
     "text": [
      "Downloading data for HAS\n"
     ]
    },
    {
     "name": "stderr",
     "output_type": "stream",
     "text": [
      "[*********************100%%**********************]  1 of 1 completed\n"
     ]
    },
    {
     "name": "stdout",
     "output_type": "stream",
     "text": [
      "Downloading data for CHRW\n"
     ]
    },
    {
     "name": "stderr",
     "output_type": "stream",
     "text": [
      "[*********************100%%**********************]  1 of 1 completed\n",
      "[*********************100%%**********************]  1 of 1 completed"
     ]
    },
    {
     "name": "stdout",
     "output_type": "stream",
     "text": [
      "Downloading data for ETSY\n"
     ]
    },
    {
     "name": "stderr",
     "output_type": "stream",
     "text": [
      "\n",
      "[*********************100%%**********************]  1 of 1 completed"
     ]
    },
    {
     "name": "stdout",
     "output_type": "stream",
     "text": [
      "Downloading data for NCLH\n"
     ]
    },
    {
     "name": "stderr",
     "output_type": "stream",
     "text": [
      "\n"
     ]
    },
    {
     "name": "stdout",
     "output_type": "stream",
     "text": [
      "Downloading data for BWA\n"
     ]
    },
    {
     "name": "stderr",
     "output_type": "stream",
     "text": [
      "[*********************100%%**********************]  1 of 1 completed\n",
      "[*********************100%%**********************]  1 of 1 completed"
     ]
    },
    {
     "name": "stdout",
     "output_type": "stream",
     "text": [
      "Downloading data for CZR\n"
     ]
    },
    {
     "name": "stderr",
     "output_type": "stream",
     "text": [
      "\n",
      "[*********************100%%**********************]  1 of 1 completed"
     ]
    },
    {
     "name": "stdout",
     "output_type": "stream",
     "text": [
      "Downloading data for FOXA\n"
     ]
    },
    {
     "name": "stderr",
     "output_type": "stream",
     "text": [
      "\n"
     ]
    },
    {
     "name": "stdout",
     "output_type": "stream",
     "text": [
      "Downloading data for MKTX\n"
     ]
    },
    {
     "name": "stderr",
     "output_type": "stream",
     "text": [
      "[*********************100%%**********************]  1 of 1 completed\n"
     ]
    },
    {
     "name": "stdout",
     "output_type": "stream",
     "text": [
      "Downloading data for FRT\n"
     ]
    },
    {
     "name": "stderr",
     "output_type": "stream",
     "text": [
      "[*********************100%%**********************]  1 of 1 completed\n"
     ]
    },
    {
     "name": "stdout",
     "output_type": "stream",
     "text": [
      "Downloading data for FMC\n"
     ]
    },
    {
     "name": "stderr",
     "output_type": "stream",
     "text": [
      "[*********************100%%**********************]  1 of 1 completed\n"
     ]
    },
    {
     "name": "stdout",
     "output_type": "stream",
     "text": [
      "Downloading data for RHI\n"
     ]
    },
    {
     "name": "stderr",
     "output_type": "stream",
     "text": [
      "[*********************100%%**********************]  1 of 1 completed\n"
     ]
    },
    {
     "name": "stdout",
     "output_type": "stream",
     "text": [
      "Downloading data for DVA\n"
     ]
    },
    {
     "name": "stderr",
     "output_type": "stream",
     "text": [
      "[*********************100%%**********************]  1 of 1 completed\n"
     ]
    },
    {
     "name": "stdout",
     "output_type": "stream",
     "text": [
      "Downloading data for BEN\n"
     ]
    },
    {
     "name": "stderr",
     "output_type": "stream",
     "text": [
      "[*********************100%%**********************]  1 of 1 completed\n"
     ]
    },
    {
     "name": "stdout",
     "output_type": "stream",
     "text": [
      "Downloading data for CMA\n"
     ]
    },
    {
     "name": "stderr",
     "output_type": "stream",
     "text": [
      "[*********************100%%**********************]  1 of 1 completed\n"
     ]
    },
    {
     "name": "stdout",
     "output_type": "stream",
     "text": [
      "Downloading data for IVZ\n"
     ]
    },
    {
     "name": "stderr",
     "output_type": "stream",
     "text": [
      "[*********************100%%**********************]  1 of 1 completed\n"
     ]
    },
    {
     "name": "stdout",
     "output_type": "stream",
     "text": [
      "Downloading data for RL\n"
     ]
    },
    {
     "name": "stderr",
     "output_type": "stream",
     "text": [
      "[*********************100%%**********************]  1 of 1 completed\n"
     ]
    },
    {
     "name": "stdout",
     "output_type": "stream",
     "text": [
      "Downloading data for GL\n"
     ]
    },
    {
     "name": "stderr",
     "output_type": "stream",
     "text": [
      "[*********************100%%**********************]  1 of 1 completed\n"
     ]
    },
    {
     "name": "stdout",
     "output_type": "stream",
     "text": [
      "Downloading data for MHK\n"
     ]
    },
    {
     "name": "stderr",
     "output_type": "stream",
     "text": [
      "[*********************100%%**********************]  1 of 1 completed\n"
     ]
    },
    {
     "name": "stdout",
     "output_type": "stream",
     "text": [
      "Downloading data for BIO\n"
     ]
    },
    {
     "name": "stderr",
     "output_type": "stream",
     "text": [
      "[*********************100%%**********************]  1 of 1 completed\n"
     ]
    },
    {
     "name": "stdout",
     "output_type": "stream",
     "text": [
      "Downloading data for PARA\n"
     ]
    },
    {
     "name": "stderr",
     "output_type": "stream",
     "text": [
      "[*********************100%%**********************]  1 of 1 completed\n",
      "[*********************100%%**********************]  1 of 1 completed"
     ]
    },
    {
     "name": "stdout",
     "output_type": "stream",
     "text": [
      "Downloading data for FOX\n"
     ]
    },
    {
     "name": "stderr",
     "output_type": "stream",
     "text": [
      "\n",
      "[*********************100%%**********************]  1 of 1 completed"
     ]
    },
    {
     "name": "stdout",
     "output_type": "stream",
     "text": [
      "Downloading data for NWS\n"
     ]
    },
    {
     "name": "stderr",
     "output_type": "stream",
     "text": [
      "\n"
     ]
    },
    {
     "name": "stdout",
     "output_type": "stream",
     "text": [
      "All data downloaded and saved.\n"
     ]
    }
   ],
   "source": [
    "# Split tickers into batches of 100 for we don't hit the API rate limit\n",
    "ticker_batches = [ticker_symbols[i:i + 100] for i in range(0, len(ticker_symbols), 100)]\n",
    "\n",
    "# Start and end dates\n",
    "start_date = '2000-01-01'\n",
    "end_date = '2024-04-01'\n",
    "\n",
    "# Create an empty DataFrame to store all data\n",
    "all_data = pd.DataFrame()\n",
    "\n",
    "# Loop through each batch of tickers and fetch the historical data\n",
    "for batch in ticker_batches:\n",
    "    for ticker in batch:\n",
    "        print(f\"Downloading data for {ticker}\")\n",
    "        data = yf.download(ticker, start=start_date, end=end_date)\n",
    "        data.dropna(inplace=True)  # Clean data by dropping NAs\n",
    "        data['Ticker'] = ticker  # Add a column to identify the stock\n",
    "        all_data = pd.concat([all_data, data], axis=0)\n",
    "    \n",
    "    # Save to CSV after each batch is processed\n",
    "    all_data.to_csv('data/historical_stock_data_partial.csv')\n",
    "\n",
    "    time.sleep(10)  # sleep tim to avoid hitting API rate limits\n",
    "\n",
    "# Save the final result to a CSV file\n",
    "all_data.to_csv('data/historical_stock_data_final.csv')\n",
    "\n",
    "print(\"All data downloaded and saved.\")\n"
   ]
  },
  {
   "cell_type": "markdown",
   "metadata": {},
   "source": [
    "# FEATURE ENGINEERING\n",
    "\n",
    "\n",
    "### TECHNICAL INDICATORS:\n",
    "\n",
    "* MACD (Moving Average Convergence Divergence)\n",
    "* RSI (Relative Strength Index)\n",
    "* Bollinger Bands High (the low is commented out)\n",
    "* ADX (Average Directional Index)\n",
    "* ATR (Average True Range)\n",
    "* CCI (Commodity Channel Index)\n",
    "* MFI (Money Flow Index)\n",
    "* Stochastic Oscillator\n",
    "* Keltner Channel\n",
    "* VWAP (Volume Weighted Average Price)\n",
    "* EOM (Ease Of Movement)\n",
    "* VPT (Volume Price Trend)"
   ]
  },
  {
   "cell_type": "code",
   "execution_count": null,
   "metadata": {},
   "outputs": [],
   "source": []
  },
  {
   "cell_type": "code",
   "execution_count": 57,
   "metadata": {},
   "outputs": [
    {
     "name": "stderr",
     "output_type": "stream",
     "text": [
      "[*********************100%%**********************]  1 of 1 completed\n"
     ]
    }
   ],
   "source": [
    "# 1. Download daily OHLCV for APPLE stock\n",
    "data_yf = yf.download('AAPL', start='2008-01-01', end='2024-04-25')\n",
    "\n",
    "# Preserve the original OHLCV data_yf\n",
    "ohlcv_data_yf = data_yf.copy()\n",
    "#(Open/High/Low/Close/Volume) data \n",
    "\n",
    "# 2. Clean data_yf: DROP NAs\n",
    "data_yf.dropna(inplace=True)\n",
    "\n",
    "# 3. Add technical indicators\n",
    "\n",
    "data_yf['macd'] = trend.MACD(data_yf['Close']).macd()\n",
    "data_yf['macd_signal'] = trend.MACD(data_yf['Close']).macd_signal()\n",
    "data_yf['rsi'] = momentum.RSIIndicator(data_yf['Close']).rsi()\n",
    "data_yf['bb_high'] = volatility.BollingerBands(data_yf['Close']).bollinger_hband()\n",
    "#data_yf['bb_low'] = volatility.BollingerBands(data_yf['Close']).bollinger_lband()\n",
    "data_yf['adx'] = trend.ADXIndicator(data_yf['High'], data_yf['Low'], data_yf['Close']).adx()\n",
    "data_yf['atr'] = volatility.AverageTrueRange(data_yf['High'], data_yf['Low'], data_yf['Close']).average_true_range()\n",
    "data_yf['cci'] = trend.CCIIndicator(data_yf['High'], data_yf['Low'], data_yf['Close']).cci()\n",
    "data_yf['mfi'] = volume.MFIIndicator(data_yf['High'], data_yf['Low'], data_yf['Close'], data_yf['Volume']).money_flow_index()\n",
    "data_yf['so'] = momentum.StochasticOscillator(data_yf['High'], data_yf['Low'], data_yf['Close']).stoch()\n",
    "# Add additional indicators as needed...\n",
    "# Calculate additional indicators\n",
    "data_yf['kc'] = volatility.KeltnerChannel(data_yf['High'], data_yf['Low'], data_yf['Close']).keltner_channel_mband()\n",
    "data_yf['vwap'] = volume.VolumeWeightedAveragePrice(data_yf['High'], data_yf['Low'], data_yf['Close'], data_yf['Volume']).volume_weighted_average_price()\n",
    "data_yf['eom'] = volume.EaseOfMovementIndicator(data_yf['High'], data_yf['Low'], data_yf['Close'], data_yf['Volume']).ease_of_movement()\n",
    "data_yf['vpt'] = volume.VolumePriceTrendIndicator(data_yf['Close'], data_yf['Volume']).volume_price_trend()\n",
    "\n",
    "\n",
    "\n",
    "# Momentum Indicators\n",
    "data_yf.ta.rsi(append=True)\n",
    "data_yf.ta.mfi(append=True)\n",
    "data_yf.ta.roc(append=True)\n",
    "data_yf.ta.willr(append=True)\n",
    "\n",
    "# Volume Indicators\n",
    "data_yf.ta.obv(append=True)\n",
    "\n",
    "\n",
    "\n",
    "# Volatility Indicators\n",
    "# pandas_ta doesn't seem to have NATR equivalent, but ATR is available\n",
    "\n",
    "# Average True Range (ATR)\n",
    "# ATR is a technical analysis indicator that measures market volatility by decomposing the entire range of an asset price for that period.\n",
    "# It is commonly used to understand the volatility of a stock, commodity, forex, or crypto over a given period.\n",
    "# The ATR is particularly useful in systems that need to place actual numerical values to the volatility or potential price change of an asset, often used to adjust trading systems and stop-loss orders.\n",
    "\n",
    "# Calculate ATR and add it to the DataFrame\n",
    "data_yf['atr'] = data_yf.ta.atr()\n",
    "\n",
    "# 4. Create Buy/Sell signals based on the technical indicators\n",
    "\n",
    "# Either use the indicator values directly or create signals based on the indicator values\n",
    "# depending on the strategy, we can create signals for each indicator!!\n",
    "# these signals are used to create a trading strategy and are very subjective; they might not even be useful\n",
    "# we can get rid of them.\n",
    "\n",
    "# SIGNALS for each indicator\n",
    "# Calculate the Force Index (FI)\n",
    "data_yf['fi'] = (data_yf['Close'].diff()) * data_yf['Volume']\n",
    "\n",
    "# Create a Buy/Sell/Hold Signal for FI\n",
    "data_yf['fi_buy_signal'] = np.where(data_yf['fi'] > 0, 1, 0)  # Buy if FI is positive\n",
    "data_yf['fi_sell_signal'] = np.where(data_yf['fi'] < 0, 1, 0)  # Sell if FI is negative\n",
    "\n",
    "# MACD signal\n",
    "data_yf['macd_buy_signal'] = np.where(data_yf['macd'] > 0, 1, 0)\n",
    "data_yf['macd_sell_signal'] = np.where(data_yf['macd'] < 0, 1, 0)\n",
    "\n",
    "# RSI signal\n",
    "data_yf['rsi_buy_signal'] = np.where(data_yf['rsi'] < 30, 1, 0)\n",
    "data_yf['rsi_sell_signal'] = np.where(data_yf['rsi'] > 70, 1, 0)\n",
    "\n",
    "# Stochastic Oscillator signal\n",
    "data_yf['so_buy_signal'] = np.where(data_yf['so'] < 20, 1, 0)\n",
    "data_yf['so_sell_signal'] = np.where(data_yf['so'] > 80, 1, 0)\n",
    "\n",
    "# CCI signal\n",
    "data_yf['cci_buy_signal'] = np.where(data_yf['cci'] < -100, 1, 0)\n",
    "data_yf['cci_sell_signal'] = np.where(data_yf['cci'] > 100, 1, 0)\n",
    "\n",
    "# MFI signal\n",
    "data_yf['mfi_buy_signal'] = np.where(data_yf['mfi'] < 20, 1, 0)\n",
    "data_yf['mfi_sell_signal'] = np.where(data_yf['mfi'] > 80, 1, 0)\n",
    "\n",
    "# WILLR signal\n",
    "data_yf['WILLR_buy_signal'] = np.where(data_yf['WILLR_14'] < -80, 1, 0)\n",
    "data_yf['WILLR_sell_signal'] = np.where(data_yf['WILLR_14'] > -20, 1, 0)\n",
    "\n",
    "\n",
    "# Other indicators such as ATR, EOM, VWAP, etc., may not have clear buy/sell interpretations.\n",
    "# Depending on strategy: might want to create signals for these as well.\n",
    "\n",
    "# If suing signals, drop the original indicator columns\n",
    "# if not using signals, keep the original indicator columns\n",
    "\n",
    "# Drop the original technical indicator columns, keeping only the signal columns\n",
    "indicator_cols_to_drop = [\n",
    "    'macd', 'macd_signal', 'rsi', 'bb_high', 'adx', 'atr', 'cci', 'mfi', 'so', 'kc', 'fi', 'vwap', 'eom', 'vpt',\n",
    "    'WILLR_14', 'OBV' # pandas_ta indicators\n",
    "]\n",
    "data_yf.drop(columns=indicator_cols_to_drop, inplace=True)"
   ]
  },
  {
   "cell_type": "code",
   "execution_count": 58,
   "metadata": {},
   "outputs": [
    {
     "data": {
      "text/plain": [
       "Index(['Open', 'High', 'Low', 'Close', 'Adj Close', 'Volume', 'RSI_14',\n",
       "       'MFI_14', 'ROC_10', 'fi_buy_signal', 'fi_sell_signal',\n",
       "       'macd_buy_signal', 'macd_sell_signal', 'rsi_buy_signal',\n",
       "       'rsi_sell_signal', 'so_buy_signal', 'so_sell_signal', 'cci_buy_signal',\n",
       "       'cci_sell_signal', 'mfi_buy_signal', 'mfi_sell_signal',\n",
       "       'WILLR_buy_signal', 'WILLR_sell_signal'],\n",
       "      dtype='object')"
      ]
     },
     "execution_count": 58,
     "metadata": {},
     "output_type": "execute_result"
    }
   ],
   "source": [
    "data_yf.columns\n"
   ]
  },
  {
   "cell_type": "markdown",
   "metadata": {},
   "source": [
    "#### MOVING AVERAGES"
   ]
  },
  {
   "cell_type": "code",
   "execution_count": 59,
   "metadata": {},
   "outputs": [],
   "source": [
    "# Create lagged features for each indicator for the previous 5 days\n",
    "indicator_cols = [col for col in data_yf.columns if col not in ['win', 'gain_loss_pct', 'Open', 'High', 'Low', 'Close', 'Volume','Adj Close']]\n",
    "\n",
    "for col in indicator_cols:\n",
    "    for i in range(1, 6):\n",
    "        data_yf[f'{col}_lag_{i}'] = data_yf[col].shift(i)\n",
    "\n",
    "# Remove rows with NaN values after shifting\n",
    "data_yf.dropna(inplace=True)\n"
   ]
  },
  {
   "cell_type": "code",
   "execution_count": 60,
   "metadata": {},
   "outputs": [],
   "source": [
    "# 4. Calculate gain/loss percentage and assign -1, 0, 1\n",
    "data_yf['gain_loss_pct'] = (data_yf['Close'] - data_yf['Open']) / data_yf['Open']\n",
    "data_yf['win'] = np.where(data_yf['gain_loss_pct'] > 0.005, 1, np.where(data_yf['gain_loss_pct'] < -0.0025, 0, 0))\n",
    "\n",
    "# Drop OHLCV columns\n",
    "data_yf.drop(columns=['Open', 'High', 'Low', 'Close', 'Volume', 'Adj Close'], inplace=True)\n"
   ]
  },
  {
   "cell_type": "code",
   "execution_count": 61,
   "metadata": {},
   "outputs": [
    {
     "data": {
      "text/plain": [
       "((4087, 104),\n",
       " Index(['RSI_14', 'MFI_14', 'ROC_10', 'fi_buy_signal', 'fi_sell_signal',\n",
       "        'macd_buy_signal', 'macd_sell_signal', 'rsi_buy_signal',\n",
       "        'rsi_sell_signal', 'so_buy_signal',\n",
       "        ...\n",
       "        'WILLR_buy_signal_lag_3', 'WILLR_buy_signal_lag_4',\n",
       "        'WILLR_buy_signal_lag_5', 'WILLR_sell_signal_lag_1',\n",
       "        'WILLR_sell_signal_lag_2', 'WILLR_sell_signal_lag_3',\n",
       "        'WILLR_sell_signal_lag_4', 'WILLR_sell_signal_lag_5', 'gain_loss_pct',\n",
       "        'win'],\n",
       "       dtype='object', length=104),\n",
       "             RSI_14       MFI_14       ROC_10  fi_buy_signal  fi_sell_signal  \\\n",
       " count  4087.000000  4087.000000  4087.000000    4087.000000     4087.000000   \n",
       " mean     54.996555    53.539006     1.030595       0.525569        0.472718   \n",
       " std      13.171973    16.657557     5.901597       0.499407        0.499316   \n",
       " min      16.550367     0.000000   -32.737052       0.000000        0.000000   \n",
       " 25%      45.075708    41.291604    -2.478150       0.000000        0.000000   \n",
       " 50%      54.933892    54.044352     1.270067       1.000000        0.000000   \n",
       " 75%      64.763441    66.048092     4.792104       1.000000        1.000000   \n",
       " max      90.402160    95.233562    29.539177       1.000000        1.000000   \n",
       " \n",
       "        macd_buy_signal  macd_sell_signal  rsi_buy_signal  rsi_sell_signal  \\\n",
       " count      4087.000000       4087.000000     4087.000000      4087.000000   \n",
       " mean          0.640323          0.358209        0.026181         0.139222   \n",
       " std           0.479964          0.479533        0.159692         0.346220   \n",
       " min           0.000000          0.000000        0.000000         0.000000   \n",
       " 25%           0.000000          0.000000        0.000000         0.000000   \n",
       " 50%           1.000000          0.000000        0.000000         0.000000   \n",
       " 75%           1.000000          1.000000        0.000000         0.000000   \n",
       " max           1.000000          1.000000        1.000000         1.000000   \n",
       " \n",
       "        so_buy_signal  ...  WILLR_buy_signal_lag_3  WILLR_buy_signal_lag_4  \\\n",
       " count    4087.000000  ...             4087.000000             4087.000000   \n",
       " mean        0.155126  ...                0.155371                0.155371   \n",
       " std         0.362069  ...                0.362302                0.362302   \n",
       " min         0.000000  ...                0.000000                0.000000   \n",
       " 25%         0.000000  ...                0.000000                0.000000   \n",
       " 50%         0.000000  ...                0.000000                0.000000   \n",
       " 75%         0.000000  ...                0.000000                0.000000   \n",
       " max         1.000000  ...                1.000000                1.000000   \n",
       " \n",
       "        WILLR_buy_signal_lag_5  WILLR_sell_signal_lag_1  \\\n",
       " count             4087.000000              4087.000000   \n",
       " mean                 0.155371                 0.353560   \n",
       " std                  0.362302                 0.478133   \n",
       " min                  0.000000                 0.000000   \n",
       " 25%                  0.000000                 0.000000   \n",
       " 50%                  0.000000                 0.000000   \n",
       " 75%                  0.000000                 1.000000   \n",
       " max                  1.000000                 1.000000   \n",
       " \n",
       "        WILLR_sell_signal_lag_2  WILLR_sell_signal_lag_3  \\\n",
       " count              4087.000000              4087.000000   \n",
       " mean                  0.353560                 0.353560   \n",
       " std                   0.478133                 0.478133   \n",
       " min                   0.000000                 0.000000   \n",
       " 25%                   0.000000                 0.000000   \n",
       " 50%                   0.000000                 0.000000   \n",
       " 75%                   1.000000                 1.000000   \n",
       " max                   1.000000                 1.000000   \n",
       " \n",
       "        WILLR_sell_signal_lag_4  WILLR_sell_signal_lag_5  gain_loss_pct  \\\n",
       " count              4087.000000              4087.000000    4087.000000   \n",
       " mean                  0.353560                 0.353560       0.000404   \n",
       " std                   0.478133                 0.478133       0.015707   \n",
       " min                   0.000000                 0.000000      -0.120047   \n",
       " 25%                   0.000000                 0.000000      -0.007618   \n",
       " 50%                   0.000000                 0.000000       0.000639   \n",
       " 75%                   1.000000                 1.000000       0.008931   \n",
       " max                   1.000000                 1.000000       0.129522   \n",
       " \n",
       "                win  \n",
       " count  4087.000000  \n",
       " mean      0.354049  \n",
       " std       0.478283  \n",
       " min       0.000000  \n",
       " 25%       0.000000  \n",
       " 50%       0.000000  \n",
       " 75%       1.000000  \n",
       " max       1.000000  \n",
       " \n",
       " [8 rows x 104 columns])"
      ]
     },
     "execution_count": 61,
     "metadata": {},
     "output_type": "execute_result"
    }
   ],
   "source": [
    "data_yf.shape, data_yf.columns, data_yf.describe()"
   ]
  },
  {
   "cell_type": "markdown",
   "metadata": {},
   "source": [
    "Next steps:\n",
    "\n",
    "1. create functions to request a list of 100 stocks and get comprehensive data from alpha vantage\n",
    "2. compare the data sources between AV and YF and decide what info to merge\n",
    "3. decide how to incorporate the financials from each stock (meaning we get quarterly data for example for APPLE in the dataframe: `apple_quarterly_reports` ) this data has dimensions: 58x29 , therefore not sure how to incorporate it whith dataframe 15306 x 5\n"
   ]
  },
  {
   "cell_type": "code",
   "execution_count": null,
   "metadata": {},
   "outputs": [],
   "source": [
    "#Need a train loader and a test loader\n",
    "#Need to convert to optDataset, then wrap with DataLoader"
   ]
  },
  {
   "cell_type": "markdown",
   "metadata": {},
   "source": [
    "# COMBINING DATA "
   ]
  },
  {
   "cell_type": "code",
   "execution_count": 65,
   "metadata": {},
   "outputs": [],
   "source": [
    "apple_data = pd.merge_asof(stockpricefull.sort_index(), data_yf.sort_index(), left_index=True, right_index=True, direction='nearest')"
   ]
  },
  {
   "cell_type": "code",
   "execution_count": 69,
   "metadata": {},
   "outputs": [
    {
     "data": {
      "text/html": [
       "<div>\n",
       "<style scoped>\n",
       "    .dataframe tbody tr th:only-of-type {\n",
       "        vertical-align: middle;\n",
       "    }\n",
       "\n",
       "    .dataframe tbody tr th {\n",
       "        vertical-align: top;\n",
       "    }\n",
       "\n",
       "    .dataframe thead th {\n",
       "        text-align: right;\n",
       "    }\n",
       "</style>\n",
       "<table border=\"1\" class=\"dataframe\">\n",
       "  <thead>\n",
       "    <tr style=\"text-align: right;\">\n",
       "      <th></th>\n",
       "      <th>Open</th>\n",
       "      <th>High</th>\n",
       "      <th>Low</th>\n",
       "      <th>Close</th>\n",
       "      <th>Volume</th>\n",
       "      <th>RSI_14</th>\n",
       "      <th>MFI_14</th>\n",
       "      <th>ROC_10</th>\n",
       "      <th>fi_buy_signal</th>\n",
       "      <th>fi_sell_signal</th>\n",
       "      <th>...</th>\n",
       "      <th>WILLR_buy_signal_lag_3</th>\n",
       "      <th>WILLR_buy_signal_lag_4</th>\n",
       "      <th>WILLR_buy_signal_lag_5</th>\n",
       "      <th>WILLR_sell_signal_lag_1</th>\n",
       "      <th>WILLR_sell_signal_lag_2</th>\n",
       "      <th>WILLR_sell_signal_lag_3</th>\n",
       "      <th>WILLR_sell_signal_lag_4</th>\n",
       "      <th>WILLR_sell_signal_lag_5</th>\n",
       "      <th>gain_loss_pct</th>\n",
       "      <th>win</th>\n",
       "    </tr>\n",
       "    <tr>\n",
       "      <th>date</th>\n",
       "      <th></th>\n",
       "      <th></th>\n",
       "      <th></th>\n",
       "      <th></th>\n",
       "      <th></th>\n",
       "      <th></th>\n",
       "      <th></th>\n",
       "      <th></th>\n",
       "      <th></th>\n",
       "      <th></th>\n",
       "      <th></th>\n",
       "      <th></th>\n",
       "      <th></th>\n",
       "      <th></th>\n",
       "      <th></th>\n",
       "      <th></th>\n",
       "      <th></th>\n",
       "      <th></th>\n",
       "      <th></th>\n",
       "      <th></th>\n",
       "      <th></th>\n",
       "    </tr>\n",
       "  </thead>\n",
       "  <tbody>\n",
       "    <tr>\n",
       "      <th>2024-04-01 04:00:00</th>\n",
       "      <td>172.02</td>\n",
       "      <td>172.02</td>\n",
       "      <td>171.40</td>\n",
       "      <td>171.52</td>\n",
       "      <td>3307.0</td>\n",
       "      <td>40.168189</td>\n",
       "      <td>33.69034</td>\n",
       "      <td>-1.500403</td>\n",
       "      <td>0</td>\n",
       "      <td>1</td>\n",
       "      <td>...</td>\n",
       "      <td>1.0</td>\n",
       "      <td>0.0</td>\n",
       "      <td>0.0</td>\n",
       "      <td>0.0</td>\n",
       "      <td>0.0</td>\n",
       "      <td>0.0</td>\n",
       "      <td>0.0</td>\n",
       "      <td>0.0</td>\n",
       "      <td>-0.006776</td>\n",
       "      <td>0</td>\n",
       "    </tr>\n",
       "    <tr>\n",
       "      <th>2024-04-01 04:01:00</th>\n",
       "      <td>171.65</td>\n",
       "      <td>171.76</td>\n",
       "      <td>171.49</td>\n",
       "      <td>171.70</td>\n",
       "      <td>1159.0</td>\n",
       "      <td>40.168189</td>\n",
       "      <td>33.69034</td>\n",
       "      <td>-1.500403</td>\n",
       "      <td>0</td>\n",
       "      <td>1</td>\n",
       "      <td>...</td>\n",
       "      <td>1.0</td>\n",
       "      <td>0.0</td>\n",
       "      <td>0.0</td>\n",
       "      <td>0.0</td>\n",
       "      <td>0.0</td>\n",
       "      <td>0.0</td>\n",
       "      <td>0.0</td>\n",
       "      <td>0.0</td>\n",
       "      <td>-0.006776</td>\n",
       "      <td>0</td>\n",
       "    </tr>\n",
       "    <tr>\n",
       "      <th>2024-04-01 04:02:00</th>\n",
       "      <td>171.70</td>\n",
       "      <td>171.79</td>\n",
       "      <td>171.56</td>\n",
       "      <td>171.79</td>\n",
       "      <td>1823.0</td>\n",
       "      <td>40.168189</td>\n",
       "      <td>33.69034</td>\n",
       "      <td>-1.500403</td>\n",
       "      <td>0</td>\n",
       "      <td>1</td>\n",
       "      <td>...</td>\n",
       "      <td>1.0</td>\n",
       "      <td>0.0</td>\n",
       "      <td>0.0</td>\n",
       "      <td>0.0</td>\n",
       "      <td>0.0</td>\n",
       "      <td>0.0</td>\n",
       "      <td>0.0</td>\n",
       "      <td>0.0</td>\n",
       "      <td>-0.006776</td>\n",
       "      <td>0</td>\n",
       "    </tr>\n",
       "    <tr>\n",
       "      <th>2024-04-01 04:03:00</th>\n",
       "      <td>171.79</td>\n",
       "      <td>171.86</td>\n",
       "      <td>171.74</td>\n",
       "      <td>171.83</td>\n",
       "      <td>354.0</td>\n",
       "      <td>40.168189</td>\n",
       "      <td>33.69034</td>\n",
       "      <td>-1.500403</td>\n",
       "      <td>0</td>\n",
       "      <td>1</td>\n",
       "      <td>...</td>\n",
       "      <td>1.0</td>\n",
       "      <td>0.0</td>\n",
       "      <td>0.0</td>\n",
       "      <td>0.0</td>\n",
       "      <td>0.0</td>\n",
       "      <td>0.0</td>\n",
       "      <td>0.0</td>\n",
       "      <td>0.0</td>\n",
       "      <td>-0.006776</td>\n",
       "      <td>0</td>\n",
       "    </tr>\n",
       "    <tr>\n",
       "      <th>2024-04-01 04:04:00</th>\n",
       "      <td>171.86</td>\n",
       "      <td>171.86</td>\n",
       "      <td>171.79</td>\n",
       "      <td>171.83</td>\n",
       "      <td>580.0</td>\n",
       "      <td>40.168189</td>\n",
       "      <td>33.69034</td>\n",
       "      <td>-1.500403</td>\n",
       "      <td>0</td>\n",
       "      <td>1</td>\n",
       "      <td>...</td>\n",
       "      <td>1.0</td>\n",
       "      <td>0.0</td>\n",
       "      <td>0.0</td>\n",
       "      <td>0.0</td>\n",
       "      <td>0.0</td>\n",
       "      <td>0.0</td>\n",
       "      <td>0.0</td>\n",
       "      <td>0.0</td>\n",
       "      <td>-0.006776</td>\n",
       "      <td>0</td>\n",
       "    </tr>\n",
       "  </tbody>\n",
       "</table>\n",
       "<p>5 rows × 109 columns</p>\n",
       "</div>"
      ],
      "text/plain": [
       "                       Open    High     Low   Close  Volume     RSI_14  \\\n",
       "date                                                                     \n",
       "2024-04-01 04:00:00  172.02  172.02  171.40  171.52  3307.0  40.168189   \n",
       "2024-04-01 04:01:00  171.65  171.76  171.49  171.70  1159.0  40.168189   \n",
       "2024-04-01 04:02:00  171.70  171.79  171.56  171.79  1823.0  40.168189   \n",
       "2024-04-01 04:03:00  171.79  171.86  171.74  171.83   354.0  40.168189   \n",
       "2024-04-01 04:04:00  171.86  171.86  171.79  171.83   580.0  40.168189   \n",
       "\n",
       "                       MFI_14    ROC_10  fi_buy_signal  fi_sell_signal  ...  \\\n",
       "date                                                                    ...   \n",
       "2024-04-01 04:00:00  33.69034 -1.500403              0               1  ...   \n",
       "2024-04-01 04:01:00  33.69034 -1.500403              0               1  ...   \n",
       "2024-04-01 04:02:00  33.69034 -1.500403              0               1  ...   \n",
       "2024-04-01 04:03:00  33.69034 -1.500403              0               1  ...   \n",
       "2024-04-01 04:04:00  33.69034 -1.500403              0               1  ...   \n",
       "\n",
       "                     WILLR_buy_signal_lag_3  WILLR_buy_signal_lag_4  \\\n",
       "date                                                                  \n",
       "2024-04-01 04:00:00                     1.0                     0.0   \n",
       "2024-04-01 04:01:00                     1.0                     0.0   \n",
       "2024-04-01 04:02:00                     1.0                     0.0   \n",
       "2024-04-01 04:03:00                     1.0                     0.0   \n",
       "2024-04-01 04:04:00                     1.0                     0.0   \n",
       "\n",
       "                     WILLR_buy_signal_lag_5  WILLR_sell_signal_lag_1  \\\n",
       "date                                                                   \n",
       "2024-04-01 04:00:00                     0.0                      0.0   \n",
       "2024-04-01 04:01:00                     0.0                      0.0   \n",
       "2024-04-01 04:02:00                     0.0                      0.0   \n",
       "2024-04-01 04:03:00                     0.0                      0.0   \n",
       "2024-04-01 04:04:00                     0.0                      0.0   \n",
       "\n",
       "                     WILLR_sell_signal_lag_2  WILLR_sell_signal_lag_3  \\\n",
       "date                                                                    \n",
       "2024-04-01 04:00:00                      0.0                      0.0   \n",
       "2024-04-01 04:01:00                      0.0                      0.0   \n",
       "2024-04-01 04:02:00                      0.0                      0.0   \n",
       "2024-04-01 04:03:00                      0.0                      0.0   \n",
       "2024-04-01 04:04:00                      0.0                      0.0   \n",
       "\n",
       "                     WILLR_sell_signal_lag_4  WILLR_sell_signal_lag_5  \\\n",
       "date                                                                    \n",
       "2024-04-01 04:00:00                      0.0                      0.0   \n",
       "2024-04-01 04:01:00                      0.0                      0.0   \n",
       "2024-04-01 04:02:00                      0.0                      0.0   \n",
       "2024-04-01 04:03:00                      0.0                      0.0   \n",
       "2024-04-01 04:04:00                      0.0                      0.0   \n",
       "\n",
       "                     gain_loss_pct  win  \n",
       "date                                     \n",
       "2024-04-01 04:00:00      -0.006776    0  \n",
       "2024-04-01 04:01:00      -0.006776    0  \n",
       "2024-04-01 04:02:00      -0.006776    0  \n",
       "2024-04-01 04:03:00      -0.006776    0  \n",
       "2024-04-01 04:04:00      -0.006776    0  \n",
       "\n",
       "[5 rows x 109 columns]"
      ]
     },
     "execution_count": 69,
     "metadata": {},
     "output_type": "execute_result"
    }
   ],
   "source": [
    "apple_data.head()"
   ]
  },
  {
   "cell_type": "code",
   "execution_count": null,
   "metadata": {},
   "outputs": [],
   "source": [
    "!pip install PyPl gurobipy pyepo"
   ]
  },
  {
   "cell_type": "code",
   "execution_count": null,
   "metadata": {},
   "outputs": [],
   "source": [
    "import torch.nn.functional as F\n",
    "from torch import nn\n",
    "import torch \n",
    "class StockLSTM(nn.Module):\n",
    "\n",
    "    def __init__(self, vocab_size, embedding_dim, hidden_dim, num_layers=1):\n",
    "        super(StockLSTM, self).__init__()\n",
    "        self.embedding = nn.Embedding(vocab_size, embedding_dim)\n",
    "        self.lstm = nn.LSTM(embedding_dim, hidden_dim,num_layers=num_layers, batch_first=True)\n",
    "        self.fc = nn.Linear(hidden_dim, vocab_size)\n",
    "\n",
    "    def forward(self, x):\n",
    "        x = self.embedding(x)\n",
    "        all_h, (h, c) = self.lstm(x)\n",
    "        out = self.fc(all_h) # Apply Linear layer to outputs from all the hidden state.\n",
    "        return out"
   ]
  },
  {
   "cell_type": "code",
   "execution_count": null,
   "metadata": {},
   "outputs": [
    {
     "name": "stdout",
     "output_type": "stream",
     "text": [
      "Auto-Sklearn cannot be imported.\n",
      "Restricted license - for non-production use only - expires 2025-11-24\n"
     ]
    }
   ],
   "source": [
    "import gurobipy as gp\n",
    "from gurobipy import GRB\n",
    "import numpy as np\n",
    "import pyepo\n",
    "from pyepo.model.grb import optGrbModel\n",
    "import torch\n",
    "from torch import nn\n",
    "from torch.utils.data import DataLoader\n",
    "\n",
    "m = 50 # change based on number of assets\n",
    "cov = np.cov(np.random.randn(10, m), rowvar=False) # covariance matrix\n",
    "optmodel = pyepo.model.grb.portfolioModel(m, cov) # build model"
   ]
  },
  {
   "cell_type": "code",
   "execution_count": null,
   "metadata": {},
   "outputs": [],
   "source": [
    "import time\n",
    "\n",
    "# train model\n",
    "def trainModel(reg, loss_func, method_name, num_epochs=20, lr=1e-2):\n",
    "    # set adam optimizer\n",
    "    optimizer = torch.optim.Adam(reg.parameters(), lr=lr)\n",
    "    # train mode\n",
    "    reg.train()\n",
    "    # init log\n",
    "    train_loss_log = []\n",
    "    loss_log_regret = [pyepo.metric.regret(reg, optmodel, loader_test)]\n",
    "    # init elpased time\n",
    "    elapsed = 0\n",
    "    for epoch in range(num_epochs):\n",
    "        # start timing\n",
    "        tick = time.time()\n",
    "        # load data\n",
    "        train_loss = 0\n",
    "        for i, data in enumerate(loader_train):\n",
    "            x, c, w, z = data\n",
    "            # cuda\n",
    "            if torch.cuda.is_available():\n",
    "                x, c, w, z = x.cuda(), c.cuda(), w.cuda(), z.cuda()\n",
    "            # forward pass\n",
    "            cp = reg(x)\n",
    "            if method_name == \"spo+\":\n",
    "                loss = loss_func(cp, c, w, z)\n",
    "            elif method_name == \"mse\":\n",
    "                loss = loss_func(cp, c)\n",
    "            else:\n",
    "                raise ValueError(\"Method name {} not supported\".format(method_name))\n",
    "            # backward pass\n",
    "            optimizer.zero_grad()\n",
    "            loss.backward()\n",
    "            optimizer.step()\n",
    "            # record time\n",
    "            tock = time.time()\n",
    "            elapsed += tock - tick\n",
    "            train_loss += loss.item()\n",
    "        train_loss /= len(loader_train)\n",
    "        train_loss_log.append(train_loss)\n",
    "        regret = pyepo.metric.regret(reg, optmodel, loader_test)\n",
    "        loss_log_regret.append(regret)\n",
    "        print(\"Epoch {:2},  Loss: {:9.4f},  Regret: {:7.4f}%\".format(epoch+1, train_loss, regret*100))\n",
    "    print(\"Total Elapsed Time: {:.2f} Sec.\".format(elapsed))\n",
    "    return train_loss_log, loss_log_regret"
   ]
  },
  {
   "cell_type": "code",
   "execution_count": null,
   "metadata": {},
   "outputs": [],
   "source": [
    "\n",
    "spop = pyepo.func.SPOPlus(optmodel, processes=1)"
   ]
  },
  {
   "cell_type": "code",
   "execution_count": null,
   "metadata": {},
   "outputs": [],
   "source": [
    "# Hyperparameters\n",
    "VOCAB_SIZE = #fill in once data is imported\n",
    "EMBEDDING_DIM = #param we can optimize\n",
    "HIDDEN_DIM = #also a param to optimize\n",
    "learning_rate = #another optimizable param\n",
    "epoch = #optimize\n",
    "num_layers = #optimize\n",
    "epochs = 20\n",
    "learning_rate = 2e-3\n",
    "method_name = \"spo+\"\n",
    "\n",
    "# Instantiate the model\n",
    "lstm = StockLSTM(VOCAB_SIZE, EMBEDDING_DIM, HIDDEN_DIM,num_layers=num_layers)\n",
    "loss_log_lstm_spo, loss_log_regret_lstm_spo = trainModel(lstm, loss_func=spop, method_name=method_name)\n"
   ]
  }
 ],
 "metadata": {
  "kernelspec": {
   "display_name": "base",
   "language": "python",
   "name": "python3"
  },
  "language_info": {
   "codemirror_mode": {
    "name": "ipython",
    "version": 3
   },
   "file_extension": ".py",
   "mimetype": "text/x-python",
   "name": "python",
   "nbconvert_exporter": "python",
   "pygments_lexer": "ipython3",
   "version": "3.11.4"
  }
 },
 "nbformat": 4,
 "nbformat_minor": 2
}
